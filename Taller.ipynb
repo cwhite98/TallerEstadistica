{
 "cells": [
  {
   "cell_type": "markdown",
   "metadata": {},
   "source": [
    "Integrantes:\n",
    "- Douglas Ardila Garcés\n",
    "- Natalia Arias Lozano\n",
    "- Andrés Felipe Avendaño\n",
    "- Camila White Romero"
   ]
  },
  {
   "cell_type": "markdown",
   "metadata": {},
   "source": [
    "# Punto 2"
   ]
  },
  {
   "cell_type": "code",
   "execution_count": 1,
   "metadata": {},
   "outputs": [],
   "source": [
    "from sklearn.neighbors import KNeighborsClassifier\n",
    "import numpy as np\n",
    "import matplotlib.pyplot as plt\n",
    "import pandas as pd"
   ]
  },
  {
   "cell_type": "code",
   "execution_count": 2,
   "metadata": {},
   "outputs": [],
   "source": [
    "X = np.array([\n",
    "    [0.8, 0.8],\n",
    "    [0.8, 1.2],\n",
    "    [3.8, 2.8],\n",
    "    [4.2, 3.2],\n",
    "    [1, 1],\n",
    "    [1.2, 1.2],\n",
    "    [4.2, 2.8],\n",
    "    [4.4, 2.8],\n",
    "    [3.5, 1],\n",
    "    [4, 1],\n",
    "    [3.8, 0.5],\n",
    "    [4, 0.7]\n",
    "])\n",
    "y = np.array([\n",
    "    [1],\n",
    "    [1],\n",
    "    [2],\n",
    "    [2],\n",
    "    [1],\n",
    "    [1],\n",
    "    [2],\n",
    "    [2],\n",
    "    [3],\n",
    "    [3],\n",
    "    [3],\n",
    "    [3]\n",
    "])"
   ]
  },
  {
   "cell_type": "code",
   "execution_count": 3,
   "metadata": {},
   "outputs": [],
   "source": [
    "df = pd.DataFrame(X, columns=['x1', 'x2'])\n",
    "df['y'] = y"
   ]
  },
  {
   "cell_type": "code",
   "execution_count": 4,
   "metadata": {},
   "outputs": [
    {
     "output_type": "execute_result",
     "data": {
      "text/plain": [
       "<matplotlib.collections.PathCollection at 0x1338eea4c48>"
      ]
     },
     "metadata": {},
     "execution_count": 4
    },
    {
     "output_type": "display_data",
     "data": {
      "text/plain": "<Figure size 432x288 with 1 Axes>",
      "image/svg+xml": "<?xml version=\"1.0\" encoding=\"utf-8\" standalone=\"no\"?>\r\n<!DOCTYPE svg PUBLIC \"-//W3C//DTD SVG 1.1//EN\"\r\n  \"http://www.w3.org/Graphics/SVG/1.1/DTD/svg11.dtd\">\r\n<!-- Created with matplotlib (https://matplotlib.org/) -->\r\n<svg height=\"248.518125pt\" version=\"1.1\" viewBox=\"0 0 372.913438 248.518125\" width=\"372.913438pt\" xmlns=\"http://www.w3.org/2000/svg\" xmlns:xlink=\"http://www.w3.org/1999/xlink\">\r\n <defs>\r\n  <style type=\"text/css\">\r\n*{stroke-linecap:butt;stroke-linejoin:round;}\r\n  </style>\r\n </defs>\r\n <g id=\"figure_1\">\r\n  <g id=\"patch_1\">\r\n   <path d=\"M 0 248.518125 \r\nL 372.913438 248.518125 \r\nL 372.913438 0 \r\nL 0 0 \r\nz\r\n\" style=\"fill:none;\"/>\r\n  </g>\r\n  <g id=\"axes_1\">\r\n   <g id=\"patch_2\">\r\n    <path d=\"M 30.103125 224.64 \r\nL 364.903125 224.64 \r\nL 364.903125 7.2 \r\nL 30.103125 7.2 \r\nz\r\n\" style=\"fill:#ffffff;\"/>\r\n   </g>\r\n   <g id=\"PathCollection_1\">\r\n    <defs>\r\n     <path d=\"M 0 3 \r\nC 0.795609 3 1.55874 2.683901 2.12132 2.12132 \r\nC 2.683901 1.55874 3 0.795609 3 0 \r\nC 3 -0.795609 2.683901 -1.55874 2.12132 -2.12132 \r\nC 1.55874 -2.683901 0.795609 -3 0 -3 \r\nC -0.795609 -3 -1.55874 -2.683901 -2.12132 -2.12132 \r\nC -2.683901 -1.55874 -3 -0.795609 -3 0 \r\nC -3 0.795609 -2.683901 1.55874 -2.12132 2.12132 \r\nC -1.55874 2.683901 -0.795609 3 0 3 \r\nz\r\n\" id=\"mdcb8457789\" style=\"stroke:#008000;\"/>\r\n    </defs>\r\n    <g clip-path=\"url(#p3ee1af5160)\">\r\n     <use style=\"fill:#008000;stroke:#008000;\" x=\"46.07614\" xlink:href=\"#mdcb8457789\" y=\"190.491941\"/>\r\n     <use style=\"fill:#008000;stroke:#008000;\" x=\"46.07614\" xlink:href=\"#mdcb8457789\" y=\"161.668493\"/>\r\n     <use style=\"fill:#008000;stroke:#008000;\" x=\"62.924018\" xlink:href=\"#mdcb8457789\" y=\"176.080217\"/>\r\n     <use style=\"fill:#008000;stroke:#008000;\" x=\"79.771895\" xlink:href=\"#mdcb8457789\" y=\"161.668493\"/>\r\n    </g>\r\n   </g>\r\n   <g id=\"PathCollection_2\">\r\n    <defs>\r\n     <path d=\"M 0 3 \r\nC 0.795609 3 1.55874 2.683901 2.12132 2.12132 \r\nC 2.683901 1.55874 3 0.795609 3 0 \r\nC 3 -0.795609 2.683901 -1.55874 2.12132 -2.12132 \r\nC 1.55874 -2.683901 0.795609 -3 0 -3 \r\nC -0.795609 -3 -1.55874 -2.683901 -2.12132 -2.12132 \r\nC -2.683901 -1.55874 -3 -0.795609 -3 0 \r\nC -3 0.795609 -2.683901 1.55874 -2.12132 2.12132 \r\nC -1.55874 2.683901 -0.795609 3 0 3 \r\nz\r\n\" id=\"m555bfd6fea\" style=\"stroke:#0000ff;\"/>\r\n    </defs>\r\n    <g clip-path=\"url(#p3ee1af5160)\">\r\n     <use style=\"fill:#0000ff;stroke:#0000ff;\" x=\"298.794304\" xlink:href=\"#m555bfd6fea\" y=\"46.374703\"/>\r\n     <use style=\"fill:#0000ff;stroke:#0000ff;\" x=\"332.490059\" xlink:href=\"#m555bfd6fea\" y=\"17.551255\"/>\r\n     <use style=\"fill:#0000ff;stroke:#0000ff;\" x=\"332.490059\" xlink:href=\"#m555bfd6fea\" y=\"46.374703\"/>\r\n     <use style=\"fill:#0000ff;stroke:#0000ff;\" x=\"349.337936\" xlink:href=\"#m555bfd6fea\" y=\"46.374703\"/>\r\n    </g>\r\n   </g>\r\n   <g id=\"PathCollection_3\">\r\n    <defs>\r\n     <path d=\"M 0 3 \r\nC 0.795609 3 1.55874 2.683901 2.12132 2.12132 \r\nC 2.683901 1.55874 3 0.795609 3 0 \r\nC 3 -0.795609 2.683901 -1.55874 2.12132 -2.12132 \r\nC 1.55874 -2.683901 0.795609 -3 0 -3 \r\nC -0.795609 -3 -1.55874 -2.683901 -2.12132 -2.12132 \r\nC -2.683901 -1.55874 -3 -0.795609 -3 0 \r\nC -3 0.795609 -2.683901 1.55874 -2.12132 2.12132 \r\nC -1.55874 2.683901 -0.795609 3 0 3 \r\nz\r\n\" id=\"md18ed6119a\" style=\"stroke:#bfbf00;\"/>\r\n    </defs>\r\n    <g clip-path=\"url(#p3ee1af5160)\">\r\n     <use style=\"fill:#bfbf00;stroke:#bfbf00;\" x=\"273.522487\" xlink:href=\"#md18ed6119a\" y=\"176.080217\"/>\r\n     <use style=\"fill:#bfbf00;stroke:#bfbf00;\" x=\"315.642181\" xlink:href=\"#md18ed6119a\" y=\"176.080217\"/>\r\n     <use style=\"fill:#bfbf00;stroke:#bfbf00;\" x=\"298.794304\" xlink:href=\"#md18ed6119a\" y=\"212.109527\"/>\r\n     <use style=\"fill:#bfbf00;stroke:#bfbf00;\" x=\"315.642181\" xlink:href=\"#md18ed6119a\" y=\"197.697803\"/>\r\n    </g>\r\n   </g>\r\n   <g id=\"matplotlib.axis_1\">\r\n    <g id=\"xtick_1\">\r\n     <g id=\"line2d_1\">\r\n      <defs>\r\n       <path d=\"M 0 0 \r\nL 0 3.5 \r\n\" id=\"mc9f5c54605\" style=\"stroke:#000000;stroke-width:0.8;\"/>\r\n      </defs>\r\n      <g>\r\n       <use style=\"stroke:#000000;stroke-width:0.8;\" x=\"62.924018\" xlink:href=\"#mc9f5c54605\" y=\"224.64\"/>\r\n      </g>\r\n     </g>\r\n     <g id=\"text_1\">\r\n      <!-- 1.0 -->\r\n      <defs>\r\n       <path d=\"M 12.40625 8.296875 \r\nL 28.515625 8.296875 \r\nL 28.515625 63.921875 \r\nL 10.984375 60.40625 \r\nL 10.984375 69.390625 \r\nL 28.421875 72.90625 \r\nL 38.28125 72.90625 \r\nL 38.28125 8.296875 \r\nL 54.390625 8.296875 \r\nL 54.390625 0 \r\nL 12.40625 0 \r\nz\r\n\" id=\"DejaVuSans-49\"/>\r\n       <path d=\"M 10.6875 12.40625 \r\nL 21 12.40625 \r\nL 21 0 \r\nL 10.6875 0 \r\nz\r\n\" id=\"DejaVuSans-46\"/>\r\n       <path d=\"M 31.78125 66.40625 \r\nQ 24.171875 66.40625 20.328125 58.90625 \r\nQ 16.5 51.421875 16.5 36.375 \r\nQ 16.5 21.390625 20.328125 13.890625 \r\nQ 24.171875 6.390625 31.78125 6.390625 \r\nQ 39.453125 6.390625 43.28125 13.890625 \r\nQ 47.125 21.390625 47.125 36.375 \r\nQ 47.125 51.421875 43.28125 58.90625 \r\nQ 39.453125 66.40625 31.78125 66.40625 \r\nz\r\nM 31.78125 74.21875 \r\nQ 44.046875 74.21875 50.515625 64.515625 \r\nQ 56.984375 54.828125 56.984375 36.375 \r\nQ 56.984375 17.96875 50.515625 8.265625 \r\nQ 44.046875 -1.421875 31.78125 -1.421875 \r\nQ 19.53125 -1.421875 13.0625 8.265625 \r\nQ 6.59375 17.96875 6.59375 36.375 \r\nQ 6.59375 54.828125 13.0625 64.515625 \r\nQ 19.53125 74.21875 31.78125 74.21875 \r\nz\r\n\" id=\"DejaVuSans-48\"/>\r\n      </defs>\r\n      <g transform=\"translate(54.972455 239.238437)scale(0.1 -0.1)\">\r\n       <use xlink:href=\"#DejaVuSans-49\"/>\r\n       <use x=\"63.623047\" xlink:href=\"#DejaVuSans-46\"/>\r\n       <use x=\"95.410156\" xlink:href=\"#DejaVuSans-48\"/>\r\n      </g>\r\n     </g>\r\n    </g>\r\n    <g id=\"xtick_2\">\r\n     <g id=\"line2d_2\">\r\n      <g>\r\n       <use style=\"stroke:#000000;stroke-width:0.8;\" x=\"105.043712\" xlink:href=\"#mc9f5c54605\" y=\"224.64\"/>\r\n      </g>\r\n     </g>\r\n     <g id=\"text_2\">\r\n      <!-- 1.5 -->\r\n      <defs>\r\n       <path d=\"M 10.796875 72.90625 \r\nL 49.515625 72.90625 \r\nL 49.515625 64.59375 \r\nL 19.828125 64.59375 \r\nL 19.828125 46.734375 \r\nQ 21.96875 47.46875 24.109375 47.828125 \r\nQ 26.265625 48.1875 28.421875 48.1875 \r\nQ 40.625 48.1875 47.75 41.5 \r\nQ 54.890625 34.8125 54.890625 23.390625 \r\nQ 54.890625 11.625 47.5625 5.09375 \r\nQ 40.234375 -1.421875 26.90625 -1.421875 \r\nQ 22.3125 -1.421875 17.546875 -0.640625 \r\nQ 12.796875 0.140625 7.71875 1.703125 \r\nL 7.71875 11.625 \r\nQ 12.109375 9.234375 16.796875 8.0625 \r\nQ 21.484375 6.890625 26.703125 6.890625 \r\nQ 35.15625 6.890625 40.078125 11.328125 \r\nQ 45.015625 15.765625 45.015625 23.390625 \r\nQ 45.015625 31 40.078125 35.4375 \r\nQ 35.15625 39.890625 26.703125 39.890625 \r\nQ 22.75 39.890625 18.8125 39.015625 \r\nQ 14.890625 38.140625 10.796875 36.28125 \r\nz\r\n\" id=\"DejaVuSans-53\"/>\r\n      </defs>\r\n      <g transform=\"translate(97.092149 239.238437)scale(0.1 -0.1)\">\r\n       <use xlink:href=\"#DejaVuSans-49\"/>\r\n       <use x=\"63.623047\" xlink:href=\"#DejaVuSans-46\"/>\r\n       <use x=\"95.410156\" xlink:href=\"#DejaVuSans-53\"/>\r\n      </g>\r\n     </g>\r\n    </g>\r\n    <g id=\"xtick_3\">\r\n     <g id=\"line2d_3\">\r\n      <g>\r\n       <use style=\"stroke:#000000;stroke-width:0.8;\" x=\"147.163405\" xlink:href=\"#mc9f5c54605\" y=\"224.64\"/>\r\n      </g>\r\n     </g>\r\n     <g id=\"text_3\">\r\n      <!-- 2.0 -->\r\n      <defs>\r\n       <path d=\"M 19.1875 8.296875 \r\nL 53.609375 8.296875 \r\nL 53.609375 0 \r\nL 7.328125 0 \r\nL 7.328125 8.296875 \r\nQ 12.9375 14.109375 22.625 23.890625 \r\nQ 32.328125 33.6875 34.8125 36.53125 \r\nQ 39.546875 41.84375 41.421875 45.53125 \r\nQ 43.3125 49.21875 43.3125 52.78125 \r\nQ 43.3125 58.59375 39.234375 62.25 \r\nQ 35.15625 65.921875 28.609375 65.921875 \r\nQ 23.96875 65.921875 18.8125 64.3125 \r\nQ 13.671875 62.703125 7.8125 59.421875 \r\nL 7.8125 69.390625 \r\nQ 13.765625 71.78125 18.9375 73 \r\nQ 24.125 74.21875 28.421875 74.21875 \r\nQ 39.75 74.21875 46.484375 68.546875 \r\nQ 53.21875 62.890625 53.21875 53.421875 \r\nQ 53.21875 48.921875 51.53125 44.890625 \r\nQ 49.859375 40.875 45.40625 35.40625 \r\nQ 44.1875 33.984375 37.640625 27.21875 \r\nQ 31.109375 20.453125 19.1875 8.296875 \r\nz\r\n\" id=\"DejaVuSans-50\"/>\r\n      </defs>\r\n      <g transform=\"translate(139.211843 239.238437)scale(0.1 -0.1)\">\r\n       <use xlink:href=\"#DejaVuSans-50\"/>\r\n       <use x=\"63.623047\" xlink:href=\"#DejaVuSans-46\"/>\r\n       <use x=\"95.410156\" xlink:href=\"#DejaVuSans-48\"/>\r\n      </g>\r\n     </g>\r\n    </g>\r\n    <g id=\"xtick_4\">\r\n     <g id=\"line2d_4\">\r\n      <g>\r\n       <use style=\"stroke:#000000;stroke-width:0.8;\" x=\"189.283099\" xlink:href=\"#mc9f5c54605\" y=\"224.64\"/>\r\n      </g>\r\n     </g>\r\n     <g id=\"text_4\">\r\n      <!-- 2.5 -->\r\n      <g transform=\"translate(181.331537 239.238437)scale(0.1 -0.1)\">\r\n       <use xlink:href=\"#DejaVuSans-50\"/>\r\n       <use x=\"63.623047\" xlink:href=\"#DejaVuSans-46\"/>\r\n       <use x=\"95.410156\" xlink:href=\"#DejaVuSans-53\"/>\r\n      </g>\r\n     </g>\r\n    </g>\r\n    <g id=\"xtick_5\">\r\n     <g id=\"line2d_5\">\r\n      <g>\r\n       <use style=\"stroke:#000000;stroke-width:0.8;\" x=\"231.402793\" xlink:href=\"#mc9f5c54605\" y=\"224.64\"/>\r\n      </g>\r\n     </g>\r\n     <g id=\"text_5\">\r\n      <!-- 3.0 -->\r\n      <defs>\r\n       <path d=\"M 40.578125 39.3125 \r\nQ 47.65625 37.796875 51.625 33 \r\nQ 55.609375 28.21875 55.609375 21.1875 \r\nQ 55.609375 10.40625 48.1875 4.484375 \r\nQ 40.765625 -1.421875 27.09375 -1.421875 \r\nQ 22.515625 -1.421875 17.65625 -0.515625 \r\nQ 12.796875 0.390625 7.625 2.203125 \r\nL 7.625 11.71875 \r\nQ 11.71875 9.328125 16.59375 8.109375 \r\nQ 21.484375 6.890625 26.8125 6.890625 \r\nQ 36.078125 6.890625 40.9375 10.546875 \r\nQ 45.796875 14.203125 45.796875 21.1875 \r\nQ 45.796875 27.640625 41.28125 31.265625 \r\nQ 36.765625 34.90625 28.71875 34.90625 \r\nL 20.21875 34.90625 \r\nL 20.21875 43.015625 \r\nL 29.109375 43.015625 \r\nQ 36.375 43.015625 40.234375 45.921875 \r\nQ 44.09375 48.828125 44.09375 54.296875 \r\nQ 44.09375 59.90625 40.109375 62.90625 \r\nQ 36.140625 65.921875 28.71875 65.921875 \r\nQ 24.65625 65.921875 20.015625 65.03125 \r\nQ 15.375 64.15625 9.8125 62.3125 \r\nL 9.8125 71.09375 \r\nQ 15.4375 72.65625 20.34375 73.4375 \r\nQ 25.25 74.21875 29.59375 74.21875 \r\nQ 40.828125 74.21875 47.359375 69.109375 \r\nQ 53.90625 64.015625 53.90625 55.328125 \r\nQ 53.90625 49.265625 50.4375 45.09375 \r\nQ 46.96875 40.921875 40.578125 39.3125 \r\nz\r\n\" id=\"DejaVuSans-51\"/>\r\n      </defs>\r\n      <g transform=\"translate(223.451231 239.238437)scale(0.1 -0.1)\">\r\n       <use xlink:href=\"#DejaVuSans-51\"/>\r\n       <use x=\"63.623047\" xlink:href=\"#DejaVuSans-46\"/>\r\n       <use x=\"95.410156\" xlink:href=\"#DejaVuSans-48\"/>\r\n      </g>\r\n     </g>\r\n    </g>\r\n    <g id=\"xtick_6\">\r\n     <g id=\"line2d_6\">\r\n      <g>\r\n       <use style=\"stroke:#000000;stroke-width:0.8;\" x=\"273.522487\" xlink:href=\"#mc9f5c54605\" y=\"224.64\"/>\r\n      </g>\r\n     </g>\r\n     <g id=\"text_6\">\r\n      <!-- 3.5 -->\r\n      <g transform=\"translate(265.570925 239.238437)scale(0.1 -0.1)\">\r\n       <use xlink:href=\"#DejaVuSans-51\"/>\r\n       <use x=\"63.623047\" xlink:href=\"#DejaVuSans-46\"/>\r\n       <use x=\"95.410156\" xlink:href=\"#DejaVuSans-53\"/>\r\n      </g>\r\n     </g>\r\n    </g>\r\n    <g id=\"xtick_7\">\r\n     <g id=\"line2d_7\">\r\n      <g>\r\n       <use style=\"stroke:#000000;stroke-width:0.8;\" x=\"315.642181\" xlink:href=\"#mc9f5c54605\" y=\"224.64\"/>\r\n      </g>\r\n     </g>\r\n     <g id=\"text_7\">\r\n      <!-- 4.0 -->\r\n      <defs>\r\n       <path d=\"M 37.796875 64.3125 \r\nL 12.890625 25.390625 \r\nL 37.796875 25.390625 \r\nz\r\nM 35.203125 72.90625 \r\nL 47.609375 72.90625 \r\nL 47.609375 25.390625 \r\nL 58.015625 25.390625 \r\nL 58.015625 17.1875 \r\nL 47.609375 17.1875 \r\nL 47.609375 0 \r\nL 37.796875 0 \r\nL 37.796875 17.1875 \r\nL 4.890625 17.1875 \r\nL 4.890625 26.703125 \r\nz\r\n\" id=\"DejaVuSans-52\"/>\r\n      </defs>\r\n      <g transform=\"translate(307.690619 239.238437)scale(0.1 -0.1)\">\r\n       <use xlink:href=\"#DejaVuSans-52\"/>\r\n       <use x=\"63.623047\" xlink:href=\"#DejaVuSans-46\"/>\r\n       <use x=\"95.410156\" xlink:href=\"#DejaVuSans-48\"/>\r\n      </g>\r\n     </g>\r\n    </g>\r\n    <g id=\"xtick_8\">\r\n     <g id=\"line2d_8\">\r\n      <g>\r\n       <use style=\"stroke:#000000;stroke-width:0.8;\" x=\"357.761875\" xlink:href=\"#mc9f5c54605\" y=\"224.64\"/>\r\n      </g>\r\n     </g>\r\n     <g id=\"text_8\">\r\n      <!-- 4.5 -->\r\n      <g transform=\"translate(349.810313 239.238437)scale(0.1 -0.1)\">\r\n       <use xlink:href=\"#DejaVuSans-52\"/>\r\n       <use x=\"63.623047\" xlink:href=\"#DejaVuSans-46\"/>\r\n       <use x=\"95.410156\" xlink:href=\"#DejaVuSans-53\"/>\r\n      </g>\r\n     </g>\r\n    </g>\r\n   </g>\r\n   <g id=\"matplotlib.axis_2\">\r\n    <g id=\"ytick_1\">\r\n     <g id=\"line2d_9\">\r\n      <defs>\r\n       <path d=\"M 0 0 \r\nL -3.5 0 \r\n\" id=\"mcfe9d4d033\" style=\"stroke:#000000;stroke-width:0.8;\"/>\r\n      </defs>\r\n      <g>\r\n       <use style=\"stroke:#000000;stroke-width:0.8;\" x=\"30.103125\" xlink:href=\"#mcfe9d4d033\" y=\"212.109527\"/>\r\n      </g>\r\n     </g>\r\n     <g id=\"text_9\">\r\n      <!-- 0.5 -->\r\n      <g transform=\"translate(7.2 215.908745)scale(0.1 -0.1)\">\r\n       <use xlink:href=\"#DejaVuSans-48\"/>\r\n       <use x=\"63.623047\" xlink:href=\"#DejaVuSans-46\"/>\r\n       <use x=\"95.410156\" xlink:href=\"#DejaVuSans-53\"/>\r\n      </g>\r\n     </g>\r\n    </g>\r\n    <g id=\"ytick_2\">\r\n     <g id=\"line2d_10\">\r\n      <g>\r\n       <use style=\"stroke:#000000;stroke-width:0.8;\" x=\"30.103125\" xlink:href=\"#mcfe9d4d033\" y=\"176.080217\"/>\r\n      </g>\r\n     </g>\r\n     <g id=\"text_10\">\r\n      <!-- 1.0 -->\r\n      <g transform=\"translate(7.2 179.879436)scale(0.1 -0.1)\">\r\n       <use xlink:href=\"#DejaVuSans-49\"/>\r\n       <use x=\"63.623047\" xlink:href=\"#DejaVuSans-46\"/>\r\n       <use x=\"95.410156\" xlink:href=\"#DejaVuSans-48\"/>\r\n      </g>\r\n     </g>\r\n    </g>\r\n    <g id=\"ytick_3\">\r\n     <g id=\"line2d_11\">\r\n      <g>\r\n       <use style=\"stroke:#000000;stroke-width:0.8;\" x=\"30.103125\" xlink:href=\"#mcfe9d4d033\" y=\"140.050908\"/>\r\n      </g>\r\n     </g>\r\n     <g id=\"text_11\">\r\n      <!-- 1.5 -->\r\n      <g transform=\"translate(7.2 143.850126)scale(0.1 -0.1)\">\r\n       <use xlink:href=\"#DejaVuSans-49\"/>\r\n       <use x=\"63.623047\" xlink:href=\"#DejaVuSans-46\"/>\r\n       <use x=\"95.410156\" xlink:href=\"#DejaVuSans-53\"/>\r\n      </g>\r\n     </g>\r\n    </g>\r\n    <g id=\"ytick_4\">\r\n     <g id=\"line2d_12\">\r\n      <g>\r\n       <use style=\"stroke:#000000;stroke-width:0.8;\" x=\"30.103125\" xlink:href=\"#mcfe9d4d033\" y=\"104.021598\"/>\r\n      </g>\r\n     </g>\r\n     <g id=\"text_12\">\r\n      <!-- 2.0 -->\r\n      <g transform=\"translate(7.2 107.820817)scale(0.1 -0.1)\">\r\n       <use xlink:href=\"#DejaVuSans-50\"/>\r\n       <use x=\"63.623047\" xlink:href=\"#DejaVuSans-46\"/>\r\n       <use x=\"95.410156\" xlink:href=\"#DejaVuSans-48\"/>\r\n      </g>\r\n     </g>\r\n    </g>\r\n    <g id=\"ytick_5\">\r\n     <g id=\"line2d_13\">\r\n      <g>\r\n       <use style=\"stroke:#000000;stroke-width:0.8;\" x=\"30.103125\" xlink:href=\"#mcfe9d4d033\" y=\"67.992288\"/>\r\n      </g>\r\n     </g>\r\n     <g id=\"text_13\">\r\n      <!-- 2.5 -->\r\n      <g transform=\"translate(7.2 71.791507)scale(0.1 -0.1)\">\r\n       <use xlink:href=\"#DejaVuSans-50\"/>\r\n       <use x=\"63.623047\" xlink:href=\"#DejaVuSans-46\"/>\r\n       <use x=\"95.410156\" xlink:href=\"#DejaVuSans-53\"/>\r\n      </g>\r\n     </g>\r\n    </g>\r\n    <g id=\"ytick_6\">\r\n     <g id=\"line2d_14\">\r\n      <g>\r\n       <use style=\"stroke:#000000;stroke-width:0.8;\" x=\"30.103125\" xlink:href=\"#mcfe9d4d033\" y=\"31.962979\"/>\r\n      </g>\r\n     </g>\r\n     <g id=\"text_14\">\r\n      <!-- 3.0 -->\r\n      <g transform=\"translate(7.2 35.762198)scale(0.1 -0.1)\">\r\n       <use xlink:href=\"#DejaVuSans-51\"/>\r\n       <use x=\"63.623047\" xlink:href=\"#DejaVuSans-46\"/>\r\n       <use x=\"95.410156\" xlink:href=\"#DejaVuSans-48\"/>\r\n      </g>\r\n     </g>\r\n    </g>\r\n   </g>\r\n   <g id=\"patch_3\">\r\n    <path d=\"M 30.103125 224.64 \r\nL 30.103125 7.2 \r\n\" style=\"fill:none;stroke:#000000;stroke-linecap:square;stroke-linejoin:miter;stroke-width:0.8;\"/>\r\n   </g>\r\n   <g id=\"patch_4\">\r\n    <path d=\"M 364.903125 224.64 \r\nL 364.903125 7.2 \r\n\" style=\"fill:none;stroke:#000000;stroke-linecap:square;stroke-linejoin:miter;stroke-width:0.8;\"/>\r\n   </g>\r\n   <g id=\"patch_5\">\r\n    <path d=\"M 30.103125 224.64 \r\nL 364.903125 224.64 \r\n\" style=\"fill:none;stroke:#000000;stroke-linecap:square;stroke-linejoin:miter;stroke-width:0.8;\"/>\r\n   </g>\r\n   <g id=\"patch_6\">\r\n    <path d=\"M 30.103125 7.2 \r\nL 364.903125 7.2 \r\n\" style=\"fill:none;stroke:#000000;stroke-linecap:square;stroke-linejoin:miter;stroke-width:0.8;\"/>\r\n   </g>\r\n  </g>\r\n </g>\r\n <defs>\r\n  <clipPath id=\"p3ee1af5160\">\r\n   <rect height=\"217.44\" width=\"334.8\" x=\"30.103125\" y=\"7.2\"/>\r\n  </clipPath>\r\n </defs>\r\n</svg>\r\n",
      "image/png": "[encoded data removed]"
     },
     "metadata": {
      "needs_background": "light"
     }
    }
   ],
   "source": [
    "class_1 = df[df['y']==1]\n",
    "class_2 = df[df['y']==2]\n",
    "class_3 = df[df['y']==3]\n",
    "plt.scatter(class_1['x1'], class_1['x2'], c='g', marker='o')\n",
    "plt.scatter(class_2['x1'], class_2['x2'], c='b', marker='o')\n",
    "plt.scatter(class_3['x1'], class_3['x2'], c='y', marker='o')"
   ]
  },
  {
   "source": [
    "### 1. Calcule la precisión en el conjunto de entrenamiento.\n",
    "### 2. Calcule la precisión para el punto de testeo P = (3.0, 2.0).\n",
    "### 3. Experimenta con qué valor de k se obtinen la mejor precisión.\n"
   ],
   "cell_type": "markdown",
   "metadata": {}
  },
  {
   "cell_type": "code",
   "execution_count": 5,
   "metadata": {},
   "outputs": [
    {
     "output_type": "stream",
     "name": "stdout",
     "text": [
      "\n-------------------- \nn_neighbors: 2 \nscore: 1.0 \npredict p=[3,2]: 2\n\n-------------------- \nn_neighbors: 4 \nscore: 1.0 \npredict p=[3,2]: 2\n\n-------------------- \nn_neighbors: 6 \nscore: 1.0 \npredict p=[3,2]: 2\n\n-------------------- \nn_neighbors: 8 \nscore: 0.75 \npredict p=[3,2]: 2\n\n-------------------- \nn_neighbors: 10 \nscore: 0.6666666666666666 \npredict p=[3,2]: 2\n\n-------------------- \nn_neighbors: 12 \nscore: 0.3333333333333333 \npredict p=[3,2]: 1\n"
     ]
    }
   ],
   "source": [
    "for i in range(2, 13, 2):\n",
    "    n_neighbors = i\n",
    "    neigh = KNeighborsClassifier(n_neighbors=n_neighbors, weights='uniform')\n",
    "    neigh.fit(X, y)\n",
    "    score = neigh.score(X, y)\n",
    "    predict = neigh.predict([[3,2]])\n",
    "    print('\\n--------------------', '\\nn_neighbors:', i, '\\nscore:', score, '\\npredict p=[3,2]:', predict[0])"
   ]
  },
  {
   "source": [
    "### 4. Vecinos más cercanos con distancia ponderada, Testear con el punto P(3, 2) tomando k = 1 y k = 5."
   ],
   "cell_type": "markdown",
   "metadata": {}
  },
  {
   "cell_type": "code",
   "execution_count": 6,
   "metadata": {},
   "outputs": [
    {
     "output_type": "stream",
     "name": "stdout",
     "text": [
      "\n-------------------- \nn_neighbors: 1 \nscore: 1.0 \npredict p=[3,2]: 3\n\n-------------------- \nn_neighbors: 5 \nscore: 1.0 \npredict p=[3,2]: 2\n"
     ]
    }
   ],
   "source": [
    "for i in [1, 5]:\n",
    "    n_neighbors = i\n",
    "    neigh = KNeighborsClassifier(n_neighbors=n_neighbors, weights='distance')\n",
    "    neigh.fit(X, y)\n",
    "    score = neigh.score(X, y)\n",
    "    predict = neigh.predict([[3,2]])\n",
    "    print('\\n--------------------', '\\nn_neighbors:', i, '\\nscore:', score, '\\npredict p=[3,2]:', predict[0])"
   ]
  },
  {
   "cell_type": "code",
   "execution_count": 7,
   "metadata": {},
   "outputs": [],
   "source": [
    "df = df.append({'x1': 3, 'x2':2}, ignore_index=True)"
   ]
  },
  {
   "cell_type": "code",
   "execution_count": 8,
   "metadata": {},
   "outputs": [
    {
     "output_type": "execute_result",
     "data": {
      "text/plain": [
       "<matplotlib.collections.PathCollection at 0x1338f414ec8>"
      ]
     },
     "metadata": {},
     "execution_count": 8
    },
    {
     "output_type": "display_data",
     "data": {
      "text/plain": "<Figure size 432x288 with 1 Axes>",
      "image/svg+xml": "<?xml version=\"1.0\" encoding=\"utf-8\" standalone=\"no\"?>\r\n<!DOCTYPE svg PUBLIC \"-//W3C//DTD SVG 1.1//EN\"\r\n  \"http://www.w3.org/Graphics/SVG/1.1/DTD/svg11.dtd\">\r\n<!-- Created with matplotlib (https://matplotlib.org/) -->\r\n<svg height=\"248.518125pt\" version=\"1.1\" viewBox=\"0 0 372.913438 248.518125\" width=\"372.913438pt\" xmlns=\"http://www.w3.org/2000/svg\" xmlns:xlink=\"http://www.w3.org/1999/xlink\">\r\n <defs>\r\n  <style type=\"text/css\">\r\n*{stroke-linecap:butt;stroke-linejoin:round;}\r\n  </style>\r\n </defs>\r\n <g id=\"figure_1\">\r\n  <g id=\"patch_1\">\r\n   <path d=\"M 0 248.518125 \r\nL 372.913438 248.518125 \r\nL 372.913438 0 \r\nL 0 0 \r\nz\r\n\" style=\"fill:none;\"/>\r\n  </g>\r\n  <g id=\"axes_1\">\r\n   <g id=\"patch_2\">\r\n    <path d=\"M 30.103125 224.64 \r\nL 364.903125 224.64 \r\nL 364.903125 7.2 \r\nL 30.103125 7.2 \r\nz\r\n\" style=\"fill:#ffffff;\"/>\r\n   </g>\r\n   <g id=\"PathCollection_1\">\r\n    <defs>\r\n     <path d=\"M 0 3 \r\nC 0.795609 3 1.55874 2.683901 2.12132 2.12132 \r\nC 2.683901 1.55874 3 0.795609 3 0 \r\nC 3 -0.795609 2.683901 -1.55874 2.12132 -2.12132 \r\nC 1.55874 -2.683901 0.795609 -3 0 -3 \r\nC -0.795609 -3 -1.55874 -2.683901 -2.12132 -2.12132 \r\nC -2.683901 -1.55874 -3 -0.795609 -3 0 \r\nC -3 0.795609 -2.683901 1.55874 -2.12132 2.12132 \r\nC -1.55874 2.683901 -0.795609 3 0 3 \r\nz\r\n\" id=\"m6c9011ae91\" style=\"stroke:#008000;\"/>\r\n    </defs>\r\n    <g clip-path=\"url(#pa7eefe459e)\">\r\n     <use style=\"fill:#008000;stroke:#008000;\" x=\"46.07614\" xlink:href=\"#m6c9011ae91\" y=\"190.491941\"/>\r\n     <use style=\"fill:#008000;stroke:#008000;\" x=\"46.07614\" xlink:href=\"#m6c9011ae91\" y=\"161.668493\"/>\r\n     <use style=\"fill:#008000;stroke:#008000;\" x=\"62.924018\" xlink:href=\"#m6c9011ae91\" y=\"176.080217\"/>\r\n     <use style=\"fill:#008000;stroke:#008000;\" x=\"79.771895\" xlink:href=\"#m6c9011ae91\" y=\"161.668493\"/>\r\n    </g>\r\n   </g>\r\n   <g id=\"PathCollection_2\">\r\n    <defs>\r\n     <path d=\"M 0 3 \r\nC 0.795609 3 1.55874 2.683901 2.12132 2.12132 \r\nC 2.683901 1.55874 3 0.795609 3 0 \r\nC 3 -0.795609 2.683901 -1.55874 2.12132 -2.12132 \r\nC 1.55874 -2.683901 0.795609 -3 0 -3 \r\nC -0.795609 -3 -1.55874 -2.683901 -2.12132 -2.12132 \r\nC -2.683901 -1.55874 -3 -0.795609 -3 0 \r\nC -3 0.795609 -2.683901 1.55874 -2.12132 2.12132 \r\nC -1.55874 2.683901 -0.795609 3 0 3 \r\nz\r\n\" id=\"m9fd1e94d1c\" style=\"stroke:#0000ff;\"/>\r\n    </defs>\r\n    <g clip-path=\"url(#pa7eefe459e)\">\r\n     <use style=\"fill:#0000ff;stroke:#0000ff;\" x=\"298.794304\" xlink:href=\"#m9fd1e94d1c\" y=\"46.374703\"/>\r\n     <use style=\"fill:#0000ff;stroke:#0000ff;\" x=\"332.490059\" xlink:href=\"#m9fd1e94d1c\" y=\"17.551255\"/>\r\n     <use style=\"fill:#0000ff;stroke:#0000ff;\" x=\"332.490059\" xlink:href=\"#m9fd1e94d1c\" y=\"46.374703\"/>\r\n     <use style=\"fill:#0000ff;stroke:#0000ff;\" x=\"349.337936\" xlink:href=\"#m9fd1e94d1c\" y=\"46.374703\"/>\r\n    </g>\r\n   </g>\r\n   <g id=\"PathCollection_3\">\r\n    <defs>\r\n     <path d=\"M 0 3 \r\nC 0.795609 3 1.55874 2.683901 2.12132 2.12132 \r\nC 2.683901 1.55874 3 0.795609 3 0 \r\nC 3 -0.795609 2.683901 -1.55874 2.12132 -2.12132 \r\nC 1.55874 -2.683901 0.795609 -3 0 -3 \r\nC -0.795609 -3 -1.55874 -2.683901 -2.12132 -2.12132 \r\nC -2.683901 -1.55874 -3 -0.795609 -3 0 \r\nC -3 0.795609 -2.683901 1.55874 -2.12132 2.12132 \r\nC -1.55874 2.683901 -0.795609 3 0 3 \r\nz\r\n\" id=\"mf00f5dacb6\" style=\"stroke:#bfbf00;\"/>\r\n    </defs>\r\n    <g clip-path=\"url(#pa7eefe459e)\">\r\n     <use style=\"fill:#bfbf00;stroke:#bfbf00;\" x=\"273.522487\" xlink:href=\"#mf00f5dacb6\" y=\"176.080217\"/>\r\n     <use style=\"fill:#bfbf00;stroke:#bfbf00;\" x=\"315.642181\" xlink:href=\"#mf00f5dacb6\" y=\"176.080217\"/>\r\n     <use style=\"fill:#bfbf00;stroke:#bfbf00;\" x=\"298.794304\" xlink:href=\"#mf00f5dacb6\" y=\"212.109527\"/>\r\n     <use style=\"fill:#bfbf00;stroke:#bfbf00;\" x=\"315.642181\" xlink:href=\"#mf00f5dacb6\" y=\"197.697803\"/>\r\n    </g>\r\n   </g>\r\n   <g id=\"PathCollection_4\">\r\n    <defs>\r\n     <path d=\"M 0 -3 \r\nL -0.673542 -0.927051 \r\nL -2.85317 -0.927051 \r\nL -1.089814 0.354102 \r\nL -1.763356 2.427051 \r\nL -0 1.145898 \r\nL 1.763356 2.427051 \r\nL 1.089814 0.354102 \r\nL 2.85317 -0.927051 \r\nL 0.673542 -0.927051 \r\nz\r\n\" id=\"m79173ed8e8\" style=\"stroke:#ff0000;\"/>\r\n    </defs>\r\n    <g clip-path=\"url(#pa7eefe459e)\">\r\n     <use style=\"fill:#ff0000;stroke:#ff0000;\" x=\"231.402793\" xlink:href=\"#m79173ed8e8\" y=\"104.021598\"/>\r\n    </g>\r\n   </g>\r\n   <g id=\"matplotlib.axis_1\">\r\n    <g id=\"xtick_1\">\r\n     <g id=\"line2d_1\">\r\n      <defs>\r\n       <path d=\"M 0 0 \r\nL 0 3.5 \r\n\" id=\"m30b7810caa\" style=\"stroke:#000000;stroke-width:0.8;\"/>\r\n      </defs>\r\n      <g>\r\n       <use style=\"stroke:#000000;stroke-width:0.8;\" x=\"62.924018\" xlink:href=\"#m30b7810caa\" y=\"224.64\"/>\r\n      </g>\r\n     </g>\r\n     <g id=\"text_1\">\r\n      <!-- 1.0 -->\r\n      <defs>\r\n       <path d=\"M 12.40625 8.296875 \r\nL 28.515625 8.296875 \r\nL 28.515625 63.921875 \r\nL 10.984375 60.40625 \r\nL 10.984375 69.390625 \r\nL 28.421875 72.90625 \r\nL 38.28125 72.90625 \r\nL 38.28125 8.296875 \r\nL 54.390625 8.296875 \r\nL 54.390625 0 \r\nL 12.40625 0 \r\nz\r\n\" id=\"DejaVuSans-49\"/>\r\n       <path d=\"M 10.6875 12.40625 \r\nL 21 12.40625 \r\nL 21 0 \r\nL 10.6875 0 \r\nz\r\n\" id=\"DejaVuSans-46\"/>\r\n       <path d=\"M 31.78125 66.40625 \r\nQ 24.171875 66.40625 20.328125 58.90625 \r\nQ 16.5 51.421875 16.5 36.375 \r\nQ 16.5 21.390625 20.328125 13.890625 \r\nQ 24.171875 6.390625 31.78125 6.390625 \r\nQ 39.453125 6.390625 43.28125 13.890625 \r\nQ 47.125 21.390625 47.125 36.375 \r\nQ 47.125 51.421875 43.28125 58.90625 \r\nQ 39.453125 66.40625 31.78125 66.40625 \r\nz\r\nM 31.78125 74.21875 \r\nQ 44.046875 74.21875 50.515625 64.515625 \r\nQ 56.984375 54.828125 56.984375 36.375 \r\nQ 56.984375 17.96875 50.515625 8.265625 \r\nQ 44.046875 -1.421875 31.78125 -1.421875 \r\nQ 19.53125 -1.421875 13.0625 8.265625 \r\nQ 6.59375 17.96875 6.59375 36.375 \r\nQ 6.59375 54.828125 13.0625 64.515625 \r\nQ 19.53125 74.21875 31.78125 74.21875 \r\nz\r\n\" id=\"DejaVuSans-48\"/>\r\n      </defs>\r\n      <g transform=\"translate(54.972455 239.238437)scale(0.1 -0.1)\">\r\n       <use xlink:href=\"#DejaVuSans-49\"/>\r\n       <use x=\"63.623047\" xlink:href=\"#DejaVuSans-46\"/>\r\n       <use x=\"95.410156\" xlink:href=\"#DejaVuSans-48\"/>\r\n      </g>\r\n     </g>\r\n    </g>\r\n    <g id=\"xtick_2\">\r\n     <g id=\"line2d_2\">\r\n      <g>\r\n       <use style=\"stroke:#000000;stroke-width:0.8;\" x=\"105.043712\" xlink:href=\"#m30b7810caa\" y=\"224.64\"/>\r\n      </g>\r\n     </g>\r\n     <g id=\"text_2\">\r\n      <!-- 1.5 -->\r\n      <defs>\r\n       <path d=\"M 10.796875 72.90625 \r\nL 49.515625 72.90625 \r\nL 49.515625 64.59375 \r\nL 19.828125 64.59375 \r\nL 19.828125 46.734375 \r\nQ 21.96875 47.46875 24.109375 47.828125 \r\nQ 26.265625 48.1875 28.421875 48.1875 \r\nQ 40.625 48.1875 47.75 41.5 \r\nQ 54.890625 34.8125 54.890625 23.390625 \r\nQ 54.890625 11.625 47.5625 5.09375 \r\nQ 40.234375 -1.421875 26.90625 -1.421875 \r\nQ 22.3125 -1.421875 17.546875 -0.640625 \r\nQ 12.796875 0.140625 7.71875 1.703125 \r\nL 7.71875 11.625 \r\nQ 12.109375 9.234375 16.796875 8.0625 \r\nQ 21.484375 6.890625 26.703125 6.890625 \r\nQ 35.15625 6.890625 40.078125 11.328125 \r\nQ 45.015625 15.765625 45.015625 23.390625 \r\nQ 45.015625 31 40.078125 35.4375 \r\nQ 35.15625 39.890625 26.703125 39.890625 \r\nQ 22.75 39.890625 18.8125 39.015625 \r\nQ 14.890625 38.140625 10.796875 36.28125 \r\nz\r\n\" id=\"DejaVuSans-53\"/>\r\n      </defs>\r\n      <g transform=\"translate(97.092149 239.238437)scale(0.1 -0.1)\">\r\n       <use xlink:href=\"#DejaVuSans-49\"/>\r\n       <use x=\"63.623047\" xlink:href=\"#DejaVuSans-46\"/>\r\n       <use x=\"95.410156\" xlink:href=\"#DejaVuSans-53\"/>\r\n      </g>\r\n     </g>\r\n    </g>\r\n    <g id=\"xtick_3\">\r\n     <g id=\"line2d_3\">\r\n      <g>\r\n       <use style=\"stroke:#000000;stroke-width:0.8;\" x=\"147.163405\" xlink:href=\"#m30b7810caa\" y=\"224.64\"/>\r\n      </g>\r\n     </g>\r\n     <g id=\"text_3\">\r\n      <!-- 2.0 -->\r\n      <defs>\r\n       <path d=\"M 19.1875 8.296875 \r\nL 53.609375 8.296875 \r\nL 53.609375 0 \r\nL 7.328125 0 \r\nL 7.328125 8.296875 \r\nQ 12.9375 14.109375 22.625 23.890625 \r\nQ 32.328125 33.6875 34.8125 36.53125 \r\nQ 39.546875 41.84375 41.421875 45.53125 \r\nQ 43.3125 49.21875 43.3125 52.78125 \r\nQ 43.3125 58.59375 39.234375 62.25 \r\nQ 35.15625 65.921875 28.609375 65.921875 \r\nQ 23.96875 65.921875 18.8125 64.3125 \r\nQ 13.671875 62.703125 7.8125 59.421875 \r\nL 7.8125 69.390625 \r\nQ 13.765625 71.78125 18.9375 73 \r\nQ 24.125 74.21875 28.421875 74.21875 \r\nQ 39.75 74.21875 46.484375 68.546875 \r\nQ 53.21875 62.890625 53.21875 53.421875 \r\nQ 53.21875 48.921875 51.53125 44.890625 \r\nQ 49.859375 40.875 45.40625 35.40625 \r\nQ 44.1875 33.984375 37.640625 27.21875 \r\nQ 31.109375 20.453125 19.1875 8.296875 \r\nz\r\n\" id=\"DejaVuSans-50\"/>\r\n      </defs>\r\n      <g transform=\"translate(139.211843 239.238437)scale(0.1 -0.1)\">\r\n       <use xlink:href=\"#DejaVuSans-50\"/>\r\n       <use x=\"63.623047\" xlink:href=\"#DejaVuSans-46\"/>\r\n       <use x=\"95.410156\" xlink:href=\"#DejaVuSans-48\"/>\r\n      </g>\r\n     </g>\r\n    </g>\r\n    <g id=\"xtick_4\">\r\n     <g id=\"line2d_4\">\r\n      <g>\r\n       <use style=\"stroke:#000000;stroke-width:0.8;\" x=\"189.283099\" xlink:href=\"#m30b7810caa\" y=\"224.64\"/>\r\n      </g>\r\n     </g>\r\n     <g id=\"text_4\">\r\n      <!-- 2.5 -->\r\n      <g transform=\"translate(181.331537 239.238437)scale(0.1 -0.1)\">\r\n       <use xlink:href=\"#DejaVuSans-50\"/>\r\n       <use x=\"63.623047\" xlink:href=\"#DejaVuSans-46\"/>\r\n       <use x=\"95.410156\" xlink:href=\"#DejaVuSans-53\"/>\r\n      </g>\r\n     </g>\r\n    </g>\r\n    <g id=\"xtick_5\">\r\n     <g id=\"line2d_5\">\r\n      <g>\r\n       <use style=\"stroke:#000000;stroke-width:0.8;\" x=\"231.402793\" xlink:href=\"#m30b7810caa\" y=\"224.64\"/>\r\n      </g>\r\n     </g>\r\n     <g id=\"text_5\">\r\n      <!-- 3.0 -->\r\n      <defs>\r\n       <path d=\"M 40.578125 39.3125 \r\nQ 47.65625 37.796875 51.625 33 \r\nQ 55.609375 28.21875 55.609375 21.1875 \r\nQ 55.609375 10.40625 48.1875 4.484375 \r\nQ 40.765625 -1.421875 27.09375 -1.421875 \r\nQ 22.515625 -1.421875 17.65625 -0.515625 \r\nQ 12.796875 0.390625 7.625 2.203125 \r\nL 7.625 11.71875 \r\nQ 11.71875 9.328125 16.59375 8.109375 \r\nQ 21.484375 6.890625 26.8125 6.890625 \r\nQ 36.078125 6.890625 40.9375 10.546875 \r\nQ 45.796875 14.203125 45.796875 21.1875 \r\nQ 45.796875 27.640625 41.28125 31.265625 \r\nQ 36.765625 34.90625 28.71875 34.90625 \r\nL 20.21875 34.90625 \r\nL 20.21875 43.015625 \r\nL 29.109375 43.015625 \r\nQ 36.375 43.015625 40.234375 45.921875 \r\nQ 44.09375 48.828125 44.09375 54.296875 \r\nQ 44.09375 59.90625 40.109375 62.90625 \r\nQ 36.140625 65.921875 28.71875 65.921875 \r\nQ 24.65625 65.921875 20.015625 65.03125 \r\nQ 15.375 64.15625 9.8125 62.3125 \r\nL 9.8125 71.09375 \r\nQ 15.4375 72.65625 20.34375 73.4375 \r\nQ 25.25 74.21875 29.59375 74.21875 \r\nQ 40.828125 74.21875 47.359375 69.109375 \r\nQ 53.90625 64.015625 53.90625 55.328125 \r\nQ 53.90625 49.265625 50.4375 45.09375 \r\nQ 46.96875 40.921875 40.578125 39.3125 \r\nz\r\n\" id=\"DejaVuSans-51\"/>\r\n      </defs>\r\n      <g transform=\"translate(223.451231 239.238437)scale(0.1 -0.1)\">\r\n       <use xlink:href=\"#DejaVuSans-51\"/>\r\n       <use x=\"63.623047\" xlink:href=\"#DejaVuSans-46\"/>\r\n       <use x=\"95.410156\" xlink:href=\"#DejaVuSans-48\"/>\r\n      </g>\r\n     </g>\r\n    </g>\r\n    <g id=\"xtick_6\">\r\n     <g id=\"line2d_6\">\r\n      <g>\r\n       <use style=\"stroke:#000000;stroke-width:0.8;\" x=\"273.522487\" xlink:href=\"#m30b7810caa\" y=\"224.64\"/>\r\n      </g>\r\n     </g>\r\n     <g id=\"text_6\">\r\n      <!-- 3.5 -->\r\n      <g transform=\"translate(265.570925 239.238437)scale(0.1 -0.1)\">\r\n       <use xlink:href=\"#DejaVuSans-51\"/>\r\n       <use x=\"63.623047\" xlink:href=\"#DejaVuSans-46\"/>\r\n       <use x=\"95.410156\" xlink:href=\"#DejaVuSans-53\"/>\r\n      </g>\r\n     </g>\r\n    </g>\r\n    <g id=\"xtick_7\">\r\n     <g id=\"line2d_7\">\r\n      <g>\r\n       <use style=\"stroke:#000000;stroke-width:0.8;\" x=\"315.642181\" xlink:href=\"#m30b7810caa\" y=\"224.64\"/>\r\n      </g>\r\n     </g>\r\n     <g id=\"text_7\">\r\n      <!-- 4.0 -->\r\n      <defs>\r\n       <path d=\"M 37.796875 64.3125 \r\nL 12.890625 25.390625 \r\nL 37.796875 25.390625 \r\nz\r\nM 35.203125 72.90625 \r\nL 47.609375 72.90625 \r\nL 47.609375 25.390625 \r\nL 58.015625 25.390625 \r\nL 58.015625 17.1875 \r\nL 47.609375 17.1875 \r\nL 47.609375 0 \r\nL 37.796875 0 \r\nL 37.796875 17.1875 \r\nL 4.890625 17.1875 \r\nL 4.890625 26.703125 \r\nz\r\n\" id=\"DejaVuSans-52\"/>\r\n      </defs>\r\n      <g transform=\"translate(307.690619 239.238437)scale(0.1 -0.1)\">\r\n       <use xlink:href=\"#DejaVuSans-52\"/>\r\n       <use x=\"63.623047\" xlink:href=\"#DejaVuSans-46\"/>\r\n       <use x=\"95.410156\" xlink:href=\"#DejaVuSans-48\"/>\r\n      </g>\r\n     </g>\r\n    </g>\r\n    <g id=\"xtick_8\">\r\n     <g id=\"line2d_8\">\r\n      <g>\r\n       <use style=\"stroke:#000000;stroke-width:0.8;\" x=\"357.761875\" xlink:href=\"#m30b7810caa\" y=\"224.64\"/>\r\n      </g>\r\n     </g>\r\n     <g id=\"text_8\">\r\n      <!-- 4.5 -->\r\n      <g transform=\"translate(349.810313 239.238437)scale(0.1 -0.1)\">\r\n       <use xlink:href=\"#DejaVuSans-52\"/>\r\n       <use x=\"63.623047\" xlink:href=\"#DejaVuSans-46\"/>\r\n       <use x=\"95.410156\" xlink:href=\"#DejaVuSans-53\"/>\r\n      </g>\r\n     </g>\r\n    </g>\r\n   </g>\r\n   <g id=\"matplotlib.axis_2\">\r\n    <g id=\"ytick_1\">\r\n     <g id=\"line2d_9\">\r\n      <defs>\r\n       <path d=\"M 0 0 \r\nL -3.5 0 \r\n\" id=\"m732f2d3ba2\" style=\"stroke:#000000;stroke-width:0.8;\"/>\r\n      </defs>\r\n      <g>\r\n       <use style=\"stroke:#000000;stroke-width:0.8;\" x=\"30.103125\" xlink:href=\"#m732f2d3ba2\" y=\"212.109527\"/>\r\n      </g>\r\n     </g>\r\n     <g id=\"text_9\">\r\n      <!-- 0.5 -->\r\n      <g transform=\"translate(7.2 215.908745)scale(0.1 -0.1)\">\r\n       <use xlink:href=\"#DejaVuSans-48\"/>\r\n       <use x=\"63.623047\" xlink:href=\"#DejaVuSans-46\"/>\r\n       <use x=\"95.410156\" xlink:href=\"#DejaVuSans-53\"/>\r\n      </g>\r\n     </g>\r\n    </g>\r\n    <g id=\"ytick_2\">\r\n     <g id=\"line2d_10\">\r\n      <g>\r\n       <use style=\"stroke:#000000;stroke-width:0.8;\" x=\"30.103125\" xlink:href=\"#m732f2d3ba2\" y=\"176.080217\"/>\r\n      </g>\r\n     </g>\r\n     <g id=\"text_10\">\r\n      <!-- 1.0 -->\r\n      <g transform=\"translate(7.2 179.879436)scale(0.1 -0.1)\">\r\n       <use xlink:href=\"#DejaVuSans-49\"/>\r\n       <use x=\"63.623047\" xlink:href=\"#DejaVuSans-46\"/>\r\n       <use x=\"95.410156\" xlink:href=\"#DejaVuSans-48\"/>\r\n      </g>\r\n     </g>\r\n    </g>\r\n    <g id=\"ytick_3\">\r\n     <g id=\"line2d_11\">\r\n      <g>\r\n       <use style=\"stroke:#000000;stroke-width:0.8;\" x=\"30.103125\" xlink:href=\"#m732f2d3ba2\" y=\"140.050908\"/>\r\n      </g>\r\n     </g>\r\n     <g id=\"text_11\">\r\n      <!-- 1.5 -->\r\n      <g transform=\"translate(7.2 143.850126)scale(0.1 -0.1)\">\r\n       <use xlink:href=\"#DejaVuSans-49\"/>\r\n       <use x=\"63.623047\" xlink:href=\"#DejaVuSans-46\"/>\r\n       <use x=\"95.410156\" xlink:href=\"#DejaVuSans-53\"/>\r\n      </g>\r\n     </g>\r\n    </g>\r\n    <g id=\"ytick_4\">\r\n     <g id=\"line2d_12\">\r\n      <g>\r\n       <use style=\"stroke:#000000;stroke-width:0.8;\" x=\"30.103125\" xlink:href=\"#m732f2d3ba2\" y=\"104.021598\"/>\r\n      </g>\r\n     </g>\r\n     <g id=\"text_12\">\r\n      <!-- 2.0 -->\r\n      <g transform=\"translate(7.2 107.820817)scale(0.1 -0.1)\">\r\n       <use xlink:href=\"#DejaVuSans-50\"/>\r\n       <use x=\"63.623047\" xlink:href=\"#DejaVuSans-46\"/>\r\n       <use x=\"95.410156\" xlink:href=\"#DejaVuSans-48\"/>\r\n      </g>\r\n     </g>\r\n    </g>\r\n    <g id=\"ytick_5\">\r\n     <g id=\"line2d_13\">\r\n      <g>\r\n       <use style=\"stroke:#000000;stroke-width:0.8;\" x=\"30.103125\" xlink:href=\"#m732f2d3ba2\" y=\"67.992288\"/>\r\n      </g>\r\n     </g>\r\n     <g id=\"text_13\">\r\n      <!-- 2.5 -->\r\n      <g transform=\"translate(7.2 71.791507)scale(0.1 -0.1)\">\r\n       <use xlink:href=\"#DejaVuSans-50\"/>\r\n       <use x=\"63.623047\" xlink:href=\"#DejaVuSans-46\"/>\r\n       <use x=\"95.410156\" xlink:href=\"#DejaVuSans-53\"/>\r\n      </g>\r\n     </g>\r\n    </g>\r\n    <g id=\"ytick_6\">\r\n     <g id=\"line2d_14\">\r\n      <g>\r\n       <use style=\"stroke:#000000;stroke-width:0.8;\" x=\"30.103125\" xlink:href=\"#m732f2d3ba2\" y=\"31.962979\"/>\r\n      </g>\r\n     </g>\r\n     <g id=\"text_14\">\r\n      <!-- 3.0 -->\r\n      <g transform=\"translate(7.2 35.762198)scale(0.1 -0.1)\">\r\n       <use xlink:href=\"#DejaVuSans-51\"/>\r\n       <use x=\"63.623047\" xlink:href=\"#DejaVuSans-46\"/>\r\n       <use x=\"95.410156\" xlink:href=\"#DejaVuSans-48\"/>\r\n      </g>\r\n     </g>\r\n    </g>\r\n   </g>\r\n   <g id=\"patch_3\">\r\n    <path d=\"M 30.103125 224.64 \r\nL 30.103125 7.2 \r\n\" style=\"fill:none;stroke:#000000;stroke-linecap:square;stroke-linejoin:miter;stroke-width:0.8;\"/>\r\n   </g>\r\n   <g id=\"patch_4\">\r\n    <path d=\"M 364.903125 224.64 \r\nL 364.903125 7.2 \r\n\" style=\"fill:none;stroke:#000000;stroke-linecap:square;stroke-linejoin:miter;stroke-width:0.8;\"/>\r\n   </g>\r\n   <g id=\"patch_5\">\r\n    <path d=\"M 30.103125 224.64 \r\nL 364.903125 224.64 \r\n\" style=\"fill:none;stroke:#000000;stroke-linecap:square;stroke-linejoin:miter;stroke-width:0.8;\"/>\r\n   </g>\r\n   <g id=\"patch_6\">\r\n    <path d=\"M 30.103125 7.2 \r\nL 364.903125 7.2 \r\n\" style=\"fill:none;stroke:#000000;stroke-linecap:square;stroke-linejoin:miter;stroke-width:0.8;\"/>\r\n   </g>\r\n  </g>\r\n </g>\r\n <defs>\r\n  <clipPath id=\"pa7eefe459e\">\r\n   <rect height=\"217.44\" width=\"334.8\" x=\"30.103125\" y=\"7.2\"/>\r\n  </clipPath>\r\n </defs>\r\n</svg>\r\n",
      "image/png": "[encoded data removed]"
     },
     "metadata": {
      "needs_background": "light"
     }
    }
   ],
   "source": [
    "class_1 = df[df['y']==1]\n",
    "class_2 = df[df['y']==2]\n",
    "class_3 = df[df['y']==3]\n",
    "new_point = df[df['x1']==3.0]\n",
    "plt.scatter(class_1['x1'], class_1['x2'], c='g', marker='o')\n",
    "plt.scatter(class_2['x1'], class_2['x2'], c='b', marker='o')\n",
    "plt.scatter(class_3['x1'], class_3['x2'], c='y', marker='o')\n",
    "plt.scatter(new_point['x1'], new_point['x2'], c='r', marker='*')"
   ]
  },
  {
   "cell_type": "code",
   "execution_count": null,
   "metadata": {},
   "outputs": [],
   "source": []
  },
  {
   "cell_type": "markdown",
   "metadata": {},
   "source": [
    "# Punto 3"
   ]
  },
  {
   "cell_type": "code",
   "execution_count": 1,
   "metadata": {},
   "outputs": [],
   "source": [
    "import numpy as np\n",
    "import pandas as pd\n",
    "from sklearn.neighbors import KNeighborsClassifier\n",
    "from sklearn.model_selection import train_test_split\n",
    "from sklearn import metrics"
   ]
  },
  {
   "cell_type": "markdown",
   "metadata": {},
   "source": [
    "### 1. Implementar el algoritmo de clasificación KNN. Valide con los datos del problema 1 (el de calentamiento)."
   ]
  },
  {
   "cell_type": "code",
   "execution_count": 2,
   "metadata": {},
   "outputs": [],
   "source": [
    "X = np.array([[0.8, 0.8], [0.8, 1.2], [3.8, 2.8], [4.2, 3.2], [1, 1], [1.2, 1.2], [4.2, 2.8], [4.4, 2.8], \n",
    "              [3.5, 1], [4, 1],[3.8, 0.5], [4, 0.7]])\n",
    "Y = np.array([1, 1, 2, 2, 1, 1, 2, 2, 3, 3, 3, 3])"
   ]
  },
  {
   "cell_type": "code",
   "execution_count": 3,
   "metadata": {},
   "outputs": [
    {
     "data": {
      "text/html": [
       "<div>\n",
       "<style scoped>\n",
       "    .dataframe tbody tr th:only-of-type {\n",
       "        vertical-align: middle;\n",
       "    }\n",
       "\n",
       "    .dataframe tbody tr th {\n",
       "        vertical-align: top;\n",
       "    }\n",
       "\n",
       "    .dataframe thead th {\n",
       "        text-align: right;\n",
       "    }\n",
       "</style>\n",
       "<table border=\"1\" class=\"dataframe\">\n",
       "  <thead>\n",
       "    <tr style=\"text-align: right;\">\n",
       "      <th></th>\n",
       "      <th>x1</th>\n",
       "      <th>x2</th>\n",
       "      <th>y</th>\n",
       "    </tr>\n",
       "  </thead>\n",
       "  <tbody>\n",
       "    <tr>\n",
       "      <td>0</td>\n",
       "      <td>0.8</td>\n",
       "      <td>0.8</td>\n",
       "      <td>1</td>\n",
       "    </tr>\n",
       "    <tr>\n",
       "      <td>1</td>\n",
       "      <td>0.8</td>\n",
       "      <td>1.2</td>\n",
       "      <td>1</td>\n",
       "    </tr>\n",
       "    <tr>\n",
       "      <td>2</td>\n",
       "      <td>3.8</td>\n",
       "      <td>2.8</td>\n",
       "      <td>2</td>\n",
       "    </tr>\n",
       "    <tr>\n",
       "      <td>3</td>\n",
       "      <td>4.2</td>\n",
       "      <td>3.2</td>\n",
       "      <td>2</td>\n",
       "    </tr>\n",
       "    <tr>\n",
       "      <td>4</td>\n",
       "      <td>1.0</td>\n",
       "      <td>1.0</td>\n",
       "      <td>1</td>\n",
       "    </tr>\n",
       "  </tbody>\n",
       "</table>\n",
       "</div>"
      ],
      "text/plain": [
       "    x1   x2  y\n",
       "0  0.8  0.8  1\n",
       "1  0.8  1.2  1\n",
       "2  3.8  2.8  2\n",
       "3  4.2  3.2  2\n",
       "4  1.0  1.0  1"
      ]
     },
     "execution_count": 3,
     "metadata": {},
     "output_type": "execute_result"
    }
   ],
   "source": [
    "data = pd.DataFrame(X, columns=['x1', 'x2'])\n",
    "data['y'] = Y\n",
    "data.head()"
   ]
  },
  {
   "cell_type": "code",
   "execution_count": 4,
   "metadata": {},
   "outputs": [],
   "source": [
    "X = data[['x1', 'x2']]\n",
    "y = data['y']\n",
    "X_train, X_test, y_train, y_test = train_test_split(X, y, test_size=0.3, random_state=42)"
   ]
  },
  {
   "cell_type": "code",
   "execution_count": 5,
   "metadata": {},
   "outputs": [],
   "source": [
    "knn = KNeighborsClassifier(n_neighbors=3)\n",
    "knn.fit(X_train, y_train)\n",
    "predictions = knn.predict(X_test)"
   ]
  },
  {
   "cell_type": "code",
   "execution_count": 6,
   "metadata": {},
   "outputs": [
    {
     "data": {
      "text/plain": [
       "array([2, 2, 1, 2])"
      ]
     },
     "execution_count": 6,
     "metadata": {},
     "output_type": "execute_result"
    }
   ],
   "source": [
    "predictions"
   ]
  },
  {
   "cell_type": "code",
   "execution_count": 7,
   "metadata": {},
   "outputs": [
    {
     "name": "stdout",
     "output_type": "stream",
     "text": [
      "Accuracy: 0.25\n"
     ]
    }
   ],
   "source": [
    "print(\"Accuracy:\",metrics.accuracy_score(y_test, predictions))"
   ]
  },
  {
   "cell_type": "markdown",
   "metadata": {},
   "source": [
    "### 2. Para este ejercicio use la base de datos DatosFisher.xlsx disponible en la página del curso."
   ]
  },
  {
   "cell_type": "code",
   "execution_count": 8,
   "metadata": {},
   "outputs": [
    {
     "data": {
      "text/html": [
       "<div>\n",
       "<style scoped>\n",
       "    .dataframe tbody tr th:only-of-type {\n",
       "        vertical-align: middle;\n",
       "    }\n",
       "\n",
       "    .dataframe tbody tr th {\n",
       "        vertical-align: top;\n",
       "    }\n",
       "\n",
       "    .dataframe thead th {\n",
       "        text-align: right;\n",
       "    }\n",
       "</style>\n",
       "<table border=\"1\" class=\"dataframe\">\n",
       "  <thead>\n",
       "    <tr style=\"text-align: right;\">\n",
       "      <th></th>\n",
       "      <th>sexo</th>\n",
       "      <th>estatura</th>\n",
       "      <th>peso</th>\n",
       "      <th>longitudpie</th>\n",
       "      <th>longitudbrazo</th>\n",
       "      <th>anchuraespalda</th>\n",
       "      <th>diametrocraneo</th>\n",
       "      <th>longitudrodillatobillo</th>\n",
       "    </tr>\n",
       "  </thead>\n",
       "  <tbody>\n",
       "    <tr>\n",
       "      <td>0</td>\n",
       "      <td>0</td>\n",
       "      <td>159</td>\n",
       "      <td>49</td>\n",
       "      <td>36.0</td>\n",
       "      <td>68.0</td>\n",
       "      <td>42.0</td>\n",
       "      <td>57.0</td>\n",
       "      <td>40.0</td>\n",
       "    </tr>\n",
       "    <tr>\n",
       "      <td>1</td>\n",
       "      <td>1</td>\n",
       "      <td>164</td>\n",
       "      <td>62</td>\n",
       "      <td>39.0</td>\n",
       "      <td>73.0</td>\n",
       "      <td>44.0</td>\n",
       "      <td>55.0</td>\n",
       "      <td>44.0</td>\n",
       "    </tr>\n",
       "    <tr>\n",
       "      <td>2</td>\n",
       "      <td>0</td>\n",
       "      <td>172</td>\n",
       "      <td>65</td>\n",
       "      <td>38.0</td>\n",
       "      <td>75.0</td>\n",
       "      <td>48.0</td>\n",
       "      <td>58.0</td>\n",
       "      <td>44.0</td>\n",
       "    </tr>\n",
       "    <tr>\n",
       "      <td>3</td>\n",
       "      <td>1</td>\n",
       "      <td>167</td>\n",
       "      <td>52</td>\n",
       "      <td>37.0</td>\n",
       "      <td>73.0</td>\n",
       "      <td>41.5</td>\n",
       "      <td>58.0</td>\n",
       "      <td>44.0</td>\n",
       "    </tr>\n",
       "    <tr>\n",
       "      <td>4</td>\n",
       "      <td>1</td>\n",
       "      <td>164</td>\n",
       "      <td>51</td>\n",
       "      <td>36.0</td>\n",
       "      <td>71.0</td>\n",
       "      <td>44.5</td>\n",
       "      <td>54.0</td>\n",
       "      <td>40.0</td>\n",
       "    </tr>\n",
       "  </tbody>\n",
       "</table>\n",
       "</div>"
      ],
      "text/plain": [
       "   sexo  estatura  peso  longitudpie  longitudbrazo  anchuraespalda  \\\n",
       "0     0       159    49         36.0           68.0            42.0   \n",
       "1     1       164    62         39.0           73.0            44.0   \n",
       "2     0       172    65         38.0           75.0            48.0   \n",
       "3     1       167    52         37.0           73.0            41.5   \n",
       "4     1       164    51         36.0           71.0            44.5   \n",
       "\n",
       "   diametrocraneo  longitudrodillatobillo  \n",
       "0            57.0                    40.0  \n",
       "1            55.0                    44.0  \n",
       "2            58.0                    44.0  \n",
       "3            58.0                    44.0  \n",
       "4            54.0                    40.0  "
      ]
     },
     "execution_count": 8,
     "metadata": {},
     "output_type": "execute_result"
    }
   ],
   "source": [
    "dataFisher = pd.read_excel('DatosFisher.xlsx', skiprows=1)\n",
    "dataFisher.head()"
   ]
  },
  {
   "cell_type": "code",
   "execution_count": 9,
   "metadata": {},
   "outputs": [],
   "source": [
    "X = dataFisher.drop(['sexo'], axis=1)\n",
    "y = dataFisher['sexo']\n",
    "X_train, X_test, y_train, y_test = train_test_split(X, y, test_size=0.3, random_state=42)"
   ]
  },
  {
   "cell_type": "code",
   "execution_count": 10,
   "metadata": {},
   "outputs": [],
   "source": [
    "knn = KNeighborsClassifier(n_neighbors=10)\n",
    "knn.fit(X_train, y_train)\n",
    "predictions = knn.predict(X_test)"
   ]
  },
  {
   "cell_type": "code",
   "execution_count": 11,
   "metadata": {},
   "outputs": [
    {
     "data": {
      "text/plain": [
       "array([1, 1, 0, 0, 0, 1, 0, 0, 0])"
      ]
     },
     "execution_count": 11,
     "metadata": {},
     "output_type": "execute_result"
    }
   ],
   "source": [
    "predictions"
   ]
  },
  {
   "cell_type": "code",
   "execution_count": 12,
   "metadata": {},
   "outputs": [
    {
     "name": "stdout",
     "output_type": "stream",
     "text": [
      "Accuracy: 0.7777777777777778\n"
     ]
    }
   ],
   "source": [
    "print(\"Accuracy:\",metrics.accuracy_score(y_test, predictions))"
   ]
  },
  {
   "cell_type": "markdown",
   "metadata": {},
   "source": [
    "### 3. Seleccione el k para el cual el error de entrenamiento sea mínimo. k =?"
   ]
  },
  {
   "cell_type": "code",
   "execution_count": 13,
   "metadata": {},
   "outputs": [
    {
     "name": "stdout",
     "output_type": "stream",
     "text": [
      "Accuracy for 1 is:  0.8888888888888888\n",
      "Accuracy for 2 is:  0.5555555555555556\n",
      "Accuracy for 3 is:  0.6666666666666666\n",
      "Accuracy for 4 is:  0.7777777777777778\n",
      "Accuracy for 5 is:  0.8888888888888888\n",
      "Accuracy for 6 is:  0.5555555555555556\n",
      "Accuracy for 7 is:  0.7777777777777778\n",
      "Accuracy for 8 is:  0.6666666666666666\n",
      "Accuracy for 9 is:  0.8888888888888888\n"
     ]
    }
   ],
   "source": [
    "for k in range(1,10):\n",
    "    knn = KNeighborsClassifier(n_neighbors=k)\n",
    "    knn.fit(X_train, y_train)\n",
    "    predictions = knn.predict(X_test)\n",
    "    print(\"Accuracy for\", k, \"is: \", metrics.accuracy_score(y_test, predictions))"
   ]
  },
  {
   "cell_type": "markdown",
   "metadata": {},
   "source": [
    "El k para el cual el error de entrenamiento es mínimo, es k=5."
   ]
  },
  {
   "source": [
    "# Punto 4"
   ],
   "cell_type": "markdown",
   "metadata": {}
  },
  {
   "cell_type": "code",
   "execution_count": 1,
   "metadata": {},
   "outputs": [],
   "source": [
    "import pandas as pd\n",
    "from sklearn.tree import DecisionTreeClassifier\n",
    "from sklearn.model_selection import train_test_split\n",
    "import matplotlib.pyplot as plt"
   ]
  },
  {
   "cell_type": "code",
   "execution_count": 2,
   "metadata": {},
   "outputs": [
    {
     "output_type": "execute_result",
     "data": {
      "text/plain": [
       "   sexo  estatura  peso  longitudpie  longitudbrazo  anchuraespalda  \\\n",
       "0     0       159    49         36.0           68.0            42.0   \n",
       "1     1       164    62         39.0           73.0            44.0   \n",
       "2     0       172    65         38.0           75.0            48.0   \n",
       "\n",
       "   diametrocraneo  longitudrodillatobillo  \n",
       "0            57.0                    40.0  \n",
       "1            55.0                    44.0  \n",
       "2            58.0                    44.0  "
      ],
      "text/html": "<div>\n<style scoped>\n    .dataframe tbody tr th:only-of-type {\n        vertical-align: middle;\n    }\n\n    .dataframe tbody tr th {\n        vertical-align: top;\n    }\n\n    .dataframe thead th {\n        text-align: right;\n    }\n</style>\n<table border=\"1\" class=\"dataframe\">\n  <thead>\n    <tr style=\"text-align: right;\">\n      <th></th>\n      <th>sexo</th>\n      <th>estatura</th>\n      <th>peso</th>\n      <th>longitudpie</th>\n      <th>longitudbrazo</th>\n      <th>anchuraespalda</th>\n      <th>diametrocraneo</th>\n      <th>longitudrodillatobillo</th>\n    </tr>\n  </thead>\n  <tbody>\n    <tr>\n      <th>0</th>\n      <td>0</td>\n      <td>159</td>\n      <td>49</td>\n      <td>36.0</td>\n      <td>68.0</td>\n      <td>42.0</td>\n      <td>57.0</td>\n      <td>40.0</td>\n    </tr>\n    <tr>\n      <th>1</th>\n      <td>1</td>\n      <td>164</td>\n      <td>62</td>\n      <td>39.0</td>\n      <td>73.0</td>\n      <td>44.0</td>\n      <td>55.0</td>\n      <td>44.0</td>\n    </tr>\n    <tr>\n      <th>2</th>\n      <td>0</td>\n      <td>172</td>\n      <td>65</td>\n      <td>38.0</td>\n      <td>75.0</td>\n      <td>48.0</td>\n      <td>58.0</td>\n      <td>44.0</td>\n    </tr>\n  </tbody>\n</table>\n</div>"
     },
     "metadata": {},
     "execution_count": 2
    }
   ],
   "source": [
    "df = pd.read_excel('DatosFisher.xlsx', header=1)\n",
    "df.head(3) # 0 mujer, 1 hombre"
   ]
  },
  {
   "cell_type": "code",
   "execution_count": 3,
   "metadata": {},
   "outputs": [],
   "source": [
    "train_errors = []\n",
    "test_errors = []\n",
    "train_size = []\n",
    "for t_size in range(1, 10, 1):\n",
    "    X_train, X_test, y_train, y_test = train_test_split(\n",
    "        df.drop(columns=['sexo']), df['sexo'], test_size=1-((t_size/10)), train_size=(t_size/10), random_state=42\n",
    "    )\n",
    "    clf = DecisionTreeClassifier(random_state=0)\n",
    "    clf.fit(X_train, y_train)\n",
    "    train_size.append(t_size*10)\n",
    "    train_errors.append(1-clf.score(X_train, y_train))\n",
    "    test_errors.append(1-clf.score(X_test, y_test))"
   ]
  },
  {
   "cell_type": "code",
   "execution_count": 4,
   "metadata": {},
   "outputs": [
    {
     "output_type": "execute_result",
     "data": {
      "text/plain": [
       "<matplotlib.legend.Legend at 0x2117feb5048>"
      ]
     },
     "metadata": {},
     "execution_count": 4
    },
    {
     "output_type": "display_data",
     "data": {
      "text/plain": "<Figure size 432x288 with 1 Axes>",
      "image/svg+xml": "<?xml version=\"1.0\" encoding=\"utf-8\" standalone=\"no\"?>\r\n<!DOCTYPE svg PUBLIC \"-//W3C//DTD SVG 1.1//EN\"\r\n  \"http://www.w3.org/Graphics/SVG/1.1/DTD/svg11.dtd\">\r\n<!-- Created with matplotlib (https://matplotlib.org/) -->\r\n<svg height=\"262.19625pt\" version=\"1.1\" viewBox=\"0 0 385.78125 262.19625\" width=\"385.78125pt\" xmlns=\"http://www.w3.org/2000/svg\" xmlns:xlink=\"http://www.w3.org/1999/xlink\">\r\n <defs>\r\n  <style type=\"text/css\">\r\n*{stroke-linecap:butt;stroke-linejoin:round;}\r\n  </style>\r\n </defs>\r\n <g id=\"figure_1\">\r\n  <g id=\"patch_1\">\r\n   <path d=\"M 0 262.19625 \r\nL 385.78125 262.19625 \r\nL 385.78125 0 \r\nL 0 0 \r\nz\r\n\" style=\"fill:none;\"/>\r\n  </g>\r\n  <g id=\"axes_1\">\r\n   <g id=\"patch_2\">\r\n    <path d=\"M 43.78125 224.64 \r\nL 378.58125 224.64 \r\nL 378.58125 7.2 \r\nL 43.78125 7.2 \r\nz\r\n\" style=\"fill:#ffffff;\"/>\r\n   </g>\r\n   <g id=\"matplotlib.axis_1\">\r\n    <g id=\"xtick_1\">\r\n     <g id=\"line2d_1\">\r\n      <defs>\r\n       <path d=\"M 0 0 \r\nL 0 3.5 \r\n\" id=\"m2d9aac13c4\" style=\"stroke:#000000;stroke-width:0.8;\"/>\r\n      </defs>\r\n      <g>\r\n       <use style=\"stroke:#000000;stroke-width:0.8;\" x=\"58.999432\" xlink:href=\"#m2d9aac13c4\" y=\"224.64\"/>\r\n      </g>\r\n     </g>\r\n     <g id=\"text_1\">\r\n      <!-- 10 -->\r\n      <defs>\r\n       <path d=\"M 12.40625 8.296875 \r\nL 28.515625 8.296875 \r\nL 28.515625 63.921875 \r\nL 10.984375 60.40625 \r\nL 10.984375 69.390625 \r\nL 28.421875 72.90625 \r\nL 38.28125 72.90625 \r\nL 38.28125 8.296875 \r\nL 54.390625 8.296875 \r\nL 54.390625 0 \r\nL 12.40625 0 \r\nz\r\n\" id=\"DejaVuSans-49\"/>\r\n       <path d=\"M 31.78125 66.40625 \r\nQ 24.171875 66.40625 20.328125 58.90625 \r\nQ 16.5 51.421875 16.5 36.375 \r\nQ 16.5 21.390625 20.328125 13.890625 \r\nQ 24.171875 6.390625 31.78125 6.390625 \r\nQ 39.453125 6.390625 43.28125 13.890625 \r\nQ 47.125 21.390625 47.125 36.375 \r\nQ 47.125 51.421875 43.28125 58.90625 \r\nQ 39.453125 66.40625 31.78125 66.40625 \r\nz\r\nM 31.78125 74.21875 \r\nQ 44.046875 74.21875 50.515625 64.515625 \r\nQ 56.984375 54.828125 56.984375 36.375 \r\nQ 56.984375 17.96875 50.515625 8.265625 \r\nQ 44.046875 -1.421875 31.78125 -1.421875 \r\nQ 19.53125 -1.421875 13.0625 8.265625 \r\nQ 6.59375 17.96875 6.59375 36.375 \r\nQ 6.59375 54.828125 13.0625 64.515625 \r\nQ 19.53125 74.21875 31.78125 74.21875 \r\nz\r\n\" id=\"DejaVuSans-48\"/>\r\n      </defs>\r\n      <g transform=\"translate(52.636932 239.238437)scale(0.1 -0.1)\">\r\n       <use xlink:href=\"#DejaVuSans-49\"/>\r\n       <use x=\"63.623047\" xlink:href=\"#DejaVuSans-48\"/>\r\n      </g>\r\n     </g>\r\n    </g>\r\n    <g id=\"xtick_2\">\r\n     <g id=\"line2d_2\">\r\n      <g>\r\n       <use style=\"stroke:#000000;stroke-width:0.8;\" x=\"97.044886\" xlink:href=\"#m2d9aac13c4\" y=\"224.64\"/>\r\n      </g>\r\n     </g>\r\n     <g id=\"text_2\">\r\n      <!-- 20 -->\r\n      <defs>\r\n       <path d=\"M 19.1875 8.296875 \r\nL 53.609375 8.296875 \r\nL 53.609375 0 \r\nL 7.328125 0 \r\nL 7.328125 8.296875 \r\nQ 12.9375 14.109375 22.625 23.890625 \r\nQ 32.328125 33.6875 34.8125 36.53125 \r\nQ 39.546875 41.84375 41.421875 45.53125 \r\nQ 43.3125 49.21875 43.3125 52.78125 \r\nQ 43.3125 58.59375 39.234375 62.25 \r\nQ 35.15625 65.921875 28.609375 65.921875 \r\nQ 23.96875 65.921875 18.8125 64.3125 \r\nQ 13.671875 62.703125 7.8125 59.421875 \r\nL 7.8125 69.390625 \r\nQ 13.765625 71.78125 18.9375 73 \r\nQ 24.125 74.21875 28.421875 74.21875 \r\nQ 39.75 74.21875 46.484375 68.546875 \r\nQ 53.21875 62.890625 53.21875 53.421875 \r\nQ 53.21875 48.921875 51.53125 44.890625 \r\nQ 49.859375 40.875 45.40625 35.40625 \r\nQ 44.1875 33.984375 37.640625 27.21875 \r\nQ 31.109375 20.453125 19.1875 8.296875 \r\nz\r\n\" id=\"DejaVuSans-50\"/>\r\n      </defs>\r\n      <g transform=\"translate(90.682386 239.238437)scale(0.1 -0.1)\">\r\n       <use xlink:href=\"#DejaVuSans-50\"/>\r\n       <use x=\"63.623047\" xlink:href=\"#DejaVuSans-48\"/>\r\n      </g>\r\n     </g>\r\n    </g>\r\n    <g id=\"xtick_3\">\r\n     <g id=\"line2d_3\">\r\n      <g>\r\n       <use style=\"stroke:#000000;stroke-width:0.8;\" x=\"135.090341\" xlink:href=\"#m2d9aac13c4\" y=\"224.64\"/>\r\n      </g>\r\n     </g>\r\n     <g id=\"text_3\">\r\n      <!-- 30 -->\r\n      <defs>\r\n       <path d=\"M 40.578125 39.3125 \r\nQ 47.65625 37.796875 51.625 33 \r\nQ 55.609375 28.21875 55.609375 21.1875 \r\nQ 55.609375 10.40625 48.1875 4.484375 \r\nQ 40.765625 -1.421875 27.09375 -1.421875 \r\nQ 22.515625 -1.421875 17.65625 -0.515625 \r\nQ 12.796875 0.390625 7.625 2.203125 \r\nL 7.625 11.71875 \r\nQ 11.71875 9.328125 16.59375 8.109375 \r\nQ 21.484375 6.890625 26.8125 6.890625 \r\nQ 36.078125 6.890625 40.9375 10.546875 \r\nQ 45.796875 14.203125 45.796875 21.1875 \r\nQ 45.796875 27.640625 41.28125 31.265625 \r\nQ 36.765625 34.90625 28.71875 34.90625 \r\nL 20.21875 34.90625 \r\nL 20.21875 43.015625 \r\nL 29.109375 43.015625 \r\nQ 36.375 43.015625 40.234375 45.921875 \r\nQ 44.09375 48.828125 44.09375 54.296875 \r\nQ 44.09375 59.90625 40.109375 62.90625 \r\nQ 36.140625 65.921875 28.71875 65.921875 \r\nQ 24.65625 65.921875 20.015625 65.03125 \r\nQ 15.375 64.15625 9.8125 62.3125 \r\nL 9.8125 71.09375 \r\nQ 15.4375 72.65625 20.34375 73.4375 \r\nQ 25.25 74.21875 29.59375 74.21875 \r\nQ 40.828125 74.21875 47.359375 69.109375 \r\nQ 53.90625 64.015625 53.90625 55.328125 \r\nQ 53.90625 49.265625 50.4375 45.09375 \r\nQ 46.96875 40.921875 40.578125 39.3125 \r\nz\r\n\" id=\"DejaVuSans-51\"/>\r\n      </defs>\r\n      <g transform=\"translate(128.727841 239.238437)scale(0.1 -0.1)\">\r\n       <use xlink:href=\"#DejaVuSans-51\"/>\r\n       <use x=\"63.623047\" xlink:href=\"#DejaVuSans-48\"/>\r\n      </g>\r\n     </g>\r\n    </g>\r\n    <g id=\"xtick_4\">\r\n     <g id=\"line2d_4\">\r\n      <g>\r\n       <use style=\"stroke:#000000;stroke-width:0.8;\" x=\"173.135795\" xlink:href=\"#m2d9aac13c4\" y=\"224.64\"/>\r\n      </g>\r\n     </g>\r\n     <g id=\"text_4\">\r\n      <!-- 40 -->\r\n      <defs>\r\n       <path d=\"M 37.796875 64.3125 \r\nL 12.890625 25.390625 \r\nL 37.796875 25.390625 \r\nz\r\nM 35.203125 72.90625 \r\nL 47.609375 72.90625 \r\nL 47.609375 25.390625 \r\nL 58.015625 25.390625 \r\nL 58.015625 17.1875 \r\nL 47.609375 17.1875 \r\nL 47.609375 0 \r\nL 37.796875 0 \r\nL 37.796875 17.1875 \r\nL 4.890625 17.1875 \r\nL 4.890625 26.703125 \r\nz\r\n\" id=\"DejaVuSans-52\"/>\r\n      </defs>\r\n      <g transform=\"translate(166.773295 239.238437)scale(0.1 -0.1)\">\r\n       <use xlink:href=\"#DejaVuSans-52\"/>\r\n       <use x=\"63.623047\" xlink:href=\"#DejaVuSans-48\"/>\r\n      </g>\r\n     </g>\r\n    </g>\r\n    <g id=\"xtick_5\">\r\n     <g id=\"line2d_5\">\r\n      <g>\r\n       <use style=\"stroke:#000000;stroke-width:0.8;\" x=\"211.18125\" xlink:href=\"#m2d9aac13c4\" y=\"224.64\"/>\r\n      </g>\r\n     </g>\r\n     <g id=\"text_5\">\r\n      <!-- 50 -->\r\n      <defs>\r\n       <path d=\"M 10.796875 72.90625 \r\nL 49.515625 72.90625 \r\nL 49.515625 64.59375 \r\nL 19.828125 64.59375 \r\nL 19.828125 46.734375 \r\nQ 21.96875 47.46875 24.109375 47.828125 \r\nQ 26.265625 48.1875 28.421875 48.1875 \r\nQ 40.625 48.1875 47.75 41.5 \r\nQ 54.890625 34.8125 54.890625 23.390625 \r\nQ 54.890625 11.625 47.5625 5.09375 \r\nQ 40.234375 -1.421875 26.90625 -1.421875 \r\nQ 22.3125 -1.421875 17.546875 -0.640625 \r\nQ 12.796875 0.140625 7.71875 1.703125 \r\nL 7.71875 11.625 \r\nQ 12.109375 9.234375 16.796875 8.0625 \r\nQ 21.484375 6.890625 26.703125 6.890625 \r\nQ 35.15625 6.890625 40.078125 11.328125 \r\nQ 45.015625 15.765625 45.015625 23.390625 \r\nQ 45.015625 31 40.078125 35.4375 \r\nQ 35.15625 39.890625 26.703125 39.890625 \r\nQ 22.75 39.890625 18.8125 39.015625 \r\nQ 14.890625 38.140625 10.796875 36.28125 \r\nz\r\n\" id=\"DejaVuSans-53\"/>\r\n      </defs>\r\n      <g transform=\"translate(204.81875 239.238437)scale(0.1 -0.1)\">\r\n       <use xlink:href=\"#DejaVuSans-53\"/>\r\n       <use x=\"63.623047\" xlink:href=\"#DejaVuSans-48\"/>\r\n      </g>\r\n     </g>\r\n    </g>\r\n    <g id=\"xtick_6\">\r\n     <g id=\"line2d_6\">\r\n      <g>\r\n       <use style=\"stroke:#000000;stroke-width:0.8;\" x=\"249.226705\" xlink:href=\"#m2d9aac13c4\" y=\"224.64\"/>\r\n      </g>\r\n     </g>\r\n     <g id=\"text_6\">\r\n      <!-- 60 -->\r\n      <defs>\r\n       <path d=\"M 33.015625 40.375 \r\nQ 26.375 40.375 22.484375 35.828125 \r\nQ 18.609375 31.296875 18.609375 23.390625 \r\nQ 18.609375 15.53125 22.484375 10.953125 \r\nQ 26.375 6.390625 33.015625 6.390625 \r\nQ 39.65625 6.390625 43.53125 10.953125 \r\nQ 47.40625 15.53125 47.40625 23.390625 \r\nQ 47.40625 31.296875 43.53125 35.828125 \r\nQ 39.65625 40.375 33.015625 40.375 \r\nz\r\nM 52.59375 71.296875 \r\nL 52.59375 62.3125 \r\nQ 48.875 64.0625 45.09375 64.984375 \r\nQ 41.3125 65.921875 37.59375 65.921875 \r\nQ 27.828125 65.921875 22.671875 59.328125 \r\nQ 17.53125 52.734375 16.796875 39.40625 \r\nQ 19.671875 43.65625 24.015625 45.921875 \r\nQ 28.375 48.1875 33.59375 48.1875 \r\nQ 44.578125 48.1875 50.953125 41.515625 \r\nQ 57.328125 34.859375 57.328125 23.390625 \r\nQ 57.328125 12.15625 50.6875 5.359375 \r\nQ 44.046875 -1.421875 33.015625 -1.421875 \r\nQ 20.359375 -1.421875 13.671875 8.265625 \r\nQ 6.984375 17.96875 6.984375 36.375 \r\nQ 6.984375 53.65625 15.1875 63.9375 \r\nQ 23.390625 74.21875 37.203125 74.21875 \r\nQ 40.921875 74.21875 44.703125 73.484375 \r\nQ 48.484375 72.75 52.59375 71.296875 \r\nz\r\n\" id=\"DejaVuSans-54\"/>\r\n      </defs>\r\n      <g transform=\"translate(242.864205 239.238437)scale(0.1 -0.1)\">\r\n       <use xlink:href=\"#DejaVuSans-54\"/>\r\n       <use x=\"63.623047\" xlink:href=\"#DejaVuSans-48\"/>\r\n      </g>\r\n     </g>\r\n    </g>\r\n    <g id=\"xtick_7\">\r\n     <g id=\"line2d_7\">\r\n      <g>\r\n       <use style=\"stroke:#000000;stroke-width:0.8;\" x=\"287.272159\" xlink:href=\"#m2d9aac13c4\" y=\"224.64\"/>\r\n      </g>\r\n     </g>\r\n     <g id=\"text_7\">\r\n      <!-- 70 -->\r\n      <defs>\r\n       <path d=\"M 8.203125 72.90625 \r\nL 55.078125 72.90625 \r\nL 55.078125 68.703125 \r\nL 28.609375 0 \r\nL 18.3125 0 \r\nL 43.21875 64.59375 \r\nL 8.203125 64.59375 \r\nz\r\n\" id=\"DejaVuSans-55\"/>\r\n      </defs>\r\n      <g transform=\"translate(280.909659 239.238437)scale(0.1 -0.1)\">\r\n       <use xlink:href=\"#DejaVuSans-55\"/>\r\n       <use x=\"63.623047\" xlink:href=\"#DejaVuSans-48\"/>\r\n      </g>\r\n     </g>\r\n    </g>\r\n    <g id=\"xtick_8\">\r\n     <g id=\"line2d_8\">\r\n      <g>\r\n       <use style=\"stroke:#000000;stroke-width:0.8;\" x=\"325.317614\" xlink:href=\"#m2d9aac13c4\" y=\"224.64\"/>\r\n      </g>\r\n     </g>\r\n     <g id=\"text_8\">\r\n      <!-- 80 -->\r\n      <defs>\r\n       <path d=\"M 31.78125 34.625 \r\nQ 24.75 34.625 20.71875 30.859375 \r\nQ 16.703125 27.09375 16.703125 20.515625 \r\nQ 16.703125 13.921875 20.71875 10.15625 \r\nQ 24.75 6.390625 31.78125 6.390625 \r\nQ 38.8125 6.390625 42.859375 10.171875 \r\nQ 46.921875 13.96875 46.921875 20.515625 \r\nQ 46.921875 27.09375 42.890625 30.859375 \r\nQ 38.875 34.625 31.78125 34.625 \r\nz\r\nM 21.921875 38.8125 \r\nQ 15.578125 40.375 12.03125 44.71875 \r\nQ 8.5 49.078125 8.5 55.328125 \r\nQ 8.5 64.0625 14.71875 69.140625 \r\nQ 20.953125 74.21875 31.78125 74.21875 \r\nQ 42.671875 74.21875 48.875 69.140625 \r\nQ 55.078125 64.0625 55.078125 55.328125 \r\nQ 55.078125 49.078125 51.53125 44.71875 \r\nQ 48 40.375 41.703125 38.8125 \r\nQ 48.828125 37.15625 52.796875 32.3125 \r\nQ 56.78125 27.484375 56.78125 20.515625 \r\nQ 56.78125 9.90625 50.3125 4.234375 \r\nQ 43.84375 -1.421875 31.78125 -1.421875 \r\nQ 19.734375 -1.421875 13.25 4.234375 \r\nQ 6.78125 9.90625 6.78125 20.515625 \r\nQ 6.78125 27.484375 10.78125 32.3125 \r\nQ 14.796875 37.15625 21.921875 38.8125 \r\nz\r\nM 18.3125 54.390625 \r\nQ 18.3125 48.734375 21.84375 45.5625 \r\nQ 25.390625 42.390625 31.78125 42.390625 \r\nQ 38.140625 42.390625 41.71875 45.5625 \r\nQ 45.3125 48.734375 45.3125 54.390625 \r\nQ 45.3125 60.0625 41.71875 63.234375 \r\nQ 38.140625 66.40625 31.78125 66.40625 \r\nQ 25.390625 66.40625 21.84375 63.234375 \r\nQ 18.3125 60.0625 18.3125 54.390625 \r\nz\r\n\" id=\"DejaVuSans-56\"/>\r\n      </defs>\r\n      <g transform=\"translate(318.955114 239.238437)scale(0.1 -0.1)\">\r\n       <use xlink:href=\"#DejaVuSans-56\"/>\r\n       <use x=\"63.623047\" xlink:href=\"#DejaVuSans-48\"/>\r\n      </g>\r\n     </g>\r\n    </g>\r\n    <g id=\"xtick_9\">\r\n     <g id=\"line2d_9\">\r\n      <g>\r\n       <use style=\"stroke:#000000;stroke-width:0.8;\" x=\"363.363068\" xlink:href=\"#m2d9aac13c4\" y=\"224.64\"/>\r\n      </g>\r\n     </g>\r\n     <g id=\"text_9\">\r\n      <!-- 90 -->\r\n      <defs>\r\n       <path d=\"M 10.984375 1.515625 \r\nL 10.984375 10.5 \r\nQ 14.703125 8.734375 18.5 7.8125 \r\nQ 22.3125 6.890625 25.984375 6.890625 \r\nQ 35.75 6.890625 40.890625 13.453125 \r\nQ 46.046875 20.015625 46.78125 33.40625 \r\nQ 43.953125 29.203125 39.59375 26.953125 \r\nQ 35.25 24.703125 29.984375 24.703125 \r\nQ 19.046875 24.703125 12.671875 31.3125 \r\nQ 6.296875 37.9375 6.296875 49.421875 \r\nQ 6.296875 60.640625 12.9375 67.421875 \r\nQ 19.578125 74.21875 30.609375 74.21875 \r\nQ 43.265625 74.21875 49.921875 64.515625 \r\nQ 56.59375 54.828125 56.59375 36.375 \r\nQ 56.59375 19.140625 48.40625 8.859375 \r\nQ 40.234375 -1.421875 26.421875 -1.421875 \r\nQ 22.703125 -1.421875 18.890625 -0.6875 \r\nQ 15.09375 0.046875 10.984375 1.515625 \r\nz\r\nM 30.609375 32.421875 \r\nQ 37.25 32.421875 41.125 36.953125 \r\nQ 45.015625 41.5 45.015625 49.421875 \r\nQ 45.015625 57.28125 41.125 61.84375 \r\nQ 37.25 66.40625 30.609375 66.40625 \r\nQ 23.96875 66.40625 20.09375 61.84375 \r\nQ 16.21875 57.28125 16.21875 49.421875 \r\nQ 16.21875 41.5 20.09375 36.953125 \r\nQ 23.96875 32.421875 30.609375 32.421875 \r\nz\r\n\" id=\"DejaVuSans-57\"/>\r\n      </defs>\r\n      <g transform=\"translate(357.000568 239.238437)scale(0.1 -0.1)\">\r\n       <use xlink:href=\"#DejaVuSans-57\"/>\r\n       <use x=\"63.623047\" xlink:href=\"#DejaVuSans-48\"/>\r\n      </g>\r\n     </g>\r\n    </g>\r\n    <g id=\"text_10\">\r\n     <!-- train size (%) -->\r\n     <defs>\r\n      <path d=\"M 18.3125 70.21875 \r\nL 18.3125 54.6875 \r\nL 36.8125 54.6875 \r\nL 36.8125 47.703125 \r\nL 18.3125 47.703125 \r\nL 18.3125 18.015625 \r\nQ 18.3125 11.328125 20.140625 9.421875 \r\nQ 21.96875 7.515625 27.59375 7.515625 \r\nL 36.8125 7.515625 \r\nL 36.8125 0 \r\nL 27.59375 0 \r\nQ 17.1875 0 13.234375 3.875 \r\nQ 9.28125 7.765625 9.28125 18.015625 \r\nL 9.28125 47.703125 \r\nL 2.6875 47.703125 \r\nL 2.6875 54.6875 \r\nL 9.28125 54.6875 \r\nL 9.28125 70.21875 \r\nz\r\n\" id=\"DejaVuSans-116\"/>\r\n      <path d=\"M 41.109375 46.296875 \r\nQ 39.59375 47.171875 37.8125 47.578125 \r\nQ 36.03125 48 33.890625 48 \r\nQ 26.265625 48 22.1875 43.046875 \r\nQ 18.109375 38.09375 18.109375 28.8125 \r\nL 18.109375 0 \r\nL 9.078125 0 \r\nL 9.078125 54.6875 \r\nL 18.109375 54.6875 \r\nL 18.109375 46.1875 \r\nQ 20.953125 51.171875 25.484375 53.578125 \r\nQ 30.03125 56 36.53125 56 \r\nQ 37.453125 56 38.578125 55.875 \r\nQ 39.703125 55.765625 41.0625 55.515625 \r\nz\r\n\" id=\"DejaVuSans-114\"/>\r\n      <path d=\"M 34.28125 27.484375 \r\nQ 23.390625 27.484375 19.1875 25 \r\nQ 14.984375 22.515625 14.984375 16.5 \r\nQ 14.984375 11.71875 18.140625 8.90625 \r\nQ 21.296875 6.109375 26.703125 6.109375 \r\nQ 34.1875 6.109375 38.703125 11.40625 \r\nQ 43.21875 16.703125 43.21875 25.484375 \r\nL 43.21875 27.484375 \r\nz\r\nM 52.203125 31.203125 \r\nL 52.203125 0 \r\nL 43.21875 0 \r\nL 43.21875 8.296875 \r\nQ 40.140625 3.328125 35.546875 0.953125 \r\nQ 30.953125 -1.421875 24.3125 -1.421875 \r\nQ 15.921875 -1.421875 10.953125 3.296875 \r\nQ 6 8.015625 6 15.921875 \r\nQ 6 25.140625 12.171875 29.828125 \r\nQ 18.359375 34.515625 30.609375 34.515625 \r\nL 43.21875 34.515625 \r\nL 43.21875 35.40625 \r\nQ 43.21875 41.609375 39.140625 45 \r\nQ 35.0625 48.390625 27.6875 48.390625 \r\nQ 23 48.390625 18.546875 47.265625 \r\nQ 14.109375 46.140625 10.015625 43.890625 \r\nL 10.015625 52.203125 \r\nQ 14.9375 54.109375 19.578125 55.046875 \r\nQ 24.21875 56 28.609375 56 \r\nQ 40.484375 56 46.34375 49.84375 \r\nQ 52.203125 43.703125 52.203125 31.203125 \r\nz\r\n\" id=\"DejaVuSans-97\"/>\r\n      <path d=\"M 9.421875 54.6875 \r\nL 18.40625 54.6875 \r\nL 18.40625 0 \r\nL 9.421875 0 \r\nz\r\nM 9.421875 75.984375 \r\nL 18.40625 75.984375 \r\nL 18.40625 64.59375 \r\nL 9.421875 64.59375 \r\nz\r\n\" id=\"DejaVuSans-105\"/>\r\n      <path d=\"M 54.890625 33.015625 \r\nL 54.890625 0 \r\nL 45.90625 0 \r\nL 45.90625 32.71875 \r\nQ 45.90625 40.484375 42.875 44.328125 \r\nQ 39.84375 48.1875 33.796875 48.1875 \r\nQ 26.515625 48.1875 22.3125 43.546875 \r\nQ 18.109375 38.921875 18.109375 30.90625 \r\nL 18.109375 0 \r\nL 9.078125 0 \r\nL 9.078125 54.6875 \r\nL 18.109375 54.6875 \r\nL 18.109375 46.1875 \r\nQ 21.34375 51.125 25.703125 53.5625 \r\nQ 30.078125 56 35.796875 56 \r\nQ 45.21875 56 50.046875 50.171875 \r\nQ 54.890625 44.34375 54.890625 33.015625 \r\nz\r\n\" id=\"DejaVuSans-110\"/>\r\n      <path id=\"DejaVuSans-32\"/>\r\n      <path d=\"M 44.28125 53.078125 \r\nL 44.28125 44.578125 \r\nQ 40.484375 46.53125 36.375 47.5 \r\nQ 32.28125 48.484375 27.875 48.484375 \r\nQ 21.1875 48.484375 17.84375 46.4375 \r\nQ 14.5 44.390625 14.5 40.28125 \r\nQ 14.5 37.15625 16.890625 35.375 \r\nQ 19.28125 33.59375 26.515625 31.984375 \r\nL 29.59375 31.296875 \r\nQ 39.15625 29.25 43.1875 25.515625 \r\nQ 47.21875 21.78125 47.21875 15.09375 \r\nQ 47.21875 7.46875 41.1875 3.015625 \r\nQ 35.15625 -1.421875 24.609375 -1.421875 \r\nQ 20.21875 -1.421875 15.453125 -0.5625 \r\nQ 10.6875 0.296875 5.421875 2 \r\nL 5.421875 11.28125 \r\nQ 10.40625 8.6875 15.234375 7.390625 \r\nQ 20.0625 6.109375 24.8125 6.109375 \r\nQ 31.15625 6.109375 34.5625 8.28125 \r\nQ 37.984375 10.453125 37.984375 14.40625 \r\nQ 37.984375 18.0625 35.515625 20.015625 \r\nQ 33.0625 21.96875 24.703125 23.78125 \r\nL 21.578125 24.515625 \r\nQ 13.234375 26.265625 9.515625 29.90625 \r\nQ 5.8125 33.546875 5.8125 39.890625 \r\nQ 5.8125 47.609375 11.28125 51.796875 \r\nQ 16.75 56 26.8125 56 \r\nQ 31.78125 56 36.171875 55.265625 \r\nQ 40.578125 54.546875 44.28125 53.078125 \r\nz\r\n\" id=\"DejaVuSans-115\"/>\r\n      <path d=\"M 5.515625 54.6875 \r\nL 48.1875 54.6875 \r\nL 48.1875 46.484375 \r\nL 14.40625 7.171875 \r\nL 48.1875 7.171875 \r\nL 48.1875 0 \r\nL 4.296875 0 \r\nL 4.296875 8.203125 \r\nL 38.09375 47.515625 \r\nL 5.515625 47.515625 \r\nz\r\n\" id=\"DejaVuSans-122\"/>\r\n      <path d=\"M 56.203125 29.59375 \r\nL 56.203125 25.203125 \r\nL 14.890625 25.203125 \r\nQ 15.484375 15.921875 20.484375 11.0625 \r\nQ 25.484375 6.203125 34.421875 6.203125 \r\nQ 39.59375 6.203125 44.453125 7.46875 \r\nQ 49.3125 8.734375 54.109375 11.28125 \r\nL 54.109375 2.78125 \r\nQ 49.265625 0.734375 44.1875 -0.34375 \r\nQ 39.109375 -1.421875 33.890625 -1.421875 \r\nQ 20.796875 -1.421875 13.15625 6.1875 \r\nQ 5.515625 13.8125 5.515625 26.8125 \r\nQ 5.515625 40.234375 12.765625 48.109375 \r\nQ 20.015625 56 32.328125 56 \r\nQ 43.359375 56 49.78125 48.890625 \r\nQ 56.203125 41.796875 56.203125 29.59375 \r\nz\r\nM 47.21875 32.234375 \r\nQ 47.125 39.59375 43.09375 43.984375 \r\nQ 39.0625 48.390625 32.421875 48.390625 \r\nQ 24.90625 48.390625 20.390625 44.140625 \r\nQ 15.875 39.890625 15.1875 32.171875 \r\nz\r\n\" id=\"DejaVuSans-101\"/>\r\n      <path d=\"M 31 75.875 \r\nQ 24.46875 64.65625 21.28125 53.65625 \r\nQ 18.109375 42.671875 18.109375 31.390625 \r\nQ 18.109375 20.125 21.3125 9.0625 \r\nQ 24.515625 -2 31 -13.1875 \r\nL 23.1875 -13.1875 \r\nQ 15.875 -1.703125 12.234375 9.375 \r\nQ 8.59375 20.453125 8.59375 31.390625 \r\nQ 8.59375 42.28125 12.203125 53.3125 \r\nQ 15.828125 64.359375 23.1875 75.875 \r\nz\r\n\" id=\"DejaVuSans-40\"/>\r\n      <path d=\"M 72.703125 32.078125 \r\nQ 68.453125 32.078125 66.03125 28.46875 \r\nQ 63.625 24.859375 63.625 18.40625 \r\nQ 63.625 12.0625 66.03125 8.421875 \r\nQ 68.453125 4.78125 72.703125 4.78125 \r\nQ 76.859375 4.78125 79.265625 8.421875 \r\nQ 81.6875 12.0625 81.6875 18.40625 \r\nQ 81.6875 24.8125 79.265625 28.4375 \r\nQ 76.859375 32.078125 72.703125 32.078125 \r\nz\r\nM 72.703125 38.28125 \r\nQ 80.421875 38.28125 84.953125 32.90625 \r\nQ 89.5 27.546875 89.5 18.40625 \r\nQ 89.5 9.28125 84.9375 3.921875 \r\nQ 80.375 -1.421875 72.703125 -1.421875 \r\nQ 64.890625 -1.421875 60.34375 3.921875 \r\nQ 55.8125 9.28125 55.8125 18.40625 \r\nQ 55.8125 27.59375 60.375 32.9375 \r\nQ 64.9375 38.28125 72.703125 38.28125 \r\nz\r\nM 22.3125 68.015625 \r\nQ 18.109375 68.015625 15.6875 64.375 \r\nQ 13.28125 60.75 13.28125 54.390625 \r\nQ 13.28125 47.953125 15.671875 44.328125 \r\nQ 18.0625 40.71875 22.3125 40.71875 \r\nQ 26.5625 40.71875 28.96875 44.328125 \r\nQ 31.390625 47.953125 31.390625 54.390625 \r\nQ 31.390625 60.6875 28.953125 64.34375 \r\nQ 26.515625 68.015625 22.3125 68.015625 \r\nz\r\nM 66.40625 74.21875 \r\nL 74.21875 74.21875 \r\nL 28.609375 -1.421875 \r\nL 20.796875 -1.421875 \r\nz\r\nM 22.3125 74.21875 \r\nQ 30.03125 74.21875 34.609375 68.875 \r\nQ 39.203125 63.53125 39.203125 54.390625 \r\nQ 39.203125 45.171875 34.640625 39.84375 \r\nQ 30.078125 34.515625 22.3125 34.515625 \r\nQ 14.546875 34.515625 10.03125 39.859375 \r\nQ 5.515625 45.21875 5.515625 54.390625 \r\nQ 5.515625 63.484375 10.046875 68.84375 \r\nQ 14.59375 74.21875 22.3125 74.21875 \r\nz\r\n\" id=\"DejaVuSans-37\"/>\r\n      <path d=\"M 8.015625 75.875 \r\nL 15.828125 75.875 \r\nQ 23.140625 64.359375 26.78125 53.3125 \r\nQ 30.421875 42.28125 30.421875 31.390625 \r\nQ 30.421875 20.453125 26.78125 9.375 \r\nQ 23.140625 -1.703125 15.828125 -13.1875 \r\nL 8.015625 -13.1875 \r\nQ 14.5 -2 17.703125 9.0625 \r\nQ 20.90625 20.125 20.90625 31.390625 \r\nQ 20.90625 42.671875 17.703125 53.65625 \r\nQ 14.5 64.65625 8.015625 75.875 \r\nz\r\n\" id=\"DejaVuSans-41\"/>\r\n     </defs>\r\n     <g transform=\"translate(178.01875 252.916562)scale(0.1 -0.1)\">\r\n      <use xlink:href=\"#DejaVuSans-116\"/>\r\n      <use x=\"39.208984\" xlink:href=\"#DejaVuSans-114\"/>\r\n      <use x=\"80.322266\" xlink:href=\"#DejaVuSans-97\"/>\r\n      <use x=\"141.601562\" xlink:href=\"#DejaVuSans-105\"/>\r\n      <use x=\"169.384766\" xlink:href=\"#DejaVuSans-110\"/>\r\n      <use x=\"232.763672\" xlink:href=\"#DejaVuSans-32\"/>\r\n      <use x=\"264.550781\" xlink:href=\"#DejaVuSans-115\"/>\r\n      <use x=\"316.650391\" xlink:href=\"#DejaVuSans-105\"/>\r\n      <use x=\"344.433594\" xlink:href=\"#DejaVuSans-122\"/>\r\n      <use x=\"396.923828\" xlink:href=\"#DejaVuSans-101\"/>\r\n      <use x=\"458.447266\" xlink:href=\"#DejaVuSans-32\"/>\r\n      <use x=\"490.234375\" xlink:href=\"#DejaVuSans-40\"/>\r\n      <use x=\"529.248047\" xlink:href=\"#DejaVuSans-37\"/>\r\n      <use x=\"624.267578\" xlink:href=\"#DejaVuSans-41\"/>\r\n     </g>\r\n    </g>\r\n   </g>\r\n   <g id=\"matplotlib.axis_2\">\r\n    <g id=\"ytick_1\">\r\n     <g id=\"line2d_10\">\r\n      <defs>\r\n       <path d=\"M 0 0 \r\nL -3.5 0 \r\n\" id=\"mda81b615ee\" style=\"stroke:#000000;stroke-width:0.8;\"/>\r\n      </defs>\r\n      <g>\r\n       <use style=\"stroke:#000000;stroke-width:0.8;\" x=\"43.78125\" xlink:href=\"#mda81b615ee\" y=\"214.756364\"/>\r\n      </g>\r\n     </g>\r\n     <g id=\"text_11\">\r\n      <!-- 0.0 -->\r\n      <defs>\r\n       <path d=\"M 10.6875 12.40625 \r\nL 21 12.40625 \r\nL 21 0 \r\nL 10.6875 0 \r\nz\r\n\" id=\"DejaVuSans-46\"/>\r\n      </defs>\r\n      <g transform=\"translate(20.878125 218.555582)scale(0.1 -0.1)\">\r\n       <use xlink:href=\"#DejaVuSans-48\"/>\r\n       <use x=\"63.623047\" xlink:href=\"#DejaVuSans-46\"/>\r\n       <use x=\"95.410156\" xlink:href=\"#DejaVuSans-48\"/>\r\n      </g>\r\n     </g>\r\n    </g>\r\n    <g id=\"ytick_2\">\r\n     <g id=\"line2d_11\">\r\n      <g>\r\n       <use style=\"stroke:#000000;stroke-width:0.8;\" x=\"43.78125\" xlink:href=\"#mda81b615ee\" y=\"176.742378\"/>\r\n      </g>\r\n     </g>\r\n     <g id=\"text_12\">\r\n      <!-- 0.1 -->\r\n      <g transform=\"translate(20.878125 180.541596)scale(0.1 -0.1)\">\r\n       <use xlink:href=\"#DejaVuSans-48\"/>\r\n       <use x=\"63.623047\" xlink:href=\"#DejaVuSans-46\"/>\r\n       <use x=\"95.410156\" xlink:href=\"#DejaVuSans-49\"/>\r\n      </g>\r\n     </g>\r\n    </g>\r\n    <g id=\"ytick_3\">\r\n     <g id=\"line2d_12\">\r\n      <g>\r\n       <use style=\"stroke:#000000;stroke-width:0.8;\" x=\"43.78125\" xlink:href=\"#mda81b615ee\" y=\"138.728392\"/>\r\n      </g>\r\n     </g>\r\n     <g id=\"text_13\">\r\n      <!-- 0.2 -->\r\n      <g transform=\"translate(20.878125 142.52761)scale(0.1 -0.1)\">\r\n       <use xlink:href=\"#DejaVuSans-48\"/>\r\n       <use x=\"63.623047\" xlink:href=\"#DejaVuSans-46\"/>\r\n       <use x=\"95.410156\" xlink:href=\"#DejaVuSans-50\"/>\r\n      </g>\r\n     </g>\r\n    </g>\r\n    <g id=\"ytick_4\">\r\n     <g id=\"line2d_13\">\r\n      <g>\r\n       <use style=\"stroke:#000000;stroke-width:0.8;\" x=\"43.78125\" xlink:href=\"#mda81b615ee\" y=\"100.714406\"/>\r\n      </g>\r\n     </g>\r\n     <g id=\"text_14\">\r\n      <!-- 0.3 -->\r\n      <g transform=\"translate(20.878125 104.513624)scale(0.1 -0.1)\">\r\n       <use xlink:href=\"#DejaVuSans-48\"/>\r\n       <use x=\"63.623047\" xlink:href=\"#DejaVuSans-46\"/>\r\n       <use x=\"95.410156\" xlink:href=\"#DejaVuSans-51\"/>\r\n      </g>\r\n     </g>\r\n    </g>\r\n    <g id=\"ytick_5\">\r\n     <g id=\"line2d_14\">\r\n      <g>\r\n       <use style=\"stroke:#000000;stroke-width:0.8;\" x=\"43.78125\" xlink:href=\"#mda81b615ee\" y=\"62.70042\"/>\r\n      </g>\r\n     </g>\r\n     <g id=\"text_15\">\r\n      <!-- 0.4 -->\r\n      <g transform=\"translate(20.878125 66.499638)scale(0.1 -0.1)\">\r\n       <use xlink:href=\"#DejaVuSans-48\"/>\r\n       <use x=\"63.623047\" xlink:href=\"#DejaVuSans-46\"/>\r\n       <use x=\"95.410156\" xlink:href=\"#DejaVuSans-52\"/>\r\n      </g>\r\n     </g>\r\n    </g>\r\n    <g id=\"ytick_6\">\r\n     <g id=\"line2d_15\">\r\n      <g>\r\n       <use style=\"stroke:#000000;stroke-width:0.8;\" x=\"43.78125\" xlink:href=\"#mda81b615ee\" y=\"24.686434\"/>\r\n      </g>\r\n     </g>\r\n     <g id=\"text_16\">\r\n      <!-- 0.5 -->\r\n      <g transform=\"translate(20.878125 28.485652)scale(0.1 -0.1)\">\r\n       <use xlink:href=\"#DejaVuSans-48\"/>\r\n       <use x=\"63.623047\" xlink:href=\"#DejaVuSans-46\"/>\r\n       <use x=\"95.410156\" xlink:href=\"#DejaVuSans-53\"/>\r\n      </g>\r\n     </g>\r\n    </g>\r\n    <g id=\"text_17\">\r\n     <!-- error -->\r\n     <defs>\r\n      <path d=\"M 30.609375 48.390625 \r\nQ 23.390625 48.390625 19.1875 42.75 \r\nQ 14.984375 37.109375 14.984375 27.296875 \r\nQ 14.984375 17.484375 19.15625 11.84375 \r\nQ 23.34375 6.203125 30.609375 6.203125 \r\nQ 37.796875 6.203125 41.984375 11.859375 \r\nQ 46.1875 17.53125 46.1875 27.296875 \r\nQ 46.1875 37.015625 41.984375 42.703125 \r\nQ 37.796875 48.390625 30.609375 48.390625 \r\nz\r\nM 30.609375 56 \r\nQ 42.328125 56 49.015625 48.375 \r\nQ 55.71875 40.765625 55.71875 27.296875 \r\nQ 55.71875 13.875 49.015625 6.21875 \r\nQ 42.328125 -1.421875 30.609375 -1.421875 \r\nQ 18.84375 -1.421875 12.171875 6.21875 \r\nQ 5.515625 13.875 5.515625 27.296875 \r\nQ 5.515625 40.765625 12.171875 48.375 \r\nQ 18.84375 56 30.609375 56 \r\nz\r\n\" id=\"DejaVuSans-111\"/>\r\n     </defs>\r\n     <g transform=\"translate(14.798438 128.22)rotate(-90)scale(0.1 -0.1)\">\r\n      <use xlink:href=\"#DejaVuSans-101\"/>\r\n      <use x=\"61.523438\" xlink:href=\"#DejaVuSans-114\"/>\r\n      <use x=\"102.621094\" xlink:href=\"#DejaVuSans-114\"/>\r\n      <use x=\"143.703125\" xlink:href=\"#DejaVuSans-111\"/>\r\n      <use x=\"204.884766\" xlink:href=\"#DejaVuSans-114\"/>\r\n     </g>\r\n    </g>\r\n   </g>\r\n   <g id=\"line2d_16\">\r\n    <path clip-path=\"url(#pc17e2578a3)\" d=\"M 58.999432 214.756364 \r\nL 97.044886 214.756364 \r\nL 135.090341 214.756364 \r\nL 173.135795 214.756364 \r\nL 211.18125 214.756364 \r\nL 249.226705 214.756364 \r\nL 287.272159 214.756364 \r\nL 325.317614 214.756364 \r\nL 363.363068 214.756364 \r\n\" style=\"fill:none;stroke:#1f77b4;stroke-linecap:square;stroke-width:1.5;\"/>\r\n   </g>\r\n   <g id=\"line2d_17\">\r\n    <path clip-path=\"url(#pc17e2578a3)\" d=\"M 58.999432 17.083636 \r\nL 97.044886 76.523687 \r\nL 135.090341 94.712197 \r\nL 173.135795 147.672859 \r\nL 211.18125 133.297822 \r\nL 249.226705 145.640025 \r\nL 287.272159 172.518601 \r\nL 325.317614 214.756364 \r\nL 363.363068 214.756364 \r\n\" style=\"fill:none;stroke:#ff7f0e;stroke-linecap:square;stroke-width:1.5;\"/>\r\n   </g>\r\n   <g id=\"patch_3\">\r\n    <path d=\"M 43.78125 224.64 \r\nL 43.78125 7.2 \r\n\" style=\"fill:none;stroke:#000000;stroke-linecap:square;stroke-linejoin:miter;stroke-width:0.8;\"/>\r\n   </g>\r\n   <g id=\"patch_4\">\r\n    <path d=\"M 378.58125 224.64 \r\nL 378.58125 7.2 \r\n\" style=\"fill:none;stroke:#000000;stroke-linecap:square;stroke-linejoin:miter;stroke-width:0.8;\"/>\r\n   </g>\r\n   <g id=\"patch_5\">\r\n    <path d=\"M 43.78125 224.64 \r\nL 378.58125 224.64 \r\n\" style=\"fill:none;stroke:#000000;stroke-linecap:square;stroke-linejoin:miter;stroke-width:0.8;\"/>\r\n   </g>\r\n   <g id=\"patch_6\">\r\n    <path d=\"M 43.78125 7.2 \r\nL 378.58125 7.2 \r\n\" style=\"fill:none;stroke:#000000;stroke-linecap:square;stroke-linejoin:miter;stroke-width:0.8;\"/>\r\n   </g>\r\n   <g id=\"legend_1\">\r\n    <g id=\"patch_7\">\r\n     <path d=\"M 288.528125 44.55625 \r\nL 371.58125 44.55625 \r\nQ 373.58125 44.55625 373.58125 42.55625 \r\nL 373.58125 14.2 \r\nQ 373.58125 12.2 371.58125 12.2 \r\nL 288.528125 12.2 \r\nQ 286.528125 12.2 286.528125 14.2 \r\nL 286.528125 42.55625 \r\nQ 286.528125 44.55625 288.528125 44.55625 \r\nz\r\n\" style=\"fill:#ffffff;opacity:0.8;stroke:#cccccc;stroke-linejoin:miter;\"/>\r\n    </g>\r\n    <g id=\"line2d_18\">\r\n     <path d=\"M 290.528125 20.298437 \r\nL 310.528125 20.298437 \r\n\" style=\"fill:none;stroke:#1f77b4;stroke-linecap:square;stroke-width:1.5;\"/>\r\n    </g>\r\n    <g id=\"line2d_19\"/>\r\n    <g id=\"text_18\">\r\n     <!-- train error -->\r\n     <g transform=\"translate(318.528125 23.798437)scale(0.1 -0.1)\">\r\n      <use xlink:href=\"#DejaVuSans-116\"/>\r\n      <use x=\"39.208984\" xlink:href=\"#DejaVuSans-114\"/>\r\n      <use x=\"80.322266\" xlink:href=\"#DejaVuSans-97\"/>\r\n      <use x=\"141.601562\" xlink:href=\"#DejaVuSans-105\"/>\r\n      <use x=\"169.384766\" xlink:href=\"#DejaVuSans-110\"/>\r\n      <use x=\"232.763672\" xlink:href=\"#DejaVuSans-32\"/>\r\n      <use x=\"264.550781\" xlink:href=\"#DejaVuSans-101\"/>\r\n      <use x=\"326.074219\" xlink:href=\"#DejaVuSans-114\"/>\r\n      <use x=\"367.171875\" xlink:href=\"#DejaVuSans-114\"/>\r\n      <use x=\"408.253906\" xlink:href=\"#DejaVuSans-111\"/>\r\n      <use x=\"469.435547\" xlink:href=\"#DejaVuSans-114\"/>\r\n     </g>\r\n    </g>\r\n    <g id=\"line2d_20\">\r\n     <path d=\"M 290.528125 34.976562 \r\nL 310.528125 34.976562 \r\n\" style=\"fill:none;stroke:#ff7f0e;stroke-linecap:square;stroke-width:1.5;\"/>\r\n    </g>\r\n    <g id=\"line2d_21\"/>\r\n    <g id=\"text_19\">\r\n     <!-- test error -->\r\n     <g transform=\"translate(318.528125 38.476562)scale(0.1 -0.1)\">\r\n      <use xlink:href=\"#DejaVuSans-116\"/>\r\n      <use x=\"39.208984\" xlink:href=\"#DejaVuSans-101\"/>\r\n      <use x=\"100.732422\" xlink:href=\"#DejaVuSans-115\"/>\r\n      <use x=\"152.832031\" xlink:href=\"#DejaVuSans-116\"/>\r\n      <use x=\"192.041016\" xlink:href=\"#DejaVuSans-32\"/>\r\n      <use x=\"223.828125\" xlink:href=\"#DejaVuSans-101\"/>\r\n      <use x=\"285.351562\" xlink:href=\"#DejaVuSans-114\"/>\r\n      <use x=\"326.449219\" xlink:href=\"#DejaVuSans-114\"/>\r\n      <use x=\"367.53125\" xlink:href=\"#DejaVuSans-111\"/>\r\n      <use x=\"428.712891\" xlink:href=\"#DejaVuSans-114\"/>\r\n     </g>\r\n    </g>\r\n   </g>\r\n  </g>\r\n </g>\r\n <defs>\r\n  <clipPath id=\"pc17e2578a3\">\r\n   <rect height=\"217.44\" width=\"334.8\" x=\"43.78125\" y=\"7.2\"/>\r\n  </clipPath>\r\n </defs>\r\n</svg>\r\n",
      "image/png": "[encoded data removed]"
     },
     "metadata": {
      "needs_background": "light"
     }
    }
   ],
   "source": [
    "plt.plot(train_size, train_errors, label='train error')\n",
    "plt.plot(train_size, test_errors, label='test error')\n",
    "plt.xlabel('train size (%)')\n",
    "plt.ylabel('error')\n",
    "plt.legend()"
   ]
  },
  {
   "source": [
    "### Hipotesis: Se puede apreciar que a medida que el tamaño del conjunto de entrenamiento crece, el score de entrenamiento no varia, esto se conoce como baja varianza. Tambien se puede ver que a medida que el tamaño del conjunto de entrenamiento crece, el error de testeo tiende a reducir y se va reduciendo la brecha entre el error de entrenamiento y el de testeo, lo cual nos indica que el clasificador logra generalizar mejor y dar mejores predicciones."
   ],
   "cell_type": "markdown",
   "metadata": {}
  },
  {
   "cell_type": "markdown",
   "metadata": {},
   "source": [
    "# Punto 5"
   ]
  },
  {
   "cell_type": "code",
   "execution_count": 1,
   "metadata": {},
   "outputs": [],
   "source": [
    "import pandas as pd\n",
    "import numpy as np\n",
    "from scipy.stats import kurtosis"
   ]
  },
  {
   "cell_type": "code",
   "execution_count": 2,
   "metadata": {},
   "outputs": [
    {
     "data": {
      "text/html": [
       "<div>\n",
       "<style scoped>\n",
       "    .dataframe tbody tr th:only-of-type {\n",
       "        vertical-align: middle;\n",
       "    }\n",
       "\n",
       "    .dataframe tbody tr th {\n",
       "        vertical-align: top;\n",
       "    }\n",
       "\n",
       "    .dataframe thead th {\n",
       "        text-align: right;\n",
       "    }\n",
       "</style>\n",
       "<table border=\"1\" class=\"dataframe\">\n",
       "  <thead>\n",
       "    <tr style=\"text-align: right;\">\n",
       "      <th></th>\n",
       "      <th>0</th>\n",
       "      <th>1</th>\n",
       "      <th>2</th>\n",
       "      <th>3</th>\n",
       "      <th>4</th>\n",
       "      <th>5</th>\n",
       "      <th>6</th>\n",
       "      <th>7</th>\n",
       "      <th>8</th>\n",
       "      <th>9</th>\n",
       "      <th>10</th>\n",
       "      <th>11</th>\n",
       "      <th>12</th>\n",
       "      <th>13</th>\n",
       "      <th>14</th>\n",
       "      <th>15</th>\n",
       "      <th>16</th>\n",
       "    </tr>\n",
       "  </thead>\n",
       "  <tbody>\n",
       "    <tr>\n",
       "      <td>0</td>\n",
       "      <td>82.23</td>\n",
       "      <td>333.65</td>\n",
       "      <td>125.95</td>\n",
       "      <td>12231.27</td>\n",
       "      <td>1110.97</td>\n",
       "      <td>105069.63</td>\n",
       "      <td>263.66</td>\n",
       "      <td>77811.79</td>\n",
       "      <td>423.50</td>\n",
       "      <td>112743.19</td>\n",
       "      <td>823200.19</td>\n",
       "      <td>403.91</td>\n",
       "      <td>982.62</td>\n",
       "      <td>3955.22</td>\n",
       "      <td>19381.56</td>\n",
       "      <td>4324.97</td>\n",
       "      <td>125876.24</td>\n",
       "    </tr>\n",
       "    <tr>\n",
       "      <td>1</td>\n",
       "      <td>79.17</td>\n",
       "      <td>349.29</td>\n",
       "      <td>120.41</td>\n",
       "      <td>11977.18</td>\n",
       "      <td>1069.27</td>\n",
       "      <td>107210.46</td>\n",
       "      <td>261.29</td>\n",
       "      <td>69254.01</td>\n",
       "      <td>435.26</td>\n",
       "      <td>98112.25</td>\n",
       "      <td>705245.02</td>\n",
       "      <td>400.45</td>\n",
       "      <td>962.11</td>\n",
       "      <td>3946.92</td>\n",
       "      <td>17222.31</td>\n",
       "      <td>4262.06</td>\n",
       "      <td>111311.84</td>\n",
       "    </tr>\n",
       "    <tr>\n",
       "      <td>2</td>\n",
       "      <td>79.92</td>\n",
       "      <td>342.56</td>\n",
       "      <td>113.92</td>\n",
       "      <td>11712.42</td>\n",
       "      <td>997.68</td>\n",
       "      <td>108138.53</td>\n",
       "      <td>262.07</td>\n",
       "      <td>55266.32</td>\n",
       "      <td>422.36</td>\n",
       "      <td>84301.39</td>\n",
       "      <td>603368.98</td>\n",
       "      <td>392.59</td>\n",
       "      <td>944.62</td>\n",
       "      <td>3981.55</td>\n",
       "      <td>14876.55</td>\n",
       "      <td>4260.74</td>\n",
       "      <td>98425.38</td>\n",
       "    </tr>\n",
       "    <tr>\n",
       "      <td>3</td>\n",
       "      <td>75.83</td>\n",
       "      <td>299.48</td>\n",
       "      <td>163.12</td>\n",
       "      <td>11539.83</td>\n",
       "      <td>1003.56</td>\n",
       "      <td>110735.68</td>\n",
       "      <td>264.49</td>\n",
       "      <td>40753.72</td>\n",
       "      <td>419.72</td>\n",
       "      <td>75501.86</td>\n",
       "      <td>540643.37</td>\n",
       "      <td>383.81</td>\n",
       "      <td>928.89</td>\n",
       "      <td>3992.56</td>\n",
       "      <td>13453.31</td>\n",
       "      <td>4374.65</td>\n",
       "      <td>88527.77</td>\n",
       "    </tr>\n",
       "    <tr>\n",
       "      <td>4</td>\n",
       "      <td>78.72</td>\n",
       "      <td>268.19</td>\n",
       "      <td>119.30</td>\n",
       "      <td>11289.02</td>\n",
       "      <td>976.19</td>\n",
       "      <td>110619.01</td>\n",
       "      <td>262.18</td>\n",
       "      <td>54150.28</td>\n",
       "      <td>412.30</td>\n",
       "      <td>68409.14</td>\n",
       "      <td>499768.04</td>\n",
       "      <td>379.25</td>\n",
       "      <td>912.91</td>\n",
       "      <td>3941.43</td>\n",
       "      <td>12032.98</td>\n",
       "      <td>4357.31</td>\n",
       "      <td>81449.29</td>\n",
       "    </tr>\n",
       "  </tbody>\n",
       "</table>\n",
       "</div>"
      ],
      "text/plain": [
       "      0       1       2         3        4          5       6         7   \\\n",
       "0  82.23  333.65  125.95  12231.27  1110.97  105069.63  263.66  77811.79   \n",
       "1  79.17  349.29  120.41  11977.18  1069.27  107210.46  261.29  69254.01   \n",
       "2  79.92  342.56  113.92  11712.42   997.68  108138.53  262.07  55266.32   \n",
       "3  75.83  299.48  163.12  11539.83  1003.56  110735.68  264.49  40753.72   \n",
       "4  78.72  268.19  119.30  11289.02   976.19  110619.01  262.18  54150.28   \n",
       "\n",
       "       8          9          10      11      12       13        14       15  \\\n",
       "0  423.50  112743.19  823200.19  403.91  982.62  3955.22  19381.56  4324.97   \n",
       "1  435.26   98112.25  705245.02  400.45  962.11  3946.92  17222.31  4262.06   \n",
       "2  422.36   84301.39  603368.98  392.59  944.62  3981.55  14876.55  4260.74   \n",
       "3  419.72   75501.86  540643.37  383.81  928.89  3992.56  13453.31  4374.65   \n",
       "4  412.30   68409.14  499768.04  379.25  912.91  3941.43  12032.98  4357.31   \n",
       "\n",
       "          16  \n",
       "0  125876.24  \n",
       "1  111311.84  \n",
       "2   98425.38  \n",
       "3   88527.77  \n",
       "4   81449.29  "
      ]
     },
     "execution_count": 2,
     "metadata": {},
     "output_type": "execute_result"
    }
   ],
   "source": [
    "data = pd.read_excel('ELE.xlsx', header=None)  \n",
    "data.head()"
   ]
  },
  {
   "cell_type": "code",
   "execution_count": 3,
   "metadata": {},
   "outputs": [],
   "source": [
    "m = data.shape[0]\n",
    "one = np.ones((m,1))"
   ]
  },
  {
   "cell_type": "markdown",
   "metadata": {},
   "source": [
    "### 1. Estudiar el tipo de variable de manera univariante."
   ]
  },
  {
   "cell_type": "code",
   "execution_count": 4,
   "metadata": {},
   "outputs": [
    {
     "data": {
      "text/html": [
       "<div>\n",
       "<style scoped>\n",
       "    .dataframe tbody tr th:only-of-type {\n",
       "        vertical-align: middle;\n",
       "    }\n",
       "\n",
       "    .dataframe tbody tr th {\n",
       "        vertical-align: top;\n",
       "    }\n",
       "\n",
       "    .dataframe thead th {\n",
       "        text-align: right;\n",
       "    }\n",
       "</style>\n",
       "<table border=\"1\" class=\"dataframe\">\n",
       "  <thead>\n",
       "    <tr style=\"text-align: right;\">\n",
       "      <th></th>\n",
       "      <th>0</th>\n",
       "      <th>1</th>\n",
       "      <th>2</th>\n",
       "      <th>3</th>\n",
       "      <th>4</th>\n",
       "      <th>5</th>\n",
       "      <th>6</th>\n",
       "      <th>7</th>\n",
       "      <th>8</th>\n",
       "      <th>9</th>\n",
       "      <th>10</th>\n",
       "      <th>11</th>\n",
       "      <th>12</th>\n",
       "      <th>13</th>\n",
       "      <th>14</th>\n",
       "      <th>15</th>\n",
       "      <th>16</th>\n",
       "    </tr>\n",
       "  </thead>\n",
       "  <tbody>\n",
       "    <tr>\n",
       "      <td>count</td>\n",
       "      <td>24.000000</td>\n",
       "      <td>24.000000</td>\n",
       "      <td>24.000000</td>\n",
       "      <td>24.000000</td>\n",
       "      <td>24.000000</td>\n",
       "      <td>24.000000</td>\n",
       "      <td>24.000000</td>\n",
       "      <td>24.000000</td>\n",
       "      <td>24.000000</td>\n",
       "      <td>24.000000</td>\n",
       "      <td>24.000000</td>\n",
       "      <td>24.000000</td>\n",
       "      <td>24.000000</td>\n",
       "      <td>24.000000</td>\n",
       "      <td>24.000000</td>\n",
       "      <td>24.000000</td>\n",
       "      <td>24.000000</td>\n",
       "    </tr>\n",
       "    <tr>\n",
       "      <td>mean</td>\n",
       "      <td>69.569167</td>\n",
       "      <td>266.415833</td>\n",
       "      <td>86.936250</td>\n",
       "      <td>12547.755000</td>\n",
       "      <td>1203.770417</td>\n",
       "      <td>113199.392500</td>\n",
       "      <td>235.588333</td>\n",
       "      <td>55842.805417</td>\n",
       "      <td>593.431667</td>\n",
       "      <td>82134.531250</td>\n",
       "      <td>599689.956250</td>\n",
       "      <td>601.732500</td>\n",
       "      <td>925.003750</td>\n",
       "      <td>2629.052083</td>\n",
       "      <td>14387.621667</td>\n",
       "      <td>3878.305000</td>\n",
       "      <td>102866.145000</td>\n",
       "    </tr>\n",
       "    <tr>\n",
       "      <td>std</td>\n",
       "      <td>8.134553</td>\n",
       "      <td>38.848184</td>\n",
       "      <td>33.739803</td>\n",
       "      <td>1236.273447</td>\n",
       "      <td>173.740257</td>\n",
       "      <td>5622.010113</td>\n",
       "      <td>26.054715</td>\n",
       "      <td>13653.273898</td>\n",
       "      <td>152.193128</td>\n",
       "      <td>19136.279173</td>\n",
       "      <td>134450.219602</td>\n",
       "      <td>180.540165</td>\n",
       "      <td>39.084121</td>\n",
       "      <td>1472.053564</td>\n",
       "      <td>2991.939096</td>\n",
       "      <td>777.095562</td>\n",
       "      <td>28673.141354</td>\n",
       "    </tr>\n",
       "    <tr>\n",
       "      <td>min</td>\n",
       "      <td>55.880000</td>\n",
       "      <td>214.260000</td>\n",
       "      <td>-0.360000</td>\n",
       "      <td>10437.330000</td>\n",
       "      <td>930.020000</td>\n",
       "      <td>105069.630000</td>\n",
       "      <td>204.570000</td>\n",
       "      <td>40753.720000</td>\n",
       "      <td>315.430000</td>\n",
       "      <td>54032.480000</td>\n",
       "      <td>431534.830000</td>\n",
       "      <td>379.250000</td>\n",
       "      <td>869.230000</td>\n",
       "      <td>946.110000</td>\n",
       "      <td>10894.730000</td>\n",
       "      <td>2876.350000</td>\n",
       "      <td>74031.670000</td>\n",
       "    </tr>\n",
       "    <tr>\n",
       "      <td>25%</td>\n",
       "      <td>63.225000</td>\n",
       "      <td>239.472500</td>\n",
       "      <td>72.347500</td>\n",
       "      <td>11619.532500</td>\n",
       "      <td>1055.085000</td>\n",
       "      <td>109235.005000</td>\n",
       "      <td>209.025000</td>\n",
       "      <td>46561.625000</td>\n",
       "      <td>423.215000</td>\n",
       "      <td>68393.597500</td>\n",
       "      <td>507572.630000</td>\n",
       "      <td>403.902500</td>\n",
       "      <td>894.130000</td>\n",
       "      <td>1220.525000</td>\n",
       "      <td>12634.757500</td>\n",
       "      <td>3203.535000</td>\n",
       "      <td>85085.770000</td>\n",
       "    </tr>\n",
       "    <tr>\n",
       "      <td>50%</td>\n",
       "      <td>69.100000</td>\n",
       "      <td>256.100000</td>\n",
       "      <td>92.630000</td>\n",
       "      <td>12668.045000</td>\n",
       "      <td>1242.570000</td>\n",
       "      <td>111255.150000</td>\n",
       "      <td>233.735000</td>\n",
       "      <td>51969.080000</td>\n",
       "      <td>653.685000</td>\n",
       "      <td>75912.280000</td>\n",
       "      <td>560832.480000</td>\n",
       "      <td>599.985000</td>\n",
       "      <td>925.985000</td>\n",
       "      <td>2636.155000</td>\n",
       "      <td>13177.435000</td>\n",
       "      <td>3752.750000</td>\n",
       "      <td>92409.750000</td>\n",
       "    </tr>\n",
       "    <tr>\n",
       "      <td>75%</td>\n",
       "      <td>76.920000</td>\n",
       "      <td>287.705000</td>\n",
       "      <td>106.532500</td>\n",
       "      <td>13383.467500</td>\n",
       "      <td>1358.237500</td>\n",
       "      <td>117980.042500</td>\n",
       "      <td>262.422500</td>\n",
       "      <td>59133.875000</td>\n",
       "      <td>698.725000</td>\n",
       "      <td>86368.270000</td>\n",
       "      <td>631338.452500</td>\n",
       "      <td>767.895000</td>\n",
       "      <td>954.780000</td>\n",
       "      <td>4014.565000</td>\n",
       "      <td>15462.990000</td>\n",
       "      <td>4437.942500</td>\n",
       "      <td>111634.527500</td>\n",
       "    </tr>\n",
       "    <tr>\n",
       "      <td>max</td>\n",
       "      <td>82.230000</td>\n",
       "      <td>349.290000</td>\n",
       "      <td>163.120000</td>\n",
       "      <td>14734.770000</td>\n",
       "      <td>1480.070000</td>\n",
       "      <td>123542.560000</td>\n",
       "      <td>267.300000</td>\n",
       "      <td>92492.590000</td>\n",
       "      <td>824.530000</td>\n",
       "      <td>131999.850000</td>\n",
       "      <td>903238.970000</td>\n",
       "      <td>862.310000</td>\n",
       "      <td>995.990000</td>\n",
       "      <td>4272.590000</td>\n",
       "      <td>21404.120000</td>\n",
       "      <td>5245.480000</td>\n",
       "      <td>174154.020000</td>\n",
       "    </tr>\n",
       "  </tbody>\n",
       "</table>\n",
       "</div>"
      ],
      "text/plain": [
       "              0           1           2             3            4   \\\n",
       "count  24.000000   24.000000   24.000000     24.000000    24.000000   \n",
       "mean   69.569167  266.415833   86.936250  12547.755000  1203.770417   \n",
       "std     8.134553   38.848184   33.739803   1236.273447   173.740257   \n",
       "min    55.880000  214.260000   -0.360000  10437.330000   930.020000   \n",
       "25%    63.225000  239.472500   72.347500  11619.532500  1055.085000   \n",
       "50%    69.100000  256.100000   92.630000  12668.045000  1242.570000   \n",
       "75%    76.920000  287.705000  106.532500  13383.467500  1358.237500   \n",
       "max    82.230000  349.290000  163.120000  14734.770000  1480.070000   \n",
       "\n",
       "                  5           6             7           8              9   \\\n",
       "count      24.000000   24.000000     24.000000   24.000000      24.000000   \n",
       "mean   113199.392500  235.588333  55842.805417  593.431667   82134.531250   \n",
       "std      5622.010113   26.054715  13653.273898  152.193128   19136.279173   \n",
       "min    105069.630000  204.570000  40753.720000  315.430000   54032.480000   \n",
       "25%    109235.005000  209.025000  46561.625000  423.215000   68393.597500   \n",
       "50%    111255.150000  233.735000  51969.080000  653.685000   75912.280000   \n",
       "75%    117980.042500  262.422500  59133.875000  698.725000   86368.270000   \n",
       "max    123542.560000  267.300000  92492.590000  824.530000  131999.850000   \n",
       "\n",
       "                  10          11          12           13            14  \\\n",
       "count      24.000000   24.000000   24.000000    24.000000     24.000000   \n",
       "mean   599689.956250  601.732500  925.003750  2629.052083  14387.621667   \n",
       "std    134450.219602  180.540165   39.084121  1472.053564   2991.939096   \n",
       "min    431534.830000  379.250000  869.230000   946.110000  10894.730000   \n",
       "25%    507572.630000  403.902500  894.130000  1220.525000  12634.757500   \n",
       "50%    560832.480000  599.985000  925.985000  2636.155000  13177.435000   \n",
       "75%    631338.452500  767.895000  954.780000  4014.565000  15462.990000   \n",
       "max    903238.970000  862.310000  995.990000  4272.590000  21404.120000   \n",
       "\n",
       "                15             16  \n",
       "count    24.000000      24.000000  \n",
       "mean   3878.305000  102866.145000  \n",
       "std     777.095562   28673.141354  \n",
       "min    2876.350000   74031.670000  \n",
       "25%    3203.535000   85085.770000  \n",
       "50%    3752.750000   92409.750000  \n",
       "75%    4437.942500  111634.527500  \n",
       "max    5245.480000  174154.020000  "
      ]
     },
     "execution_count": 4,
     "metadata": {},
     "output_type": "execute_result"
    }
   ],
   "source": [
    "data.describe()"
   ]
  },
  {
   "cell_type": "markdown",
   "metadata": {},
   "source": [
    "Curtosis"
   ]
  },
  {
   "cell_type": "code",
   "execution_count": 5,
   "metadata": {},
   "outputs": [
    {
     "data": {
      "text/plain": [
       "array([-1.33631823, -0.41679567,  0.83789888, -0.94935956, -1.34452428,\n",
       "       -0.93677626, -1.83356592,  0.5090123 , -1.17579249,  0.43933698,\n",
       "       -0.22841013, -1.60304349, -0.96607489, -1.97465921, -0.13484978,\n",
       "       -1.46473807,  0.74873281])"
      ]
     },
     "execution_count": 5,
     "metadata": {},
     "output_type": "execute_result"
    }
   ],
   "source": [
    "kurtosis(data)"
   ]
  },
  {
   "cell_type": "markdown",
   "metadata": {},
   "source": [
    "Varianza"
   ]
  },
  {
   "cell_type": "code",
   "execution_count": 6,
   "metadata": {},
   "outputs": [
    {
     "data": {
      "text/plain": [
       "0     6.617095e+01\n",
       "1     1.509181e+03\n",
       "2     1.138374e+03\n",
       "3     1.528372e+06\n",
       "4     3.018568e+04\n",
       "5     3.160700e+07\n",
       "6     6.788482e+02\n",
       "7     1.864119e+08\n",
       "8     2.316275e+04\n",
       "9     3.661972e+08\n",
       "10    1.807686e+10\n",
       "11    3.259475e+04\n",
       "12    1.527569e+03\n",
       "13    2.166942e+06\n",
       "14    8.951700e+06\n",
       "15    6.038775e+05\n",
       "16    8.221490e+08\n",
       "dtype: float64"
      ]
     },
     "execution_count": 6,
     "metadata": {},
     "output_type": "execute_result"
    }
   ],
   "source": [
    "data.var()"
   ]
  },
  {
   "cell_type": "markdown",
   "metadata": {},
   "source": [
    "La mayoria de las variables presentan una dispersión alta, esto se puede identificar debido a que la variabilidad tiene una magnitud significativa y la curtosis es menor a 0; por lo tanto puede ocurrir poca concentración de datos en la media. "
   ]
  },
  {
   "cell_type": "markdown",
   "metadata": {},
   "source": [
    "Las variables del dataset se encuentran en diferentes escalas, lo cual puede afectar la precisión del modelo."
   ]
  },
  {
   "cell_type": "markdown",
   "metadata": {},
   "source": [
    "### 2. Calcular las medidas de centralización: el vector de medias."
   ]
  },
  {
   "cell_type": "markdown",
   "metadata": {},
   "source": [
    "Fórmula $\\overline{X}=\\frac{1}{m}X^t1$"
   ]
  },
  {
   "cell_type": "code",
   "execution_count": 7,
   "metadata": {},
   "outputs": [
    {
     "data": {
      "text/plain": [
       "[[69.56916666666666],\n",
       " [266.41583333333335],\n",
       " [86.93625],\n",
       " [12547.755],\n",
       " [1203.7704166666667],\n",
       " [113199.3925],\n",
       " [235.5883333333333],\n",
       " [55842.80541666666],\n",
       " [593.4316666666666],\n",
       " [82134.53125],\n",
       " [599689.9562499999],\n",
       " [601.7325],\n",
       " [925.0037499999999],\n",
       " [2629.052083333333],\n",
       " [14387.621666666666],\n",
       " [3878.3049999999994],\n",
       " [102866.14499999999]]"
      ]
     },
     "execution_count": 7,
     "metadata": {},
     "output_type": "execute_result"
    }
   ],
   "source": [
    "media = np.dot(1/m,data.T).dot(one)\n",
    "media.tolist()"
   ]
  },
  {
   "cell_type": "markdown",
   "metadata": {},
   "source": [
    "### 3. Calcular la matriz de varianzas y covarianzas."
   ]
  },
  {
   "cell_type": "markdown",
   "metadata": {},
   "source": [
    "Con fórmula\n",
    "$$P=I-\\frac{1}{m}11^t$$\n",
    "$$S=\\frac{1}{m}X^tPX$$"
   ]
  },
  {
   "cell_type": "code",
   "execution_count": 8,
   "metadata": {},
   "outputs": [],
   "source": [
    "P = np.eye(m)-(np.dot((1/m),one).dot(one.T))"
   ]
  },
  {
   "cell_type": "code",
   "execution_count": 9,
   "metadata": {},
   "outputs": [
    {
     "data": {
      "text/plain": [
       "array([[ 6.34138243e+01,  1.29404734e+02,  1.31144168e+02,\n",
       "        -1.36629752e+03, -3.77258783e+02, -2.29021056e+04,\n",
       "         1.34331857e+02,  5.89271128e+04, -3.92280599e+02,\n",
       "         7.47337229e+04,  4.79474939e+05, -8.22213360e+02,\n",
       "         1.64663740e+01,  8.06172401e+03,  1.09356647e+04,\n",
       "         3.42184255e+03,  8.71150158e+04],\n",
       "       [ 1.29404734e+02,  1.44629882e+03,  6.93372184e+02,\n",
       "        -1.17335569e+04, -2.63103951e+03, -8.67740787e+04,\n",
       "         4.14540201e+02,  1.24167510e+04, -2.07486861e+03,\n",
       "         2.51739810e+04,  4.92077451e+05, -2.80180583e+03,\n",
       "         2.94765703e+02,  2.27405196e+04,  1.08248196e+04,\n",
       "         9.18902297e+03, -8.07253657e+04],\n",
       "       [ 1.31144168e+02,  6.93372184e+02,  1.09094205e+03,\n",
       "        -1.30626252e+04, -2.83039529e+03, -7.46646008e+04,\n",
       "         4.82355865e+02,  2.21221081e+04, -2.43781837e+03,\n",
       "         2.91395534e+04,  3.95361424e+05, -3.82958840e+03,\n",
       "         2.30770727e+02,  2.43992013e+04,  1.43979403e+04,\n",
       "         1.03479591e+04, -1.87379061e+04],\n",
       "       [-1.36629752e+03, -1.17335569e+04, -1.30626252e+04,\n",
       "         1.46468987e+06,  1.77926538e+05,  2.43654616e+06,\n",
       "         2.50199198e+03,  8.16324436e+06,  1.30505780e+05,\n",
       "         1.26931975e+07,  1.11409490e+08,  8.34426999e+04,\n",
       "        -1.34072306e+04,  3.18947225e+05,  2.17480721e+06,\n",
       "         2.92349050e+05,  2.51401121e+07],\n",
       "       [-3.77258783e+02, -2.63103951e+03, -2.83039529e+03,\n",
       "         1.77926538e+05,  2.89279404e+04,  6.33869863e+05,\n",
       "        -1.50994833e+03,  8.88012132e+05,  2.14809828e+04,\n",
       "         1.55701651e+06,  1.19692040e+07,  2.11800584e+04,\n",
       "        -3.26535981e+02, -5.16170266e+04,  2.14764204e+05,\n",
       "        -9.16185971e+03,  2.90175745e+06],\n",
       "       [-2.29021056e+04, -8.67740787e+04, -7.46646008e+04,\n",
       "         2.43654616e+06,  6.33869863e+05,  3.02900395e+07,\n",
       "        -1.03874160e+05, -1.81001516e+07,  4.69397915e+05,\n",
       "        -1.34451367e+07, -1.06964111e+08,  8.00368254e+05,\n",
       "         8.23545176e+04, -5.29734842e+06, -4.17797142e+06,\n",
       "        -2.45107191e+06, -1.10681595e+07],\n",
       "       [ 1.34331857e+02,  4.14540201e+02,  4.82355865e+02,\n",
       "         2.50199198e+03, -1.50994833e+03, -1.03874160e+05,\n",
       "         6.50562839e+02,  1.44369872e+05, -1.07181653e+03,\n",
       "         1.54685186e+05,  1.54210444e+06, -3.73641565e+03,\n",
       "        -3.29543756e+02,  3.53440121e+04,  3.57429697e+04,\n",
       "         1.77880985e+04,  2.64893719e+05],\n",
       "       [ 5.89271128e+04,  1.24167510e+04,  2.21221081e+04,\n",
       "         8.16324436e+06,  8.88012132e+05, -1.81001516e+07,\n",
       "         1.44369872e+05,  1.78644726e+08,  3.48353246e+05,\n",
       "         2.38862424e+08,  1.62546119e+09, -4.53242842e+05,\n",
       "        -4.85653006e+04,  1.01456858e+07,  3.61856165e+07,\n",
       "         4.97846722e+06,  3.41251811e+08],\n",
       "       [-3.92280599e+02, -2.07486861e+03, -2.43781837e+03,\n",
       "         1.30505780e+05,  2.14809828e+04,  4.69397915e+05,\n",
       "        -1.07181653e+03,  3.48353246e+05,  2.21976337e+04,\n",
       "         7.21884374e+05,  6.57306869e+06,  1.77581120e+04,\n",
       "        -1.48915007e+03, -3.82850053e+04,  9.98650126e+04,\n",
       "         2.03439808e+03,  1.64761060e+06],\n",
       "       [ 7.47337229e+04,  2.51739810e+04,  2.91395534e+04,\n",
       "         1.26931975e+07,  1.55701651e+06, -1.34451367e+07,\n",
       "         1.54685186e+05,  2.38862424e+08,  7.21884374e+05,\n",
       "         3.50938965e+08,  2.33774081e+09, -1.77100017e+05,\n",
       "        -4.03401094e+04,  1.15498525e+07,  5.22432278e+07,\n",
       "         5.51074546e+06,  4.89701757e+08],\n",
       "       [ 4.79474939e+05,  4.92077451e+05,  3.95361424e+05,\n",
       "         1.11409490e+08,  1.19692040e+07, -1.06964111e+08,\n",
       "         1.54210444e+06,  1.62546119e+09,  6.57306869e+06,\n",
       "         2.33774081e+09,  1.73236590e+10, -2.44989893e+06,\n",
       "        -7.25966252e+05,  1.06012584e+08,  3.76489387e+08,\n",
       "         5.67203518e+07,  3.55418621e+09],\n",
       "       [-8.22213360e+02, -2.80180583e+03, -3.82958840e+03,\n",
       "         8.34426999e+04,  2.11800584e+04,  8.00368254e+05,\n",
       "        -3.73641565e+03, -4.53242842e+05,  1.77581120e+04,\n",
       "        -1.77100017e+05, -2.44989893e+06,  3.12366366e+04,\n",
       "         5.52784420e+02, -1.94189388e+05, -8.62001789e+04,\n",
       "        -8.68888083e+04, -1.03368694e+05],\n",
       "       [ 1.64663740e+01,  2.94765703e+02,  2.30770727e+02,\n",
       "        -1.34072306e+04, -3.26535981e+02,  8.23545176e+04,\n",
       "        -3.29543756e+02, -4.85653006e+04, -1.48915007e+03,\n",
       "        -4.03401094e+04, -7.25966252e+05,  5.52784420e+02,\n",
       "         1.46391983e+03, -1.87559335e+04, -2.15997015e+04,\n",
       "        -1.38146091e+04, -2.47490186e+05],\n",
       "       [ 8.06172401e+03,  2.27405196e+04,  2.43992013e+04,\n",
       "         3.18947225e+05, -5.16170266e+04, -5.29734842e+06,\n",
       "         3.53440121e+04,  1.01456858e+07, -3.82850053e+04,\n",
       "         1.15498525e+07,  1.06012584e+08, -1.94189388e+05,\n",
       "        -1.87559335e+04,  2.07665246e+06,  2.32178655e+06,\n",
       "         1.05299505e+06,  2.02338196e+07],\n",
       "       [ 1.09356647e+04,  1.08248196e+04,  1.43979403e+04,\n",
       "         2.17480721e+06,  2.14764204e+05, -4.17797142e+06,\n",
       "         3.57429697e+04,  3.61856165e+07,  9.98650126e+04,\n",
       "         5.22432278e+07,  3.76489387e+08, -8.62001789e+04,\n",
       "        -2.15997015e+04,  2.32178655e+06,  8.57871207e+06,\n",
       "         1.20911398e+06,  7.72195589e+07],\n",
       "       [ 3.42184255e+03,  9.18902297e+03,  1.03479591e+04,\n",
       "         2.92349050e+05, -9.16185971e+03, -2.45107191e+06,\n",
       "         1.77880985e+04,  4.97846722e+06,  2.03439808e+03,\n",
       "         5.51074546e+06,  5.67203518e+07, -8.68888083e+04,\n",
       "        -1.38146091e+04,  1.05299505e+06,  1.20911398e+06,\n",
       "         5.78715950e+05,  1.11611410e+07],\n",
       "       [ 8.71150158e+04, -8.07253657e+04, -1.87379061e+04,\n",
       "         2.51401121e+07,  2.90175745e+06, -1.10681595e+07,\n",
       "         2.64893719e+05,  3.41251811e+08,  1.64761060e+06,\n",
       "         4.89701757e+08,  3.55418621e+09, -1.03368694e+05,\n",
       "        -2.47490186e+05,  2.02338196e+07,  7.72195589e+07,\n",
       "         1.11611410e+07,  7.87892825e+08]])"
      ]
     },
     "execution_count": 9,
     "metadata": {},
     "output_type": "execute_result"
    }
   ],
   "source": [
    "S = np.dot((1/m),data.T).dot(P).dot(data)\n",
    "S"
   ]
  },
  {
   "cell_type": "markdown",
   "metadata": {},
   "source": [
    "### 4. Centralizar los datos y calcular la matriz de varianzas y covarianzas."
   ]
  },
  {
   "cell_type": "markdown",
   "metadata": {},
   "source": [
    "Con fórmula\n",
    "$$\\tilde{X}=X − 1\\overline{X^t}$$\n",
    "$$S=\\frac{1}{m}\\tilde{X^t}\\tilde{X}$$"
   ]
  },
  {
   "cell_type": "code",
   "execution_count": 10,
   "metadata": {},
   "outputs": [],
   "source": [
    "XCentrada = data-one.dot(media.T)"
   ]
  },
  {
   "cell_type": "code",
   "execution_count": 11,
   "metadata": {},
   "outputs": [
    {
     "data": {
      "text/plain": [
       "array([[ 6.34138243e+01,  1.29404734e+02,  1.31144168e+02,\n",
       "        -1.36629752e+03, -3.77258783e+02, -2.29021056e+04,\n",
       "         1.34331857e+02,  5.89271128e+04, -3.92280599e+02,\n",
       "         7.47337229e+04,  4.79474939e+05, -8.22213360e+02,\n",
       "         1.64663740e+01,  8.06172401e+03,  1.09356647e+04,\n",
       "         3.42184255e+03,  8.71150157e+04],\n",
       "       [ 1.29404734e+02,  1.44629882e+03,  6.93372184e+02,\n",
       "        -1.17335569e+04, -2.63103951e+03, -8.67740787e+04,\n",
       "         4.14540201e+02,  1.24167510e+04, -2.07486861e+03,\n",
       "         2.51739810e+04,  4.92077451e+05, -2.80180583e+03,\n",
       "         2.94765703e+02,  2.27405196e+04,  1.08248196e+04,\n",
       "         9.18902297e+03, -8.07253657e+04],\n",
       "       [ 1.31144168e+02,  6.93372184e+02,  1.09094205e+03,\n",
       "        -1.30626252e+04, -2.83039529e+03, -7.46646008e+04,\n",
       "         4.82355865e+02,  2.21221081e+04, -2.43781837e+03,\n",
       "         2.91395534e+04,  3.95361424e+05, -3.82958840e+03,\n",
       "         2.30770727e+02,  2.43992013e+04,  1.43979403e+04,\n",
       "         1.03479591e+04, -1.87379061e+04],\n",
       "       [-1.36629752e+03, -1.17335569e+04, -1.30626252e+04,\n",
       "         1.46468987e+06,  1.77926538e+05,  2.43654616e+06,\n",
       "         2.50199198e+03,  8.16324436e+06,  1.30505780e+05,\n",
       "         1.26931975e+07,  1.11409490e+08,  8.34426999e+04,\n",
       "        -1.34072306e+04,  3.18947225e+05,  2.17480721e+06,\n",
       "         2.92349050e+05,  2.51401121e+07],\n",
       "       [-3.77258783e+02, -2.63103951e+03, -2.83039529e+03,\n",
       "         1.77926538e+05,  2.89279404e+04,  6.33869863e+05,\n",
       "        -1.50994833e+03,  8.88012132e+05,  2.14809828e+04,\n",
       "         1.55701651e+06,  1.19692040e+07,  2.11800584e+04,\n",
       "        -3.26535981e+02, -5.16170266e+04,  2.14764204e+05,\n",
       "        -9.16185971e+03,  2.90175745e+06],\n",
       "       [-2.29021056e+04, -8.67740787e+04, -7.46646008e+04,\n",
       "         2.43654616e+06,  6.33869863e+05,  3.02900395e+07,\n",
       "        -1.03874160e+05, -1.81001516e+07,  4.69397915e+05,\n",
       "        -1.34451367e+07, -1.06964111e+08,  8.00368254e+05,\n",
       "         8.23545176e+04, -5.29734842e+06, -4.17797142e+06,\n",
       "        -2.45107191e+06, -1.10681595e+07],\n",
       "       [ 1.34331857e+02,  4.14540201e+02,  4.82355865e+02,\n",
       "         2.50199198e+03, -1.50994833e+03, -1.03874160e+05,\n",
       "         6.50562839e+02,  1.44369872e+05, -1.07181653e+03,\n",
       "         1.54685186e+05,  1.54210444e+06, -3.73641565e+03,\n",
       "        -3.29543756e+02,  3.53440121e+04,  3.57429697e+04,\n",
       "         1.77880985e+04,  2.64893719e+05],\n",
       "       [ 5.89271128e+04,  1.24167510e+04,  2.21221081e+04,\n",
       "         8.16324436e+06,  8.88012132e+05, -1.81001516e+07,\n",
       "         1.44369872e+05,  1.78644726e+08,  3.48353246e+05,\n",
       "         2.38862424e+08,  1.62546119e+09, -4.53242842e+05,\n",
       "        -4.85653006e+04,  1.01456858e+07,  3.61856165e+07,\n",
       "         4.97846722e+06,  3.41251811e+08],\n",
       "       [-3.92280599e+02, -2.07486861e+03, -2.43781837e+03,\n",
       "         1.30505780e+05,  2.14809828e+04,  4.69397915e+05,\n",
       "        -1.07181653e+03,  3.48353246e+05,  2.21976337e+04,\n",
       "         7.21884374e+05,  6.57306869e+06,  1.77581120e+04,\n",
       "        -1.48915007e+03, -3.82850053e+04,  9.98650126e+04,\n",
       "         2.03439808e+03,  1.64761060e+06],\n",
       "       [ 7.47337229e+04,  2.51739810e+04,  2.91395534e+04,\n",
       "         1.26931975e+07,  1.55701651e+06, -1.34451367e+07,\n",
       "         1.54685186e+05,  2.38862424e+08,  7.21884374e+05,\n",
       "         3.50938965e+08,  2.33774081e+09, -1.77100017e+05,\n",
       "        -4.03401094e+04,  1.15498525e+07,  5.22432278e+07,\n",
       "         5.51074546e+06,  4.89701757e+08],\n",
       "       [ 4.79474939e+05,  4.92077451e+05,  3.95361424e+05,\n",
       "         1.11409490e+08,  1.19692040e+07, -1.06964111e+08,\n",
       "         1.54210444e+06,  1.62546119e+09,  6.57306869e+06,\n",
       "         2.33774081e+09,  1.73236590e+10, -2.44989893e+06,\n",
       "        -7.25966252e+05,  1.06012584e+08,  3.76489387e+08,\n",
       "         5.67203518e+07,  3.55418621e+09],\n",
       "       [-8.22213360e+02, -2.80180583e+03, -3.82958840e+03,\n",
       "         8.34426999e+04,  2.11800584e+04,  8.00368254e+05,\n",
       "        -3.73641565e+03, -4.53242842e+05,  1.77581120e+04,\n",
       "        -1.77100017e+05, -2.44989893e+06,  3.12366366e+04,\n",
       "         5.52784420e+02, -1.94189388e+05, -8.62001789e+04,\n",
       "        -8.68888083e+04, -1.03368694e+05],\n",
       "       [ 1.64663740e+01,  2.94765703e+02,  2.30770727e+02,\n",
       "        -1.34072306e+04, -3.26535981e+02,  8.23545176e+04,\n",
       "        -3.29543756e+02, -4.85653006e+04, -1.48915007e+03,\n",
       "        -4.03401094e+04, -7.25966252e+05,  5.52784420e+02,\n",
       "         1.46391983e+03, -1.87559335e+04, -2.15997015e+04,\n",
       "        -1.38146091e+04, -2.47490186e+05],\n",
       "       [ 8.06172401e+03,  2.27405196e+04,  2.43992013e+04,\n",
       "         3.18947225e+05, -5.16170266e+04, -5.29734842e+06,\n",
       "         3.53440121e+04,  1.01456858e+07, -3.82850053e+04,\n",
       "         1.15498525e+07,  1.06012584e+08, -1.94189388e+05,\n",
       "        -1.87559335e+04,  2.07665246e+06,  2.32178655e+06,\n",
       "         1.05299505e+06,  2.02338196e+07],\n",
       "       [ 1.09356647e+04,  1.08248196e+04,  1.43979403e+04,\n",
       "         2.17480721e+06,  2.14764204e+05, -4.17797142e+06,\n",
       "         3.57429697e+04,  3.61856165e+07,  9.98650126e+04,\n",
       "         5.22432278e+07,  3.76489387e+08, -8.62001789e+04,\n",
       "        -2.15997015e+04,  2.32178655e+06,  8.57871207e+06,\n",
       "         1.20911398e+06,  7.72195589e+07],\n",
       "       [ 3.42184255e+03,  9.18902297e+03,  1.03479591e+04,\n",
       "         2.92349050e+05, -9.16185971e+03, -2.45107191e+06,\n",
       "         1.77880985e+04,  4.97846722e+06,  2.03439808e+03,\n",
       "         5.51074546e+06,  5.67203518e+07, -8.68888083e+04,\n",
       "        -1.38146091e+04,  1.05299505e+06,  1.20911398e+06,\n",
       "         5.78715950e+05,  1.11611410e+07],\n",
       "       [ 8.71150157e+04, -8.07253657e+04, -1.87379061e+04,\n",
       "         2.51401121e+07,  2.90175745e+06, -1.10681595e+07,\n",
       "         2.64893719e+05,  3.41251811e+08,  1.64761060e+06,\n",
       "         4.89701757e+08,  3.55418621e+09, -1.03368694e+05,\n",
       "        -2.47490186e+05,  2.02338196e+07,  7.72195589e+07,\n",
       "         1.11611410e+07,  7.87892825e+08]])"
      ]
     },
     "execution_count": 11,
     "metadata": {},
     "output_type": "execute_result"
    }
   ],
   "source": [
    "S = np.dot(1/m, XCentrada.T).dot(XCentrada)\n",
    "S"
   ]
  },
  {
   "cell_type": "markdown",
   "metadata": {},
   "source": [
    "### 5. Calcular la variabilidad total y la varianza promedio."
   ]
  },
  {
   "cell_type": "code",
   "execution_count": 18,
   "metadata": {},
   "outputs": [],
   "source": [
    "diagonal = np.diag(S)"
   ]
  },
  {
   "cell_type": "markdown",
   "metadata": {},
   "source": [
    "Varianza Total"
   ]
  },
  {
   "cell_type": "code",
   "execution_count": 20,
   "metadata": {},
   "outputs": [
    {
     "data": {
      "text/plain": [
       "18684211389.65595"
      ]
     },
     "execution_count": 20,
     "metadata": {},
     "output_type": "execute_result"
    }
   ],
   "source": [
    "sum(diagonal)"
   ]
  },
  {
   "cell_type": "markdown",
   "metadata": {},
   "source": [
    "Varianza Promedio"
   ]
  },
  {
   "cell_type": "code",
   "execution_count": 22,
   "metadata": {},
   "outputs": [
    {
     "data": {
      "text/plain": [
       "1099071258.2150557"
      ]
     },
     "execution_count": 22,
     "metadata": {},
     "output_type": "execute_result"
    }
   ],
   "source": [
    "(1/S.shape[1])*sum(diagonal)"
   ]
  },
  {
   "cell_type": "markdown",
   "metadata": {},
   "source": [
    "### 6. Calcule la varianza generalizada y la variabilidad promedio."
   ]
  },
  {
   "cell_type": "markdown",
   "metadata": {},
   "source": [
    "Varianza Generalizada"
   ]
  },
  {
   "cell_type": "code",
   "execution_count": 16,
   "metadata": {},
   "outputs": [
    {
     "data": {
      "text/plain": [
       "5.525955295973817e+77"
      ]
     },
     "execution_count": 16,
     "metadata": {},
     "output_type": "execute_result"
    }
   ],
   "source": [
    "VG = np.linalg.det(S)\n",
    "VG"
   ]
  },
  {
   "cell_type": "markdown",
   "metadata": {},
   "source": [
    "Variabilidad Promedio"
   ]
  },
  {
   "cell_type": "code",
   "execution_count": 23,
   "metadata": {},
   "outputs": [
    {
     "data": {
      "text/plain": [
       "37418.19089716665"
      ]
     },
     "execution_count": 23,
     "metadata": {},
     "output_type": "execute_result"
    }
   ],
   "source": [
    "VP = VG**(1/S.shape[1])\n",
    "VP"
   ]
  },
  {
   "cell_type": "markdown",
   "metadata": {},
   "source": [
    "### 7. Distancia de Mahalanobis Se define la distancia de Mahalanobis entre un punto y su vector de medias como"
   ]
  },
  {
   "cell_type": "code",
   "execution_count": null,
   "metadata": {},
   "outputs": [],
   "source": [
    "from scipy.spatial import distance"
   ]
  },
  {
   "cell_type": "code",
   "execution_count": null,
   "metadata": {},
   "outputs": [],
   "source": [
    "mahal = []\n",
    "for i in range(0, m-1):\n",
    "    mahal.append(distance.mahalanobis(data.iloc[[i]], media, np.linalg.inv(S)))\n",
    "\n",
    "mahal"
   ]
  },
  {
   "cell_type": "markdown",
   "metadata": {},
   "source": [
    "# Punto 6"
   ]
  },
  {
   "cell_type": "code",
   "execution_count": 1,
   "metadata": {},
   "outputs": [],
   "source": [
    "import pandas as pd\n",
    "import numpy as np\n",
    "import plotly.express as px\n",
    "from sklearn import linear_model\n",
    "from scipy import stats\n",
    "import pingouin as pg"
   ]
  },
  {
   "cell_type": "code",
   "execution_count": 2,
   "metadata": {},
   "outputs": [
    {
     "output_type": "execute_result",
     "data": {
      "text/plain": [
       "      0       1       2         3        4          5       6         7   \\\n",
       "0  82.23  333.65  125.95  12231.27  1110.97  105069.63  263.66  77811.79   \n",
       "1  79.17  349.29  120.41  11977.18  1069.27  107210.46  261.29  69254.01   \n",
       "2  79.92  342.56  113.92  11712.42   997.68  108138.53  262.07  55266.32   \n",
       "\n",
       "       8          9          10      11      12       13        14       15  \\\n",
       "0  423.50  112743.19  823200.19  403.91  982.62  3955.22  19381.56  4324.97   \n",
       "1  435.26   98112.25  705245.02  400.45  962.11  3946.92  17222.31  4262.06   \n",
       "2  422.36   84301.39  603368.98  392.59  944.62  3981.55  14876.55  4260.74   \n",
       "\n",
       "          16  \n",
       "0  125876.24  \n",
       "1  111311.84  \n",
       "2   98425.38  "
      ],
      "text/html": "<div>\n<style scoped>\n    .dataframe tbody tr th:only-of-type {\n        vertical-align: middle;\n    }\n\n    .dataframe tbody tr th {\n        vertical-align: top;\n    }\n\n    .dataframe thead th {\n        text-align: right;\n    }\n</style>\n<table border=\"1\" class=\"dataframe\">\n  <thead>\n    <tr style=\"text-align: right;\">\n      <th></th>\n      <th>0</th>\n      <th>1</th>\n      <th>2</th>\n      <th>3</th>\n      <th>4</th>\n      <th>5</th>\n      <th>6</th>\n      <th>7</th>\n      <th>8</th>\n      <th>9</th>\n      <th>10</th>\n      <th>11</th>\n      <th>12</th>\n      <th>13</th>\n      <th>14</th>\n      <th>15</th>\n      <th>16</th>\n    </tr>\n  </thead>\n  <tbody>\n    <tr>\n      <th>0</th>\n      <td>82.23</td>\n      <td>333.65</td>\n      <td>125.95</td>\n      <td>12231.27</td>\n      <td>1110.97</td>\n      <td>105069.63</td>\n      <td>263.66</td>\n      <td>77811.79</td>\n      <td>423.50</td>\n      <td>112743.19</td>\n      <td>823200.19</td>\n      <td>403.91</td>\n      <td>982.62</td>\n      <td>3955.22</td>\n      <td>19381.56</td>\n      <td>4324.97</td>\n      <td>125876.24</td>\n    </tr>\n    <tr>\n      <th>1</th>\n      <td>79.17</td>\n      <td>349.29</td>\n      <td>120.41</td>\n      <td>11977.18</td>\n      <td>1069.27</td>\n      <td>107210.46</td>\n      <td>261.29</td>\n      <td>69254.01</td>\n      <td>435.26</td>\n      <td>98112.25</td>\n      <td>705245.02</td>\n      <td>400.45</td>\n      <td>962.11</td>\n      <td>3946.92</td>\n      <td>17222.31</td>\n      <td>4262.06</td>\n      <td>111311.84</td>\n    </tr>\n    <tr>\n      <th>2</th>\n      <td>79.92</td>\n      <td>342.56</td>\n      <td>113.92</td>\n      <td>11712.42</td>\n      <td>997.68</td>\n      <td>108138.53</td>\n      <td>262.07</td>\n      <td>55266.32</td>\n      <td>422.36</td>\n      <td>84301.39</td>\n      <td>603368.98</td>\n      <td>392.59</td>\n      <td>944.62</td>\n      <td>3981.55</td>\n      <td>14876.55</td>\n      <td>4260.74</td>\n      <td>98425.38</td>\n    </tr>\n  </tbody>\n</table>\n</div>"
     },
     "metadata": {},
     "execution_count": 2
    }
   ],
   "source": [
    "df = pd.read_excel('ELE.xlsx', header=None)\n",
    "df.head(3)"
   ]
  },
  {
   "cell_type": "code",
   "execution_count": 3,
   "metadata": {},
   "outputs": [
    {
     "output_type": "display_data",
     "data": {
      "application/vnd.plotly.v1+json": {
       "config": {
        "plotlyServerURL": "https://plot.ly"
       },
       "data": [
        {
         "dimensions": [
          {
           "axis": {
            "matches": true
           },
           "label": "0",
           "values": [
            82.23,
            79.17,
            79.92,
            75.83,
            78.72,
            78.63,
            57.92,
            66.01,
            76.3,
            65.28,
            65.82,
            72.96,
            58.86,
            60.42,
            60.3,
            55.88,
            63.88,
            61.26,
            70.44,
            78.91,
            76.35,
            70.07,
            68.13,
            66.37
           ]
          },
          {
           "axis": {
            "matches": true
           },
           "label": "1",
           "values": [
            333.65,
            349.29,
            342.56,
            299.48,
            268.19,
            255.96,
            228.26,
            244.11,
            262,
            268.21,
            253.88,
            238.82,
            222.1,
            248.11,
            307.05,
            283.78,
            227.19,
            214.26,
            256.24,
            242,
            239.69,
            233.63,
            260.25,
            315.27
           ]
          },
          {
           "axis": {
            "matches": true
           },
           "label": "2",
           "values": [
            125.95,
            120.41,
            113.92,
            163.12,
            119.3,
            104.07,
            95.17,
            77.5,
            70.96,
            75.56,
            73.96,
            53.07,
            55.16,
            91.59,
            94.08,
            75.07,
            65.22,
            -0.36,
            33.05,
            94.32,
            93.67,
            97.62,
            121.25,
            72.81
           ]
          },
          {
           "axis": {
            "matches": true
           },
           "label": "3",
           "values": [
            12231.27,
            11977.18,
            11712.42,
            11539.83,
            11289.02,
            11204.55,
            10567.48,
            10437.33,
            10803.55,
            11646.1,
            12396.83,
            12939.26,
            13413.22,
            13425.39,
            13373.55,
            13293.06,
            13146.41,
            13261.87,
            14556.45,
            14734.77,
            14312.9,
            13704.62,
            12987.88,
            12191.18
           ]
          },
          {
           "axis": {
            "matches": true
           },
           "label": "4",
           "values": [
            1110.97,
            1069.27,
            997.68,
            1003.56,
            976.19,
            948.25,
            930.02,
            1018.68,
            1127.55,
            1235.03,
            1350.43,
            1409.1,
            1404.31,
            1389.28,
            1321.26,
            1281.91,
            1252.49,
            1250.11,
            1441.3,
            1480.07,
            1381.66,
            1274.47,
            1169.68,
            1067.22
           ]
          },
          {
           "axis": {
            "matches": true
           },
           "label": "5",
           "values": [
            105069.63,
            107210.46,
            108138.53,
            110735.68,
            110619.01,
            109860.29,
            107922.8,
            109370.19,
            112459.04,
            116527.68,
            119996.48,
            123542.56,
            122861.56,
            123272.89,
            119133.52,
            118500.61,
            117806.52,
            112642.63,
            111774.62,
            114066.08,
            110309.76,
            108829.45,
            109743.59,
            106391.84
           ]
          },
          {
           "axis": {
            "matches": true
           },
           "label": "6",
           "values": [
            263.66,
            261.29,
            262.07,
            264.49,
            262.18,
            256.23,
            221.26,
            204.57,
            205.4,
            206.49,
            206.43,
            206.63,
            207.9,
            209.4,
            213.71,
            209.81,
            212.71,
            228.89,
            238.58,
            254.47,
            263.82,
            263.15,
            267.3,
            263.68
           ]
          },
          {
           "axis": {
            "matches": true
           },
           "label": "7",
           "values": [
            77811.79,
            69254.01,
            55266.32,
            40753.72,
            54150.28,
            51041.56,
            46959.97,
            47330.33,
            49678.23,
            51246.7,
            52691.46,
            54924.09,
            57369.05,
            45366.59,
            43880.71,
            43675.47,
            43172.94,
            49529.15,
            76479.9,
            92492.59,
            78021.56,
            64428.35,
            53150.33,
            41552.23
           ]
          },
          {
           "axis": {
            "matches": true
           },
           "label": "8",
           "values": [
            423.5,
            435.26,
            422.36,
            419.72,
            412.3,
            400.6,
            343.03,
            315.43,
            590.93,
            824.53,
            787.86,
            672.84,
            647.98,
            707.66,
            638.2,
            663.61,
            659.39,
            688.68,
            716.21,
            760.85,
            705.7,
            696.4,
            684.02,
            625.3
           ]
          },
          {
           "axis": {
            "matches": true
           },
           "label": "9",
           "values": [
            112743.19,
            98112.25,
            84301.39,
            75501.86,
            68409.14,
            65057.96,
            65113.76,
            69363.81,
            74138.46,
            80744.95,
            82647.1,
            81561.19,
            81031.8,
            74933.86,
            68135.16,
            67916.87,
            68346.97,
            76322.7,
            111441.53,
            131999.85,
            115867.3,
            92568.91,
            70936.26,
            54032.48
           ]
          },
          {
           "axis": {
            "matches": true
           },
           "label": "10",
           "values": [
            823200.19,
            705245.02,
            603368.98,
            540643.37,
            499768.04,
            469838.18,
            431534.83,
            440236.98,
            480104.72,
            529958.25,
            575136.23,
            596559.86,
            596031.49,
            577199.13,
            546528.73,
            519599.78,
            510174.16,
            540426.84,
            803268.69,
            903238.97,
            858432.22,
            736698.84,
            606702.93,
            498662.52
           ]
          },
          {
           "axis": {
            "matches": true
           },
           "label": "11",
           "values": [
            403.91,
            400.45,
            392.59,
            383.81,
            379.25,
            382.37,
            437.32,
            580.29,
            732.41,
            788.34,
            817.25,
            815.62,
            682.06,
            741.59,
            862.31,
            846.11,
            829.69,
            761.08,
            666.71,
            619.68,
            568.4,
            492.97,
            453.49,
            403.88
           ]
          },
          {
           "axis": {
            "matches": true
           },
           "label": "12",
           "values": [
            982.62,
            962.11,
            944.62,
            928.89,
            912.91,
            957.06,
            923.08,
            933.05,
            900.26,
            944.91,
            955.41,
            991.63,
            995.99,
            954.57,
            930.53,
            917.26,
            922.37,
            871.12,
            869.23,
            896.27,
            874.32,
            887.71,
            869.6,
            874.57
           ]
          },
          {
           "axis": {
            "matches": true
           },
           "label": "13",
           "values": [
            3955.22,
            3946.92,
            3981.55,
            3992.56,
            3941.43,
            3929.35,
            1120.77,
            946.11,
            1099.75,
            1165.38,
            1196.45,
            1228.55,
            1239.88,
            1294.24,
            1277.53,
            1136.84,
            1260.07,
            1342.96,
            4152.73,
            4080.58,
            4243.42,
            4081.79,
            4210.58,
            4272.59
           ]
          },
          {
           "axis": {
            "matches": true
           },
           "label": "14",
           "values": [
            19381.56,
            17222.31,
            14876.55,
            13453.31,
            12032.98,
            10894.73,
            12107.45,
            11986.99,
            12284.23,
            12757.78,
            12984.36,
            13350.92,
            13488.33,
            13162,
            12846.56,
            12783.8,
            12751.6,
            13192.87,
            18241.14,
            21404.12,
            20199.48,
            18148.45,
            14462.31,
            11289.09
           ]
          },
          {
           "axis": {
            "matches": true
           },
           "label": "15",
           "values": [
            4324.97,
            4262.06,
            4260.74,
            4374.65,
            4357.31,
            4206.59,
            2876.35,
            2909.6,
            3092.51,
            3178.24,
            3152.22,
            3207.05,
            3232.85,
            3192.99,
            3252.04,
            3261.17,
            3289.06,
            3298.91,
            4627.82,
            4740.11,
            4796.69,
            4824.69,
            5245.48,
            5115.22
           ]
          },
          {
           "axis": {
            "matches": true
           },
           "label": "16",
           "values": [
            125876.24,
            111311.84,
            98425.38,
            88527.77,
            81449.29,
            79026.36,
            74031.67,
            77986.46,
            77487.02,
            90904.15,
            93915.35,
            112602.59,
            101316.2,
            94501.83,
            90061.6,
            87153.35,
            86297.93,
            87100.53,
            158169.76,
            174154.02,
            167167.67,
            131491.81,
            100098.62,
            79730.04
           ]
          }
         ],
         "hovertemplate": "%{xaxis.title.text}=%{x}<br>%{yaxis.title.text}=%{y}<extra></extra>",
         "legendgroup": "",
         "marker": {
          "color": "#636efa",
          "symbol": "circle"
         },
         "name": "",
         "showlegend": false,
         "type": "splom"
        }
       ],
       "layout": {
        "dragmode": "select",
        "height": 1500,
        "legend": {
         "tracegroupgap": 0
        },
        "margin": {
         "t": 60
        },
        "template": {
         "data": {
          "bar": [
           {
            "error_x": {
             "color": "#2a3f5f"
            },
            "error_y": {
             "color": "#2a3f5f"
            },
            "marker": {
             "line": {
              "color": "#E5ECF6",
              "width": 0.5
             }
            },
            "type": "bar"
           }
          ],
          "barpolar": [
           {
            "marker": {
             "line": {
              "color": "#E5ECF6",
              "width": 0.5
             }
            },
            "type": "barpolar"
           }
          ],
          "carpet": [
           {
            "aaxis": {
             "endlinecolor": "#2a3f5f",
             "gridcolor": "white",
             "linecolor": "white",
             "minorgridcolor": "white",
             "startlinecolor": "#2a3f5f"
            },
            "baxis": {
             "endlinecolor": "#2a3f5f",
             "gridcolor": "white",
             "linecolor": "white",
             "minorgridcolor": "white",
             "startlinecolor": "#2a3f5f"
            },
            "type": "carpet"
           }
          ],
          "choropleth": [
           {
            "colorbar": {
             "outlinewidth": 0,
             "ticks": ""
            },
            "type": "choropleth"
           }
          ],
          "contour": [
           {
            "colorbar": {
             "outlinewidth": 0,
             "ticks": ""
            },
            "colorscale": [
             [
              0,
              "#0d0887"
             ],
             [
              0.1111111111111111,
              "#46039f"
             ],
             [
              0.2222222222222222,
              "#7201a8"
             ],
             [
              0.3333333333333333,
              "#9c179e"
             ],
             [
              0.4444444444444444,
              "#bd3786"
             ],
             [
              0.5555555555555556,
              "#d8576b"
             ],
             [
              0.6666666666666666,
              "#ed7953"
             ],
             [
              0.7777777777777778,
              "#fb9f3a"
             ],
             [
              0.8888888888888888,
              "#fdca26"
             ],
             [
              1,
              "#f0f921"
             ]
            ],
            "type": "contour"
           }
          ],
          "contourcarpet": [
           {
            "colorbar": {
             "outlinewidth": 0,
             "ticks": ""
            },
            "type": "contourcarpet"
           }
          ],
          "heatmap": [
           {
            "colorbar": {
             "outlinewidth": 0,
             "ticks": ""
            },
            "colorscale": [
             [
              0,
              "#0d0887"
             ],
             [
              0.1111111111111111,
              "#46039f"
             ],
             [
              0.2222222222222222,
              "#7201a8"
             ],
             [
              0.3333333333333333,
              "#9c179e"
             ],
             [
              0.4444444444444444,
              "#bd3786"
             ],
             [
              0.5555555555555556,
              "#d8576b"
             ],
             [
              0.6666666666666666,
              "#ed7953"
             ],
             [
              0.7777777777777778,
              "#fb9f3a"
             ],
             [
              0.8888888888888888,
              "#fdca26"
             ],
             [
              1,
              "#f0f921"
             ]
            ],
            "type": "heatmap"
           }
          ],
          "heatmapgl": [
           {
            "colorbar": {
             "outlinewidth": 0,
             "ticks": ""
            },
            "colorscale": [
             [
              0,
              "#0d0887"
             ],
             [
              0.1111111111111111,
              "#46039f"
             ],
             [
              0.2222222222222222,
              "#7201a8"
             ],
             [
              0.3333333333333333,
              "#9c179e"
             ],
             [
              0.4444444444444444,
              "#bd3786"
             ],
             [
              0.5555555555555556,
              "#d8576b"
             ],
             [
              0.6666666666666666,
              "#ed7953"
             ],
             [
              0.7777777777777778,
              "#fb9f3a"
             ],
             [
              0.8888888888888888,
              "#fdca26"
             ],
             [
              1,
              "#f0f921"
             ]
            ],
            "type": "heatmapgl"
           }
          ],
          "histogram": [
           {
            "marker": {
             "colorbar": {
              "outlinewidth": 0,
              "ticks": ""
             }
            },
            "type": "histogram"
           }
          ],
          "histogram2d": [
           {
            "colorbar": {
             "outlinewidth": 0,
             "ticks": ""
            },
            "colorscale": [
             [
              0,
              "#0d0887"
             ],
             [
              0.1111111111111111,
              "#46039f"
             ],
             [
              0.2222222222222222,
              "#7201a8"
             ],
             [
              0.3333333333333333,
              "#9c179e"
             ],
             [
              0.4444444444444444,
              "#bd3786"
             ],
             [
              0.5555555555555556,
              "#d8576b"
             ],
             [
              0.6666666666666666,
              "#ed7953"
             ],
             [
              0.7777777777777778,
              "#fb9f3a"
             ],
             [
              0.8888888888888888,
              "#fdca26"
             ],
             [
              1,
              "#f0f921"
             ]
            ],
            "type": "histogram2d"
           }
          ],
          "histogram2dcontour": [
           {
            "colorbar": {
             "outlinewidth": 0,
             "ticks": ""
            },
            "colorscale": [
             [
              0,
              "#0d0887"
             ],
             [
              0.1111111111111111,
              "#46039f"
             ],
             [
              0.2222222222222222,
              "#7201a8"
             ],
             [
              0.3333333333333333,
              "#9c179e"
             ],
             [
              0.4444444444444444,
              "#bd3786"
             ],
             [
              0.5555555555555556,
              "#d8576b"
             ],
             [
              0.6666666666666666,
              "#ed7953"
             ],
             [
              0.7777777777777778,
              "#fb9f3a"
             ],
             [
              0.8888888888888888,
              "#fdca26"
             ],
             [
              1,
              "#f0f921"
             ]
            ],
            "type": "histogram2dcontour"
           }
          ],
          "mesh3d": [
           {
            "colorbar": {
             "outlinewidth": 0,
             "ticks": ""
            },
            "type": "mesh3d"
           }
          ],
          "parcoords": [
           {
            "line": {
             "colorbar": {
              "outlinewidth": 0,
              "ticks": ""
             }
            },
            "type": "parcoords"
           }
          ],
          "pie": [
           {
            "automargin": true,
            "type": "pie"
           }
          ],
          "scatter": [
           {
            "marker": {
             "colorbar": {
              "outlinewidth": 0,
              "ticks": ""
             }
            },
            "type": "scatter"
           }
          ],
          "scatter3d": [
           {
            "line": {
             "colorbar": {
              "outlinewidth": 0,
              "ticks": ""
             }
            },
            "marker": {
             "colorbar": {
              "outlinewidth": 0,
              "ticks": ""
             }
            },
            "type": "scatter3d"
           }
          ],
          "scattercarpet": [
           {
            "marker": {
             "colorbar": {
              "outlinewidth": 0,
              "ticks": ""
             }
            },
            "type": "scattercarpet"
           }
          ],
          "scattergeo": [
           {
            "marker": {
             "colorbar": {
              "outlinewidth": 0,
              "ticks": ""
             }
            },
            "type": "scattergeo"
           }
          ],
          "scattergl": [
           {
            "marker": {
             "colorbar": {
              "outlinewidth": 0,
              "ticks": ""
             }
            },
            "type": "scattergl"
           }
          ],
          "scattermapbox": [
           {
            "marker": {
             "colorbar": {
              "outlinewidth": 0,
              "ticks": ""
             }
            },
            "type": "scattermapbox"
           }
          ],
          "scatterpolar": [
           {
            "marker": {
             "colorbar": {
              "outlinewidth": 0,
              "ticks": ""
             }
            },
            "type": "scatterpolar"
           }
          ],
          "scatterpolargl": [
           {
            "marker": {
             "colorbar": {
              "outlinewidth": 0,
              "ticks": ""
             }
            },
            "type": "scatterpolargl"
           }
          ],
          "scatterternary": [
           {
            "marker": {
             "colorbar": {
              "outlinewidth": 0,
              "ticks": ""
             }
            },
            "type": "scatterternary"
           }
          ],
          "surface": [
           {
            "colorbar": {
             "outlinewidth": 0,
             "ticks": ""
            },
            "colorscale": [
             [
              0,
              "#0d0887"
             ],
             [
              0.1111111111111111,
              "#46039f"
             ],
             [
              0.2222222222222222,
              "#7201a8"
             ],
             [
              0.3333333333333333,
              "#9c179e"
             ],
             [
              0.4444444444444444,
              "#bd3786"
             ],
             [
              0.5555555555555556,
              "#d8576b"
             ],
             [
              0.6666666666666666,
              "#ed7953"
             ],
             [
              0.7777777777777778,
              "#fb9f3a"
             ],
             [
              0.8888888888888888,
              "#fdca26"
             ],
             [
              1,
              "#f0f921"
             ]
            ],
            "type": "surface"
           }
          ],
          "table": [
           {
            "cells": {
             "fill": {
              "color": "#EBF0F8"
             },
             "line": {
              "color": "white"
             }
            },
            "header": {
             "fill": {
              "color": "#C8D4E3"
             },
             "line": {
              "color": "white"
             }
            },
            "type": "table"
           }
          ]
         },
         "layout": {
          "annotationdefaults": {
           "arrowcolor": "#2a3f5f",
           "arrowhead": 0,
           "arrowwidth": 1
          },
          "coloraxis": {
           "colorbar": {
            "outlinewidth": 0,
            "ticks": ""
           }
          },
          "colorscale": {
           "diverging": [
            [
             0,
             "#8e0152"
            ],
            [
             0.1,
             "#c51b7d"
            ],
            [
             0.2,
             "#de77ae"
            ],
            [
             0.3,
             "#f1b6da"
            ],
            [
             0.4,
             "#fde0ef"
            ],
            [
             0.5,
             "#f7f7f7"
            ],
            [
             0.6,
             "#e6f5d0"
            ],
            [
             0.7,
             "#b8e186"
            ],
            [
             0.8,
             "#7fbc41"
            ],
            [
             0.9,
             "#4d9221"
            ],
            [
             1,
             "#276419"
            ]
           ],
           "sequential": [
            [
             0,
             "#0d0887"
            ],
            [
             0.1111111111111111,
             "#46039f"
            ],
            [
             0.2222222222222222,
             "#7201a8"
            ],
            [
             0.3333333333333333,
             "#9c179e"
            ],
            [
             0.4444444444444444,
             "#bd3786"
            ],
            [
             0.5555555555555556,
             "#d8576b"
            ],
            [
             0.6666666666666666,
             "#ed7953"
            ],
            [
             0.7777777777777778,
             "#fb9f3a"
            ],
            [
             0.8888888888888888,
             "#fdca26"
            ],
            [
             1,
             "#f0f921"
            ]
           ],
           "sequentialminus": [
            [
             0,
             "#0d0887"
            ],
            [
             0.1111111111111111,
             "#46039f"
            ],
            [
             0.2222222222222222,
             "#7201a8"
            ],
            [
             0.3333333333333333,
             "#9c179e"
            ],
            [
             0.4444444444444444,
             "#bd3786"
            ],
            [
             0.5555555555555556,
             "#d8576b"
            ],
            [
             0.6666666666666666,
             "#ed7953"
            ],
            [
             0.7777777777777778,
             "#fb9f3a"
            ],
            [
             0.8888888888888888,
             "#fdca26"
            ],
            [
             1,
             "#f0f921"
            ]
           ]
          },
          "colorway": [
           "#636efa",
           "#EF553B",
           "#00cc96",
           "#ab63fa",
           "#FFA15A",
           "#19d3f3",
           "#FF6692",
           "#B6E880",
           "#FF97FF",
           "#FECB52"
          ],
          "font": {
           "color": "#2a3f5f"
          },
          "geo": {
           "bgcolor": "white",
           "lakecolor": "white",
           "landcolor": "#E5ECF6",
           "showlakes": true,
           "showland": true,
           "subunitcolor": "white"
          },
          "hoverlabel": {
           "align": "left"
          },
          "hovermode": "closest",
          "mapbox": {
           "style": "light"
          },
          "paper_bgcolor": "white",
          "plot_bgcolor": "#E5ECF6",
          "polar": {
           "angularaxis": {
            "gridcolor": "white",
            "linecolor": "white",
            "ticks": ""
           },
           "bgcolor": "#E5ECF6",
           "radialaxis": {
            "gridcolor": "white",
            "linecolor": "white",
            "ticks": ""
           }
          },
          "scene": {
           "xaxis": {
            "backgroundcolor": "#E5ECF6",
            "gridcolor": "white",
            "gridwidth": 2,
            "linecolor": "white",
            "showbackground": true,
            "ticks": "",
            "zerolinecolor": "white"
           },
           "yaxis": {
            "backgroundcolor": "#E5ECF6",
            "gridcolor": "white",
            "gridwidth": 2,
            "linecolor": "white",
            "showbackground": true,
            "ticks": "",
            "zerolinecolor": "white"
           },
           "zaxis": {
            "backgroundcolor": "#E5ECF6",
            "gridcolor": "white",
            "gridwidth": 2,
            "linecolor": "white",
            "showbackground": true,
            "ticks": "",
            "zerolinecolor": "white"
           }
          },
          "shapedefaults": {
           "line": {
            "color": "#2a3f5f"
           }
          },
          "ternary": {
           "aaxis": {
            "gridcolor": "white",
            "linecolor": "white",
            "ticks": ""
           },
           "baxis": {
            "gridcolor": "white",
            "linecolor": "white",
            "ticks": ""
           },
           "bgcolor": "#E5ECF6",
           "caxis": {
            "gridcolor": "white",
            "linecolor": "white",
            "ticks": ""
           }
          },
          "title": {
           "x": 0.05
          },
          "xaxis": {
           "automargin": true,
           "gridcolor": "white",
           "linecolor": "white",
           "ticks": "",
           "title": {
            "standoff": 15
           },
           "zerolinecolor": "white",
           "zerolinewidth": 2
          },
          "yaxis": {
           "automargin": true,
           "gridcolor": "white",
           "linecolor": "white",
           "ticks": "",
           "title": {
            "standoff": 15
           },
           "zerolinecolor": "white",
           "zerolinewidth": 2
          }
         }
        },
        "width": 1500
       }
      }
     },
     "metadata": {}
    }
   ],
   "source": [
    "fig = px.scatter_matrix(df, width=1500, height=1500)\n",
    "fig.show()"
   ]
  },
  {
   "source": [
    "### 1. Analizar la correlación entre pares de variables\n",
    "\n",
    "Se puede apreciar que hay varias correlaciones que se aproximan a 1 y a -1, lo que nos indica que ese par de variables tienen una alta correlacion lineal"
   ],
   "cell_type": "markdown",
   "metadata": {}
  },
  {
   "cell_type": "code",
   "execution_count": 6,
   "metadata": {},
   "outputs": [
    {
     "output_type": "execute_result",
     "data": {
      "text/plain": [
       "<pandas.io.formats.style.Styler at 0x25832983548>"
      ],
      "text/html": "<style  type=\"text/css\" >\n    #T_9b574688_0fd4_11eb_ab37_982120618180row0_col0 {\n            background-color:  #b40426;\n            color:  #f1f1f1;\n        }    #T_9b574688_0fd4_11eb_ab37_982120618180row0_col1 {\n            background-color:  #f1ccb8;\n            color:  #000000;\n        }    #T_9b574688_0fd4_11eb_ab37_982120618180row0_col2 {\n            background-color:  #f7ad90;\n            color:  #000000;\n        }    #T_9b574688_0fd4_11eb_ab37_982120618180row0_col3 {\n            background-color:  #6687ed;\n            color:  #000000;\n        }    #T_9b574688_0fd4_11eb_ab37_982120618180row0_col4 {\n            background-color:  #6a8bef;\n            color:  #000000;\n        }    #T_9b574688_0fd4_11eb_ab37_982120618180row0_col5 {\n            background-color:  #6180e9;\n            color:  #000000;\n        }    #T_9b574688_0fd4_11eb_ab37_982120618180row0_col6 {\n            background-color:  #eb7d62;\n            color:  #000000;\n        }    #T_9b574688_0fd4_11eb_ab37_982120618180row0_col7 {\n            background-color:  #f6bfa6;\n            color:  #000000;\n        }    #T_9b574688_0fd4_11eb_ab37_982120618180row0_col8 {\n            background-color:  #5d7ce6;\n            color:  #000000;\n        }    #T_9b574688_0fd4_11eb_ab37_982120618180row0_col9 {\n            background-color:  #ead4c8;\n            color:  #000000;\n        }    #T_9b574688_0fd4_11eb_ab37_982120618180row0_col10 {\n            background-color:  #e3d9d3;\n            color:  #000000;\n        }    #T_9b574688_0fd4_11eb_ab37_982120618180row0_col11 {\n            background-color:  #6485ec;\n            color:  #000000;\n        }    #T_9b574688_0fd4_11eb_ab37_982120618180row0_col12 {\n            background-color:  #b2ccfb;\n            color:  #000000;\n        }    #T_9b574688_0fd4_11eb_ab37_982120618180row0_col13 {\n            background-color:  #e8765c;\n            color:  #000000;\n        }    #T_9b574688_0fd4_11eb_ab37_982120618180row0_col14 {\n            background-color:  #efcfbf;\n            color:  #000000;\n        }    #T_9b574688_0fd4_11eb_ab37_982120618180row0_col15 {\n            background-color:  #f59f80;\n            color:  #000000;\n        }    #T_9b574688_0fd4_11eb_ab37_982120618180row0_col16 {\n            background-color:  #dedcdb;\n            color:  #000000;\n        }    #T_9b574688_0fd4_11eb_ab37_982120618180row1_col0 {\n            background-color:  #f5c0a7;\n            color:  #000000;\n        }    #T_9b574688_0fd4_11eb_ab37_982120618180row1_col1 {\n            background-color:  #b40426;\n            color:  #f1f1f1;\n        }    #T_9b574688_0fd4_11eb_ab37_982120618180row1_col2 {\n            background-color:  #f6a283;\n            color:  #000000;\n        }    #T_9b574688_0fd4_11eb_ab37_982120618180row1_col3 {\n            background-color:  #4a63d3;\n            color:  #f1f1f1;\n        }    #T_9b574688_0fd4_11eb_ab37_982120618180row1_col4 {\n            background-color:  #4e68d8;\n            color:  #000000;\n        }    #T_9b574688_0fd4_11eb_ab37_982120618180row1_col5 {\n            background-color:  #7699f6;\n            color:  #000000;\n        }    #T_9b574688_0fd4_11eb_ab37_982120618180row1_col6 {\n            background-color:  #f7b194;\n            color:  #000000;\n        }    #T_9b574688_0fd4_11eb_ab37_982120618180row1_col7 {\n            background-color:  #81a4fb;\n            color:  #000000;\n        }    #T_9b574688_0fd4_11eb_ab37_982120618180row1_col8 {\n            background-color:  #5572df;\n            color:  #000000;\n        }    #T_9b574688_0fd4_11eb_ab37_982120618180row1_col9 {\n            background-color:  #688aef;\n            color:  #000000;\n        }    #T_9b574688_0fd4_11eb_ab37_982120618180row1_col10 {\n            background-color:  #80a3fa;\n            color:  #000000;\n        }    #T_9b574688_0fd4_11eb_ab37_982120618180row1_col11 {\n            background-color:  #84a7fc;\n            color:  #000000;\n        }    #T_9b574688_0fd4_11eb_ab37_982120618180row1_col12 {\n            background-color:  #d2dbe8;\n            color:  #000000;\n        }    #T_9b574688_0fd4_11eb_ab37_982120618180row1_col13 {\n            background-color:  #f7b79b;\n            color:  #000000;\n        }    #T_9b574688_0fd4_11eb_ab37_982120618180row1_col14 {\n            background-color:  #98b9ff;\n            color:  #000000;\n        }    #T_9b574688_0fd4_11eb_ab37_982120618180row1_col15 {\n            background-color:  #efcebd;\n            color:  #000000;\n        }    #T_9b574688_0fd4_11eb_ab37_982120618180row1_col16 {\n            background-color:  #6282ea;\n            color:  #000000;\n        }    #T_9b574688_0fd4_11eb_ab37_982120618180row2_col0 {\n            background-color:  #f7b396;\n            color:  #000000;\n        }    #T_9b574688_0fd4_11eb_ab37_982120618180row2_col1 {\n            background-color:  #f7b194;\n            color:  #000000;\n        }    #T_9b574688_0fd4_11eb_ab37_982120618180row2_col2 {\n            background-color:  #b40426;\n            color:  #f1f1f1;\n        }    #T_9b574688_0fd4_11eb_ab37_982120618180row2_col3 {\n            background-color:  #3b4cc0;\n            color:  #f1f1f1;\n        }    #T_9b574688_0fd4_11eb_ab37_982120618180row2_col4 {\n            background-color:  #3b4cc0;\n            color:  #f1f1f1;\n        }    #T_9b574688_0fd4_11eb_ab37_982120618180row2_col5 {\n            background-color:  #779af7;\n            color:  #000000;\n        }    #T_9b574688_0fd4_11eb_ab37_982120618180row2_col6 {\n            background-color:  #f29274;\n            color:  #000000;\n        }    #T_9b574688_0fd4_11eb_ab37_982120618180row2_col7 {\n            background-color:  #88abfd;\n            color:  #000000;\n        }    #T_9b574688_0fd4_11eb_ab37_982120618180row2_col8 {\n            background-color:  #3b4cc0;\n            color:  #f1f1f1;\n        }    #T_9b574688_0fd4_11eb_ab37_982120618180row2_col9 {\n            background-color:  #6c8ff1;\n            color:  #000000;\n        }    #T_9b574688_0fd4_11eb_ab37_982120618180row2_col10 {\n            background-color:  #7ea1fa;\n            color:  #000000;\n        }    #T_9b574688_0fd4_11eb_ab37_982120618180row2_col11 {\n            background-color:  #5875e1;\n            color:  #000000;\n        }    #T_9b574688_0fd4_11eb_ab37_982120618180row2_col12 {\n            background-color:  #cedaeb;\n            color:  #000000;\n        }    #T_9b574688_0fd4_11eb_ab37_982120618180row2_col13 {\n            background-color:  #f6a385;\n            color:  #000000;\n        }    #T_9b574688_0fd4_11eb_ab37_982120618180row2_col14 {\n            background-color:  #a6c4fe;\n            color:  #000000;\n        }    #T_9b574688_0fd4_11eb_ab37_982120618180row2_col15 {\n            background-color:  #f6bfa6;\n            color:  #000000;\n        }    #T_9b574688_0fd4_11eb_ab37_982120618180row2_col16 {\n            background-color:  #7093f3;\n            color:  #000000;\n        }    #T_9b574688_0fd4_11eb_ab37_982120618180row3_col0 {\n            background-color:  #97b8ff;\n            color:  #000000;\n        }    #T_9b574688_0fd4_11eb_ab37_982120618180row3_col1 {\n            background-color:  #5e7de7;\n            color:  #000000;\n        }    #T_9b574688_0fd4_11eb_ab37_982120618180row3_col2 {\n            background-color:  #7a9df8;\n            color:  #000000;\n        }    #T_9b574688_0fd4_11eb_ab37_982120618180row3_col3 {\n            background-color:  #b40426;\n            color:  #f1f1f1;\n        }    #T_9b574688_0fd4_11eb_ab37_982120618180row3_col4 {\n            background-color:  #d44e41;\n            color:  #000000;\n        }    #T_9b574688_0fd4_11eb_ab37_982120618180row3_col5 {\n            background-color:  #f5c1a9;\n            color:  #000000;\n        }    #T_9b574688_0fd4_11eb_ab37_982120618180row3_col6 {\n            background-color:  #dcdddd;\n            color:  #000000;\n        }    #T_9b574688_0fd4_11eb_ab37_982120618180row3_col7 {\n            background-color:  #f2cab5;\n            color:  #000000;\n        }    #T_9b574688_0fd4_11eb_ab37_982120618180row3_col8 {\n            background-color:  #eb7d62;\n            color:  #000000;\n        }    #T_9b574688_0fd4_11eb_ab37_982120618180row3_col9 {\n            background-color:  #f3c8b2;\n            color:  #000000;\n        }    #T_9b574688_0fd4_11eb_ab37_982120618180row3_col10 {\n            background-color:  #f59f80;\n            color:  #000000;\n        }    #T_9b574688_0fd4_11eb_ab37_982120618180row3_col11 {\n            background-color:  #f7b89c;\n            color:  #000000;\n        }    #T_9b574688_0fd4_11eb_ab37_982120618180row3_col12 {\n            background-color:  #6282ea;\n            color:  #000000;\n        }    #T_9b574688_0fd4_11eb_ab37_982120618180row3_col13 {\n            background-color:  #e6d7cf;\n            color:  #000000;\n        }    #T_9b574688_0fd4_11eb_ab37_982120618180row3_col14 {\n            background-color:  #f7af91;\n            color:  #000000;\n        }    #T_9b574688_0fd4_11eb_ab37_982120618180row3_col15 {\n            background-color:  #efcebd;\n            color:  #000000;\n        }    #T_9b574688_0fd4_11eb_ab37_982120618180row3_col16 {\n            background-color:  #f08a6c;\n            color:  #000000;\n        }    #T_9b574688_0fd4_11eb_ab37_982120618180row4_col0 {\n            background-color:  #799cf8;\n            color:  #000000;\n        }    #T_9b574688_0fd4_11eb_ab37_982120618180row4_col1 {\n            background-color:  #3c4ec2;\n            color:  #f1f1f1;\n        }    #T_9b574688_0fd4_11eb_ab37_982120618180row4_col2 {\n            background-color:  #5673e0;\n            color:  #000000;\n        }    #T_9b574688_0fd4_11eb_ab37_982120618180row4_col3 {\n            background-color:  #d75445;\n            color:  #000000;\n        }    #T_9b574688_0fd4_11eb_ab37_982120618180row4_col4 {\n            background-color:  #b40426;\n            color:  #f1f1f1;\n        }    #T_9b574688_0fd4_11eb_ab37_982120618180row4_col5 {\n            background-color:  #eb7d62;\n            color:  #000000;\n        }    #T_9b574688_0fd4_11eb_ab37_982120618180row4_col6 {\n            background-color:  #92b4fe;\n            color:  #000000;\n        }    #T_9b574688_0fd4_11eb_ab37_982120618180row4_col7 {\n            background-color:  #dfdbd9;\n            color:  #000000;\n        }    #T_9b574688_0fd4_11eb_ab37_982120618180row4_col8 {\n            background-color:  #d75445;\n            color:  #000000;\n        }    #T_9b574688_0fd4_11eb_ab37_982120618180row4_col9 {\n            background-color:  #e9d5cb;\n            color:  #000000;\n        }    #T_9b574688_0fd4_11eb_ab37_982120618180row4_col10 {\n            background-color:  #f1ccb8;\n            color:  #000000;\n        }    #T_9b574688_0fd4_11eb_ab37_982120618180row4_col11 {\n            background-color:  #e67259;\n            color:  #000000;\n        }    #T_9b574688_0fd4_11eb_ab37_982120618180row4_col12 {\n            background-color:  #9abbff;\n            color:  #000000;\n        }    #T_9b574688_0fd4_11eb_ab37_982120618180row4_col13 {\n            background-color:  #a3c2fe;\n            color:  #000000;\n        }    #T_9b574688_0fd4_11eb_ab37_982120618180row4_col14 {\n            background-color:  #e9d5cb;\n            color:  #000000;\n        }    #T_9b574688_0fd4_11eb_ab37_982120618180row4_col15 {\n            background-color:  #afcafc;\n            color:  #000000;\n        }    #T_9b574688_0fd4_11eb_ab37_982120618180row4_col16 {\n            background-color:  #f7b396;\n            color:  #000000;\n        }    #T_9b574688_0fd4_11eb_ab37_982120618180row5_col0 {\n            background-color:  #455cce;\n            color:  #f1f1f1;\n        }    #T_9b574688_0fd4_11eb_ab37_982120618180row5_col1 {\n            background-color:  #3b4cc0;\n            color:  #f1f1f1;\n        }    #T_9b574688_0fd4_11eb_ab37_982120618180row5_col2 {\n            background-color:  #688aef;\n            color:  #000000;\n        }    #T_9b574688_0fd4_11eb_ab37_982120618180row5_col3 {\n            background-color:  #e2dad5;\n            color:  #000000;\n        }    #T_9b574688_0fd4_11eb_ab37_982120618180row5_col4 {\n            background-color:  #f08a6c;\n            color:  #000000;\n        }    #T_9b574688_0fd4_11eb_ab37_982120618180row5_col5 {\n            background-color:  #b40426;\n            color:  #f1f1f1;\n        }    #T_9b574688_0fd4_11eb_ab37_982120618180row5_col6 {\n            background-color:  #4961d2;\n            color:  #f1f1f1;\n        }    #T_9b574688_0fd4_11eb_ab37_982120618180row5_col7 {\n            background-color:  #3b4cc0;\n            color:  #f1f1f1;\n        }    #T_9b574688_0fd4_11eb_ab37_982120618180row5_col8 {\n            background-color:  #f7a889;\n            color:  #000000;\n        }    #T_9b574688_0fd4_11eb_ab37_982120618180row5_col9 {\n            background-color:  #3b4cc0;\n            color:  #f1f1f1;\n        }    #T_9b574688_0fd4_11eb_ab37_982120618180row5_col10 {\n            background-color:  #3b4cc0;\n            color:  #f1f1f1;\n        }    #T_9b574688_0fd4_11eb_ab37_982120618180row5_col11 {\n            background-color:  #d55042;\n            color:  #000000;\n        }    #T_9b574688_0fd4_11eb_ab37_982120618180row5_col12 {\n            background-color:  #f0cdbb;\n            color:  #000000;\n        }    #T_9b574688_0fd4_11eb_ab37_982120618180row5_col13 {\n            background-color:  #4a63d3;\n            color:  #f1f1f1;\n        }    #T_9b574688_0fd4_11eb_ab37_982120618180row5_col14 {\n            background-color:  #3b4cc0;\n            color:  #f1f1f1;\n        }    #T_9b574688_0fd4_11eb_ab37_982120618180row5_col15 {\n            background-color:  #455cce;\n            color:  #f1f1f1;\n        }    #T_9b574688_0fd4_11eb_ab37_982120618180row5_col16 {\n            background-color:  #6384eb;\n            color:  #000000;\n        }    #T_9b574688_0fd4_11eb_ab37_982120618180row6_col0 {\n            background-color:  #f08a6c;\n            color:  #000000;\n        }    #T_9b574688_0fd4_11eb_ab37_982120618180row6_col1 {\n            background-color:  #f1ccb8;\n            color:  #000000;\n        }    #T_9b574688_0fd4_11eb_ab37_982120618180row6_col2 {\n            background-color:  #f59d7e;\n            color:  #000000;\n        }    #T_9b574688_0fd4_11eb_ab37_982120618180row6_col3 {\n            background-color:  #a1c0ff;\n            color:  #000000;\n        }    #T_9b574688_0fd4_11eb_ab37_982120618180row6_col4 {\n            background-color:  #5a78e4;\n            color:  #000000;\n        }    #T_9b574688_0fd4_11eb_ab37_982120618180row6_col5 {\n            background-color:  #3b4cc0;\n            color:  #f1f1f1;\n        }    #T_9b574688_0fd4_11eb_ab37_982120618180row6_col6 {\n            background-color:  #b40426;\n            color:  #f1f1f1;\n        }    #T_9b574688_0fd4_11eb_ab37_982120618180row6_col7 {\n            background-color:  #e6d7cf;\n            color:  #000000;\n        }    #T_9b574688_0fd4_11eb_ab37_982120618180row6_col8 {\n            background-color:  #6788ee;\n            color:  #000000;\n        }    #T_9b574688_0fd4_11eb_ab37_982120618180row6_col9 {\n            background-color:  #c0d4f5;\n            color:  #000000;\n        }    #T_9b574688_0fd4_11eb_ab37_982120618180row6_col10 {\n            background-color:  #e4d9d2;\n            color:  #000000;\n        }    #T_9b574688_0fd4_11eb_ab37_982120618180row6_col11 {\n            background-color:  #3b4cc0;\n            color:  #f1f1f1;\n        }    #T_9b574688_0fd4_11eb_ab37_982120618180row6_col12 {\n            background-color:  #5673e0;\n            color:  #000000;\n        }    #T_9b574688_0fd4_11eb_ab37_982120618180row6_col13 {\n            background-color:  #bb1b2c;\n            color:  #f1f1f1;\n        }    #T_9b574688_0fd4_11eb_ab37_982120618180row6_col14 {\n            background-color:  #efcebd;\n            color:  #000000;\n        }    #T_9b574688_0fd4_11eb_ab37_982120618180row6_col15 {\n            background-color:  #c53334;\n            color:  #f1f1f1;\n        }    #T_9b574688_0fd4_11eb_ab37_982120618180row6_col16 {\n            background-color:  #d9dce1;\n            color:  #000000;\n        }    #T_9b574688_0fd4_11eb_ab37_982120618180row7_col0 {\n            background-color:  #f7a688;\n            color:  #000000;\n        }    #T_9b574688_0fd4_11eb_ab37_982120618180row7_col1 {\n            background-color:  #a2c1ff;\n            color:  #000000;\n        }    #T_9b574688_0fd4_11eb_ab37_982120618180row7_col2 {\n            background-color:  #c9d7f0;\n            color:  #000000;\n        }    #T_9b574688_0fd4_11eb_ab37_982120618180row7_col3 {\n            background-color:  #f5c4ac;\n            color:  #000000;\n        }    #T_9b574688_0fd4_11eb_ab37_982120618180row7_col4 {\n            background-color:  #f1ccb8;\n            color:  #000000;\n        }    #T_9b574688_0fd4_11eb_ab37_982120618180row7_col5 {\n            background-color:  #98b9ff;\n            color:  #000000;\n        }    #T_9b574688_0fd4_11eb_ab37_982120618180row7_col6 {\n            background-color:  #f7b194;\n            color:  #000000;\n        }    #T_9b574688_0fd4_11eb_ab37_982120618180row7_col7 {\n            background-color:  #b40426;\n            color:  #f1f1f1;\n        }    #T_9b574688_0fd4_11eb_ab37_982120618180row7_col8 {\n            background-color:  #cedaeb;\n            color:  #000000;\n        }    #T_9b574688_0fd4_11eb_ab37_982120618180row7_col9 {\n            background-color:  #c32e31;\n            color:  #f1f1f1;\n        }    #T_9b574688_0fd4_11eb_ab37_982120618180row7_col10 {\n            background-color:  #cb3e38;\n            color:  #f1f1f1;\n        }    #T_9b574688_0fd4_11eb_ab37_982120618180row7_col11 {\n            background-color:  #afcafc;\n            color:  #000000;\n        }    #T_9b574688_0fd4_11eb_ab37_982120618180row7_col12 {\n            background-color:  #8fb1fe;\n            color:  #000000;\n        }    #T_9b574688_0fd4_11eb_ab37_982120618180row7_col13 {\n            background-color:  #f5a081;\n            color:  #000000;\n        }    #T_9b574688_0fd4_11eb_ab37_982120618180row7_col14 {\n            background-color:  #ca3b37;\n            color:  #f1f1f1;\n        }    #T_9b574688_0fd4_11eb_ab37_982120618180row7_col15 {\n            background-color:  #f7b093;\n            color:  #000000;\n        }    #T_9b574688_0fd4_11eb_ab37_982120618180row7_col16 {\n            background-color:  #cd423b;\n            color:  #f1f1f1;\n        }    #T_9b574688_0fd4_11eb_ab37_982120618180row8_col0 {\n            background-color:  #6c8ff1;\n            color:  #000000;\n        }    #T_9b574688_0fd4_11eb_ab37_982120618180row8_col1 {\n            background-color:  #455cce;\n            color:  #f1f1f1;\n        }    #T_9b574688_0fd4_11eb_ab37_982120618180row8_col2 {\n            background-color:  #5875e1;\n            color:  #000000;\n        }    #T_9b574688_0fd4_11eb_ab37_982120618180row8_col3 {\n            background-color:  #ef886b;\n            color:  #000000;\n        }    #T_9b574688_0fd4_11eb_ab37_982120618180row8_col4 {\n            background-color:  #d65244;\n            color:  #000000;\n        }    #T_9b574688_0fd4_11eb_ab37_982120618180row8_col5 {\n            background-color:  #f39778;\n            color:  #000000;\n        }    #T_9b574688_0fd4_11eb_ab37_982120618180row8_col6 {\n            background-color:  #9ebeff;\n            color:  #000000;\n        }    #T_9b574688_0fd4_11eb_ab37_982120618180row8_col7 {\n            background-color:  #abc8fd;\n            color:  #000000;\n        }    #T_9b574688_0fd4_11eb_ab37_982120618180row8_col8 {\n            background-color:  #b40426;\n            color:  #f1f1f1;\n        }    #T_9b574688_0fd4_11eb_ab37_982120618180row8_col9 {\n            background-color:  #aec9fc;\n            color:  #000000;\n        }    #T_9b574688_0fd4_11eb_ab37_982120618180row8_col10 {\n            background-color:  #c6d6f1;\n            color:  #000000;\n        }    #T_9b574688_0fd4_11eb_ab37_982120618180row8_col11 {\n            background-color:  #e97a5f;\n            color:  #000000;\n        }    #T_9b574688_0fd4_11eb_ab37_982120618180row8_col12 {\n            background-color:  #688aef;\n            color:  #000000;\n        }    #T_9b574688_0fd4_11eb_ab37_982120618180row8_col13 {\n            background-color:  #a9c6fd;\n            color:  #000000;\n        }    #T_9b574688_0fd4_11eb_ab37_982120618180row8_col14 {\n            background-color:  #bcd2f7;\n            color:  #000000;\n        }    #T_9b574688_0fd4_11eb_ab37_982120618180row8_col15 {\n            background-color:  #c1d4f4;\n            color:  #000000;\n        }    #T_9b574688_0fd4_11eb_ab37_982120618180row8_col16 {\n            background-color:  #dedcdb;\n            color:  #000000;\n        }    #T_9b574688_0fd4_11eb_ab37_982120618180row9_col0 {\n            background-color:  #f7b194;\n            color:  #000000;\n        }    #T_9b574688_0fd4_11eb_ab37_982120618180row9_col1 {\n            background-color:  #a5c3fe;\n            color:  #000000;\n        }    #T_9b574688_0fd4_11eb_ab37_982120618180row9_col2 {\n            background-color:  #c7d7f0;\n            color:  #000000;\n        }    #T_9b574688_0fd4_11eb_ab37_982120618180row9_col3 {\n            background-color:  #f7b79b;\n            color:  #000000;\n        }    #T_9b574688_0fd4_11eb_ab37_982120618180row9_col4 {\n            background-color:  #f7ba9f;\n            color:  #000000;\n        }    #T_9b574688_0fd4_11eb_ab37_982120618180row9_col5 {\n            background-color:  #afcafc;\n            color:  #000000;\n        }    #T_9b574688_0fd4_11eb_ab37_982120618180row9_col6 {\n            background-color:  #f5c2aa;\n            color:  #000000;\n        }    #T_9b574688_0fd4_11eb_ab37_982120618180row9_col7 {\n            background-color:  #c12b30;\n            color:  #f1f1f1;\n        }    #T_9b574688_0fd4_11eb_ab37_982120618180row9_col8 {\n            background-color:  #dedcdb;\n            color:  #000000;\n        }    #T_9b574688_0fd4_11eb_ab37_982120618180row9_col9 {\n            background-color:  #b40426;\n            color:  #f1f1f1;\n        }    #T_9b574688_0fd4_11eb_ab37_982120618180row9_col10 {\n            background-color:  #c43032;\n            color:  #f1f1f1;\n        }    #T_9b574688_0fd4_11eb_ab37_982120618180row9_col11 {\n            background-color:  #c7d7f0;\n            color:  #000000;\n        }    #T_9b574688_0fd4_11eb_ab37_982120618180row9_col12 {\n            background-color:  #98b9ff;\n            color:  #000000;\n        }    #T_9b574688_0fd4_11eb_ab37_982120618180row9_col13 {\n            background-color:  #f7b599;\n            color:  #000000;\n        }    #T_9b574688_0fd4_11eb_ab37_982120618180row9_col14 {\n            background-color:  #c12b30;\n            color:  #f1f1f1;\n        }    #T_9b574688_0fd4_11eb_ab37_982120618180row9_col15 {\n            background-color:  #f5c4ac;\n            color:  #000000;\n        }    #T_9b574688_0fd4_11eb_ab37_982120618180row9_col16 {\n            background-color:  #c83836;\n            color:  #f1f1f1;\n        }    #T_9b574688_0fd4_11eb_ab37_982120618180row10_col0 {\n            background-color:  #f7ba9f;\n            color:  #000000;\n        }    #T_9b574688_0fd4_11eb_ab37_982120618180row10_col1 {\n            background-color:  #b5cdfa;\n            color:  #000000;\n        }    #T_9b574688_0fd4_11eb_ab37_982120618180row10_col2 {\n            background-color:  #cfdaea;\n            color:  #000000;\n        }    #T_9b574688_0fd4_11eb_ab37_982120618180row10_col3 {\n            background-color:  #f18f71;\n            color:  #000000;\n        }    #T_9b574688_0fd4_11eb_ab37_982120618180row10_col4 {\n            background-color:  #f7b093;\n            color:  #000000;\n        }    #T_9b574688_0fd4_11eb_ab37_982120618180row10_col5 {\n            background-color:  #adc9fd;\n            color:  #000000;\n        }    #T_9b574688_0fd4_11eb_ab37_982120618180row10_col6 {\n            background-color:  #f7aa8c;\n            color:  #000000;\n        }    #T_9b574688_0fd4_11eb_ab37_982120618180row10_col7 {\n            background-color:  #ca3b37;\n            color:  #f1f1f1;\n        }    #T_9b574688_0fd4_11eb_ab37_982120618180row10_col8 {\n            background-color:  #ead4c8;\n            color:  #000000;\n        }    #T_9b574688_0fd4_11eb_ab37_982120618180row10_col9 {\n            background-color:  #c43032;\n            color:  #f1f1f1;\n        }    #T_9b574688_0fd4_11eb_ab37_982120618180row10_col10 {\n            background-color:  #b40426;\n            color:  #f1f1f1;\n        }    #T_9b574688_0fd4_11eb_ab37_982120618180row10_col11 {\n            background-color:  #bfd3f6;\n            color:  #000000;\n        }    #T_9b574688_0fd4_11eb_ab37_982120618180row10_col12 {\n            background-color:  #84a7fc;\n            color:  #000000;\n        }    #T_9b574688_0fd4_11eb_ab37_982120618180row10_col13 {\n            background-color:  #f49a7b;\n            color:  #000000;\n        }    #T_9b574688_0fd4_11eb_ab37_982120618180row10_col14 {\n            background-color:  #ba162b;\n            color:  #f1f1f1;\n        }    #T_9b574688_0fd4_11eb_ab37_982120618180row10_col15 {\n            background-color:  #f59f80;\n            color:  #000000;\n        }    #T_9b574688_0fd4_11eb_ab37_982120618180row10_col16 {\n            background-color:  #be242e;\n            color:  #f1f1f1;\n        }    #T_9b574688_0fd4_11eb_ab37_982120618180row11_col0 {\n            background-color:  #3b4cc0;\n            color:  #f1f1f1;\n        }    #T_9b574688_0fd4_11eb_ab37_982120618180row11_col1 {\n            background-color:  #3b4cc0;\n            color:  #f1f1f1;\n        }    #T_9b574688_0fd4_11eb_ab37_982120618180row11_col2 {\n            background-color:  #3b4cc0;\n            color:  #f1f1f1;\n        }    #T_9b574688_0fd4_11eb_ab37_982120618180row11_col3 {\n            background-color:  #e7d7ce;\n            color:  #000000;\n        }    #T_9b574688_0fd4_11eb_ab37_982120618180row11_col4 {\n            background-color:  #ed8366;\n            color:  #000000;\n        }    #T_9b574688_0fd4_11eb_ab37_982120618180row11_col5 {\n            background-color:  #d75445;\n            color:  #000000;\n        }    #T_9b574688_0fd4_11eb_ab37_982120618180row11_col6 {\n            background-color:  #3b4cc0;\n            color:  #f1f1f1;\n        }    #T_9b574688_0fd4_11eb_ab37_982120618180row11_col7 {\n            background-color:  #485fd1;\n            color:  #f1f1f1;\n        }    #T_9b574688_0fd4_11eb_ab37_982120618180row11_col8 {\n            background-color:  #f08b6e;\n            color:  #000000;\n        }    #T_9b574688_0fd4_11eb_ab37_982120618180row11_col9 {\n            background-color:  #4f69d9;\n            color:  #000000;\n        }    #T_9b574688_0fd4_11eb_ab37_982120618180row11_col10 {\n            background-color:  #455cce;\n            color:  #f1f1f1;\n        }    #T_9b574688_0fd4_11eb_ab37_982120618180row11_col11 {\n            background-color:  #b40426;\n            color:  #f1f1f1;\n        }    #T_9b574688_0fd4_11eb_ab37_982120618180row11_col12 {\n            background-color:  #b9d0f9;\n            color:  #000000;\n        }    #T_9b574688_0fd4_11eb_ab37_982120618180row11_col13 {\n            background-color:  #3b4cc0;\n            color:  #f1f1f1;\n        }    #T_9b574688_0fd4_11eb_ab37_982120618180row11_col14 {\n            background-color:  #506bda;\n            color:  #000000;\n        }    #T_9b574688_0fd4_11eb_ab37_982120618180row11_col15 {\n            background-color:  #3b4cc0;\n            color:  #f1f1f1;\n        }    #T_9b574688_0fd4_11eb_ab37_982120618180row11_col16 {\n            background-color:  #7093f3;\n            color:  #000000;\n        }    #T_9b574688_0fd4_11eb_ab37_982120618180row12_col0 {\n            background-color:  #c1d4f4;\n            color:  #000000;\n        }    #T_9b574688_0fd4_11eb_ab37_982120618180row12_col1 {\n            background-color:  #cbd8ee;\n            color:  #000000;\n        }    #T_9b574688_0fd4_11eb_ab37_982120618180row12_col2 {\n            background-color:  #dedcdb;\n            color:  #000000;\n        }    #T_9b574688_0fd4_11eb_ab37_982120618180row12_col3 {\n            background-color:  #4358cb;\n            color:  #f1f1f1;\n        }    #T_9b574688_0fd4_11eb_ab37_982120618180row12_col4 {\n            background-color:  #9fbfff;\n            color:  #000000;\n        }    #T_9b574688_0fd4_11eb_ab37_982120618180row12_col5 {\n            background-color:  #f6bda2;\n            color:  #000000;\n        }    #T_9b574688_0fd4_11eb_ab37_982120618180row12_col6 {\n            background-color:  #93b5fe;\n            color:  #000000;\n        }    #T_9b574688_0fd4_11eb_ab37_982120618180row12_col7 {\n            background-color:  #6180e9;\n            color:  #000000;\n        }    #T_9b574688_0fd4_11eb_ab37_982120618180row12_col8 {\n            background-color:  #6c8ff1;\n            color:  #000000;\n        }    #T_9b574688_0fd4_11eb_ab37_982120618180row12_col9 {\n            background-color:  #4e68d8;\n            color:  #000000;\n        }    #T_9b574688_0fd4_11eb_ab37_982120618180row12_col10 {\n            background-color:  #3b4cc0;\n            color:  #f1f1f1;\n        }    #T_9b574688_0fd4_11eb_ab37_982120618180row12_col11 {\n            background-color:  #dcdddd;\n            color:  #000000;\n        }    #T_9b574688_0fd4_11eb_ab37_982120618180row12_col12 {\n            background-color:  #b40426;\n            color:  #f1f1f1;\n        }    #T_9b574688_0fd4_11eb_ab37_982120618180row12_col13 {\n            background-color:  #89acfd;\n            color:  #000000;\n        }    #T_9b574688_0fd4_11eb_ab37_982120618180row12_col14 {\n            background-color:  #4a63d3;\n            color:  #f1f1f1;\n        }    #T_9b574688_0fd4_11eb_ab37_982120618180row12_col15 {\n            background-color:  #5a78e4;\n            color:  #000000;\n        }    #T_9b574688_0fd4_11eb_ab37_982120618180row12_col16 {\n            background-color:  #3b4cc0;\n            color:  #f1f1f1;\n        }    #T_9b574688_0fd4_11eb_ab37_982120618180row13_col0 {\n            background-color:  #ec7f63;\n            color:  #000000;\n        }    #T_9b574688_0fd4_11eb_ab37_982120618180row13_col1 {\n            background-color:  #f0cdbb;\n            color:  #000000;\n        }    #T_9b574688_0fd4_11eb_ab37_982120618180row13_col2 {\n            background-color:  #f7aa8c;\n            color:  #000000;\n        }    #T_9b574688_0fd4_11eb_ab37_982120618180row13_col3 {\n            background-color:  #bbd1f8;\n            color:  #000000;\n        }    #T_9b574688_0fd4_11eb_ab37_982120618180row13_col4 {\n            background-color:  #799cf8;\n            color:  #000000;\n        }    #T_9b574688_0fd4_11eb_ab37_982120618180row13_col5 {\n            background-color:  #465ecf;\n            color:  #f1f1f1;\n        }    #T_9b574688_0fd4_11eb_ab37_982120618180row13_col6 {\n            background-color:  #bb1b2c;\n            color:  #f1f1f1;\n        }    #T_9b574688_0fd4_11eb_ab37_982120618180row13_col7 {\n            background-color:  #f4c6af;\n            color:  #000000;\n        }    #T_9b574688_0fd4_11eb_ab37_982120618180row13_col8 {\n            background-color:  #80a3fa;\n            color:  #000000;\n        }    #T_9b574688_0fd4_11eb_ab37_982120618180row13_col9 {\n            background-color:  #dbdcde;\n            color:  #000000;\n        }    #T_9b574688_0fd4_11eb_ab37_982120618180row13_col10 {\n            background-color:  #f3c7b1;\n            color:  #000000;\n        }    #T_9b574688_0fd4_11eb_ab37_982120618180row13_col11 {\n            background-color:  #455cce;\n            color:  #f1f1f1;\n        }    #T_9b574688_0fd4_11eb_ab37_982120618180row13_col12 {\n            background-color:  #5673e0;\n            color:  #000000;\n        }    #T_9b574688_0fd4_11eb_ab37_982120618180row13_col13 {\n            background-color:  #b40426;\n            color:  #f1f1f1;\n        }    #T_9b574688_0fd4_11eb_ab37_982120618180row13_col14 {\n            background-color:  #f6bfa6;\n            color:  #000000;\n        }    #T_9b574688_0fd4_11eb_ab37_982120618180row13_col15 {\n            background-color:  #bd1f2d;\n            color:  #f1f1f1;\n        }    #T_9b574688_0fd4_11eb_ab37_982120618180row13_col16 {\n            background-color:  #f1ccb8;\n            color:  #000000;\n        }    #T_9b574688_0fd4_11eb_ab37_982120618180row14_col0 {\n            background-color:  #f7b89c;\n            color:  #000000;\n        }    #T_9b574688_0fd4_11eb_ab37_982120618180row14_col1 {\n            background-color:  #b3cdfb;\n            color:  #000000;\n        }    #T_9b574688_0fd4_11eb_ab37_982120618180row14_col2 {\n            background-color:  #d9dce1;\n            color:  #000000;\n        }    #T_9b574688_0fd4_11eb_ab37_982120618180row14_col3 {\n            background-color:  #f7a98b;\n            color:  #000000;\n        }    #T_9b574688_0fd4_11eb_ab37_982120618180row14_col4 {\n            background-color:  #f4c5ad;\n            color:  #000000;\n        }    #T_9b574688_0fd4_11eb_ab37_982120618180row14_col5 {\n            background-color:  #96b7ff;\n            color:  #000000;\n        }    #T_9b574688_0fd4_11eb_ab37_982120618180row14_col6 {\n            background-color:  #f7a889;\n            color:  #000000;\n        }    #T_9b574688_0fd4_11eb_ab37_982120618180row14_col7 {\n            background-color:  #ca3b37;\n            color:  #f1f1f1;\n        }    #T_9b574688_0fd4_11eb_ab37_982120618180row14_col8 {\n            background-color:  #d8dce2;\n            color:  #000000;\n        }    #T_9b574688_0fd4_11eb_ab37_982120618180row14_col9 {\n            background-color:  #c32e31;\n            color:  #f1f1f1;\n        }    #T_9b574688_0fd4_11eb_ab37_982120618180row14_col10 {\n            background-color:  #bb1b2c;\n            color:  #f1f1f1;\n        }    #T_9b574688_0fd4_11eb_ab37_982120618180row14_col11 {\n            background-color:  #b3cdfb;\n            color:  #000000;\n        }    #T_9b574688_0fd4_11eb_ab37_982120618180row14_col12 {\n            background-color:  #779af7;\n            color:  #000000;\n        }    #T_9b574688_0fd4_11eb_ab37_982120618180row14_col13 {\n            background-color:  #f59c7d;\n            color:  #000000;\n        }    #T_9b574688_0fd4_11eb_ab37_982120618180row14_col14 {\n            background-color:  #b40426;\n            color:  #f1f1f1;\n        }    #T_9b574688_0fd4_11eb_ab37_982120618180row14_col15 {\n            background-color:  #f6a586;\n            color:  #000000;\n        }    #T_9b574688_0fd4_11eb_ab37_982120618180row14_col16 {\n            background-color:  #c53334;\n            color:  #f1f1f1;\n        }    #T_9b574688_0fd4_11eb_ab37_982120618180row15_col0 {\n            background-color:  #f6a385;\n            color:  #000000;\n        }    #T_9b574688_0fd4_11eb_ab37_982120618180row15_col1 {\n            background-color:  #e1dad6;\n            color:  #000000;\n        }    #T_9b574688_0fd4_11eb_ab37_982120618180row15_col2 {\n            background-color:  #f6bea4;\n            color:  #000000;\n        }    #T_9b574688_0fd4_11eb_ab37_982120618180row15_col3 {\n            background-color:  #d9dce1;\n            color:  #000000;\n        }    #T_9b574688_0fd4_11eb_ab37_982120618180row15_col4 {\n            background-color:  #9abbff;\n            color:  #000000;\n        }    #T_9b574688_0fd4_11eb_ab37_982120618180row15_col5 {\n            background-color:  #5572df;\n            color:  #000000;\n        }    #T_9b574688_0fd4_11eb_ab37_982120618180row15_col6 {\n            background-color:  #c43032;\n            color:  #f1f1f1;\n        }    #T_9b574688_0fd4_11eb_ab37_982120618180row15_col7 {\n            background-color:  #f1cdba;\n            color:  #000000;\n        }    #T_9b574688_0fd4_11eb_ab37_982120618180row15_col8 {\n            background-color:  #adc9fd;\n            color:  #000000;\n        }    #T_9b574688_0fd4_11eb_ab37_982120618180row15_col9 {\n            background-color:  #d2dbe8;\n            color:  #000000;\n        }    #T_9b574688_0fd4_11eb_ab37_982120618180row15_col10 {\n            background-color:  #f4c5ad;\n            color:  #000000;\n        }    #T_9b574688_0fd4_11eb_ab37_982120618180row15_col11 {\n            background-color:  #5977e3;\n            color:  #000000;\n        }    #T_9b574688_0fd4_11eb_ab37_982120618180row15_col12 {\n            background-color:  #3b4cc0;\n            color:  #f1f1f1;\n        }    #T_9b574688_0fd4_11eb_ab37_982120618180row15_col13 {\n            background-color:  #bb1b2c;\n            color:  #f1f1f1;\n        }    #T_9b574688_0fd4_11eb_ab37_982120618180row15_col14 {\n            background-color:  #f5c0a7;\n            color:  #000000;\n        }    #T_9b574688_0fd4_11eb_ab37_982120618180row15_col15 {\n            background-color:  #b40426;\n            color:  #f1f1f1;\n        }    #T_9b574688_0fd4_11eb_ab37_982120618180row15_col16 {\n            background-color:  #f3c8b2;\n            color:  #000000;\n        }    #T_9b574688_0fd4_11eb_ab37_982120618180row16_col0 {\n            background-color:  #f3c7b1;\n            color:  #000000;\n        }    #T_9b574688_0fd4_11eb_ab37_982120618180row16_col1 {\n            background-color:  #89acfd;\n            color:  #000000;\n        }    #T_9b574688_0fd4_11eb_ab37_982120618180row16_col2 {\n            background-color:  #bbd1f8;\n            color:  #000000;\n        }    #T_9b574688_0fd4_11eb_ab37_982120618180row16_col3 {\n            background-color:  #ed8366;\n            color:  #000000;\n        }    #T_9b574688_0fd4_11eb_ab37_982120618180row16_col4 {\n            background-color:  #f59d7e;\n            color:  #000000;\n        }    #T_9b574688_0fd4_11eb_ab37_982120618180row16_col5 {\n            background-color:  #bbd1f8;\n            color:  #000000;\n        }    #T_9b574688_0fd4_11eb_ab37_982120618180row16_col6 {\n            background-color:  #f7bca1;\n            color:  #000000;\n        }    #T_9b574688_0fd4_11eb_ab37_982120618180row16_col7 {\n            background-color:  #cd423b;\n            color:  #f1f1f1;\n        }    #T_9b574688_0fd4_11eb_ab37_982120618180row16_col8 {\n            background-color:  #f1ccb8;\n            color:  #000000;\n        }    #T_9b574688_0fd4_11eb_ab37_982120618180row16_col9 {\n            background-color:  #ca3b37;\n            color:  #f1f1f1;\n        }    #T_9b574688_0fd4_11eb_ab37_982120618180row16_col10 {\n            background-color:  #c0282f;\n            color:  #f1f1f1;\n        }    #T_9b574688_0fd4_11eb_ab37_982120618180row16_col11 {\n            background-color:  #cdd9ec;\n            color:  #000000;\n        }    #T_9b574688_0fd4_11eb_ab37_982120618180row16_col12 {\n            background-color:  #6f92f3;\n            color:  #000000;\n        }    #T_9b574688_0fd4_11eb_ab37_982120618180row16_col13 {\n            background-color:  #f7a688;\n            color:  #000000;\n        }    #T_9b574688_0fd4_11eb_ab37_982120618180row16_col14 {\n            background-color:  #c53334;\n            color:  #f1f1f1;\n        }    #T_9b574688_0fd4_11eb_ab37_982120618180row16_col15 {\n            background-color:  #f7a98b;\n            color:  #000000;\n        }    #T_9b574688_0fd4_11eb_ab37_982120618180row16_col16 {\n            background-color:  #b40426;\n            color:  #f1f1f1;\n        }</style><table id=\"T_9b574688_0fd4_11eb_ab37_982120618180\" ><thead>    <tr>        <th class=\"blank level0\" ></th>        <th class=\"col_heading level0 col0\" >0</th>        <th class=\"col_heading level0 col1\" >1</th>        <th class=\"col_heading level0 col2\" >2</th>        <th class=\"col_heading level0 col3\" >3</th>        <th class=\"col_heading level0 col4\" >4</th>        <th class=\"col_heading level0 col5\" >5</th>        <th class=\"col_heading level0 col6\" >6</th>        <th class=\"col_heading level0 col7\" >7</th>        <th class=\"col_heading level0 col8\" >8</th>        <th class=\"col_heading level0 col9\" >9</th>        <th class=\"col_heading level0 col10\" >10</th>        <th class=\"col_heading level0 col11\" >11</th>        <th class=\"col_heading level0 col12\" >12</th>        <th class=\"col_heading level0 col13\" >13</th>        <th class=\"col_heading level0 col14\" >14</th>        <th class=\"col_heading level0 col15\" >15</th>        <th class=\"col_heading level0 col16\" >16</th>    </tr></thead><tbody>\n                <tr>\n                        <th id=\"T_9b574688_0fd4_11eb_ab37_982120618180level0_row0\" class=\"row_heading level0 row0\" >0</th>\n                        <td id=\"T_9b574688_0fd4_11eb_ab37_982120618180row0_col0\" class=\"data row0 col0\" >1.00</td>\n                        <td id=\"T_9b574688_0fd4_11eb_ab37_982120618180row0_col1\" class=\"data row0 col1\" >0.43</td>\n                        <td id=\"T_9b574688_0fd4_11eb_ab37_982120618180row0_col2\" class=\"data row0 col2\" >0.50</td>\n                        <td id=\"T_9b574688_0fd4_11eb_ab37_982120618180row0_col3\" class=\"data row0 col3\" >-0.14</td>\n                        <td id=\"T_9b574688_0fd4_11eb_ab37_982120618180row0_col4\" class=\"data row0 col4\" >-0.28</td>\n                        <td id=\"T_9b574688_0fd4_11eb_ab37_982120618180row0_col5\" class=\"data row0 col5\" >-0.52</td>\n                        <td id=\"T_9b574688_0fd4_11eb_ab37_982120618180row0_col6\" class=\"data row0 col6\" >0.66</td>\n                        <td id=\"T_9b574688_0fd4_11eb_ab37_982120618180row0_col7\" class=\"data row0 col7\" >0.55</td>\n                        <td id=\"T_9b574688_0fd4_11eb_ab37_982120618180row0_col8\" class=\"data row0 col8\" >-0.33</td>\n                        <td id=\"T_9b574688_0fd4_11eb_ab37_982120618180row0_col9\" class=\"data row0 col9\" >0.50</td>\n                        <td id=\"T_9b574688_0fd4_11eb_ab37_982120618180row0_col10\" class=\"data row0 col10\" >0.46</td>\n                        <td id=\"T_9b574688_0fd4_11eb_ab37_982120618180row0_col11\" class=\"data row0 col11\" >-0.58</td>\n                        <td id=\"T_9b574688_0fd4_11eb_ab37_982120618180row0_col12\" class=\"data row0 col12\" >0.05</td>\n                        <td id=\"T_9b574688_0fd4_11eb_ab37_982120618180row0_col13\" class=\"data row0 col13\" >0.70</td>\n                        <td id=\"T_9b574688_0fd4_11eb_ab37_982120618180row0_col14\" class=\"data row0 col14\" >0.47</td>\n                        <td id=\"T_9b574688_0fd4_11eb_ab37_982120618180row0_col15\" class=\"data row0 col15\" >0.56</td>\n                        <td id=\"T_9b574688_0fd4_11eb_ab37_982120618180row0_col16\" class=\"data row0 col16\" >0.39</td>\n            </tr>\n            <tr>\n                        <th id=\"T_9b574688_0fd4_11eb_ab37_982120618180level0_row1\" class=\"row_heading level0 row1\" >1</th>\n                        <td id=\"T_9b574688_0fd4_11eb_ab37_982120618180row1_col0\" class=\"data row1 col0\" >0.43</td>\n                        <td id=\"T_9b574688_0fd4_11eb_ab37_982120618180row1_col1\" class=\"data row1 col1\" >1.00</td>\n                        <td id=\"T_9b574688_0fd4_11eb_ab37_982120618180row1_col2\" class=\"data row1 col2\" >0.55</td>\n                        <td id=\"T_9b574688_0fd4_11eb_ab37_982120618180row1_col3\" class=\"data row1 col3\" >-0.25</td>\n                        <td id=\"T_9b574688_0fd4_11eb_ab37_982120618180row1_col4\" class=\"data row1 col4\" >-0.41</td>\n                        <td id=\"T_9b574688_0fd4_11eb_ab37_982120618180row1_col5\" class=\"data row1 col5\" >-0.41</td>\n                        <td id=\"T_9b574688_0fd4_11eb_ab37_982120618180row1_col6\" class=\"data row1 col6\" >0.43</td>\n                        <td id=\"T_9b574688_0fd4_11eb_ab37_982120618180row1_col7\" class=\"data row1 col7\" >0.02</td>\n                        <td id=\"T_9b574688_0fd4_11eb_ab37_982120618180row1_col8\" class=\"data row1 col8\" >-0.37</td>\n                        <td id=\"T_9b574688_0fd4_11eb_ab37_982120618180row1_col9\" class=\"data row1 col9\" >0.04</td>\n                        <td id=\"T_9b574688_0fd4_11eb_ab37_982120618180row1_col10\" class=\"data row1 col10\" >0.10</td>\n                        <td id=\"T_9b574688_0fd4_11eb_ab37_982120618180row1_col11\" class=\"data row1 col11\" >-0.42</td>\n                        <td id=\"T_9b574688_0fd4_11eb_ab37_982120618180row1_col12\" class=\"data row1 col12\" >0.20</td>\n                        <td id=\"T_9b574688_0fd4_11eb_ab37_982120618180row1_col13\" class=\"data row1 col13\" >0.41</td>\n                        <td id=\"T_9b574688_0fd4_11eb_ab37_982120618180row1_col14\" class=\"data row1 col14\" >0.10</td>\n                        <td id=\"T_9b574688_0fd4_11eb_ab37_982120618180row1_col15\" class=\"data row1 col15\" >0.32</td>\n                        <td id=\"T_9b574688_0fd4_11eb_ab37_982120618180row1_col16\" class=\"data row1 col16\" >-0.08</td>\n            </tr>\n            <tr>\n                        <th id=\"T_9b574688_0fd4_11eb_ab37_982120618180level0_row2\" class=\"row_heading level0 row2\" >2</th>\n                        <td id=\"T_9b574688_0fd4_11eb_ab37_982120618180row2_col0\" class=\"data row2 col0\" >0.50</td>\n                        <td id=\"T_9b574688_0fd4_11eb_ab37_982120618180row2_col1\" class=\"data row2 col1\" >0.55</td>\n                        <td id=\"T_9b574688_0fd4_11eb_ab37_982120618180row2_col2\" class=\"data row2 col2\" >1.00</td>\n                        <td id=\"T_9b574688_0fd4_11eb_ab37_982120618180row2_col3\" class=\"data row2 col3\" >-0.33</td>\n                        <td id=\"T_9b574688_0fd4_11eb_ab37_982120618180row2_col4\" class=\"data row2 col4\" >-0.50</td>\n                        <td id=\"T_9b574688_0fd4_11eb_ab37_982120618180row2_col5\" class=\"data row2 col5\" >-0.41</td>\n                        <td id=\"T_9b574688_0fd4_11eb_ab37_982120618180row2_col6\" class=\"data row2 col6\" >0.57</td>\n                        <td id=\"T_9b574688_0fd4_11eb_ab37_982120618180row2_col7\" class=\"data row2 col7\" >0.05</td>\n                        <td id=\"T_9b574688_0fd4_11eb_ab37_982120618180row2_col8\" class=\"data row2 col8\" >-0.50</td>\n                        <td id=\"T_9b574688_0fd4_11eb_ab37_982120618180row2_col9\" class=\"data row2 col9\" >0.05</td>\n                        <td id=\"T_9b574688_0fd4_11eb_ab37_982120618180row2_col10\" class=\"data row2 col10\" >0.09</td>\n                        <td id=\"T_9b574688_0fd4_11eb_ab37_982120618180row2_col11\" class=\"data row2 col11\" >-0.66</td>\n                        <td id=\"T_9b574688_0fd4_11eb_ab37_982120618180row2_col12\" class=\"data row2 col12\" >0.18</td>\n                        <td id=\"T_9b574688_0fd4_11eb_ab37_982120618180row2_col13\" class=\"data row2 col13\" >0.51</td>\n                        <td id=\"T_9b574688_0fd4_11eb_ab37_982120618180row2_col14\" class=\"data row2 col14\" >0.15</td>\n                        <td id=\"T_9b574688_0fd4_11eb_ab37_982120618180row2_col15\" class=\"data row2 col15\" >0.41</td>\n                        <td id=\"T_9b574688_0fd4_11eb_ab37_982120618180row2_col16\" class=\"data row2 col16\" >-0.02</td>\n            </tr>\n            <tr>\n                        <th id=\"T_9b574688_0fd4_11eb_ab37_982120618180level0_row3\" class=\"row_heading level0 row3\" >3</th>\n                        <td id=\"T_9b574688_0fd4_11eb_ab37_982120618180row3_col0\" class=\"data row3 col0\" >-0.14</td>\n                        <td id=\"T_9b574688_0fd4_11eb_ab37_982120618180row3_col1\" class=\"data row3 col1\" >-0.25</td>\n                        <td id=\"T_9b574688_0fd4_11eb_ab37_982120618180row3_col2\" class=\"data row3 col2\" >-0.33</td>\n                        <td id=\"T_9b574688_0fd4_11eb_ab37_982120618180row3_col3\" class=\"data row3 col3\" >1.00</td>\n                        <td id=\"T_9b574688_0fd4_11eb_ab37_982120618180row3_col4\" class=\"data row3 col4\" >0.86</td>\n                        <td id=\"T_9b574688_0fd4_11eb_ab37_982120618180row3_col5\" class=\"data row3 col5\" >0.37</td>\n                        <td id=\"T_9b574688_0fd4_11eb_ab37_982120618180row3_col6\" class=\"data row3 col6\" >0.08</td>\n                        <td id=\"T_9b574688_0fd4_11eb_ab37_982120618180row3_col7\" class=\"data row3 col7\" >0.50</td>\n                        <td id=\"T_9b574688_0fd4_11eb_ab37_982120618180row3_col8\" class=\"data row3 col8\" >0.72</td>\n                        <td id=\"T_9b574688_0fd4_11eb_ab37_982120618180row3_col9\" class=\"data row3 col9\" >0.56</td>\n                        <td id=\"T_9b574688_0fd4_11eb_ab37_982120618180row3_col10\" class=\"data row3 col10\" >0.70</td>\n                        <td id=\"T_9b574688_0fd4_11eb_ab37_982120618180row3_col11\" class=\"data row3 col11\" >0.39</td>\n                        <td id=\"T_9b574688_0fd4_11eb_ab37_982120618180row3_col12\" class=\"data row3 col12\" >-0.29</td>\n                        <td id=\"T_9b574688_0fd4_11eb_ab37_982120618180row3_col13\" class=\"data row3 col13\" >0.18</td>\n                        <td id=\"T_9b574688_0fd4_11eb_ab37_982120618180row3_col14\" class=\"data row3 col14\" >0.61</td>\n                        <td id=\"T_9b574688_0fd4_11eb_ab37_982120618180row3_col15\" class=\"data row3 col15\" >0.32</td>\n                        <td id=\"T_9b574688_0fd4_11eb_ab37_982120618180row3_col16\" class=\"data row3 col16\" >0.74</td>\n            </tr>\n            <tr>\n                        <th id=\"T_9b574688_0fd4_11eb_ab37_982120618180level0_row4\" class=\"row_heading level0 row4\" >4</th>\n                        <td id=\"T_9b574688_0fd4_11eb_ab37_982120618180row4_col0\" class=\"data row4 col0\" >-0.28</td>\n                        <td id=\"T_9b574688_0fd4_11eb_ab37_982120618180row4_col1\" class=\"data row4 col1\" >-0.41</td>\n                        <td id=\"T_9b574688_0fd4_11eb_ab37_982120618180row4_col2\" class=\"data row4 col2\" >-0.50</td>\n                        <td id=\"T_9b574688_0fd4_11eb_ab37_982120618180row4_col3\" class=\"data row4 col3\" >0.86</td>\n                        <td id=\"T_9b574688_0fd4_11eb_ab37_982120618180row4_col4\" class=\"data row4 col4\" >1.00</td>\n                        <td id=\"T_9b574688_0fd4_11eb_ab37_982120618180row4_col5\" class=\"data row4 col5\" >0.68</td>\n                        <td id=\"T_9b574688_0fd4_11eb_ab37_982120618180row4_col6\" class=\"data row4 col6\" >-0.35</td>\n                        <td id=\"T_9b574688_0fd4_11eb_ab37_982120618180row4_col7\" class=\"data row4 col7\" >0.39</td>\n                        <td id=\"T_9b574688_0fd4_11eb_ab37_982120618180row4_col8\" class=\"data row4 col8\" >0.85</td>\n                        <td id=\"T_9b574688_0fd4_11eb_ab37_982120618180row4_col9\" class=\"data row4 col9\" >0.49</td>\n                        <td id=\"T_9b574688_0fd4_11eb_ab37_982120618180row4_col10\" class=\"data row4 col10\" >0.53</td>\n                        <td id=\"T_9b574688_0fd4_11eb_ab37_982120618180row4_col11\" class=\"data row4 col11\" >0.70</td>\n                        <td id=\"T_9b574688_0fd4_11eb_ab37_982120618180row4_col12\" class=\"data row4 col12\" >-0.05</td>\n                        <td id=\"T_9b574688_0fd4_11eb_ab37_982120618180row4_col13\" class=\"data row4 col13\" >-0.21</td>\n                        <td id=\"T_9b574688_0fd4_11eb_ab37_982120618180row4_col14\" class=\"data row4 col14\" >0.43</td>\n                        <td id=\"T_9b574688_0fd4_11eb_ab37_982120618180row4_col15\" class=\"data row4 col15\" >-0.07</td>\n                        <td id=\"T_9b574688_0fd4_11eb_ab37_982120618180row4_col16\" class=\"data row4 col16\" >0.61</td>\n            </tr>\n            <tr>\n                        <th id=\"T_9b574688_0fd4_11eb_ab37_982120618180level0_row5\" class=\"row_heading level0 row5\" >5</th>\n                        <td id=\"T_9b574688_0fd4_11eb_ab37_982120618180row5_col0\" class=\"data row5 col0\" >-0.52</td>\n                        <td id=\"T_9b574688_0fd4_11eb_ab37_982120618180row5_col1\" class=\"data row5 col1\" >-0.41</td>\n                        <td id=\"T_9b574688_0fd4_11eb_ab37_982120618180row5_col2\" class=\"data row5 col2\" >-0.41</td>\n                        <td id=\"T_9b574688_0fd4_11eb_ab37_982120618180row5_col3\" class=\"data row5 col3\" >0.37</td>\n                        <td id=\"T_9b574688_0fd4_11eb_ab37_982120618180row5_col4\" class=\"data row5 col4\" >0.68</td>\n                        <td id=\"T_9b574688_0fd4_11eb_ab37_982120618180row5_col5\" class=\"data row5 col5\" >1.00</td>\n                        <td id=\"T_9b574688_0fd4_11eb_ab37_982120618180row5_col6\" class=\"data row5 col6\" >-0.74</td>\n                        <td id=\"T_9b574688_0fd4_11eb_ab37_982120618180row5_col7\" class=\"data row5 col7\" >-0.25</td>\n                        <td id=\"T_9b574688_0fd4_11eb_ab37_982120618180row5_col8\" class=\"data row5 col8\" >0.57</td>\n                        <td id=\"T_9b574688_0fd4_11eb_ab37_982120618180row5_col9\" class=\"data row5 col9\" >-0.13</td>\n                        <td id=\"T_9b574688_0fd4_11eb_ab37_982120618180row5_col10\" class=\"data row5 col10\" >-0.15</td>\n                        <td id=\"T_9b574688_0fd4_11eb_ab37_982120618180row5_col11\" class=\"data row5 col11\" >0.82</td>\n                        <td id=\"T_9b574688_0fd4_11eb_ab37_982120618180row5_col12\" class=\"data row5 col12\" >0.39</td>\n                        <td id=\"T_9b574688_0fd4_11eb_ab37_982120618180row5_col13\" class=\"data row5 col13\" >-0.67</td>\n                        <td id=\"T_9b574688_0fd4_11eb_ab37_982120618180row5_col14\" class=\"data row5 col14\" >-0.26</td>\n                        <td id=\"T_9b574688_0fd4_11eb_ab37_982120618180row5_col15\" class=\"data row5 col15\" >-0.59</td>\n                        <td id=\"T_9b574688_0fd4_11eb_ab37_982120618180row5_col16\" class=\"data row5 col16\" >-0.07</td>\n            </tr>\n            <tr>\n                        <th id=\"T_9b574688_0fd4_11eb_ab37_982120618180level0_row6\" class=\"row_heading level0 row6\" >6</th>\n                        <td id=\"T_9b574688_0fd4_11eb_ab37_982120618180row6_col0\" class=\"data row6 col0\" >0.66</td>\n                        <td id=\"T_9b574688_0fd4_11eb_ab37_982120618180row6_col1\" class=\"data row6 col1\" >0.43</td>\n                        <td id=\"T_9b574688_0fd4_11eb_ab37_982120618180row6_col2\" class=\"data row6 col2\" >0.57</td>\n                        <td id=\"T_9b574688_0fd4_11eb_ab37_982120618180row6_col3\" class=\"data row6 col3\" >0.08</td>\n                        <td id=\"T_9b574688_0fd4_11eb_ab37_982120618180row6_col4\" class=\"data row6 col4\" >-0.35</td>\n                        <td id=\"T_9b574688_0fd4_11eb_ab37_982120618180row6_col5\" class=\"data row6 col5\" >-0.74</td>\n                        <td id=\"T_9b574688_0fd4_11eb_ab37_982120618180row6_col6\" class=\"data row6 col6\" >1.00</td>\n                        <td id=\"T_9b574688_0fd4_11eb_ab37_982120618180row6_col7\" class=\"data row6 col7\" >0.42</td>\n                        <td id=\"T_9b574688_0fd4_11eb_ab37_982120618180row6_col8\" class=\"data row6 col8\" >-0.28</td>\n                        <td id=\"T_9b574688_0fd4_11eb_ab37_982120618180row6_col9\" class=\"data row6 col9\" >0.32</td>\n                        <td id=\"T_9b574688_0fd4_11eb_ab37_982120618180row6_col10\" class=\"data row6 col10\" >0.46</td>\n                        <td id=\"T_9b574688_0fd4_11eb_ab37_982120618180row6_col11\" class=\"data row6 col11\" >-0.83</td>\n                        <td id=\"T_9b574688_0fd4_11eb_ab37_982120618180row6_col12\" class=\"data row6 col12\" >-0.34</td>\n                        <td id=\"T_9b574688_0fd4_11eb_ab37_982120618180row6_col13\" class=\"data row6 col13\" >0.96</td>\n                        <td id=\"T_9b574688_0fd4_11eb_ab37_982120618180row6_col14\" class=\"data row6 col14\" >0.48</td>\n                        <td id=\"T_9b574688_0fd4_11eb_ab37_982120618180row6_col15\" class=\"data row6 col15\" >0.92</td>\n                        <td id=\"T_9b574688_0fd4_11eb_ab37_982120618180row6_col16\" class=\"data row6 col16\" >0.37</td>\n            </tr>\n            <tr>\n                        <th id=\"T_9b574688_0fd4_11eb_ab37_982120618180level0_row7\" class=\"row_heading level0 row7\" >7</th>\n                        <td id=\"T_9b574688_0fd4_11eb_ab37_982120618180row7_col0\" class=\"data row7 col0\" >0.55</td>\n                        <td id=\"T_9b574688_0fd4_11eb_ab37_982120618180row7_col1\" class=\"data row7 col1\" >0.02</td>\n                        <td id=\"T_9b574688_0fd4_11eb_ab37_982120618180row7_col2\" class=\"data row7 col2\" >0.05</td>\n                        <td id=\"T_9b574688_0fd4_11eb_ab37_982120618180row7_col3\" class=\"data row7 col3\" >0.50</td>\n                        <td id=\"T_9b574688_0fd4_11eb_ab37_982120618180row7_col4\" class=\"data row7 col4\" >0.39</td>\n                        <td id=\"T_9b574688_0fd4_11eb_ab37_982120618180row7_col5\" class=\"data row7 col5\" >-0.25</td>\n                        <td id=\"T_9b574688_0fd4_11eb_ab37_982120618180row7_col6\" class=\"data row7 col6\" >0.42</td>\n                        <td id=\"T_9b574688_0fd4_11eb_ab37_982120618180row7_col7\" class=\"data row7 col7\" >1.00</td>\n                        <td id=\"T_9b574688_0fd4_11eb_ab37_982120618180row7_col8\" class=\"data row7 col8\" >0.17</td>\n                        <td id=\"T_9b574688_0fd4_11eb_ab37_982120618180row7_col9\" class=\"data row7 col9\" >0.95</td>\n                        <td id=\"T_9b574688_0fd4_11eb_ab37_982120618180row7_col10\" class=\"data row7 col10\" >0.92</td>\n                        <td id=\"T_9b574688_0fd4_11eb_ab37_982120618180row7_col11\" class=\"data row7 col11\" >-0.19</td>\n                        <td id=\"T_9b574688_0fd4_11eb_ab37_982120618180row7_col12\" class=\"data row7 col12\" >-0.09</td>\n                        <td id=\"T_9b574688_0fd4_11eb_ab37_982120618180row7_col13\" class=\"data row7 col13\" >0.53</td>\n                        <td id=\"T_9b574688_0fd4_11eb_ab37_982120618180row7_col14\" class=\"data row7 col14\" >0.92</td>\n                        <td id=\"T_9b574688_0fd4_11eb_ab37_982120618180row7_col15\" class=\"data row7 col15\" >0.49</td>\n                        <td id=\"T_9b574688_0fd4_11eb_ab37_982120618180row7_col16\" class=\"data row7 col16\" >0.91</td>\n            </tr>\n            <tr>\n                        <th id=\"T_9b574688_0fd4_11eb_ab37_982120618180level0_row8\" class=\"row_heading level0 row8\" >8</th>\n                        <td id=\"T_9b574688_0fd4_11eb_ab37_982120618180row8_col0\" class=\"data row8 col0\" >-0.33</td>\n                        <td id=\"T_9b574688_0fd4_11eb_ab37_982120618180row8_col1\" class=\"data row8 col1\" >-0.37</td>\n                        <td id=\"T_9b574688_0fd4_11eb_ab37_982120618180row8_col2\" class=\"data row8 col2\" >-0.50</td>\n                        <td id=\"T_9b574688_0fd4_11eb_ab37_982120618180row8_col3\" class=\"data row8 col3\" >0.72</td>\n                        <td id=\"T_9b574688_0fd4_11eb_ab37_982120618180row8_col4\" class=\"data row8 col4\" >0.85</td>\n                        <td id=\"T_9b574688_0fd4_11eb_ab37_982120618180row8_col5\" class=\"data row8 col5\" >0.57</td>\n                        <td id=\"T_9b574688_0fd4_11eb_ab37_982120618180row8_col6\" class=\"data row8 col6\" >-0.28</td>\n                        <td id=\"T_9b574688_0fd4_11eb_ab37_982120618180row8_col7\" class=\"data row8 col7\" >0.17</td>\n                        <td id=\"T_9b574688_0fd4_11eb_ab37_982120618180row8_col8\" class=\"data row8 col8\" >1.00</td>\n                        <td id=\"T_9b574688_0fd4_11eb_ab37_982120618180row8_col9\" class=\"data row8 col9\" >0.26</td>\n                        <td id=\"T_9b574688_0fd4_11eb_ab37_982120618180row8_col10\" class=\"data row8 col10\" >0.34</td>\n                        <td id=\"T_9b574688_0fd4_11eb_ab37_982120618180row8_col11\" class=\"data row8 col11\" >0.67</td>\n                        <td id=\"T_9b574688_0fd4_11eb_ab37_982120618180row8_col12\" class=\"data row8 col12\" >-0.26</td>\n                        <td id=\"T_9b574688_0fd4_11eb_ab37_982120618180row8_col13\" class=\"data row8 col13\" >-0.18</td>\n                        <td id=\"T_9b574688_0fd4_11eb_ab37_982120618180row8_col14\" class=\"data row8 col14\" >0.23</td>\n                        <td id=\"T_9b574688_0fd4_11eb_ab37_982120618180row8_col15\" class=\"data row8 col15\" >0.02</td>\n                        <td id=\"T_9b574688_0fd4_11eb_ab37_982120618180row8_col16\" class=\"data row8 col16\" >0.39</td>\n            </tr>\n            <tr>\n                        <th id=\"T_9b574688_0fd4_11eb_ab37_982120618180level0_row9\" class=\"row_heading level0 row9\" >9</th>\n                        <td id=\"T_9b574688_0fd4_11eb_ab37_982120618180row9_col0\" class=\"data row9 col0\" >0.50</td>\n                        <td id=\"T_9b574688_0fd4_11eb_ab37_982120618180row9_col1\" class=\"data row9 col1\" >0.04</td>\n                        <td id=\"T_9b574688_0fd4_11eb_ab37_982120618180row9_col2\" class=\"data row9 col2\" >0.05</td>\n                        <td id=\"T_9b574688_0fd4_11eb_ab37_982120618180row9_col3\" class=\"data row9 col3\" >0.56</td>\n                        <td id=\"T_9b574688_0fd4_11eb_ab37_982120618180row9_col4\" class=\"data row9 col4\" >0.49</td>\n                        <td id=\"T_9b574688_0fd4_11eb_ab37_982120618180row9_col5\" class=\"data row9 col5\" >-0.13</td>\n                        <td id=\"T_9b574688_0fd4_11eb_ab37_982120618180row9_col6\" class=\"data row9 col6\" >0.32</td>\n                        <td id=\"T_9b574688_0fd4_11eb_ab37_982120618180row9_col7\" class=\"data row9 col7\" >0.95</td>\n                        <td id=\"T_9b574688_0fd4_11eb_ab37_982120618180row9_col8\" class=\"data row9 col8\" >0.26</td>\n                        <td id=\"T_9b574688_0fd4_11eb_ab37_982120618180row9_col9\" class=\"data row9 col9\" >1.00</td>\n                        <td id=\"T_9b574688_0fd4_11eb_ab37_982120618180row9_col10\" class=\"data row9 col10\" >0.95</td>\n                        <td id=\"T_9b574688_0fd4_11eb_ab37_982120618180row9_col11\" class=\"data row9 col11\" >-0.05</td>\n                        <td id=\"T_9b574688_0fd4_11eb_ab37_982120618180row9_col12\" class=\"data row9 col12\" >-0.06</td>\n                        <td id=\"T_9b574688_0fd4_11eb_ab37_982120618180row9_col13\" class=\"data row9 col13\" >0.43</td>\n                        <td id=\"T_9b574688_0fd4_11eb_ab37_982120618180row9_col14\" class=\"data row9 col14\" >0.95</td>\n                        <td id=\"T_9b574688_0fd4_11eb_ab37_982120618180row9_col15\" class=\"data row9 col15\" >0.39</td>\n                        <td id=\"T_9b574688_0fd4_11eb_ab37_982120618180row9_col16\" class=\"data row9 col16\" >0.93</td>\n            </tr>\n            <tr>\n                        <th id=\"T_9b574688_0fd4_11eb_ab37_982120618180level0_row10\" class=\"row_heading level0 row10\" >10</th>\n                        <td id=\"T_9b574688_0fd4_11eb_ab37_982120618180row10_col0\" class=\"data row10 col0\" >0.46</td>\n                        <td id=\"T_9b574688_0fd4_11eb_ab37_982120618180row10_col1\" class=\"data row10 col1\" >0.10</td>\n                        <td id=\"T_9b574688_0fd4_11eb_ab37_982120618180row10_col2\" class=\"data row10 col2\" >0.09</td>\n                        <td id=\"T_9b574688_0fd4_11eb_ab37_982120618180row10_col3\" class=\"data row10 col3\" >0.70</td>\n                        <td id=\"T_9b574688_0fd4_11eb_ab37_982120618180row10_col4\" class=\"data row10 col4\" >0.53</td>\n                        <td id=\"T_9b574688_0fd4_11eb_ab37_982120618180row10_col5\" class=\"data row10 col5\" >-0.15</td>\n                        <td id=\"T_9b574688_0fd4_11eb_ab37_982120618180row10_col6\" class=\"data row10 col6\" >0.46</td>\n                        <td id=\"T_9b574688_0fd4_11eb_ab37_982120618180row10_col7\" class=\"data row10 col7\" >0.92</td>\n                        <td id=\"T_9b574688_0fd4_11eb_ab37_982120618180row10_col8\" class=\"data row10 col8\" >0.34</td>\n                        <td id=\"T_9b574688_0fd4_11eb_ab37_982120618180row10_col9\" class=\"data row10 col9\" >0.95</td>\n                        <td id=\"T_9b574688_0fd4_11eb_ab37_982120618180row10_col10\" class=\"data row10 col10\" >1.00</td>\n                        <td id=\"T_9b574688_0fd4_11eb_ab37_982120618180row10_col11\" class=\"data row10 col11\" >-0.11</td>\n                        <td id=\"T_9b574688_0fd4_11eb_ab37_982120618180row10_col12\" class=\"data row10 col12\" >-0.14</td>\n                        <td id=\"T_9b574688_0fd4_11eb_ab37_982120618180row10_col13\" class=\"data row10 col13\" >0.56</td>\n                        <td id=\"T_9b574688_0fd4_11eb_ab37_982120618180row10_col14\" class=\"data row10 col14\" >0.98</td>\n                        <td id=\"T_9b574688_0fd4_11eb_ab37_982120618180row10_col15\" class=\"data row10 col15\" >0.57</td>\n                        <td id=\"T_9b574688_0fd4_11eb_ab37_982120618180row10_col16\" class=\"data row10 col16\" >0.96</td>\n            </tr>\n            <tr>\n                        <th id=\"T_9b574688_0fd4_11eb_ab37_982120618180level0_row11\" class=\"row_heading level0 row11\" >11</th>\n                        <td id=\"T_9b574688_0fd4_11eb_ab37_982120618180row11_col0\" class=\"data row11 col0\" >-0.58</td>\n                        <td id=\"T_9b574688_0fd4_11eb_ab37_982120618180row11_col1\" class=\"data row11 col1\" >-0.42</td>\n                        <td id=\"T_9b574688_0fd4_11eb_ab37_982120618180row11_col2\" class=\"data row11 col2\" >-0.66</td>\n                        <td id=\"T_9b574688_0fd4_11eb_ab37_982120618180row11_col3\" class=\"data row11 col3\" >0.39</td>\n                        <td id=\"T_9b574688_0fd4_11eb_ab37_982120618180row11_col4\" class=\"data row11 col4\" >0.70</td>\n                        <td id=\"T_9b574688_0fd4_11eb_ab37_982120618180row11_col5\" class=\"data row11 col5\" >0.82</td>\n                        <td id=\"T_9b574688_0fd4_11eb_ab37_982120618180row11_col6\" class=\"data row11 col6\" >-0.83</td>\n                        <td id=\"T_9b574688_0fd4_11eb_ab37_982120618180row11_col7\" class=\"data row11 col7\" >-0.19</td>\n                        <td id=\"T_9b574688_0fd4_11eb_ab37_982120618180row11_col8\" class=\"data row11 col8\" >0.67</td>\n                        <td id=\"T_9b574688_0fd4_11eb_ab37_982120618180row11_col9\" class=\"data row11 col9\" >-0.05</td>\n                        <td id=\"T_9b574688_0fd4_11eb_ab37_982120618180row11_col10\" class=\"data row11 col10\" >-0.11</td>\n                        <td id=\"T_9b574688_0fd4_11eb_ab37_982120618180row11_col11\" class=\"data row11 col11\" >1.00</td>\n                        <td id=\"T_9b574688_0fd4_11eb_ab37_982120618180row11_col12\" class=\"data row11 col12\" >0.08</td>\n                        <td id=\"T_9b574688_0fd4_11eb_ab37_982120618180row11_col13\" class=\"data row11 col13\" >-0.76</td>\n                        <td id=\"T_9b574688_0fd4_11eb_ab37_982120618180row11_col14\" class=\"data row11 col14\" >-0.17</td>\n                        <td id=\"T_9b574688_0fd4_11eb_ab37_982120618180row11_col15\" class=\"data row11 col15\" >-0.65</td>\n                        <td id=\"T_9b574688_0fd4_11eb_ab37_982120618180row11_col16\" class=\"data row11 col16\" >-0.02</td>\n            </tr>\n            <tr>\n                        <th id=\"T_9b574688_0fd4_11eb_ab37_982120618180level0_row12\" class=\"row_heading level0 row12\" >12</th>\n                        <td id=\"T_9b574688_0fd4_11eb_ab37_982120618180row12_col0\" class=\"data row12 col0\" >0.05</td>\n                        <td id=\"T_9b574688_0fd4_11eb_ab37_982120618180row12_col1\" class=\"data row12 col1\" >0.20</td>\n                        <td id=\"T_9b574688_0fd4_11eb_ab37_982120618180row12_col2\" class=\"data row12 col2\" >0.18</td>\n                        <td id=\"T_9b574688_0fd4_11eb_ab37_982120618180row12_col3\" class=\"data row12 col3\" >-0.29</td>\n                        <td id=\"T_9b574688_0fd4_11eb_ab37_982120618180row12_col4\" class=\"data row12 col4\" >-0.05</td>\n                        <td id=\"T_9b574688_0fd4_11eb_ab37_982120618180row12_col5\" class=\"data row12 col5\" >0.39</td>\n                        <td id=\"T_9b574688_0fd4_11eb_ab37_982120618180row12_col6\" class=\"data row12 col6\" >-0.34</td>\n                        <td id=\"T_9b574688_0fd4_11eb_ab37_982120618180row12_col7\" class=\"data row12 col7\" >-0.09</td>\n                        <td id=\"T_9b574688_0fd4_11eb_ab37_982120618180row12_col8\" class=\"data row12 col8\" >-0.26</td>\n                        <td id=\"T_9b574688_0fd4_11eb_ab37_982120618180row12_col9\" class=\"data row12 col9\" >-0.06</td>\n                        <td id=\"T_9b574688_0fd4_11eb_ab37_982120618180row12_col10\" class=\"data row12 col10\" >-0.14</td>\n                        <td id=\"T_9b574688_0fd4_11eb_ab37_982120618180row12_col11\" class=\"data row12 col11\" >0.08</td>\n                        <td id=\"T_9b574688_0fd4_11eb_ab37_982120618180row12_col12\" class=\"data row12 col12\" >1.00</td>\n                        <td id=\"T_9b574688_0fd4_11eb_ab37_982120618180row12_col13\" class=\"data row12 col13\" >-0.34</td>\n                        <td id=\"T_9b574688_0fd4_11eb_ab37_982120618180row12_col14\" class=\"data row12 col14\" >-0.19</td>\n                        <td id=\"T_9b574688_0fd4_11eb_ab37_982120618180row12_col15\" class=\"data row12 col15\" >-0.47</td>\n                        <td id=\"T_9b574688_0fd4_11eb_ab37_982120618180row12_col16\" class=\"data row12 col16\" >-0.23</td>\n            </tr>\n            <tr>\n                        <th id=\"T_9b574688_0fd4_11eb_ab37_982120618180level0_row13\" class=\"row_heading level0 row13\" >13</th>\n                        <td id=\"T_9b574688_0fd4_11eb_ab37_982120618180row13_col0\" class=\"data row13 col0\" >0.70</td>\n                        <td id=\"T_9b574688_0fd4_11eb_ab37_982120618180row13_col1\" class=\"data row13 col1\" >0.41</td>\n                        <td id=\"T_9b574688_0fd4_11eb_ab37_982120618180row13_col2\" class=\"data row13 col2\" >0.51</td>\n                        <td id=\"T_9b574688_0fd4_11eb_ab37_982120618180row13_col3\" class=\"data row13 col3\" >0.18</td>\n                        <td id=\"T_9b574688_0fd4_11eb_ab37_982120618180row13_col4\" class=\"data row13 col4\" >-0.21</td>\n                        <td id=\"T_9b574688_0fd4_11eb_ab37_982120618180row13_col5\" class=\"data row13 col5\" >-0.67</td>\n                        <td id=\"T_9b574688_0fd4_11eb_ab37_982120618180row13_col6\" class=\"data row13 col6\" >0.96</td>\n                        <td id=\"T_9b574688_0fd4_11eb_ab37_982120618180row13_col7\" class=\"data row13 col7\" >0.53</td>\n                        <td id=\"T_9b574688_0fd4_11eb_ab37_982120618180row13_col8\" class=\"data row13 col8\" >-0.18</td>\n                        <td id=\"T_9b574688_0fd4_11eb_ab37_982120618180row13_col9\" class=\"data row13 col9\" >0.43</td>\n                        <td id=\"T_9b574688_0fd4_11eb_ab37_982120618180row13_col10\" class=\"data row13 col10\" >0.56</td>\n                        <td id=\"T_9b574688_0fd4_11eb_ab37_982120618180row13_col11\" class=\"data row13 col11\" >-0.76</td>\n                        <td id=\"T_9b574688_0fd4_11eb_ab37_982120618180row13_col12\" class=\"data row13 col12\" >-0.34</td>\n                        <td id=\"T_9b574688_0fd4_11eb_ab37_982120618180row13_col13\" class=\"data row13 col13\" >1.00</td>\n                        <td id=\"T_9b574688_0fd4_11eb_ab37_982120618180row13_col14\" class=\"data row13 col14\" >0.55</td>\n                        <td id=\"T_9b574688_0fd4_11eb_ab37_982120618180row13_col15\" class=\"data row13 col15\" >0.96</td>\n                        <td id=\"T_9b574688_0fd4_11eb_ab37_982120618180row13_col16\" class=\"data row13 col16\" >0.50</td>\n            </tr>\n            <tr>\n                        <th id=\"T_9b574688_0fd4_11eb_ab37_982120618180level0_row14\" class=\"row_heading level0 row14\" >14</th>\n                        <td id=\"T_9b574688_0fd4_11eb_ab37_982120618180row14_col0\" class=\"data row14 col0\" >0.47</td>\n                        <td id=\"T_9b574688_0fd4_11eb_ab37_982120618180row14_col1\" class=\"data row14 col1\" >0.10</td>\n                        <td id=\"T_9b574688_0fd4_11eb_ab37_982120618180row14_col2\" class=\"data row14 col2\" >0.15</td>\n                        <td id=\"T_9b574688_0fd4_11eb_ab37_982120618180row14_col3\" class=\"data row14 col3\" >0.61</td>\n                        <td id=\"T_9b574688_0fd4_11eb_ab37_982120618180row14_col4\" class=\"data row14 col4\" >0.43</td>\n                        <td id=\"T_9b574688_0fd4_11eb_ab37_982120618180row14_col5\" class=\"data row14 col5\" >-0.26</td>\n                        <td id=\"T_9b574688_0fd4_11eb_ab37_982120618180row14_col6\" class=\"data row14 col6\" >0.48</td>\n                        <td id=\"T_9b574688_0fd4_11eb_ab37_982120618180row14_col7\" class=\"data row14 col7\" >0.92</td>\n                        <td id=\"T_9b574688_0fd4_11eb_ab37_982120618180row14_col8\" class=\"data row14 col8\" >0.23</td>\n                        <td id=\"T_9b574688_0fd4_11eb_ab37_982120618180row14_col9\" class=\"data row14 col9\" >0.95</td>\n                        <td id=\"T_9b574688_0fd4_11eb_ab37_982120618180row14_col10\" class=\"data row14 col10\" >0.98</td>\n                        <td id=\"T_9b574688_0fd4_11eb_ab37_982120618180row14_col11\" class=\"data row14 col11\" >-0.17</td>\n                        <td id=\"T_9b574688_0fd4_11eb_ab37_982120618180row14_col12\" class=\"data row14 col12\" >-0.19</td>\n                        <td id=\"T_9b574688_0fd4_11eb_ab37_982120618180row14_col13\" class=\"data row14 col13\" >0.55</td>\n                        <td id=\"T_9b574688_0fd4_11eb_ab37_982120618180row14_col14\" class=\"data row14 col14\" >1.00</td>\n                        <td id=\"T_9b574688_0fd4_11eb_ab37_982120618180row14_col15\" class=\"data row14 col15\" >0.54</td>\n                        <td id=\"T_9b574688_0fd4_11eb_ab37_982120618180row14_col16\" class=\"data row14 col16\" >0.94</td>\n            </tr>\n            <tr>\n                        <th id=\"T_9b574688_0fd4_11eb_ab37_982120618180level0_row15\" class=\"row_heading level0 row15\" >15</th>\n                        <td id=\"T_9b574688_0fd4_11eb_ab37_982120618180row15_col0\" class=\"data row15 col0\" >0.56</td>\n                        <td id=\"T_9b574688_0fd4_11eb_ab37_982120618180row15_col1\" class=\"data row15 col1\" >0.32</td>\n                        <td id=\"T_9b574688_0fd4_11eb_ab37_982120618180row15_col2\" class=\"data row15 col2\" >0.41</td>\n                        <td id=\"T_9b574688_0fd4_11eb_ab37_982120618180row15_col3\" class=\"data row15 col3\" >0.32</td>\n                        <td id=\"T_9b574688_0fd4_11eb_ab37_982120618180row15_col4\" class=\"data row15 col4\" >-0.07</td>\n                        <td id=\"T_9b574688_0fd4_11eb_ab37_982120618180row15_col5\" class=\"data row15 col5\" >-0.59</td>\n                        <td id=\"T_9b574688_0fd4_11eb_ab37_982120618180row15_col6\" class=\"data row15 col6\" >0.92</td>\n                        <td id=\"T_9b574688_0fd4_11eb_ab37_982120618180row15_col7\" class=\"data row15 col7\" >0.49</td>\n                        <td id=\"T_9b574688_0fd4_11eb_ab37_982120618180row15_col8\" class=\"data row15 col8\" >0.02</td>\n                        <td id=\"T_9b574688_0fd4_11eb_ab37_982120618180row15_col9\" class=\"data row15 col9\" >0.39</td>\n                        <td id=\"T_9b574688_0fd4_11eb_ab37_982120618180row15_col10\" class=\"data row15 col10\" >0.57</td>\n                        <td id=\"T_9b574688_0fd4_11eb_ab37_982120618180row15_col11\" class=\"data row15 col11\" >-0.65</td>\n                        <td id=\"T_9b574688_0fd4_11eb_ab37_982120618180row15_col12\" class=\"data row15 col12\" >-0.47</td>\n                        <td id=\"T_9b574688_0fd4_11eb_ab37_982120618180row15_col13\" class=\"data row15 col13\" >0.96</td>\n                        <td id=\"T_9b574688_0fd4_11eb_ab37_982120618180row15_col14\" class=\"data row15 col14\" >0.54</td>\n                        <td id=\"T_9b574688_0fd4_11eb_ab37_982120618180row15_col15\" class=\"data row15 col15\" >1.00</td>\n                        <td id=\"T_9b574688_0fd4_11eb_ab37_982120618180row15_col16\" class=\"data row15 col16\" >0.52</td>\n            </tr>\n            <tr>\n                        <th id=\"T_9b574688_0fd4_11eb_ab37_982120618180level0_row16\" class=\"row_heading level0 row16\" >16</th>\n                        <td id=\"T_9b574688_0fd4_11eb_ab37_982120618180row16_col0\" class=\"data row16 col0\" >0.39</td>\n                        <td id=\"T_9b574688_0fd4_11eb_ab37_982120618180row16_col1\" class=\"data row16 col1\" >-0.08</td>\n                        <td id=\"T_9b574688_0fd4_11eb_ab37_982120618180row16_col2\" class=\"data row16 col2\" >-0.02</td>\n                        <td id=\"T_9b574688_0fd4_11eb_ab37_982120618180row16_col3\" class=\"data row16 col3\" >0.74</td>\n                        <td id=\"T_9b574688_0fd4_11eb_ab37_982120618180row16_col4\" class=\"data row16 col4\" >0.61</td>\n                        <td id=\"T_9b574688_0fd4_11eb_ab37_982120618180row16_col5\" class=\"data row16 col5\" >-0.07</td>\n                        <td id=\"T_9b574688_0fd4_11eb_ab37_982120618180row16_col6\" class=\"data row16 col6\" >0.37</td>\n                        <td id=\"T_9b574688_0fd4_11eb_ab37_982120618180row16_col7\" class=\"data row16 col7\" >0.91</td>\n                        <td id=\"T_9b574688_0fd4_11eb_ab37_982120618180row16_col8\" class=\"data row16 col8\" >0.39</td>\n                        <td id=\"T_9b574688_0fd4_11eb_ab37_982120618180row16_col9\" class=\"data row16 col9\" >0.93</td>\n                        <td id=\"T_9b574688_0fd4_11eb_ab37_982120618180row16_col10\" class=\"data row16 col10\" >0.96</td>\n                        <td id=\"T_9b574688_0fd4_11eb_ab37_982120618180row16_col11\" class=\"data row16 col11\" >-0.02</td>\n                        <td id=\"T_9b574688_0fd4_11eb_ab37_982120618180row16_col12\" class=\"data row16 col12\" >-0.23</td>\n                        <td id=\"T_9b574688_0fd4_11eb_ab37_982120618180row16_col13\" class=\"data row16 col13\" >0.50</td>\n                        <td id=\"T_9b574688_0fd4_11eb_ab37_982120618180row16_col14\" class=\"data row16 col14\" >0.94</td>\n                        <td id=\"T_9b574688_0fd4_11eb_ab37_982120618180row16_col15\" class=\"data row16 col15\" >0.52</td>\n                        <td id=\"T_9b574688_0fd4_11eb_ab37_982120618180row16_col16\" class=\"data row16 col16\" >1.00</td>\n            </tr>\n    </tbody></table>"
     },
     "metadata": {},
     "execution_count": 6
    }
   ],
   "source": [
    "corr = df.corr(method ='pearson').style.background_gradient(cmap='coolwarm').set_precision(2)\n",
    "corr"
   ]
  },
  {
   "source": [
    "### 2. Análizar dependecia entre una variable y todas las demás. En este caso encontrar las betas de la regresión múltiple de la variable que mejor se puede explicar a partir de las demás.\n",
    "\n"
   ],
   "cell_type": "markdown",
   "metadata": {}
  },
  {
   "cell_type": "code",
   "execution_count": 7,
   "metadata": {},
   "outputs": [],
   "source": [
    "def matriz_P(x):\n",
    "    \"\"\"\n",
    "    La matriz P es cuadrada simétrica e idempotente ()PP = P)\n",
    "    Tiene rango (m-1) es ortogonal al espacio definido por el vector 1 ya que P*1 = 0 y proyecta los\n",
    "    datos ortogonalmente al espacio deÞnido por el vector constante\n",
    "    \"\"\"\n",
    "    xx = np.array(x)\n",
    "    m,n = xx.shape\n",
    "    unos = np.ones([m,1])\n",
    "    Identidad = np.identity(m)\n",
    "    P = Identidad - float(1.0/m) * unos.dot(unos.T)\n",
    "    return P\n",
    "\n",
    "def Matriz_covarianzasCorregida(x):\n",
    "    \"\"\"\n",
    "    matriz de covarianzas a partir de los datos. OBSERVE que se divide por (n-1)\n",
    "    np.cov(Data, rowvar=False) # esta funcion me da la covarianza corregida\n",
    "    \"\"\"\n",
    "    xx = np.array(x)\n",
    "    m,n = xx.shape\n",
    "    P = matriz_P(x)\n",
    "    intermedio =P.dot(xx)\n",
    "    S = float(1.0/(m-1))*(xx.T.dot(intermedio))\n",
    "    return S\n",
    "s_jj__jj = np.diag(Matriz_covarianzasCorregida(df))*np.diag(np.linalg.inv(Matriz_covarianzasCorregida(df))).round(4)"
   ]
  },
  {
   "source": [
    "#### Variable con mayor correlación múltiple"
   ],
   "cell_type": "markdown",
   "metadata": {}
  },
  {
   "cell_type": "code",
   "execution_count": 8,
   "metadata": {},
   "outputs": [
    {
     "output_type": "stream",
     "name": "stdout",
     "text": [
      "La variable que mejor se explica a partir de las demas es la 4\n"
     ]
    }
   ],
   "source": [
    "R2 = 1 - 1/s_jj__jj\n",
    "R2 = list(R2.round(4))\n",
    "print(\"La variable que mejor se explica a partir de las demas es la\", R2.index(max(R2)))"
   ]
  },
  {
   "source": [
    "#### Parámetros de la regresión lineal múltiple de la variable con el resto"
   ],
   "cell_type": "markdown",
   "metadata": {}
  },
  {
   "cell_type": "code",
   "execution_count": 9,
   "metadata": {},
   "outputs": [
    {
     "output_type": "execute_result",
     "data": {
      "text/plain": [
       "array([-3.77894895e-01, -9.05118155e-02, -4.69805924e-01,  1.29356546e-02,\n",
       "        1.35074945e-02, -1.99159248e+00, -1.25645662e-03,  5.42446745e-02,\n",
       "       -2.31968624e-04,  1.19949076e-03, -1.63896511e-02, -4.66975704e-01,\n",
       "       -3.71492772e-02, -1.69051634e-02,  8.03967165e-02,  6.38030201e-04,\n",
       "       -1.84162569e+02])"
      ]
     },
     "metadata": {},
     "execution_count": 9
    }
   ],
   "source": [
    "X = df.drop(columns=[4])\n",
    "X['unos'] = 1\n",
    "Y = df[4]\n",
    "betas = np.linalg.inv(X.T.dot(X)).dot(X.T.dot(Y))\n",
    "betas"
   ]
  },
  {
   "source": [
    "### 3. Analizar la correlacion entre pares de variables pero eliminando el efecto de las demás variables.\n",
    "\n",
    "Se puede apreciar que hay varias correlaciones que se aproximan a 1 y a -1, lo que nos indica que ese par de variables tienen una alta correlacion lineal"
   ],
   "cell_type": "markdown",
   "metadata": {}
  },
  {
   "cell_type": "code",
   "execution_count": 10,
   "metadata": {},
   "outputs": [],
   "source": [
    "def calculate_partial_correlation(input_df):\n",
    "    \"\"\"\n",
    "    Returns the sample linear partial correlation coefficients between pairs of variables,\n",
    "    controlling for all other remaining variables\n",
    "\n",
    "    Parameters\n",
    "    ----------\n",
    "    input_df : array-like, shape (n, p)\n",
    "        Array with the different variables. Each column is taken as a variable.\n",
    "\n",
    "    Returns\n",
    "    -------\n",
    "    P : array-like, shape (p, p)\n",
    "        P[i, j] contains the partial correlation of input_df[:, i] and input_df[:, j]\n",
    "        controlling for all other remaining variables.\n",
    "    \"\"\"\n",
    "    partial_corr_matrix = np.zeros((input_df.shape[1], input_df.shape[1]));\n",
    "    for i, column1 in enumerate(input_df):\n",
    "        for j, column2 in enumerate(input_df):\n",
    "            control_variables = np.delete(np.arange(input_df.shape[1]), [i, j]);\n",
    "            if i==j:\n",
    "                partial_corr_matrix[i, j] = 1;\n",
    "                continue\n",
    "            data_control_variable = input_df.iloc[:, control_variables]\n",
    "            data_column1 = input_df[column1].values\n",
    "            data_column2 = input_df[column2].values\n",
    "            fit1 = linear_model.LinearRegression(fit_intercept=True)\n",
    "            fit2 = linear_model.LinearRegression(fit_intercept=True)\n",
    "            fit1.fit(data_control_variable, data_column1)\n",
    "            fit2.fit(data_control_variable, data_column2)\n",
    "            residual1 = data_column1 - (np.dot(data_control_variable, fit1.coef_) + fit1.intercept_)\n",
    "            residual2 = data_column2 - (np.dot(data_control_variable, fit2.coef_) + fit2.intercept_)\n",
    "            partial_corr_matrix[i,j] = stats.pearsonr(residual1, residual2)[0]\n",
    "    return pd.DataFrame(partial_corr_matrix, columns = input_df.columns, index = input_df.columns)"
   ]
  },
  {
   "cell_type": "code",
   "execution_count": 11,
   "metadata": {},
   "outputs": [
    {
     "output_type": "execute_result",
     "data": {
      "text/plain": [
       "<pandas.io.formats.style.Styler at 0x25832a06a08>"
      ],
      "text/html": "<style  type=\"text/css\" >\n    #T_2787cd1c_0fd5_11eb_a7df_982120618180row0_col0 {\n            background-color:  #b40426;\n            color:  #f1f1f1;\n        }    #T_2787cd1c_0fd5_11eb_a7df_982120618180row0_col1 {\n            background-color:  #3b4cc0;\n            color:  #f1f1f1;\n        }    #T_2787cd1c_0fd5_11eb_a7df_982120618180row0_col2 {\n            background-color:  #455cce;\n            color:  #f1f1f1;\n        }    #T_2787cd1c_0fd5_11eb_a7df_982120618180row0_col3 {\n            background-color:  #3b4cc0;\n            color:  #f1f1f1;\n        }    #T_2787cd1c_0fd5_11eb_a7df_982120618180row0_col4 {\n            background-color:  #a3c2fe;\n            color:  #000000;\n        }    #T_2787cd1c_0fd5_11eb_a7df_982120618180row0_col5 {\n            background-color:  #f4987a;\n            color:  #000000;\n        }    #T_2787cd1c_0fd5_11eb_a7df_982120618180row0_col6 {\n            background-color:  #f7b89c;\n            color:  #000000;\n        }    #T_2787cd1c_0fd5_11eb_a7df_982120618180row0_col7 {\n            background-color:  #93b5fe;\n            color:  #000000;\n        }    #T_2787cd1c_0fd5_11eb_a7df_982120618180row0_col8 {\n            background-color:  #3d50c3;\n            color:  #f1f1f1;\n        }    #T_2787cd1c_0fd5_11eb_a7df_982120618180row0_col9 {\n            background-color:  #7699f6;\n            color:  #000000;\n        }    #T_2787cd1c_0fd5_11eb_a7df_982120618180row0_col10 {\n            background-color:  #dfdbd9;\n            color:  #000000;\n        }    #T_2787cd1c_0fd5_11eb_a7df_982120618180row0_col11 {\n            background-color:  #d65244;\n            color:  #000000;\n        }    #T_2787cd1c_0fd5_11eb_a7df_982120618180row0_col12 {\n            background-color:  #8fb1fe;\n            color:  #000000;\n        }    #T_2787cd1c_0fd5_11eb_a7df_982120618180row0_col13 {\n            background-color:  #f7ad90;\n            color:  #000000;\n        }    #T_2787cd1c_0fd5_11eb_a7df_982120618180row0_col14 {\n            background-color:  #f6bea4;\n            color:  #000000;\n        }    #T_2787cd1c_0fd5_11eb_a7df_982120618180row0_col15 {\n            background-color:  #c5d6f2;\n            color:  #000000;\n        }    #T_2787cd1c_0fd5_11eb_a7df_982120618180row0_col16 {\n            background-color:  #5f7fe8;\n            color:  #000000;\n        }    #T_2787cd1c_0fd5_11eb_a7df_982120618180row1_col0 {\n            background-color:  #8caffe;\n            color:  #000000;\n        }    #T_2787cd1c_0fd5_11eb_a7df_982120618180row1_col1 {\n            background-color:  #b40426;\n            color:  #f1f1f1;\n        }    #T_2787cd1c_0fd5_11eb_a7df_982120618180row1_col2 {\n            background-color:  #9dbdff;\n            color:  #000000;\n        }    #T_2787cd1c_0fd5_11eb_a7df_982120618180row1_col3 {\n            background-color:  #94b6ff;\n            color:  #000000;\n        }    #T_2787cd1c_0fd5_11eb_a7df_982120618180row1_col4 {\n            background-color:  #8db0fe;\n            color:  #000000;\n        }    #T_2787cd1c_0fd5_11eb_a7df_982120618180row1_col5 {\n            background-color:  #e2dad5;\n            color:  #000000;\n        }    #T_2787cd1c_0fd5_11eb_a7df_982120618180row1_col6 {\n            background-color:  #abc8fd;\n            color:  #000000;\n        }    #T_2787cd1c_0fd5_11eb_a7df_982120618180row1_col7 {\n            background-color:  #5572df;\n            color:  #000000;\n        }    #T_2787cd1c_0fd5_11eb_a7df_982120618180row1_col8 {\n            background-color:  #7a9df8;\n            color:  #000000;\n        }    #T_2787cd1c_0fd5_11eb_a7df_982120618180row1_col9 {\n            background-color:  #88abfd;\n            color:  #000000;\n        }    #T_2787cd1c_0fd5_11eb_a7df_982120618180row1_col10 {\n            background-color:  #f3c7b1;\n            color:  #000000;\n        }    #T_2787cd1c_0fd5_11eb_a7df_982120618180row1_col11 {\n            background-color:  #f7a889;\n            color:  #000000;\n        }    #T_2787cd1c_0fd5_11eb_a7df_982120618180row1_col12 {\n            background-color:  #b3cdfb;\n            color:  #000000;\n        }    #T_2787cd1c_0fd5_11eb_a7df_982120618180row1_col13 {\n            background-color:  #f4c5ad;\n            color:  #000000;\n        }    #T_2787cd1c_0fd5_11eb_a7df_982120618180row1_col14 {\n            background-color:  #d1dae9;\n            color:  #000000;\n        }    #T_2787cd1c_0fd5_11eb_a7df_982120618180row1_col15 {\n            background-color:  #bbd1f8;\n            color:  #000000;\n        }    #T_2787cd1c_0fd5_11eb_a7df_982120618180row1_col16 {\n            background-color:  #3b4cc0;\n            color:  #f1f1f1;\n        }    #T_2787cd1c_0fd5_11eb_a7df_982120618180row2_col0 {\n            background-color:  #6282ea;\n            color:  #000000;\n        }    #T_2787cd1c_0fd5_11eb_a7df_982120618180row2_col1 {\n            background-color:  #6a8bef;\n            color:  #000000;\n        }    #T_2787cd1c_0fd5_11eb_a7df_982120618180row2_col2 {\n            background-color:  #b40426;\n            color:  #f1f1f1;\n        }    #T_2787cd1c_0fd5_11eb_a7df_982120618180row2_col3 {\n            background-color:  #5673e0;\n            color:  #000000;\n        }    #T_2787cd1c_0fd5_11eb_a7df_982120618180row2_col4 {\n            background-color:  #5a78e4;\n            color:  #000000;\n        }    #T_2787cd1c_0fd5_11eb_a7df_982120618180row2_col5 {\n            background-color:  #d44e41;\n            color:  #000000;\n        }    #T_2787cd1c_0fd5_11eb_a7df_982120618180row2_col6 {\n            background-color:  #d1dae9;\n            color:  #000000;\n        }    #T_2787cd1c_0fd5_11eb_a7df_982120618180row2_col7 {\n            background-color:  #4c66d6;\n            color:  #000000;\n        }    #T_2787cd1c_0fd5_11eb_a7df_982120618180row2_col8 {\n            background-color:  #6b8df0;\n            color:  #000000;\n        }    #T_2787cd1c_0fd5_11eb_a7df_982120618180row2_col9 {\n            background-color:  #5977e3;\n            color:  #000000;\n        }    #T_2787cd1c_0fd5_11eb_a7df_982120618180row2_col10 {\n            background-color:  #f0cdbb;\n            color:  #000000;\n        }    #T_2787cd1c_0fd5_11eb_a7df_982120618180row2_col11 {\n            background-color:  #f7b599;\n            color:  #000000;\n        }    #T_2787cd1c_0fd5_11eb_a7df_982120618180row2_col12 {\n            background-color:  #5d7ce6;\n            color:  #000000;\n        }    #T_2787cd1c_0fd5_11eb_a7df_982120618180row2_col13 {\n            background-color:  #ecd3c5;\n            color:  #000000;\n        }    #T_2787cd1c_0fd5_11eb_a7df_982120618180row2_col14 {\n            background-color:  #f7a889;\n            color:  #000000;\n        }    #T_2787cd1c_0fd5_11eb_a7df_982120618180row2_col15 {\n            background-color:  #e4d9d2;\n            color:  #000000;\n        }    #T_2787cd1c_0fd5_11eb_a7df_982120618180row2_col16 {\n            background-color:  #7699f6;\n            color:  #000000;\n        }    #T_2787cd1c_0fd5_11eb_a7df_982120618180row3_col0 {\n            background-color:  #3b4cc0;\n            color:  #f1f1f1;\n        }    #T_2787cd1c_0fd5_11eb_a7df_982120618180row3_col1 {\n            background-color:  #445acc;\n            color:  #f1f1f1;\n        }    #T_2787cd1c_0fd5_11eb_a7df_982120618180row3_col2 {\n            background-color:  #3b4cc0;\n            color:  #f1f1f1;\n        }    #T_2787cd1c_0fd5_11eb_a7df_982120618180row3_col3 {\n            background-color:  #b40426;\n            color:  #f1f1f1;\n        }    #T_2787cd1c_0fd5_11eb_a7df_982120618180row3_col4 {\n            background-color:  #cad8ef;\n            color:  #000000;\n        }    #T_2787cd1c_0fd5_11eb_a7df_982120618180row3_col5 {\n            background-color:  #f59c7d;\n            color:  #000000;\n        }    #T_2787cd1c_0fd5_11eb_a7df_982120618180row3_col6 {\n            background-color:  #f5a081;\n            color:  #000000;\n        }    #T_2787cd1c_0fd5_11eb_a7df_982120618180row3_col7 {\n            background-color:  #97b8ff;\n            color:  #000000;\n        }    #T_2787cd1c_0fd5_11eb_a7df_982120618180row3_col8 {\n            background-color:  #3b4cc0;\n            color:  #f1f1f1;\n        }    #T_2787cd1c_0fd5_11eb_a7df_982120618180row3_col9 {\n            background-color:  #4055c8;\n            color:  #f1f1f1;\n        }    #T_2787cd1c_0fd5_11eb_a7df_982120618180row3_col10 {\n            background-color:  #d6dce4;\n            color:  #000000;\n        }    #T_2787cd1c_0fd5_11eb_a7df_982120618180row3_col11 {\n            background-color:  #dd5f4b;\n            color:  #000000;\n        }    #T_2787cd1c_0fd5_11eb_a7df_982120618180row3_col12 {\n            background-color:  #81a4fb;\n            color:  #000000;\n        }    #T_2787cd1c_0fd5_11eb_a7df_982120618180row3_col13 {\n            background-color:  #f4987a;\n            color:  #000000;\n        }    #T_2787cd1c_0fd5_11eb_a7df_982120618180row3_col14 {\n            background-color:  #f4987a;\n            color:  #000000;\n        }    #T_2787cd1c_0fd5_11eb_a7df_982120618180row3_col15 {\n            background-color:  #9fbfff;\n            color:  #000000;\n        }    #T_2787cd1c_0fd5_11eb_a7df_982120618180row3_col16 {\n            background-color:  #5977e3;\n            color:  #000000;\n        }    #T_2787cd1c_0fd5_11eb_a7df_982120618180row4_col0 {\n            background-color:  #cbd8ee;\n            color:  #000000;\n        }    #T_2787cd1c_0fd5_11eb_a7df_982120618180row4_col1 {\n            background-color:  #7597f6;\n            color:  #000000;\n        }    #T_2787cd1c_0fd5_11eb_a7df_982120618180row4_col2 {\n            background-color:  #7699f6;\n            color:  #000000;\n        }    #T_2787cd1c_0fd5_11eb_a7df_982120618180row4_col3 {\n            background-color:  #e5d8d1;\n            color:  #000000;\n        }    #T_2787cd1c_0fd5_11eb_a7df_982120618180row4_col4 {\n            background-color:  #b40426;\n            color:  #f1f1f1;\n        }    #T_2787cd1c_0fd5_11eb_a7df_982120618180row4_col5 {\n            background-color:  #f08b6e;\n            color:  #000000;\n        }    #T_2787cd1c_0fd5_11eb_a7df_982120618180row4_col6 {\n            background-color:  #3b4cc0;\n            color:  #f1f1f1;\n        }    #T_2787cd1c_0fd5_11eb_a7df_982120618180row4_col7 {\n            background-color:  #3b4cc0;\n            color:  #f1f1f1;\n        }    #T_2787cd1c_0fd5_11eb_a7df_982120618180row4_col8 {\n            background-color:  #e1dad6;\n            color:  #000000;\n        }    #T_2787cd1c_0fd5_11eb_a7df_982120618180row4_col9 {\n            background-color:  #9bbcff;\n            color:  #000000;\n        }    #T_2787cd1c_0fd5_11eb_a7df_982120618180row4_col10 {\n            background-color:  #e36c55;\n            color:  #000000;\n        }    #T_2787cd1c_0fd5_11eb_a7df_982120618180row4_col11 {\n            background-color:  #a7c5fe;\n            color:  #000000;\n        }    #T_2787cd1c_0fd5_11eb_a7df_982120618180row4_col12 {\n            background-color:  #3b4cc0;\n            color:  #f1f1f1;\n        }    #T_2787cd1c_0fd5_11eb_a7df_982120618180row4_col13 {\n            background-color:  #7396f5;\n            color:  #000000;\n        }    #T_2787cd1c_0fd5_11eb_a7df_982120618180row4_col14 {\n            background-color:  #7da0f9;\n            color:  #000000;\n        }    #T_2787cd1c_0fd5_11eb_a7df_982120618180row4_col15 {\n            background-color:  #f7ac8e;\n            color:  #000000;\n        }    #T_2787cd1c_0fd5_11eb_a7df_982120618180row4_col16 {\n            background-color:  #d4dbe6;\n            color:  #000000;\n        }    #T_2787cd1c_0fd5_11eb_a7df_982120618180row5_col0 {\n            background-color:  #f08a6c;\n            color:  #000000;\n        }    #T_2787cd1c_0fd5_11eb_a7df_982120618180row5_col1 {\n            background-color:  #d1dae9;\n            color:  #000000;\n        }    #T_2787cd1c_0fd5_11eb_a7df_982120618180row5_col2 {\n            background-color:  #d1493f;\n            color:  #f1f1f1;\n        }    #T_2787cd1c_0fd5_11eb_a7df_982120618180row5_col3 {\n            background-color:  #f08b6e;\n            color:  #000000;\n        }    #T_2787cd1c_0fd5_11eb_a7df_982120618180row5_col4 {\n            background-color:  #f18f71;\n            color:  #000000;\n        }    #T_2787cd1c_0fd5_11eb_a7df_982120618180row5_col5 {\n            background-color:  #b40426;\n            color:  #f1f1f1;\n        }    #T_2787cd1c_0fd5_11eb_a7df_982120618180row5_col6 {\n            background-color:  #b6cefa;\n            color:  #000000;\n        }    #T_2787cd1c_0fd5_11eb_a7df_982120618180row5_col7 {\n            background-color:  #bfd3f6;\n            color:  #000000;\n        }    #T_2787cd1c_0fd5_11eb_a7df_982120618180row5_col8 {\n            background-color:  #f2c9b4;\n            color:  #000000;\n        }    #T_2787cd1c_0fd5_11eb_a7df_982120618180row5_col9 {\n            background-color:  #e9d5cb;\n            color:  #000000;\n        }    #T_2787cd1c_0fd5_11eb_a7df_982120618180row5_col10 {\n            background-color:  #3b4cc0;\n            color:  #f1f1f1;\n        }    #T_2787cd1c_0fd5_11eb_a7df_982120618180row5_col11 {\n            background-color:  #506bda;\n            color:  #000000;\n        }    #T_2787cd1c_0fd5_11eb_a7df_982120618180row5_col12 {\n            background-color:  #f18f71;\n            color:  #000000;\n        }    #T_2787cd1c_0fd5_11eb_a7df_982120618180row5_col13 {\n            background-color:  #aac7fd;\n            color:  #000000;\n        }    #T_2787cd1c_0fd5_11eb_a7df_982120618180row5_col14 {\n            background-color:  #89acfd;\n            color:  #000000;\n        }    #T_2787cd1c_0fd5_11eb_a7df_982120618180row5_col15 {\n            background-color:  #485fd1;\n            color:  #f1f1f1;\n        }    #T_2787cd1c_0fd5_11eb_a7df_982120618180row5_col16 {\n            background-color:  #b3cdfb;\n            color:  #000000;\n        }    #T_2787cd1c_0fd5_11eb_a7df_982120618180row6_col0 {\n            background-color:  #f6a385;\n            color:  #000000;\n        }    #T_2787cd1c_0fd5_11eb_a7df_982120618180row6_col1 {\n            background-color:  #96b7ff;\n            color:  #000000;\n        }    #T_2787cd1c_0fd5_11eb_a7df_982120618180row6_col2 {\n            background-color:  #dedcdb;\n            color:  #000000;\n        }    #T_2787cd1c_0fd5_11eb_a7df_982120618180row6_col3 {\n            background-color:  #f18d6f;\n            color:  #000000;\n        }    #T_2787cd1c_0fd5_11eb_a7df_982120618180row6_col4 {\n            background-color:  #3b4cc0;\n            color:  #f1f1f1;\n        }    #T_2787cd1c_0fd5_11eb_a7df_982120618180row6_col5 {\n            background-color:  #bed2f6;\n            color:  #000000;\n        }    #T_2787cd1c_0fd5_11eb_a7df_982120618180row6_col6 {\n            background-color:  #b40426;\n            color:  #f1f1f1;\n        }    #T_2787cd1c_0fd5_11eb_a7df_982120618180row6_col7 {\n            background-color:  #4c66d6;\n            color:  #000000;\n        }    #T_2787cd1c_0fd5_11eb_a7df_982120618180row6_col8 {\n            background-color:  #f7af91;\n            color:  #000000;\n        }    #T_2787cd1c_0fd5_11eb_a7df_982120618180row6_col9 {\n            background-color:  #b7cff9;\n            color:  #000000;\n        }    #T_2787cd1c_0fd5_11eb_a7df_982120618180row6_col10 {\n            background-color:  #f0cdbb;\n            color:  #000000;\n        }    #T_2787cd1c_0fd5_11eb_a7df_982120618180row6_col11 {\n            background-color:  #3b4cc0;\n            color:  #f1f1f1;\n        }    #T_2787cd1c_0fd5_11eb_a7df_982120618180row6_col12 {\n            background-color:  #779af7;\n            color:  #000000;\n        }    #T_2787cd1c_0fd5_11eb_a7df_982120618180row6_col13 {\n            background-color:  #97b8ff;\n            color:  #000000;\n        }    #T_2787cd1c_0fd5_11eb_a7df_982120618180row6_col14 {\n            background-color:  #84a7fc;\n            color:  #000000;\n        }    #T_2787cd1c_0fd5_11eb_a7df_982120618180row6_col15 {\n            background-color:  #d3dbe7;\n            color:  #000000;\n        }    #T_2787cd1c_0fd5_11eb_a7df_982120618180row6_col16 {\n            background-color:  #92b4fe;\n            color:  #000000;\n        }    #T_2787cd1c_0fd5_11eb_a7df_982120618180row7_col0 {\n            background-color:  #d6dce4;\n            color:  #000000;\n        }    #T_2787cd1c_0fd5_11eb_a7df_982120618180row7_col1 {\n            background-color:  #6485ec;\n            color:  #000000;\n        }    #T_2787cd1c_0fd5_11eb_a7df_982120618180row7_col2 {\n            background-color:  #90b2fe;\n            color:  #000000;\n        }    #T_2787cd1c_0fd5_11eb_a7df_982120618180row7_col3 {\n            background-color:  #d9dce1;\n            color:  #000000;\n        }    #T_2787cd1c_0fd5_11eb_a7df_982120618180row7_col4 {\n            background-color:  #6485ec;\n            color:  #000000;\n        }    #T_2787cd1c_0fd5_11eb_a7df_982120618180row7_col5 {\n            background-color:  #dbdcde;\n            color:  #000000;\n        }    #T_2787cd1c_0fd5_11eb_a7df_982120618180row7_col6 {\n            background-color:  #7699f6;\n            color:  #000000;\n        }    #T_2787cd1c_0fd5_11eb_a7df_982120618180row7_col7 {\n            background-color:  #b40426;\n            color:  #f1f1f1;\n        }    #T_2787cd1c_0fd5_11eb_a7df_982120618180row7_col8 {\n            background-color:  #b6cefa;\n            color:  #000000;\n        }    #T_2787cd1c_0fd5_11eb_a7df_982120618180row7_col9 {\n            background-color:  #eed0c0;\n            color:  #000000;\n        }    #T_2787cd1c_0fd5_11eb_a7df_982120618180row7_col10 {\n            background-color:  #eed0c0;\n            color:  #000000;\n        }    #T_2787cd1c_0fd5_11eb_a7df_982120618180row7_col11 {\n            background-color:  #9fbfff;\n            color:  #000000;\n        }    #T_2787cd1c_0fd5_11eb_a7df_982120618180row7_col12 {\n            background-color:  #9dbdff;\n            color:  #000000;\n        }    #T_2787cd1c_0fd5_11eb_a7df_982120618180row7_col13 {\n            background-color:  #93b5fe;\n            color:  #000000;\n        }    #T_2787cd1c_0fd5_11eb_a7df_982120618180row7_col14 {\n            background-color:  #9ebeff;\n            color:  #000000;\n        }    #T_2787cd1c_0fd5_11eb_a7df_982120618180row7_col15 {\n            background-color:  #f1cdba;\n            color:  #000000;\n        }    #T_2787cd1c_0fd5_11eb_a7df_982120618180row7_col16 {\n            background-color:  #b2ccfb;\n            color:  #000000;\n        }    #T_2787cd1c_0fd5_11eb_a7df_982120618180row8_col0 {\n            background-color:  #5d7ce6;\n            color:  #000000;\n        }    #T_2787cd1c_0fd5_11eb_a7df_982120618180row8_col1 {\n            background-color:  #4961d2;\n            color:  #f1f1f1;\n        }    #T_2787cd1c_0fd5_11eb_a7df_982120618180row8_col2 {\n            background-color:  #6f92f3;\n            color:  #000000;\n        }    #T_2787cd1c_0fd5_11eb_a7df_982120618180row8_col3 {\n            background-color:  #5a78e4;\n            color:  #000000;\n        }    #T_2787cd1c_0fd5_11eb_a7df_982120618180row8_col4 {\n            background-color:  #d6dce4;\n            color:  #000000;\n        }    #T_2787cd1c_0fd5_11eb_a7df_982120618180row8_col5 {\n            background-color:  #f1cdba;\n            color:  #000000;\n        }    #T_2787cd1c_0fd5_11eb_a7df_982120618180row8_col6 {\n            background-color:  #f7b79b;\n            color:  #000000;\n        }    #T_2787cd1c_0fd5_11eb_a7df_982120618180row8_col7 {\n            background-color:  #7ea1fa;\n            color:  #000000;\n        }    #T_2787cd1c_0fd5_11eb_a7df_982120618180row8_col8 {\n            background-color:  #b40426;\n            color:  #f1f1f1;\n        }    #T_2787cd1c_0fd5_11eb_a7df_982120618180row8_col9 {\n            background-color:  #adc9fd;\n            color:  #000000;\n        }    #T_2787cd1c_0fd5_11eb_a7df_982120618180row8_col10 {\n            background-color:  #cad8ef;\n            color:  #000000;\n        }    #T_2787cd1c_0fd5_11eb_a7df_982120618180row8_col11 {\n            background-color:  #eb7d62;\n            color:  #000000;\n        }    #T_2787cd1c_0fd5_11eb_a7df_982120618180row8_col12 {\n            background-color:  #9abbff;\n            color:  #000000;\n        }    #T_2787cd1c_0fd5_11eb_a7df_982120618180row8_col13 {\n            background-color:  #e7d7ce;\n            color:  #000000;\n        }    #T_2787cd1c_0fd5_11eb_a7df_982120618180row8_col14 {\n            background-color:  #ead4c8;\n            color:  #000000;\n        }    #T_2787cd1c_0fd5_11eb_a7df_982120618180row8_col15 {\n            background-color:  #e3d9d3;\n            color:  #000000;\n        }    #T_2787cd1c_0fd5_11eb_a7df_982120618180row8_col16 {\n            background-color:  #455cce;\n            color:  #f1f1f1;\n        }    #T_2787cd1c_0fd5_11eb_a7df_982120618180row9_col0 {\n            background-color:  #b3cdfb;\n            color:  #000000;\n        }    #T_2787cd1c_0fd5_11eb_a7df_982120618180row9_col1 {\n            background-color:  #7da0f9;\n            color:  #000000;\n        }    #T_2787cd1c_0fd5_11eb_a7df_982120618180row9_col2 {\n            background-color:  #82a6fb;\n            color:  #000000;\n        }    #T_2787cd1c_0fd5_11eb_a7df_982120618180row9_col3 {\n            background-color:  #86a9fc;\n            color:  #000000;\n        }    #T_2787cd1c_0fd5_11eb_a7df_982120618180row9_col4 {\n            background-color:  #a7c5fe;\n            color:  #000000;\n        }    #T_2787cd1c_0fd5_11eb_a7df_982120618180row9_col5 {\n            background-color:  #f0cdbb;\n            color:  #000000;\n        }    #T_2787cd1c_0fd5_11eb_a7df_982120618180row9_col6 {\n            background-color:  #c1d4f4;\n            color:  #000000;\n        }    #T_2787cd1c_0fd5_11eb_a7df_982120618180row9_col7 {\n            background-color:  #e5d8d1;\n            color:  #000000;\n        }    #T_2787cd1c_0fd5_11eb_a7df_982120618180row9_col8 {\n            background-color:  #c7d7f0;\n            color:  #000000;\n        }    #T_2787cd1c_0fd5_11eb_a7df_982120618180row9_col9 {\n            background-color:  #b40426;\n            color:  #f1f1f1;\n        }    #T_2787cd1c_0fd5_11eb_a7df_982120618180row9_col10 {\n            background-color:  #e6d7cf;\n            color:  #000000;\n        }    #T_2787cd1c_0fd5_11eb_a7df_982120618180row9_col11 {\n            background-color:  #dddcdc;\n            color:  #000000;\n        }    #T_2787cd1c_0fd5_11eb_a7df_982120618180row9_col12 {\n            background-color:  #688aef;\n            color:  #000000;\n        }    #T_2787cd1c_0fd5_11eb_a7df_982120618180row9_col13 {\n            background-color:  #f7aa8c;\n            color:  #000000;\n        }    #T_2787cd1c_0fd5_11eb_a7df_982120618180row9_col14 {\n            background-color:  #f7b99e;\n            color:  #000000;\n        }    #T_2787cd1c_0fd5_11eb_a7df_982120618180row9_col15 {\n            background-color:  #3b4cc0;\n            color:  #f1f1f1;\n        }    #T_2787cd1c_0fd5_11eb_a7df_982120618180row9_col16 {\n            background-color:  #a3c2fe;\n            color:  #000000;\n        }    #T_2787cd1c_0fd5_11eb_a7df_982120618180row10_col0 {\n            background-color:  #efcfbf;\n            color:  #000000;\n        }    #T_2787cd1c_0fd5_11eb_a7df_982120618180row10_col1 {\n            background-color:  #ebd3c6;\n            color:  #000000;\n        }    #T_2787cd1c_0fd5_11eb_a7df_982120618180row10_col2 {\n            background-color:  #f3c8b2;\n            color:  #000000;\n        }    #T_2787cd1c_0fd5_11eb_a7df_982120618180row10_col3 {\n            background-color:  #e9d5cb;\n            color:  #000000;\n        }    #T_2787cd1c_0fd5_11eb_a7df_982120618180row10_col4 {\n            background-color:  #e57058;\n            color:  #000000;\n        }    #T_2787cd1c_0fd5_11eb_a7df_982120618180row10_col5 {\n            background-color:  #3b4cc0;\n            color:  #f1f1f1;\n        }    #T_2787cd1c_0fd5_11eb_a7df_982120618180row10_col6 {\n            background-color:  #edd1c2;\n            color:  #000000;\n        }    #T_2787cd1c_0fd5_11eb_a7df_982120618180row10_col7 {\n            background-color:  #dbdcde;\n            color:  #000000;\n        }    #T_2787cd1c_0fd5_11eb_a7df_982120618180row10_col8 {\n            background-color:  #d1dae9;\n            color:  #000000;\n        }    #T_2787cd1c_0fd5_11eb_a7df_982120618180row10_col9 {\n            background-color:  #dbdcde;\n            color:  #000000;\n        }    #T_2787cd1c_0fd5_11eb_a7df_982120618180row10_col10 {\n            background-color:  #b40426;\n            color:  #f1f1f1;\n        }    #T_2787cd1c_0fd5_11eb_a7df_982120618180row10_col11 {\n            background-color:  #92b4fe;\n            color:  #000000;\n        }    #T_2787cd1c_0fd5_11eb_a7df_982120618180row10_col12 {\n            background-color:  #ec7f63;\n            color:  #000000;\n        }    #T_2787cd1c_0fd5_11eb_a7df_982120618180row10_col13 {\n            background-color:  #dfdbd9;\n            color:  #000000;\n        }    #T_2787cd1c_0fd5_11eb_a7df_982120618180row10_col14 {\n            background-color:  #f7b89c;\n            color:  #000000;\n        }    #T_2787cd1c_0fd5_11eb_a7df_982120618180row10_col15 {\n            background-color:  #5b7ae5;\n            color:  #000000;\n        }    #T_2787cd1c_0fd5_11eb_a7df_982120618180row10_col16 {\n            background-color:  #94b6ff;\n            color:  #000000;\n        }    #T_2787cd1c_0fd5_11eb_a7df_982120618180row11_col0 {\n            background-color:  #d0473d;\n            color:  #f1f1f1;\n        }    #T_2787cd1c_0fd5_11eb_a7df_982120618180row11_col1 {\n            background-color:  #f7b093;\n            color:  #000000;\n        }    #T_2787cd1c_0fd5_11eb_a7df_982120618180row11_col2 {\n            background-color:  #f7aa8c;\n            color:  #000000;\n        }    #T_2787cd1c_0fd5_11eb_a7df_982120618180row11_col3 {\n            background-color:  #d65244;\n            color:  #000000;\n        }    #T_2787cd1c_0fd5_11eb_a7df_982120618180row11_col4 {\n            background-color:  #aac7fd;\n            color:  #000000;\n        }    #T_2787cd1c_0fd5_11eb_a7df_982120618180row11_col5 {\n            background-color:  #5d7ce6;\n            color:  #000000;\n        }    #T_2787cd1c_0fd5_11eb_a7df_982120618180row11_col6 {\n            background-color:  #3c4ec2;\n            color:  #f1f1f1;\n        }    #T_2787cd1c_0fd5_11eb_a7df_982120618180row11_col7 {\n            background-color:  #7b9ff9;\n            color:  #000000;\n        }    #T_2787cd1c_0fd5_11eb_a7df_982120618180row11_col8 {\n            background-color:  #e8765c;\n            color:  #000000;\n        }    #T_2787cd1c_0fd5_11eb_a7df_982120618180row11_col9 {\n            background-color:  #d7dce3;\n            color:  #000000;\n        }    #T_2787cd1c_0fd5_11eb_a7df_982120618180row11_col10 {\n            background-color:  #9ebeff;\n            color:  #000000;\n        }    #T_2787cd1c_0fd5_11eb_a7df_982120618180row11_col11 {\n            background-color:  #b40426;\n            color:  #f1f1f1;\n        }    #T_2787cd1c_0fd5_11eb_a7df_982120618180row11_col12 {\n            background-color:  #9ebeff;\n            color:  #000000;\n        }    #T_2787cd1c_0fd5_11eb_a7df_982120618180row11_col13 {\n            background-color:  #5b7ae5;\n            color:  #000000;\n        }    #T_2787cd1c_0fd5_11eb_a7df_982120618180row11_col14 {\n            background-color:  #6e90f2;\n            color:  #000000;\n        }    #T_2787cd1c_0fd5_11eb_a7df_982120618180row11_col15 {\n            background-color:  #86a9fc;\n            color:  #000000;\n        }    #T_2787cd1c_0fd5_11eb_a7df_982120618180row11_col16 {\n            background-color:  #d5dbe5;\n            color:  #000000;\n        }    #T_2787cd1c_0fd5_11eb_a7df_982120618180row12_col0 {\n            background-color:  #bfd3f6;\n            color:  #000000;\n        }    #T_2787cd1c_0fd5_11eb_a7df_982120618180row12_col1 {\n            background-color:  #a2c1ff;\n            color:  #000000;\n        }    #T_2787cd1c_0fd5_11eb_a7df_982120618180row12_col2 {\n            background-color:  #7b9ff9;\n            color:  #000000;\n        }    #T_2787cd1c_0fd5_11eb_a7df_982120618180row12_col3 {\n            background-color:  #b3cdfb;\n            color:  #000000;\n        }    #T_2787cd1c_0fd5_11eb_a7df_982120618180row12_col4 {\n            background-color:  #3e51c5;\n            color:  #f1f1f1;\n        }    #T_2787cd1c_0fd5_11eb_a7df_982120618180row12_col5 {\n            background-color:  #f08a6c;\n            color:  #000000;\n        }    #T_2787cd1c_0fd5_11eb_a7df_982120618180row12_col6 {\n            background-color:  #7b9ff9;\n            color:  #000000;\n        }    #T_2787cd1c_0fd5_11eb_a7df_982120618180row12_col7 {\n            background-color:  #7a9df8;\n            color:  #000000;\n        }    #T_2787cd1c_0fd5_11eb_a7df_982120618180row12_col8 {\n            background-color:  #afcafc;\n            color:  #000000;\n        }    #T_2787cd1c_0fd5_11eb_a7df_982120618180row12_col9 {\n            background-color:  #5d7ce6;\n            color:  #000000;\n        }    #T_2787cd1c_0fd5_11eb_a7df_982120618180row12_col10 {\n            background-color:  #ea7b60;\n            color:  #000000;\n        }    #T_2787cd1c_0fd5_11eb_a7df_982120618180row12_col11 {\n            background-color:  #9fbfff;\n            color:  #000000;\n        }    #T_2787cd1c_0fd5_11eb_a7df_982120618180row12_col12 {\n            background-color:  #b40426;\n            color:  #f1f1f1;\n        }    #T_2787cd1c_0fd5_11eb_a7df_982120618180row12_col13 {\n            background-color:  #b6cefa;\n            color:  #000000;\n        }    #T_2787cd1c_0fd5_11eb_a7df_982120618180row12_col14 {\n            background-color:  #a1c0ff;\n            color:  #000000;\n        }    #T_2787cd1c_0fd5_11eb_a7df_982120618180row12_col15 {\n            background-color:  #bad0f8;\n            color:  #000000;\n        }    #T_2787cd1c_0fd5_11eb_a7df_982120618180row12_col16 {\n            background-color:  #89acfd;\n            color:  #000000;\n        }    #T_2787cd1c_0fd5_11eb_a7df_982120618180row13_col0 {\n            background-color:  #f6a283;\n            color:  #000000;\n        }    #T_2787cd1c_0fd5_11eb_a7df_982120618180row13_col1 {\n            background-color:  #ead5c9;\n            color:  #000000;\n        }    #T_2787cd1c_0fd5_11eb_a7df_982120618180row13_col2 {\n            background-color:  #edd2c3;\n            color:  #000000;\n        }    #T_2787cd1c_0fd5_11eb_a7df_982120618180row13_col3 {\n            background-color:  #f18d6f;\n            color:  #000000;\n        }    #T_2787cd1c_0fd5_11eb_a7df_982120618180row13_col4 {\n            background-color:  #5b7ae5;\n            color:  #000000;\n        }    #T_2787cd1c_0fd5_11eb_a7df_982120618180row13_col5 {\n            background-color:  #9fbfff;\n            color:  #000000;\n        }    #T_2787cd1c_0fd5_11eb_a7df_982120618180row13_col6 {\n            background-color:  #81a4fb;\n            color:  #000000;\n        }    #T_2787cd1c_0fd5_11eb_a7df_982120618180row13_col7 {\n            background-color:  #536edd;\n            color:  #000000;\n        }    #T_2787cd1c_0fd5_11eb_a7df_982120618180row13_col8 {\n            background-color:  #e6d7cf;\n            color:  #000000;\n        }    #T_2787cd1c_0fd5_11eb_a7df_982120618180row13_col9 {\n            background-color:  #f7b99e;\n            color:  #000000;\n        }    #T_2787cd1c_0fd5_11eb_a7df_982120618180row13_col10 {\n            background-color:  #d9dce1;\n            color:  #000000;\n        }    #T_2787cd1c_0fd5_11eb_a7df_982120618180row13_col11 {\n            background-color:  #4257c9;\n            color:  #f1f1f1;\n        }    #T_2787cd1c_0fd5_11eb_a7df_982120618180row13_col12 {\n            background-color:  #a1c0ff;\n            color:  #000000;\n        }    #T_2787cd1c_0fd5_11eb_a7df_982120618180row13_col13 {\n            background-color:  #b40426;\n            color:  #f1f1f1;\n        }    #T_2787cd1c_0fd5_11eb_a7df_982120618180row13_col14 {\n            background-color:  #3b4cc0;\n            color:  #f1f1f1;\n        }    #T_2787cd1c_0fd5_11eb_a7df_982120618180row13_col15 {\n            background-color:  #f59d7e;\n            color:  #000000;\n        }    #T_2787cd1c_0fd5_11eb_a7df_982120618180row13_col16 {\n            background-color:  #f5c1a9;\n            color:  #000000;\n        }    #T_2787cd1c_0fd5_11eb_a7df_982120618180row14_col0 {\n            background-color:  #f7b194;\n            color:  #000000;\n        }    #T_2787cd1c_0fd5_11eb_a7df_982120618180row14_col1 {\n            background-color:  #b1cbfc;\n            color:  #000000;\n        }    #T_2787cd1c_0fd5_11eb_a7df_982120618180row14_col2 {\n            background-color:  #f7a688;\n            color:  #000000;\n        }    #T_2787cd1c_0fd5_11eb_a7df_982120618180row14_col3 {\n            background-color:  #f18d6f;\n            color:  #000000;\n        }    #T_2787cd1c_0fd5_11eb_a7df_982120618180row14_col4 {\n            background-color:  #6687ed;\n            color:  #000000;\n        }    #T_2787cd1c_0fd5_11eb_a7df_982120618180row14_col5 {\n            background-color:  #7da0f9;\n            color:  #000000;\n        }    #T_2787cd1c_0fd5_11eb_a7df_982120618180row14_col6 {\n            background-color:  #6c8ff1;\n            color:  #000000;\n        }    #T_2787cd1c_0fd5_11eb_a7df_982120618180row14_col7 {\n            background-color:  #5f7fe8;\n            color:  #000000;\n        }    #T_2787cd1c_0fd5_11eb_a7df_982120618180row14_col8 {\n            background-color:  #ead4c8;\n            color:  #000000;\n        }    #T_2787cd1c_0fd5_11eb_a7df_982120618180row14_col9 {\n            background-color:  #f3c8b2;\n            color:  #000000;\n        }    #T_2787cd1c_0fd5_11eb_a7df_982120618180row14_col10 {\n            background-color:  #f6bda2;\n            color:  #000000;\n        }    #T_2787cd1c_0fd5_11eb_a7df_982120618180row14_col11 {\n            background-color:  #5470de;\n            color:  #000000;\n        }    #T_2787cd1c_0fd5_11eb_a7df_982120618180row14_col12 {\n            background-color:  #88abfd;\n            color:  #000000;\n        }    #T_2787cd1c_0fd5_11eb_a7df_982120618180row14_col13 {\n            background-color:  #3b4cc0;\n            color:  #f1f1f1;\n        }    #T_2787cd1c_0fd5_11eb_a7df_982120618180row14_col14 {\n            background-color:  #b40426;\n            color:  #f1f1f1;\n        }    #T_2787cd1c_0fd5_11eb_a7df_982120618180row14_col15 {\n            background-color:  #d8dce2;\n            color:  #000000;\n        }    #T_2787cd1c_0fd5_11eb_a7df_982120618180row14_col16 {\n            background-color:  #ecd3c5;\n            color:  #000000;\n        }    #T_2787cd1c_0fd5_11eb_a7df_982120618180row15_col0 {\n            background-color:  #e7d7ce;\n            color:  #000000;\n        }    #T_2787cd1c_0fd5_11eb_a7df_982120618180row15_col1 {\n            background-color:  #b3cdfb;\n            color:  #000000;\n        }    #T_2787cd1c_0fd5_11eb_a7df_982120618180row15_col2 {\n            background-color:  #f1ccb8;\n            color:  #000000;\n        }    #T_2787cd1c_0fd5_11eb_a7df_982120618180row15_col3 {\n            background-color:  #cfdaea;\n            color:  #000000;\n        }    #T_2787cd1c_0fd5_11eb_a7df_982120618180row15_col4 {\n            background-color:  #f7a688;\n            color:  #000000;\n        }    #T_2787cd1c_0fd5_11eb_a7df_982120618180row15_col5 {\n            background-color:  #6282ea;\n            color:  #000000;\n        }    #T_2787cd1c_0fd5_11eb_a7df_982120618180row15_col6 {\n            background-color:  #d9dce1;\n            color:  #000000;\n        }    #T_2787cd1c_0fd5_11eb_a7df_982120618180row15_col7 {\n            background-color:  #ead5c9;\n            color:  #000000;\n        }    #T_2787cd1c_0fd5_11eb_a7df_982120618180row15_col8 {\n            background-color:  #efcebd;\n            color:  #000000;\n        }    #T_2787cd1c_0fd5_11eb_a7df_982120618180row15_col9 {\n            background-color:  #3b4cc0;\n            color:  #f1f1f1;\n        }    #T_2787cd1c_0fd5_11eb_a7df_982120618180row15_col10 {\n            background-color:  #7597f6;\n            color:  #000000;\n        }    #T_2787cd1c_0fd5_11eb_a7df_982120618180row15_col11 {\n            background-color:  #93b5fe;\n            color:  #000000;\n        }    #T_2787cd1c_0fd5_11eb_a7df_982120618180row15_col12 {\n            background-color:  #c1d4f4;\n            color:  #000000;\n        }    #T_2787cd1c_0fd5_11eb_a7df_982120618180row15_col13 {\n            background-color:  #f29072;\n            color:  #000000;\n        }    #T_2787cd1c_0fd5_11eb_a7df_982120618180row15_col14 {\n            background-color:  #e8d6cc;\n            color:  #000000;\n        }    #T_2787cd1c_0fd5_11eb_a7df_982120618180row15_col15 {\n            background-color:  #b40426;\n            color:  #f1f1f1;\n        }    #T_2787cd1c_0fd5_11eb_a7df_982120618180row15_col16 {\n            background-color:  #8badfd;\n            color:  #000000;\n        }    #T_2787cd1c_0fd5_11eb_a7df_982120618180row16_col0 {\n            background-color:  #aac7fd;\n            color:  #000000;\n        }    #T_2787cd1c_0fd5_11eb_a7df_982120618180row16_col1 {\n            background-color:  #3b4cc0;\n            color:  #f1f1f1;\n        }    #T_2787cd1c_0fd5_11eb_a7df_982120618180row16_col2 {\n            background-color:  #a6c4fe;\n            color:  #000000;\n        }    #T_2787cd1c_0fd5_11eb_a7df_982120618180row16_col3 {\n            background-color:  #a6c4fe;\n            color:  #000000;\n        }    #T_2787cd1c_0fd5_11eb_a7df_982120618180row16_col4 {\n            background-color:  #dfdbd9;\n            color:  #000000;\n        }    #T_2787cd1c_0fd5_11eb_a7df_982120618180row16_col5 {\n            background-color:  #ccd9ed;\n            color:  #000000;\n        }    #T_2787cd1c_0fd5_11eb_a7df_982120618180row16_col6 {\n            background-color:  #a7c5fe;\n            color:  #000000;\n        }    #T_2787cd1c_0fd5_11eb_a7df_982120618180row16_col7 {\n            background-color:  #a6c4fe;\n            color:  #000000;\n        }    #T_2787cd1c_0fd5_11eb_a7df_982120618180row16_col8 {\n            background-color:  #7699f6;\n            color:  #000000;\n        }    #T_2787cd1c_0fd5_11eb_a7df_982120618180row16_col9 {\n            background-color:  #adc9fd;\n            color:  #000000;\n        }    #T_2787cd1c_0fd5_11eb_a7df_982120618180row16_col10 {\n            background-color:  #b2ccfb;\n            color:  #000000;\n        }    #T_2787cd1c_0fd5_11eb_a7df_982120618180row16_col11 {\n            background-color:  #e0dbd8;\n            color:  #000000;\n        }    #T_2787cd1c_0fd5_11eb_a7df_982120618180row16_col12 {\n            background-color:  #9dbdff;\n            color:  #000000;\n        }    #T_2787cd1c_0fd5_11eb_a7df_982120618180row16_col13 {\n            background-color:  #f7af91;\n            color:  #000000;\n        }    #T_2787cd1c_0fd5_11eb_a7df_982120618180row16_col14 {\n            background-color:  #f5c2aa;\n            color:  #000000;\n        }    #T_2787cd1c_0fd5_11eb_a7df_982120618180row16_col15 {\n            background-color:  #94b6ff;\n            color:  #000000;\n        }    #T_2787cd1c_0fd5_11eb_a7df_982120618180row16_col16 {\n            background-color:  #b40426;\n            color:  #f1f1f1;\n        }</style><table id=\"T_2787cd1c_0fd5_11eb_a7df_982120618180\" ><thead>    <tr>        <th class=\"blank level0\" ></th>        <th class=\"col_heading level0 col0\" >0</th>        <th class=\"col_heading level0 col1\" >1</th>        <th class=\"col_heading level0 col2\" >2</th>        <th class=\"col_heading level0 col3\" >3</th>        <th class=\"col_heading level0 col4\" >4</th>        <th class=\"col_heading level0 col5\" >5</th>        <th class=\"col_heading level0 col6\" >6</th>        <th class=\"col_heading level0 col7\" >7</th>        <th class=\"col_heading level0 col8\" >8</th>        <th class=\"col_heading level0 col9\" >9</th>        <th class=\"col_heading level0 col10\" >10</th>        <th class=\"col_heading level0 col11\" >11</th>        <th class=\"col_heading level0 col12\" >12</th>        <th class=\"col_heading level0 col13\" >13</th>        <th class=\"col_heading level0 col14\" >14</th>        <th class=\"col_heading level0 col15\" >15</th>        <th class=\"col_heading level0 col16\" >16</th>    </tr></thead><tbody>\n                <tr>\n                        <th id=\"T_2787cd1c_0fd5_11eb_a7df_982120618180level0_row0\" class=\"row_heading level0 row0\" >0</th>\n                        <td id=\"T_2787cd1c_0fd5_11eb_a7df_982120618180row0_col0\" class=\"data row0 col0\" >1.00</td>\n                        <td id=\"T_2787cd1c_0fd5_11eb_a7df_982120618180row0_col1\" class=\"data row0 col1\" >-0.41</td>\n                        <td id=\"T_2787cd1c_0fd5_11eb_a7df_982120618180row0_col2\" class=\"data row0 col2\" >-0.64</td>\n                        <td id=\"T_2787cd1c_0fd5_11eb_a7df_982120618180row0_col3\" class=\"data row0 col3\" >-0.87</td>\n                        <td id=\"T_2787cd1c_0fd5_11eb_a7df_982120618180row0_col4\" class=\"data row0 col4\" >-0.06</td>\n                        <td id=\"T_2787cd1c_0fd5_11eb_a7df_982120618180row0_col5\" class=\"data row0 col5\" >0.60</td>\n                        <td id=\"T_2787cd1c_0fd5_11eb_a7df_982120618180row0_col6\" class=\"data row0 col6\" >0.49</td>\n                        <td id=\"T_2787cd1c_0fd5_11eb_a7df_982120618180row0_col7\" class=\"data row0 col7\" >0.02</td>\n                        <td id=\"T_2787cd1c_0fd5_11eb_a7df_982120618180row0_col8\" class=\"data row0 col8\" >-0.66</td>\n                        <td id=\"T_2787cd1c_0fd5_11eb_a7df_982120618180row0_col9\" class=\"data row0 col9\" >-0.20</td>\n                        <td id=\"T_2787cd1c_0fd5_11eb_a7df_982120618180row0_col10\" class=\"data row0 col10\" >0.21</td>\n                        <td id=\"T_2787cd1c_0fd5_11eb_a7df_982120618180row0_col11\" class=\"data row0 col11\" >0.85</td>\n                        <td id=\"T_2787cd1c_0fd5_11eb_a7df_982120618180row0_col12\" class=\"data row0 col12\" >-0.13</td>\n                        <td id=\"T_2787cd1c_0fd5_11eb_a7df_982120618180row0_col13\" class=\"data row0 col13\" >0.49</td>\n                        <td id=\"T_2787cd1c_0fd5_11eb_a7df_982120618180row0_col14\" class=\"data row0 col14\" >0.41</td>\n                        <td id=\"T_2787cd1c_0fd5_11eb_a7df_982120618180row0_col15\" class=\"data row0 col15\" >0.14</td>\n                        <td id=\"T_2787cd1c_0fd5_11eb_a7df_982120618180row0_col16\" class=\"data row0 col16\" >-0.24</td>\n            </tr>\n            <tr>\n                        <th id=\"T_2787cd1c_0fd5_11eb_a7df_982120618180level0_row1\" class=\"row_heading level0 row1\" >1</th>\n                        <td id=\"T_2787cd1c_0fd5_11eb_a7df_982120618180row1_col0\" class=\"data row1 col0\" >-0.41</td>\n                        <td id=\"T_2787cd1c_0fd5_11eb_a7df_982120618180row1_col1\" class=\"data row1 col1\" >1.00</td>\n                        <td id=\"T_2787cd1c_0fd5_11eb_a7df_982120618180row1_col2\" class=\"data row1 col2\" >-0.20</td>\n                        <td id=\"T_2787cd1c_0fd5_11eb_a7df_982120618180row1_col3\" class=\"data row1 col3\" >-0.37</td>\n                        <td id=\"T_2787cd1c_0fd5_11eb_a7df_982120618180row1_col4\" class=\"data row1 col4\" >-0.16</td>\n                        <td id=\"T_2787cd1c_0fd5_11eb_a7df_982120618180row1_col5\" class=\"data row1 col5\" >0.23</td>\n                        <td id=\"T_2787cd1c_0fd5_11eb_a7df_982120618180row1_col6\" class=\"data row1 col6\" >-0.02</td>\n                        <td id=\"T_2787cd1c_0fd5_11eb_a7df_982120618180row1_col7\" class=\"data row1 col7\" >-0.22</td>\n                        <td id=\"T_2787cd1c_0fd5_11eb_a7df_982120618180row1_col8\" class=\"data row1 col8\" >-0.34</td>\n                        <td id=\"T_2787cd1c_0fd5_11eb_a7df_982120618180row1_col9\" class=\"data row1 col9\" >-0.12</td>\n                        <td id=\"T_2787cd1c_0fd5_11eb_a7df_982120618180row1_col10\" class=\"data row1 col10\" >0.38</td>\n                        <td id=\"T_2787cd1c_0fd5_11eb_a7df_982120618180row1_col11\" class=\"data row1 col11\" >0.56</td>\n                        <td id=\"T_2787cd1c_0fd5_11eb_a7df_982120618180row1_col12\" class=\"data row1 col12\" >0.02</td>\n                        <td id=\"T_2787cd1c_0fd5_11eb_a7df_982120618180row1_col13\" class=\"data row1 col13\" >0.37</td>\n                        <td id=\"T_2787cd1c_0fd5_11eb_a7df_982120618180row1_col14\" class=\"data row1 col14\" >0.08</td>\n                        <td id=\"T_2787cd1c_0fd5_11eb_a7df_982120618180row1_col15\" class=\"data row1 col15\" >0.10</td>\n                        <td id=\"T_2787cd1c_0fd5_11eb_a7df_982120618180row1_col16\" class=\"data row1 col16\" >-0.42</td>\n            </tr>\n            <tr>\n                        <th id=\"T_2787cd1c_0fd5_11eb_a7df_982120618180level0_row2\" class=\"row_heading level0 row2\" >2</th>\n                        <td id=\"T_2787cd1c_0fd5_11eb_a7df_982120618180row2_col0\" class=\"data row2 col0\" >-0.64</td>\n                        <td id=\"T_2787cd1c_0fd5_11eb_a7df_982120618180row2_col1\" class=\"data row2 col1\" >-0.20</td>\n                        <td id=\"T_2787cd1c_0fd5_11eb_a7df_982120618180row2_col2\" class=\"data row2 col2\" >1.00</td>\n                        <td id=\"T_2787cd1c_0fd5_11eb_a7df_982120618180row2_col3\" class=\"data row2 col3\" >-0.70</td>\n                        <td id=\"T_2787cd1c_0fd5_11eb_a7df_982120618180row2_col4\" class=\"data row2 col4\" >-0.38</td>\n                        <td id=\"T_2787cd1c_0fd5_11eb_a7df_982120618180row2_col5\" class=\"data row2 col5\" >0.86</td>\n                        <td id=\"T_2787cd1c_0fd5_11eb_a7df_982120618180row2_col6\" class=\"data row2 col6\" >0.16</td>\n                        <td id=\"T_2787cd1c_0fd5_11eb_a7df_982120618180row2_col7\" class=\"data row2 col7\" >-0.26</td>\n                        <td id=\"T_2787cd1c_0fd5_11eb_a7df_982120618180row2_col8\" class=\"data row2 col8\" >-0.42</td>\n                        <td id=\"T_2787cd1c_0fd5_11eb_a7df_982120618180row2_col9\" class=\"data row2 col9\" >-0.33</td>\n                        <td id=\"T_2787cd1c_0fd5_11eb_a7df_982120618180row2_col10\" class=\"data row2 col10\" >0.34</td>\n                        <td id=\"T_2787cd1c_0fd5_11eb_a7df_982120618180row2_col11\" class=\"data row2 col11\" >0.50</td>\n                        <td id=\"T_2787cd1c_0fd5_11eb_a7df_982120618180row2_col12\" class=\"data row2 col12\" >-0.36</td>\n                        <td id=\"T_2787cd1c_0fd5_11eb_a7df_982120618180row2_col13\" class=\"data row2 col13\" >0.27</td>\n                        <td id=\"T_2787cd1c_0fd5_11eb_a7df_982120618180row2_col14\" class=\"data row2 col14\" >0.52</td>\n                        <td id=\"T_2787cd1c_0fd5_11eb_a7df_982120618180row2_col15\" class=\"data row2 col15\" >0.31</td>\n                        <td id=\"T_2787cd1c_0fd5_11eb_a7df_982120618180row2_col16\" class=\"data row2 col16\" >-0.15</td>\n            </tr>\n            <tr>\n                        <th id=\"T_2787cd1c_0fd5_11eb_a7df_982120618180level0_row3\" class=\"row_heading level0 row3\" >3</th>\n                        <td id=\"T_2787cd1c_0fd5_11eb_a7df_982120618180row3_col0\" class=\"data row3 col0\" >-0.87</td>\n                        <td id=\"T_2787cd1c_0fd5_11eb_a7df_982120618180row3_col1\" class=\"data row3 col1\" >-0.37</td>\n                        <td id=\"T_2787cd1c_0fd5_11eb_a7df_982120618180row3_col2\" class=\"data row3 col2\" >-0.70</td>\n                        <td id=\"T_2787cd1c_0fd5_11eb_a7df_982120618180row3_col3\" class=\"data row3 col3\" >1.00</td>\n                        <td id=\"T_2787cd1c_0fd5_11eb_a7df_982120618180row3_col4\" class=\"data row3 col4\" >0.12</td>\n                        <td id=\"T_2787cd1c_0fd5_11eb_a7df_982120618180row3_col5\" class=\"data row3 col5\" >0.59</td>\n                        <td id=\"T_2787cd1c_0fd5_11eb_a7df_982120618180row3_col6\" class=\"data row3 col6\" >0.59</td>\n                        <td id=\"T_2787cd1c_0fd5_11eb_a7df_982120618180row3_col7\" class=\"data row3 col7\" >0.03</td>\n                        <td id=\"T_2787cd1c_0fd5_11eb_a7df_982120618180row3_col8\" class=\"data row3 col8\" >-0.68</td>\n                        <td id=\"T_2787cd1c_0fd5_11eb_a7df_982120618180row3_col9\" class=\"data row3 col9\" >-0.44</td>\n                        <td id=\"T_2787cd1c_0fd5_11eb_a7df_982120618180row3_col10\" class=\"data row3 col10\" >0.16</td>\n                        <td id=\"T_2787cd1c_0fd5_11eb_a7df_982120618180row3_col11\" class=\"data row3 col11\" >0.81</td>\n                        <td id=\"T_2787cd1c_0fd5_11eb_a7df_982120618180row3_col12\" class=\"data row3 col12\" >-0.20</td>\n                        <td id=\"T_2787cd1c_0fd5_11eb_a7df_982120618180row3_col13\" class=\"data row3 col13\" >0.58</td>\n                        <td id=\"T_2787cd1c_0fd5_11eb_a7df_982120618180row3_col14\" class=\"data row3 col14\" >0.59</td>\n                        <td id=\"T_2787cd1c_0fd5_11eb_a7df_982120618180row3_col15\" class=\"data row3 col15\" >-0.03</td>\n                        <td id=\"T_2787cd1c_0fd5_11eb_a7df_982120618180row3_col16\" class=\"data row3 col16\" >-0.27</td>\n            </tr>\n            <tr>\n                        <th id=\"T_2787cd1c_0fd5_11eb_a7df_982120618180level0_row4\" class=\"row_heading level0 row4\" >4</th>\n                        <td id=\"T_2787cd1c_0fd5_11eb_a7df_982120618180row4_col0\" class=\"data row4 col0\" >-0.06</td>\n                        <td id=\"T_2787cd1c_0fd5_11eb_a7df_982120618180row4_col1\" class=\"data row4 col1\" >-0.16</td>\n                        <td id=\"T_2787cd1c_0fd5_11eb_a7df_982120618180row4_col2\" class=\"data row4 col2\" >-0.38</td>\n                        <td id=\"T_2787cd1c_0fd5_11eb_a7df_982120618180row4_col3\" class=\"data row4 col3\" >0.12</td>\n                        <td id=\"T_2787cd1c_0fd5_11eb_a7df_982120618180row4_col4\" class=\"data row4 col4\" >1.00</td>\n                        <td id=\"T_2787cd1c_0fd5_11eb_a7df_982120618180row4_col5\" class=\"data row4 col5\" >0.65</td>\n                        <td id=\"T_2787cd1c_0fd5_11eb_a7df_982120618180row4_col6\" class=\"data row4 col6\" >-0.55</td>\n                        <td id=\"T_2787cd1c_0fd5_11eb_a7df_982120618180row4_col7\" class=\"data row4 col7\" >-0.34</td>\n                        <td id=\"T_2787cd1c_0fd5_11eb_a7df_982120618180row4_col8\" class=\"data row4 col8\" >0.19</td>\n                        <td id=\"T_2787cd1c_0fd5_11eb_a7df_982120618180row4_col9\" class=\"data row4 col9\" >-0.04</td>\n                        <td id=\"T_2787cd1c_0fd5_11eb_a7df_982120618180row4_col10\" class=\"data row4 col10\" >0.76</td>\n                        <td id=\"T_2787cd1c_0fd5_11eb_a7df_982120618180row4_col11\" class=\"data row4 col11\" >-0.03</td>\n                        <td id=\"T_2787cd1c_0fd5_11eb_a7df_982120618180row4_col12\" class=\"data row4 col12\" >-0.53</td>\n                        <td id=\"T_2787cd1c_0fd5_11eb_a7df_982120618180row4_col13\" class=\"data row4 col13\" >-0.38</td>\n                        <td id=\"T_2787cd1c_0fd5_11eb_a7df_982120618180row4_col14\" class=\"data row4 col14\" >-0.33</td>\n                        <td id=\"T_2787cd1c_0fd5_11eb_a7df_982120618180row4_col15\" class=\"data row4 col15\" >0.56</td>\n                        <td id=\"T_2787cd1c_0fd5_11eb_a7df_982120618180row4_col16\" class=\"data row4 col16\" >0.24</td>\n            </tr>\n            <tr>\n                        <th id=\"T_2787cd1c_0fd5_11eb_a7df_982120618180level0_row5\" class=\"row_heading level0 row5\" >5</th>\n                        <td id=\"T_2787cd1c_0fd5_11eb_a7df_982120618180row5_col0\" class=\"data row5 col0\" >0.60</td>\n                        <td id=\"T_2787cd1c_0fd5_11eb_a7df_982120618180row5_col1\" class=\"data row5 col1\" >0.23</td>\n                        <td id=\"T_2787cd1c_0fd5_11eb_a7df_982120618180row5_col2\" class=\"data row5 col2\" >0.86</td>\n                        <td id=\"T_2787cd1c_0fd5_11eb_a7df_982120618180row5_col3\" class=\"data row5 col3\" >0.59</td>\n                        <td id=\"T_2787cd1c_0fd5_11eb_a7df_982120618180row5_col4\" class=\"data row5 col4\" >0.65</td>\n                        <td id=\"T_2787cd1c_0fd5_11eb_a7df_982120618180row5_col5\" class=\"data row5 col5\" >1.00</td>\n                        <td id=\"T_2787cd1c_0fd5_11eb_a7df_982120618180row5_col6\" class=\"data row5 col6\" >0.03</td>\n                        <td id=\"T_2787cd1c_0fd5_11eb_a7df_982120618180row5_col7\" class=\"data row5 col7\" >0.19</td>\n                        <td id=\"T_2787cd1c_0fd5_11eb_a7df_982120618180row5_col8\" class=\"data row5 col8\" >0.34</td>\n                        <td id=\"T_2787cd1c_0fd5_11eb_a7df_982120618180row5_col9\" class=\"data row5 col9\" >0.34</td>\n                        <td id=\"T_2787cd1c_0fd5_11eb_a7df_982120618180row5_col10\" class=\"data row5 col10\" >-0.61</td>\n                        <td id=\"T_2787cd1c_0fd5_11eb_a7df_982120618180row5_col11\" class=\"data row5 col11\" >-0.43</td>\n                        <td id=\"T_2787cd1c_0fd5_11eb_a7df_982120618180row5_col12\" class=\"data row5 col12\" >0.66</td>\n                        <td id=\"T_2787cd1c_0fd5_11eb_a7df_982120618180row5_col13\" class=\"data row5 col13\" >-0.12</td>\n                        <td id=\"T_2787cd1c_0fd5_11eb_a7df_982120618180row5_col14\" class=\"data row5 col14\" >-0.28</td>\n                        <td id=\"T_2787cd1c_0fd5_11eb_a7df_982120618180row5_col15\" class=\"data row5 col15\" >-0.40</td>\n                        <td id=\"T_2787cd1c_0fd5_11eb_a7df_982120618180row5_col16\" class=\"data row5 col16\" >0.10</td>\n            </tr>\n            <tr>\n                        <th id=\"T_2787cd1c_0fd5_11eb_a7df_982120618180level0_row6\" class=\"row_heading level0 row6\" >6</th>\n                        <td id=\"T_2787cd1c_0fd5_11eb_a7df_982120618180row6_col0\" class=\"data row6 col0\" >0.49</td>\n                        <td id=\"T_2787cd1c_0fd5_11eb_a7df_982120618180row6_col1\" class=\"data row6 col1\" >-0.02</td>\n                        <td id=\"T_2787cd1c_0fd5_11eb_a7df_982120618180row6_col2\" class=\"data row6 col2\" >0.16</td>\n                        <td id=\"T_2787cd1c_0fd5_11eb_a7df_982120618180row6_col3\" class=\"data row6 col3\" >0.59</td>\n                        <td id=\"T_2787cd1c_0fd5_11eb_a7df_982120618180row6_col4\" class=\"data row6 col4\" >-0.55</td>\n                        <td id=\"T_2787cd1c_0fd5_11eb_a7df_982120618180row6_col5\" class=\"data row6 col5\" >0.03</td>\n                        <td id=\"T_2787cd1c_0fd5_11eb_a7df_982120618180row6_col6\" class=\"data row6 col6\" >1.00</td>\n                        <td id=\"T_2787cd1c_0fd5_11eb_a7df_982120618180row6_col7\" class=\"data row6 col7\" >-0.26</td>\n                        <td id=\"T_2787cd1c_0fd5_11eb_a7df_982120618180row6_col8\" class=\"data row6 col8\" >0.49</td>\n                        <td id=\"T_2787cd1c_0fd5_11eb_a7df_982120618180row6_col9\" class=\"data row6 col9\" >0.08</td>\n                        <td id=\"T_2787cd1c_0fd5_11eb_a7df_982120618180row6_col10\" class=\"data row6 col10\" >0.34</td>\n                        <td id=\"T_2787cd1c_0fd5_11eb_a7df_982120618180row6_col11\" class=\"data row6 col11\" >-0.54</td>\n                        <td id=\"T_2787cd1c_0fd5_11eb_a7df_982120618180row6_col12\" class=\"data row6 col12\" >-0.24</td>\n                        <td id=\"T_2787cd1c_0fd5_11eb_a7df_982120618180row6_col13\" class=\"data row6 col13\" >-0.21</td>\n                        <td id=\"T_2787cd1c_0fd5_11eb_a7df_982120618180row6_col14\" class=\"data row6 col14\" >-0.30</td>\n                        <td id=\"T_2787cd1c_0fd5_11eb_a7df_982120618180row6_col15\" class=\"data row6 col15\" >0.21</td>\n                        <td id=\"T_2787cd1c_0fd5_11eb_a7df_982120618180row6_col16\" class=\"data row6 col16\" >-0.04</td>\n            </tr>\n            <tr>\n                        <th id=\"T_2787cd1c_0fd5_11eb_a7df_982120618180level0_row7\" class=\"row_heading level0 row7\" >7</th>\n                        <td id=\"T_2787cd1c_0fd5_11eb_a7df_982120618180row7_col0\" class=\"data row7 col0\" >0.02</td>\n                        <td id=\"T_2787cd1c_0fd5_11eb_a7df_982120618180row7_col1\" class=\"data row7 col1\" >-0.22</td>\n                        <td id=\"T_2787cd1c_0fd5_11eb_a7df_982120618180row7_col2\" class=\"data row7 col2\" >-0.26</td>\n                        <td id=\"T_2787cd1c_0fd5_11eb_a7df_982120618180row7_col3\" class=\"data row7 col3\" >0.03</td>\n                        <td id=\"T_2787cd1c_0fd5_11eb_a7df_982120618180row7_col4\" class=\"data row7 col4\" >-0.34</td>\n                        <td id=\"T_2787cd1c_0fd5_11eb_a7df_982120618180row7_col5\" class=\"data row7 col5\" >0.19</td>\n                        <td id=\"T_2787cd1c_0fd5_11eb_a7df_982120618180row7_col6\" class=\"data row7 col6\" >-0.26</td>\n                        <td id=\"T_2787cd1c_0fd5_11eb_a7df_982120618180row7_col7\" class=\"data row7 col7\" >1.00</td>\n                        <td id=\"T_2787cd1c_0fd5_11eb_a7df_982120618180row7_col8\" class=\"data row7 col8\" >-0.06</td>\n                        <td id=\"T_2787cd1c_0fd5_11eb_a7df_982120618180row7_col9\" class=\"data row7 col9\" >0.37</td>\n                        <td id=\"T_2787cd1c_0fd5_11eb_a7df_982120618180row7_col10\" class=\"data row7 col10\" >0.32</td>\n                        <td id=\"T_2787cd1c_0fd5_11eb_a7df_982120618180row7_col11\" class=\"data row7 col11\" >-0.07</td>\n                        <td id=\"T_2787cd1c_0fd5_11eb_a7df_982120618180row7_col12\" class=\"data row7 col12\" >-0.07</td>\n                        <td id=\"T_2787cd1c_0fd5_11eb_a7df_982120618180row7_col13\" class=\"data row7 col13\" >-0.23</td>\n                        <td id=\"T_2787cd1c_0fd5_11eb_a7df_982120618180row7_col14\" class=\"data row7 col14\" >-0.18</td>\n                        <td id=\"T_2787cd1c_0fd5_11eb_a7df_982120618180row7_col15\" class=\"data row7 col15\" >0.40</td>\n                        <td id=\"T_2787cd1c_0fd5_11eb_a7df_982120618180row7_col16\" class=\"data row7 col16\" >0.09</td>\n            </tr>\n            <tr>\n                        <th id=\"T_2787cd1c_0fd5_11eb_a7df_982120618180level0_row8\" class=\"row_heading level0 row8\" >8</th>\n                        <td id=\"T_2787cd1c_0fd5_11eb_a7df_982120618180row8_col0\" class=\"data row8 col0\" >-0.66</td>\n                        <td id=\"T_2787cd1c_0fd5_11eb_a7df_982120618180row8_col1\" class=\"data row8 col1\" >-0.34</td>\n                        <td id=\"T_2787cd1c_0fd5_11eb_a7df_982120618180row8_col2\" class=\"data row8 col2\" >-0.42</td>\n                        <td id=\"T_2787cd1c_0fd5_11eb_a7df_982120618180row8_col3\" class=\"data row8 col3\" >-0.68</td>\n                        <td id=\"T_2787cd1c_0fd5_11eb_a7df_982120618180row8_col4\" class=\"data row8 col4\" >0.19</td>\n                        <td id=\"T_2787cd1c_0fd5_11eb_a7df_982120618180row8_col5\" class=\"data row8 col5\" >0.34</td>\n                        <td id=\"T_2787cd1c_0fd5_11eb_a7df_982120618180row8_col6\" class=\"data row8 col6\" >0.49</td>\n                        <td id=\"T_2787cd1c_0fd5_11eb_a7df_982120618180row8_col7\" class=\"data row8 col7\" >-0.06</td>\n                        <td id=\"T_2787cd1c_0fd5_11eb_a7df_982120618180row8_col8\" class=\"data row8 col8\" >1.00</td>\n                        <td id=\"T_2787cd1c_0fd5_11eb_a7df_982120618180row8_col9\" class=\"data row8 col9\" >0.03</td>\n                        <td id=\"T_2787cd1c_0fd5_11eb_a7df_982120618180row8_col10\" class=\"data row8 col10\" >0.09</td>\n                        <td id=\"T_2787cd1c_0fd5_11eb_a7df_982120618180row8_col11\" class=\"data row8 col11\" >0.71</td>\n                        <td id=\"T_2787cd1c_0fd5_11eb_a7df_982120618180row8_col12\" class=\"data row8 col12\" >-0.09</td>\n                        <td id=\"T_2787cd1c_0fd5_11eb_a7df_982120618180row8_col13\" class=\"data row8 col13\" >0.23</td>\n                        <td id=\"T_2787cd1c_0fd5_11eb_a7df_982120618180row8_col14\" class=\"data row8 col14\" >0.26</td>\n                        <td id=\"T_2787cd1c_0fd5_11eb_a7df_982120618180row8_col15\" class=\"data row8 col15\" >0.30</td>\n                        <td id=\"T_2787cd1c_0fd5_11eb_a7df_982120618180row8_col16\" class=\"data row8 col16\" >-0.36</td>\n            </tr>\n            <tr>\n                        <th id=\"T_2787cd1c_0fd5_11eb_a7df_982120618180level0_row9\" class=\"row_heading level0 row9\" >9</th>\n                        <td id=\"T_2787cd1c_0fd5_11eb_a7df_982120618180row9_col0\" class=\"data row9 col0\" >-0.20</td>\n                        <td id=\"T_2787cd1c_0fd5_11eb_a7df_982120618180row9_col1\" class=\"data row9 col1\" >-0.12</td>\n                        <td id=\"T_2787cd1c_0fd5_11eb_a7df_982120618180row9_col2\" class=\"data row9 col2\" >-0.33</td>\n                        <td id=\"T_2787cd1c_0fd5_11eb_a7df_982120618180row9_col3\" class=\"data row9 col3\" >-0.44</td>\n                        <td id=\"T_2787cd1c_0fd5_11eb_a7df_982120618180row9_col4\" class=\"data row9 col4\" >-0.04</td>\n                        <td id=\"T_2787cd1c_0fd5_11eb_a7df_982120618180row9_col5\" class=\"data row9 col5\" >0.34</td>\n                        <td id=\"T_2787cd1c_0fd5_11eb_a7df_982120618180row9_col6\" class=\"data row9 col6\" >0.08</td>\n                        <td id=\"T_2787cd1c_0fd5_11eb_a7df_982120618180row9_col7\" class=\"data row9 col7\" >0.37</td>\n                        <td id=\"T_2787cd1c_0fd5_11eb_a7df_982120618180row9_col8\" class=\"data row9 col8\" >0.03</td>\n                        <td id=\"T_2787cd1c_0fd5_11eb_a7df_982120618180row9_col9\" class=\"data row9 col9\" >1.00</td>\n                        <td id=\"T_2787cd1c_0fd5_11eb_a7df_982120618180row9_col10\" class=\"data row9 col10\" >0.26</td>\n                        <td id=\"T_2787cd1c_0fd5_11eb_a7df_982120618180row9_col11\" class=\"data row9 col11\" >0.23</td>\n                        <td id=\"T_2787cd1c_0fd5_11eb_a7df_982120618180row9_col12\" class=\"data row9 col12\" >-0.30</td>\n                        <td id=\"T_2787cd1c_0fd5_11eb_a7df_982120618180row9_col13\" class=\"data row9 col13\" >0.50</td>\n                        <td id=\"T_2787cd1c_0fd5_11eb_a7df_982120618180row9_col14\" class=\"data row9 col14\" >0.43</td>\n                        <td id=\"T_2787cd1c_0fd5_11eb_a7df_982120618180row9_col15\" class=\"data row9 col15\" >-0.47</td>\n                        <td id=\"T_2787cd1c_0fd5_11eb_a7df_982120618180row9_col16\" class=\"data row9 col16\" >0.03</td>\n            </tr>\n            <tr>\n                        <th id=\"T_2787cd1c_0fd5_11eb_a7df_982120618180level0_row10\" class=\"row_heading level0 row10\" >10</th>\n                        <td id=\"T_2787cd1c_0fd5_11eb_a7df_982120618180row10_col0\" class=\"data row10 col0\" >0.21</td>\n                        <td id=\"T_2787cd1c_0fd5_11eb_a7df_982120618180row10_col1\" class=\"data row10 col1\" >0.38</td>\n                        <td id=\"T_2787cd1c_0fd5_11eb_a7df_982120618180row10_col2\" class=\"data row10 col2\" >0.34</td>\n                        <td id=\"T_2787cd1c_0fd5_11eb_a7df_982120618180row10_col3\" class=\"data row10 col3\" >0.16</td>\n                        <td id=\"T_2787cd1c_0fd5_11eb_a7df_982120618180row10_col4\" class=\"data row10 col4\" >0.76</td>\n                        <td id=\"T_2787cd1c_0fd5_11eb_a7df_982120618180row10_col5\" class=\"data row10 col5\" >-0.61</td>\n                        <td id=\"T_2787cd1c_0fd5_11eb_a7df_982120618180row10_col6\" class=\"data row10 col6\" >0.34</td>\n                        <td id=\"T_2787cd1c_0fd5_11eb_a7df_982120618180row10_col7\" class=\"data row10 col7\" >0.32</td>\n                        <td id=\"T_2787cd1c_0fd5_11eb_a7df_982120618180row10_col8\" class=\"data row10 col8\" >0.09</td>\n                        <td id=\"T_2787cd1c_0fd5_11eb_a7df_982120618180row10_col9\" class=\"data row10 col9\" >0.26</td>\n                        <td id=\"T_2787cd1c_0fd5_11eb_a7df_982120618180row10_col10\" class=\"data row10 col10\" >1.00</td>\n                        <td id=\"T_2787cd1c_0fd5_11eb_a7df_982120618180row10_col11\" class=\"data row10 col11\" >-0.13</td>\n                        <td id=\"T_2787cd1c_0fd5_11eb_a7df_982120618180row10_col12\" class=\"data row10 col12\" >0.71</td>\n                        <td id=\"T_2787cd1c_0fd5_11eb_a7df_982120618180row10_col13\" class=\"data row10 col13\" >0.17</td>\n                        <td id=\"T_2787cd1c_0fd5_11eb_a7df_982120618180row10_col14\" class=\"data row10 col14\" >0.44</td>\n                        <td id=\"T_2787cd1c_0fd5_11eb_a7df_982120618180row10_col15\" class=\"data row10 col15\" >-0.31</td>\n                        <td id=\"T_2787cd1c_0fd5_11eb_a7df_982120618180row10_col16\" class=\"data row10 col16\" >-0.03</td>\n            </tr>\n            <tr>\n                        <th id=\"T_2787cd1c_0fd5_11eb_a7df_982120618180level0_row11\" class=\"row_heading level0 row11\" >11</th>\n                        <td id=\"T_2787cd1c_0fd5_11eb_a7df_982120618180row11_col0\" class=\"data row11 col0\" >0.85</td>\n                        <td id=\"T_2787cd1c_0fd5_11eb_a7df_982120618180row11_col1\" class=\"data row11 col1\" >0.56</td>\n                        <td id=\"T_2787cd1c_0fd5_11eb_a7df_982120618180row11_col2\" class=\"data row11 col2\" >0.50</td>\n                        <td id=\"T_2787cd1c_0fd5_11eb_a7df_982120618180row11_col3\" class=\"data row11 col3\" >0.81</td>\n                        <td id=\"T_2787cd1c_0fd5_11eb_a7df_982120618180row11_col4\" class=\"data row11 col4\" >-0.03</td>\n                        <td id=\"T_2787cd1c_0fd5_11eb_a7df_982120618180row11_col5\" class=\"data row11 col5\" >-0.43</td>\n                        <td id=\"T_2787cd1c_0fd5_11eb_a7df_982120618180row11_col6\" class=\"data row11 col6\" >-0.54</td>\n                        <td id=\"T_2787cd1c_0fd5_11eb_a7df_982120618180row11_col7\" class=\"data row11 col7\" >-0.07</td>\n                        <td id=\"T_2787cd1c_0fd5_11eb_a7df_982120618180row11_col8\" class=\"data row11 col8\" >0.71</td>\n                        <td id=\"T_2787cd1c_0fd5_11eb_a7df_982120618180row11_col9\" class=\"data row11 col9\" >0.23</td>\n                        <td id=\"T_2787cd1c_0fd5_11eb_a7df_982120618180row11_col10\" class=\"data row11 col10\" >-0.13</td>\n                        <td id=\"T_2787cd1c_0fd5_11eb_a7df_982120618180row11_col11\" class=\"data row11 col11\" >1.00</td>\n                        <td id=\"T_2787cd1c_0fd5_11eb_a7df_982120618180row11_col12\" class=\"data row11 col12\" >-0.07</td>\n                        <td id=\"T_2787cd1c_0fd5_11eb_a7df_982120618180row11_col13\" class=\"data row11 col13\" >-0.50</td>\n                        <td id=\"T_2787cd1c_0fd5_11eb_a7df_982120618180row11_col14\" class=\"data row11 col14\" >-0.41</td>\n                        <td id=\"T_2787cd1c_0fd5_11eb_a7df_982120618180row11_col15\" class=\"data row11 col15\" >-0.13</td>\n                        <td id=\"T_2787cd1c_0fd5_11eb_a7df_982120618180row11_col16\" class=\"data row11 col16\" >0.25</td>\n            </tr>\n            <tr>\n                        <th id=\"T_2787cd1c_0fd5_11eb_a7df_982120618180level0_row12\" class=\"row_heading level0 row12\" >12</th>\n                        <td id=\"T_2787cd1c_0fd5_11eb_a7df_982120618180row12_col0\" class=\"data row12 col0\" >-0.13</td>\n                        <td id=\"T_2787cd1c_0fd5_11eb_a7df_982120618180row12_col1\" class=\"data row12 col1\" >0.02</td>\n                        <td id=\"T_2787cd1c_0fd5_11eb_a7df_982120618180row12_col2\" class=\"data row12 col2\" >-0.36</td>\n                        <td id=\"T_2787cd1c_0fd5_11eb_a7df_982120618180row12_col3\" class=\"data row12 col3\" >-0.20</td>\n                        <td id=\"T_2787cd1c_0fd5_11eb_a7df_982120618180row12_col4\" class=\"data row12 col4\" >-0.53</td>\n                        <td id=\"T_2787cd1c_0fd5_11eb_a7df_982120618180row12_col5\" class=\"data row12 col5\" >0.66</td>\n                        <td id=\"T_2787cd1c_0fd5_11eb_a7df_982120618180row12_col6\" class=\"data row12 col6\" >-0.24</td>\n                        <td id=\"T_2787cd1c_0fd5_11eb_a7df_982120618180row12_col7\" class=\"data row12 col7\" >-0.07</td>\n                        <td id=\"T_2787cd1c_0fd5_11eb_a7df_982120618180row12_col8\" class=\"data row12 col8\" >-0.09</td>\n                        <td id=\"T_2787cd1c_0fd5_11eb_a7df_982120618180row12_col9\" class=\"data row12 col9\" >-0.30</td>\n                        <td id=\"T_2787cd1c_0fd5_11eb_a7df_982120618180row12_col10\" class=\"data row12 col10\" >0.71</td>\n                        <td id=\"T_2787cd1c_0fd5_11eb_a7df_982120618180row12_col11\" class=\"data row12 col11\" >-0.07</td>\n                        <td id=\"T_2787cd1c_0fd5_11eb_a7df_982120618180row12_col12\" class=\"data row12 col12\" >1.00</td>\n                        <td id=\"T_2787cd1c_0fd5_11eb_a7df_982120618180row12_col13\" class=\"data row12 col13\" >-0.06</td>\n                        <td id=\"T_2787cd1c_0fd5_11eb_a7df_982120618180row12_col14\" class=\"data row12 col14\" >-0.17</td>\n                        <td id=\"T_2787cd1c_0fd5_11eb_a7df_982120618180row12_col15\" class=\"data row12 col15\" >0.09</td>\n                        <td id=\"T_2787cd1c_0fd5_11eb_a7df_982120618180row12_col16\" class=\"data row12 col16\" >-0.07</td>\n            </tr>\n            <tr>\n                        <th id=\"T_2787cd1c_0fd5_11eb_a7df_982120618180level0_row13\" class=\"row_heading level0 row13\" >13</th>\n                        <td id=\"T_2787cd1c_0fd5_11eb_a7df_982120618180row13_col0\" class=\"data row13 col0\" >0.49</td>\n                        <td id=\"T_2787cd1c_0fd5_11eb_a7df_982120618180row13_col1\" class=\"data row13 col1\" >0.37</td>\n                        <td id=\"T_2787cd1c_0fd5_11eb_a7df_982120618180row13_col2\" class=\"data row13 col2\" >0.27</td>\n                        <td id=\"T_2787cd1c_0fd5_11eb_a7df_982120618180row13_col3\" class=\"data row13 col3\" >0.58</td>\n                        <td id=\"T_2787cd1c_0fd5_11eb_a7df_982120618180row13_col4\" class=\"data row13 col4\" >-0.38</td>\n                        <td id=\"T_2787cd1c_0fd5_11eb_a7df_982120618180row13_col5\" class=\"data row13 col5\" >-0.12</td>\n                        <td id=\"T_2787cd1c_0fd5_11eb_a7df_982120618180row13_col6\" class=\"data row13 col6\" >-0.21</td>\n                        <td id=\"T_2787cd1c_0fd5_11eb_a7df_982120618180row13_col7\" class=\"data row13 col7\" >-0.23</td>\n                        <td id=\"T_2787cd1c_0fd5_11eb_a7df_982120618180row13_col8\" class=\"data row13 col8\" >0.23</td>\n                        <td id=\"T_2787cd1c_0fd5_11eb_a7df_982120618180row13_col9\" class=\"data row13 col9\" >0.50</td>\n                        <td id=\"T_2787cd1c_0fd5_11eb_a7df_982120618180row13_col10\" class=\"data row13 col10\" >0.17</td>\n                        <td id=\"T_2787cd1c_0fd5_11eb_a7df_982120618180row13_col11\" class=\"data row13 col11\" >-0.50</td>\n                        <td id=\"T_2787cd1c_0fd5_11eb_a7df_982120618180row13_col12\" class=\"data row13 col12\" >-0.06</td>\n                        <td id=\"T_2787cd1c_0fd5_11eb_a7df_982120618180row13_col13\" class=\"data row13 col13\" >1.00</td>\n                        <td id=\"T_2787cd1c_0fd5_11eb_a7df_982120618180row13_col14\" class=\"data row13 col14\" >-0.68</td>\n                        <td id=\"T_2787cd1c_0fd5_11eb_a7df_982120618180row13_col15\" class=\"data row13 col15\" >0.62</td>\n                        <td id=\"T_2787cd1c_0fd5_11eb_a7df_982120618180row13_col16\" class=\"data row13 col16\" >0.49</td>\n            </tr>\n            <tr>\n                        <th id=\"T_2787cd1c_0fd5_11eb_a7df_982120618180level0_row14\" class=\"row_heading level0 row14\" >14</th>\n                        <td id=\"T_2787cd1c_0fd5_11eb_a7df_982120618180row14_col0\" class=\"data row14 col0\" >0.41</td>\n                        <td id=\"T_2787cd1c_0fd5_11eb_a7df_982120618180row14_col1\" class=\"data row14 col1\" >0.08</td>\n                        <td id=\"T_2787cd1c_0fd5_11eb_a7df_982120618180row14_col2\" class=\"data row14 col2\" >0.52</td>\n                        <td id=\"T_2787cd1c_0fd5_11eb_a7df_982120618180row14_col3\" class=\"data row14 col3\" >0.59</td>\n                        <td id=\"T_2787cd1c_0fd5_11eb_a7df_982120618180row14_col4\" class=\"data row14 col4\" >-0.33</td>\n                        <td id=\"T_2787cd1c_0fd5_11eb_a7df_982120618180row14_col5\" class=\"data row14 col5\" >-0.28</td>\n                        <td id=\"T_2787cd1c_0fd5_11eb_a7df_982120618180row14_col6\" class=\"data row14 col6\" >-0.30</td>\n                        <td id=\"T_2787cd1c_0fd5_11eb_a7df_982120618180row14_col7\" class=\"data row14 col7\" >-0.18</td>\n                        <td id=\"T_2787cd1c_0fd5_11eb_a7df_982120618180row14_col8\" class=\"data row14 col8\" >0.26</td>\n                        <td id=\"T_2787cd1c_0fd5_11eb_a7df_982120618180row14_col9\" class=\"data row14 col9\" >0.43</td>\n                        <td id=\"T_2787cd1c_0fd5_11eb_a7df_982120618180row14_col10\" class=\"data row14 col10\" >0.44</td>\n                        <td id=\"T_2787cd1c_0fd5_11eb_a7df_982120618180row14_col11\" class=\"data row14 col11\" >-0.41</td>\n                        <td id=\"T_2787cd1c_0fd5_11eb_a7df_982120618180row14_col12\" class=\"data row14 col12\" >-0.17</td>\n                        <td id=\"T_2787cd1c_0fd5_11eb_a7df_982120618180row14_col13\" class=\"data row14 col13\" >-0.68</td>\n                        <td id=\"T_2787cd1c_0fd5_11eb_a7df_982120618180row14_col14\" class=\"data row14 col14\" >1.00</td>\n                        <td id=\"T_2787cd1c_0fd5_11eb_a7df_982120618180row14_col15\" class=\"data row14 col15\" >0.24</td>\n                        <td id=\"T_2787cd1c_0fd5_11eb_a7df_982120618180row14_col16\" class=\"data row14 col16\" >0.38</td>\n            </tr>\n            <tr>\n                        <th id=\"T_2787cd1c_0fd5_11eb_a7df_982120618180level0_row15\" class=\"row_heading level0 row15\" >15</th>\n                        <td id=\"T_2787cd1c_0fd5_11eb_a7df_982120618180row15_col0\" class=\"data row15 col0\" >0.14</td>\n                        <td id=\"T_2787cd1c_0fd5_11eb_a7df_982120618180row15_col1\" class=\"data row15 col1\" >0.10</td>\n                        <td id=\"T_2787cd1c_0fd5_11eb_a7df_982120618180row15_col2\" class=\"data row15 col2\" >0.31</td>\n                        <td id=\"T_2787cd1c_0fd5_11eb_a7df_982120618180row15_col3\" class=\"data row15 col3\" >-0.03</td>\n                        <td id=\"T_2787cd1c_0fd5_11eb_a7df_982120618180row15_col4\" class=\"data row15 col4\" >0.56</td>\n                        <td id=\"T_2787cd1c_0fd5_11eb_a7df_982120618180row15_col5\" class=\"data row15 col5\" >-0.40</td>\n                        <td id=\"T_2787cd1c_0fd5_11eb_a7df_982120618180row15_col6\" class=\"data row15 col6\" >0.21</td>\n                        <td id=\"T_2787cd1c_0fd5_11eb_a7df_982120618180row15_col7\" class=\"data row15 col7\" >0.40</td>\n                        <td id=\"T_2787cd1c_0fd5_11eb_a7df_982120618180row15_col8\" class=\"data row15 col8\" >0.30</td>\n                        <td id=\"T_2787cd1c_0fd5_11eb_a7df_982120618180row15_col9\" class=\"data row15 col9\" >-0.47</td>\n                        <td id=\"T_2787cd1c_0fd5_11eb_a7df_982120618180row15_col10\" class=\"data row15 col10\" >-0.31</td>\n                        <td id=\"T_2787cd1c_0fd5_11eb_a7df_982120618180row15_col11\" class=\"data row15 col11\" >-0.13</td>\n                        <td id=\"T_2787cd1c_0fd5_11eb_a7df_982120618180row15_col12\" class=\"data row15 col12\" >0.09</td>\n                        <td id=\"T_2787cd1c_0fd5_11eb_a7df_982120618180row15_col13\" class=\"data row15 col13\" >0.62</td>\n                        <td id=\"T_2787cd1c_0fd5_11eb_a7df_982120618180row15_col14\" class=\"data row15 col14\" >0.24</td>\n                        <td id=\"T_2787cd1c_0fd5_11eb_a7df_982120618180row15_col15\" class=\"data row15 col15\" >1.00</td>\n                        <td id=\"T_2787cd1c_0fd5_11eb_a7df_982120618180row15_col16\" class=\"data row15 col16\" >-0.07</td>\n            </tr>\n            <tr>\n                        <th id=\"T_2787cd1c_0fd5_11eb_a7df_982120618180level0_row16\" class=\"row_heading level0 row16\" >16</th>\n                        <td id=\"T_2787cd1c_0fd5_11eb_a7df_982120618180row16_col0\" class=\"data row16 col0\" >-0.24</td>\n                        <td id=\"T_2787cd1c_0fd5_11eb_a7df_982120618180row16_col1\" class=\"data row16 col1\" >-0.42</td>\n                        <td id=\"T_2787cd1c_0fd5_11eb_a7df_982120618180row16_col2\" class=\"data row16 col2\" >-0.15</td>\n                        <td id=\"T_2787cd1c_0fd5_11eb_a7df_982120618180row16_col3\" class=\"data row16 col3\" >-0.27</td>\n                        <td id=\"T_2787cd1c_0fd5_11eb_a7df_982120618180row16_col4\" class=\"data row16 col4\" >0.24</td>\n                        <td id=\"T_2787cd1c_0fd5_11eb_a7df_982120618180row16_col5\" class=\"data row16 col5\" >0.10</td>\n                        <td id=\"T_2787cd1c_0fd5_11eb_a7df_982120618180row16_col6\" class=\"data row16 col6\" >-0.04</td>\n                        <td id=\"T_2787cd1c_0fd5_11eb_a7df_982120618180row16_col7\" class=\"data row16 col7\" >0.09</td>\n                        <td id=\"T_2787cd1c_0fd5_11eb_a7df_982120618180row16_col8\" class=\"data row16 col8\" >-0.36</td>\n                        <td id=\"T_2787cd1c_0fd5_11eb_a7df_982120618180row16_col9\" class=\"data row16 col9\" >0.03</td>\n                        <td id=\"T_2787cd1c_0fd5_11eb_a7df_982120618180row16_col10\" class=\"data row16 col10\" >-0.03</td>\n                        <td id=\"T_2787cd1c_0fd5_11eb_a7df_982120618180row16_col11\" class=\"data row16 col11\" >0.25</td>\n                        <td id=\"T_2787cd1c_0fd5_11eb_a7df_982120618180row16_col12\" class=\"data row16 col12\" >-0.07</td>\n                        <td id=\"T_2787cd1c_0fd5_11eb_a7df_982120618180row16_col13\" class=\"data row16 col13\" >0.49</td>\n                        <td id=\"T_2787cd1c_0fd5_11eb_a7df_982120618180row16_col14\" class=\"data row16 col14\" >0.38</td>\n                        <td id=\"T_2787cd1c_0fd5_11eb_a7df_982120618180row16_col15\" class=\"data row16 col15\" >-0.07</td>\n                        <td id=\"T_2787cd1c_0fd5_11eb_a7df_982120618180row16_col16\" class=\"data row16 col16\" >1.00</td>\n            </tr>\n    </tbody></table>"
     },
     "metadata": {},
     "execution_count": 11
    }
   ],
   "source": [
    "partial_corr1 = df.pcorr().round(2)\n",
    "partial_corr = calculate_partial_correlation(df).style.background_gradient(cmap='coolwarm').set_precision(2)\n",
    "partial_corr"
   ]
  },
  {
   "source": [
    "### 4. Analizar el conjunto completo de todas las variables.\n",
    "\n",
    "Matriz de precisión: contiene la información sobre la relación multivariante entrecada una de las variables y el resto"
   ],
   "cell_type": "markdown",
   "metadata": {}
  },
  {
   "cell_type": "code",
   "execution_count": 12,
   "metadata": {},
   "outputs": [
    {
     "output_type": "execute_result",
     "data": {
      "text/plain": [
       "<pandas.io.formats.style.Styler at 0x258329fbc48>"
      ],
      "text/html": "<style  type=\"text/css\" >\n</style><table id=\"T_3de31636_0fd5_11eb_b7be_982120618180\" ><thead>    <tr>        <th class=\"blank level0\" ></th>        <th class=\"col_heading level0 col0\" >0</th>        <th class=\"col_heading level0 col1\" >1</th>        <th class=\"col_heading level0 col2\" >2</th>        <th class=\"col_heading level0 col3\" >3</th>        <th class=\"col_heading level0 col4\" >4</th>        <th class=\"col_heading level0 col5\" >5</th>        <th class=\"col_heading level0 col6\" >6</th>        <th class=\"col_heading level0 col7\" >7</th>        <th class=\"col_heading level0 col8\" >8</th>        <th class=\"col_heading level0 col9\" >9</th>        <th class=\"col_heading level0 col10\" >10</th>        <th class=\"col_heading level0 col11\" >11</th>        <th class=\"col_heading level0 col12\" >12</th>        <th class=\"col_heading level0 col13\" >13</th>        <th class=\"col_heading level0 col14\" >14</th>        <th class=\"col_heading level0 col15\" >15</th>        <th class=\"col_heading level0 col16\" >16</th>    </tr></thead><tbody>\n                <tr>\n                        <th id=\"T_3de31636_0fd5_11eb_b7be_982120618180level0_row0\" class=\"row_heading level0 row0\" >0</th>\n                        <td id=\"T_3de31636_0fd5_11eb_b7be_982120618180row0_col0\" class=\"data row0 col0\" >0.44</td>\n                        <td id=\"T_3de31636_0fd5_11eb_b7be_982120618180row0_col1\" class=\"data row0 col1\" >0.02</td>\n                        <td id=\"T_3de31636_0fd5_11eb_b7be_982120618180row0_col2\" class=\"data row0 col2\" >0.05</td>\n                        <td id=\"T_3de31636_0fd5_11eb_b7be_982120618180row0_col3\" class=\"data row0 col3\" >0.01</td>\n                        <td id=\"T_3de31636_0fd5_11eb_b7be_982120618180row0_col4\" class=\"data row0 col4\" >0.00</td>\n                        <td id=\"T_3de31636_0fd5_11eb_b7be_982120618180row0_col5\" class=\"data row0 col5\" >-0.00</td>\n                        <td id=\"T_3de31636_0fd5_11eb_b7be_982120618180row0_col6\" class=\"data row0 col6\" >-0.12</td>\n                        <td id=\"T_3de31636_0fd5_11eb_b7be_982120618180row0_col7\" class=\"data row0 col7\" >-0.00</td>\n                        <td id=\"T_3de31636_0fd5_11eb_b7be_982120618180row0_col8\" class=\"data row0 col8\" >0.01</td>\n                        <td id=\"T_3de31636_0fd5_11eb_b7be_982120618180row0_col9\" class=\"data row0 col9\" >0.00</td>\n                        <td id=\"T_3de31636_0fd5_11eb_b7be_982120618180row0_col10\" class=\"data row0 col10\" >-0.00</td>\n                        <td id=\"T_3de31636_0fd5_11eb_b7be_982120618180row0_col11\" class=\"data row0 col11\" >-0.03</td>\n                        <td id=\"T_3de31636_0fd5_11eb_b7be_982120618180row0_col12\" class=\"data row0 col12\" >0.01</td>\n                        <td id=\"T_3de31636_0fd5_11eb_b7be_982120618180row0_col13\" class=\"data row0 col13\" >-0.00</td>\n                        <td id=\"T_3de31636_0fd5_11eb_b7be_982120618180row0_col14\" class=\"data row0 col14\" >-0.00</td>\n                        <td id=\"T_3de31636_0fd5_11eb_b7be_982120618180row0_col15\" class=\"data row0 col15\" >-0.00</td>\n                        <td id=\"T_3de31636_0fd5_11eb_b7be_982120618180row0_col16\" class=\"data row0 col16\" >0.00</td>\n            </tr>\n            <tr>\n                        <th id=\"T_3de31636_0fd5_11eb_b7be_982120618180level0_row1\" class=\"row_heading level0 row1\" >1</th>\n                        <td id=\"T_3de31636_0fd5_11eb_b7be_982120618180row1_col0\" class=\"data row1 col0\" >0.02</td>\n                        <td id=\"T_3de31636_0fd5_11eb_b7be_982120618180row1_col1\" class=\"data row1 col1\" >0.00</td>\n                        <td id=\"T_3de31636_0fd5_11eb_b7be_982120618180row1_col2\" class=\"data row1 col2\" >0.00</td>\n                        <td id=\"T_3de31636_0fd5_11eb_b7be_982120618180row1_col3\" class=\"data row1 col3\" >0.00</td>\n                        <td id=\"T_3de31636_0fd5_11eb_b7be_982120618180row1_col4\" class=\"data row1 col4\" >0.00</td>\n                        <td id=\"T_3de31636_0fd5_11eb_b7be_982120618180row1_col5\" class=\"data row1 col5\" >-0.00</td>\n                        <td id=\"T_3de31636_0fd5_11eb_b7be_982120618180row1_col6\" class=\"data row1 col6\" >0.00</td>\n                        <td id=\"T_3de31636_0fd5_11eb_b7be_982120618180row1_col7\" class=\"data row1 col7\" >0.00</td>\n                        <td id=\"T_3de31636_0fd5_11eb_b7be_982120618180row1_col8\" class=\"data row1 col8\" >0.00</td>\n                        <td id=\"T_3de31636_0fd5_11eb_b7be_982120618180row1_col9\" class=\"data row1 col9\" >0.00</td>\n                        <td id=\"T_3de31636_0fd5_11eb_b7be_982120618180row1_col10\" class=\"data row1 col10\" >-0.00</td>\n                        <td id=\"T_3de31636_0fd5_11eb_b7be_982120618180row1_col11\" class=\"data row1 col11\" >-0.00</td>\n                        <td id=\"T_3de31636_0fd5_11eb_b7be_982120618180row1_col12\" class=\"data row1 col12\" >-0.00</td>\n                        <td id=\"T_3de31636_0fd5_11eb_b7be_982120618180row1_col13\" class=\"data row1 col13\" >-0.00</td>\n                        <td id=\"T_3de31636_0fd5_11eb_b7be_982120618180row1_col14\" class=\"data row1 col14\" >-0.00</td>\n                        <td id=\"T_3de31636_0fd5_11eb_b7be_982120618180row1_col15\" class=\"data row1 col15\" >-0.00</td>\n                        <td id=\"T_3de31636_0fd5_11eb_b7be_982120618180row1_col16\" class=\"data row1 col16\" >0.00</td>\n            </tr>\n            <tr>\n                        <th id=\"T_3de31636_0fd5_11eb_b7be_982120618180level0_row2\" class=\"row_heading level0 row2\" >2</th>\n                        <td id=\"T_3de31636_0fd5_11eb_b7be_982120618180row2_col0\" class=\"data row2 col0\" >0.05</td>\n                        <td id=\"T_3de31636_0fd5_11eb_b7be_982120618180row2_col1\" class=\"data row2 col1\" >0.00</td>\n                        <td id=\"T_3de31636_0fd5_11eb_b7be_982120618180row2_col2\" class=\"data row2 col2\" >0.02</td>\n                        <td id=\"T_3de31636_0fd5_11eb_b7be_982120618180row2_col3\" class=\"data row2 col3\" >0.00</td>\n                        <td id=\"T_3de31636_0fd5_11eb_b7be_982120618180row2_col4\" class=\"data row2 col4\" >0.00</td>\n                        <td id=\"T_3de31636_0fd5_11eb_b7be_982120618180row2_col5\" class=\"data row2 col5\" >-0.00</td>\n                        <td id=\"T_3de31636_0fd5_11eb_b7be_982120618180row2_col6\" class=\"data row2 col6\" >-0.01</td>\n                        <td id=\"T_3de31636_0fd5_11eb_b7be_982120618180row2_col7\" class=\"data row2 col7\" >0.00</td>\n                        <td id=\"T_3de31636_0fd5_11eb_b7be_982120618180row2_col8\" class=\"data row2 col8\" >0.00</td>\n                        <td id=\"T_3de31636_0fd5_11eb_b7be_982120618180row2_col9\" class=\"data row2 col9\" >0.00</td>\n                        <td id=\"T_3de31636_0fd5_11eb_b7be_982120618180row2_col10\" class=\"data row2 col10\" >-0.00</td>\n                        <td id=\"T_3de31636_0fd5_11eb_b7be_982120618180row2_col11\" class=\"data row2 col11\" >-0.00</td>\n                        <td id=\"T_3de31636_0fd5_11eb_b7be_982120618180row2_col12\" class=\"data row2 col12\" >0.00</td>\n                        <td id=\"T_3de31636_0fd5_11eb_b7be_982120618180row2_col13\" class=\"data row2 col13\" >-0.00</td>\n                        <td id=\"T_3de31636_0fd5_11eb_b7be_982120618180row2_col14\" class=\"data row2 col14\" >-0.00</td>\n                        <td id=\"T_3de31636_0fd5_11eb_b7be_982120618180row2_col15\" class=\"data row2 col15\" >-0.00</td>\n                        <td id=\"T_3de31636_0fd5_11eb_b7be_982120618180row2_col16\" class=\"data row2 col16\" >0.00</td>\n            </tr>\n            <tr>\n                        <th id=\"T_3de31636_0fd5_11eb_b7be_982120618180level0_row3\" class=\"row_heading level0 row3\" >3</th>\n                        <td id=\"T_3de31636_0fd5_11eb_b7be_982120618180row3_col0\" class=\"data row3 col0\" >0.01</td>\n                        <td id=\"T_3de31636_0fd5_11eb_b7be_982120618180row3_col1\" class=\"data row3 col1\" >0.00</td>\n                        <td id=\"T_3de31636_0fd5_11eb_b7be_982120618180row3_col2\" class=\"data row3 col2\" >0.00</td>\n                        <td id=\"T_3de31636_0fd5_11eb_b7be_982120618180row3_col3\" class=\"data row3 col3\" >0.00</td>\n                        <td id=\"T_3de31636_0fd5_11eb_b7be_982120618180row3_col4\" class=\"data row3 col4\" >-0.00</td>\n                        <td id=\"T_3de31636_0fd5_11eb_b7be_982120618180row3_col5\" class=\"data row3 col5\" >-0.00</td>\n                        <td id=\"T_3de31636_0fd5_11eb_b7be_982120618180row3_col6\" class=\"data row3 col6\" >-0.00</td>\n                        <td id=\"T_3de31636_0fd5_11eb_b7be_982120618180row3_col7\" class=\"data row3 col7\" >-0.00</td>\n                        <td id=\"T_3de31636_0fd5_11eb_b7be_982120618180row3_col8\" class=\"data row3 col8\" >0.00</td>\n                        <td id=\"T_3de31636_0fd5_11eb_b7be_982120618180row3_col9\" class=\"data row3 col9\" >0.00</td>\n                        <td id=\"T_3de31636_0fd5_11eb_b7be_982120618180row3_col10\" class=\"data row3 col10\" >-0.00</td>\n                        <td id=\"T_3de31636_0fd5_11eb_b7be_982120618180row3_col11\" class=\"data row3 col11\" >-0.00</td>\n                        <td id=\"T_3de31636_0fd5_11eb_b7be_982120618180row3_col12\" class=\"data row3 col12\" >0.00</td>\n                        <td id=\"T_3de31636_0fd5_11eb_b7be_982120618180row3_col13\" class=\"data row3 col13\" >-0.00</td>\n                        <td id=\"T_3de31636_0fd5_11eb_b7be_982120618180row3_col14\" class=\"data row3 col14\" >-0.00</td>\n                        <td id=\"T_3de31636_0fd5_11eb_b7be_982120618180row3_col15\" class=\"data row3 col15\" >0.00</td>\n                        <td id=\"T_3de31636_0fd5_11eb_b7be_982120618180row3_col16\" class=\"data row3 col16\" >0.00</td>\n            </tr>\n            <tr>\n                        <th id=\"T_3de31636_0fd5_11eb_b7be_982120618180level0_row4\" class=\"row_heading level0 row4\" >4</th>\n                        <td id=\"T_3de31636_0fd5_11eb_b7be_982120618180row4_col0\" class=\"data row4 col0\" >0.00</td>\n                        <td id=\"T_3de31636_0fd5_11eb_b7be_982120618180row4_col1\" class=\"data row4 col1\" >0.00</td>\n                        <td id=\"T_3de31636_0fd5_11eb_b7be_982120618180row4_col2\" class=\"data row4 col2\" >0.00</td>\n                        <td id=\"T_3de31636_0fd5_11eb_b7be_982120618180row4_col3\" class=\"data row4 col3\" >-0.00</td>\n                        <td id=\"T_3de31636_0fd5_11eb_b7be_982120618180row4_col4\" class=\"data row4 col4\" >0.01</td>\n                        <td id=\"T_3de31636_0fd5_11eb_b7be_982120618180row4_col5\" class=\"data row4 col5\" >-0.00</td>\n                        <td id=\"T_3de31636_0fd5_11eb_b7be_982120618180row4_col6\" class=\"data row4 col6\" >0.02</td>\n                        <td id=\"T_3de31636_0fd5_11eb_b7be_982120618180row4_col7\" class=\"data row4 col7\" >0.00</td>\n                        <td id=\"T_3de31636_0fd5_11eb_b7be_982120618180row4_col8\" class=\"data row4 col8\" >-0.00</td>\n                        <td id=\"T_3de31636_0fd5_11eb_b7be_982120618180row4_col9\" class=\"data row4 col9\" >0.00</td>\n                        <td id=\"T_3de31636_0fd5_11eb_b7be_982120618180row4_col10\" class=\"data row4 col10\" >-0.00</td>\n                        <td id=\"T_3de31636_0fd5_11eb_b7be_982120618180row4_col11\" class=\"data row4 col11\" >0.00</td>\n                        <td id=\"T_3de31636_0fd5_11eb_b7be_982120618180row4_col12\" class=\"data row4 col12\" >0.00</td>\n                        <td id=\"T_3de31636_0fd5_11eb_b7be_982120618180row4_col13\" class=\"data row4 col13\" >0.00</td>\n                        <td id=\"T_3de31636_0fd5_11eb_b7be_982120618180row4_col14\" class=\"data row4 col14\" >0.00</td>\n                        <td id=\"T_3de31636_0fd5_11eb_b7be_982120618180row4_col15\" class=\"data row4 col15\" >-0.00</td>\n                        <td id=\"T_3de31636_0fd5_11eb_b7be_982120618180row4_col16\" class=\"data row4 col16\" >-0.00</td>\n            </tr>\n            <tr>\n                        <th id=\"T_3de31636_0fd5_11eb_b7be_982120618180level0_row5\" class=\"row_heading level0 row5\" >5</th>\n                        <td id=\"T_3de31636_0fd5_11eb_b7be_982120618180row5_col0\" class=\"data row5 col0\" >-0.00</td>\n                        <td id=\"T_3de31636_0fd5_11eb_b7be_982120618180row5_col1\" class=\"data row5 col1\" >-0.00</td>\n                        <td id=\"T_3de31636_0fd5_11eb_b7be_982120618180row5_col2\" class=\"data row5 col2\" >-0.00</td>\n                        <td id=\"T_3de31636_0fd5_11eb_b7be_982120618180row5_col3\" class=\"data row5 col3\" >-0.00</td>\n                        <td id=\"T_3de31636_0fd5_11eb_b7be_982120618180row5_col4\" class=\"data row5 col4\" >-0.00</td>\n                        <td id=\"T_3de31636_0fd5_11eb_b7be_982120618180row5_col5\" class=\"data row5 col5\" >0.00</td>\n                        <td id=\"T_3de31636_0fd5_11eb_b7be_982120618180row5_col6\" class=\"data row5 col6\" >-0.00</td>\n                        <td id=\"T_3de31636_0fd5_11eb_b7be_982120618180row5_col7\" class=\"data row5 col7\" >-0.00</td>\n                        <td id=\"T_3de31636_0fd5_11eb_b7be_982120618180row5_col8\" class=\"data row5 col8\" >-0.00</td>\n                        <td id=\"T_3de31636_0fd5_11eb_b7be_982120618180row5_col9\" class=\"data row5 col9\" >-0.00</td>\n                        <td id=\"T_3de31636_0fd5_11eb_b7be_982120618180row5_col10\" class=\"data row5 col10\" >0.00</td>\n                        <td id=\"T_3de31636_0fd5_11eb_b7be_982120618180row5_col11\" class=\"data row5 col11\" >0.00</td>\n                        <td id=\"T_3de31636_0fd5_11eb_b7be_982120618180row5_col12\" class=\"data row5 col12\" >-0.00</td>\n                        <td id=\"T_3de31636_0fd5_11eb_b7be_982120618180row5_col13\" class=\"data row5 col13\" >0.00</td>\n                        <td id=\"T_3de31636_0fd5_11eb_b7be_982120618180row5_col14\" class=\"data row5 col14\" >0.00</td>\n                        <td id=\"T_3de31636_0fd5_11eb_b7be_982120618180row5_col15\" class=\"data row5 col15\" >0.00</td>\n                        <td id=\"T_3de31636_0fd5_11eb_b7be_982120618180row5_col16\" class=\"data row5 col16\" >-0.00</td>\n            </tr>\n            <tr>\n                        <th id=\"T_3de31636_0fd5_11eb_b7be_982120618180level0_row6\" class=\"row_heading level0 row6\" >6</th>\n                        <td id=\"T_3de31636_0fd5_11eb_b7be_982120618180row6_col0\" class=\"data row6 col0\" >-0.12</td>\n                        <td id=\"T_3de31636_0fd5_11eb_b7be_982120618180row6_col1\" class=\"data row6 col1\" >0.00</td>\n                        <td id=\"T_3de31636_0fd5_11eb_b7be_982120618180row6_col2\" class=\"data row6 col2\" >-0.01</td>\n                        <td id=\"T_3de31636_0fd5_11eb_b7be_982120618180row6_col3\" class=\"data row6 col3\" >-0.00</td>\n                        <td id=\"T_3de31636_0fd5_11eb_b7be_982120618180row6_col4\" class=\"data row6 col4\" >0.02</td>\n                        <td id=\"T_3de31636_0fd5_11eb_b7be_982120618180row6_col5\" class=\"data row6 col5\" >-0.00</td>\n                        <td id=\"T_3de31636_0fd5_11eb_b7be_982120618180row6_col6\" class=\"data row6 col6\" >0.13</td>\n                        <td id=\"T_3de31636_0fd5_11eb_b7be_982120618180row6_col7\" class=\"data row6 col7\" >0.00</td>\n                        <td id=\"T_3de31636_0fd5_11eb_b7be_982120618180row6_col8\" class=\"data row6 col8\" >-0.01</td>\n                        <td id=\"T_3de31636_0fd5_11eb_b7be_982120618180row6_col9\" class=\"data row6 col9\" >-0.00</td>\n                        <td id=\"T_3de31636_0fd5_11eb_b7be_982120618180row6_col10\" class=\"data row6 col10\" >-0.00</td>\n                        <td id=\"T_3de31636_0fd5_11eb_b7be_982120618180row6_col11\" class=\"data row6 col11\" >0.01</td>\n                        <td id=\"T_3de31636_0fd5_11eb_b7be_982120618180row6_col12\" class=\"data row6 col12\" >0.01</td>\n                        <td id=\"T_3de31636_0fd5_11eb_b7be_982120618180row6_col13\" class=\"data row6 col13\" >0.00</td>\n                        <td id=\"T_3de31636_0fd5_11eb_b7be_982120618180row6_col14\" class=\"data row6 col14\" >0.00</td>\n                        <td id=\"T_3de31636_0fd5_11eb_b7be_982120618180row6_col15\" class=\"data row6 col15\" >-0.00</td>\n                        <td id=\"T_3de31636_0fd5_11eb_b7be_982120618180row6_col16\" class=\"data row6 col16\" >0.00</td>\n            </tr>\n            <tr>\n                        <th id=\"T_3de31636_0fd5_11eb_b7be_982120618180level0_row7\" class=\"row_heading level0 row7\" >7</th>\n                        <td id=\"T_3de31636_0fd5_11eb_b7be_982120618180row7_col0\" class=\"data row7 col0\" >-0.00</td>\n                        <td id=\"T_3de31636_0fd5_11eb_b7be_982120618180row7_col1\" class=\"data row7 col1\" >0.00</td>\n                        <td id=\"T_3de31636_0fd5_11eb_b7be_982120618180row7_col2\" class=\"data row7 col2\" >0.00</td>\n                        <td id=\"T_3de31636_0fd5_11eb_b7be_982120618180row7_col3\" class=\"data row7 col3\" >-0.00</td>\n                        <td id=\"T_3de31636_0fd5_11eb_b7be_982120618180row7_col4\" class=\"data row7 col4\" >0.00</td>\n                        <td id=\"T_3de31636_0fd5_11eb_b7be_982120618180row7_col5\" class=\"data row7 col5\" >-0.00</td>\n                        <td id=\"T_3de31636_0fd5_11eb_b7be_982120618180row7_col6\" class=\"data row7 col6\" >0.00</td>\n                        <td id=\"T_3de31636_0fd5_11eb_b7be_982120618180row7_col7\" class=\"data row7 col7\" >0.00</td>\n                        <td id=\"T_3de31636_0fd5_11eb_b7be_982120618180row7_col8\" class=\"data row7 col8\" >0.00</td>\n                        <td id=\"T_3de31636_0fd5_11eb_b7be_982120618180row7_col9\" class=\"data row7 col9\" >-0.00</td>\n                        <td id=\"T_3de31636_0fd5_11eb_b7be_982120618180row7_col10\" class=\"data row7 col10\" >-0.00</td>\n                        <td id=\"T_3de31636_0fd5_11eb_b7be_982120618180row7_col11\" class=\"data row7 col11\" >0.00</td>\n                        <td id=\"T_3de31636_0fd5_11eb_b7be_982120618180row7_col12\" class=\"data row7 col12\" >0.00</td>\n                        <td id=\"T_3de31636_0fd5_11eb_b7be_982120618180row7_col13\" class=\"data row7 col13\" >0.00</td>\n                        <td id=\"T_3de31636_0fd5_11eb_b7be_982120618180row7_col14\" class=\"data row7 col14\" >0.00</td>\n                        <td id=\"T_3de31636_0fd5_11eb_b7be_982120618180row7_col15\" class=\"data row7 col15\" >-0.00</td>\n                        <td id=\"T_3de31636_0fd5_11eb_b7be_982120618180row7_col16\" class=\"data row7 col16\" >-0.00</td>\n            </tr>\n            <tr>\n                        <th id=\"T_3de31636_0fd5_11eb_b7be_982120618180level0_row8\" class=\"row_heading level0 row8\" >8</th>\n                        <td id=\"T_3de31636_0fd5_11eb_b7be_982120618180row8_col0\" class=\"data row8 col0\" >0.01</td>\n                        <td id=\"T_3de31636_0fd5_11eb_b7be_982120618180row8_col1\" class=\"data row8 col1\" >0.00</td>\n                        <td id=\"T_3de31636_0fd5_11eb_b7be_982120618180row8_col2\" class=\"data row8 col2\" >0.00</td>\n                        <td id=\"T_3de31636_0fd5_11eb_b7be_982120618180row8_col3\" class=\"data row8 col3\" >0.00</td>\n                        <td id=\"T_3de31636_0fd5_11eb_b7be_982120618180row8_col4\" class=\"data row8 col4\" >-0.00</td>\n                        <td id=\"T_3de31636_0fd5_11eb_b7be_982120618180row8_col5\" class=\"data row8 col5\" >-0.00</td>\n                        <td id=\"T_3de31636_0fd5_11eb_b7be_982120618180row8_col6\" class=\"data row8 col6\" >-0.01</td>\n                        <td id=\"T_3de31636_0fd5_11eb_b7be_982120618180row8_col7\" class=\"data row8 col7\" >0.00</td>\n                        <td id=\"T_3de31636_0fd5_11eb_b7be_982120618180row8_col8\" class=\"data row8 col8\" >0.00</td>\n                        <td id=\"T_3de31636_0fd5_11eb_b7be_982120618180row8_col9\" class=\"data row8 col9\" >-0.00</td>\n                        <td id=\"T_3de31636_0fd5_11eb_b7be_982120618180row8_col10\" class=\"data row8 col10\" >-0.00</td>\n                        <td id=\"T_3de31636_0fd5_11eb_b7be_982120618180row8_col11\" class=\"data row8 col11\" >-0.00</td>\n                        <td id=\"T_3de31636_0fd5_11eb_b7be_982120618180row8_col12\" class=\"data row8 col12\" >0.00</td>\n                        <td id=\"T_3de31636_0fd5_11eb_b7be_982120618180row8_col13\" class=\"data row8 col13\" >-0.00</td>\n                        <td id=\"T_3de31636_0fd5_11eb_b7be_982120618180row8_col14\" class=\"data row8 col14\" >-0.00</td>\n                        <td id=\"T_3de31636_0fd5_11eb_b7be_982120618180row8_col15\" class=\"data row8 col15\" >-0.00</td>\n                        <td id=\"T_3de31636_0fd5_11eb_b7be_982120618180row8_col16\" class=\"data row8 col16\" >0.00</td>\n            </tr>\n            <tr>\n                        <th id=\"T_3de31636_0fd5_11eb_b7be_982120618180level0_row9\" class=\"row_heading level0 row9\" >9</th>\n                        <td id=\"T_3de31636_0fd5_11eb_b7be_982120618180row9_col0\" class=\"data row9 col0\" >0.00</td>\n                        <td id=\"T_3de31636_0fd5_11eb_b7be_982120618180row9_col1\" class=\"data row9 col1\" >0.00</td>\n                        <td id=\"T_3de31636_0fd5_11eb_b7be_982120618180row9_col2\" class=\"data row9 col2\" >0.00</td>\n                        <td id=\"T_3de31636_0fd5_11eb_b7be_982120618180row9_col3\" class=\"data row9 col3\" >0.00</td>\n                        <td id=\"T_3de31636_0fd5_11eb_b7be_982120618180row9_col4\" class=\"data row9 col4\" >0.00</td>\n                        <td id=\"T_3de31636_0fd5_11eb_b7be_982120618180row9_col5\" class=\"data row9 col5\" >-0.00</td>\n                        <td id=\"T_3de31636_0fd5_11eb_b7be_982120618180row9_col6\" class=\"data row9 col6\" >-0.00</td>\n                        <td id=\"T_3de31636_0fd5_11eb_b7be_982120618180row9_col7\" class=\"data row9 col7\" >-0.00</td>\n                        <td id=\"T_3de31636_0fd5_11eb_b7be_982120618180row9_col8\" class=\"data row9 col8\" >-0.00</td>\n                        <td id=\"T_3de31636_0fd5_11eb_b7be_982120618180row9_col9\" class=\"data row9 col9\" >0.00</td>\n                        <td id=\"T_3de31636_0fd5_11eb_b7be_982120618180row9_col10\" class=\"data row9 col10\" >-0.00</td>\n                        <td id=\"T_3de31636_0fd5_11eb_b7be_982120618180row9_col11\" class=\"data row9 col11\" >-0.00</td>\n                        <td id=\"T_3de31636_0fd5_11eb_b7be_982120618180row9_col12\" class=\"data row9 col12\" >0.00</td>\n                        <td id=\"T_3de31636_0fd5_11eb_b7be_982120618180row9_col13\" class=\"data row9 col13\" >-0.00</td>\n                        <td id=\"T_3de31636_0fd5_11eb_b7be_982120618180row9_col14\" class=\"data row9 col14\" >-0.00</td>\n                        <td id=\"T_3de31636_0fd5_11eb_b7be_982120618180row9_col15\" class=\"data row9 col15\" >0.00</td>\n                        <td id=\"T_3de31636_0fd5_11eb_b7be_982120618180row9_col16\" class=\"data row9 col16\" >-0.00</td>\n            </tr>\n            <tr>\n                        <th id=\"T_3de31636_0fd5_11eb_b7be_982120618180level0_row10\" class=\"row_heading level0 row10\" >10</th>\n                        <td id=\"T_3de31636_0fd5_11eb_b7be_982120618180row10_col0\" class=\"data row10 col0\" >-0.00</td>\n                        <td id=\"T_3de31636_0fd5_11eb_b7be_982120618180row10_col1\" class=\"data row10 col1\" >-0.00</td>\n                        <td id=\"T_3de31636_0fd5_11eb_b7be_982120618180row10_col2\" class=\"data row10 col2\" >-0.00</td>\n                        <td id=\"T_3de31636_0fd5_11eb_b7be_982120618180row10_col3\" class=\"data row10 col3\" >-0.00</td>\n                        <td id=\"T_3de31636_0fd5_11eb_b7be_982120618180row10_col4\" class=\"data row10 col4\" >-0.00</td>\n                        <td id=\"T_3de31636_0fd5_11eb_b7be_982120618180row10_col5\" class=\"data row10 col5\" >0.00</td>\n                        <td id=\"T_3de31636_0fd5_11eb_b7be_982120618180row10_col6\" class=\"data row10 col6\" >-0.00</td>\n                        <td id=\"T_3de31636_0fd5_11eb_b7be_982120618180row10_col7\" class=\"data row10 col7\" >-0.00</td>\n                        <td id=\"T_3de31636_0fd5_11eb_b7be_982120618180row10_col8\" class=\"data row10 col8\" >-0.00</td>\n                        <td id=\"T_3de31636_0fd5_11eb_b7be_982120618180row10_col9\" class=\"data row10 col9\" >-0.00</td>\n                        <td id=\"T_3de31636_0fd5_11eb_b7be_982120618180row10_col10\" class=\"data row10 col10\" >0.00</td>\n                        <td id=\"T_3de31636_0fd5_11eb_b7be_982120618180row10_col11\" class=\"data row10 col11\" >0.00</td>\n                        <td id=\"T_3de31636_0fd5_11eb_b7be_982120618180row10_col12\" class=\"data row10 col12\" >-0.00</td>\n                        <td id=\"T_3de31636_0fd5_11eb_b7be_982120618180row10_col13\" class=\"data row10 col13\" >-0.00</td>\n                        <td id=\"T_3de31636_0fd5_11eb_b7be_982120618180row10_col14\" class=\"data row10 col14\" >-0.00</td>\n                        <td id=\"T_3de31636_0fd5_11eb_b7be_982120618180row10_col15\" class=\"data row10 col15\" >0.00</td>\n                        <td id=\"T_3de31636_0fd5_11eb_b7be_982120618180row10_col16\" class=\"data row10 col16\" >0.00</td>\n            </tr>\n            <tr>\n                        <th id=\"T_3de31636_0fd5_11eb_b7be_982120618180level0_row11\" class=\"row_heading level0 row11\" >11</th>\n                        <td id=\"T_3de31636_0fd5_11eb_b7be_982120618180row11_col0\" class=\"data row11 col0\" >-0.03</td>\n                        <td id=\"T_3de31636_0fd5_11eb_b7be_982120618180row11_col1\" class=\"data row11 col1\" >-0.00</td>\n                        <td id=\"T_3de31636_0fd5_11eb_b7be_982120618180row11_col2\" class=\"data row11 col2\" >-0.00</td>\n                        <td id=\"T_3de31636_0fd5_11eb_b7be_982120618180row11_col3\" class=\"data row11 col3\" >-0.00</td>\n                        <td id=\"T_3de31636_0fd5_11eb_b7be_982120618180row11_col4\" class=\"data row11 col4\" >0.00</td>\n                        <td id=\"T_3de31636_0fd5_11eb_b7be_982120618180row11_col5\" class=\"data row11 col5\" >0.00</td>\n                        <td id=\"T_3de31636_0fd5_11eb_b7be_982120618180row11_col6\" class=\"data row11 col6\" >0.01</td>\n                        <td id=\"T_3de31636_0fd5_11eb_b7be_982120618180row11_col7\" class=\"data row11 col7\" >0.00</td>\n                        <td id=\"T_3de31636_0fd5_11eb_b7be_982120618180row11_col8\" class=\"data row11 col8\" >-0.00</td>\n                        <td id=\"T_3de31636_0fd5_11eb_b7be_982120618180row11_col9\" class=\"data row11 col9\" >-0.00</td>\n                        <td id=\"T_3de31636_0fd5_11eb_b7be_982120618180row11_col10\" class=\"data row11 col10\" >0.00</td>\n                        <td id=\"T_3de31636_0fd5_11eb_b7be_982120618180row11_col11\" class=\"data row11 col11\" >0.00</td>\n                        <td id=\"T_3de31636_0fd5_11eb_b7be_982120618180row11_col12\" class=\"data row11 col12\" >0.00</td>\n                        <td id=\"T_3de31636_0fd5_11eb_b7be_982120618180row11_col13\" class=\"data row11 col13\" >0.00</td>\n                        <td id=\"T_3de31636_0fd5_11eb_b7be_982120618180row11_col14\" class=\"data row11 col14\" >0.00</td>\n                        <td id=\"T_3de31636_0fd5_11eb_b7be_982120618180row11_col15\" class=\"data row11 col15\" >0.00</td>\n                        <td id=\"T_3de31636_0fd5_11eb_b7be_982120618180row11_col16\" class=\"data row11 col16\" >-0.00</td>\n            </tr>\n            <tr>\n                        <th id=\"T_3de31636_0fd5_11eb_b7be_982120618180level0_row12\" class=\"row_heading level0 row12\" >12</th>\n                        <td id=\"T_3de31636_0fd5_11eb_b7be_982120618180row12_col0\" class=\"data row12 col0\" >0.01</td>\n                        <td id=\"T_3de31636_0fd5_11eb_b7be_982120618180row12_col1\" class=\"data row12 col1\" >-0.00</td>\n                        <td id=\"T_3de31636_0fd5_11eb_b7be_982120618180row12_col2\" class=\"data row12 col2\" >0.00</td>\n                        <td id=\"T_3de31636_0fd5_11eb_b7be_982120618180row12_col3\" class=\"data row12 col3\" >0.00</td>\n                        <td id=\"T_3de31636_0fd5_11eb_b7be_982120618180row12_col4\" class=\"data row12 col4\" >0.00</td>\n                        <td id=\"T_3de31636_0fd5_11eb_b7be_982120618180row12_col5\" class=\"data row12 col5\" >-0.00</td>\n                        <td id=\"T_3de31636_0fd5_11eb_b7be_982120618180row12_col6\" class=\"data row12 col6\" >0.01</td>\n                        <td id=\"T_3de31636_0fd5_11eb_b7be_982120618180row12_col7\" class=\"data row12 col7\" >0.00</td>\n                        <td id=\"T_3de31636_0fd5_11eb_b7be_982120618180row12_col8\" class=\"data row12 col8\" >0.00</td>\n                        <td id=\"T_3de31636_0fd5_11eb_b7be_982120618180row12_col9\" class=\"data row12 col9\" >0.00</td>\n                        <td id=\"T_3de31636_0fd5_11eb_b7be_982120618180row12_col10\" class=\"data row12 col10\" >-0.00</td>\n                        <td id=\"T_3de31636_0fd5_11eb_b7be_982120618180row12_col11\" class=\"data row12 col11\" >0.00</td>\n                        <td id=\"T_3de31636_0fd5_11eb_b7be_982120618180row12_col12\" class=\"data row12 col12\" >0.01</td>\n                        <td id=\"T_3de31636_0fd5_11eb_b7be_982120618180row12_col13\" class=\"data row12 col13\" >0.00</td>\n                        <td id=\"T_3de31636_0fd5_11eb_b7be_982120618180row12_col14\" class=\"data row12 col14\" >0.00</td>\n                        <td id=\"T_3de31636_0fd5_11eb_b7be_982120618180row12_col15\" class=\"data row12 col15\" >-0.00</td>\n                        <td id=\"T_3de31636_0fd5_11eb_b7be_982120618180row12_col16\" class=\"data row12 col16\" >0.00</td>\n            </tr>\n            <tr>\n                        <th id=\"T_3de31636_0fd5_11eb_b7be_982120618180level0_row13\" class=\"row_heading level0 row13\" >13</th>\n                        <td id=\"T_3de31636_0fd5_11eb_b7be_982120618180row13_col0\" class=\"data row13 col0\" >-0.00</td>\n                        <td id=\"T_3de31636_0fd5_11eb_b7be_982120618180row13_col1\" class=\"data row13 col1\" >-0.00</td>\n                        <td id=\"T_3de31636_0fd5_11eb_b7be_982120618180row13_col2\" class=\"data row13 col2\" >-0.00</td>\n                        <td id=\"T_3de31636_0fd5_11eb_b7be_982120618180row13_col3\" class=\"data row13 col3\" >-0.00</td>\n                        <td id=\"T_3de31636_0fd5_11eb_b7be_982120618180row13_col4\" class=\"data row13 col4\" >0.00</td>\n                        <td id=\"T_3de31636_0fd5_11eb_b7be_982120618180row13_col5\" class=\"data row13 col5\" >0.00</td>\n                        <td id=\"T_3de31636_0fd5_11eb_b7be_982120618180row13_col6\" class=\"data row13 col6\" >0.00</td>\n                        <td id=\"T_3de31636_0fd5_11eb_b7be_982120618180row13_col7\" class=\"data row13 col7\" >0.00</td>\n                        <td id=\"T_3de31636_0fd5_11eb_b7be_982120618180row13_col8\" class=\"data row13 col8\" >-0.00</td>\n                        <td id=\"T_3de31636_0fd5_11eb_b7be_982120618180row13_col9\" class=\"data row13 col9\" >-0.00</td>\n                        <td id=\"T_3de31636_0fd5_11eb_b7be_982120618180row13_col10\" class=\"data row13 col10\" >-0.00</td>\n                        <td id=\"T_3de31636_0fd5_11eb_b7be_982120618180row13_col11\" class=\"data row13 col11\" >0.00</td>\n                        <td id=\"T_3de31636_0fd5_11eb_b7be_982120618180row13_col12\" class=\"data row13 col12\" >0.00</td>\n                        <td id=\"T_3de31636_0fd5_11eb_b7be_982120618180row13_col13\" class=\"data row13 col13\" >0.00</td>\n                        <td id=\"T_3de31636_0fd5_11eb_b7be_982120618180row13_col14\" class=\"data row13 col14\" >0.00</td>\n                        <td id=\"T_3de31636_0fd5_11eb_b7be_982120618180row13_col15\" class=\"data row13 col15\" >-0.00</td>\n                        <td id=\"T_3de31636_0fd5_11eb_b7be_982120618180row13_col16\" class=\"data row13 col16\" >-0.00</td>\n            </tr>\n            <tr>\n                        <th id=\"T_3de31636_0fd5_11eb_b7be_982120618180level0_row14\" class=\"row_heading level0 row14\" >14</th>\n                        <td id=\"T_3de31636_0fd5_11eb_b7be_982120618180row14_col0\" class=\"data row14 col0\" >-0.00</td>\n                        <td id=\"T_3de31636_0fd5_11eb_b7be_982120618180row14_col1\" class=\"data row14 col1\" >-0.00</td>\n                        <td id=\"T_3de31636_0fd5_11eb_b7be_982120618180row14_col2\" class=\"data row14 col2\" >-0.00</td>\n                        <td id=\"T_3de31636_0fd5_11eb_b7be_982120618180row14_col3\" class=\"data row14 col3\" >-0.00</td>\n                        <td id=\"T_3de31636_0fd5_11eb_b7be_982120618180row14_col4\" class=\"data row14 col4\" >0.00</td>\n                        <td id=\"T_3de31636_0fd5_11eb_b7be_982120618180row14_col5\" class=\"data row14 col5\" >0.00</td>\n                        <td id=\"T_3de31636_0fd5_11eb_b7be_982120618180row14_col6\" class=\"data row14 col6\" >0.00</td>\n                        <td id=\"T_3de31636_0fd5_11eb_b7be_982120618180row14_col7\" class=\"data row14 col7\" >0.00</td>\n                        <td id=\"T_3de31636_0fd5_11eb_b7be_982120618180row14_col8\" class=\"data row14 col8\" >-0.00</td>\n                        <td id=\"T_3de31636_0fd5_11eb_b7be_982120618180row14_col9\" class=\"data row14 col9\" >-0.00</td>\n                        <td id=\"T_3de31636_0fd5_11eb_b7be_982120618180row14_col10\" class=\"data row14 col10\" >-0.00</td>\n                        <td id=\"T_3de31636_0fd5_11eb_b7be_982120618180row14_col11\" class=\"data row14 col11\" >0.00</td>\n                        <td id=\"T_3de31636_0fd5_11eb_b7be_982120618180row14_col12\" class=\"data row14 col12\" >0.00</td>\n                        <td id=\"T_3de31636_0fd5_11eb_b7be_982120618180row14_col13\" class=\"data row14 col13\" >0.00</td>\n                        <td id=\"T_3de31636_0fd5_11eb_b7be_982120618180row14_col14\" class=\"data row14 col14\" >0.00</td>\n                        <td id=\"T_3de31636_0fd5_11eb_b7be_982120618180row14_col15\" class=\"data row14 col15\" >-0.00</td>\n                        <td id=\"T_3de31636_0fd5_11eb_b7be_982120618180row14_col16\" class=\"data row14 col16\" >-0.00</td>\n            </tr>\n            <tr>\n                        <th id=\"T_3de31636_0fd5_11eb_b7be_982120618180level0_row15\" class=\"row_heading level0 row15\" >15</th>\n                        <td id=\"T_3de31636_0fd5_11eb_b7be_982120618180row15_col0\" class=\"data row15 col0\" >-0.00</td>\n                        <td id=\"T_3de31636_0fd5_11eb_b7be_982120618180row15_col1\" class=\"data row15 col1\" >-0.00</td>\n                        <td id=\"T_3de31636_0fd5_11eb_b7be_982120618180row15_col2\" class=\"data row15 col2\" >-0.00</td>\n                        <td id=\"T_3de31636_0fd5_11eb_b7be_982120618180row15_col3\" class=\"data row15 col3\" >0.00</td>\n                        <td id=\"T_3de31636_0fd5_11eb_b7be_982120618180row15_col4\" class=\"data row15 col4\" >-0.00</td>\n                        <td id=\"T_3de31636_0fd5_11eb_b7be_982120618180row15_col5\" class=\"data row15 col5\" >0.00</td>\n                        <td id=\"T_3de31636_0fd5_11eb_b7be_982120618180row15_col6\" class=\"data row15 col6\" >-0.00</td>\n                        <td id=\"T_3de31636_0fd5_11eb_b7be_982120618180row15_col7\" class=\"data row15 col7\" >-0.00</td>\n                        <td id=\"T_3de31636_0fd5_11eb_b7be_982120618180row15_col8\" class=\"data row15 col8\" >-0.00</td>\n                        <td id=\"T_3de31636_0fd5_11eb_b7be_982120618180row15_col9\" class=\"data row15 col9\" >0.00</td>\n                        <td id=\"T_3de31636_0fd5_11eb_b7be_982120618180row15_col10\" class=\"data row15 col10\" >0.00</td>\n                        <td id=\"T_3de31636_0fd5_11eb_b7be_982120618180row15_col11\" class=\"data row15 col11\" >0.00</td>\n                        <td id=\"T_3de31636_0fd5_11eb_b7be_982120618180row15_col12\" class=\"data row15 col12\" >-0.00</td>\n                        <td id=\"T_3de31636_0fd5_11eb_b7be_982120618180row15_col13\" class=\"data row15 col13\" >-0.00</td>\n                        <td id=\"T_3de31636_0fd5_11eb_b7be_982120618180row15_col14\" class=\"data row15 col14\" >-0.00</td>\n                        <td id=\"T_3de31636_0fd5_11eb_b7be_982120618180row15_col15\" class=\"data row15 col15\" >0.00</td>\n                        <td id=\"T_3de31636_0fd5_11eb_b7be_982120618180row15_col16\" class=\"data row15 col16\" >0.00</td>\n            </tr>\n            <tr>\n                        <th id=\"T_3de31636_0fd5_11eb_b7be_982120618180level0_row16\" class=\"row_heading level0 row16\" >16</th>\n                        <td id=\"T_3de31636_0fd5_11eb_b7be_982120618180row16_col0\" class=\"data row16 col0\" >0.00</td>\n                        <td id=\"T_3de31636_0fd5_11eb_b7be_982120618180row16_col1\" class=\"data row16 col1\" >0.00</td>\n                        <td id=\"T_3de31636_0fd5_11eb_b7be_982120618180row16_col2\" class=\"data row16 col2\" >0.00</td>\n                        <td id=\"T_3de31636_0fd5_11eb_b7be_982120618180row16_col3\" class=\"data row16 col3\" >0.00</td>\n                        <td id=\"T_3de31636_0fd5_11eb_b7be_982120618180row16_col4\" class=\"data row16 col4\" >-0.00</td>\n                        <td id=\"T_3de31636_0fd5_11eb_b7be_982120618180row16_col5\" class=\"data row16 col5\" >-0.00</td>\n                        <td id=\"T_3de31636_0fd5_11eb_b7be_982120618180row16_col6\" class=\"data row16 col6\" >0.00</td>\n                        <td id=\"T_3de31636_0fd5_11eb_b7be_982120618180row16_col7\" class=\"data row16 col7\" >-0.00</td>\n                        <td id=\"T_3de31636_0fd5_11eb_b7be_982120618180row16_col8\" class=\"data row16 col8\" >0.00</td>\n                        <td id=\"T_3de31636_0fd5_11eb_b7be_982120618180row16_col9\" class=\"data row16 col9\" >-0.00</td>\n                        <td id=\"T_3de31636_0fd5_11eb_b7be_982120618180row16_col10\" class=\"data row16 col10\" >0.00</td>\n                        <td id=\"T_3de31636_0fd5_11eb_b7be_982120618180row16_col11\" class=\"data row16 col11\" >-0.00</td>\n                        <td id=\"T_3de31636_0fd5_11eb_b7be_982120618180row16_col12\" class=\"data row16 col12\" >0.00</td>\n                        <td id=\"T_3de31636_0fd5_11eb_b7be_982120618180row16_col13\" class=\"data row16 col13\" >-0.00</td>\n                        <td id=\"T_3de31636_0fd5_11eb_b7be_982120618180row16_col14\" class=\"data row16 col14\" >-0.00</td>\n                        <td id=\"T_3de31636_0fd5_11eb_b7be_982120618180row16_col15\" class=\"data row16 col15\" >0.00</td>\n                        <td id=\"T_3de31636_0fd5_11eb_b7be_982120618180row16_col16\" class=\"data row16 col16\" >0.00</td>\n            </tr>\n    </tbody></table>"
     },
     "metadata": {},
     "execution_count": 12
    }
   ],
   "source": [
    "cov = np.cov(df, rowvar=False)\n",
    "cov_inv = np.linalg.inv(cov)\n",
    "df_cov_inv = pd.DataFrame(cov_inv).style.set_precision(2)\n",
    "df_cov_inv "
   ]
  },
  {
   "cell_type": "markdown",
   "metadata": {},
   "source": [
    "# Punto 7"
   ]
  },
  {
   "cell_type": "code",
   "execution_count": 14,
   "metadata": {},
   "outputs": [],
   "source": [
    "import pandas as pd\n",
    "import numpy as np\n",
    "from sklearn import preprocessing\n",
    "from sklearn.ensemble import RandomForestClassifier\n",
    "from sklearn.model_selection import train_test_split\n",
    "from sklearn.metrics import classification_report, confusion_matrix, accuracy_score\n",
    "import seaborn as sns"
   ]
  },
  {
   "cell_type": "code",
   "execution_count": 15,
   "metadata": {},
   "outputs": [
    {
     "data": {
      "text/html": [
       "<div>\n",
       "<style scoped>\n",
       "    .dataframe tbody tr th:only-of-type {\n",
       "        vertical-align: middle;\n",
       "    }\n",
       "\n",
       "    .dataframe tbody tr th {\n",
       "        vertical-align: top;\n",
       "    }\n",
       "\n",
       "    .dataframe thead th {\n",
       "        text-align: right;\n",
       "    }\n",
       "</style>\n",
       "<table border=\"1\" class=\"dataframe\">\n",
       "  <thead>\n",
       "    <tr style=\"text-align: right;\">\n",
       "      <th></th>\n",
       "      <th>0</th>\n",
       "      <th>1</th>\n",
       "      <th>2</th>\n",
       "      <th>3</th>\n",
       "      <th>4</th>\n",
       "      <th>5</th>\n",
       "      <th>6</th>\n",
       "      <th>7</th>\n",
       "      <th>8</th>\n",
       "      <th>9</th>\n",
       "      <th>10</th>\n",
       "      <th>11</th>\n",
       "      <th>12</th>\n",
       "      <th>13</th>\n",
       "      <th>14</th>\n",
       "      <th>15</th>\n",
       "      <th>16</th>\n",
       "    </tr>\n",
       "  </thead>\n",
       "  <tbody>\n",
       "    <tr>\n",
       "      <td>0</td>\n",
       "      <td>82.23</td>\n",
       "      <td>333.65</td>\n",
       "      <td>125.95</td>\n",
       "      <td>12231.27</td>\n",
       "      <td>1110.97</td>\n",
       "      <td>105069.63</td>\n",
       "      <td>263.66</td>\n",
       "      <td>77811.79</td>\n",
       "      <td>423.50</td>\n",
       "      <td>112743.19</td>\n",
       "      <td>823200.19</td>\n",
       "      <td>403.91</td>\n",
       "      <td>982.62</td>\n",
       "      <td>3955.22</td>\n",
       "      <td>19381.56</td>\n",
       "      <td>4324.97</td>\n",
       "      <td>125876.24</td>\n",
       "    </tr>\n",
       "    <tr>\n",
       "      <td>1</td>\n",
       "      <td>79.17</td>\n",
       "      <td>349.29</td>\n",
       "      <td>120.41</td>\n",
       "      <td>11977.18</td>\n",
       "      <td>1069.27</td>\n",
       "      <td>107210.46</td>\n",
       "      <td>261.29</td>\n",
       "      <td>69254.01</td>\n",
       "      <td>435.26</td>\n",
       "      <td>98112.25</td>\n",
       "      <td>705245.02</td>\n",
       "      <td>400.45</td>\n",
       "      <td>962.11</td>\n",
       "      <td>3946.92</td>\n",
       "      <td>17222.31</td>\n",
       "      <td>4262.06</td>\n",
       "      <td>111311.84</td>\n",
       "    </tr>\n",
       "    <tr>\n",
       "      <td>2</td>\n",
       "      <td>79.92</td>\n",
       "      <td>342.56</td>\n",
       "      <td>113.92</td>\n",
       "      <td>11712.42</td>\n",
       "      <td>997.68</td>\n",
       "      <td>108138.53</td>\n",
       "      <td>262.07</td>\n",
       "      <td>55266.32</td>\n",
       "      <td>422.36</td>\n",
       "      <td>84301.39</td>\n",
       "      <td>603368.98</td>\n",
       "      <td>392.59</td>\n",
       "      <td>944.62</td>\n",
       "      <td>3981.55</td>\n",
       "      <td>14876.55</td>\n",
       "      <td>4260.74</td>\n",
       "      <td>98425.38</td>\n",
       "    </tr>\n",
       "    <tr>\n",
       "      <td>3</td>\n",
       "      <td>75.83</td>\n",
       "      <td>299.48</td>\n",
       "      <td>163.12</td>\n",
       "      <td>11539.83</td>\n",
       "      <td>1003.56</td>\n",
       "      <td>110735.68</td>\n",
       "      <td>264.49</td>\n",
       "      <td>40753.72</td>\n",
       "      <td>419.72</td>\n",
       "      <td>75501.86</td>\n",
       "      <td>540643.37</td>\n",
       "      <td>383.81</td>\n",
       "      <td>928.89</td>\n",
       "      <td>3992.56</td>\n",
       "      <td>13453.31</td>\n",
       "      <td>4374.65</td>\n",
       "      <td>88527.77</td>\n",
       "    </tr>\n",
       "    <tr>\n",
       "      <td>4</td>\n",
       "      <td>78.72</td>\n",
       "      <td>268.19</td>\n",
       "      <td>119.30</td>\n",
       "      <td>11289.02</td>\n",
       "      <td>976.19</td>\n",
       "      <td>110619.01</td>\n",
       "      <td>262.18</td>\n",
       "      <td>54150.28</td>\n",
       "      <td>412.30</td>\n",
       "      <td>68409.14</td>\n",
       "      <td>499768.04</td>\n",
       "      <td>379.25</td>\n",
       "      <td>912.91</td>\n",
       "      <td>3941.43</td>\n",
       "      <td>12032.98</td>\n",
       "      <td>4357.31</td>\n",
       "      <td>81449.29</td>\n",
       "    </tr>\n",
       "  </tbody>\n",
       "</table>\n",
       "</div>"
      ],
      "text/plain": [
       "      0       1       2         3        4          5       6         7   \\\n",
       "0  82.23  333.65  125.95  12231.27  1110.97  105069.63  263.66  77811.79   \n",
       "1  79.17  349.29  120.41  11977.18  1069.27  107210.46  261.29  69254.01   \n",
       "2  79.92  342.56  113.92  11712.42   997.68  108138.53  262.07  55266.32   \n",
       "3  75.83  299.48  163.12  11539.83  1003.56  110735.68  264.49  40753.72   \n",
       "4  78.72  268.19  119.30  11289.02   976.19  110619.01  262.18  54150.28   \n",
       "\n",
       "       8          9          10      11      12       13        14       15  \\\n",
       "0  423.50  112743.19  823200.19  403.91  982.62  3955.22  19381.56  4324.97   \n",
       "1  435.26   98112.25  705245.02  400.45  962.11  3946.92  17222.31  4262.06   \n",
       "2  422.36   84301.39  603368.98  392.59  944.62  3981.55  14876.55  4260.74   \n",
       "3  419.72   75501.86  540643.37  383.81  928.89  3992.56  13453.31  4374.65   \n",
       "4  412.30   68409.14  499768.04  379.25  912.91  3941.43  12032.98  4357.31   \n",
       "\n",
       "          16  \n",
       "0  125876.24  \n",
       "1  111311.84  \n",
       "2   98425.38  \n",
       "3   88527.77  \n",
       "4   81449.29  "
      ]
     },
     "execution_count": 15,
     "metadata": {},
     "output_type": "execute_result"
    }
   ],
   "source": [
    "data = pd.read_excel('ELE.xlsx', header=None)  \n",
    "data.head()"
   ]
  },
  {
   "cell_type": "code",
   "execution_count": 16,
   "metadata": {},
   "outputs": [
    {
     "data": {
      "text/html": [
       "<div>\n",
       "<style scoped>\n",
       "    .dataframe tbody tr th:only-of-type {\n",
       "        vertical-align: middle;\n",
       "    }\n",
       "\n",
       "    .dataframe tbody tr th {\n",
       "        vertical-align: top;\n",
       "    }\n",
       "\n",
       "    .dataframe thead th {\n",
       "        text-align: right;\n",
       "    }\n",
       "</style>\n",
       "<table border=\"1\" class=\"dataframe\">\n",
       "  <thead>\n",
       "    <tr style=\"text-align: right;\">\n",
       "      <th></th>\n",
       "      <th>col0</th>\n",
       "      <th>col1</th>\n",
       "      <th>col2</th>\n",
       "      <th>col3</th>\n",
       "      <th>col4</th>\n",
       "      <th>col5</th>\n",
       "      <th>col6</th>\n",
       "      <th>col7</th>\n",
       "      <th>col8</th>\n",
       "      <th>col9</th>\n",
       "      <th>col10</th>\n",
       "      <th>col11</th>\n",
       "      <th>col12</th>\n",
       "      <th>col13</th>\n",
       "      <th>col14</th>\n",
       "      <th>col15</th>\n",
       "      <th>col16</th>\n",
       "    </tr>\n",
       "  </thead>\n",
       "  <tbody>\n",
       "    <tr>\n",
       "      <td>0</td>\n",
       "      <td>1.589902</td>\n",
       "      <td>1.767913</td>\n",
       "      <td>1.181182</td>\n",
       "      <td>-0.261505</td>\n",
       "      <td>-0.545621</td>\n",
       "      <td>-1.477161</td>\n",
       "      <td>1.100585</td>\n",
       "      <td>1.643671</td>\n",
       "      <td>-1.140567</td>\n",
       "      <td>1.633911</td>\n",
       "      <td>1.698156</td>\n",
       "      <td>-1.119292</td>\n",
       "      <td>1.505866</td>\n",
       "      <td>0.920273</td>\n",
       "      <td>1.705030</td>\n",
       "      <td>0.587150</td>\n",
       "      <td>0.819756</td>\n",
       "    </tr>\n",
       "    <tr>\n",
       "      <td>1</td>\n",
       "      <td>1.205638</td>\n",
       "      <td>2.179165</td>\n",
       "      <td>1.013453</td>\n",
       "      <td>-0.471455</td>\n",
       "      <td>-0.790797</td>\n",
       "      <td>-1.088177</td>\n",
       "      <td>1.007666</td>\n",
       "      <td>1.003397</td>\n",
       "      <td>-1.061635</td>\n",
       "      <td>0.852902</td>\n",
       "      <td>0.801972</td>\n",
       "      <td>-1.138869</td>\n",
       "      <td>0.969814</td>\n",
       "      <td>0.914513</td>\n",
       "      <td>0.967819</td>\n",
       "      <td>0.504454</td>\n",
       "      <td>0.300886</td>\n",
       "    </tr>\n",
       "    <tr>\n",
       "      <td>2</td>\n",
       "      <td>1.299820</td>\n",
       "      <td>2.002201</td>\n",
       "      <td>0.816961</td>\n",
       "      <td>-0.690220</td>\n",
       "      <td>-1.211711</td>\n",
       "      <td>-0.919548</td>\n",
       "      <td>1.038247</td>\n",
       "      <td>-0.043131</td>\n",
       "      <td>-1.148219</td>\n",
       "      <td>0.115668</td>\n",
       "      <td>0.027952</td>\n",
       "      <td>-1.183342</td>\n",
       "      <td>0.512693</td>\n",
       "      <td>0.938544</td>\n",
       "      <td>0.166930</td>\n",
       "      <td>0.502719</td>\n",
       "      <td>-0.158206</td>\n",
       "    </tr>\n",
       "    <tr>\n",
       "      <td>3</td>\n",
       "      <td>0.786213</td>\n",
       "      <td>0.869418</td>\n",
       "      <td>2.306543</td>\n",
       "      <td>-0.832828</td>\n",
       "      <td>-1.177139</td>\n",
       "      <td>-0.447652</td>\n",
       "      <td>1.133126</td>\n",
       "      <td>-1.128932</td>\n",
       "      <td>-1.165939</td>\n",
       "      <td>-0.354057</td>\n",
       "      <td>-0.448616</td>\n",
       "      <td>-1.233019</td>\n",
       "      <td>0.101572</td>\n",
       "      <td>0.946184</td>\n",
       "      <td>-0.318993</td>\n",
       "      <td>0.652456</td>\n",
       "      <td>-0.510818</td>\n",
       "    </tr>\n",
       "    <tr>\n",
       "      <td>4</td>\n",
       "      <td>1.149129</td>\n",
       "      <td>0.046651</td>\n",
       "      <td>0.979846</td>\n",
       "      <td>-1.040067</td>\n",
       "      <td>-1.338062</td>\n",
       "      <td>-0.468850</td>\n",
       "      <td>1.042560</td>\n",
       "      <td>-0.126631</td>\n",
       "      <td>-1.215741</td>\n",
       "      <td>-0.732671</td>\n",
       "      <td>-0.759173</td>\n",
       "      <td>-1.258820</td>\n",
       "      <td>-0.316084</td>\n",
       "      <td>0.910703</td>\n",
       "      <td>-0.803922</td>\n",
       "      <td>0.629662</td>\n",
       "      <td>-0.762996</td>\n",
       "    </tr>\n",
       "  </tbody>\n",
       "</table>\n",
       "</div>"
      ],
      "text/plain": [
       "       col0      col1      col2      col3      col4      col5      col6  \\\n",
       "0  1.589902  1.767913  1.181182 -0.261505 -0.545621 -1.477161  1.100585   \n",
       "1  1.205638  2.179165  1.013453 -0.471455 -0.790797 -1.088177  1.007666   \n",
       "2  1.299820  2.002201  0.816961 -0.690220 -1.211711 -0.919548  1.038247   \n",
       "3  0.786213  0.869418  2.306543 -0.832828 -1.177139 -0.447652  1.133126   \n",
       "4  1.149129  0.046651  0.979846 -1.040067 -1.338062 -0.468850  1.042560   \n",
       "\n",
       "       col7      col8      col9     col10     col11     col12     col13  \\\n",
       "0  1.643671 -1.140567  1.633911  1.698156 -1.119292  1.505866  0.920273   \n",
       "1  1.003397 -1.061635  0.852902  0.801972 -1.138869  0.969814  0.914513   \n",
       "2 -0.043131 -1.148219  0.115668  0.027952 -1.183342  0.512693  0.938544   \n",
       "3 -1.128932 -1.165939 -0.354057 -0.448616 -1.233019  0.101572  0.946184   \n",
       "4 -0.126631 -1.215741 -0.732671 -0.759173 -1.258820 -0.316084  0.910703   \n",
       "\n",
       "      col14     col15     col16  \n",
       "0  1.705030  0.587150  0.819756  \n",
       "1  0.967819  0.504454  0.300886  \n",
       "2  0.166930  0.502719 -0.158206  \n",
       "3 -0.318993  0.652456 -0.510818  \n",
       "4 -0.803922  0.629662 -0.762996  "
      ]
     },
     "execution_count": 16,
     "metadata": {},
     "output_type": "execute_result"
    }
   ],
   "source": [
    "data_scaled = preprocessing.scale(data)\n",
    "data = pd.DataFrame(data_scaled)\n",
    "data.columns = ['col0', 'col1', 'col2', 'col3', 'col4', 'col5', 'col6', 'col7', 'col8', 'col9', 'col10', 'col11', 'col12', 'col13', 'col14', 'col15', 'col16']\n",
    "data.head()"
   ]
  },
  {
   "cell_type": "code",
   "execution_count": 17,
   "metadata": {},
   "outputs": [
    {
     "data": {
      "text/html": [
       "<div>\n",
       "<style scoped>\n",
       "    .dataframe tbody tr th:only-of-type {\n",
       "        vertical-align: middle;\n",
       "    }\n",
       "\n",
       "    .dataframe tbody tr th {\n",
       "        vertical-align: top;\n",
       "    }\n",
       "\n",
       "    .dataframe thead th {\n",
       "        text-align: right;\n",
       "    }\n",
       "</style>\n",
       "<table border=\"1\" class=\"dataframe\">\n",
       "  <thead>\n",
       "    <tr style=\"text-align: right;\">\n",
       "      <th></th>\n",
       "      <th>col0</th>\n",
       "      <th>col1</th>\n",
       "      <th>col2</th>\n",
       "      <th>col3</th>\n",
       "      <th>col4</th>\n",
       "      <th>col5</th>\n",
       "      <th>col6</th>\n",
       "      <th>col7</th>\n",
       "      <th>col8</th>\n",
       "      <th>col9</th>\n",
       "      <th>col10</th>\n",
       "      <th>col11</th>\n",
       "      <th>col12</th>\n",
       "      <th>col13</th>\n",
       "      <th>col14</th>\n",
       "      <th>col15</th>\n",
       "      <th>col16</th>\n",
       "    </tr>\n",
       "  </thead>\n",
       "  <tbody>\n",
       "    <tr>\n",
       "      <td>count</td>\n",
       "      <td>2.400000e+01</td>\n",
       "      <td>2.400000e+01</td>\n",
       "      <td>2.400000e+01</td>\n",
       "      <td>2.400000e+01</td>\n",
       "      <td>2.400000e+01</td>\n",
       "      <td>2.400000e+01</td>\n",
       "      <td>2.400000e+01</td>\n",
       "      <td>2.400000e+01</td>\n",
       "      <td>2.400000e+01</td>\n",
       "      <td>2.400000e+01</td>\n",
       "      <td>2.400000e+01</td>\n",
       "      <td>2.400000e+01</td>\n",
       "      <td>2.400000e+01</td>\n",
       "      <td>2.400000e+01</td>\n",
       "      <td>2.400000e+01</td>\n",
       "      <td>2.400000e+01</td>\n",
       "      <td>2.400000e+01</td>\n",
       "    </tr>\n",
       "    <tr>\n",
       "      <td>mean</td>\n",
       "      <td>6.221875e-16</td>\n",
       "      <td>8.511710e-16</td>\n",
       "      <td>-5.111652e-16</td>\n",
       "      <td>7.147061e-16</td>\n",
       "      <td>9.390636e-16</td>\n",
       "      <td>-5.181041e-16</td>\n",
       "      <td>-1.184238e-15</td>\n",
       "      <td>-2.960595e-16</td>\n",
       "      <td>-3.411623e-16</td>\n",
       "      <td>5.551115e-17</td>\n",
       "      <td>4.949744e-16</td>\n",
       "      <td>-4.348374e-16</td>\n",
       "      <td>8.234154e-16</td>\n",
       "      <td>-1.017704e-16</td>\n",
       "      <td>-3.885781e-16</td>\n",
       "      <td>1.202742e-16</td>\n",
       "      <td>-1.619075e-16</td>\n",
       "    </tr>\n",
       "    <tr>\n",
       "      <td>std</td>\n",
       "      <td>1.021508e+00</td>\n",
       "      <td>1.021508e+00</td>\n",
       "      <td>1.021508e+00</td>\n",
       "      <td>1.021508e+00</td>\n",
       "      <td>1.021508e+00</td>\n",
       "      <td>1.021508e+00</td>\n",
       "      <td>1.021508e+00</td>\n",
       "      <td>1.021508e+00</td>\n",
       "      <td>1.021508e+00</td>\n",
       "      <td>1.021508e+00</td>\n",
       "      <td>1.021508e+00</td>\n",
       "      <td>1.021508e+00</td>\n",
       "      <td>1.021508e+00</td>\n",
       "      <td>1.021508e+00</td>\n",
       "      <td>1.021508e+00</td>\n",
       "      <td>1.021508e+00</td>\n",
       "      <td>1.021508e+00</td>\n",
       "    </tr>\n",
       "    <tr>\n",
       "      <td>min</td>\n",
       "      <td>-1.719036e+00</td>\n",
       "      <td>-1.371431e+00</td>\n",
       "      <td>-2.642985e+00</td>\n",
       "      <td>-1.743802e+00</td>\n",
       "      <td>-1.609519e+00</td>\n",
       "      <td>-1.477161e+00</td>\n",
       "      <td>-1.216113e+00</td>\n",
       "      <td>-1.128932e+00</td>\n",
       "      <td>-1.865924e+00</td>\n",
       "      <td>-1.500107e+00</td>\n",
       "      <td>-1.277586e+00</td>\n",
       "      <td>-1.258820e+00</td>\n",
       "      <td>-1.457710e+00</td>\n",
       "      <td>-1.167851e+00</td>\n",
       "      <td>-1.192543e+00</td>\n",
       "      <td>-1.317090e+00</td>\n",
       "      <td>-1.027256e+00</td>\n",
       "    </tr>\n",
       "    <tr>\n",
       "      <td>25%</td>\n",
       "      <td>-7.966776e-01</td>\n",
       "      <td>-7.084714e-01</td>\n",
       "      <td>-4.416897e-01</td>\n",
       "      <td>-7.669715e-01</td>\n",
       "      <td>-8.741976e-01</td>\n",
       "      <td>-7.203212e-01</td>\n",
       "      <td>-1.041449e+00</td>\n",
       "      <td>-6.943974e-01</td>\n",
       "      <td>-1.142480e+00</td>\n",
       "      <td>-7.335006e-01</td>\n",
       "      <td>-6.998767e-01</td>\n",
       "      <td>-1.119335e+00</td>\n",
       "      <td>-8.069205e-01</td>\n",
       "      <td>-9.774247e-01</td>\n",
       "      <td>-5.984629e-01</td>\n",
       "      <td>-8.869988e-01</td>\n",
       "      <td>-6.334427e-01</td>\n",
       "    </tr>\n",
       "    <tr>\n",
       "      <td>50%</td>\n",
       "      <td>-5.891626e-02</td>\n",
       "      <td>-2.712535e-01</td>\n",
       "      <td>1.723842e-01</td>\n",
       "      <td>9.939320e-02</td>\n",
       "      <td>2.281226e-01</td>\n",
       "      <td>-3.532649e-01</td>\n",
       "      <td>-7.266226e-02</td>\n",
       "      <td>-2.898236e-01</td>\n",
       "      <td>4.044154e-01</td>\n",
       "      <td>-3.321481e-01</td>\n",
       "      <td>-2.952261e-01</td>\n",
       "      <td>-9.887467e-03</td>\n",
       "      <td>2.564608e-02</td>\n",
       "      <td>4.928955e-03</td>\n",
       "      <td>-4.131819e-01</td>\n",
       "      <td>-1.650446e-01</td>\n",
       "      <td>-3.725190e-01</td>\n",
       "    </tr>\n",
       "    <tr>\n",
       "      <td>75%</td>\n",
       "      <td>9.230912e-01</td>\n",
       "      <td>5.597958e-01</td>\n",
       "      <td>5.932970e-01</td>\n",
       "      <td>6.905324e-01</td>\n",
       "      <td>9.081910e-01</td>\n",
       "      <td>8.686344e-01</td>\n",
       "      <td>1.052067e+00</td>\n",
       "      <td>2.462306e-01</td>\n",
       "      <td>7.067202e-01</td>\n",
       "      <td>2.259999e-01</td>\n",
       "      <td>2.404547e-01</td>\n",
       "      <td>9.401581e-01</td>\n",
       "      <td>7.782361e-01</td>\n",
       "      <td>9.614543e-01</td>\n",
       "      <td>3.671523e-01</td>\n",
       "      <td>7.356548e-01</td>\n",
       "      <td>3.123819e-01</td>\n",
       "    </tr>\n",
       "    <tr>\n",
       "      <td>max</td>\n",
       "      <td>1.589902e+00</td>\n",
       "      <td>2.179165e+00</td>\n",
       "      <td>2.306543e+00</td>\n",
       "      <td>1.807086e+00</td>\n",
       "      <td>1.624507e+00</td>\n",
       "      <td>1.879333e+00</td>\n",
       "      <td>1.243296e+00</td>\n",
       "      <td>2.742056e+00</td>\n",
       "      <td>1.551113e+00</td>\n",
       "      <td>2.661845e+00</td>\n",
       "      <td>2.306264e+00</td>\n",
       "      <td>1.474364e+00</td>\n",
       "      <td>1.855306e+00</td>\n",
       "      <td>1.140507e+00</td>\n",
       "      <td>2.395573e+00</td>\n",
       "      <td>1.797179e+00</td>\n",
       "      <td>2.539698e+00</td>\n",
       "    </tr>\n",
       "  </tbody>\n",
       "</table>\n",
       "</div>"
      ],
      "text/plain": [
       "               col0          col1          col2          col3          col4  \\\n",
       "count  2.400000e+01  2.400000e+01  2.400000e+01  2.400000e+01  2.400000e+01   \n",
       "mean   6.221875e-16  8.511710e-16 -5.111652e-16  7.147061e-16  9.390636e-16   \n",
       "std    1.021508e+00  1.021508e+00  1.021508e+00  1.021508e+00  1.021508e+00   \n",
       "min   -1.719036e+00 -1.371431e+00 -2.642985e+00 -1.743802e+00 -1.609519e+00   \n",
       "25%   -7.966776e-01 -7.084714e-01 -4.416897e-01 -7.669715e-01 -8.741976e-01   \n",
       "50%   -5.891626e-02 -2.712535e-01  1.723842e-01  9.939320e-02  2.281226e-01   \n",
       "75%    9.230912e-01  5.597958e-01  5.932970e-01  6.905324e-01  9.081910e-01   \n",
       "max    1.589902e+00  2.179165e+00  2.306543e+00  1.807086e+00  1.624507e+00   \n",
       "\n",
       "               col5          col6          col7          col8          col9  \\\n",
       "count  2.400000e+01  2.400000e+01  2.400000e+01  2.400000e+01  2.400000e+01   \n",
       "mean  -5.181041e-16 -1.184238e-15 -2.960595e-16 -3.411623e-16  5.551115e-17   \n",
       "std    1.021508e+00  1.021508e+00  1.021508e+00  1.021508e+00  1.021508e+00   \n",
       "min   -1.477161e+00 -1.216113e+00 -1.128932e+00 -1.865924e+00 -1.500107e+00   \n",
       "25%   -7.203212e-01 -1.041449e+00 -6.943974e-01 -1.142480e+00 -7.335006e-01   \n",
       "50%   -3.532649e-01 -7.266226e-02 -2.898236e-01  4.044154e-01 -3.321481e-01   \n",
       "75%    8.686344e-01  1.052067e+00  2.462306e-01  7.067202e-01  2.259999e-01   \n",
       "max    1.879333e+00  1.243296e+00  2.742056e+00  1.551113e+00  2.661845e+00   \n",
       "\n",
       "              col10         col11         col12         col13         col14  \\\n",
       "count  2.400000e+01  2.400000e+01  2.400000e+01  2.400000e+01  2.400000e+01   \n",
       "mean   4.949744e-16 -4.348374e-16  8.234154e-16 -1.017704e-16 -3.885781e-16   \n",
       "std    1.021508e+00  1.021508e+00  1.021508e+00  1.021508e+00  1.021508e+00   \n",
       "min   -1.277586e+00 -1.258820e+00 -1.457710e+00 -1.167851e+00 -1.192543e+00   \n",
       "25%   -6.998767e-01 -1.119335e+00 -8.069205e-01 -9.774247e-01 -5.984629e-01   \n",
       "50%   -2.952261e-01 -9.887467e-03  2.564608e-02  4.928955e-03 -4.131819e-01   \n",
       "75%    2.404547e-01  9.401581e-01  7.782361e-01  9.614543e-01  3.671523e-01   \n",
       "max    2.306264e+00  1.474364e+00  1.855306e+00  1.140507e+00  2.395573e+00   \n",
       "\n",
       "              col15         col16  \n",
       "count  2.400000e+01  2.400000e+01  \n",
       "mean   1.202742e-16 -1.619075e-16  \n",
       "std    1.021508e+00  1.021508e+00  \n",
       "min   -1.317090e+00 -1.027256e+00  \n",
       "25%   -8.869988e-01 -6.334427e-01  \n",
       "50%   -1.650446e-01 -3.725190e-01  \n",
       "75%    7.356548e-01  3.123819e-01  \n",
       "max    1.797179e+00  2.539698e+00  "
      ]
     },
     "execution_count": 17,
     "metadata": {},
     "output_type": "execute_result"
    }
   ],
   "source": [
    "data.describe()"
   ]
  },
  {
   "cell_type": "code",
   "execution_count": 18,
   "metadata": {},
   "outputs": [],
   "source": [
    "indexes = data[(data['col4'] >= -1.60) & (data['col4'] <= -1.19)].index"
   ]
  },
  {
   "cell_type": "code",
   "execution_count": 19,
   "metadata": {},
   "outputs": [
    {
     "data": {
      "text/html": [
       "<div>\n",
       "<style scoped>\n",
       "    .dataframe tbody tr th:only-of-type {\n",
       "        vertical-align: middle;\n",
       "    }\n",
       "\n",
       "    .dataframe tbody tr th {\n",
       "        vertical-align: top;\n",
       "    }\n",
       "\n",
       "    .dataframe thead th {\n",
       "        text-align: right;\n",
       "    }\n",
       "</style>\n",
       "<table border=\"1\" class=\"dataframe\">\n",
       "  <thead>\n",
       "    <tr style=\"text-align: right;\">\n",
       "      <th></th>\n",
       "      <th>col0</th>\n",
       "      <th>col1</th>\n",
       "      <th>col2</th>\n",
       "      <th>col3</th>\n",
       "      <th>col4</th>\n",
       "      <th>col5</th>\n",
       "      <th>col6</th>\n",
       "      <th>col7</th>\n",
       "      <th>col8</th>\n",
       "      <th>col9</th>\n",
       "      <th>col10</th>\n",
       "      <th>col11</th>\n",
       "      <th>col12</th>\n",
       "      <th>col13</th>\n",
       "      <th>col14</th>\n",
       "      <th>col15</th>\n",
       "      <th>col16</th>\n",
       "      <th>y</th>\n",
       "    </tr>\n",
       "  </thead>\n",
       "  <tbody>\n",
       "    <tr>\n",
       "      <td>0</td>\n",
       "      <td>1.589902</td>\n",
       "      <td>1.767913</td>\n",
       "      <td>1.181182</td>\n",
       "      <td>-0.261505</td>\n",
       "      <td>-0.545621</td>\n",
       "      <td>-1.477161</td>\n",
       "      <td>1.100585</td>\n",
       "      <td>1.643671</td>\n",
       "      <td>-1.140567</td>\n",
       "      <td>1.633911</td>\n",
       "      <td>1.698156</td>\n",
       "      <td>-1.119292</td>\n",
       "      <td>1.505866</td>\n",
       "      <td>0.920273</td>\n",
       "      <td>1.705030</td>\n",
       "      <td>0.587150</td>\n",
       "      <td>0.819756</td>\n",
       "      <td>1.0</td>\n",
       "    </tr>\n",
       "    <tr>\n",
       "      <td>1</td>\n",
       "      <td>1.205638</td>\n",
       "      <td>2.179165</td>\n",
       "      <td>1.013453</td>\n",
       "      <td>-0.471455</td>\n",
       "      <td>-0.790797</td>\n",
       "      <td>-1.088177</td>\n",
       "      <td>1.007666</td>\n",
       "      <td>1.003397</td>\n",
       "      <td>-1.061635</td>\n",
       "      <td>0.852902</td>\n",
       "      <td>0.801972</td>\n",
       "      <td>-1.138869</td>\n",
       "      <td>0.969814</td>\n",
       "      <td>0.914513</td>\n",
       "      <td>0.967819</td>\n",
       "      <td>0.504454</td>\n",
       "      <td>0.300886</td>\n",
       "      <td>0.0</td>\n",
       "    </tr>\n",
       "    <tr>\n",
       "      <td>2</td>\n",
       "      <td>1.299820</td>\n",
       "      <td>2.002201</td>\n",
       "      <td>0.816961</td>\n",
       "      <td>-0.690220</td>\n",
       "      <td>-1.211711</td>\n",
       "      <td>-0.919548</td>\n",
       "      <td>1.038247</td>\n",
       "      <td>-0.043131</td>\n",
       "      <td>-1.148219</td>\n",
       "      <td>0.115668</td>\n",
       "      <td>0.027952</td>\n",
       "      <td>-1.183342</td>\n",
       "      <td>0.512693</td>\n",
       "      <td>0.938544</td>\n",
       "      <td>0.166930</td>\n",
       "      <td>0.502719</td>\n",
       "      <td>-0.158206</td>\n",
       "      <td>0.0</td>\n",
       "    </tr>\n",
       "    <tr>\n",
       "      <td>3</td>\n",
       "      <td>0.786213</td>\n",
       "      <td>0.869418</td>\n",
       "      <td>2.306543</td>\n",
       "      <td>-0.832828</td>\n",
       "      <td>-1.177139</td>\n",
       "      <td>-0.447652</td>\n",
       "      <td>1.133126</td>\n",
       "      <td>-1.128932</td>\n",
       "      <td>-1.165939</td>\n",
       "      <td>-0.354057</td>\n",
       "      <td>-0.448616</td>\n",
       "      <td>-1.233019</td>\n",
       "      <td>0.101572</td>\n",
       "      <td>0.946184</td>\n",
       "      <td>-0.318993</td>\n",
       "      <td>0.652456</td>\n",
       "      <td>-0.510818</td>\n",
       "      <td>0.0</td>\n",
       "    </tr>\n",
       "    <tr>\n",
       "      <td>4</td>\n",
       "      <td>1.149129</td>\n",
       "      <td>0.046651</td>\n",
       "      <td>0.979846</td>\n",
       "      <td>-1.040067</td>\n",
       "      <td>-1.338062</td>\n",
       "      <td>-0.468850</td>\n",
       "      <td>1.042560</td>\n",
       "      <td>-0.126631</td>\n",
       "      <td>-1.215741</td>\n",
       "      <td>-0.732671</td>\n",
       "      <td>-0.759173</td>\n",
       "      <td>-1.258820</td>\n",
       "      <td>-0.316084</td>\n",
       "      <td>0.910703</td>\n",
       "      <td>-0.803922</td>\n",
       "      <td>0.629662</td>\n",
       "      <td>-0.762996</td>\n",
       "      <td>0.0</td>\n",
       "    </tr>\n",
       "  </tbody>\n",
       "</table>\n",
       "</div>"
      ],
      "text/plain": [
       "       col0      col1      col2      col3      col4      col5      col6  \\\n",
       "0  1.589902  1.767913  1.181182 -0.261505 -0.545621 -1.477161  1.100585   \n",
       "1  1.205638  2.179165  1.013453 -0.471455 -0.790797 -1.088177  1.007666   \n",
       "2  1.299820  2.002201  0.816961 -0.690220 -1.211711 -0.919548  1.038247   \n",
       "3  0.786213  0.869418  2.306543 -0.832828 -1.177139 -0.447652  1.133126   \n",
       "4  1.149129  0.046651  0.979846 -1.040067 -1.338062 -0.468850  1.042560   \n",
       "\n",
       "       col7      col8      col9     col10     col11     col12     col13  \\\n",
       "0  1.643671 -1.140567  1.633911  1.698156 -1.119292  1.505866  0.920273   \n",
       "1  1.003397 -1.061635  0.852902  0.801972 -1.138869  0.969814  0.914513   \n",
       "2 -0.043131 -1.148219  0.115668  0.027952 -1.183342  0.512693  0.938544   \n",
       "3 -1.128932 -1.165939 -0.354057 -0.448616 -1.233019  0.101572  0.946184   \n",
       "4 -0.126631 -1.215741 -0.732671 -0.759173 -1.258820 -0.316084  0.910703   \n",
       "\n",
       "      col14     col15     col16    y  \n",
       "0  1.705030  0.587150  0.819756  1.0  \n",
       "1  0.967819  0.504454  0.300886  0.0  \n",
       "2  0.166930  0.502719 -0.158206  0.0  \n",
       "3 -0.318993  0.652456 -0.510818  0.0  \n",
       "4 -0.803922  0.629662 -0.762996  0.0  "
      ]
     },
     "execution_count": 19,
     "metadata": {},
     "output_type": "execute_result"
    }
   ],
   "source": [
    "data.loc[(data['col4'] >= -1.61) & (data['col4'] <= -0.785), 'y'] = 0\n",
    "data.loc[(data['col4'] > -0.785) & (data['col4'] <= 0.438), 'y'] = 1\n",
    "data.loc[(data['col4'] > -0.03) & (data['col4'] <= 0.845), 'y'] = 2\n",
    "data.loc[(data['col4'] > 0.845) & (data['col4'] <= 1.66), 'y'] = 3\n",
    "data.head()"
   ]
  },
  {
   "cell_type": "code",
   "execution_count": 20,
   "metadata": {},
   "outputs": [],
   "source": [
    "X = data.drop(['col4', 'y'], axis=1)\n",
    "y = data['y'].astype(int) #Según el punto 6 es la variable más explicada por las demás"
   ]
  },
  {
   "cell_type": "code",
   "execution_count": 21,
   "metadata": {},
   "outputs": [],
   "source": [
    "X_train, X_test, y_train, y_test = train_test_split(X, y, test_size=0.3, random_state=0, stratify=y)"
   ]
  },
  {
   "cell_type": "code",
   "execution_count": 22,
   "metadata": {},
   "outputs": [],
   "source": [
    "clf = RandomForestClassifier(max_depth=3, random_state=0)\n",
    "clf.fit(X_train, y_train)\n",
    "predicts = clf.predict(X_test)"
   ]
  },
  {
   "cell_type": "code",
   "execution_count": 23,
   "metadata": {},
   "outputs": [
    {
     "name": "stdout",
     "output_type": "stream",
     "text": [
      "Accuracy Test: 0.75\n"
     ]
    }
   ],
   "source": [
    "print(\"Accuracy Test:\",accuracy_score(y_test, predicts))"
   ]
  },
  {
   "cell_type": "code",
   "execution_count": 24,
   "metadata": {},
   "outputs": [
    {
     "name": "stdout",
     "output_type": "stream",
     "text": [
      "Accuracy Train: 1.0\n"
     ]
    }
   ],
   "source": [
    "predicts = clf.predict(X_train)\n",
    "print(\"Accuracy Train:\",accuracy_score(y_train, predicts))"
   ]
  },
  {
   "cell_type": "markdown",
   "metadata": {},
   "source": [
    "Se pueden borrar las siguientes variables:\n",
    "- columna 4. \n",
    "- columna 6.\n",
    "- columna 7.\n",
    "- columna 14.\n",
    "- columna 16."
   ]
  },
  {
   "cell_type": "code",
   "execution_count": 25,
   "metadata": {},
   "outputs": [],
   "source": [
    "X = data.drop(['col4', 'y','col4','col6','col7','col14', 'col16'], axis=1)\n",
    "y = data['y'].astype(int) #Según el punto 6 es la variable más explicada por las demás"
   ]
  },
  {
   "cell_type": "code",
   "execution_count": 26,
   "metadata": {},
   "outputs": [],
   "source": [
    "X_train, X_test, y_train, y_test = train_test_split(X, y, test_size=0.3, random_state=0, stratify=y)"
   ]
  },
  {
   "cell_type": "code",
   "execution_count": 27,
   "metadata": {},
   "outputs": [],
   "source": [
    "clf = RandomForestClassifier(max_depth=3, random_state=0)\n",
    "clf.fit(X_train, y_train)\n",
    "predicts = clf.predict(X_test)"
   ]
  },
  {
   "cell_type": "code",
   "execution_count": 28,
   "metadata": {},
   "outputs": [
    {
     "name": "stdout",
     "output_type": "stream",
     "text": [
      "Accuracy Test: 0.75\n"
     ]
    }
   ],
   "source": [
    "print(\"Accuracy Test:\",metrics.accuracy_score(y_test, predicts))"
   ]
  },
  {
   "cell_type": "code",
   "execution_count": 29,
   "metadata": {},
   "outputs": [
    {
     "name": "stdout",
     "output_type": "stream",
     "text": [
      "Accuracy Train: 1.0\n"
     ]
    }
   ],
   "source": [
    "predicts = clf.predict(X_train)\n",
    "print(\"Accuracy Train:\",accuracy_score(y_train, predicts))"
   ]
  },
  {
   "cell_type": "markdown",
   "metadata": {},
   "source": [
    "# Punto 8"
   ]
  },
  {
   "cell_type": "code",
   "execution_count": null,
   "metadata": {},
   "outputs": [],
   "source": []
  }
 ],
 "metadata": {
  "kernelspec": {
   "display_name": "Python 3",
   "language": "python",
   "name": "python3"
  },
  "language_info": {
   "codemirror_mode": {
    "name": "ipython",
    "version": 3
   },
   "file_extension": ".py",
   "mimetype": "text/x-python",
   "name": "python",
   "nbconvert_exporter": "python",
   "pygments_lexer": "ipython3",
   "version": "3.7.6-final"
  }
 },
 "nbformat": 4,
 "nbformat_minor": 2
}