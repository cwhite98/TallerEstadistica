{
 "cells": [
  {
   "cell_type": "markdown",
   "metadata": {},
   "source": [
    "Integrantes:\n",
    "- Douglas Ardila Garcés\n",
    "- Natalia Arias Lozano\n",
    "- Andrés Felipe Avendaño\n",
    "- Camila White Romero"
   ]
  },
  {
   "cell_type": "markdown",
   "metadata": {},
   "source": [
    "# Punto 2"
   ]
  },
  {
   "cell_type": "markdown",
   "metadata": {},
   "source": [
    "# Punto 3"
   ]
  },
  {
   "cell_type": "code",
   "execution_count": 1,
   "metadata": {},
   "outputs": [],
   "source": [
    "import numpy as np\n",
    "import pandas as pd\n",
    "from sklearn.neighbors import KNeighborsClassifier\n",
    "from sklearn.model_selection import train_test_split\n",
    "from sklearn import metrics"
   ]
  },
  {
   "cell_type": "markdown",
   "metadata": {},
   "source": [
    "### 1. Implementar el algoritmo de clasificación KNN. Valide con los datos del problema 1 (el de calentamiento)."
   ]
  },
  {
   "cell_type": "code",
   "execution_count": 2,
   "metadata": {},
   "outputs": [],
   "source": [
    "X = np.array([[0.8, 0.8], [0.8, 1.2], [3.8, 2.8], [4.2, 3.2], [1, 1], [1.2, 1.2], [4.2, 2.8], [4.4, 2.8], \n",
    "              [3.5, 1], [4, 1],[3.8, 0.5], [4, 0.7]])\n",
    "Y = np.array([1, 1, 2, 2, 1, 1, 2, 2, 3, 3, 3, 3])"
   ]
  },
  {
   "cell_type": "code",
   "execution_count": 3,
   "metadata": {},
   "outputs": [
    {
     "data": {
      "text/html": [
       "<div>\n",
       "<style scoped>\n",
       "    .dataframe tbody tr th:only-of-type {\n",
       "        vertical-align: middle;\n",
       "    }\n",
       "\n",
       "    .dataframe tbody tr th {\n",
       "        vertical-align: top;\n",
       "    }\n",
       "\n",
       "    .dataframe thead th {\n",
       "        text-align: right;\n",
       "    }\n",
       "</style>\n",
       "<table border=\"1\" class=\"dataframe\">\n",
       "  <thead>\n",
       "    <tr style=\"text-align: right;\">\n",
       "      <th></th>\n",
       "      <th>x1</th>\n",
       "      <th>x2</th>\n",
       "      <th>y</th>\n",
       "    </tr>\n",
       "  </thead>\n",
       "  <tbody>\n",
       "    <tr>\n",
       "      <td>0</td>\n",
       "      <td>0.8</td>\n",
       "      <td>0.8</td>\n",
       "      <td>1</td>\n",
       "    </tr>\n",
       "    <tr>\n",
       "      <td>1</td>\n",
       "      <td>0.8</td>\n",
       "      <td>1.2</td>\n",
       "      <td>1</td>\n",
       "    </tr>\n",
       "    <tr>\n",
       "      <td>2</td>\n",
       "      <td>3.8</td>\n",
       "      <td>2.8</td>\n",
       "      <td>2</td>\n",
       "    </tr>\n",
       "    <tr>\n",
       "      <td>3</td>\n",
       "      <td>4.2</td>\n",
       "      <td>3.2</td>\n",
       "      <td>2</td>\n",
       "    </tr>\n",
       "    <tr>\n",
       "      <td>4</td>\n",
       "      <td>1.0</td>\n",
       "      <td>1.0</td>\n",
       "      <td>1</td>\n",
       "    </tr>\n",
       "  </tbody>\n",
       "</table>\n",
       "</div>"
      ],
      "text/plain": [
       "    x1   x2  y\n",
       "0  0.8  0.8  1\n",
       "1  0.8  1.2  1\n",
       "2  3.8  2.8  2\n",
       "3  4.2  3.2  2\n",
       "4  1.0  1.0  1"
      ]
     },
     "execution_count": 3,
     "metadata": {},
     "output_type": "execute_result"
    }
   ],
   "source": [
    "data = pd.DataFrame(X, columns=['x1', 'x2'])\n",
    "data['y'] = Y\n",
    "data.head()"
   ]
  },
  {
   "cell_type": "code",
   "execution_count": 4,
   "metadata": {},
   "outputs": [],
   "source": [
    "X = data[['x1', 'x2']]\n",
    "y = data['y']\n",
    "X_train, X_test, y_train, y_test = train_test_split(X, y, test_size=0.3, random_state=42)"
   ]
  },
  {
   "cell_type": "code",
   "execution_count": 5,
   "metadata": {},
   "outputs": [],
   "source": [
    "knn = KNeighborsClassifier(n_neighbors=3)\n",
    "knn.fit(X_train, y_train)\n",
    "predictions = knn.predict(X_test)"
   ]
  },
  {
   "cell_type": "code",
   "execution_count": 6,
   "metadata": {},
   "outputs": [
    {
     "data": {
      "text/plain": [
       "array([2, 2, 1, 2])"
      ]
     },
     "execution_count": 6,
     "metadata": {},
     "output_type": "execute_result"
    }
   ],
   "source": [
    "predictions"
   ]
  },
  {
   "cell_type": "code",
   "execution_count": 7,
   "metadata": {},
   "outputs": [
    {
     "name": "stdout",
     "output_type": "stream",
     "text": [
      "Accuracy: 0.25\n"
     ]
    }
   ],
   "source": [
    "print(\"Accuracy:\",metrics.accuracy_score(y_test, predictions))"
   ]
  },
  {
   "cell_type": "markdown",
   "metadata": {},
   "source": [
    "### 2. Para este ejercicio use la base de datos DatosFisher.xlsx disponible en la página del curso."
   ]
  },
  {
   "cell_type": "code",
   "execution_count": 8,
   "metadata": {},
   "outputs": [
    {
     "data": {
      "text/html": [
       "<div>\n",
       "<style scoped>\n",
       "    .dataframe tbody tr th:only-of-type {\n",
       "        vertical-align: middle;\n",
       "    }\n",
       "\n",
       "    .dataframe tbody tr th {\n",
       "        vertical-align: top;\n",
       "    }\n",
       "\n",
       "    .dataframe thead th {\n",
       "        text-align: right;\n",
       "    }\n",
       "</style>\n",
       "<table border=\"1\" class=\"dataframe\">\n",
       "  <thead>\n",
       "    <tr style=\"text-align: right;\">\n",
       "      <th></th>\n",
       "      <th>sexo</th>\n",
       "      <th>estatura</th>\n",
       "      <th>peso</th>\n",
       "      <th>longitudpie</th>\n",
       "      <th>longitudbrazo</th>\n",
       "      <th>anchuraespalda</th>\n",
       "      <th>diametrocraneo</th>\n",
       "      <th>longitudrodillatobillo</th>\n",
       "    </tr>\n",
       "  </thead>\n",
       "  <tbody>\n",
       "    <tr>\n",
       "      <td>0</td>\n",
       "      <td>0</td>\n",
       "      <td>159</td>\n",
       "      <td>49</td>\n",
       "      <td>36.0</td>\n",
       "      <td>68.0</td>\n",
       "      <td>42.0</td>\n",
       "      <td>57.0</td>\n",
       "      <td>40.0</td>\n",
       "    </tr>\n",
       "    <tr>\n",
       "      <td>1</td>\n",
       "      <td>1</td>\n",
       "      <td>164</td>\n",
       "      <td>62</td>\n",
       "      <td>39.0</td>\n",
       "      <td>73.0</td>\n",
       "      <td>44.0</td>\n",
       "      <td>55.0</td>\n",
       "      <td>44.0</td>\n",
       "    </tr>\n",
       "    <tr>\n",
       "      <td>2</td>\n",
       "      <td>0</td>\n",
       "      <td>172</td>\n",
       "      <td>65</td>\n",
       "      <td>38.0</td>\n",
       "      <td>75.0</td>\n",
       "      <td>48.0</td>\n",
       "      <td>58.0</td>\n",
       "      <td>44.0</td>\n",
       "    </tr>\n",
       "    <tr>\n",
       "      <td>3</td>\n",
       "      <td>1</td>\n",
       "      <td>167</td>\n",
       "      <td>52</td>\n",
       "      <td>37.0</td>\n",
       "      <td>73.0</td>\n",
       "      <td>41.5</td>\n",
       "      <td>58.0</td>\n",
       "      <td>44.0</td>\n",
       "    </tr>\n",
       "    <tr>\n",
       "      <td>4</td>\n",
       "      <td>1</td>\n",
       "      <td>164</td>\n",
       "      <td>51</td>\n",
       "      <td>36.0</td>\n",
       "      <td>71.0</td>\n",
       "      <td>44.5</td>\n",
       "      <td>54.0</td>\n",
       "      <td>40.0</td>\n",
       "    </tr>\n",
       "  </tbody>\n",
       "</table>\n",
       "</div>"
      ],
      "text/plain": [
       "   sexo  estatura  peso  longitudpie  longitudbrazo  anchuraespalda  \\\n",
       "0     0       159    49         36.0           68.0            42.0   \n",
       "1     1       164    62         39.0           73.0            44.0   \n",
       "2     0       172    65         38.0           75.0            48.0   \n",
       "3     1       167    52         37.0           73.0            41.5   \n",
       "4     1       164    51         36.0           71.0            44.5   \n",
       "\n",
       "   diametrocraneo  longitudrodillatobillo  \n",
       "0            57.0                    40.0  \n",
       "1            55.0                    44.0  \n",
       "2            58.0                    44.0  \n",
       "3            58.0                    44.0  \n",
       "4            54.0                    40.0  "
      ]
     },
     "execution_count": 8,
     "metadata": {},
     "output_type": "execute_result"
    }
   ],
   "source": [
    "dataFisher = pd.read_excel('DatosFisher.xlsx', skiprows=1)\n",
    "dataFisher.head()"
   ]
  },
  {
   "cell_type": "code",
   "execution_count": 9,
   "metadata": {},
   "outputs": [],
   "source": [
    "X = dataFisher.drop(['sexo'], axis=1)\n",
    "y = dataFisher['sexo']\n",
    "X_train, X_test, y_train, y_test = train_test_split(X, y, test_size=0.3, random_state=42)"
   ]
  },
  {
   "cell_type": "code",
   "execution_count": 10,
   "metadata": {},
   "outputs": [],
   "source": [
    "knn = KNeighborsClassifier(n_neighbors=10)\n",
    "knn.fit(X_train, y_train)\n",
    "predictions = knn.predict(X_test)"
   ]
  },
  {
   "cell_type": "code",
   "execution_count": 11,
   "metadata": {},
   "outputs": [
    {
     "data": {
      "text/plain": [
       "array([1, 1, 0, 0, 0, 1, 0, 0, 0])"
      ]
     },
     "execution_count": 11,
     "metadata": {},
     "output_type": "execute_result"
    }
   ],
   "source": [
    "predictions"
   ]
  },
  {
   "cell_type": "code",
   "execution_count": 12,
   "metadata": {},
   "outputs": [
    {
     "name": "stdout",
     "output_type": "stream",
     "text": [
      "Accuracy: 0.7777777777777778\n"
     ]
    }
   ],
   "source": [
    "print(\"Accuracy:\",metrics.accuracy_score(y_test, predictions))"
   ]
  },
  {
   "cell_type": "markdown",
   "metadata": {},
   "source": [
    "### 3. Seleccione el k para el cual el error de entrenamiento sea mínimo. k =?"
   ]
  },
  {
   "cell_type": "code",
   "execution_count": 13,
   "metadata": {},
   "outputs": [
    {
     "name": "stdout",
     "output_type": "stream",
     "text": [
      "Accuracy for 1 is:  0.8888888888888888\n",
      "Accuracy for 2 is:  0.5555555555555556\n",
      "Accuracy for 3 is:  0.6666666666666666\n",
      "Accuracy for 4 is:  0.7777777777777778\n",
      "Accuracy for 5 is:  0.8888888888888888\n",
      "Accuracy for 6 is:  0.5555555555555556\n",
      "Accuracy for 7 is:  0.7777777777777778\n",
      "Accuracy for 8 is:  0.6666666666666666\n",
      "Accuracy for 9 is:  0.8888888888888888\n"
     ]
    }
   ],
   "source": [
    "for k in range(1,10):\n",
    "    knn = KNeighborsClassifier(n_neighbors=k)\n",
    "    knn.fit(X_train, y_train)\n",
    "    predictions = knn.predict(X_test)\n",
    "    print(\"Accuracy for\", k, \"is: \", metrics.accuracy_score(y_test, predictions))"
   ]
  },
  {
   "cell_type": "markdown",
   "metadata": {},
   "source": [
    "El k para el cual el error de entrenamiento es mínimo, es k=5."
   ]
  },
  {
   "cell_type": "markdown",
   "metadata": {},
   "source": [
    "# Punto 5"
   ]
  },
  {
   "cell_type": "code",
   "execution_count": 1,
   "metadata": {},
   "outputs": [],
   "source": [
    "import pandas as pd\n",
    "import numpy as np\n",
    "from scipy.stats import kurtosis"
   ]
  },
  {
   "cell_type": "code",
   "execution_count": 2,
   "metadata": {},
   "outputs": [
    {
     "data": {
      "text/html": [
       "<div>\n",
       "<style scoped>\n",
       "    .dataframe tbody tr th:only-of-type {\n",
       "        vertical-align: middle;\n",
       "    }\n",
       "\n",
       "    .dataframe tbody tr th {\n",
       "        vertical-align: top;\n",
       "    }\n",
       "\n",
       "    .dataframe thead th {\n",
       "        text-align: right;\n",
       "    }\n",
       "</style>\n",
       "<table border=\"1\" class=\"dataframe\">\n",
       "  <thead>\n",
       "    <tr style=\"text-align: right;\">\n",
       "      <th></th>\n",
       "      <th>0</th>\n",
       "      <th>1</th>\n",
       "      <th>2</th>\n",
       "      <th>3</th>\n",
       "      <th>4</th>\n",
       "      <th>5</th>\n",
       "      <th>6</th>\n",
       "      <th>7</th>\n",
       "      <th>8</th>\n",
       "      <th>9</th>\n",
       "      <th>10</th>\n",
       "      <th>11</th>\n",
       "      <th>12</th>\n",
       "      <th>13</th>\n",
       "      <th>14</th>\n",
       "      <th>15</th>\n",
       "      <th>16</th>\n",
       "    </tr>\n",
       "  </thead>\n",
       "  <tbody>\n",
       "    <tr>\n",
       "      <td>0</td>\n",
       "      <td>82.23</td>\n",
       "      <td>333.65</td>\n",
       "      <td>125.95</td>\n",
       "      <td>12231.27</td>\n",
       "      <td>1110.97</td>\n",
       "      <td>105069.63</td>\n",
       "      <td>263.66</td>\n",
       "      <td>77811.79</td>\n",
       "      <td>423.50</td>\n",
       "      <td>112743.19</td>\n",
       "      <td>823200.19</td>\n",
       "      <td>403.91</td>\n",
       "      <td>982.62</td>\n",
       "      <td>3955.22</td>\n",
       "      <td>19381.56</td>\n",
       "      <td>4324.97</td>\n",
       "      <td>125876.24</td>\n",
       "    </tr>\n",
       "    <tr>\n",
       "      <td>1</td>\n",
       "      <td>79.17</td>\n",
       "      <td>349.29</td>\n",
       "      <td>120.41</td>\n",
       "      <td>11977.18</td>\n",
       "      <td>1069.27</td>\n",
       "      <td>107210.46</td>\n",
       "      <td>261.29</td>\n",
       "      <td>69254.01</td>\n",
       "      <td>435.26</td>\n",
       "      <td>98112.25</td>\n",
       "      <td>705245.02</td>\n",
       "      <td>400.45</td>\n",
       "      <td>962.11</td>\n",
       "      <td>3946.92</td>\n",
       "      <td>17222.31</td>\n",
       "      <td>4262.06</td>\n",
       "      <td>111311.84</td>\n",
       "    </tr>\n",
       "    <tr>\n",
       "      <td>2</td>\n",
       "      <td>79.92</td>\n",
       "      <td>342.56</td>\n",
       "      <td>113.92</td>\n",
       "      <td>11712.42</td>\n",
       "      <td>997.68</td>\n",
       "      <td>108138.53</td>\n",
       "      <td>262.07</td>\n",
       "      <td>55266.32</td>\n",
       "      <td>422.36</td>\n",
       "      <td>84301.39</td>\n",
       "      <td>603368.98</td>\n",
       "      <td>392.59</td>\n",
       "      <td>944.62</td>\n",
       "      <td>3981.55</td>\n",
       "      <td>14876.55</td>\n",
       "      <td>4260.74</td>\n",
       "      <td>98425.38</td>\n",
       "    </tr>\n",
       "    <tr>\n",
       "      <td>3</td>\n",
       "      <td>75.83</td>\n",
       "      <td>299.48</td>\n",
       "      <td>163.12</td>\n",
       "      <td>11539.83</td>\n",
       "      <td>1003.56</td>\n",
       "      <td>110735.68</td>\n",
       "      <td>264.49</td>\n",
       "      <td>40753.72</td>\n",
       "      <td>419.72</td>\n",
       "      <td>75501.86</td>\n",
       "      <td>540643.37</td>\n",
       "      <td>383.81</td>\n",
       "      <td>928.89</td>\n",
       "      <td>3992.56</td>\n",
       "      <td>13453.31</td>\n",
       "      <td>4374.65</td>\n",
       "      <td>88527.77</td>\n",
       "    </tr>\n",
       "    <tr>\n",
       "      <td>4</td>\n",
       "      <td>78.72</td>\n",
       "      <td>268.19</td>\n",
       "      <td>119.30</td>\n",
       "      <td>11289.02</td>\n",
       "      <td>976.19</td>\n",
       "      <td>110619.01</td>\n",
       "      <td>262.18</td>\n",
       "      <td>54150.28</td>\n",
       "      <td>412.30</td>\n",
       "      <td>68409.14</td>\n",
       "      <td>499768.04</td>\n",
       "      <td>379.25</td>\n",
       "      <td>912.91</td>\n",
       "      <td>3941.43</td>\n",
       "      <td>12032.98</td>\n",
       "      <td>4357.31</td>\n",
       "      <td>81449.29</td>\n",
       "    </tr>\n",
       "  </tbody>\n",
       "</table>\n",
       "</div>"
      ],
      "text/plain": [
       "      0       1       2         3        4          5       6         7   \\\n",
       "0  82.23  333.65  125.95  12231.27  1110.97  105069.63  263.66  77811.79   \n",
       "1  79.17  349.29  120.41  11977.18  1069.27  107210.46  261.29  69254.01   \n",
       "2  79.92  342.56  113.92  11712.42   997.68  108138.53  262.07  55266.32   \n",
       "3  75.83  299.48  163.12  11539.83  1003.56  110735.68  264.49  40753.72   \n",
       "4  78.72  268.19  119.30  11289.02   976.19  110619.01  262.18  54150.28   \n",
       "\n",
       "       8          9          10      11      12       13        14       15  \\\n",
       "0  423.50  112743.19  823200.19  403.91  982.62  3955.22  19381.56  4324.97   \n",
       "1  435.26   98112.25  705245.02  400.45  962.11  3946.92  17222.31  4262.06   \n",
       "2  422.36   84301.39  603368.98  392.59  944.62  3981.55  14876.55  4260.74   \n",
       "3  419.72   75501.86  540643.37  383.81  928.89  3992.56  13453.31  4374.65   \n",
       "4  412.30   68409.14  499768.04  379.25  912.91  3941.43  12032.98  4357.31   \n",
       "\n",
       "          16  \n",
       "0  125876.24  \n",
       "1  111311.84  \n",
       "2   98425.38  \n",
       "3   88527.77  \n",
       "4   81449.29  "
      ]
     },
     "execution_count": 2,
     "metadata": {},
     "output_type": "execute_result"
    }
   ],
   "source": [
    "data = pd.read_excel('ELE.xlsx', header=None)  \n",
    "data.head()"
   ]
  },
  {
   "cell_type": "code",
   "execution_count": 3,
   "metadata": {},
   "outputs": [],
   "source": [
    "m = data.shape[0]\n",
    "one = np.ones((m,1))"
   ]
  },
  {
   "cell_type": "markdown",
   "metadata": {},
   "source": [
    "### 1. Estudiar el tipo de variable de manera univariante."
   ]
  },
  {
   "cell_type": "code",
   "execution_count": 4,
   "metadata": {},
   "outputs": [
    {
     "data": {
      "text/html": [
       "<div>\n",
       "<style scoped>\n",
       "    .dataframe tbody tr th:only-of-type {\n",
       "        vertical-align: middle;\n",
       "    }\n",
       "\n",
       "    .dataframe tbody tr th {\n",
       "        vertical-align: top;\n",
       "    }\n",
       "\n",
       "    .dataframe thead th {\n",
       "        text-align: right;\n",
       "    }\n",
       "</style>\n",
       "<table border=\"1\" class=\"dataframe\">\n",
       "  <thead>\n",
       "    <tr style=\"text-align: right;\">\n",
       "      <th></th>\n",
       "      <th>0</th>\n",
       "      <th>1</th>\n",
       "      <th>2</th>\n",
       "      <th>3</th>\n",
       "      <th>4</th>\n",
       "      <th>5</th>\n",
       "      <th>6</th>\n",
       "      <th>7</th>\n",
       "      <th>8</th>\n",
       "      <th>9</th>\n",
       "      <th>10</th>\n",
       "      <th>11</th>\n",
       "      <th>12</th>\n",
       "      <th>13</th>\n",
       "      <th>14</th>\n",
       "      <th>15</th>\n",
       "      <th>16</th>\n",
       "    </tr>\n",
       "  </thead>\n",
       "  <tbody>\n",
       "    <tr>\n",
       "      <td>count</td>\n",
       "      <td>24.000000</td>\n",
       "      <td>24.000000</td>\n",
       "      <td>24.000000</td>\n",
       "      <td>24.000000</td>\n",
       "      <td>24.000000</td>\n",
       "      <td>24.000000</td>\n",
       "      <td>24.000000</td>\n",
       "      <td>24.000000</td>\n",
       "      <td>24.000000</td>\n",
       "      <td>24.000000</td>\n",
       "      <td>24.000000</td>\n",
       "      <td>24.000000</td>\n",
       "      <td>24.000000</td>\n",
       "      <td>24.000000</td>\n",
       "      <td>24.000000</td>\n",
       "      <td>24.000000</td>\n",
       "      <td>24.000000</td>\n",
       "    </tr>\n",
       "    <tr>\n",
       "      <td>mean</td>\n",
       "      <td>69.569167</td>\n",
       "      <td>266.415833</td>\n",
       "      <td>86.936250</td>\n",
       "      <td>12547.755000</td>\n",
       "      <td>1203.770417</td>\n",
       "      <td>113199.392500</td>\n",
       "      <td>235.588333</td>\n",
       "      <td>55842.805417</td>\n",
       "      <td>593.431667</td>\n",
       "      <td>82134.531250</td>\n",
       "      <td>599689.956250</td>\n",
       "      <td>601.732500</td>\n",
       "      <td>925.003750</td>\n",
       "      <td>2629.052083</td>\n",
       "      <td>14387.621667</td>\n",
       "      <td>3878.305000</td>\n",
       "      <td>102866.145000</td>\n",
       "    </tr>\n",
       "    <tr>\n",
       "      <td>std</td>\n",
       "      <td>8.134553</td>\n",
       "      <td>38.848184</td>\n",
       "      <td>33.739803</td>\n",
       "      <td>1236.273447</td>\n",
       "      <td>173.740257</td>\n",
       "      <td>5622.010113</td>\n",
       "      <td>26.054715</td>\n",
       "      <td>13653.273898</td>\n",
       "      <td>152.193128</td>\n",
       "      <td>19136.279173</td>\n",
       "      <td>134450.219602</td>\n",
       "      <td>180.540165</td>\n",
       "      <td>39.084121</td>\n",
       "      <td>1472.053564</td>\n",
       "      <td>2991.939096</td>\n",
       "      <td>777.095562</td>\n",
       "      <td>28673.141354</td>\n",
       "    </tr>\n",
       "    <tr>\n",
       "      <td>min</td>\n",
       "      <td>55.880000</td>\n",
       "      <td>214.260000</td>\n",
       "      <td>-0.360000</td>\n",
       "      <td>10437.330000</td>\n",
       "      <td>930.020000</td>\n",
       "      <td>105069.630000</td>\n",
       "      <td>204.570000</td>\n",
       "      <td>40753.720000</td>\n",
       "      <td>315.430000</td>\n",
       "      <td>54032.480000</td>\n",
       "      <td>431534.830000</td>\n",
       "      <td>379.250000</td>\n",
       "      <td>869.230000</td>\n",
       "      <td>946.110000</td>\n",
       "      <td>10894.730000</td>\n",
       "      <td>2876.350000</td>\n",
       "      <td>74031.670000</td>\n",
       "    </tr>\n",
       "    <tr>\n",
       "      <td>25%</td>\n",
       "      <td>63.225000</td>\n",
       "      <td>239.472500</td>\n",
       "      <td>72.347500</td>\n",
       "      <td>11619.532500</td>\n",
       "      <td>1055.085000</td>\n",
       "      <td>109235.005000</td>\n",
       "      <td>209.025000</td>\n",
       "      <td>46561.625000</td>\n",
       "      <td>423.215000</td>\n",
       "      <td>68393.597500</td>\n",
       "      <td>507572.630000</td>\n",
       "      <td>403.902500</td>\n",
       "      <td>894.130000</td>\n",
       "      <td>1220.525000</td>\n",
       "      <td>12634.757500</td>\n",
       "      <td>3203.535000</td>\n",
       "      <td>85085.770000</td>\n",
       "    </tr>\n",
       "    <tr>\n",
       "      <td>50%</td>\n",
       "      <td>69.100000</td>\n",
       "      <td>256.100000</td>\n",
       "      <td>92.630000</td>\n",
       "      <td>12668.045000</td>\n",
       "      <td>1242.570000</td>\n",
       "      <td>111255.150000</td>\n",
       "      <td>233.735000</td>\n",
       "      <td>51969.080000</td>\n",
       "      <td>653.685000</td>\n",
       "      <td>75912.280000</td>\n",
       "      <td>560832.480000</td>\n",
       "      <td>599.985000</td>\n",
       "      <td>925.985000</td>\n",
       "      <td>2636.155000</td>\n",
       "      <td>13177.435000</td>\n",
       "      <td>3752.750000</td>\n",
       "      <td>92409.750000</td>\n",
       "    </tr>\n",
       "    <tr>\n",
       "      <td>75%</td>\n",
       "      <td>76.920000</td>\n",
       "      <td>287.705000</td>\n",
       "      <td>106.532500</td>\n",
       "      <td>13383.467500</td>\n",
       "      <td>1358.237500</td>\n",
       "      <td>117980.042500</td>\n",
       "      <td>262.422500</td>\n",
       "      <td>59133.875000</td>\n",
       "      <td>698.725000</td>\n",
       "      <td>86368.270000</td>\n",
       "      <td>631338.452500</td>\n",
       "      <td>767.895000</td>\n",
       "      <td>954.780000</td>\n",
       "      <td>4014.565000</td>\n",
       "      <td>15462.990000</td>\n",
       "      <td>4437.942500</td>\n",
       "      <td>111634.527500</td>\n",
       "    </tr>\n",
       "    <tr>\n",
       "      <td>max</td>\n",
       "      <td>82.230000</td>\n",
       "      <td>349.290000</td>\n",
       "      <td>163.120000</td>\n",
       "      <td>14734.770000</td>\n",
       "      <td>1480.070000</td>\n",
       "      <td>123542.560000</td>\n",
       "      <td>267.300000</td>\n",
       "      <td>92492.590000</td>\n",
       "      <td>824.530000</td>\n",
       "      <td>131999.850000</td>\n",
       "      <td>903238.970000</td>\n",
       "      <td>862.310000</td>\n",
       "      <td>995.990000</td>\n",
       "      <td>4272.590000</td>\n",
       "      <td>21404.120000</td>\n",
       "      <td>5245.480000</td>\n",
       "      <td>174154.020000</td>\n",
       "    </tr>\n",
       "  </tbody>\n",
       "</table>\n",
       "</div>"
      ],
      "text/plain": [
       "              0           1           2             3            4   \\\n",
       "count  24.000000   24.000000   24.000000     24.000000    24.000000   \n",
       "mean   69.569167  266.415833   86.936250  12547.755000  1203.770417   \n",
       "std     8.134553   38.848184   33.739803   1236.273447   173.740257   \n",
       "min    55.880000  214.260000   -0.360000  10437.330000   930.020000   \n",
       "25%    63.225000  239.472500   72.347500  11619.532500  1055.085000   \n",
       "50%    69.100000  256.100000   92.630000  12668.045000  1242.570000   \n",
       "75%    76.920000  287.705000  106.532500  13383.467500  1358.237500   \n",
       "max    82.230000  349.290000  163.120000  14734.770000  1480.070000   \n",
       "\n",
       "                  5           6             7           8              9   \\\n",
       "count      24.000000   24.000000     24.000000   24.000000      24.000000   \n",
       "mean   113199.392500  235.588333  55842.805417  593.431667   82134.531250   \n",
       "std      5622.010113   26.054715  13653.273898  152.193128   19136.279173   \n",
       "min    105069.630000  204.570000  40753.720000  315.430000   54032.480000   \n",
       "25%    109235.005000  209.025000  46561.625000  423.215000   68393.597500   \n",
       "50%    111255.150000  233.735000  51969.080000  653.685000   75912.280000   \n",
       "75%    117980.042500  262.422500  59133.875000  698.725000   86368.270000   \n",
       "max    123542.560000  267.300000  92492.590000  824.530000  131999.850000   \n",
       "\n",
       "                  10          11          12           13            14  \\\n",
       "count      24.000000   24.000000   24.000000    24.000000     24.000000   \n",
       "mean   599689.956250  601.732500  925.003750  2629.052083  14387.621667   \n",
       "std    134450.219602  180.540165   39.084121  1472.053564   2991.939096   \n",
       "min    431534.830000  379.250000  869.230000   946.110000  10894.730000   \n",
       "25%    507572.630000  403.902500  894.130000  1220.525000  12634.757500   \n",
       "50%    560832.480000  599.985000  925.985000  2636.155000  13177.435000   \n",
       "75%    631338.452500  767.895000  954.780000  4014.565000  15462.990000   \n",
       "max    903238.970000  862.310000  995.990000  4272.590000  21404.120000   \n",
       "\n",
       "                15             16  \n",
       "count    24.000000      24.000000  \n",
       "mean   3878.305000  102866.145000  \n",
       "std     777.095562   28673.141354  \n",
       "min    2876.350000   74031.670000  \n",
       "25%    3203.535000   85085.770000  \n",
       "50%    3752.750000   92409.750000  \n",
       "75%    4437.942500  111634.527500  \n",
       "max    5245.480000  174154.020000  "
      ]
     },
     "execution_count": 4,
     "metadata": {},
     "output_type": "execute_result"
    }
   ],
   "source": [
    "data.describe()"
   ]
  },
  {
   "cell_type": "markdown",
   "metadata": {},
   "source": [
    "Curtosis"
   ]
  },
  {
   "cell_type": "code",
   "execution_count": 5,
   "metadata": {},
   "outputs": [
    {
     "data": {
      "text/plain": [
       "array([-1.33631823, -0.41679567,  0.83789888, -0.94935956, -1.34452428,\n",
       "       -0.93677626, -1.83356592,  0.5090123 , -1.17579249,  0.43933698,\n",
       "       -0.22841013, -1.60304349, -0.96607489, -1.97465921, -0.13484978,\n",
       "       -1.46473807,  0.74873281])"
      ]
     },
     "execution_count": 5,
     "metadata": {},
     "output_type": "execute_result"
    }
   ],
   "source": [
    "kurtosis(data)"
   ]
  },
  {
   "cell_type": "markdown",
   "metadata": {},
   "source": [
    "Varianza"
   ]
  },
  {
   "cell_type": "code",
   "execution_count": 6,
   "metadata": {},
   "outputs": [
    {
     "data": {
      "text/plain": [
       "0     6.617095e+01\n",
       "1     1.509181e+03\n",
       "2     1.138374e+03\n",
       "3     1.528372e+06\n",
       "4     3.018568e+04\n",
       "5     3.160700e+07\n",
       "6     6.788482e+02\n",
       "7     1.864119e+08\n",
       "8     2.316275e+04\n",
       "9     3.661972e+08\n",
       "10    1.807686e+10\n",
       "11    3.259475e+04\n",
       "12    1.527569e+03\n",
       "13    2.166942e+06\n",
       "14    8.951700e+06\n",
       "15    6.038775e+05\n",
       "16    8.221490e+08\n",
       "dtype: float64"
      ]
     },
     "execution_count": 6,
     "metadata": {},
     "output_type": "execute_result"
    }
   ],
   "source": [
    "data.var()"
   ]
  },
  {
   "cell_type": "markdown",
   "metadata": {},
   "source": [
    "La mayoria de las variables presentan una dispersión alta, esto se puede identificar debido a que la variabilidad tiene una magnitud significativa y la curtosis es menor a 0; por lo tanto puede ocurrir poca concentración de datos en la media. "
   ]
  },
  {
   "cell_type": "markdown",
   "metadata": {},
   "source": [
    "Las variables del dataset se encuentran en diferentes escalas, lo cual puede afectar la precisión del modelo."
   ]
  },
  {
   "cell_type": "markdown",
   "metadata": {},
   "source": [
    "### 2. Calcular las medidas de centralización: el vector de medias."
   ]
  },
  {
   "cell_type": "markdown",
   "metadata": {},
   "source": [
    "Fórmula $\\overline{X}=\\frac{1}{m}X^t1$"
   ]
  },
  {
   "cell_type": "code",
   "execution_count": 7,
   "metadata": {},
   "outputs": [
    {
     "data": {
      "text/plain": [
       "[[69.56916666666666],\n",
       " [266.41583333333335],\n",
       " [86.93625],\n",
       " [12547.755],\n",
       " [1203.7704166666667],\n",
       " [113199.3925],\n",
       " [235.5883333333333],\n",
       " [55842.80541666666],\n",
       " [593.4316666666666],\n",
       " [82134.53125],\n",
       " [599689.9562499999],\n",
       " [601.7325],\n",
       " [925.0037499999999],\n",
       " [2629.052083333333],\n",
       " [14387.621666666666],\n",
       " [3878.3049999999994],\n",
       " [102866.14499999999]]"
      ]
     },
     "execution_count": 7,
     "metadata": {},
     "output_type": "execute_result"
    }
   ],
   "source": [
    "media = np.dot(1/m,data.T).dot(one)\n",
    "media.tolist()"
   ]
  },
  {
   "cell_type": "markdown",
   "metadata": {},
   "source": [
    "### 3. Calcular la matriz de varianzas y covarianzas."
   ]
  },
  {
   "cell_type": "markdown",
   "metadata": {},
   "source": [
    "Con fórmula\n",
    "$$P=I-\\frac{1}{m}11^t$$\n",
    "$$S=\\frac{1}{m}X^tPX$$"
   ]
  },
  {
   "cell_type": "code",
   "execution_count": 8,
   "metadata": {},
   "outputs": [],
   "source": [
    "P = np.eye(m)-(np.dot((1/m),one).dot(one.T))"
   ]
  },
  {
   "cell_type": "code",
   "execution_count": 9,
   "metadata": {},
   "outputs": [
    {
     "data": {
      "text/plain": [
       "array([[ 6.34138243e+01,  1.29404734e+02,  1.31144168e+02,\n",
       "        -1.36629752e+03, -3.77258783e+02, -2.29021056e+04,\n",
       "         1.34331857e+02,  5.89271128e+04, -3.92280599e+02,\n",
       "         7.47337229e+04,  4.79474939e+05, -8.22213360e+02,\n",
       "         1.64663740e+01,  8.06172401e+03,  1.09356647e+04,\n",
       "         3.42184255e+03,  8.71150158e+04],\n",
       "       [ 1.29404734e+02,  1.44629882e+03,  6.93372184e+02,\n",
       "        -1.17335569e+04, -2.63103951e+03, -8.67740787e+04,\n",
       "         4.14540201e+02,  1.24167510e+04, -2.07486861e+03,\n",
       "         2.51739810e+04,  4.92077451e+05, -2.80180583e+03,\n",
       "         2.94765703e+02,  2.27405196e+04,  1.08248196e+04,\n",
       "         9.18902297e+03, -8.07253657e+04],\n",
       "       [ 1.31144168e+02,  6.93372184e+02,  1.09094205e+03,\n",
       "        -1.30626252e+04, -2.83039529e+03, -7.46646008e+04,\n",
       "         4.82355865e+02,  2.21221081e+04, -2.43781837e+03,\n",
       "         2.91395534e+04,  3.95361424e+05, -3.82958840e+03,\n",
       "         2.30770727e+02,  2.43992013e+04,  1.43979403e+04,\n",
       "         1.03479591e+04, -1.87379061e+04],\n",
       "       [-1.36629752e+03, -1.17335569e+04, -1.30626252e+04,\n",
       "         1.46468987e+06,  1.77926538e+05,  2.43654616e+06,\n",
       "         2.50199198e+03,  8.16324436e+06,  1.30505780e+05,\n",
       "         1.26931975e+07,  1.11409490e+08,  8.34426999e+04,\n",
       "        -1.34072306e+04,  3.18947225e+05,  2.17480721e+06,\n",
       "         2.92349050e+05,  2.51401121e+07],\n",
       "       [-3.77258783e+02, -2.63103951e+03, -2.83039529e+03,\n",
       "         1.77926538e+05,  2.89279404e+04,  6.33869863e+05,\n",
       "        -1.50994833e+03,  8.88012132e+05,  2.14809828e+04,\n",
       "         1.55701651e+06,  1.19692040e+07,  2.11800584e+04,\n",
       "        -3.26535981e+02, -5.16170266e+04,  2.14764204e+05,\n",
       "        -9.16185971e+03,  2.90175745e+06],\n",
       "       [-2.29021056e+04, -8.67740787e+04, -7.46646008e+04,\n",
       "         2.43654616e+06,  6.33869863e+05,  3.02900395e+07,\n",
       "        -1.03874160e+05, -1.81001516e+07,  4.69397915e+05,\n",
       "        -1.34451367e+07, -1.06964111e+08,  8.00368254e+05,\n",
       "         8.23545176e+04, -5.29734842e+06, -4.17797142e+06,\n",
       "        -2.45107191e+06, -1.10681595e+07],\n",
       "       [ 1.34331857e+02,  4.14540201e+02,  4.82355865e+02,\n",
       "         2.50199198e+03, -1.50994833e+03, -1.03874160e+05,\n",
       "         6.50562839e+02,  1.44369872e+05, -1.07181653e+03,\n",
       "         1.54685186e+05,  1.54210444e+06, -3.73641565e+03,\n",
       "        -3.29543756e+02,  3.53440121e+04,  3.57429697e+04,\n",
       "         1.77880985e+04,  2.64893719e+05],\n",
       "       [ 5.89271128e+04,  1.24167510e+04,  2.21221081e+04,\n",
       "         8.16324436e+06,  8.88012132e+05, -1.81001516e+07,\n",
       "         1.44369872e+05,  1.78644726e+08,  3.48353246e+05,\n",
       "         2.38862424e+08,  1.62546119e+09, -4.53242842e+05,\n",
       "        -4.85653006e+04,  1.01456858e+07,  3.61856165e+07,\n",
       "         4.97846722e+06,  3.41251811e+08],\n",
       "       [-3.92280599e+02, -2.07486861e+03, -2.43781837e+03,\n",
       "         1.30505780e+05,  2.14809828e+04,  4.69397915e+05,\n",
       "        -1.07181653e+03,  3.48353246e+05,  2.21976337e+04,\n",
       "         7.21884374e+05,  6.57306869e+06,  1.77581120e+04,\n",
       "        -1.48915007e+03, -3.82850053e+04,  9.98650126e+04,\n",
       "         2.03439808e+03,  1.64761060e+06],\n",
       "       [ 7.47337229e+04,  2.51739810e+04,  2.91395534e+04,\n",
       "         1.26931975e+07,  1.55701651e+06, -1.34451367e+07,\n",
       "         1.54685186e+05,  2.38862424e+08,  7.21884374e+05,\n",
       "         3.50938965e+08,  2.33774081e+09, -1.77100017e+05,\n",
       "        -4.03401094e+04,  1.15498525e+07,  5.22432278e+07,\n",
       "         5.51074546e+06,  4.89701757e+08],\n",
       "       [ 4.79474939e+05,  4.92077451e+05,  3.95361424e+05,\n",
       "         1.11409490e+08,  1.19692040e+07, -1.06964111e+08,\n",
       "         1.54210444e+06,  1.62546119e+09,  6.57306869e+06,\n",
       "         2.33774081e+09,  1.73236590e+10, -2.44989893e+06,\n",
       "        -7.25966252e+05,  1.06012584e+08,  3.76489387e+08,\n",
       "         5.67203518e+07,  3.55418621e+09],\n",
       "       [-8.22213360e+02, -2.80180583e+03, -3.82958840e+03,\n",
       "         8.34426999e+04,  2.11800584e+04,  8.00368254e+05,\n",
       "        -3.73641565e+03, -4.53242842e+05,  1.77581120e+04,\n",
       "        -1.77100017e+05, -2.44989893e+06,  3.12366366e+04,\n",
       "         5.52784420e+02, -1.94189388e+05, -8.62001789e+04,\n",
       "        -8.68888083e+04, -1.03368694e+05],\n",
       "       [ 1.64663740e+01,  2.94765703e+02,  2.30770727e+02,\n",
       "        -1.34072306e+04, -3.26535981e+02,  8.23545176e+04,\n",
       "        -3.29543756e+02, -4.85653006e+04, -1.48915007e+03,\n",
       "        -4.03401094e+04, -7.25966252e+05,  5.52784420e+02,\n",
       "         1.46391983e+03, -1.87559335e+04, -2.15997015e+04,\n",
       "        -1.38146091e+04, -2.47490186e+05],\n",
       "       [ 8.06172401e+03,  2.27405196e+04,  2.43992013e+04,\n",
       "         3.18947225e+05, -5.16170266e+04, -5.29734842e+06,\n",
       "         3.53440121e+04,  1.01456858e+07, -3.82850053e+04,\n",
       "         1.15498525e+07,  1.06012584e+08, -1.94189388e+05,\n",
       "        -1.87559335e+04,  2.07665246e+06,  2.32178655e+06,\n",
       "         1.05299505e+06,  2.02338196e+07],\n",
       "       [ 1.09356647e+04,  1.08248196e+04,  1.43979403e+04,\n",
       "         2.17480721e+06,  2.14764204e+05, -4.17797142e+06,\n",
       "         3.57429697e+04,  3.61856165e+07,  9.98650126e+04,\n",
       "         5.22432278e+07,  3.76489387e+08, -8.62001789e+04,\n",
       "        -2.15997015e+04,  2.32178655e+06,  8.57871207e+06,\n",
       "         1.20911398e+06,  7.72195589e+07],\n",
       "       [ 3.42184255e+03,  9.18902297e+03,  1.03479591e+04,\n",
       "         2.92349050e+05, -9.16185971e+03, -2.45107191e+06,\n",
       "         1.77880985e+04,  4.97846722e+06,  2.03439808e+03,\n",
       "         5.51074546e+06,  5.67203518e+07, -8.68888083e+04,\n",
       "        -1.38146091e+04,  1.05299505e+06,  1.20911398e+06,\n",
       "         5.78715950e+05,  1.11611410e+07],\n",
       "       [ 8.71150158e+04, -8.07253657e+04, -1.87379061e+04,\n",
       "         2.51401121e+07,  2.90175745e+06, -1.10681595e+07,\n",
       "         2.64893719e+05,  3.41251811e+08,  1.64761060e+06,\n",
       "         4.89701757e+08,  3.55418621e+09, -1.03368694e+05,\n",
       "        -2.47490186e+05,  2.02338196e+07,  7.72195589e+07,\n",
       "         1.11611410e+07,  7.87892825e+08]])"
      ]
     },
     "execution_count": 9,
     "metadata": {},
     "output_type": "execute_result"
    }
   ],
   "source": [
    "S = np.dot((1/m),data.T).dot(P).dot(data)\n",
    "S"
   ]
  },
  {
   "cell_type": "markdown",
   "metadata": {},
   "source": [
    "### 4. Centralizar los datos y calcular la matriz de varianzas y covarianzas."
   ]
  },
  {
   "cell_type": "markdown",
   "metadata": {},
   "source": [
    "Con fórmula\n",
    "$$\\tilde{X}=X − 1\\overline{X^t}$$\n",
    "$$S=\\frac{1}{m}\\tilde{X^t}\\tilde{X}$$"
   ]
  },
  {
   "cell_type": "code",
   "execution_count": 10,
   "metadata": {},
   "outputs": [],
   "source": [
    "XCentrada = data-one.dot(media.T)"
   ]
  },
  {
   "cell_type": "code",
   "execution_count": 11,
   "metadata": {},
   "outputs": [
    {
     "data": {
      "text/plain": [
       "array([[ 6.34138243e+01,  1.29404734e+02,  1.31144168e+02,\n",
       "        -1.36629752e+03, -3.77258783e+02, -2.29021056e+04,\n",
       "         1.34331857e+02,  5.89271128e+04, -3.92280599e+02,\n",
       "         7.47337229e+04,  4.79474939e+05, -8.22213360e+02,\n",
       "         1.64663740e+01,  8.06172401e+03,  1.09356647e+04,\n",
       "         3.42184255e+03,  8.71150157e+04],\n",
       "       [ 1.29404734e+02,  1.44629882e+03,  6.93372184e+02,\n",
       "        -1.17335569e+04, -2.63103951e+03, -8.67740787e+04,\n",
       "         4.14540201e+02,  1.24167510e+04, -2.07486861e+03,\n",
       "         2.51739810e+04,  4.92077451e+05, -2.80180583e+03,\n",
       "         2.94765703e+02,  2.27405196e+04,  1.08248196e+04,\n",
       "         9.18902297e+03, -8.07253657e+04],\n",
       "       [ 1.31144168e+02,  6.93372184e+02,  1.09094205e+03,\n",
       "        -1.30626252e+04, -2.83039529e+03, -7.46646008e+04,\n",
       "         4.82355865e+02,  2.21221081e+04, -2.43781837e+03,\n",
       "         2.91395534e+04,  3.95361424e+05, -3.82958840e+03,\n",
       "         2.30770727e+02,  2.43992013e+04,  1.43979403e+04,\n",
       "         1.03479591e+04, -1.87379061e+04],\n",
       "       [-1.36629752e+03, -1.17335569e+04, -1.30626252e+04,\n",
       "         1.46468987e+06,  1.77926538e+05,  2.43654616e+06,\n",
       "         2.50199198e+03,  8.16324436e+06,  1.30505780e+05,\n",
       "         1.26931975e+07,  1.11409490e+08,  8.34426999e+04,\n",
       "        -1.34072306e+04,  3.18947225e+05,  2.17480721e+06,\n",
       "         2.92349050e+05,  2.51401121e+07],\n",
       "       [-3.77258783e+02, -2.63103951e+03, -2.83039529e+03,\n",
       "         1.77926538e+05,  2.89279404e+04,  6.33869863e+05,\n",
       "        -1.50994833e+03,  8.88012132e+05,  2.14809828e+04,\n",
       "         1.55701651e+06,  1.19692040e+07,  2.11800584e+04,\n",
       "        -3.26535981e+02, -5.16170266e+04,  2.14764204e+05,\n",
       "        -9.16185971e+03,  2.90175745e+06],\n",
       "       [-2.29021056e+04, -8.67740787e+04, -7.46646008e+04,\n",
       "         2.43654616e+06,  6.33869863e+05,  3.02900395e+07,\n",
       "        -1.03874160e+05, -1.81001516e+07,  4.69397915e+05,\n",
       "        -1.34451367e+07, -1.06964111e+08,  8.00368254e+05,\n",
       "         8.23545176e+04, -5.29734842e+06, -4.17797142e+06,\n",
       "        -2.45107191e+06, -1.10681595e+07],\n",
       "       [ 1.34331857e+02,  4.14540201e+02,  4.82355865e+02,\n",
       "         2.50199198e+03, -1.50994833e+03, -1.03874160e+05,\n",
       "         6.50562839e+02,  1.44369872e+05, -1.07181653e+03,\n",
       "         1.54685186e+05,  1.54210444e+06, -3.73641565e+03,\n",
       "        -3.29543756e+02,  3.53440121e+04,  3.57429697e+04,\n",
       "         1.77880985e+04,  2.64893719e+05],\n",
       "       [ 5.89271128e+04,  1.24167510e+04,  2.21221081e+04,\n",
       "         8.16324436e+06,  8.88012132e+05, -1.81001516e+07,\n",
       "         1.44369872e+05,  1.78644726e+08,  3.48353246e+05,\n",
       "         2.38862424e+08,  1.62546119e+09, -4.53242842e+05,\n",
       "        -4.85653006e+04,  1.01456858e+07,  3.61856165e+07,\n",
       "         4.97846722e+06,  3.41251811e+08],\n",
       "       [-3.92280599e+02, -2.07486861e+03, -2.43781837e+03,\n",
       "         1.30505780e+05,  2.14809828e+04,  4.69397915e+05,\n",
       "        -1.07181653e+03,  3.48353246e+05,  2.21976337e+04,\n",
       "         7.21884374e+05,  6.57306869e+06,  1.77581120e+04,\n",
       "        -1.48915007e+03, -3.82850053e+04,  9.98650126e+04,\n",
       "         2.03439808e+03,  1.64761060e+06],\n",
       "       [ 7.47337229e+04,  2.51739810e+04,  2.91395534e+04,\n",
       "         1.26931975e+07,  1.55701651e+06, -1.34451367e+07,\n",
       "         1.54685186e+05,  2.38862424e+08,  7.21884374e+05,\n",
       "         3.50938965e+08,  2.33774081e+09, -1.77100017e+05,\n",
       "        -4.03401094e+04,  1.15498525e+07,  5.22432278e+07,\n",
       "         5.51074546e+06,  4.89701757e+08],\n",
       "       [ 4.79474939e+05,  4.92077451e+05,  3.95361424e+05,\n",
       "         1.11409490e+08,  1.19692040e+07, -1.06964111e+08,\n",
       "         1.54210444e+06,  1.62546119e+09,  6.57306869e+06,\n",
       "         2.33774081e+09,  1.73236590e+10, -2.44989893e+06,\n",
       "        -7.25966252e+05,  1.06012584e+08,  3.76489387e+08,\n",
       "         5.67203518e+07,  3.55418621e+09],\n",
       "       [-8.22213360e+02, -2.80180583e+03, -3.82958840e+03,\n",
       "         8.34426999e+04,  2.11800584e+04,  8.00368254e+05,\n",
       "        -3.73641565e+03, -4.53242842e+05,  1.77581120e+04,\n",
       "        -1.77100017e+05, -2.44989893e+06,  3.12366366e+04,\n",
       "         5.52784420e+02, -1.94189388e+05, -8.62001789e+04,\n",
       "        -8.68888083e+04, -1.03368694e+05],\n",
       "       [ 1.64663740e+01,  2.94765703e+02,  2.30770727e+02,\n",
       "        -1.34072306e+04, -3.26535981e+02,  8.23545176e+04,\n",
       "        -3.29543756e+02, -4.85653006e+04, -1.48915007e+03,\n",
       "        -4.03401094e+04, -7.25966252e+05,  5.52784420e+02,\n",
       "         1.46391983e+03, -1.87559335e+04, -2.15997015e+04,\n",
       "        -1.38146091e+04, -2.47490186e+05],\n",
       "       [ 8.06172401e+03,  2.27405196e+04,  2.43992013e+04,\n",
       "         3.18947225e+05, -5.16170266e+04, -5.29734842e+06,\n",
       "         3.53440121e+04,  1.01456858e+07, -3.82850053e+04,\n",
       "         1.15498525e+07,  1.06012584e+08, -1.94189388e+05,\n",
       "        -1.87559335e+04,  2.07665246e+06,  2.32178655e+06,\n",
       "         1.05299505e+06,  2.02338196e+07],\n",
       "       [ 1.09356647e+04,  1.08248196e+04,  1.43979403e+04,\n",
       "         2.17480721e+06,  2.14764204e+05, -4.17797142e+06,\n",
       "         3.57429697e+04,  3.61856165e+07,  9.98650126e+04,\n",
       "         5.22432278e+07,  3.76489387e+08, -8.62001789e+04,\n",
       "        -2.15997015e+04,  2.32178655e+06,  8.57871207e+06,\n",
       "         1.20911398e+06,  7.72195589e+07],\n",
       "       [ 3.42184255e+03,  9.18902297e+03,  1.03479591e+04,\n",
       "         2.92349050e+05, -9.16185971e+03, -2.45107191e+06,\n",
       "         1.77880985e+04,  4.97846722e+06,  2.03439808e+03,\n",
       "         5.51074546e+06,  5.67203518e+07, -8.68888083e+04,\n",
       "        -1.38146091e+04,  1.05299505e+06,  1.20911398e+06,\n",
       "         5.78715950e+05,  1.11611410e+07],\n",
       "       [ 8.71150157e+04, -8.07253657e+04, -1.87379061e+04,\n",
       "         2.51401121e+07,  2.90175745e+06, -1.10681595e+07,\n",
       "         2.64893719e+05,  3.41251811e+08,  1.64761060e+06,\n",
       "         4.89701757e+08,  3.55418621e+09, -1.03368694e+05,\n",
       "        -2.47490186e+05,  2.02338196e+07,  7.72195589e+07,\n",
       "         1.11611410e+07,  7.87892825e+08]])"
      ]
     },
     "execution_count": 11,
     "metadata": {},
     "output_type": "execute_result"
    }
   ],
   "source": [
    "S = np.dot(1/m, XCentrada.T).dot(XCentrada)\n",
    "S"
   ]
  },
  {
   "cell_type": "markdown",
   "metadata": {},
   "source": [
    "### 5. Calcular la variabilidad total y la varianza promedio."
   ]
  },
  {
   "cell_type": "code",
   "execution_count": 18,
   "metadata": {},
   "outputs": [],
   "source": [
    "diagonal = np.diag(S)"
   ]
  },
  {
   "cell_type": "markdown",
   "metadata": {},
   "source": [
    "Varianza Total"
   ]
  },
  {
   "cell_type": "code",
   "execution_count": 20,
   "metadata": {},
   "outputs": [
    {
     "data": {
      "text/plain": [
       "18684211389.65595"
      ]
     },
     "execution_count": 20,
     "metadata": {},
     "output_type": "execute_result"
    }
   ],
   "source": [
    "sum(diagonal)"
   ]
  },
  {
   "cell_type": "markdown",
   "metadata": {},
   "source": [
    "Varianza Promedio"
   ]
  },
  {
   "cell_type": "code",
   "execution_count": 22,
   "metadata": {},
   "outputs": [
    {
     "data": {
      "text/plain": [
       "1099071258.2150557"
      ]
     },
     "execution_count": 22,
     "metadata": {},
     "output_type": "execute_result"
    }
   ],
   "source": [
    "(1/S.shape[1])*sum(diagonal)"
   ]
  },
  {
   "cell_type": "markdown",
   "metadata": {},
   "source": [
    "### 6. Calcule la varianza generalizada y la variabilidad promedio."
   ]
  },
  {
   "cell_type": "markdown",
   "metadata": {},
   "source": [
    "Varianza Generalizada"
   ]
  },
  {
   "cell_type": "code",
   "execution_count": 16,
   "metadata": {},
   "outputs": [
    {
     "data": {
      "text/plain": [
       "5.525955295973817e+77"
      ]
     },
     "execution_count": 16,
     "metadata": {},
     "output_type": "execute_result"
    }
   ],
   "source": [
    "VG = np.linalg.det(S)\n",
    "VG"
   ]
  },
  {
   "cell_type": "markdown",
   "metadata": {},
   "source": [
    "Variabilidad Promedio"
   ]
  },
  {
   "cell_type": "code",
   "execution_count": 23,
   "metadata": {},
   "outputs": [
    {
     "data": {
      "text/plain": [
       "37418.19089716665"
      ]
     },
     "execution_count": 23,
     "metadata": {},
     "output_type": "execute_result"
    }
   ],
   "source": [
    "VP = VG**(1/S.shape[1])\n",
    "VP"
   ]
  },
  {
   "cell_type": "markdown",
   "metadata": {},
   "source": [
    "### 7. Distancia de Mahalanobis Se define la distancia de Mahalanobis entre un punto y su vector de medias como"
   ]
  },
  {
   "cell_type": "code",
   "execution_count": null,
   "metadata": {},
   "outputs": [],
   "source": [
    "from scipy.spatial import distance"
   ]
  },
  {
   "cell_type": "code",
   "execution_count": null,
   "metadata": {},
   "outputs": [],
   "source": [
    "mahal = []\n",
    "for i in range(0, m-1):\n",
    "    mahal.append(distance.mahalanobis(data.iloc[[i]], media, np.linalg.inv(S)))\n",
    "\n",
    "mahal"
   ]
  },
  {
   "cell_type": "markdown",
   "metadata": {},
   "source": [
    "# Punto 6"
   ]
  },
  {
   "cell_type": "markdown",
   "metadata": {},
   "source": [
    "# Punto 7"
   ]
  },
  {
   "cell_type": "code",
   "execution_count": 14,
   "metadata": {},
   "outputs": [],
   "source": [
    "import pandas as pd\n",
    "import numpy as np\n",
    "from sklearn import preprocessing\n",
    "from sklearn.ensemble import RandomForestClassifier\n",
    "from sklearn.model_selection import train_test_split\n",
    "from sklearn.metrics import classification_report, confusion_matrix, accuracy_score\n",
    "import seaborn as sns"
   ]
  },
  {
   "cell_type": "code",
   "execution_count": 15,
   "metadata": {},
   "outputs": [
    {
     "data": {
      "text/html": [
       "<div>\n",
       "<style scoped>\n",
       "    .dataframe tbody tr th:only-of-type {\n",
       "        vertical-align: middle;\n",
       "    }\n",
       "\n",
       "    .dataframe tbody tr th {\n",
       "        vertical-align: top;\n",
       "    }\n",
       "\n",
       "    .dataframe thead th {\n",
       "        text-align: right;\n",
       "    }\n",
       "</style>\n",
       "<table border=\"1\" class=\"dataframe\">\n",
       "  <thead>\n",
       "    <tr style=\"text-align: right;\">\n",
       "      <th></th>\n",
       "      <th>0</th>\n",
       "      <th>1</th>\n",
       "      <th>2</th>\n",
       "      <th>3</th>\n",
       "      <th>4</th>\n",
       "      <th>5</th>\n",
       "      <th>6</th>\n",
       "      <th>7</th>\n",
       "      <th>8</th>\n",
       "      <th>9</th>\n",
       "      <th>10</th>\n",
       "      <th>11</th>\n",
       "      <th>12</th>\n",
       "      <th>13</th>\n",
       "      <th>14</th>\n",
       "      <th>15</th>\n",
       "      <th>16</th>\n",
       "    </tr>\n",
       "  </thead>\n",
       "  <tbody>\n",
       "    <tr>\n",
       "      <td>0</td>\n",
       "      <td>82.23</td>\n",
       "      <td>333.65</td>\n",
       "      <td>125.95</td>\n",
       "      <td>12231.27</td>\n",
       "      <td>1110.97</td>\n",
       "      <td>105069.63</td>\n",
       "      <td>263.66</td>\n",
       "      <td>77811.79</td>\n",
       "      <td>423.50</td>\n",
       "      <td>112743.19</td>\n",
       "      <td>823200.19</td>\n",
       "      <td>403.91</td>\n",
       "      <td>982.62</td>\n",
       "      <td>3955.22</td>\n",
       "      <td>19381.56</td>\n",
       "      <td>4324.97</td>\n",
       "      <td>125876.24</td>\n",
       "    </tr>\n",
       "    <tr>\n",
       "      <td>1</td>\n",
       "      <td>79.17</td>\n",
       "      <td>349.29</td>\n",
       "      <td>120.41</td>\n",
       "      <td>11977.18</td>\n",
       "      <td>1069.27</td>\n",
       "      <td>107210.46</td>\n",
       "      <td>261.29</td>\n",
       "      <td>69254.01</td>\n",
       "      <td>435.26</td>\n",
       "      <td>98112.25</td>\n",
       "      <td>705245.02</td>\n",
       "      <td>400.45</td>\n",
       "      <td>962.11</td>\n",
       "      <td>3946.92</td>\n",
       "      <td>17222.31</td>\n",
       "      <td>4262.06</td>\n",
       "      <td>111311.84</td>\n",
       "    </tr>\n",
       "    <tr>\n",
       "      <td>2</td>\n",
       "      <td>79.92</td>\n",
       "      <td>342.56</td>\n",
       "      <td>113.92</td>\n",
       "      <td>11712.42</td>\n",
       "      <td>997.68</td>\n",
       "      <td>108138.53</td>\n",
       "      <td>262.07</td>\n",
       "      <td>55266.32</td>\n",
       "      <td>422.36</td>\n",
       "      <td>84301.39</td>\n",
       "      <td>603368.98</td>\n",
       "      <td>392.59</td>\n",
       "      <td>944.62</td>\n",
       "      <td>3981.55</td>\n",
       "      <td>14876.55</td>\n",
       "      <td>4260.74</td>\n",
       "      <td>98425.38</td>\n",
       "    </tr>\n",
       "    <tr>\n",
       "      <td>3</td>\n",
       "      <td>75.83</td>\n",
       "      <td>299.48</td>\n",
       "      <td>163.12</td>\n",
       "      <td>11539.83</td>\n",
       "      <td>1003.56</td>\n",
       "      <td>110735.68</td>\n",
       "      <td>264.49</td>\n",
       "      <td>40753.72</td>\n",
       "      <td>419.72</td>\n",
       "      <td>75501.86</td>\n",
       "      <td>540643.37</td>\n",
       "      <td>383.81</td>\n",
       "      <td>928.89</td>\n",
       "      <td>3992.56</td>\n",
       "      <td>13453.31</td>\n",
       "      <td>4374.65</td>\n",
       "      <td>88527.77</td>\n",
       "    </tr>\n",
       "    <tr>\n",
       "      <td>4</td>\n",
       "      <td>78.72</td>\n",
       "      <td>268.19</td>\n",
       "      <td>119.30</td>\n",
       "      <td>11289.02</td>\n",
       "      <td>976.19</td>\n",
       "      <td>110619.01</td>\n",
       "      <td>262.18</td>\n",
       "      <td>54150.28</td>\n",
       "      <td>412.30</td>\n",
       "      <td>68409.14</td>\n",
       "      <td>499768.04</td>\n",
       "      <td>379.25</td>\n",
       "      <td>912.91</td>\n",
       "      <td>3941.43</td>\n",
       "      <td>12032.98</td>\n",
       "      <td>4357.31</td>\n",
       "      <td>81449.29</td>\n",
       "    </tr>\n",
       "  </tbody>\n",
       "</table>\n",
       "</div>"
      ],
      "text/plain": [
       "      0       1       2         3        4          5       6         7   \\\n",
       "0  82.23  333.65  125.95  12231.27  1110.97  105069.63  263.66  77811.79   \n",
       "1  79.17  349.29  120.41  11977.18  1069.27  107210.46  261.29  69254.01   \n",
       "2  79.92  342.56  113.92  11712.42   997.68  108138.53  262.07  55266.32   \n",
       "3  75.83  299.48  163.12  11539.83  1003.56  110735.68  264.49  40753.72   \n",
       "4  78.72  268.19  119.30  11289.02   976.19  110619.01  262.18  54150.28   \n",
       "\n",
       "       8          9          10      11      12       13        14       15  \\\n",
       "0  423.50  112743.19  823200.19  403.91  982.62  3955.22  19381.56  4324.97   \n",
       "1  435.26   98112.25  705245.02  400.45  962.11  3946.92  17222.31  4262.06   \n",
       "2  422.36   84301.39  603368.98  392.59  944.62  3981.55  14876.55  4260.74   \n",
       "3  419.72   75501.86  540643.37  383.81  928.89  3992.56  13453.31  4374.65   \n",
       "4  412.30   68409.14  499768.04  379.25  912.91  3941.43  12032.98  4357.31   \n",
       "\n",
       "          16  \n",
       "0  125876.24  \n",
       "1  111311.84  \n",
       "2   98425.38  \n",
       "3   88527.77  \n",
       "4   81449.29  "
      ]
     },
     "execution_count": 15,
     "metadata": {},
     "output_type": "execute_result"
    }
   ],
   "source": [
    "data = pd.read_excel('ELE.xlsx', header=None)  \n",
    "data.head()"
   ]
  },
  {
   "cell_type": "code",
   "execution_count": 16,
   "metadata": {},
   "outputs": [
    {
     "data": {
      "text/html": [
       "<div>\n",
       "<style scoped>\n",
       "    .dataframe tbody tr th:only-of-type {\n",
       "        vertical-align: middle;\n",
       "    }\n",
       "\n",
       "    .dataframe tbody tr th {\n",
       "        vertical-align: top;\n",
       "    }\n",
       "\n",
       "    .dataframe thead th {\n",
       "        text-align: right;\n",
       "    }\n",
       "</style>\n",
       "<table border=\"1\" class=\"dataframe\">\n",
       "  <thead>\n",
       "    <tr style=\"text-align: right;\">\n",
       "      <th></th>\n",
       "      <th>col0</th>\n",
       "      <th>col1</th>\n",
       "      <th>col2</th>\n",
       "      <th>col3</th>\n",
       "      <th>col4</th>\n",
       "      <th>col5</th>\n",
       "      <th>col6</th>\n",
       "      <th>col7</th>\n",
       "      <th>col8</th>\n",
       "      <th>col9</th>\n",
       "      <th>col10</th>\n",
       "      <th>col11</th>\n",
       "      <th>col12</th>\n",
       "      <th>col13</th>\n",
       "      <th>col14</th>\n",
       "      <th>col15</th>\n",
       "      <th>col16</th>\n",
       "    </tr>\n",
       "  </thead>\n",
       "  <tbody>\n",
       "    <tr>\n",
       "      <td>0</td>\n",
       "      <td>1.589902</td>\n",
       "      <td>1.767913</td>\n",
       "      <td>1.181182</td>\n",
       "      <td>-0.261505</td>\n",
       "      <td>-0.545621</td>\n",
       "      <td>-1.477161</td>\n",
       "      <td>1.100585</td>\n",
       "      <td>1.643671</td>\n",
       "      <td>-1.140567</td>\n",
       "      <td>1.633911</td>\n",
       "      <td>1.698156</td>\n",
       "      <td>-1.119292</td>\n",
       "      <td>1.505866</td>\n",
       "      <td>0.920273</td>\n",
       "      <td>1.705030</td>\n",
       "      <td>0.587150</td>\n",
       "      <td>0.819756</td>\n",
       "    </tr>\n",
       "    <tr>\n",
       "      <td>1</td>\n",
       "      <td>1.205638</td>\n",
       "      <td>2.179165</td>\n",
       "      <td>1.013453</td>\n",
       "      <td>-0.471455</td>\n",
       "      <td>-0.790797</td>\n",
       "      <td>-1.088177</td>\n",
       "      <td>1.007666</td>\n",
       "      <td>1.003397</td>\n",
       "      <td>-1.061635</td>\n",
       "      <td>0.852902</td>\n",
       "      <td>0.801972</td>\n",
       "      <td>-1.138869</td>\n",
       "      <td>0.969814</td>\n",
       "      <td>0.914513</td>\n",
       "      <td>0.967819</td>\n",
       "      <td>0.504454</td>\n",
       "      <td>0.300886</td>\n",
       "    </tr>\n",
       "    <tr>\n",
       "      <td>2</td>\n",
       "      <td>1.299820</td>\n",
       "      <td>2.002201</td>\n",
       "      <td>0.816961</td>\n",
       "      <td>-0.690220</td>\n",
       "      <td>-1.211711</td>\n",
       "      <td>-0.919548</td>\n",
       "      <td>1.038247</td>\n",
       "      <td>-0.043131</td>\n",
       "      <td>-1.148219</td>\n",
       "      <td>0.115668</td>\n",
       "      <td>0.027952</td>\n",
       "      <td>-1.183342</td>\n",
       "      <td>0.512693</td>\n",
       "      <td>0.938544</td>\n",
       "      <td>0.166930</td>\n",
       "      <td>0.502719</td>\n",
       "      <td>-0.158206</td>\n",
       "    </tr>\n",
       "    <tr>\n",
       "      <td>3</td>\n",
       "      <td>0.786213</td>\n",
       "      <td>0.869418</td>\n",
       "      <td>2.306543</td>\n",
       "      <td>-0.832828</td>\n",
       "      <td>-1.177139</td>\n",
       "      <td>-0.447652</td>\n",
       "      <td>1.133126</td>\n",
       "      <td>-1.128932</td>\n",
       "      <td>-1.165939</td>\n",
       "      <td>-0.354057</td>\n",
       "      <td>-0.448616</td>\n",
       "      <td>-1.233019</td>\n",
       "      <td>0.101572</td>\n",
       "      <td>0.946184</td>\n",
       "      <td>-0.318993</td>\n",
       "      <td>0.652456</td>\n",
       "      <td>-0.510818</td>\n",
       "    </tr>\n",
       "    <tr>\n",
       "      <td>4</td>\n",
       "      <td>1.149129</td>\n",
       "      <td>0.046651</td>\n",
       "      <td>0.979846</td>\n",
       "      <td>-1.040067</td>\n",
       "      <td>-1.338062</td>\n",
       "      <td>-0.468850</td>\n",
       "      <td>1.042560</td>\n",
       "      <td>-0.126631</td>\n",
       "      <td>-1.215741</td>\n",
       "      <td>-0.732671</td>\n",
       "      <td>-0.759173</td>\n",
       "      <td>-1.258820</td>\n",
       "      <td>-0.316084</td>\n",
       "      <td>0.910703</td>\n",
       "      <td>-0.803922</td>\n",
       "      <td>0.629662</td>\n",
       "      <td>-0.762996</td>\n",
       "    </tr>\n",
       "  </tbody>\n",
       "</table>\n",
       "</div>"
      ],
      "text/plain": [
       "       col0      col1      col2      col3      col4      col5      col6  \\\n",
       "0  1.589902  1.767913  1.181182 -0.261505 -0.545621 -1.477161  1.100585   \n",
       "1  1.205638  2.179165  1.013453 -0.471455 -0.790797 -1.088177  1.007666   \n",
       "2  1.299820  2.002201  0.816961 -0.690220 -1.211711 -0.919548  1.038247   \n",
       "3  0.786213  0.869418  2.306543 -0.832828 -1.177139 -0.447652  1.133126   \n",
       "4  1.149129  0.046651  0.979846 -1.040067 -1.338062 -0.468850  1.042560   \n",
       "\n",
       "       col7      col8      col9     col10     col11     col12     col13  \\\n",
       "0  1.643671 -1.140567  1.633911  1.698156 -1.119292  1.505866  0.920273   \n",
       "1  1.003397 -1.061635  0.852902  0.801972 -1.138869  0.969814  0.914513   \n",
       "2 -0.043131 -1.148219  0.115668  0.027952 -1.183342  0.512693  0.938544   \n",
       "3 -1.128932 -1.165939 -0.354057 -0.448616 -1.233019  0.101572  0.946184   \n",
       "4 -0.126631 -1.215741 -0.732671 -0.759173 -1.258820 -0.316084  0.910703   \n",
       "\n",
       "      col14     col15     col16  \n",
       "0  1.705030  0.587150  0.819756  \n",
       "1  0.967819  0.504454  0.300886  \n",
       "2  0.166930  0.502719 -0.158206  \n",
       "3 -0.318993  0.652456 -0.510818  \n",
       "4 -0.803922  0.629662 -0.762996  "
      ]
     },
     "execution_count": 16,
     "metadata": {},
     "output_type": "execute_result"
    }
   ],
   "source": [
    "data_scaled = preprocessing.scale(data)\n",
    "data = pd.DataFrame(data_scaled)\n",
    "data.columns = ['col0', 'col1', 'col2', 'col3', 'col4', 'col5', 'col6', 'col7', 'col8', 'col9', 'col10', 'col11', 'col12', 'col13', 'col14', 'col15', 'col16']\n",
    "data.head()"
   ]
  },
  {
   "cell_type": "code",
   "execution_count": 17,
   "metadata": {},
   "outputs": [
    {
     "data": {
      "text/html": [
       "<div>\n",
       "<style scoped>\n",
       "    .dataframe tbody tr th:only-of-type {\n",
       "        vertical-align: middle;\n",
       "    }\n",
       "\n",
       "    .dataframe tbody tr th {\n",
       "        vertical-align: top;\n",
       "    }\n",
       "\n",
       "    .dataframe thead th {\n",
       "        text-align: right;\n",
       "    }\n",
       "</style>\n",
       "<table border=\"1\" class=\"dataframe\">\n",
       "  <thead>\n",
       "    <tr style=\"text-align: right;\">\n",
       "      <th></th>\n",
       "      <th>col0</th>\n",
       "      <th>col1</th>\n",
       "      <th>col2</th>\n",
       "      <th>col3</th>\n",
       "      <th>col4</th>\n",
       "      <th>col5</th>\n",
       "      <th>col6</th>\n",
       "      <th>col7</th>\n",
       "      <th>col8</th>\n",
       "      <th>col9</th>\n",
       "      <th>col10</th>\n",
       "      <th>col11</th>\n",
       "      <th>col12</th>\n",
       "      <th>col13</th>\n",
       "      <th>col14</th>\n",
       "      <th>col15</th>\n",
       "      <th>col16</th>\n",
       "    </tr>\n",
       "  </thead>\n",
       "  <tbody>\n",
       "    <tr>\n",
       "      <td>count</td>\n",
       "      <td>2.400000e+01</td>\n",
       "      <td>2.400000e+01</td>\n",
       "      <td>2.400000e+01</td>\n",
       "      <td>2.400000e+01</td>\n",
       "      <td>2.400000e+01</td>\n",
       "      <td>2.400000e+01</td>\n",
       "      <td>2.400000e+01</td>\n",
       "      <td>2.400000e+01</td>\n",
       "      <td>2.400000e+01</td>\n",
       "      <td>2.400000e+01</td>\n",
       "      <td>2.400000e+01</td>\n",
       "      <td>2.400000e+01</td>\n",
       "      <td>2.400000e+01</td>\n",
       "      <td>2.400000e+01</td>\n",
       "      <td>2.400000e+01</td>\n",
       "      <td>2.400000e+01</td>\n",
       "      <td>2.400000e+01</td>\n",
       "    </tr>\n",
       "    <tr>\n",
       "      <td>mean</td>\n",
       "      <td>6.221875e-16</td>\n",
       "      <td>8.511710e-16</td>\n",
       "      <td>-5.111652e-16</td>\n",
       "      <td>7.147061e-16</td>\n",
       "      <td>9.390636e-16</td>\n",
       "      <td>-5.181041e-16</td>\n",
       "      <td>-1.184238e-15</td>\n",
       "      <td>-2.960595e-16</td>\n",
       "      <td>-3.411623e-16</td>\n",
       "      <td>5.551115e-17</td>\n",
       "      <td>4.949744e-16</td>\n",
       "      <td>-4.348374e-16</td>\n",
       "      <td>8.234154e-16</td>\n",
       "      <td>-1.017704e-16</td>\n",
       "      <td>-3.885781e-16</td>\n",
       "      <td>1.202742e-16</td>\n",
       "      <td>-1.619075e-16</td>\n",
       "    </tr>\n",
       "    <tr>\n",
       "      <td>std</td>\n",
       "      <td>1.021508e+00</td>\n",
       "      <td>1.021508e+00</td>\n",
       "      <td>1.021508e+00</td>\n",
       "      <td>1.021508e+00</td>\n",
       "      <td>1.021508e+00</td>\n",
       "      <td>1.021508e+00</td>\n",
       "      <td>1.021508e+00</td>\n",
       "      <td>1.021508e+00</td>\n",
       "      <td>1.021508e+00</td>\n",
       "      <td>1.021508e+00</td>\n",
       "      <td>1.021508e+00</td>\n",
       "      <td>1.021508e+00</td>\n",
       "      <td>1.021508e+00</td>\n",
       "      <td>1.021508e+00</td>\n",
       "      <td>1.021508e+00</td>\n",
       "      <td>1.021508e+00</td>\n",
       "      <td>1.021508e+00</td>\n",
       "    </tr>\n",
       "    <tr>\n",
       "      <td>min</td>\n",
       "      <td>-1.719036e+00</td>\n",
       "      <td>-1.371431e+00</td>\n",
       "      <td>-2.642985e+00</td>\n",
       "      <td>-1.743802e+00</td>\n",
       "      <td>-1.609519e+00</td>\n",
       "      <td>-1.477161e+00</td>\n",
       "      <td>-1.216113e+00</td>\n",
       "      <td>-1.128932e+00</td>\n",
       "      <td>-1.865924e+00</td>\n",
       "      <td>-1.500107e+00</td>\n",
       "      <td>-1.277586e+00</td>\n",
       "      <td>-1.258820e+00</td>\n",
       "      <td>-1.457710e+00</td>\n",
       "      <td>-1.167851e+00</td>\n",
       "      <td>-1.192543e+00</td>\n",
       "      <td>-1.317090e+00</td>\n",
       "      <td>-1.027256e+00</td>\n",
       "    </tr>\n",
       "    <tr>\n",
       "      <td>25%</td>\n",
       "      <td>-7.966776e-01</td>\n",
       "      <td>-7.084714e-01</td>\n",
       "      <td>-4.416897e-01</td>\n",
       "      <td>-7.669715e-01</td>\n",
       "      <td>-8.741976e-01</td>\n",
       "      <td>-7.203212e-01</td>\n",
       "      <td>-1.041449e+00</td>\n",
       "      <td>-6.943974e-01</td>\n",
       "      <td>-1.142480e+00</td>\n",
       "      <td>-7.335006e-01</td>\n",
       "      <td>-6.998767e-01</td>\n",
       "      <td>-1.119335e+00</td>\n",
       "      <td>-8.069205e-01</td>\n",
       "      <td>-9.774247e-01</td>\n",
       "      <td>-5.984629e-01</td>\n",
       "      <td>-8.869988e-01</td>\n",
       "      <td>-6.334427e-01</td>\n",
       "    </tr>\n",
       "    <tr>\n",
       "      <td>50%</td>\n",
       "      <td>-5.891626e-02</td>\n",
       "      <td>-2.712535e-01</td>\n",
       "      <td>1.723842e-01</td>\n",
       "      <td>9.939320e-02</td>\n",
       "      <td>2.281226e-01</td>\n",
       "      <td>-3.532649e-01</td>\n",
       "      <td>-7.266226e-02</td>\n",
       "      <td>-2.898236e-01</td>\n",
       "      <td>4.044154e-01</td>\n",
       "      <td>-3.321481e-01</td>\n",
       "      <td>-2.952261e-01</td>\n",
       "      <td>-9.887467e-03</td>\n",
       "      <td>2.564608e-02</td>\n",
       "      <td>4.928955e-03</td>\n",
       "      <td>-4.131819e-01</td>\n",
       "      <td>-1.650446e-01</td>\n",
       "      <td>-3.725190e-01</td>\n",
       "    </tr>\n",
       "    <tr>\n",
       "      <td>75%</td>\n",
       "      <td>9.230912e-01</td>\n",
       "      <td>5.597958e-01</td>\n",
       "      <td>5.932970e-01</td>\n",
       "      <td>6.905324e-01</td>\n",
       "      <td>9.081910e-01</td>\n",
       "      <td>8.686344e-01</td>\n",
       "      <td>1.052067e+00</td>\n",
       "      <td>2.462306e-01</td>\n",
       "      <td>7.067202e-01</td>\n",
       "      <td>2.259999e-01</td>\n",
       "      <td>2.404547e-01</td>\n",
       "      <td>9.401581e-01</td>\n",
       "      <td>7.782361e-01</td>\n",
       "      <td>9.614543e-01</td>\n",
       "      <td>3.671523e-01</td>\n",
       "      <td>7.356548e-01</td>\n",
       "      <td>3.123819e-01</td>\n",
       "    </tr>\n",
       "    <tr>\n",
       "      <td>max</td>\n",
       "      <td>1.589902e+00</td>\n",
       "      <td>2.179165e+00</td>\n",
       "      <td>2.306543e+00</td>\n",
       "      <td>1.807086e+00</td>\n",
       "      <td>1.624507e+00</td>\n",
       "      <td>1.879333e+00</td>\n",
       "      <td>1.243296e+00</td>\n",
       "      <td>2.742056e+00</td>\n",
       "      <td>1.551113e+00</td>\n",
       "      <td>2.661845e+00</td>\n",
       "      <td>2.306264e+00</td>\n",
       "      <td>1.474364e+00</td>\n",
       "      <td>1.855306e+00</td>\n",
       "      <td>1.140507e+00</td>\n",
       "      <td>2.395573e+00</td>\n",
       "      <td>1.797179e+00</td>\n",
       "      <td>2.539698e+00</td>\n",
       "    </tr>\n",
       "  </tbody>\n",
       "</table>\n",
       "</div>"
      ],
      "text/plain": [
       "               col0          col1          col2          col3          col4  \\\n",
       "count  2.400000e+01  2.400000e+01  2.400000e+01  2.400000e+01  2.400000e+01   \n",
       "mean   6.221875e-16  8.511710e-16 -5.111652e-16  7.147061e-16  9.390636e-16   \n",
       "std    1.021508e+00  1.021508e+00  1.021508e+00  1.021508e+00  1.021508e+00   \n",
       "min   -1.719036e+00 -1.371431e+00 -2.642985e+00 -1.743802e+00 -1.609519e+00   \n",
       "25%   -7.966776e-01 -7.084714e-01 -4.416897e-01 -7.669715e-01 -8.741976e-01   \n",
       "50%   -5.891626e-02 -2.712535e-01  1.723842e-01  9.939320e-02  2.281226e-01   \n",
       "75%    9.230912e-01  5.597958e-01  5.932970e-01  6.905324e-01  9.081910e-01   \n",
       "max    1.589902e+00  2.179165e+00  2.306543e+00  1.807086e+00  1.624507e+00   \n",
       "\n",
       "               col5          col6          col7          col8          col9  \\\n",
       "count  2.400000e+01  2.400000e+01  2.400000e+01  2.400000e+01  2.400000e+01   \n",
       "mean  -5.181041e-16 -1.184238e-15 -2.960595e-16 -3.411623e-16  5.551115e-17   \n",
       "std    1.021508e+00  1.021508e+00  1.021508e+00  1.021508e+00  1.021508e+00   \n",
       "min   -1.477161e+00 -1.216113e+00 -1.128932e+00 -1.865924e+00 -1.500107e+00   \n",
       "25%   -7.203212e-01 -1.041449e+00 -6.943974e-01 -1.142480e+00 -7.335006e-01   \n",
       "50%   -3.532649e-01 -7.266226e-02 -2.898236e-01  4.044154e-01 -3.321481e-01   \n",
       "75%    8.686344e-01  1.052067e+00  2.462306e-01  7.067202e-01  2.259999e-01   \n",
       "max    1.879333e+00  1.243296e+00  2.742056e+00  1.551113e+00  2.661845e+00   \n",
       "\n",
       "              col10         col11         col12         col13         col14  \\\n",
       "count  2.400000e+01  2.400000e+01  2.400000e+01  2.400000e+01  2.400000e+01   \n",
       "mean   4.949744e-16 -4.348374e-16  8.234154e-16 -1.017704e-16 -3.885781e-16   \n",
       "std    1.021508e+00  1.021508e+00  1.021508e+00  1.021508e+00  1.021508e+00   \n",
       "min   -1.277586e+00 -1.258820e+00 -1.457710e+00 -1.167851e+00 -1.192543e+00   \n",
       "25%   -6.998767e-01 -1.119335e+00 -8.069205e-01 -9.774247e-01 -5.984629e-01   \n",
       "50%   -2.952261e-01 -9.887467e-03  2.564608e-02  4.928955e-03 -4.131819e-01   \n",
       "75%    2.404547e-01  9.401581e-01  7.782361e-01  9.614543e-01  3.671523e-01   \n",
       "max    2.306264e+00  1.474364e+00  1.855306e+00  1.140507e+00  2.395573e+00   \n",
       "\n",
       "              col15         col16  \n",
       "count  2.400000e+01  2.400000e+01  \n",
       "mean   1.202742e-16 -1.619075e-16  \n",
       "std    1.021508e+00  1.021508e+00  \n",
       "min   -1.317090e+00 -1.027256e+00  \n",
       "25%   -8.869988e-01 -6.334427e-01  \n",
       "50%   -1.650446e-01 -3.725190e-01  \n",
       "75%    7.356548e-01  3.123819e-01  \n",
       "max    1.797179e+00  2.539698e+00  "
      ]
     },
     "execution_count": 17,
     "metadata": {},
     "output_type": "execute_result"
    }
   ],
   "source": [
    "data.describe()"
   ]
  },
  {
   "cell_type": "code",
   "execution_count": 18,
   "metadata": {},
   "outputs": [],
   "source": [
    "indexes = data[(data['col4'] >= -1.60) & (data['col4'] <= -1.19)].index"
   ]
  },
  {
   "cell_type": "code",
   "execution_count": 19,
   "metadata": {},
   "outputs": [
    {
     "data": {
      "text/html": [
       "<div>\n",
       "<style scoped>\n",
       "    .dataframe tbody tr th:only-of-type {\n",
       "        vertical-align: middle;\n",
       "    }\n",
       "\n",
       "    .dataframe tbody tr th {\n",
       "        vertical-align: top;\n",
       "    }\n",
       "\n",
       "    .dataframe thead th {\n",
       "        text-align: right;\n",
       "    }\n",
       "</style>\n",
       "<table border=\"1\" class=\"dataframe\">\n",
       "  <thead>\n",
       "    <tr style=\"text-align: right;\">\n",
       "      <th></th>\n",
       "      <th>col0</th>\n",
       "      <th>col1</th>\n",
       "      <th>col2</th>\n",
       "      <th>col3</th>\n",
       "      <th>col4</th>\n",
       "      <th>col5</th>\n",
       "      <th>col6</th>\n",
       "      <th>col7</th>\n",
       "      <th>col8</th>\n",
       "      <th>col9</th>\n",
       "      <th>col10</th>\n",
       "      <th>col11</th>\n",
       "      <th>col12</th>\n",
       "      <th>col13</th>\n",
       "      <th>col14</th>\n",
       "      <th>col15</th>\n",
       "      <th>col16</th>\n",
       "      <th>y</th>\n",
       "    </tr>\n",
       "  </thead>\n",
       "  <tbody>\n",
       "    <tr>\n",
       "      <td>0</td>\n",
       "      <td>1.589902</td>\n",
       "      <td>1.767913</td>\n",
       "      <td>1.181182</td>\n",
       "      <td>-0.261505</td>\n",
       "      <td>-0.545621</td>\n",
       "      <td>-1.477161</td>\n",
       "      <td>1.100585</td>\n",
       "      <td>1.643671</td>\n",
       "      <td>-1.140567</td>\n",
       "      <td>1.633911</td>\n",
       "      <td>1.698156</td>\n",
       "      <td>-1.119292</td>\n",
       "      <td>1.505866</td>\n",
       "      <td>0.920273</td>\n",
       "      <td>1.705030</td>\n",
       "      <td>0.587150</td>\n",
       "      <td>0.819756</td>\n",
       "      <td>1.0</td>\n",
       "    </tr>\n",
       "    <tr>\n",
       "      <td>1</td>\n",
       "      <td>1.205638</td>\n",
       "      <td>2.179165</td>\n",
       "      <td>1.013453</td>\n",
       "      <td>-0.471455</td>\n",
       "      <td>-0.790797</td>\n",
       "      <td>-1.088177</td>\n",
       "      <td>1.007666</td>\n",
       "      <td>1.003397</td>\n",
       "      <td>-1.061635</td>\n",
       "      <td>0.852902</td>\n",
       "      <td>0.801972</td>\n",
       "      <td>-1.138869</td>\n",
       "      <td>0.969814</td>\n",
       "      <td>0.914513</td>\n",
       "      <td>0.967819</td>\n",
       "      <td>0.504454</td>\n",
       "      <td>0.300886</td>\n",
       "      <td>0.0</td>\n",
       "    </tr>\n",
       "    <tr>\n",
       "      <td>2</td>\n",
       "      <td>1.299820</td>\n",
       "      <td>2.002201</td>\n",
       "      <td>0.816961</td>\n",
       "      <td>-0.690220</td>\n",
       "      <td>-1.211711</td>\n",
       "      <td>-0.919548</td>\n",
       "      <td>1.038247</td>\n",
       "      <td>-0.043131</td>\n",
       "      <td>-1.148219</td>\n",
       "      <td>0.115668</td>\n",
       "      <td>0.027952</td>\n",
       "      <td>-1.183342</td>\n",
       "      <td>0.512693</td>\n",
       "      <td>0.938544</td>\n",
       "      <td>0.166930</td>\n",
       "      <td>0.502719</td>\n",
       "      <td>-0.158206</td>\n",
       "      <td>0.0</td>\n",
       "    </tr>\n",
       "    <tr>\n",
       "      <td>3</td>\n",
       "      <td>0.786213</td>\n",
       "      <td>0.869418</td>\n",
       "      <td>2.306543</td>\n",
       "      <td>-0.832828</td>\n",
       "      <td>-1.177139</td>\n",
       "      <td>-0.447652</td>\n",
       "      <td>1.133126</td>\n",
       "      <td>-1.128932</td>\n",
       "      <td>-1.165939</td>\n",
       "      <td>-0.354057</td>\n",
       "      <td>-0.448616</td>\n",
       "      <td>-1.233019</td>\n",
       "      <td>0.101572</td>\n",
       "      <td>0.946184</td>\n",
       "      <td>-0.318993</td>\n",
       "      <td>0.652456</td>\n",
       "      <td>-0.510818</td>\n",
       "      <td>0.0</td>\n",
       "    </tr>\n",
       "    <tr>\n",
       "      <td>4</td>\n",
       "      <td>1.149129</td>\n",
       "      <td>0.046651</td>\n",
       "      <td>0.979846</td>\n",
       "      <td>-1.040067</td>\n",
       "      <td>-1.338062</td>\n",
       "      <td>-0.468850</td>\n",
       "      <td>1.042560</td>\n",
       "      <td>-0.126631</td>\n",
       "      <td>-1.215741</td>\n",
       "      <td>-0.732671</td>\n",
       "      <td>-0.759173</td>\n",
       "      <td>-1.258820</td>\n",
       "      <td>-0.316084</td>\n",
       "      <td>0.910703</td>\n",
       "      <td>-0.803922</td>\n",
       "      <td>0.629662</td>\n",
       "      <td>-0.762996</td>\n",
       "      <td>0.0</td>\n",
       "    </tr>\n",
       "  </tbody>\n",
       "</table>\n",
       "</div>"
      ],
      "text/plain": [
       "       col0      col1      col2      col3      col4      col5      col6  \\\n",
       "0  1.589902  1.767913  1.181182 -0.261505 -0.545621 -1.477161  1.100585   \n",
       "1  1.205638  2.179165  1.013453 -0.471455 -0.790797 -1.088177  1.007666   \n",
       "2  1.299820  2.002201  0.816961 -0.690220 -1.211711 -0.919548  1.038247   \n",
       "3  0.786213  0.869418  2.306543 -0.832828 -1.177139 -0.447652  1.133126   \n",
       "4  1.149129  0.046651  0.979846 -1.040067 -1.338062 -0.468850  1.042560   \n",
       "\n",
       "       col7      col8      col9     col10     col11     col12     col13  \\\n",
       "0  1.643671 -1.140567  1.633911  1.698156 -1.119292  1.505866  0.920273   \n",
       "1  1.003397 -1.061635  0.852902  0.801972 -1.138869  0.969814  0.914513   \n",
       "2 -0.043131 -1.148219  0.115668  0.027952 -1.183342  0.512693  0.938544   \n",
       "3 -1.128932 -1.165939 -0.354057 -0.448616 -1.233019  0.101572  0.946184   \n",
       "4 -0.126631 -1.215741 -0.732671 -0.759173 -1.258820 -0.316084  0.910703   \n",
       "\n",
       "      col14     col15     col16    y  \n",
       "0  1.705030  0.587150  0.819756  1.0  \n",
       "1  0.967819  0.504454  0.300886  0.0  \n",
       "2  0.166930  0.502719 -0.158206  0.0  \n",
       "3 -0.318993  0.652456 -0.510818  0.0  \n",
       "4 -0.803922  0.629662 -0.762996  0.0  "
      ]
     },
     "execution_count": 19,
     "metadata": {},
     "output_type": "execute_result"
    }
   ],
   "source": [
    "data.loc[(data['col4'] >= -1.61) & (data['col4'] <= -0.785), 'y'] = 0\n",
    "data.loc[(data['col4'] > -0.785) & (data['col4'] <= 0.438), 'y'] = 1\n",
    "data.loc[(data['col4'] > -0.03) & (data['col4'] <= 0.845), 'y'] = 2\n",
    "data.loc[(data['col4'] > 0.845) & (data['col4'] <= 1.66), 'y'] = 3\n",
    "data.head()"
   ]
  },
  {
   "cell_type": "code",
   "execution_count": 20,
   "metadata": {},
   "outputs": [],
   "source": [
    "X = data.drop(['col4', 'y'], axis=1)\n",
    "y = data['y'].astype(int) #Según el punto 6 es la variable más explicada por las demás"
   ]
  },
  {
   "cell_type": "code",
   "execution_count": 21,
   "metadata": {},
   "outputs": [],
   "source": [
    "X_train, X_test, y_train, y_test = train_test_split(X, y, test_size=0.3, random_state=0, stratify=y)"
   ]
  },
  {
   "cell_type": "code",
   "execution_count": 22,
   "metadata": {},
   "outputs": [],
   "source": [
    "clf = RandomForestClassifier(max_depth=3, random_state=0)\n",
    "clf.fit(X_train, y_train)\n",
    "predicts = clf.predict(X_test)"
   ]
  },
  {
   "cell_type": "code",
   "execution_count": 23,
   "metadata": {},
   "outputs": [
    {
     "name": "stdout",
     "output_type": "stream",
     "text": [
      "Accuracy Test: 0.75\n"
     ]
    }
   ],
   "source": [
    "print(\"Accuracy Test:\",accuracy_score(y_test, predicts))"
   ]
  },
  {
   "cell_type": "code",
   "execution_count": 24,
   "metadata": {},
   "outputs": [
    {
     "name": "stdout",
     "output_type": "stream",
     "text": [
      "Accuracy Train: 1.0\n"
     ]
    }
   ],
   "source": [
    "predicts = clf.predict(X_train)\n",
    "print(\"Accuracy Train:\",accuracy_score(y_train, predicts))"
   ]
  },
  {
   "cell_type": "markdown",
   "metadata": {},
   "source": [
    "Se pueden borrar las siguientes variables:\n",
    "- columna 4. \n",
    "- columna 6.\n",
    "- columna 7.\n",
    "- columna 14.\n",
    "- columna 16."
   ]
  },
  {
   "cell_type": "code",
   "execution_count": 25,
   "metadata": {},
   "outputs": [],
   "source": [
    "X = data.drop(['col4', 'y','col4','col6','col7','col14', 'col16'], axis=1)\n",
    "y = data['y'].astype(int) #Según el punto 6 es la variable más explicada por las demás"
   ]
  },
  {
   "cell_type": "code",
   "execution_count": 26,
   "metadata": {},
   "outputs": [],
   "source": [
    "X_train, X_test, y_train, y_test = train_test_split(X, y, test_size=0.3, random_state=0, stratify=y)"
   ]
  },
  {
   "cell_type": "code",
   "execution_count": 27,
   "metadata": {},
   "outputs": [],
   "source": [
    "clf = RandomForestClassifier(max_depth=3, random_state=0)\n",
    "clf.fit(X_train, y_train)\n",
    "predicts = clf.predict(X_test)"
   ]
  },
  {
   "cell_type": "code",
   "execution_count": 28,
   "metadata": {},
   "outputs": [
    {
     "name": "stdout",
     "output_type": "stream",
     "text": [
      "Accuracy Test: 0.75\n"
     ]
    }
   ],
   "source": [
    "print(\"Accuracy Test:\",metrics.accuracy_score(y_test, predicts))"
   ]
  },
  {
   "cell_type": "code",
   "execution_count": 29,
   "metadata": {},
   "outputs": [
    {
     "name": "stdout",
     "output_type": "stream",
     "text": [
      "Accuracy Train: 1.0\n"
     ]
    }
   ],
   "source": [
    "predicts = clf.predict(X_train)\n",
    "print(\"Accuracy Train:\",accuracy_score(y_train, predicts))"
   ]
  },
  {
   "cell_type": "markdown",
   "metadata": {},
   "source": [
    "# Punto 8"
   ]
  },
  {
   "cell_type": "code",
   "execution_count": null,
   "metadata": {},
   "outputs": [],
   "source": []
  }
 ],
 "metadata": {
  "kernelspec": {
   "display_name": "Python 3",
   "language": "python",
   "name": "python3"
  },
  "language_info": {
   "codemirror_mode": {
    "name": "ipython",
    "version": 3
   },
   "file_extension": ".py",
   "mimetype": "text/x-python",
   "name": "python",
   "nbconvert_exporter": "python",
   "pygments_lexer": "ipython3",
   "version": "3.7.4"
  }
 },
 "nbformat": 4,
 "nbformat_minor": 2
}
