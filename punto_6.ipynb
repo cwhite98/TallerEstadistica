{
 "metadata": {
  "language_info": {
   "codemirror_mode": {
    "name": "ipython",
    "version": 3
   },
   "file_extension": ".py",
   "mimetype": "text/x-python",
   "name": "python",
   "nbconvert_exporter": "python",
   "pygments_lexer": "ipython3",
   "version": "3.7.6-final"
  },
  "orig_nbformat": 2,
  "kernelspec": {
   "name": "Python 3.7.6 64-bit ('base': conda)",
   "display_name": "Python 3.7.6 64-bit ('base': conda)",
   "metadata": {
    "interpreter": {
     "hash": "0ce27c422fe6c23518cd38f8d310a8b97d23bba175c043e45fdb6ae64d3e1088"
    }
   }
  }
 },
 "nbformat": 4,
 "nbformat_minor": 2,
 "cells": [
  {
   "cell_type": "code",
   "execution_count": 1,
   "metadata": {},
   "outputs": [],
   "source": [
    "import pandas as pd\n",
    "import numpy as np\n",
    "import plotly.express as px\n",
    "from sklearn import linear_model\n",
    "from scipy import stats\n",
    "import pingouin as pg"
   ]
  },
  {
   "cell_type": "code",
   "execution_count": 2,
   "metadata": {},
   "outputs": [
    {
     "output_type": "execute_result",
     "data": {
      "text/plain": [
       "      0       1       2         3        4          5       6         7   \\\n",
       "0  82.23  333.65  125.95  12231.27  1110.97  105069.63  263.66  77811.79   \n",
       "1  79.17  349.29  120.41  11977.18  1069.27  107210.46  261.29  69254.01   \n",
       "2  79.92  342.56  113.92  11712.42   997.68  108138.53  262.07  55266.32   \n",
       "\n",
       "       8          9          10      11      12       13        14       15  \\\n",
       "0  423.50  112743.19  823200.19  403.91  982.62  3955.22  19381.56  4324.97   \n",
       "1  435.26   98112.25  705245.02  400.45  962.11  3946.92  17222.31  4262.06   \n",
       "2  422.36   84301.39  603368.98  392.59  944.62  3981.55  14876.55  4260.74   \n",
       "\n",
       "          16  \n",
       "0  125876.24  \n",
       "1  111311.84  \n",
       "2   98425.38  "
      ],
      "text/html": "<div>\n<style scoped>\n    .dataframe tbody tr th:only-of-type {\n        vertical-align: middle;\n    }\n\n    .dataframe tbody tr th {\n        vertical-align: top;\n    }\n\n    .dataframe thead th {\n        text-align: right;\n    }\n</style>\n<table border=\"1\" class=\"dataframe\">\n  <thead>\n    <tr style=\"text-align: right;\">\n      <th></th>\n      <th>0</th>\n      <th>1</th>\n      <th>2</th>\n      <th>3</th>\n      <th>4</th>\n      <th>5</th>\n      <th>6</th>\n      <th>7</th>\n      <th>8</th>\n      <th>9</th>\n      <th>10</th>\n      <th>11</th>\n      <th>12</th>\n      <th>13</th>\n      <th>14</th>\n      <th>15</th>\n      <th>16</th>\n    </tr>\n  </thead>\n  <tbody>\n    <tr>\n      <th>0</th>\n      <td>82.23</td>\n      <td>333.65</td>\n      <td>125.95</td>\n      <td>12231.27</td>\n      <td>1110.97</td>\n      <td>105069.63</td>\n      <td>263.66</td>\n      <td>77811.79</td>\n      <td>423.50</td>\n      <td>112743.19</td>\n      <td>823200.19</td>\n      <td>403.91</td>\n      <td>982.62</td>\n      <td>3955.22</td>\n      <td>19381.56</td>\n      <td>4324.97</td>\n      <td>125876.24</td>\n    </tr>\n    <tr>\n      <th>1</th>\n      <td>79.17</td>\n      <td>349.29</td>\n      <td>120.41</td>\n      <td>11977.18</td>\n      <td>1069.27</td>\n      <td>107210.46</td>\n      <td>261.29</td>\n      <td>69254.01</td>\n      <td>435.26</td>\n      <td>98112.25</td>\n      <td>705245.02</td>\n      <td>400.45</td>\n      <td>962.11</td>\n      <td>3946.92</td>\n      <td>17222.31</td>\n      <td>4262.06</td>\n      <td>111311.84</td>\n    </tr>\n    <tr>\n      <th>2</th>\n      <td>79.92</td>\n      <td>342.56</td>\n      <td>113.92</td>\n      <td>11712.42</td>\n      <td>997.68</td>\n      <td>108138.53</td>\n      <td>262.07</td>\n      <td>55266.32</td>\n      <td>422.36</td>\n      <td>84301.39</td>\n      <td>603368.98</td>\n      <td>392.59</td>\n      <td>944.62</td>\n      <td>3981.55</td>\n      <td>14876.55</td>\n      <td>4260.74</td>\n      <td>98425.38</td>\n    </tr>\n  </tbody>\n</table>\n</div>"
     },
     "metadata": {},
     "execution_count": 2
    }
   ],
   "source": [
    "df = pd.read_excel('ELE.xlsx', header=None)\n",
    "df.head(3)"
   ]
  },
  {
   "cell_type": "code",
   "execution_count": 3,
   "metadata": {},
   "outputs": [
    {
     "output_type": "display_data",
     "data": {
      "application/vnd.plotly.v1+json": {
       "config": {
        "plotlyServerURL": "https://plot.ly"
       },
       "data": [
        {
         "dimensions": [
          {
           "axis": {
            "matches": true
           },
           "label": "0",
           "values": [
            82.23,
            79.17,
            79.92,
            75.83,
            78.72,
            78.63,
            57.92,
            66.01,
            76.3,
            65.28,
            65.82,
            72.96,
            58.86,
            60.42,
            60.3,
            55.88,
            63.88,
            61.26,
            70.44,
            78.91,
            76.35,
            70.07,
            68.13,
            66.37
           ]
          },
          {
           "axis": {
            "matches": true
           },
           "label": "1",
           "values": [
            333.65,
            349.29,
            342.56,
            299.48,
            268.19,
            255.96,
            228.26,
            244.11,
            262,
            268.21,
            253.88,
            238.82,
            222.1,
            248.11,
            307.05,
            283.78,
            227.19,
            214.26,
            256.24,
            242,
            239.69,
            233.63,
            260.25,
            315.27
           ]
          },
          {
           "axis": {
            "matches": true
           },
           "label": "2",
           "values": [
            125.95,
            120.41,
            113.92,
            163.12,
            119.3,
            104.07,
            95.17,
            77.5,
            70.96,
            75.56,
            73.96,
            53.07,
            55.16,
            91.59,
            94.08,
            75.07,
            65.22,
            -0.36,
            33.05,
            94.32,
            93.67,
            97.62,
            121.25,
            72.81
           ]
          },
          {
           "axis": {
            "matches": true
           },
           "label": "3",
           "values": [
            12231.27,
            11977.18,
            11712.42,
            11539.83,
            11289.02,
            11204.55,
            10567.48,
            10437.33,
            10803.55,
            11646.1,
            12396.83,
            12939.26,
            13413.22,
            13425.39,
            13373.55,
            13293.06,
            13146.41,
            13261.87,
            14556.45,
            14734.77,
            14312.9,
            13704.62,
            12987.88,
            12191.18
           ]
          },
          {
           "axis": {
            "matches": true
           },
           "label": "4",
           "values": [
            1110.97,
            1069.27,
            997.68,
            1003.56,
            976.19,
            948.25,
            930.02,
            1018.68,
            1127.55,
            1235.03,
            1350.43,
            1409.1,
            1404.31,
            1389.28,
            1321.26,
            1281.91,
            1252.49,
            1250.11,
            1441.3,
            1480.07,
            1381.66,
            1274.47,
            1169.68,
            1067.22
           ]
          },
          {
           "axis": {
            "matches": true
           },
           "label": "5",
           "values": [
            105069.63,
            107210.46,
            108138.53,
            110735.68,
            110619.01,
            109860.29,
            107922.8,
            109370.19,
            112459.04,
            116527.68,
            119996.48,
            123542.56,
            122861.56,
            123272.89,
            119133.52,
            118500.61,
            117806.52,
            112642.63,
            111774.62,
            114066.08,
            110309.76,
            108829.45,
            109743.59,
            106391.84
           ]
          },
          {
           "axis": {
            "matches": true
           },
           "label": "6",
           "values": [
            263.66,
            261.29,
            262.07,
            264.49,
            262.18,
            256.23,
            221.26,
            204.57,
            205.4,
            206.49,
            206.43,
            206.63,
            207.9,
            209.4,
            213.71,
            209.81,
            212.71,
            228.89,
            238.58,
            254.47,
            263.82,
            263.15,
            267.3,
            263.68
           ]
          },
          {
           "axis": {
            "matches": true
           },
           "label": "7",
           "values": [
            77811.79,
            69254.01,
            55266.32,
            40753.72,
            54150.28,
            51041.56,
            46959.97,
            47330.33,
            49678.23,
            51246.7,
            52691.46,
            54924.09,
            57369.05,
            45366.59,
            43880.71,
            43675.47,
            43172.94,
            49529.15,
            76479.9,
            92492.59,
            78021.56,
            64428.35,
            53150.33,
            41552.23
           ]
          },
          {
           "axis": {
            "matches": true
           },
           "label": "8",
           "values": [
            423.5,
            435.26,
            422.36,
            419.72,
            412.3,
            400.6,
            343.03,
            315.43,
            590.93,
            824.53,
            787.86,
            672.84,
            647.98,
            707.66,
            638.2,
            663.61,
            659.39,
            688.68,
            716.21,
            760.85,
            705.7,
            696.4,
            684.02,
            625.3
           ]
          },
          {
           "axis": {
            "matches": true
           },
           "label": "9",
           "values": [
            112743.19,
            98112.25,
            84301.39,
            75501.86,
            68409.14,
            65057.96,
            65113.76,
            69363.81,
            74138.46,
            80744.95,
            82647.1,
            81561.19,
            81031.8,
            74933.86,
            68135.16,
            67916.87,
            68346.97,
            76322.7,
            111441.53,
            131999.85,
            115867.3,
            92568.91,
            70936.26,
            54032.48
           ]
          },
          {
           "axis": {
            "matches": true
           },
           "label": "10",
           "values": [
            823200.19,
            705245.02,
            603368.98,
            540643.37,
            499768.04,
            469838.18,
            431534.83,
            440236.98,
            480104.72,
            529958.25,
            575136.23,
            596559.86,
            596031.49,
            577199.13,
            546528.73,
            519599.78,
            510174.16,
            540426.84,
            803268.69,
            903238.97,
            858432.22,
            736698.84,
            606702.93,
            498662.52
           ]
          },
          {
           "axis": {
            "matches": true
           },
           "label": "11",
           "values": [
            403.91,
            400.45,
            392.59,
            383.81,
            379.25,
            382.37,
            437.32,
            580.29,
            732.41,
            788.34,
            817.25,
            815.62,
            682.06,
            741.59,
            862.31,
            846.11,
            829.69,
            761.08,
            666.71,
            619.68,
            568.4,
            492.97,
            453.49,
            403.88
           ]
          },
          {
           "axis": {
            "matches": true
           },
           "label": "12",
           "values": [
            982.62,
            962.11,
            944.62,
            928.89,
            912.91,
            957.06,
            923.08,
            933.05,
            900.26,
            944.91,
            955.41,
            991.63,
            995.99,
            954.57,
            930.53,
            917.26,
            922.37,
            871.12,
            869.23,
            896.27,
            874.32,
            887.71,
            869.6,
            874.57
           ]
          },
          {
           "axis": {
            "matches": true
           },
           "label": "13",
           "values": [
            3955.22,
            3946.92,
            3981.55,
            3992.56,
            3941.43,
            3929.35,
            1120.77,
            946.11,
            1099.75,
            1165.38,
            1196.45,
            1228.55,
            1239.88,
            1294.24,
            1277.53,
            1136.84,
            1260.07,
            1342.96,
            4152.73,
            4080.58,
            4243.42,
            4081.79,
            4210.58,
            4272.59
           ]
          },
          {
           "axis": {
            "matches": true
           },
           "label": "14",
           "values": [
            19381.56,
            17222.31,
            14876.55,
            13453.31,
            12032.98,
            10894.73,
            12107.45,
            11986.99,
            12284.23,
            12757.78,
            12984.36,
            13350.92,
            13488.33,
            13162,
            12846.56,
            12783.8,
            12751.6,
            13192.87,
            18241.14,
            21404.12,
            20199.48,
            18148.45,
            14462.31,
            11289.09
           ]
          },
          {
           "axis": {
            "matches": true
           },
           "label": "15",
           "values": [
            4324.97,
            4262.06,
            4260.74,
            4374.65,
            4357.31,
            4206.59,
            2876.35,
            2909.6,
            3092.51,
            3178.24,
            3152.22,
            3207.05,
            3232.85,
            3192.99,
            3252.04,
            3261.17,
            3289.06,
            3298.91,
            4627.82,
            4740.11,
            4796.69,
            4824.69,
            5245.48,
            5115.22
           ]
          },
          {
           "axis": {
            "matches": true
           },
           "label": "16",
           "values": [
            125876.24,
            111311.84,
            98425.38,
            88527.77,
            81449.29,
            79026.36,
            74031.67,
            77986.46,
            77487.02,
            90904.15,
            93915.35,
            112602.59,
            101316.2,
            94501.83,
            90061.6,
            87153.35,
            86297.93,
            87100.53,
            158169.76,
            174154.02,
            167167.67,
            131491.81,
            100098.62,
            79730.04
           ]
          }
         ],
         "hovertemplate": "%{xaxis.title.text}=%{x}<br>%{yaxis.title.text}=%{y}<extra></extra>",
         "legendgroup": "",
         "marker": {
          "color": "#636efa",
          "symbol": "circle"
         },
         "name": "",
         "showlegend": false,
         "type": "splom"
        }
       ],
       "layout": {
        "dragmode": "select",
        "height": 1500,
        "legend": {
         "tracegroupgap": 0
        },
        "margin": {
         "t": 60
        },
        "template": {
         "data": {
          "bar": [
           {
            "error_x": {
             "color": "#2a3f5f"
            },
            "error_y": {
             "color": "#2a3f5f"
            },
            "marker": {
             "line": {
              "color": "#E5ECF6",
              "width": 0.5
             }
            },
            "type": "bar"
           }
          ],
          "barpolar": [
           {
            "marker": {
             "line": {
              "color": "#E5ECF6",
              "width": 0.5
             }
            },
            "type": "barpolar"
           }
          ],
          "carpet": [
           {
            "aaxis": {
             "endlinecolor": "#2a3f5f",
             "gridcolor": "white",
             "linecolor": "white",
             "minorgridcolor": "white",
             "startlinecolor": "#2a3f5f"
            },
            "baxis": {
             "endlinecolor": "#2a3f5f",
             "gridcolor": "white",
             "linecolor": "white",
             "minorgridcolor": "white",
             "startlinecolor": "#2a3f5f"
            },
            "type": "carpet"
           }
          ],
          "choropleth": [
           {
            "colorbar": {
             "outlinewidth": 0,
             "ticks": ""
            },
            "type": "choropleth"
           }
          ],
          "contour": [
           {
            "colorbar": {
             "outlinewidth": 0,
             "ticks": ""
            },
            "colorscale": [
             [
              0,
              "#0d0887"
             ],
             [
              0.1111111111111111,
              "#46039f"
             ],
             [
              0.2222222222222222,
              "#7201a8"
             ],
             [
              0.3333333333333333,
              "#9c179e"
             ],
             [
              0.4444444444444444,
              "#bd3786"
             ],
             [
              0.5555555555555556,
              "#d8576b"
             ],
             [
              0.6666666666666666,
              "#ed7953"
             ],
             [
              0.7777777777777778,
              "#fb9f3a"
             ],
             [
              0.8888888888888888,
              "#fdca26"
             ],
             [
              1,
              "#f0f921"
             ]
            ],
            "type": "contour"
           }
          ],
          "contourcarpet": [
           {
            "colorbar": {
             "outlinewidth": 0,
             "ticks": ""
            },
            "type": "contourcarpet"
           }
          ],
          "heatmap": [
           {
            "colorbar": {
             "outlinewidth": 0,
             "ticks": ""
            },
            "colorscale": [
             [
              0,
              "#0d0887"
             ],
             [
              0.1111111111111111,
              "#46039f"
             ],
             [
              0.2222222222222222,
              "#7201a8"
             ],
             [
              0.3333333333333333,
              "#9c179e"
             ],
             [
              0.4444444444444444,
              "#bd3786"
             ],
             [
              0.5555555555555556,
              "#d8576b"
             ],
             [
              0.6666666666666666,
              "#ed7953"
             ],
             [
              0.7777777777777778,
              "#fb9f3a"
             ],
             [
              0.8888888888888888,
              "#fdca26"
             ],
             [
              1,
              "#f0f921"
             ]
            ],
            "type": "heatmap"
           }
          ],
          "heatmapgl": [
           {
            "colorbar": {
             "outlinewidth": 0,
             "ticks": ""
            },
            "colorscale": [
             [
              0,
              "#0d0887"
             ],
             [
              0.1111111111111111,
              "#46039f"
             ],
             [
              0.2222222222222222,
              "#7201a8"
             ],
             [
              0.3333333333333333,
              "#9c179e"
             ],
             [
              0.4444444444444444,
              "#bd3786"
             ],
             [
              0.5555555555555556,
              "#d8576b"
             ],
             [
              0.6666666666666666,
              "#ed7953"
             ],
             [
              0.7777777777777778,
              "#fb9f3a"
             ],
             [
              0.8888888888888888,
              "#fdca26"
             ],
             [
              1,
              "#f0f921"
             ]
            ],
            "type": "heatmapgl"
           }
          ],
          "histogram": [
           {
            "marker": {
             "colorbar": {
              "outlinewidth": 0,
              "ticks": ""
             }
            },
            "type": "histogram"
           }
          ],
          "histogram2d": [
           {
            "colorbar": {
             "outlinewidth": 0,
             "ticks": ""
            },
            "colorscale": [
             [
              0,
              "#0d0887"
             ],
             [
              0.1111111111111111,
              "#46039f"
             ],
             [
              0.2222222222222222,
              "#7201a8"
             ],
             [
              0.3333333333333333,
              "#9c179e"
             ],
             [
              0.4444444444444444,
              "#bd3786"
             ],
             [
              0.5555555555555556,
              "#d8576b"
             ],
             [
              0.6666666666666666,
              "#ed7953"
             ],
             [
              0.7777777777777778,
              "#fb9f3a"
             ],
             [
              0.8888888888888888,
              "#fdca26"
             ],
             [
              1,
              "#f0f921"
             ]
            ],
            "type": "histogram2d"
           }
          ],
          "histogram2dcontour": [
           {
            "colorbar": {
             "outlinewidth": 0,
             "ticks": ""
            },
            "colorscale": [
             [
              0,
              "#0d0887"
             ],
             [
              0.1111111111111111,
              "#46039f"
             ],
             [
              0.2222222222222222,
              "#7201a8"
             ],
             [
              0.3333333333333333,
              "#9c179e"
             ],
             [
              0.4444444444444444,
              "#bd3786"
             ],
             [
              0.5555555555555556,
              "#d8576b"
             ],
             [
              0.6666666666666666,
              "#ed7953"
             ],
             [
              0.7777777777777778,
              "#fb9f3a"
             ],
             [
              0.8888888888888888,
              "#fdca26"
             ],
             [
              1,
              "#f0f921"
             ]
            ],
            "type": "histogram2dcontour"
           }
          ],
          "mesh3d": [
           {
            "colorbar": {
             "outlinewidth": 0,
             "ticks": ""
            },
            "type": "mesh3d"
           }
          ],
          "parcoords": [
           {
            "line": {
             "colorbar": {
              "outlinewidth": 0,
              "ticks": ""
             }
            },
            "type": "parcoords"
           }
          ],
          "pie": [
           {
            "automargin": true,
            "type": "pie"
           }
          ],
          "scatter": [
           {
            "marker": {
             "colorbar": {
              "outlinewidth": 0,
              "ticks": ""
             }
            },
            "type": "scatter"
           }
          ],
          "scatter3d": [
           {
            "line": {
             "colorbar": {
              "outlinewidth": 0,
              "ticks": ""
             }
            },
            "marker": {
             "colorbar": {
              "outlinewidth": 0,
              "ticks": ""
             }
            },
            "type": "scatter3d"
           }
          ],
          "scattercarpet": [
           {
            "marker": {
             "colorbar": {
              "outlinewidth": 0,
              "ticks": ""
             }
            },
            "type": "scattercarpet"
           }
          ],
          "scattergeo": [
           {
            "marker": {
             "colorbar": {
              "outlinewidth": 0,
              "ticks": ""
             }
            },
            "type": "scattergeo"
           }
          ],
          "scattergl": [
           {
            "marker": {
             "colorbar": {
              "outlinewidth": 0,
              "ticks": ""
             }
            },
            "type": "scattergl"
           }
          ],
          "scattermapbox": [
           {
            "marker": {
             "colorbar": {
              "outlinewidth": 0,
              "ticks": ""
             }
            },
            "type": "scattermapbox"
           }
          ],
          "scatterpolar": [
           {
            "marker": {
             "colorbar": {
              "outlinewidth": 0,
              "ticks": ""
             }
            },
            "type": "scatterpolar"
           }
          ],
          "scatterpolargl": [
           {
            "marker": {
             "colorbar": {
              "outlinewidth": 0,
              "ticks": ""
             }
            },
            "type": "scatterpolargl"
           }
          ],
          "scatterternary": [
           {
            "marker": {
             "colorbar": {
              "outlinewidth": 0,
              "ticks": ""
             }
            },
            "type": "scatterternary"
           }
          ],
          "surface": [
           {
            "colorbar": {
             "outlinewidth": 0,
             "ticks": ""
            },
            "colorscale": [
             [
              0,
              "#0d0887"
             ],
             [
              0.1111111111111111,
              "#46039f"
             ],
             [
              0.2222222222222222,
              "#7201a8"
             ],
             [
              0.3333333333333333,
              "#9c179e"
             ],
             [
              0.4444444444444444,
              "#bd3786"
             ],
             [
              0.5555555555555556,
              "#d8576b"
             ],
             [
              0.6666666666666666,
              "#ed7953"
             ],
             [
              0.7777777777777778,
              "#fb9f3a"
             ],
             [
              0.8888888888888888,
              "#fdca26"
             ],
             [
              1,
              "#f0f921"
             ]
            ],
            "type": "surface"
           }
          ],
          "table": [
           {
            "cells": {
             "fill": {
              "color": "#EBF0F8"
             },
             "line": {
              "color": "white"
             }
            },
            "header": {
             "fill": {
              "color": "#C8D4E3"
             },
             "line": {
              "color": "white"
             }
            },
            "type": "table"
           }
          ]
         },
         "layout": {
          "annotationdefaults": {
           "arrowcolor": "#2a3f5f",
           "arrowhead": 0,
           "arrowwidth": 1
          },
          "coloraxis": {
           "colorbar": {
            "outlinewidth": 0,
            "ticks": ""
           }
          },
          "colorscale": {
           "diverging": [
            [
             0,
             "#8e0152"
            ],
            [
             0.1,
             "#c51b7d"
            ],
            [
             0.2,
             "#de77ae"
            ],
            [
             0.3,
             "#f1b6da"
            ],
            [
             0.4,
             "#fde0ef"
            ],
            [
             0.5,
             "#f7f7f7"
            ],
            [
             0.6,
             "#e6f5d0"
            ],
            [
             0.7,
             "#b8e186"
            ],
            [
             0.8,
             "#7fbc41"
            ],
            [
             0.9,
             "#4d9221"
            ],
            [
             1,
             "#276419"
            ]
           ],
           "sequential": [
            [
             0,
             "#0d0887"
            ],
            [
             0.1111111111111111,
             "#46039f"
            ],
            [
             0.2222222222222222,
             "#7201a8"
            ],
            [
             0.3333333333333333,
             "#9c179e"
            ],
            [
             0.4444444444444444,
             "#bd3786"
            ],
            [
             0.5555555555555556,
             "#d8576b"
            ],
            [
             0.6666666666666666,
             "#ed7953"
            ],
            [
             0.7777777777777778,
             "#fb9f3a"
            ],
            [
             0.8888888888888888,
             "#fdca26"
            ],
            [
             1,
             "#f0f921"
            ]
           ],
           "sequentialminus": [
            [
             0,
             "#0d0887"
            ],
            [
             0.1111111111111111,
             "#46039f"
            ],
            [
             0.2222222222222222,
             "#7201a8"
            ],
            [
             0.3333333333333333,
             "#9c179e"
            ],
            [
             0.4444444444444444,
             "#bd3786"
            ],
            [
             0.5555555555555556,
             "#d8576b"
            ],
            [
             0.6666666666666666,
             "#ed7953"
            ],
            [
             0.7777777777777778,
             "#fb9f3a"
            ],
            [
             0.8888888888888888,
             "#fdca26"
            ],
            [
             1,
             "#f0f921"
            ]
           ]
          },
          "colorway": [
           "#636efa",
           "#EF553B",
           "#00cc96",
           "#ab63fa",
           "#FFA15A",
           "#19d3f3",
           "#FF6692",
           "#B6E880",
           "#FF97FF",
           "#FECB52"
          ],
          "font": {
           "color": "#2a3f5f"
          },
          "geo": {
           "bgcolor": "white",
           "lakecolor": "white",
           "landcolor": "#E5ECF6",
           "showlakes": true,
           "showland": true,
           "subunitcolor": "white"
          },
          "hoverlabel": {
           "align": "left"
          },
          "hovermode": "closest",
          "mapbox": {
           "style": "light"
          },
          "paper_bgcolor": "white",
          "plot_bgcolor": "#E5ECF6",
          "polar": {
           "angularaxis": {
            "gridcolor": "white",
            "linecolor": "white",
            "ticks": ""
           },
           "bgcolor": "#E5ECF6",
           "radialaxis": {
            "gridcolor": "white",
            "linecolor": "white",
            "ticks": ""
           }
          },
          "scene": {
           "xaxis": {
            "backgroundcolor": "#E5ECF6",
            "gridcolor": "white",
            "gridwidth": 2,
            "linecolor": "white",
            "showbackground": true,
            "ticks": "",
            "zerolinecolor": "white"
           },
           "yaxis": {
            "backgroundcolor": "#E5ECF6",
            "gridcolor": "white",
            "gridwidth": 2,
            "linecolor": "white",
            "showbackground": true,
            "ticks": "",
            "zerolinecolor": "white"
           },
           "zaxis": {
            "backgroundcolor": "#E5ECF6",
            "gridcolor": "white",
            "gridwidth": 2,
            "linecolor": "white",
            "showbackground": true,
            "ticks": "",
            "zerolinecolor": "white"
           }
          },
          "shapedefaults": {
           "line": {
            "color": "#2a3f5f"
           }
          },
          "ternary": {
           "aaxis": {
            "gridcolor": "white",
            "linecolor": "white",
            "ticks": ""
           },
           "baxis": {
            "gridcolor": "white",
            "linecolor": "white",
            "ticks": ""
           },
           "bgcolor": "#E5ECF6",
           "caxis": {
            "gridcolor": "white",
            "linecolor": "white",
            "ticks": ""
           }
          },
          "title": {
           "x": 0.05
          },
          "xaxis": {
           "automargin": true,
           "gridcolor": "white",
           "linecolor": "white",
           "ticks": "",
           "title": {
            "standoff": 15
           },
           "zerolinecolor": "white",
           "zerolinewidth": 2
          },
          "yaxis": {
           "automargin": true,
           "gridcolor": "white",
           "linecolor": "white",
           "ticks": "",
           "title": {
            "standoff": 15
           },
           "zerolinecolor": "white",
           "zerolinewidth": 2
          }
         }
        },
        "width": 1500
       }
      }
     },
     "metadata": {}
    }
   ],
   "source": [
    "fig = px.scatter_matrix(df, width=1500, height=1500)\n",
    "fig.show()"
   ]
  },
  {
   "source": [],
   "cell_type": "markdown",
   "metadata": {}
  },
  {
   "source": [
    "## 1. Analizar la correlación entre pares de variables"
   ],
   "cell_type": "markdown",
   "metadata": {}
  },
  {
   "cell_type": "code",
   "execution_count": 18,
   "metadata": {},
   "outputs": [
    {
     "output_type": "execute_result",
     "data": {
      "text/plain": [
       "<pandas.io.formats.style.Styler at 0x1e78085cbc8>"
      ],
      "text/html": "<style  type=\"text/css\" >\n    #T_7cae3cf4_0c0e_11eb_8448_f0ad8b56ca4crow0_col0 {\n            background-color:  #b40426;\n            color:  #f1f1f1;\n        }    #T_7cae3cf4_0c0e_11eb_8448_f0ad8b56ca4crow0_col1 {\n            background-color:  #f1ccb8;\n            color:  #000000;\n        }    #T_7cae3cf4_0c0e_11eb_8448_f0ad8b56ca4crow0_col2 {\n            background-color:  #f7ad90;\n            color:  #000000;\n        }    #T_7cae3cf4_0c0e_11eb_8448_f0ad8b56ca4crow0_col3 {\n            background-color:  #6687ed;\n            color:  #000000;\n        }    #T_7cae3cf4_0c0e_11eb_8448_f0ad8b56ca4crow0_col4 {\n            background-color:  #6a8bef;\n            color:  #000000;\n        }    #T_7cae3cf4_0c0e_11eb_8448_f0ad8b56ca4crow0_col5 {\n            background-color:  #6180e9;\n            color:  #000000;\n        }    #T_7cae3cf4_0c0e_11eb_8448_f0ad8b56ca4crow0_col6 {\n            background-color:  #eb7d62;\n            color:  #000000;\n        }    #T_7cae3cf4_0c0e_11eb_8448_f0ad8b56ca4crow0_col7 {\n            background-color:  #f6bfa6;\n            color:  #000000;\n        }    #T_7cae3cf4_0c0e_11eb_8448_f0ad8b56ca4crow0_col8 {\n            background-color:  #5d7ce6;\n            color:  #000000;\n        }    #T_7cae3cf4_0c0e_11eb_8448_f0ad8b56ca4crow0_col9 {\n            background-color:  #ead4c8;\n            color:  #000000;\n        }    #T_7cae3cf4_0c0e_11eb_8448_f0ad8b56ca4crow0_col10 {\n            background-color:  #e3d9d3;\n            color:  #000000;\n        }    #T_7cae3cf4_0c0e_11eb_8448_f0ad8b56ca4crow0_col11 {\n            background-color:  #6485ec;\n            color:  #000000;\n        }    #T_7cae3cf4_0c0e_11eb_8448_f0ad8b56ca4crow0_col12 {\n            background-color:  #b2ccfb;\n            color:  #000000;\n        }    #T_7cae3cf4_0c0e_11eb_8448_f0ad8b56ca4crow0_col13 {\n            background-color:  #e8765c;\n            color:  #000000;\n        }    #T_7cae3cf4_0c0e_11eb_8448_f0ad8b56ca4crow0_col14 {\n            background-color:  #efcfbf;\n            color:  #000000;\n        }    #T_7cae3cf4_0c0e_11eb_8448_f0ad8b56ca4crow0_col15 {\n            background-color:  #f59f80;\n            color:  #000000;\n        }    #T_7cae3cf4_0c0e_11eb_8448_f0ad8b56ca4crow0_col16 {\n            background-color:  #dedcdb;\n            color:  #000000;\n        }    #T_7cae3cf4_0c0e_11eb_8448_f0ad8b56ca4crow1_col0 {\n            background-color:  #f5c0a7;\n            color:  #000000;\n        }    #T_7cae3cf4_0c0e_11eb_8448_f0ad8b56ca4crow1_col1 {\n            background-color:  #b40426;\n            color:  #f1f1f1;\n        }    #T_7cae3cf4_0c0e_11eb_8448_f0ad8b56ca4crow1_col2 {\n            background-color:  #f6a283;\n            color:  #000000;\n        }    #T_7cae3cf4_0c0e_11eb_8448_f0ad8b56ca4crow1_col3 {\n            background-color:  #4a63d3;\n            color:  #f1f1f1;\n        }    #T_7cae3cf4_0c0e_11eb_8448_f0ad8b56ca4crow1_col4 {\n            background-color:  #4e68d8;\n            color:  #000000;\n        }    #T_7cae3cf4_0c0e_11eb_8448_f0ad8b56ca4crow1_col5 {\n            background-color:  #7699f6;\n            color:  #000000;\n        }    #T_7cae3cf4_0c0e_11eb_8448_f0ad8b56ca4crow1_col6 {\n            background-color:  #f7b194;\n            color:  #000000;\n        }    #T_7cae3cf4_0c0e_11eb_8448_f0ad8b56ca4crow1_col7 {\n            background-color:  #81a4fb;\n            color:  #000000;\n        }    #T_7cae3cf4_0c0e_11eb_8448_f0ad8b56ca4crow1_col8 {\n            background-color:  #5572df;\n            color:  #000000;\n        }    #T_7cae3cf4_0c0e_11eb_8448_f0ad8b56ca4crow1_col9 {\n            background-color:  #688aef;\n            color:  #000000;\n        }    #T_7cae3cf4_0c0e_11eb_8448_f0ad8b56ca4crow1_col10 {\n            background-color:  #80a3fa;\n            color:  #000000;\n        }    #T_7cae3cf4_0c0e_11eb_8448_f0ad8b56ca4crow1_col11 {\n            background-color:  #84a7fc;\n            color:  #000000;\n        }    #T_7cae3cf4_0c0e_11eb_8448_f0ad8b56ca4crow1_col12 {\n            background-color:  #d2dbe8;\n            color:  #000000;\n        }    #T_7cae3cf4_0c0e_11eb_8448_f0ad8b56ca4crow1_col13 {\n            background-color:  #f7b79b;\n            color:  #000000;\n        }    #T_7cae3cf4_0c0e_11eb_8448_f0ad8b56ca4crow1_col14 {\n            background-color:  #98b9ff;\n            color:  #000000;\n        }    #T_7cae3cf4_0c0e_11eb_8448_f0ad8b56ca4crow1_col15 {\n            background-color:  #efcebd;\n            color:  #000000;\n        }    #T_7cae3cf4_0c0e_11eb_8448_f0ad8b56ca4crow1_col16 {\n            background-color:  #6282ea;\n            color:  #000000;\n        }    #T_7cae3cf4_0c0e_11eb_8448_f0ad8b56ca4crow2_col0 {\n            background-color:  #f7b396;\n            color:  #000000;\n        }    #T_7cae3cf4_0c0e_11eb_8448_f0ad8b56ca4crow2_col1 {\n            background-color:  #f7b194;\n            color:  #000000;\n        }    #T_7cae3cf4_0c0e_11eb_8448_f0ad8b56ca4crow2_col2 {\n            background-color:  #b40426;\n            color:  #f1f1f1;\n        }    #T_7cae3cf4_0c0e_11eb_8448_f0ad8b56ca4crow2_col3 {\n            background-color:  #3b4cc0;\n            color:  #f1f1f1;\n        }    #T_7cae3cf4_0c0e_11eb_8448_f0ad8b56ca4crow2_col4 {\n            background-color:  #3b4cc0;\n            color:  #f1f1f1;\n        }    #T_7cae3cf4_0c0e_11eb_8448_f0ad8b56ca4crow2_col5 {\n            background-color:  #779af7;\n            color:  #000000;\n        }    #T_7cae3cf4_0c0e_11eb_8448_f0ad8b56ca4crow2_col6 {\n            background-color:  #f29274;\n            color:  #000000;\n        }    #T_7cae3cf4_0c0e_11eb_8448_f0ad8b56ca4crow2_col7 {\n            background-color:  #88abfd;\n            color:  #000000;\n        }    #T_7cae3cf4_0c0e_11eb_8448_f0ad8b56ca4crow2_col8 {\n            background-color:  #3b4cc0;\n            color:  #f1f1f1;\n        }    #T_7cae3cf4_0c0e_11eb_8448_f0ad8b56ca4crow2_col9 {\n            background-color:  #6c8ff1;\n            color:  #000000;\n        }    #T_7cae3cf4_0c0e_11eb_8448_f0ad8b56ca4crow2_col10 {\n            background-color:  #7ea1fa;\n            color:  #000000;\n        }    #T_7cae3cf4_0c0e_11eb_8448_f0ad8b56ca4crow2_col11 {\n            background-color:  #5875e1;\n            color:  #000000;\n        }    #T_7cae3cf4_0c0e_11eb_8448_f0ad8b56ca4crow2_col12 {\n            background-color:  #cedaeb;\n            color:  #000000;\n        }    #T_7cae3cf4_0c0e_11eb_8448_f0ad8b56ca4crow2_col13 {\n            background-color:  #f6a385;\n            color:  #000000;\n        }    #T_7cae3cf4_0c0e_11eb_8448_f0ad8b56ca4crow2_col14 {\n            background-color:  #a6c4fe;\n            color:  #000000;\n        }    #T_7cae3cf4_0c0e_11eb_8448_f0ad8b56ca4crow2_col15 {\n            background-color:  #f6bfa6;\n            color:  #000000;\n        }    #T_7cae3cf4_0c0e_11eb_8448_f0ad8b56ca4crow2_col16 {\n            background-color:  #7093f3;\n            color:  #000000;\n        }    #T_7cae3cf4_0c0e_11eb_8448_f0ad8b56ca4crow3_col0 {\n            background-color:  #97b8ff;\n            color:  #000000;\n        }    #T_7cae3cf4_0c0e_11eb_8448_f0ad8b56ca4crow3_col1 {\n            background-color:  #5e7de7;\n            color:  #000000;\n        }    #T_7cae3cf4_0c0e_11eb_8448_f0ad8b56ca4crow3_col2 {\n            background-color:  #7a9df8;\n            color:  #000000;\n        }    #T_7cae3cf4_0c0e_11eb_8448_f0ad8b56ca4crow3_col3 {\n            background-color:  #b40426;\n            color:  #f1f1f1;\n        }    #T_7cae3cf4_0c0e_11eb_8448_f0ad8b56ca4crow3_col4 {\n            background-color:  #d44e41;\n            color:  #000000;\n        }    #T_7cae3cf4_0c0e_11eb_8448_f0ad8b56ca4crow3_col5 {\n            background-color:  #f5c1a9;\n            color:  #000000;\n        }    #T_7cae3cf4_0c0e_11eb_8448_f0ad8b56ca4crow3_col6 {\n            background-color:  #dcdddd;\n            color:  #000000;\n        }    #T_7cae3cf4_0c0e_11eb_8448_f0ad8b56ca4crow3_col7 {\n            background-color:  #f2cab5;\n            color:  #000000;\n        }    #T_7cae3cf4_0c0e_11eb_8448_f0ad8b56ca4crow3_col8 {\n            background-color:  #eb7d62;\n            color:  #000000;\n        }    #T_7cae3cf4_0c0e_11eb_8448_f0ad8b56ca4crow3_col9 {\n            background-color:  #f3c8b2;\n            color:  #000000;\n        }    #T_7cae3cf4_0c0e_11eb_8448_f0ad8b56ca4crow3_col10 {\n            background-color:  #f59f80;\n            color:  #000000;\n        }    #T_7cae3cf4_0c0e_11eb_8448_f0ad8b56ca4crow3_col11 {\n            background-color:  #f7b89c;\n            color:  #000000;\n        }    #T_7cae3cf4_0c0e_11eb_8448_f0ad8b56ca4crow3_col12 {\n            background-color:  #6282ea;\n            color:  #000000;\n        }    #T_7cae3cf4_0c0e_11eb_8448_f0ad8b56ca4crow3_col13 {\n            background-color:  #e6d7cf;\n            color:  #000000;\n        }    #T_7cae3cf4_0c0e_11eb_8448_f0ad8b56ca4crow3_col14 {\n            background-color:  #f7af91;\n            color:  #000000;\n        }    #T_7cae3cf4_0c0e_11eb_8448_f0ad8b56ca4crow3_col15 {\n            background-color:  #efcebd;\n            color:  #000000;\n        }    #T_7cae3cf4_0c0e_11eb_8448_f0ad8b56ca4crow3_col16 {\n            background-color:  #f08a6c;\n            color:  #000000;\n        }    #T_7cae3cf4_0c0e_11eb_8448_f0ad8b56ca4crow4_col0 {\n            background-color:  #799cf8;\n            color:  #000000;\n        }    #T_7cae3cf4_0c0e_11eb_8448_f0ad8b56ca4crow4_col1 {\n            background-color:  #3c4ec2;\n            color:  #f1f1f1;\n        }    #T_7cae3cf4_0c0e_11eb_8448_f0ad8b56ca4crow4_col2 {\n            background-color:  #5673e0;\n            color:  #000000;\n        }    #T_7cae3cf4_0c0e_11eb_8448_f0ad8b56ca4crow4_col3 {\n            background-color:  #d75445;\n            color:  #000000;\n        }    #T_7cae3cf4_0c0e_11eb_8448_f0ad8b56ca4crow4_col4 {\n            background-color:  #b40426;\n            color:  #f1f1f1;\n        }    #T_7cae3cf4_0c0e_11eb_8448_f0ad8b56ca4crow4_col5 {\n            background-color:  #eb7d62;\n            color:  #000000;\n        }    #T_7cae3cf4_0c0e_11eb_8448_f0ad8b56ca4crow4_col6 {\n            background-color:  #92b4fe;\n            color:  #000000;\n        }    #T_7cae3cf4_0c0e_11eb_8448_f0ad8b56ca4crow4_col7 {\n            background-color:  #dfdbd9;\n            color:  #000000;\n        }    #T_7cae3cf4_0c0e_11eb_8448_f0ad8b56ca4crow4_col8 {\n            background-color:  #d75445;\n            color:  #000000;\n        }    #T_7cae3cf4_0c0e_11eb_8448_f0ad8b56ca4crow4_col9 {\n            background-color:  #e9d5cb;\n            color:  #000000;\n        }    #T_7cae3cf4_0c0e_11eb_8448_f0ad8b56ca4crow4_col10 {\n            background-color:  #f1ccb8;\n            color:  #000000;\n        }    #T_7cae3cf4_0c0e_11eb_8448_f0ad8b56ca4crow4_col11 {\n            background-color:  #e67259;\n            color:  #000000;\n        }    #T_7cae3cf4_0c0e_11eb_8448_f0ad8b56ca4crow4_col12 {\n            background-color:  #9abbff;\n            color:  #000000;\n        }    #T_7cae3cf4_0c0e_11eb_8448_f0ad8b56ca4crow4_col13 {\n            background-color:  #a3c2fe;\n            color:  #000000;\n        }    #T_7cae3cf4_0c0e_11eb_8448_f0ad8b56ca4crow4_col14 {\n            background-color:  #e9d5cb;\n            color:  #000000;\n        }    #T_7cae3cf4_0c0e_11eb_8448_f0ad8b56ca4crow4_col15 {\n            background-color:  #afcafc;\n            color:  #000000;\n        }    #T_7cae3cf4_0c0e_11eb_8448_f0ad8b56ca4crow4_col16 {\n            background-color:  #f7b396;\n            color:  #000000;\n        }    #T_7cae3cf4_0c0e_11eb_8448_f0ad8b56ca4crow5_col0 {\n            background-color:  #455cce;\n            color:  #f1f1f1;\n        }    #T_7cae3cf4_0c0e_11eb_8448_f0ad8b56ca4crow5_col1 {\n            background-color:  #3b4cc0;\n            color:  #f1f1f1;\n        }    #T_7cae3cf4_0c0e_11eb_8448_f0ad8b56ca4crow5_col2 {\n            background-color:  #688aef;\n            color:  #000000;\n        }    #T_7cae3cf4_0c0e_11eb_8448_f0ad8b56ca4crow5_col3 {\n            background-color:  #e2dad5;\n            color:  #000000;\n        }    #T_7cae3cf4_0c0e_11eb_8448_f0ad8b56ca4crow5_col4 {\n            background-color:  #f08a6c;\n            color:  #000000;\n        }    #T_7cae3cf4_0c0e_11eb_8448_f0ad8b56ca4crow5_col5 {\n            background-color:  #b40426;\n            color:  #f1f1f1;\n        }    #T_7cae3cf4_0c0e_11eb_8448_f0ad8b56ca4crow5_col6 {\n            background-color:  #4961d2;\n            color:  #f1f1f1;\n        }    #T_7cae3cf4_0c0e_11eb_8448_f0ad8b56ca4crow5_col7 {\n            background-color:  #3b4cc0;\n            color:  #f1f1f1;\n        }    #T_7cae3cf4_0c0e_11eb_8448_f0ad8b56ca4crow5_col8 {\n            background-color:  #f7a889;\n            color:  #000000;\n        }    #T_7cae3cf4_0c0e_11eb_8448_f0ad8b56ca4crow5_col9 {\n            background-color:  #3b4cc0;\n            color:  #f1f1f1;\n        }    #T_7cae3cf4_0c0e_11eb_8448_f0ad8b56ca4crow5_col10 {\n            background-color:  #3b4cc0;\n            color:  #f1f1f1;\n        }    #T_7cae3cf4_0c0e_11eb_8448_f0ad8b56ca4crow5_col11 {\n            background-color:  #d55042;\n            color:  #000000;\n        }    #T_7cae3cf4_0c0e_11eb_8448_f0ad8b56ca4crow5_col12 {\n            background-color:  #f0cdbb;\n            color:  #000000;\n        }    #T_7cae3cf4_0c0e_11eb_8448_f0ad8b56ca4crow5_col13 {\n            background-color:  #4a63d3;\n            color:  #f1f1f1;\n        }    #T_7cae3cf4_0c0e_11eb_8448_f0ad8b56ca4crow5_col14 {\n            background-color:  #3b4cc0;\n            color:  #f1f1f1;\n        }    #T_7cae3cf4_0c0e_11eb_8448_f0ad8b56ca4crow5_col15 {\n            background-color:  #455cce;\n            color:  #f1f1f1;\n        }    #T_7cae3cf4_0c0e_11eb_8448_f0ad8b56ca4crow5_col16 {\n            background-color:  #6384eb;\n            color:  #000000;\n        }    #T_7cae3cf4_0c0e_11eb_8448_f0ad8b56ca4crow6_col0 {\n            background-color:  #f08a6c;\n            color:  #000000;\n        }    #T_7cae3cf4_0c0e_11eb_8448_f0ad8b56ca4crow6_col1 {\n            background-color:  #f1ccb8;\n            color:  #000000;\n        }    #T_7cae3cf4_0c0e_11eb_8448_f0ad8b56ca4crow6_col2 {\n            background-color:  #f59d7e;\n            color:  #000000;\n        }    #T_7cae3cf4_0c0e_11eb_8448_f0ad8b56ca4crow6_col3 {\n            background-color:  #a1c0ff;\n            color:  #000000;\n        }    #T_7cae3cf4_0c0e_11eb_8448_f0ad8b56ca4crow6_col4 {\n            background-color:  #5a78e4;\n            color:  #000000;\n        }    #T_7cae3cf4_0c0e_11eb_8448_f0ad8b56ca4crow6_col5 {\n            background-color:  #3b4cc0;\n            color:  #f1f1f1;\n        }    #T_7cae3cf4_0c0e_11eb_8448_f0ad8b56ca4crow6_col6 {\n            background-color:  #b40426;\n            color:  #f1f1f1;\n        }    #T_7cae3cf4_0c0e_11eb_8448_f0ad8b56ca4crow6_col7 {\n            background-color:  #e6d7cf;\n            color:  #000000;\n        }    #T_7cae3cf4_0c0e_11eb_8448_f0ad8b56ca4crow6_col8 {\n            background-color:  #6788ee;\n            color:  #000000;\n        }    #T_7cae3cf4_0c0e_11eb_8448_f0ad8b56ca4crow6_col9 {\n            background-color:  #c0d4f5;\n            color:  #000000;\n        }    #T_7cae3cf4_0c0e_11eb_8448_f0ad8b56ca4crow6_col10 {\n            background-color:  #e4d9d2;\n            color:  #000000;\n        }    #T_7cae3cf4_0c0e_11eb_8448_f0ad8b56ca4crow6_col11 {\n            background-color:  #3b4cc0;\n            color:  #f1f1f1;\n        }    #T_7cae3cf4_0c0e_11eb_8448_f0ad8b56ca4crow6_col12 {\n            background-color:  #5673e0;\n            color:  #000000;\n        }    #T_7cae3cf4_0c0e_11eb_8448_f0ad8b56ca4crow6_col13 {\n            background-color:  #bb1b2c;\n            color:  #f1f1f1;\n        }    #T_7cae3cf4_0c0e_11eb_8448_f0ad8b56ca4crow6_col14 {\n            background-color:  #efcebd;\n            color:  #000000;\n        }    #T_7cae3cf4_0c0e_11eb_8448_f0ad8b56ca4crow6_col15 {\n            background-color:  #c53334;\n            color:  #f1f1f1;\n        }    #T_7cae3cf4_0c0e_11eb_8448_f0ad8b56ca4crow6_col16 {\n            background-color:  #d9dce1;\n            color:  #000000;\n        }    #T_7cae3cf4_0c0e_11eb_8448_f0ad8b56ca4crow7_col0 {\n            background-color:  #f7a688;\n            color:  #000000;\n        }    #T_7cae3cf4_0c0e_11eb_8448_f0ad8b56ca4crow7_col1 {\n            background-color:  #a2c1ff;\n            color:  #000000;\n        }    #T_7cae3cf4_0c0e_11eb_8448_f0ad8b56ca4crow7_col2 {\n            background-color:  #c9d7f0;\n            color:  #000000;\n        }    #T_7cae3cf4_0c0e_11eb_8448_f0ad8b56ca4crow7_col3 {\n            background-color:  #f5c4ac;\n            color:  #000000;\n        }    #T_7cae3cf4_0c0e_11eb_8448_f0ad8b56ca4crow7_col4 {\n            background-color:  #f1ccb8;\n            color:  #000000;\n        }    #T_7cae3cf4_0c0e_11eb_8448_f0ad8b56ca4crow7_col5 {\n            background-color:  #98b9ff;\n            color:  #000000;\n        }    #T_7cae3cf4_0c0e_11eb_8448_f0ad8b56ca4crow7_col6 {\n            background-color:  #f7b194;\n            color:  #000000;\n        }    #T_7cae3cf4_0c0e_11eb_8448_f0ad8b56ca4crow7_col7 {\n            background-color:  #b40426;\n            color:  #f1f1f1;\n        }    #T_7cae3cf4_0c0e_11eb_8448_f0ad8b56ca4crow7_col8 {\n            background-color:  #cedaeb;\n            color:  #000000;\n        }    #T_7cae3cf4_0c0e_11eb_8448_f0ad8b56ca4crow7_col9 {\n            background-color:  #c32e31;\n            color:  #f1f1f1;\n        }    #T_7cae3cf4_0c0e_11eb_8448_f0ad8b56ca4crow7_col10 {\n            background-color:  #cb3e38;\n            color:  #f1f1f1;\n        }    #T_7cae3cf4_0c0e_11eb_8448_f0ad8b56ca4crow7_col11 {\n            background-color:  #afcafc;\n            color:  #000000;\n        }    #T_7cae3cf4_0c0e_11eb_8448_f0ad8b56ca4crow7_col12 {\n            background-color:  #8fb1fe;\n            color:  #000000;\n        }    #T_7cae3cf4_0c0e_11eb_8448_f0ad8b56ca4crow7_col13 {\n            background-color:  #f5a081;\n            color:  #000000;\n        }    #T_7cae3cf4_0c0e_11eb_8448_f0ad8b56ca4crow7_col14 {\n            background-color:  #ca3b37;\n            color:  #f1f1f1;\n        }    #T_7cae3cf4_0c0e_11eb_8448_f0ad8b56ca4crow7_col15 {\n            background-color:  #f7b093;\n            color:  #000000;\n        }    #T_7cae3cf4_0c0e_11eb_8448_f0ad8b56ca4crow7_col16 {\n            background-color:  #cd423b;\n            color:  #f1f1f1;\n        }    #T_7cae3cf4_0c0e_11eb_8448_f0ad8b56ca4crow8_col0 {\n            background-color:  #6c8ff1;\n            color:  #000000;\n        }    #T_7cae3cf4_0c0e_11eb_8448_f0ad8b56ca4crow8_col1 {\n            background-color:  #455cce;\n            color:  #f1f1f1;\n        }    #T_7cae3cf4_0c0e_11eb_8448_f0ad8b56ca4crow8_col2 {\n            background-color:  #5875e1;\n            color:  #000000;\n        }    #T_7cae3cf4_0c0e_11eb_8448_f0ad8b56ca4crow8_col3 {\n            background-color:  #ef886b;\n            color:  #000000;\n        }    #T_7cae3cf4_0c0e_11eb_8448_f0ad8b56ca4crow8_col4 {\n            background-color:  #d65244;\n            color:  #000000;\n        }    #T_7cae3cf4_0c0e_11eb_8448_f0ad8b56ca4crow8_col5 {\n            background-color:  #f39778;\n            color:  #000000;\n        }    #T_7cae3cf4_0c0e_11eb_8448_f0ad8b56ca4crow8_col6 {\n            background-color:  #9ebeff;\n            color:  #000000;\n        }    #T_7cae3cf4_0c0e_11eb_8448_f0ad8b56ca4crow8_col7 {\n            background-color:  #abc8fd;\n            color:  #000000;\n        }    #T_7cae3cf4_0c0e_11eb_8448_f0ad8b56ca4crow8_col8 {\n            background-color:  #b40426;\n            color:  #f1f1f1;\n        }    #T_7cae3cf4_0c0e_11eb_8448_f0ad8b56ca4crow8_col9 {\n            background-color:  #aec9fc;\n            color:  #000000;\n        }    #T_7cae3cf4_0c0e_11eb_8448_f0ad8b56ca4crow8_col10 {\n            background-color:  #c6d6f1;\n            color:  #000000;\n        }    #T_7cae3cf4_0c0e_11eb_8448_f0ad8b56ca4crow8_col11 {\n            background-color:  #e97a5f;\n            color:  #000000;\n        }    #T_7cae3cf4_0c0e_11eb_8448_f0ad8b56ca4crow8_col12 {\n            background-color:  #688aef;\n            color:  #000000;\n        }    #T_7cae3cf4_0c0e_11eb_8448_f0ad8b56ca4crow8_col13 {\n            background-color:  #a9c6fd;\n            color:  #000000;\n        }    #T_7cae3cf4_0c0e_11eb_8448_f0ad8b56ca4crow8_col14 {\n            background-color:  #bcd2f7;\n            color:  #000000;\n        }    #T_7cae3cf4_0c0e_11eb_8448_f0ad8b56ca4crow8_col15 {\n            background-color:  #c1d4f4;\n            color:  #000000;\n        }    #T_7cae3cf4_0c0e_11eb_8448_f0ad8b56ca4crow8_col16 {\n            background-color:  #dedcdb;\n            color:  #000000;\n        }    #T_7cae3cf4_0c0e_11eb_8448_f0ad8b56ca4crow9_col0 {\n            background-color:  #f7b194;\n            color:  #000000;\n        }    #T_7cae3cf4_0c0e_11eb_8448_f0ad8b56ca4crow9_col1 {\n            background-color:  #a5c3fe;\n            color:  #000000;\n        }    #T_7cae3cf4_0c0e_11eb_8448_f0ad8b56ca4crow9_col2 {\n            background-color:  #c7d7f0;\n            color:  #000000;\n        }    #T_7cae3cf4_0c0e_11eb_8448_f0ad8b56ca4crow9_col3 {\n            background-color:  #f7b79b;\n            color:  #000000;\n        }    #T_7cae3cf4_0c0e_11eb_8448_f0ad8b56ca4crow9_col4 {\n            background-color:  #f7ba9f;\n            color:  #000000;\n        }    #T_7cae3cf4_0c0e_11eb_8448_f0ad8b56ca4crow9_col5 {\n            background-color:  #afcafc;\n            color:  #000000;\n        }    #T_7cae3cf4_0c0e_11eb_8448_f0ad8b56ca4crow9_col6 {\n            background-color:  #f5c2aa;\n            color:  #000000;\n        }    #T_7cae3cf4_0c0e_11eb_8448_f0ad8b56ca4crow9_col7 {\n            background-color:  #c12b30;\n            color:  #f1f1f1;\n        }    #T_7cae3cf4_0c0e_11eb_8448_f0ad8b56ca4crow9_col8 {\n            background-color:  #dedcdb;\n            color:  #000000;\n        }    #T_7cae3cf4_0c0e_11eb_8448_f0ad8b56ca4crow9_col9 {\n            background-color:  #b40426;\n            color:  #f1f1f1;\n        }    #T_7cae3cf4_0c0e_11eb_8448_f0ad8b56ca4crow9_col10 {\n            background-color:  #c43032;\n            color:  #f1f1f1;\n        }    #T_7cae3cf4_0c0e_11eb_8448_f0ad8b56ca4crow9_col11 {\n            background-color:  #c7d7f0;\n            color:  #000000;\n        }    #T_7cae3cf4_0c0e_11eb_8448_f0ad8b56ca4crow9_col12 {\n            background-color:  #98b9ff;\n            color:  #000000;\n        }    #T_7cae3cf4_0c0e_11eb_8448_f0ad8b56ca4crow9_col13 {\n            background-color:  #f7b599;\n            color:  #000000;\n        }    #T_7cae3cf4_0c0e_11eb_8448_f0ad8b56ca4crow9_col14 {\n            background-color:  #c12b30;\n            color:  #f1f1f1;\n        }    #T_7cae3cf4_0c0e_11eb_8448_f0ad8b56ca4crow9_col15 {\n            background-color:  #f5c4ac;\n            color:  #000000;\n        }    #T_7cae3cf4_0c0e_11eb_8448_f0ad8b56ca4crow9_col16 {\n            background-color:  #c83836;\n            color:  #f1f1f1;\n        }    #T_7cae3cf4_0c0e_11eb_8448_f0ad8b56ca4crow10_col0 {\n            background-color:  #f7ba9f;\n            color:  #000000;\n        }    #T_7cae3cf4_0c0e_11eb_8448_f0ad8b56ca4crow10_col1 {\n            background-color:  #b5cdfa;\n            color:  #000000;\n        }    #T_7cae3cf4_0c0e_11eb_8448_f0ad8b56ca4crow10_col2 {\n            background-color:  #cfdaea;\n            color:  #000000;\n        }    #T_7cae3cf4_0c0e_11eb_8448_f0ad8b56ca4crow10_col3 {\n            background-color:  #f18f71;\n            color:  #000000;\n        }    #T_7cae3cf4_0c0e_11eb_8448_f0ad8b56ca4crow10_col4 {\n            background-color:  #f7b093;\n            color:  #000000;\n        }    #T_7cae3cf4_0c0e_11eb_8448_f0ad8b56ca4crow10_col5 {\n            background-color:  #adc9fd;\n            color:  #000000;\n        }    #T_7cae3cf4_0c0e_11eb_8448_f0ad8b56ca4crow10_col6 {\n            background-color:  #f7aa8c;\n            color:  #000000;\n        }    #T_7cae3cf4_0c0e_11eb_8448_f0ad8b56ca4crow10_col7 {\n            background-color:  #ca3b37;\n            color:  #f1f1f1;\n        }    #T_7cae3cf4_0c0e_11eb_8448_f0ad8b56ca4crow10_col8 {\n            background-color:  #ead4c8;\n            color:  #000000;\n        }    #T_7cae3cf4_0c0e_11eb_8448_f0ad8b56ca4crow10_col9 {\n            background-color:  #c43032;\n            color:  #f1f1f1;\n        }    #T_7cae3cf4_0c0e_11eb_8448_f0ad8b56ca4crow10_col10 {\n            background-color:  #b40426;\n            color:  #f1f1f1;\n        }    #T_7cae3cf4_0c0e_11eb_8448_f0ad8b56ca4crow10_col11 {\n            background-color:  #bfd3f6;\n            color:  #000000;\n        }    #T_7cae3cf4_0c0e_11eb_8448_f0ad8b56ca4crow10_col12 {\n            background-color:  #84a7fc;\n            color:  #000000;\n        }    #T_7cae3cf4_0c0e_11eb_8448_f0ad8b56ca4crow10_col13 {\n            background-color:  #f49a7b;\n            color:  #000000;\n        }    #T_7cae3cf4_0c0e_11eb_8448_f0ad8b56ca4crow10_col14 {\n            background-color:  #ba162b;\n            color:  #f1f1f1;\n        }    #T_7cae3cf4_0c0e_11eb_8448_f0ad8b56ca4crow10_col15 {\n            background-color:  #f59f80;\n            color:  #000000;\n        }    #T_7cae3cf4_0c0e_11eb_8448_f0ad8b56ca4crow10_col16 {\n            background-color:  #be242e;\n            color:  #f1f1f1;\n        }    #T_7cae3cf4_0c0e_11eb_8448_f0ad8b56ca4crow11_col0 {\n            background-color:  #3b4cc0;\n            color:  #f1f1f1;\n        }    #T_7cae3cf4_0c0e_11eb_8448_f0ad8b56ca4crow11_col1 {\n            background-color:  #3b4cc0;\n            color:  #f1f1f1;\n        }    #T_7cae3cf4_0c0e_11eb_8448_f0ad8b56ca4crow11_col2 {\n            background-color:  #3b4cc0;\n            color:  #f1f1f1;\n        }    #T_7cae3cf4_0c0e_11eb_8448_f0ad8b56ca4crow11_col3 {\n            background-color:  #e7d7ce;\n            color:  #000000;\n        }    #T_7cae3cf4_0c0e_11eb_8448_f0ad8b56ca4crow11_col4 {\n            background-color:  #ed8366;\n            color:  #000000;\n        }    #T_7cae3cf4_0c0e_11eb_8448_f0ad8b56ca4crow11_col5 {\n            background-color:  #d75445;\n            color:  #000000;\n        }    #T_7cae3cf4_0c0e_11eb_8448_f0ad8b56ca4crow11_col6 {\n            background-color:  #3b4cc0;\n            color:  #f1f1f1;\n        }    #T_7cae3cf4_0c0e_11eb_8448_f0ad8b56ca4crow11_col7 {\n            background-color:  #485fd1;\n            color:  #f1f1f1;\n        }    #T_7cae3cf4_0c0e_11eb_8448_f0ad8b56ca4crow11_col8 {\n            background-color:  #f08b6e;\n            color:  #000000;\n        }    #T_7cae3cf4_0c0e_11eb_8448_f0ad8b56ca4crow11_col9 {\n            background-color:  #4f69d9;\n            color:  #000000;\n        }    #T_7cae3cf4_0c0e_11eb_8448_f0ad8b56ca4crow11_col10 {\n            background-color:  #455cce;\n            color:  #f1f1f1;\n        }    #T_7cae3cf4_0c0e_11eb_8448_f0ad8b56ca4crow11_col11 {\n            background-color:  #b40426;\n            color:  #f1f1f1;\n        }    #T_7cae3cf4_0c0e_11eb_8448_f0ad8b56ca4crow11_col12 {\n            background-color:  #b9d0f9;\n            color:  #000000;\n        }    #T_7cae3cf4_0c0e_11eb_8448_f0ad8b56ca4crow11_col13 {\n            background-color:  #3b4cc0;\n            color:  #f1f1f1;\n        }    #T_7cae3cf4_0c0e_11eb_8448_f0ad8b56ca4crow11_col14 {\n            background-color:  #506bda;\n            color:  #000000;\n        }    #T_7cae3cf4_0c0e_11eb_8448_f0ad8b56ca4crow11_col15 {\n            background-color:  #3b4cc0;\n            color:  #f1f1f1;\n        }    #T_7cae3cf4_0c0e_11eb_8448_f0ad8b56ca4crow11_col16 {\n            background-color:  #7093f3;\n            color:  #000000;\n        }    #T_7cae3cf4_0c0e_11eb_8448_f0ad8b56ca4crow12_col0 {\n            background-color:  #c1d4f4;\n            color:  #000000;\n        }    #T_7cae3cf4_0c0e_11eb_8448_f0ad8b56ca4crow12_col1 {\n            background-color:  #cbd8ee;\n            color:  #000000;\n        }    #T_7cae3cf4_0c0e_11eb_8448_f0ad8b56ca4crow12_col2 {\n            background-color:  #dedcdb;\n            color:  #000000;\n        }    #T_7cae3cf4_0c0e_11eb_8448_f0ad8b56ca4crow12_col3 {\n            background-color:  #4358cb;\n            color:  #f1f1f1;\n        }    #T_7cae3cf4_0c0e_11eb_8448_f0ad8b56ca4crow12_col4 {\n            background-color:  #9fbfff;\n            color:  #000000;\n        }    #T_7cae3cf4_0c0e_11eb_8448_f0ad8b56ca4crow12_col5 {\n            background-color:  #f6bda2;\n            color:  #000000;\n        }    #T_7cae3cf4_0c0e_11eb_8448_f0ad8b56ca4crow12_col6 {\n            background-color:  #93b5fe;\n            color:  #000000;\n        }    #T_7cae3cf4_0c0e_11eb_8448_f0ad8b56ca4crow12_col7 {\n            background-color:  #6180e9;\n            color:  #000000;\n        }    #T_7cae3cf4_0c0e_11eb_8448_f0ad8b56ca4crow12_col8 {\n            background-color:  #6c8ff1;\n            color:  #000000;\n        }    #T_7cae3cf4_0c0e_11eb_8448_f0ad8b56ca4crow12_col9 {\n            background-color:  #4e68d8;\n            color:  #000000;\n        }    #T_7cae3cf4_0c0e_11eb_8448_f0ad8b56ca4crow12_col10 {\n            background-color:  #3b4cc0;\n            color:  #f1f1f1;\n        }    #T_7cae3cf4_0c0e_11eb_8448_f0ad8b56ca4crow12_col11 {\n            background-color:  #dcdddd;\n            color:  #000000;\n        }    #T_7cae3cf4_0c0e_11eb_8448_f0ad8b56ca4crow12_col12 {\n            background-color:  #b40426;\n            color:  #f1f1f1;\n        }    #T_7cae3cf4_0c0e_11eb_8448_f0ad8b56ca4crow12_col13 {\n            background-color:  #89acfd;\n            color:  #000000;\n        }    #T_7cae3cf4_0c0e_11eb_8448_f0ad8b56ca4crow12_col14 {\n            background-color:  #4a63d3;\n            color:  #f1f1f1;\n        }    #T_7cae3cf4_0c0e_11eb_8448_f0ad8b56ca4crow12_col15 {\n            background-color:  #5a78e4;\n            color:  #000000;\n        }    #T_7cae3cf4_0c0e_11eb_8448_f0ad8b56ca4crow12_col16 {\n            background-color:  #3b4cc0;\n            color:  #f1f1f1;\n        }    #T_7cae3cf4_0c0e_11eb_8448_f0ad8b56ca4crow13_col0 {\n            background-color:  #ec7f63;\n            color:  #000000;\n        }    #T_7cae3cf4_0c0e_11eb_8448_f0ad8b56ca4crow13_col1 {\n            background-color:  #f0cdbb;\n            color:  #000000;\n        }    #T_7cae3cf4_0c0e_11eb_8448_f0ad8b56ca4crow13_col2 {\n            background-color:  #f7aa8c;\n            color:  #000000;\n        }    #T_7cae3cf4_0c0e_11eb_8448_f0ad8b56ca4crow13_col3 {\n            background-color:  #bbd1f8;\n            color:  #000000;\n        }    #T_7cae3cf4_0c0e_11eb_8448_f0ad8b56ca4crow13_col4 {\n            background-color:  #799cf8;\n            color:  #000000;\n        }    #T_7cae3cf4_0c0e_11eb_8448_f0ad8b56ca4crow13_col5 {\n            background-color:  #465ecf;\n            color:  #f1f1f1;\n        }    #T_7cae3cf4_0c0e_11eb_8448_f0ad8b56ca4crow13_col6 {\n            background-color:  #bb1b2c;\n            color:  #f1f1f1;\n        }    #T_7cae3cf4_0c0e_11eb_8448_f0ad8b56ca4crow13_col7 {\n            background-color:  #f4c6af;\n            color:  #000000;\n        }    #T_7cae3cf4_0c0e_11eb_8448_f0ad8b56ca4crow13_col8 {\n            background-color:  #80a3fa;\n            color:  #000000;\n        }    #T_7cae3cf4_0c0e_11eb_8448_f0ad8b56ca4crow13_col9 {\n            background-color:  #dbdcde;\n            color:  #000000;\n        }    #T_7cae3cf4_0c0e_11eb_8448_f0ad8b56ca4crow13_col10 {\n            background-color:  #f3c7b1;\n            color:  #000000;\n        }    #T_7cae3cf4_0c0e_11eb_8448_f0ad8b56ca4crow13_col11 {\n            background-color:  #455cce;\n            color:  #f1f1f1;\n        }    #T_7cae3cf4_0c0e_11eb_8448_f0ad8b56ca4crow13_col12 {\n            background-color:  #5673e0;\n            color:  #000000;\n        }    #T_7cae3cf4_0c0e_11eb_8448_f0ad8b56ca4crow13_col13 {\n            background-color:  #b40426;\n            color:  #f1f1f1;\n        }    #T_7cae3cf4_0c0e_11eb_8448_f0ad8b56ca4crow13_col14 {\n            background-color:  #f6bfa6;\n            color:  #000000;\n        }    #T_7cae3cf4_0c0e_11eb_8448_f0ad8b56ca4crow13_col15 {\n            background-color:  #bd1f2d;\n            color:  #f1f1f1;\n        }    #T_7cae3cf4_0c0e_11eb_8448_f0ad8b56ca4crow13_col16 {\n            background-color:  #f1ccb8;\n            color:  #000000;\n        }    #T_7cae3cf4_0c0e_11eb_8448_f0ad8b56ca4crow14_col0 {\n            background-color:  #f7b89c;\n            color:  #000000;\n        }    #T_7cae3cf4_0c0e_11eb_8448_f0ad8b56ca4crow14_col1 {\n            background-color:  #b3cdfb;\n            color:  #000000;\n        }    #T_7cae3cf4_0c0e_11eb_8448_f0ad8b56ca4crow14_col2 {\n            background-color:  #d9dce1;\n            color:  #000000;\n        }    #T_7cae3cf4_0c0e_11eb_8448_f0ad8b56ca4crow14_col3 {\n            background-color:  #f7a98b;\n            color:  #000000;\n        }    #T_7cae3cf4_0c0e_11eb_8448_f0ad8b56ca4crow14_col4 {\n            background-color:  #f4c5ad;\n            color:  #000000;\n        }    #T_7cae3cf4_0c0e_11eb_8448_f0ad8b56ca4crow14_col5 {\n            background-color:  #96b7ff;\n            color:  #000000;\n        }    #T_7cae3cf4_0c0e_11eb_8448_f0ad8b56ca4crow14_col6 {\n            background-color:  #f7a889;\n            color:  #000000;\n        }    #T_7cae3cf4_0c0e_11eb_8448_f0ad8b56ca4crow14_col7 {\n            background-color:  #ca3b37;\n            color:  #f1f1f1;\n        }    #T_7cae3cf4_0c0e_11eb_8448_f0ad8b56ca4crow14_col8 {\n            background-color:  #d8dce2;\n            color:  #000000;\n        }    #T_7cae3cf4_0c0e_11eb_8448_f0ad8b56ca4crow14_col9 {\n            background-color:  #c32e31;\n            color:  #f1f1f1;\n        }    #T_7cae3cf4_0c0e_11eb_8448_f0ad8b56ca4crow14_col10 {\n            background-color:  #bb1b2c;\n            color:  #f1f1f1;\n        }    #T_7cae3cf4_0c0e_11eb_8448_f0ad8b56ca4crow14_col11 {\n            background-color:  #b3cdfb;\n            color:  #000000;\n        }    #T_7cae3cf4_0c0e_11eb_8448_f0ad8b56ca4crow14_col12 {\n            background-color:  #779af7;\n            color:  #000000;\n        }    #T_7cae3cf4_0c0e_11eb_8448_f0ad8b56ca4crow14_col13 {\n            background-color:  #f59c7d;\n            color:  #000000;\n        }    #T_7cae3cf4_0c0e_11eb_8448_f0ad8b56ca4crow14_col14 {\n            background-color:  #b40426;\n            color:  #f1f1f1;\n        }    #T_7cae3cf4_0c0e_11eb_8448_f0ad8b56ca4crow14_col15 {\n            background-color:  #f6a586;\n            color:  #000000;\n        }    #T_7cae3cf4_0c0e_11eb_8448_f0ad8b56ca4crow14_col16 {\n            background-color:  #c53334;\n            color:  #f1f1f1;\n        }    #T_7cae3cf4_0c0e_11eb_8448_f0ad8b56ca4crow15_col0 {\n            background-color:  #f6a385;\n            color:  #000000;\n        }    #T_7cae3cf4_0c0e_11eb_8448_f0ad8b56ca4crow15_col1 {\n            background-color:  #e1dad6;\n            color:  #000000;\n        }    #T_7cae3cf4_0c0e_11eb_8448_f0ad8b56ca4crow15_col2 {\n            background-color:  #f6bea4;\n            color:  #000000;\n        }    #T_7cae3cf4_0c0e_11eb_8448_f0ad8b56ca4crow15_col3 {\n            background-color:  #d9dce1;\n            color:  #000000;\n        }    #T_7cae3cf4_0c0e_11eb_8448_f0ad8b56ca4crow15_col4 {\n            background-color:  #9abbff;\n            color:  #000000;\n        }    #T_7cae3cf4_0c0e_11eb_8448_f0ad8b56ca4crow15_col5 {\n            background-color:  #5572df;\n            color:  #000000;\n        }    #T_7cae3cf4_0c0e_11eb_8448_f0ad8b56ca4crow15_col6 {\n            background-color:  #c43032;\n            color:  #f1f1f1;\n        }    #T_7cae3cf4_0c0e_11eb_8448_f0ad8b56ca4crow15_col7 {\n            background-color:  #f1cdba;\n            color:  #000000;\n        }    #T_7cae3cf4_0c0e_11eb_8448_f0ad8b56ca4crow15_col8 {\n            background-color:  #adc9fd;\n            color:  #000000;\n        }    #T_7cae3cf4_0c0e_11eb_8448_f0ad8b56ca4crow15_col9 {\n            background-color:  #d2dbe8;\n            color:  #000000;\n        }    #T_7cae3cf4_0c0e_11eb_8448_f0ad8b56ca4crow15_col10 {\n            background-color:  #f4c5ad;\n            color:  #000000;\n        }    #T_7cae3cf4_0c0e_11eb_8448_f0ad8b56ca4crow15_col11 {\n            background-color:  #5977e3;\n            color:  #000000;\n        }    #T_7cae3cf4_0c0e_11eb_8448_f0ad8b56ca4crow15_col12 {\n            background-color:  #3b4cc0;\n            color:  #f1f1f1;\n        }    #T_7cae3cf4_0c0e_11eb_8448_f0ad8b56ca4crow15_col13 {\n            background-color:  #bb1b2c;\n            color:  #f1f1f1;\n        }    #T_7cae3cf4_0c0e_11eb_8448_f0ad8b56ca4crow15_col14 {\n            background-color:  #f5c0a7;\n            color:  #000000;\n        }    #T_7cae3cf4_0c0e_11eb_8448_f0ad8b56ca4crow15_col15 {\n            background-color:  #b40426;\n            color:  #f1f1f1;\n        }    #T_7cae3cf4_0c0e_11eb_8448_f0ad8b56ca4crow15_col16 {\n            background-color:  #f3c8b2;\n            color:  #000000;\n        }    #T_7cae3cf4_0c0e_11eb_8448_f0ad8b56ca4crow16_col0 {\n            background-color:  #f3c7b1;\n            color:  #000000;\n        }    #T_7cae3cf4_0c0e_11eb_8448_f0ad8b56ca4crow16_col1 {\n            background-color:  #89acfd;\n            color:  #000000;\n        }    #T_7cae3cf4_0c0e_11eb_8448_f0ad8b56ca4crow16_col2 {\n            background-color:  #bbd1f8;\n            color:  #000000;\n        }    #T_7cae3cf4_0c0e_11eb_8448_f0ad8b56ca4crow16_col3 {\n            background-color:  #ed8366;\n            color:  #000000;\n        }    #T_7cae3cf4_0c0e_11eb_8448_f0ad8b56ca4crow16_col4 {\n            background-color:  #f59d7e;\n            color:  #000000;\n        }    #T_7cae3cf4_0c0e_11eb_8448_f0ad8b56ca4crow16_col5 {\n            background-color:  #bbd1f8;\n            color:  #000000;\n        }    #T_7cae3cf4_0c0e_11eb_8448_f0ad8b56ca4crow16_col6 {\n            background-color:  #f7bca1;\n            color:  #000000;\n        }    #T_7cae3cf4_0c0e_11eb_8448_f0ad8b56ca4crow16_col7 {\n            background-color:  #cd423b;\n            color:  #f1f1f1;\n        }    #T_7cae3cf4_0c0e_11eb_8448_f0ad8b56ca4crow16_col8 {\n            background-color:  #f1ccb8;\n            color:  #000000;\n        }    #T_7cae3cf4_0c0e_11eb_8448_f0ad8b56ca4crow16_col9 {\n            background-color:  #ca3b37;\n            color:  #f1f1f1;\n        }    #T_7cae3cf4_0c0e_11eb_8448_f0ad8b56ca4crow16_col10 {\n            background-color:  #c0282f;\n            color:  #f1f1f1;\n        }    #T_7cae3cf4_0c0e_11eb_8448_f0ad8b56ca4crow16_col11 {\n            background-color:  #cdd9ec;\n            color:  #000000;\n        }    #T_7cae3cf4_0c0e_11eb_8448_f0ad8b56ca4crow16_col12 {\n            background-color:  #6f92f3;\n            color:  #000000;\n        }    #T_7cae3cf4_0c0e_11eb_8448_f0ad8b56ca4crow16_col13 {\n            background-color:  #f7a688;\n            color:  #000000;\n        }    #T_7cae3cf4_0c0e_11eb_8448_f0ad8b56ca4crow16_col14 {\n            background-color:  #c53334;\n            color:  #f1f1f1;\n        }    #T_7cae3cf4_0c0e_11eb_8448_f0ad8b56ca4crow16_col15 {\n            background-color:  #f7a98b;\n            color:  #000000;\n        }    #T_7cae3cf4_0c0e_11eb_8448_f0ad8b56ca4crow16_col16 {\n            background-color:  #b40426;\n            color:  #f1f1f1;\n        }</style><table id=\"T_7cae3cf4_0c0e_11eb_8448_f0ad8b56ca4c\" ><thead>    <tr>        <th class=\"blank level0\" ></th>        <th class=\"col_heading level0 col0\" >0</th>        <th class=\"col_heading level0 col1\" >1</th>        <th class=\"col_heading level0 col2\" >2</th>        <th class=\"col_heading level0 col3\" >3</th>        <th class=\"col_heading level0 col4\" >4</th>        <th class=\"col_heading level0 col5\" >5</th>        <th class=\"col_heading level0 col6\" >6</th>        <th class=\"col_heading level0 col7\" >7</th>        <th class=\"col_heading level0 col8\" >8</th>        <th class=\"col_heading level0 col9\" >9</th>        <th class=\"col_heading level0 col10\" >10</th>        <th class=\"col_heading level0 col11\" >11</th>        <th class=\"col_heading level0 col12\" >12</th>        <th class=\"col_heading level0 col13\" >13</th>        <th class=\"col_heading level0 col14\" >14</th>        <th class=\"col_heading level0 col15\" >15</th>        <th class=\"col_heading level0 col16\" >16</th>    </tr></thead><tbody>\n                <tr>\n                        <th id=\"T_7cae3cf4_0c0e_11eb_8448_f0ad8b56ca4clevel0_row0\" class=\"row_heading level0 row0\" >0</th>\n                        <td id=\"T_7cae3cf4_0c0e_11eb_8448_f0ad8b56ca4crow0_col0\" class=\"data row0 col0\" >1.00</td>\n                        <td id=\"T_7cae3cf4_0c0e_11eb_8448_f0ad8b56ca4crow0_col1\" class=\"data row0 col1\" >0.43</td>\n                        <td id=\"T_7cae3cf4_0c0e_11eb_8448_f0ad8b56ca4crow0_col2\" class=\"data row0 col2\" >0.50</td>\n                        <td id=\"T_7cae3cf4_0c0e_11eb_8448_f0ad8b56ca4crow0_col3\" class=\"data row0 col3\" >-0.14</td>\n                        <td id=\"T_7cae3cf4_0c0e_11eb_8448_f0ad8b56ca4crow0_col4\" class=\"data row0 col4\" >-0.28</td>\n                        <td id=\"T_7cae3cf4_0c0e_11eb_8448_f0ad8b56ca4crow0_col5\" class=\"data row0 col5\" >-0.52</td>\n                        <td id=\"T_7cae3cf4_0c0e_11eb_8448_f0ad8b56ca4crow0_col6\" class=\"data row0 col6\" >0.66</td>\n                        <td id=\"T_7cae3cf4_0c0e_11eb_8448_f0ad8b56ca4crow0_col7\" class=\"data row0 col7\" >0.55</td>\n                        <td id=\"T_7cae3cf4_0c0e_11eb_8448_f0ad8b56ca4crow0_col8\" class=\"data row0 col8\" >-0.33</td>\n                        <td id=\"T_7cae3cf4_0c0e_11eb_8448_f0ad8b56ca4crow0_col9\" class=\"data row0 col9\" >0.50</td>\n                        <td id=\"T_7cae3cf4_0c0e_11eb_8448_f0ad8b56ca4crow0_col10\" class=\"data row0 col10\" >0.46</td>\n                        <td id=\"T_7cae3cf4_0c0e_11eb_8448_f0ad8b56ca4crow0_col11\" class=\"data row0 col11\" >-0.58</td>\n                        <td id=\"T_7cae3cf4_0c0e_11eb_8448_f0ad8b56ca4crow0_col12\" class=\"data row0 col12\" >0.05</td>\n                        <td id=\"T_7cae3cf4_0c0e_11eb_8448_f0ad8b56ca4crow0_col13\" class=\"data row0 col13\" >0.70</td>\n                        <td id=\"T_7cae3cf4_0c0e_11eb_8448_f0ad8b56ca4crow0_col14\" class=\"data row0 col14\" >0.47</td>\n                        <td id=\"T_7cae3cf4_0c0e_11eb_8448_f0ad8b56ca4crow0_col15\" class=\"data row0 col15\" >0.56</td>\n                        <td id=\"T_7cae3cf4_0c0e_11eb_8448_f0ad8b56ca4crow0_col16\" class=\"data row0 col16\" >0.39</td>\n            </tr>\n            <tr>\n                        <th id=\"T_7cae3cf4_0c0e_11eb_8448_f0ad8b56ca4clevel0_row1\" class=\"row_heading level0 row1\" >1</th>\n                        <td id=\"T_7cae3cf4_0c0e_11eb_8448_f0ad8b56ca4crow1_col0\" class=\"data row1 col0\" >0.43</td>\n                        <td id=\"T_7cae3cf4_0c0e_11eb_8448_f0ad8b56ca4crow1_col1\" class=\"data row1 col1\" >1.00</td>\n                        <td id=\"T_7cae3cf4_0c0e_11eb_8448_f0ad8b56ca4crow1_col2\" class=\"data row1 col2\" >0.55</td>\n                        <td id=\"T_7cae3cf4_0c0e_11eb_8448_f0ad8b56ca4crow1_col3\" class=\"data row1 col3\" >-0.25</td>\n                        <td id=\"T_7cae3cf4_0c0e_11eb_8448_f0ad8b56ca4crow1_col4\" class=\"data row1 col4\" >-0.41</td>\n                        <td id=\"T_7cae3cf4_0c0e_11eb_8448_f0ad8b56ca4crow1_col5\" class=\"data row1 col5\" >-0.41</td>\n                        <td id=\"T_7cae3cf4_0c0e_11eb_8448_f0ad8b56ca4crow1_col6\" class=\"data row1 col6\" >0.43</td>\n                        <td id=\"T_7cae3cf4_0c0e_11eb_8448_f0ad8b56ca4crow1_col7\" class=\"data row1 col7\" >0.02</td>\n                        <td id=\"T_7cae3cf4_0c0e_11eb_8448_f0ad8b56ca4crow1_col8\" class=\"data row1 col8\" >-0.37</td>\n                        <td id=\"T_7cae3cf4_0c0e_11eb_8448_f0ad8b56ca4crow1_col9\" class=\"data row1 col9\" >0.04</td>\n                        <td id=\"T_7cae3cf4_0c0e_11eb_8448_f0ad8b56ca4crow1_col10\" class=\"data row1 col10\" >0.10</td>\n                        <td id=\"T_7cae3cf4_0c0e_11eb_8448_f0ad8b56ca4crow1_col11\" class=\"data row1 col11\" >-0.42</td>\n                        <td id=\"T_7cae3cf4_0c0e_11eb_8448_f0ad8b56ca4crow1_col12\" class=\"data row1 col12\" >0.20</td>\n                        <td id=\"T_7cae3cf4_0c0e_11eb_8448_f0ad8b56ca4crow1_col13\" class=\"data row1 col13\" >0.41</td>\n                        <td id=\"T_7cae3cf4_0c0e_11eb_8448_f0ad8b56ca4crow1_col14\" class=\"data row1 col14\" >0.10</td>\n                        <td id=\"T_7cae3cf4_0c0e_11eb_8448_f0ad8b56ca4crow1_col15\" class=\"data row1 col15\" >0.32</td>\n                        <td id=\"T_7cae3cf4_0c0e_11eb_8448_f0ad8b56ca4crow1_col16\" class=\"data row1 col16\" >-0.08</td>\n            </tr>\n            <tr>\n                        <th id=\"T_7cae3cf4_0c0e_11eb_8448_f0ad8b56ca4clevel0_row2\" class=\"row_heading level0 row2\" >2</th>\n                        <td id=\"T_7cae3cf4_0c0e_11eb_8448_f0ad8b56ca4crow2_col0\" class=\"data row2 col0\" >0.50</td>\n                        <td id=\"T_7cae3cf4_0c0e_11eb_8448_f0ad8b56ca4crow2_col1\" class=\"data row2 col1\" >0.55</td>\n                        <td id=\"T_7cae3cf4_0c0e_11eb_8448_f0ad8b56ca4crow2_col2\" class=\"data row2 col2\" >1.00</td>\n                        <td id=\"T_7cae3cf4_0c0e_11eb_8448_f0ad8b56ca4crow2_col3\" class=\"data row2 col3\" >-0.33</td>\n                        <td id=\"T_7cae3cf4_0c0e_11eb_8448_f0ad8b56ca4crow2_col4\" class=\"data row2 col4\" >-0.50</td>\n                        <td id=\"T_7cae3cf4_0c0e_11eb_8448_f0ad8b56ca4crow2_col5\" class=\"data row2 col5\" >-0.41</td>\n                        <td id=\"T_7cae3cf4_0c0e_11eb_8448_f0ad8b56ca4crow2_col6\" class=\"data row2 col6\" >0.57</td>\n                        <td id=\"T_7cae3cf4_0c0e_11eb_8448_f0ad8b56ca4crow2_col7\" class=\"data row2 col7\" >0.05</td>\n                        <td id=\"T_7cae3cf4_0c0e_11eb_8448_f0ad8b56ca4crow2_col8\" class=\"data row2 col8\" >-0.50</td>\n                        <td id=\"T_7cae3cf4_0c0e_11eb_8448_f0ad8b56ca4crow2_col9\" class=\"data row2 col9\" >0.05</td>\n                        <td id=\"T_7cae3cf4_0c0e_11eb_8448_f0ad8b56ca4crow2_col10\" class=\"data row2 col10\" >0.09</td>\n                        <td id=\"T_7cae3cf4_0c0e_11eb_8448_f0ad8b56ca4crow2_col11\" class=\"data row2 col11\" >-0.66</td>\n                        <td id=\"T_7cae3cf4_0c0e_11eb_8448_f0ad8b56ca4crow2_col12\" class=\"data row2 col12\" >0.18</td>\n                        <td id=\"T_7cae3cf4_0c0e_11eb_8448_f0ad8b56ca4crow2_col13\" class=\"data row2 col13\" >0.51</td>\n                        <td id=\"T_7cae3cf4_0c0e_11eb_8448_f0ad8b56ca4crow2_col14\" class=\"data row2 col14\" >0.15</td>\n                        <td id=\"T_7cae3cf4_0c0e_11eb_8448_f0ad8b56ca4crow2_col15\" class=\"data row2 col15\" >0.41</td>\n                        <td id=\"T_7cae3cf4_0c0e_11eb_8448_f0ad8b56ca4crow2_col16\" class=\"data row2 col16\" >-0.02</td>\n            </tr>\n            <tr>\n                        <th id=\"T_7cae3cf4_0c0e_11eb_8448_f0ad8b56ca4clevel0_row3\" class=\"row_heading level0 row3\" >3</th>\n                        <td id=\"T_7cae3cf4_0c0e_11eb_8448_f0ad8b56ca4crow3_col0\" class=\"data row3 col0\" >-0.14</td>\n                        <td id=\"T_7cae3cf4_0c0e_11eb_8448_f0ad8b56ca4crow3_col1\" class=\"data row3 col1\" >-0.25</td>\n                        <td id=\"T_7cae3cf4_0c0e_11eb_8448_f0ad8b56ca4crow3_col2\" class=\"data row3 col2\" >-0.33</td>\n                        <td id=\"T_7cae3cf4_0c0e_11eb_8448_f0ad8b56ca4crow3_col3\" class=\"data row3 col3\" >1.00</td>\n                        <td id=\"T_7cae3cf4_0c0e_11eb_8448_f0ad8b56ca4crow3_col4\" class=\"data row3 col4\" >0.86</td>\n                        <td id=\"T_7cae3cf4_0c0e_11eb_8448_f0ad8b56ca4crow3_col5\" class=\"data row3 col5\" >0.37</td>\n                        <td id=\"T_7cae3cf4_0c0e_11eb_8448_f0ad8b56ca4crow3_col6\" class=\"data row3 col6\" >0.08</td>\n                        <td id=\"T_7cae3cf4_0c0e_11eb_8448_f0ad8b56ca4crow3_col7\" class=\"data row3 col7\" >0.50</td>\n                        <td id=\"T_7cae3cf4_0c0e_11eb_8448_f0ad8b56ca4crow3_col8\" class=\"data row3 col8\" >0.72</td>\n                        <td id=\"T_7cae3cf4_0c0e_11eb_8448_f0ad8b56ca4crow3_col9\" class=\"data row3 col9\" >0.56</td>\n                        <td id=\"T_7cae3cf4_0c0e_11eb_8448_f0ad8b56ca4crow3_col10\" class=\"data row3 col10\" >0.70</td>\n                        <td id=\"T_7cae3cf4_0c0e_11eb_8448_f0ad8b56ca4crow3_col11\" class=\"data row3 col11\" >0.39</td>\n                        <td id=\"T_7cae3cf4_0c0e_11eb_8448_f0ad8b56ca4crow3_col12\" class=\"data row3 col12\" >-0.29</td>\n                        <td id=\"T_7cae3cf4_0c0e_11eb_8448_f0ad8b56ca4crow3_col13\" class=\"data row3 col13\" >0.18</td>\n                        <td id=\"T_7cae3cf4_0c0e_11eb_8448_f0ad8b56ca4crow3_col14\" class=\"data row3 col14\" >0.61</td>\n                        <td id=\"T_7cae3cf4_0c0e_11eb_8448_f0ad8b56ca4crow3_col15\" class=\"data row3 col15\" >0.32</td>\n                        <td id=\"T_7cae3cf4_0c0e_11eb_8448_f0ad8b56ca4crow3_col16\" class=\"data row3 col16\" >0.74</td>\n            </tr>\n            <tr>\n                        <th id=\"T_7cae3cf4_0c0e_11eb_8448_f0ad8b56ca4clevel0_row4\" class=\"row_heading level0 row4\" >4</th>\n                        <td id=\"T_7cae3cf4_0c0e_11eb_8448_f0ad8b56ca4crow4_col0\" class=\"data row4 col0\" >-0.28</td>\n                        <td id=\"T_7cae3cf4_0c0e_11eb_8448_f0ad8b56ca4crow4_col1\" class=\"data row4 col1\" >-0.41</td>\n                        <td id=\"T_7cae3cf4_0c0e_11eb_8448_f0ad8b56ca4crow4_col2\" class=\"data row4 col2\" >-0.50</td>\n                        <td id=\"T_7cae3cf4_0c0e_11eb_8448_f0ad8b56ca4crow4_col3\" class=\"data row4 col3\" >0.86</td>\n                        <td id=\"T_7cae3cf4_0c0e_11eb_8448_f0ad8b56ca4crow4_col4\" class=\"data row4 col4\" >1.00</td>\n                        <td id=\"T_7cae3cf4_0c0e_11eb_8448_f0ad8b56ca4crow4_col5\" class=\"data row4 col5\" >0.68</td>\n                        <td id=\"T_7cae3cf4_0c0e_11eb_8448_f0ad8b56ca4crow4_col6\" class=\"data row4 col6\" >-0.35</td>\n                        <td id=\"T_7cae3cf4_0c0e_11eb_8448_f0ad8b56ca4crow4_col7\" class=\"data row4 col7\" >0.39</td>\n                        <td id=\"T_7cae3cf4_0c0e_11eb_8448_f0ad8b56ca4crow4_col8\" class=\"data row4 col8\" >0.85</td>\n                        <td id=\"T_7cae3cf4_0c0e_11eb_8448_f0ad8b56ca4crow4_col9\" class=\"data row4 col9\" >0.49</td>\n                        <td id=\"T_7cae3cf4_0c0e_11eb_8448_f0ad8b56ca4crow4_col10\" class=\"data row4 col10\" >0.53</td>\n                        <td id=\"T_7cae3cf4_0c0e_11eb_8448_f0ad8b56ca4crow4_col11\" class=\"data row4 col11\" >0.70</td>\n                        <td id=\"T_7cae3cf4_0c0e_11eb_8448_f0ad8b56ca4crow4_col12\" class=\"data row4 col12\" >-0.05</td>\n                        <td id=\"T_7cae3cf4_0c0e_11eb_8448_f0ad8b56ca4crow4_col13\" class=\"data row4 col13\" >-0.21</td>\n                        <td id=\"T_7cae3cf4_0c0e_11eb_8448_f0ad8b56ca4crow4_col14\" class=\"data row4 col14\" >0.43</td>\n                        <td id=\"T_7cae3cf4_0c0e_11eb_8448_f0ad8b56ca4crow4_col15\" class=\"data row4 col15\" >-0.07</td>\n                        <td id=\"T_7cae3cf4_0c0e_11eb_8448_f0ad8b56ca4crow4_col16\" class=\"data row4 col16\" >0.61</td>\n            </tr>\n            <tr>\n                        <th id=\"T_7cae3cf4_0c0e_11eb_8448_f0ad8b56ca4clevel0_row5\" class=\"row_heading level0 row5\" >5</th>\n                        <td id=\"T_7cae3cf4_0c0e_11eb_8448_f0ad8b56ca4crow5_col0\" class=\"data row5 col0\" >-0.52</td>\n                        <td id=\"T_7cae3cf4_0c0e_11eb_8448_f0ad8b56ca4crow5_col1\" class=\"data row5 col1\" >-0.41</td>\n                        <td id=\"T_7cae3cf4_0c0e_11eb_8448_f0ad8b56ca4crow5_col2\" class=\"data row5 col2\" >-0.41</td>\n                        <td id=\"T_7cae3cf4_0c0e_11eb_8448_f0ad8b56ca4crow5_col3\" class=\"data row5 col3\" >0.37</td>\n                        <td id=\"T_7cae3cf4_0c0e_11eb_8448_f0ad8b56ca4crow5_col4\" class=\"data row5 col4\" >0.68</td>\n                        <td id=\"T_7cae3cf4_0c0e_11eb_8448_f0ad8b56ca4crow5_col5\" class=\"data row5 col5\" >1.00</td>\n                        <td id=\"T_7cae3cf4_0c0e_11eb_8448_f0ad8b56ca4crow5_col6\" class=\"data row5 col6\" >-0.74</td>\n                        <td id=\"T_7cae3cf4_0c0e_11eb_8448_f0ad8b56ca4crow5_col7\" class=\"data row5 col7\" >-0.25</td>\n                        <td id=\"T_7cae3cf4_0c0e_11eb_8448_f0ad8b56ca4crow5_col8\" class=\"data row5 col8\" >0.57</td>\n                        <td id=\"T_7cae3cf4_0c0e_11eb_8448_f0ad8b56ca4crow5_col9\" class=\"data row5 col9\" >-0.13</td>\n                        <td id=\"T_7cae3cf4_0c0e_11eb_8448_f0ad8b56ca4crow5_col10\" class=\"data row5 col10\" >-0.15</td>\n                        <td id=\"T_7cae3cf4_0c0e_11eb_8448_f0ad8b56ca4crow5_col11\" class=\"data row5 col11\" >0.82</td>\n                        <td id=\"T_7cae3cf4_0c0e_11eb_8448_f0ad8b56ca4crow5_col12\" class=\"data row5 col12\" >0.39</td>\n                        <td id=\"T_7cae3cf4_0c0e_11eb_8448_f0ad8b56ca4crow5_col13\" class=\"data row5 col13\" >-0.67</td>\n                        <td id=\"T_7cae3cf4_0c0e_11eb_8448_f0ad8b56ca4crow5_col14\" class=\"data row5 col14\" >-0.26</td>\n                        <td id=\"T_7cae3cf4_0c0e_11eb_8448_f0ad8b56ca4crow5_col15\" class=\"data row5 col15\" >-0.59</td>\n                        <td id=\"T_7cae3cf4_0c0e_11eb_8448_f0ad8b56ca4crow5_col16\" class=\"data row5 col16\" >-0.07</td>\n            </tr>\n            <tr>\n                        <th id=\"T_7cae3cf4_0c0e_11eb_8448_f0ad8b56ca4clevel0_row6\" class=\"row_heading level0 row6\" >6</th>\n                        <td id=\"T_7cae3cf4_0c0e_11eb_8448_f0ad8b56ca4crow6_col0\" class=\"data row6 col0\" >0.66</td>\n                        <td id=\"T_7cae3cf4_0c0e_11eb_8448_f0ad8b56ca4crow6_col1\" class=\"data row6 col1\" >0.43</td>\n                        <td id=\"T_7cae3cf4_0c0e_11eb_8448_f0ad8b56ca4crow6_col2\" class=\"data row6 col2\" >0.57</td>\n                        <td id=\"T_7cae3cf4_0c0e_11eb_8448_f0ad8b56ca4crow6_col3\" class=\"data row6 col3\" >0.08</td>\n                        <td id=\"T_7cae3cf4_0c0e_11eb_8448_f0ad8b56ca4crow6_col4\" class=\"data row6 col4\" >-0.35</td>\n                        <td id=\"T_7cae3cf4_0c0e_11eb_8448_f0ad8b56ca4crow6_col5\" class=\"data row6 col5\" >-0.74</td>\n                        <td id=\"T_7cae3cf4_0c0e_11eb_8448_f0ad8b56ca4crow6_col6\" class=\"data row6 col6\" >1.00</td>\n                        <td id=\"T_7cae3cf4_0c0e_11eb_8448_f0ad8b56ca4crow6_col7\" class=\"data row6 col7\" >0.42</td>\n                        <td id=\"T_7cae3cf4_0c0e_11eb_8448_f0ad8b56ca4crow6_col8\" class=\"data row6 col8\" >-0.28</td>\n                        <td id=\"T_7cae3cf4_0c0e_11eb_8448_f0ad8b56ca4crow6_col9\" class=\"data row6 col9\" >0.32</td>\n                        <td id=\"T_7cae3cf4_0c0e_11eb_8448_f0ad8b56ca4crow6_col10\" class=\"data row6 col10\" >0.46</td>\n                        <td id=\"T_7cae3cf4_0c0e_11eb_8448_f0ad8b56ca4crow6_col11\" class=\"data row6 col11\" >-0.83</td>\n                        <td id=\"T_7cae3cf4_0c0e_11eb_8448_f0ad8b56ca4crow6_col12\" class=\"data row6 col12\" >-0.34</td>\n                        <td id=\"T_7cae3cf4_0c0e_11eb_8448_f0ad8b56ca4crow6_col13\" class=\"data row6 col13\" >0.96</td>\n                        <td id=\"T_7cae3cf4_0c0e_11eb_8448_f0ad8b56ca4crow6_col14\" class=\"data row6 col14\" >0.48</td>\n                        <td id=\"T_7cae3cf4_0c0e_11eb_8448_f0ad8b56ca4crow6_col15\" class=\"data row6 col15\" >0.92</td>\n                        <td id=\"T_7cae3cf4_0c0e_11eb_8448_f0ad8b56ca4crow6_col16\" class=\"data row6 col16\" >0.37</td>\n            </tr>\n            <tr>\n                        <th id=\"T_7cae3cf4_0c0e_11eb_8448_f0ad8b56ca4clevel0_row7\" class=\"row_heading level0 row7\" >7</th>\n                        <td id=\"T_7cae3cf4_0c0e_11eb_8448_f0ad8b56ca4crow7_col0\" class=\"data row7 col0\" >0.55</td>\n                        <td id=\"T_7cae3cf4_0c0e_11eb_8448_f0ad8b56ca4crow7_col1\" class=\"data row7 col1\" >0.02</td>\n                        <td id=\"T_7cae3cf4_0c0e_11eb_8448_f0ad8b56ca4crow7_col2\" class=\"data row7 col2\" >0.05</td>\n                        <td id=\"T_7cae3cf4_0c0e_11eb_8448_f0ad8b56ca4crow7_col3\" class=\"data row7 col3\" >0.50</td>\n                        <td id=\"T_7cae3cf4_0c0e_11eb_8448_f0ad8b56ca4crow7_col4\" class=\"data row7 col4\" >0.39</td>\n                        <td id=\"T_7cae3cf4_0c0e_11eb_8448_f0ad8b56ca4crow7_col5\" class=\"data row7 col5\" >-0.25</td>\n                        <td id=\"T_7cae3cf4_0c0e_11eb_8448_f0ad8b56ca4crow7_col6\" class=\"data row7 col6\" >0.42</td>\n                        <td id=\"T_7cae3cf4_0c0e_11eb_8448_f0ad8b56ca4crow7_col7\" class=\"data row7 col7\" >1.00</td>\n                        <td id=\"T_7cae3cf4_0c0e_11eb_8448_f0ad8b56ca4crow7_col8\" class=\"data row7 col8\" >0.17</td>\n                        <td id=\"T_7cae3cf4_0c0e_11eb_8448_f0ad8b56ca4crow7_col9\" class=\"data row7 col9\" >0.95</td>\n                        <td id=\"T_7cae3cf4_0c0e_11eb_8448_f0ad8b56ca4crow7_col10\" class=\"data row7 col10\" >0.92</td>\n                        <td id=\"T_7cae3cf4_0c0e_11eb_8448_f0ad8b56ca4crow7_col11\" class=\"data row7 col11\" >-0.19</td>\n                        <td id=\"T_7cae3cf4_0c0e_11eb_8448_f0ad8b56ca4crow7_col12\" class=\"data row7 col12\" >-0.09</td>\n                        <td id=\"T_7cae3cf4_0c0e_11eb_8448_f0ad8b56ca4crow7_col13\" class=\"data row7 col13\" >0.53</td>\n                        <td id=\"T_7cae3cf4_0c0e_11eb_8448_f0ad8b56ca4crow7_col14\" class=\"data row7 col14\" >0.92</td>\n                        <td id=\"T_7cae3cf4_0c0e_11eb_8448_f0ad8b56ca4crow7_col15\" class=\"data row7 col15\" >0.49</td>\n                        <td id=\"T_7cae3cf4_0c0e_11eb_8448_f0ad8b56ca4crow7_col16\" class=\"data row7 col16\" >0.91</td>\n            </tr>\n            <tr>\n                        <th id=\"T_7cae3cf4_0c0e_11eb_8448_f0ad8b56ca4clevel0_row8\" class=\"row_heading level0 row8\" >8</th>\n                        <td id=\"T_7cae3cf4_0c0e_11eb_8448_f0ad8b56ca4crow8_col0\" class=\"data row8 col0\" >-0.33</td>\n                        <td id=\"T_7cae3cf4_0c0e_11eb_8448_f0ad8b56ca4crow8_col1\" class=\"data row8 col1\" >-0.37</td>\n                        <td id=\"T_7cae3cf4_0c0e_11eb_8448_f0ad8b56ca4crow8_col2\" class=\"data row8 col2\" >-0.50</td>\n                        <td id=\"T_7cae3cf4_0c0e_11eb_8448_f0ad8b56ca4crow8_col3\" class=\"data row8 col3\" >0.72</td>\n                        <td id=\"T_7cae3cf4_0c0e_11eb_8448_f0ad8b56ca4crow8_col4\" class=\"data row8 col4\" >0.85</td>\n                        <td id=\"T_7cae3cf4_0c0e_11eb_8448_f0ad8b56ca4crow8_col5\" class=\"data row8 col5\" >0.57</td>\n                        <td id=\"T_7cae3cf4_0c0e_11eb_8448_f0ad8b56ca4crow8_col6\" class=\"data row8 col6\" >-0.28</td>\n                        <td id=\"T_7cae3cf4_0c0e_11eb_8448_f0ad8b56ca4crow8_col7\" class=\"data row8 col7\" >0.17</td>\n                        <td id=\"T_7cae3cf4_0c0e_11eb_8448_f0ad8b56ca4crow8_col8\" class=\"data row8 col8\" >1.00</td>\n                        <td id=\"T_7cae3cf4_0c0e_11eb_8448_f0ad8b56ca4crow8_col9\" class=\"data row8 col9\" >0.26</td>\n                        <td id=\"T_7cae3cf4_0c0e_11eb_8448_f0ad8b56ca4crow8_col10\" class=\"data row8 col10\" >0.34</td>\n                        <td id=\"T_7cae3cf4_0c0e_11eb_8448_f0ad8b56ca4crow8_col11\" class=\"data row8 col11\" >0.67</td>\n                        <td id=\"T_7cae3cf4_0c0e_11eb_8448_f0ad8b56ca4crow8_col12\" class=\"data row8 col12\" >-0.26</td>\n                        <td id=\"T_7cae3cf4_0c0e_11eb_8448_f0ad8b56ca4crow8_col13\" class=\"data row8 col13\" >-0.18</td>\n                        <td id=\"T_7cae3cf4_0c0e_11eb_8448_f0ad8b56ca4crow8_col14\" class=\"data row8 col14\" >0.23</td>\n                        <td id=\"T_7cae3cf4_0c0e_11eb_8448_f0ad8b56ca4crow8_col15\" class=\"data row8 col15\" >0.02</td>\n                        <td id=\"T_7cae3cf4_0c0e_11eb_8448_f0ad8b56ca4crow8_col16\" class=\"data row8 col16\" >0.39</td>\n            </tr>\n            <tr>\n                        <th id=\"T_7cae3cf4_0c0e_11eb_8448_f0ad8b56ca4clevel0_row9\" class=\"row_heading level0 row9\" >9</th>\n                        <td id=\"T_7cae3cf4_0c0e_11eb_8448_f0ad8b56ca4crow9_col0\" class=\"data row9 col0\" >0.50</td>\n                        <td id=\"T_7cae3cf4_0c0e_11eb_8448_f0ad8b56ca4crow9_col1\" class=\"data row9 col1\" >0.04</td>\n                        <td id=\"T_7cae3cf4_0c0e_11eb_8448_f0ad8b56ca4crow9_col2\" class=\"data row9 col2\" >0.05</td>\n                        <td id=\"T_7cae3cf4_0c0e_11eb_8448_f0ad8b56ca4crow9_col3\" class=\"data row9 col3\" >0.56</td>\n                        <td id=\"T_7cae3cf4_0c0e_11eb_8448_f0ad8b56ca4crow9_col4\" class=\"data row9 col4\" >0.49</td>\n                        <td id=\"T_7cae3cf4_0c0e_11eb_8448_f0ad8b56ca4crow9_col5\" class=\"data row9 col5\" >-0.13</td>\n                        <td id=\"T_7cae3cf4_0c0e_11eb_8448_f0ad8b56ca4crow9_col6\" class=\"data row9 col6\" >0.32</td>\n                        <td id=\"T_7cae3cf4_0c0e_11eb_8448_f0ad8b56ca4crow9_col7\" class=\"data row9 col7\" >0.95</td>\n                        <td id=\"T_7cae3cf4_0c0e_11eb_8448_f0ad8b56ca4crow9_col8\" class=\"data row9 col8\" >0.26</td>\n                        <td id=\"T_7cae3cf4_0c0e_11eb_8448_f0ad8b56ca4crow9_col9\" class=\"data row9 col9\" >1.00</td>\n                        <td id=\"T_7cae3cf4_0c0e_11eb_8448_f0ad8b56ca4crow9_col10\" class=\"data row9 col10\" >0.95</td>\n                        <td id=\"T_7cae3cf4_0c0e_11eb_8448_f0ad8b56ca4crow9_col11\" class=\"data row9 col11\" >-0.05</td>\n                        <td id=\"T_7cae3cf4_0c0e_11eb_8448_f0ad8b56ca4crow9_col12\" class=\"data row9 col12\" >-0.06</td>\n                        <td id=\"T_7cae3cf4_0c0e_11eb_8448_f0ad8b56ca4crow9_col13\" class=\"data row9 col13\" >0.43</td>\n                        <td id=\"T_7cae3cf4_0c0e_11eb_8448_f0ad8b56ca4crow9_col14\" class=\"data row9 col14\" >0.95</td>\n                        <td id=\"T_7cae3cf4_0c0e_11eb_8448_f0ad8b56ca4crow9_col15\" class=\"data row9 col15\" >0.39</td>\n                        <td id=\"T_7cae3cf4_0c0e_11eb_8448_f0ad8b56ca4crow9_col16\" class=\"data row9 col16\" >0.93</td>\n            </tr>\n            <tr>\n                        <th id=\"T_7cae3cf4_0c0e_11eb_8448_f0ad8b56ca4clevel0_row10\" class=\"row_heading level0 row10\" >10</th>\n                        <td id=\"T_7cae3cf4_0c0e_11eb_8448_f0ad8b56ca4crow10_col0\" class=\"data row10 col0\" >0.46</td>\n                        <td id=\"T_7cae3cf4_0c0e_11eb_8448_f0ad8b56ca4crow10_col1\" class=\"data row10 col1\" >0.10</td>\n                        <td id=\"T_7cae3cf4_0c0e_11eb_8448_f0ad8b56ca4crow10_col2\" class=\"data row10 col2\" >0.09</td>\n                        <td id=\"T_7cae3cf4_0c0e_11eb_8448_f0ad8b56ca4crow10_col3\" class=\"data row10 col3\" >0.70</td>\n                        <td id=\"T_7cae3cf4_0c0e_11eb_8448_f0ad8b56ca4crow10_col4\" class=\"data row10 col4\" >0.53</td>\n                        <td id=\"T_7cae3cf4_0c0e_11eb_8448_f0ad8b56ca4crow10_col5\" class=\"data row10 col5\" >-0.15</td>\n                        <td id=\"T_7cae3cf4_0c0e_11eb_8448_f0ad8b56ca4crow10_col6\" class=\"data row10 col6\" >0.46</td>\n                        <td id=\"T_7cae3cf4_0c0e_11eb_8448_f0ad8b56ca4crow10_col7\" class=\"data row10 col7\" >0.92</td>\n                        <td id=\"T_7cae3cf4_0c0e_11eb_8448_f0ad8b56ca4crow10_col8\" class=\"data row10 col8\" >0.34</td>\n                        <td id=\"T_7cae3cf4_0c0e_11eb_8448_f0ad8b56ca4crow10_col9\" class=\"data row10 col9\" >0.95</td>\n                        <td id=\"T_7cae3cf4_0c0e_11eb_8448_f0ad8b56ca4crow10_col10\" class=\"data row10 col10\" >1.00</td>\n                        <td id=\"T_7cae3cf4_0c0e_11eb_8448_f0ad8b56ca4crow10_col11\" class=\"data row10 col11\" >-0.11</td>\n                        <td id=\"T_7cae3cf4_0c0e_11eb_8448_f0ad8b56ca4crow10_col12\" class=\"data row10 col12\" >-0.14</td>\n                        <td id=\"T_7cae3cf4_0c0e_11eb_8448_f0ad8b56ca4crow10_col13\" class=\"data row10 col13\" >0.56</td>\n                        <td id=\"T_7cae3cf4_0c0e_11eb_8448_f0ad8b56ca4crow10_col14\" class=\"data row10 col14\" >0.98</td>\n                        <td id=\"T_7cae3cf4_0c0e_11eb_8448_f0ad8b56ca4crow10_col15\" class=\"data row10 col15\" >0.57</td>\n                        <td id=\"T_7cae3cf4_0c0e_11eb_8448_f0ad8b56ca4crow10_col16\" class=\"data row10 col16\" >0.96</td>\n            </tr>\n            <tr>\n                        <th id=\"T_7cae3cf4_0c0e_11eb_8448_f0ad8b56ca4clevel0_row11\" class=\"row_heading level0 row11\" >11</th>\n                        <td id=\"T_7cae3cf4_0c0e_11eb_8448_f0ad8b56ca4crow11_col0\" class=\"data row11 col0\" >-0.58</td>\n                        <td id=\"T_7cae3cf4_0c0e_11eb_8448_f0ad8b56ca4crow11_col1\" class=\"data row11 col1\" >-0.42</td>\n                        <td id=\"T_7cae3cf4_0c0e_11eb_8448_f0ad8b56ca4crow11_col2\" class=\"data row11 col2\" >-0.66</td>\n                        <td id=\"T_7cae3cf4_0c0e_11eb_8448_f0ad8b56ca4crow11_col3\" class=\"data row11 col3\" >0.39</td>\n                        <td id=\"T_7cae3cf4_0c0e_11eb_8448_f0ad8b56ca4crow11_col4\" class=\"data row11 col4\" >0.70</td>\n                        <td id=\"T_7cae3cf4_0c0e_11eb_8448_f0ad8b56ca4crow11_col5\" class=\"data row11 col5\" >0.82</td>\n                        <td id=\"T_7cae3cf4_0c0e_11eb_8448_f0ad8b56ca4crow11_col6\" class=\"data row11 col6\" >-0.83</td>\n                        <td id=\"T_7cae3cf4_0c0e_11eb_8448_f0ad8b56ca4crow11_col7\" class=\"data row11 col7\" >-0.19</td>\n                        <td id=\"T_7cae3cf4_0c0e_11eb_8448_f0ad8b56ca4crow11_col8\" class=\"data row11 col8\" >0.67</td>\n                        <td id=\"T_7cae3cf4_0c0e_11eb_8448_f0ad8b56ca4crow11_col9\" class=\"data row11 col9\" >-0.05</td>\n                        <td id=\"T_7cae3cf4_0c0e_11eb_8448_f0ad8b56ca4crow11_col10\" class=\"data row11 col10\" >-0.11</td>\n                        <td id=\"T_7cae3cf4_0c0e_11eb_8448_f0ad8b56ca4crow11_col11\" class=\"data row11 col11\" >1.00</td>\n                        <td id=\"T_7cae3cf4_0c0e_11eb_8448_f0ad8b56ca4crow11_col12\" class=\"data row11 col12\" >0.08</td>\n                        <td id=\"T_7cae3cf4_0c0e_11eb_8448_f0ad8b56ca4crow11_col13\" class=\"data row11 col13\" >-0.76</td>\n                        <td id=\"T_7cae3cf4_0c0e_11eb_8448_f0ad8b56ca4crow11_col14\" class=\"data row11 col14\" >-0.17</td>\n                        <td id=\"T_7cae3cf4_0c0e_11eb_8448_f0ad8b56ca4crow11_col15\" class=\"data row11 col15\" >-0.65</td>\n                        <td id=\"T_7cae3cf4_0c0e_11eb_8448_f0ad8b56ca4crow11_col16\" class=\"data row11 col16\" >-0.02</td>\n            </tr>\n            <tr>\n                        <th id=\"T_7cae3cf4_0c0e_11eb_8448_f0ad8b56ca4clevel0_row12\" class=\"row_heading level0 row12\" >12</th>\n                        <td id=\"T_7cae3cf4_0c0e_11eb_8448_f0ad8b56ca4crow12_col0\" class=\"data row12 col0\" >0.05</td>\n                        <td id=\"T_7cae3cf4_0c0e_11eb_8448_f0ad8b56ca4crow12_col1\" class=\"data row12 col1\" >0.20</td>\n                        <td id=\"T_7cae3cf4_0c0e_11eb_8448_f0ad8b56ca4crow12_col2\" class=\"data row12 col2\" >0.18</td>\n                        <td id=\"T_7cae3cf4_0c0e_11eb_8448_f0ad8b56ca4crow12_col3\" class=\"data row12 col3\" >-0.29</td>\n                        <td id=\"T_7cae3cf4_0c0e_11eb_8448_f0ad8b56ca4crow12_col4\" class=\"data row12 col4\" >-0.05</td>\n                        <td id=\"T_7cae3cf4_0c0e_11eb_8448_f0ad8b56ca4crow12_col5\" class=\"data row12 col5\" >0.39</td>\n                        <td id=\"T_7cae3cf4_0c0e_11eb_8448_f0ad8b56ca4crow12_col6\" class=\"data row12 col6\" >-0.34</td>\n                        <td id=\"T_7cae3cf4_0c0e_11eb_8448_f0ad8b56ca4crow12_col7\" class=\"data row12 col7\" >-0.09</td>\n                        <td id=\"T_7cae3cf4_0c0e_11eb_8448_f0ad8b56ca4crow12_col8\" class=\"data row12 col8\" >-0.26</td>\n                        <td id=\"T_7cae3cf4_0c0e_11eb_8448_f0ad8b56ca4crow12_col9\" class=\"data row12 col9\" >-0.06</td>\n                        <td id=\"T_7cae3cf4_0c0e_11eb_8448_f0ad8b56ca4crow12_col10\" class=\"data row12 col10\" >-0.14</td>\n                        <td id=\"T_7cae3cf4_0c0e_11eb_8448_f0ad8b56ca4crow12_col11\" class=\"data row12 col11\" >0.08</td>\n                        <td id=\"T_7cae3cf4_0c0e_11eb_8448_f0ad8b56ca4crow12_col12\" class=\"data row12 col12\" >1.00</td>\n                        <td id=\"T_7cae3cf4_0c0e_11eb_8448_f0ad8b56ca4crow12_col13\" class=\"data row12 col13\" >-0.34</td>\n                        <td id=\"T_7cae3cf4_0c0e_11eb_8448_f0ad8b56ca4crow12_col14\" class=\"data row12 col14\" >-0.19</td>\n                        <td id=\"T_7cae3cf4_0c0e_11eb_8448_f0ad8b56ca4crow12_col15\" class=\"data row12 col15\" >-0.47</td>\n                        <td id=\"T_7cae3cf4_0c0e_11eb_8448_f0ad8b56ca4crow12_col16\" class=\"data row12 col16\" >-0.23</td>\n            </tr>\n            <tr>\n                        <th id=\"T_7cae3cf4_0c0e_11eb_8448_f0ad8b56ca4clevel0_row13\" class=\"row_heading level0 row13\" >13</th>\n                        <td id=\"T_7cae3cf4_0c0e_11eb_8448_f0ad8b56ca4crow13_col0\" class=\"data row13 col0\" >0.70</td>\n                        <td id=\"T_7cae3cf4_0c0e_11eb_8448_f0ad8b56ca4crow13_col1\" class=\"data row13 col1\" >0.41</td>\n                        <td id=\"T_7cae3cf4_0c0e_11eb_8448_f0ad8b56ca4crow13_col2\" class=\"data row13 col2\" >0.51</td>\n                        <td id=\"T_7cae3cf4_0c0e_11eb_8448_f0ad8b56ca4crow13_col3\" class=\"data row13 col3\" >0.18</td>\n                        <td id=\"T_7cae3cf4_0c0e_11eb_8448_f0ad8b56ca4crow13_col4\" class=\"data row13 col4\" >-0.21</td>\n                        <td id=\"T_7cae3cf4_0c0e_11eb_8448_f0ad8b56ca4crow13_col5\" class=\"data row13 col5\" >-0.67</td>\n                        <td id=\"T_7cae3cf4_0c0e_11eb_8448_f0ad8b56ca4crow13_col6\" class=\"data row13 col6\" >0.96</td>\n                        <td id=\"T_7cae3cf4_0c0e_11eb_8448_f0ad8b56ca4crow13_col7\" class=\"data row13 col7\" >0.53</td>\n                        <td id=\"T_7cae3cf4_0c0e_11eb_8448_f0ad8b56ca4crow13_col8\" class=\"data row13 col8\" >-0.18</td>\n                        <td id=\"T_7cae3cf4_0c0e_11eb_8448_f0ad8b56ca4crow13_col9\" class=\"data row13 col9\" >0.43</td>\n                        <td id=\"T_7cae3cf4_0c0e_11eb_8448_f0ad8b56ca4crow13_col10\" class=\"data row13 col10\" >0.56</td>\n                        <td id=\"T_7cae3cf4_0c0e_11eb_8448_f0ad8b56ca4crow13_col11\" class=\"data row13 col11\" >-0.76</td>\n                        <td id=\"T_7cae3cf4_0c0e_11eb_8448_f0ad8b56ca4crow13_col12\" class=\"data row13 col12\" >-0.34</td>\n                        <td id=\"T_7cae3cf4_0c0e_11eb_8448_f0ad8b56ca4crow13_col13\" class=\"data row13 col13\" >1.00</td>\n                        <td id=\"T_7cae3cf4_0c0e_11eb_8448_f0ad8b56ca4crow13_col14\" class=\"data row13 col14\" >0.55</td>\n                        <td id=\"T_7cae3cf4_0c0e_11eb_8448_f0ad8b56ca4crow13_col15\" class=\"data row13 col15\" >0.96</td>\n                        <td id=\"T_7cae3cf4_0c0e_11eb_8448_f0ad8b56ca4crow13_col16\" class=\"data row13 col16\" >0.50</td>\n            </tr>\n            <tr>\n                        <th id=\"T_7cae3cf4_0c0e_11eb_8448_f0ad8b56ca4clevel0_row14\" class=\"row_heading level0 row14\" >14</th>\n                        <td id=\"T_7cae3cf4_0c0e_11eb_8448_f0ad8b56ca4crow14_col0\" class=\"data row14 col0\" >0.47</td>\n                        <td id=\"T_7cae3cf4_0c0e_11eb_8448_f0ad8b56ca4crow14_col1\" class=\"data row14 col1\" >0.10</td>\n                        <td id=\"T_7cae3cf4_0c0e_11eb_8448_f0ad8b56ca4crow14_col2\" class=\"data row14 col2\" >0.15</td>\n                        <td id=\"T_7cae3cf4_0c0e_11eb_8448_f0ad8b56ca4crow14_col3\" class=\"data row14 col3\" >0.61</td>\n                        <td id=\"T_7cae3cf4_0c0e_11eb_8448_f0ad8b56ca4crow14_col4\" class=\"data row14 col4\" >0.43</td>\n                        <td id=\"T_7cae3cf4_0c0e_11eb_8448_f0ad8b56ca4crow14_col5\" class=\"data row14 col5\" >-0.26</td>\n                        <td id=\"T_7cae3cf4_0c0e_11eb_8448_f0ad8b56ca4crow14_col6\" class=\"data row14 col6\" >0.48</td>\n                        <td id=\"T_7cae3cf4_0c0e_11eb_8448_f0ad8b56ca4crow14_col7\" class=\"data row14 col7\" >0.92</td>\n                        <td id=\"T_7cae3cf4_0c0e_11eb_8448_f0ad8b56ca4crow14_col8\" class=\"data row14 col8\" >0.23</td>\n                        <td id=\"T_7cae3cf4_0c0e_11eb_8448_f0ad8b56ca4crow14_col9\" class=\"data row14 col9\" >0.95</td>\n                        <td id=\"T_7cae3cf4_0c0e_11eb_8448_f0ad8b56ca4crow14_col10\" class=\"data row14 col10\" >0.98</td>\n                        <td id=\"T_7cae3cf4_0c0e_11eb_8448_f0ad8b56ca4crow14_col11\" class=\"data row14 col11\" >-0.17</td>\n                        <td id=\"T_7cae3cf4_0c0e_11eb_8448_f0ad8b56ca4crow14_col12\" class=\"data row14 col12\" >-0.19</td>\n                        <td id=\"T_7cae3cf4_0c0e_11eb_8448_f0ad8b56ca4crow14_col13\" class=\"data row14 col13\" >0.55</td>\n                        <td id=\"T_7cae3cf4_0c0e_11eb_8448_f0ad8b56ca4crow14_col14\" class=\"data row14 col14\" >1.00</td>\n                        <td id=\"T_7cae3cf4_0c0e_11eb_8448_f0ad8b56ca4crow14_col15\" class=\"data row14 col15\" >0.54</td>\n                        <td id=\"T_7cae3cf4_0c0e_11eb_8448_f0ad8b56ca4crow14_col16\" class=\"data row14 col16\" >0.94</td>\n            </tr>\n            <tr>\n                        <th id=\"T_7cae3cf4_0c0e_11eb_8448_f0ad8b56ca4clevel0_row15\" class=\"row_heading level0 row15\" >15</th>\n                        <td id=\"T_7cae3cf4_0c0e_11eb_8448_f0ad8b56ca4crow15_col0\" class=\"data row15 col0\" >0.56</td>\n                        <td id=\"T_7cae3cf4_0c0e_11eb_8448_f0ad8b56ca4crow15_col1\" class=\"data row15 col1\" >0.32</td>\n                        <td id=\"T_7cae3cf4_0c0e_11eb_8448_f0ad8b56ca4crow15_col2\" class=\"data row15 col2\" >0.41</td>\n                        <td id=\"T_7cae3cf4_0c0e_11eb_8448_f0ad8b56ca4crow15_col3\" class=\"data row15 col3\" >0.32</td>\n                        <td id=\"T_7cae3cf4_0c0e_11eb_8448_f0ad8b56ca4crow15_col4\" class=\"data row15 col4\" >-0.07</td>\n                        <td id=\"T_7cae3cf4_0c0e_11eb_8448_f0ad8b56ca4crow15_col5\" class=\"data row15 col5\" >-0.59</td>\n                        <td id=\"T_7cae3cf4_0c0e_11eb_8448_f0ad8b56ca4crow15_col6\" class=\"data row15 col6\" >0.92</td>\n                        <td id=\"T_7cae3cf4_0c0e_11eb_8448_f0ad8b56ca4crow15_col7\" class=\"data row15 col7\" >0.49</td>\n                        <td id=\"T_7cae3cf4_0c0e_11eb_8448_f0ad8b56ca4crow15_col8\" class=\"data row15 col8\" >0.02</td>\n                        <td id=\"T_7cae3cf4_0c0e_11eb_8448_f0ad8b56ca4crow15_col9\" class=\"data row15 col9\" >0.39</td>\n                        <td id=\"T_7cae3cf4_0c0e_11eb_8448_f0ad8b56ca4crow15_col10\" class=\"data row15 col10\" >0.57</td>\n                        <td id=\"T_7cae3cf4_0c0e_11eb_8448_f0ad8b56ca4crow15_col11\" class=\"data row15 col11\" >-0.65</td>\n                        <td id=\"T_7cae3cf4_0c0e_11eb_8448_f0ad8b56ca4crow15_col12\" class=\"data row15 col12\" >-0.47</td>\n                        <td id=\"T_7cae3cf4_0c0e_11eb_8448_f0ad8b56ca4crow15_col13\" class=\"data row15 col13\" >0.96</td>\n                        <td id=\"T_7cae3cf4_0c0e_11eb_8448_f0ad8b56ca4crow15_col14\" class=\"data row15 col14\" >0.54</td>\n                        <td id=\"T_7cae3cf4_0c0e_11eb_8448_f0ad8b56ca4crow15_col15\" class=\"data row15 col15\" >1.00</td>\n                        <td id=\"T_7cae3cf4_0c0e_11eb_8448_f0ad8b56ca4crow15_col16\" class=\"data row15 col16\" >0.52</td>\n            </tr>\n            <tr>\n                        <th id=\"T_7cae3cf4_0c0e_11eb_8448_f0ad8b56ca4clevel0_row16\" class=\"row_heading level0 row16\" >16</th>\n                        <td id=\"T_7cae3cf4_0c0e_11eb_8448_f0ad8b56ca4crow16_col0\" class=\"data row16 col0\" >0.39</td>\n                        <td id=\"T_7cae3cf4_0c0e_11eb_8448_f0ad8b56ca4crow16_col1\" class=\"data row16 col1\" >-0.08</td>\n                        <td id=\"T_7cae3cf4_0c0e_11eb_8448_f0ad8b56ca4crow16_col2\" class=\"data row16 col2\" >-0.02</td>\n                        <td id=\"T_7cae3cf4_0c0e_11eb_8448_f0ad8b56ca4crow16_col3\" class=\"data row16 col3\" >0.74</td>\n                        <td id=\"T_7cae3cf4_0c0e_11eb_8448_f0ad8b56ca4crow16_col4\" class=\"data row16 col4\" >0.61</td>\n                        <td id=\"T_7cae3cf4_0c0e_11eb_8448_f0ad8b56ca4crow16_col5\" class=\"data row16 col5\" >-0.07</td>\n                        <td id=\"T_7cae3cf4_0c0e_11eb_8448_f0ad8b56ca4crow16_col6\" class=\"data row16 col6\" >0.37</td>\n                        <td id=\"T_7cae3cf4_0c0e_11eb_8448_f0ad8b56ca4crow16_col7\" class=\"data row16 col7\" >0.91</td>\n                        <td id=\"T_7cae3cf4_0c0e_11eb_8448_f0ad8b56ca4crow16_col8\" class=\"data row16 col8\" >0.39</td>\n                        <td id=\"T_7cae3cf4_0c0e_11eb_8448_f0ad8b56ca4crow16_col9\" class=\"data row16 col9\" >0.93</td>\n                        <td id=\"T_7cae3cf4_0c0e_11eb_8448_f0ad8b56ca4crow16_col10\" class=\"data row16 col10\" >0.96</td>\n                        <td id=\"T_7cae3cf4_0c0e_11eb_8448_f0ad8b56ca4crow16_col11\" class=\"data row16 col11\" >-0.02</td>\n                        <td id=\"T_7cae3cf4_0c0e_11eb_8448_f0ad8b56ca4crow16_col12\" class=\"data row16 col12\" >-0.23</td>\n                        <td id=\"T_7cae3cf4_0c0e_11eb_8448_f0ad8b56ca4crow16_col13\" class=\"data row16 col13\" >0.50</td>\n                        <td id=\"T_7cae3cf4_0c0e_11eb_8448_f0ad8b56ca4crow16_col14\" class=\"data row16 col14\" >0.94</td>\n                        <td id=\"T_7cae3cf4_0c0e_11eb_8448_f0ad8b56ca4crow16_col15\" class=\"data row16 col15\" >0.52</td>\n                        <td id=\"T_7cae3cf4_0c0e_11eb_8448_f0ad8b56ca4crow16_col16\" class=\"data row16 col16\" >1.00</td>\n            </tr>\n    </tbody></table>"
     },
     "metadata": {},
     "execution_count": 18
    }
   ],
   "source": [
    "corr = df.corr(method ='pearson').style.background_gradient(cmap='coolwarm').set_precision(2)\n",
    "corr"
   ]
  },
  {
   "source": [
    "## 2. Análizar dependecia entre una variable y todas las demás. En este caso encontrar las betas de la regresión múltiple de la variable que mejor se puede explicar a partir de las demás."
   ],
   "cell_type": "markdown",
   "metadata": {}
  },
  {
   "cell_type": "code",
   "execution_count": 5,
   "metadata": {},
   "outputs": [],
   "source": [
    "def matriz_P(x):\n",
    "    \"\"\"\n",
    "    La matriz P es cuadrada simétrica e idempotente ()PP = P)\n",
    "    Tiene rango (m-1) es ortogonal al espacio definido por el vector 1 ya que P*1 = 0 y proyecta los\n",
    "    datos ortogonalmente al espacio deÞnido por el vector constante\n",
    "    \"\"\"\n",
    "    xx = np.array(x)\n",
    "    m,n = xx.shape\n",
    "    unos = np.ones([m,1])\n",
    "    Identidad = np.identity(m)\n",
    "    P = Identidad - float(1.0/m) * unos.dot(unos.T)\n",
    "    return P\n",
    "\n",
    "def Matriz_covarianzasCorregida(x):\n",
    "    \"\"\"\n",
    "    matriz de covarianzas a partir de los datos. OBSERVE que se divide por (n-1)\n",
    "    np.cov(Data, rowvar=False) # esta funcion me da la covarianza corregida\n",
    "    \"\"\"\n",
    "    xx = np.array(x)\n",
    "    m,n = xx.shape\n",
    "    P = matriz_P(x)\n",
    "    intermedio =P.dot(xx)\n",
    "    S = float(1.0/(m-1))*(xx.T.dot(intermedio))\n",
    "    return S"
   ]
  },
  {
   "cell_type": "code",
   "execution_count": 6,
   "metadata": {},
   "outputs": [],
   "source": [
    "s_jj__jj = np.diag(Matriz_covarianzasCorregida(df))*np.diag(np.linalg.inv(Matriz_covarianzasCorregida(df))).round(4)"
   ]
  },
  {
   "source": [
    "### Variable con mayor correlación múltiple"
   ],
   "cell_type": "markdown",
   "metadata": {}
  },
  {
   "cell_type": "code",
   "execution_count": 7,
   "metadata": {},
   "outputs": [
    {
     "output_type": "stream",
     "name": "stdout",
     "text": [
      "La variable que mejor se explica a partir de las demas es la 4\n"
     ]
    }
   ],
   "source": [
    "R2 = 1 - 1/s_jj__jj\n",
    "R2 = list(R2.round(4))\n",
    "print(\"La variable que mejor se explica a partir de las demas es la\", R2.index(max(R2)))"
   ]
  },
  {
   "source": [
    "#### Parámetros de la regresión lineal múltiple de la variable con el resto"
   ],
   "cell_type": "markdown",
   "metadata": {}
  },
  {
   "cell_type": "code",
   "execution_count": 8,
   "metadata": {},
   "outputs": [
    {
     "output_type": "execute_result",
     "data": {
      "text/plain": [
       "array([-3.77894895e-01, -9.05118155e-02, -4.69805924e-01,  1.29356546e-02,\n",
       "        1.35074945e-02, -1.99159248e+00, -1.25645662e-03,  5.42446745e-02,\n",
       "       -2.31968624e-04,  1.19949076e-03, -1.63896511e-02, -4.66975704e-01,\n",
       "       -3.71492772e-02, -1.69051634e-02,  8.03967165e-02,  6.38030201e-04,\n",
       "       -1.84162569e+02])"
      ]
     },
     "metadata": {},
     "execution_count": 8
    }
   ],
   "source": [
    "X = df.drop(columns=[4])\n",
    "X['unos'] = 1\n",
    "Y = df[4]\n",
    "betas = np.linalg.inv(X.T.dot(X)).dot(X.T.dot(Y))\n",
    "betas"
   ]
  },
  {
   "source": [
    "## 3. Analizar la correlacion entre pares de variables pero eliminando el efecto de las demás variables."
   ],
   "cell_type": "markdown",
   "metadata": {}
  },
  {
   "cell_type": "code",
   "execution_count": 9,
   "metadata": {},
   "outputs": [],
   "source": [
    "def calculate_partial_correlation(input_df):\n",
    "    \"\"\"\n",
    "    Returns the sample linear partial correlation coefficients between pairs of variables,\n",
    "    controlling for all other remaining variables\n",
    "\n",
    "    Parameters\n",
    "    ----------\n",
    "    input_df : array-like, shape (n, p)\n",
    "        Array with the different variables. Each column is taken as a variable.\n",
    "\n",
    "    Returns\n",
    "    -------\n",
    "    P : array-like, shape (p, p)\n",
    "        P[i, j] contains the partial correlation of input_df[:, i] and input_df[:, j]\n",
    "        controlling for all other remaining variables.\n",
    "    \"\"\"\n",
    "    partial_corr_matrix = np.zeros((input_df.shape[1], input_df.shape[1]));\n",
    "    for i, column1 in enumerate(input_df):\n",
    "        for j, column2 in enumerate(input_df):\n",
    "            control_variables = np.delete(np.arange(input_df.shape[1]), [i, j]);\n",
    "            if i==j:\n",
    "                partial_corr_matrix[i, j] = 1;\n",
    "                continue\n",
    "            data_control_variable = input_df.iloc[:, control_variables]\n",
    "            data_column1 = input_df[column1].values\n",
    "            data_column2 = input_df[column2].values\n",
    "            fit1 = linear_model.LinearRegression(fit_intercept=True)\n",
    "            fit2 = linear_model.LinearRegression(fit_intercept=True)\n",
    "            fit1.fit(data_control_variable, data_column1)\n",
    "            fit2.fit(data_control_variable, data_column2)\n",
    "            residual1 = data_column1 - (np.dot(data_control_variable, fit1.coef_) + fit1.intercept_)\n",
    "            residual2 = data_column2 - (np.dot(data_control_variable, fit2.coef_) + fit2.intercept_)\n",
    "            partial_corr_matrix[i,j] = stats.pearsonr(residual1, residual2)[0]\n",
    "    return pd.DataFrame(partial_corr_matrix, columns = input_df.columns, index = input_df.columns)"
   ]
  },
  {
   "cell_type": "code",
   "execution_count": 21,
   "metadata": {},
   "outputs": [
    {
     "output_type": "execute_result",
     "data": {
      "text/plain": [
       "<pandas.io.formats.style.Styler at 0x1e7817cc9c8>"
      ],
      "text/html": "<style  type=\"text/css\" >\n    #T_863cfc9a_0c0e_11eb_8730_f0ad8b56ca4crow0_col0 {\n            background-color:  #b40426;\n            color:  #f1f1f1;\n        }    #T_863cfc9a_0c0e_11eb_8730_f0ad8b56ca4crow0_col1 {\n            background-color:  #3b4cc0;\n            color:  #f1f1f1;\n        }    #T_863cfc9a_0c0e_11eb_8730_f0ad8b56ca4crow0_col2 {\n            background-color:  #455cce;\n            color:  #f1f1f1;\n        }    #T_863cfc9a_0c0e_11eb_8730_f0ad8b56ca4crow0_col3 {\n            background-color:  #3b4cc0;\n            color:  #f1f1f1;\n        }    #T_863cfc9a_0c0e_11eb_8730_f0ad8b56ca4crow0_col4 {\n            background-color:  #a3c2fe;\n            color:  #000000;\n        }    #T_863cfc9a_0c0e_11eb_8730_f0ad8b56ca4crow0_col5 {\n            background-color:  #f4987a;\n            color:  #000000;\n        }    #T_863cfc9a_0c0e_11eb_8730_f0ad8b56ca4crow0_col6 {\n            background-color:  #f7b89c;\n            color:  #000000;\n        }    #T_863cfc9a_0c0e_11eb_8730_f0ad8b56ca4crow0_col7 {\n            background-color:  #93b5fe;\n            color:  #000000;\n        }    #T_863cfc9a_0c0e_11eb_8730_f0ad8b56ca4crow0_col8 {\n            background-color:  #3d50c3;\n            color:  #f1f1f1;\n        }    #T_863cfc9a_0c0e_11eb_8730_f0ad8b56ca4crow0_col9 {\n            background-color:  #7699f6;\n            color:  #000000;\n        }    #T_863cfc9a_0c0e_11eb_8730_f0ad8b56ca4crow0_col10 {\n            background-color:  #dfdbd9;\n            color:  #000000;\n        }    #T_863cfc9a_0c0e_11eb_8730_f0ad8b56ca4crow0_col11 {\n            background-color:  #d65244;\n            color:  #000000;\n        }    #T_863cfc9a_0c0e_11eb_8730_f0ad8b56ca4crow0_col12 {\n            background-color:  #8fb1fe;\n            color:  #000000;\n        }    #T_863cfc9a_0c0e_11eb_8730_f0ad8b56ca4crow0_col13 {\n            background-color:  #f7ad90;\n            color:  #000000;\n        }    #T_863cfc9a_0c0e_11eb_8730_f0ad8b56ca4crow0_col14 {\n            background-color:  #f6bea4;\n            color:  #000000;\n        }    #T_863cfc9a_0c0e_11eb_8730_f0ad8b56ca4crow0_col15 {\n            background-color:  #c5d6f2;\n            color:  #000000;\n        }    #T_863cfc9a_0c0e_11eb_8730_f0ad8b56ca4crow0_col16 {\n            background-color:  #5f7fe8;\n            color:  #000000;\n        }    #T_863cfc9a_0c0e_11eb_8730_f0ad8b56ca4crow1_col0 {\n            background-color:  #8caffe;\n            color:  #000000;\n        }    #T_863cfc9a_0c0e_11eb_8730_f0ad8b56ca4crow1_col1 {\n            background-color:  #b40426;\n            color:  #f1f1f1;\n        }    #T_863cfc9a_0c0e_11eb_8730_f0ad8b56ca4crow1_col2 {\n            background-color:  #9dbdff;\n            color:  #000000;\n        }    #T_863cfc9a_0c0e_11eb_8730_f0ad8b56ca4crow1_col3 {\n            background-color:  #94b6ff;\n            color:  #000000;\n        }    #T_863cfc9a_0c0e_11eb_8730_f0ad8b56ca4crow1_col4 {\n            background-color:  #8db0fe;\n            color:  #000000;\n        }    #T_863cfc9a_0c0e_11eb_8730_f0ad8b56ca4crow1_col5 {\n            background-color:  #e2dad5;\n            color:  #000000;\n        }    #T_863cfc9a_0c0e_11eb_8730_f0ad8b56ca4crow1_col6 {\n            background-color:  #abc8fd;\n            color:  #000000;\n        }    #T_863cfc9a_0c0e_11eb_8730_f0ad8b56ca4crow1_col7 {\n            background-color:  #5572df;\n            color:  #000000;\n        }    #T_863cfc9a_0c0e_11eb_8730_f0ad8b56ca4crow1_col8 {\n            background-color:  #7a9df8;\n            color:  #000000;\n        }    #T_863cfc9a_0c0e_11eb_8730_f0ad8b56ca4crow1_col9 {\n            background-color:  #88abfd;\n            color:  #000000;\n        }    #T_863cfc9a_0c0e_11eb_8730_f0ad8b56ca4crow1_col10 {\n            background-color:  #f3c7b1;\n            color:  #000000;\n        }    #T_863cfc9a_0c0e_11eb_8730_f0ad8b56ca4crow1_col11 {\n            background-color:  #f7a889;\n            color:  #000000;\n        }    #T_863cfc9a_0c0e_11eb_8730_f0ad8b56ca4crow1_col12 {\n            background-color:  #b3cdfb;\n            color:  #000000;\n        }    #T_863cfc9a_0c0e_11eb_8730_f0ad8b56ca4crow1_col13 {\n            background-color:  #f4c5ad;\n            color:  #000000;\n        }    #T_863cfc9a_0c0e_11eb_8730_f0ad8b56ca4crow1_col14 {\n            background-color:  #d1dae9;\n            color:  #000000;\n        }    #T_863cfc9a_0c0e_11eb_8730_f0ad8b56ca4crow1_col15 {\n            background-color:  #bbd1f8;\n            color:  #000000;\n        }    #T_863cfc9a_0c0e_11eb_8730_f0ad8b56ca4crow1_col16 {\n            background-color:  #3b4cc0;\n            color:  #f1f1f1;\n        }    #T_863cfc9a_0c0e_11eb_8730_f0ad8b56ca4crow2_col0 {\n            background-color:  #6282ea;\n            color:  #000000;\n        }    #T_863cfc9a_0c0e_11eb_8730_f0ad8b56ca4crow2_col1 {\n            background-color:  #6a8bef;\n            color:  #000000;\n        }    #T_863cfc9a_0c0e_11eb_8730_f0ad8b56ca4crow2_col2 {\n            background-color:  #b40426;\n            color:  #f1f1f1;\n        }    #T_863cfc9a_0c0e_11eb_8730_f0ad8b56ca4crow2_col3 {\n            background-color:  #5673e0;\n            color:  #000000;\n        }    #T_863cfc9a_0c0e_11eb_8730_f0ad8b56ca4crow2_col4 {\n            background-color:  #5a78e4;\n            color:  #000000;\n        }    #T_863cfc9a_0c0e_11eb_8730_f0ad8b56ca4crow2_col5 {\n            background-color:  #d44e41;\n            color:  #000000;\n        }    #T_863cfc9a_0c0e_11eb_8730_f0ad8b56ca4crow2_col6 {\n            background-color:  #d1dae9;\n            color:  #000000;\n        }    #T_863cfc9a_0c0e_11eb_8730_f0ad8b56ca4crow2_col7 {\n            background-color:  #4c66d6;\n            color:  #000000;\n        }    #T_863cfc9a_0c0e_11eb_8730_f0ad8b56ca4crow2_col8 {\n            background-color:  #6b8df0;\n            color:  #000000;\n        }    #T_863cfc9a_0c0e_11eb_8730_f0ad8b56ca4crow2_col9 {\n            background-color:  #5977e3;\n            color:  #000000;\n        }    #T_863cfc9a_0c0e_11eb_8730_f0ad8b56ca4crow2_col10 {\n            background-color:  #f0cdbb;\n            color:  #000000;\n        }    #T_863cfc9a_0c0e_11eb_8730_f0ad8b56ca4crow2_col11 {\n            background-color:  #f7b599;\n            color:  #000000;\n        }    #T_863cfc9a_0c0e_11eb_8730_f0ad8b56ca4crow2_col12 {\n            background-color:  #5d7ce6;\n            color:  #000000;\n        }    #T_863cfc9a_0c0e_11eb_8730_f0ad8b56ca4crow2_col13 {\n            background-color:  #ecd3c5;\n            color:  #000000;\n        }    #T_863cfc9a_0c0e_11eb_8730_f0ad8b56ca4crow2_col14 {\n            background-color:  #f7a889;\n            color:  #000000;\n        }    #T_863cfc9a_0c0e_11eb_8730_f0ad8b56ca4crow2_col15 {\n            background-color:  #e4d9d2;\n            color:  #000000;\n        }    #T_863cfc9a_0c0e_11eb_8730_f0ad8b56ca4crow2_col16 {\n            background-color:  #7699f6;\n            color:  #000000;\n        }    #T_863cfc9a_0c0e_11eb_8730_f0ad8b56ca4crow3_col0 {\n            background-color:  #3b4cc0;\n            color:  #f1f1f1;\n        }    #T_863cfc9a_0c0e_11eb_8730_f0ad8b56ca4crow3_col1 {\n            background-color:  #445acc;\n            color:  #f1f1f1;\n        }    #T_863cfc9a_0c0e_11eb_8730_f0ad8b56ca4crow3_col2 {\n            background-color:  #3b4cc0;\n            color:  #f1f1f1;\n        }    #T_863cfc9a_0c0e_11eb_8730_f0ad8b56ca4crow3_col3 {\n            background-color:  #b40426;\n            color:  #f1f1f1;\n        }    #T_863cfc9a_0c0e_11eb_8730_f0ad8b56ca4crow3_col4 {\n            background-color:  #cad8ef;\n            color:  #000000;\n        }    #T_863cfc9a_0c0e_11eb_8730_f0ad8b56ca4crow3_col5 {\n            background-color:  #f59c7d;\n            color:  #000000;\n        }    #T_863cfc9a_0c0e_11eb_8730_f0ad8b56ca4crow3_col6 {\n            background-color:  #f5a081;\n            color:  #000000;\n        }    #T_863cfc9a_0c0e_11eb_8730_f0ad8b56ca4crow3_col7 {\n            background-color:  #97b8ff;\n            color:  #000000;\n        }    #T_863cfc9a_0c0e_11eb_8730_f0ad8b56ca4crow3_col8 {\n            background-color:  #3b4cc0;\n            color:  #f1f1f1;\n        }    #T_863cfc9a_0c0e_11eb_8730_f0ad8b56ca4crow3_col9 {\n            background-color:  #4055c8;\n            color:  #f1f1f1;\n        }    #T_863cfc9a_0c0e_11eb_8730_f0ad8b56ca4crow3_col10 {\n            background-color:  #d6dce4;\n            color:  #000000;\n        }    #T_863cfc9a_0c0e_11eb_8730_f0ad8b56ca4crow3_col11 {\n            background-color:  #dd5f4b;\n            color:  #000000;\n        }    #T_863cfc9a_0c0e_11eb_8730_f0ad8b56ca4crow3_col12 {\n            background-color:  #81a4fb;\n            color:  #000000;\n        }    #T_863cfc9a_0c0e_11eb_8730_f0ad8b56ca4crow3_col13 {\n            background-color:  #f4987a;\n            color:  #000000;\n        }    #T_863cfc9a_0c0e_11eb_8730_f0ad8b56ca4crow3_col14 {\n            background-color:  #f4987a;\n            color:  #000000;\n        }    #T_863cfc9a_0c0e_11eb_8730_f0ad8b56ca4crow3_col15 {\n            background-color:  #9fbfff;\n            color:  #000000;\n        }    #T_863cfc9a_0c0e_11eb_8730_f0ad8b56ca4crow3_col16 {\n            background-color:  #5977e3;\n            color:  #000000;\n        }    #T_863cfc9a_0c0e_11eb_8730_f0ad8b56ca4crow4_col0 {\n            background-color:  #cbd8ee;\n            color:  #000000;\n        }    #T_863cfc9a_0c0e_11eb_8730_f0ad8b56ca4crow4_col1 {\n            background-color:  #7597f6;\n            color:  #000000;\n        }    #T_863cfc9a_0c0e_11eb_8730_f0ad8b56ca4crow4_col2 {\n            background-color:  #7699f6;\n            color:  #000000;\n        }    #T_863cfc9a_0c0e_11eb_8730_f0ad8b56ca4crow4_col3 {\n            background-color:  #e5d8d1;\n            color:  #000000;\n        }    #T_863cfc9a_0c0e_11eb_8730_f0ad8b56ca4crow4_col4 {\n            background-color:  #b40426;\n            color:  #f1f1f1;\n        }    #T_863cfc9a_0c0e_11eb_8730_f0ad8b56ca4crow4_col5 {\n            background-color:  #f08b6e;\n            color:  #000000;\n        }    #T_863cfc9a_0c0e_11eb_8730_f0ad8b56ca4crow4_col6 {\n            background-color:  #3b4cc0;\n            color:  #f1f1f1;\n        }    #T_863cfc9a_0c0e_11eb_8730_f0ad8b56ca4crow4_col7 {\n            background-color:  #3b4cc0;\n            color:  #f1f1f1;\n        }    #T_863cfc9a_0c0e_11eb_8730_f0ad8b56ca4crow4_col8 {\n            background-color:  #e1dad6;\n            color:  #000000;\n        }    #T_863cfc9a_0c0e_11eb_8730_f0ad8b56ca4crow4_col9 {\n            background-color:  #9bbcff;\n            color:  #000000;\n        }    #T_863cfc9a_0c0e_11eb_8730_f0ad8b56ca4crow4_col10 {\n            background-color:  #e36c55;\n            color:  #000000;\n        }    #T_863cfc9a_0c0e_11eb_8730_f0ad8b56ca4crow4_col11 {\n            background-color:  #a7c5fe;\n            color:  #000000;\n        }    #T_863cfc9a_0c0e_11eb_8730_f0ad8b56ca4crow4_col12 {\n            background-color:  #3b4cc0;\n            color:  #f1f1f1;\n        }    #T_863cfc9a_0c0e_11eb_8730_f0ad8b56ca4crow4_col13 {\n            background-color:  #7396f5;\n            color:  #000000;\n        }    #T_863cfc9a_0c0e_11eb_8730_f0ad8b56ca4crow4_col14 {\n            background-color:  #7da0f9;\n            color:  #000000;\n        }    #T_863cfc9a_0c0e_11eb_8730_f0ad8b56ca4crow4_col15 {\n            background-color:  #f7ac8e;\n            color:  #000000;\n        }    #T_863cfc9a_0c0e_11eb_8730_f0ad8b56ca4crow4_col16 {\n            background-color:  #d4dbe6;\n            color:  #000000;\n        }    #T_863cfc9a_0c0e_11eb_8730_f0ad8b56ca4crow5_col0 {\n            background-color:  #f08a6c;\n            color:  #000000;\n        }    #T_863cfc9a_0c0e_11eb_8730_f0ad8b56ca4crow5_col1 {\n            background-color:  #d1dae9;\n            color:  #000000;\n        }    #T_863cfc9a_0c0e_11eb_8730_f0ad8b56ca4crow5_col2 {\n            background-color:  #d1493f;\n            color:  #f1f1f1;\n        }    #T_863cfc9a_0c0e_11eb_8730_f0ad8b56ca4crow5_col3 {\n            background-color:  #f08b6e;\n            color:  #000000;\n        }    #T_863cfc9a_0c0e_11eb_8730_f0ad8b56ca4crow5_col4 {\n            background-color:  #f18f71;\n            color:  #000000;\n        }    #T_863cfc9a_0c0e_11eb_8730_f0ad8b56ca4crow5_col5 {\n            background-color:  #b40426;\n            color:  #f1f1f1;\n        }    #T_863cfc9a_0c0e_11eb_8730_f0ad8b56ca4crow5_col6 {\n            background-color:  #b6cefa;\n            color:  #000000;\n        }    #T_863cfc9a_0c0e_11eb_8730_f0ad8b56ca4crow5_col7 {\n            background-color:  #bfd3f6;\n            color:  #000000;\n        }    #T_863cfc9a_0c0e_11eb_8730_f0ad8b56ca4crow5_col8 {\n            background-color:  #f2c9b4;\n            color:  #000000;\n        }    #T_863cfc9a_0c0e_11eb_8730_f0ad8b56ca4crow5_col9 {\n            background-color:  #e9d5cb;\n            color:  #000000;\n        }    #T_863cfc9a_0c0e_11eb_8730_f0ad8b56ca4crow5_col10 {\n            background-color:  #3b4cc0;\n            color:  #f1f1f1;\n        }    #T_863cfc9a_0c0e_11eb_8730_f0ad8b56ca4crow5_col11 {\n            background-color:  #506bda;\n            color:  #000000;\n        }    #T_863cfc9a_0c0e_11eb_8730_f0ad8b56ca4crow5_col12 {\n            background-color:  #f18f71;\n            color:  #000000;\n        }    #T_863cfc9a_0c0e_11eb_8730_f0ad8b56ca4crow5_col13 {\n            background-color:  #aac7fd;\n            color:  #000000;\n        }    #T_863cfc9a_0c0e_11eb_8730_f0ad8b56ca4crow5_col14 {\n            background-color:  #89acfd;\n            color:  #000000;\n        }    #T_863cfc9a_0c0e_11eb_8730_f0ad8b56ca4crow5_col15 {\n            background-color:  #485fd1;\n            color:  #f1f1f1;\n        }    #T_863cfc9a_0c0e_11eb_8730_f0ad8b56ca4crow5_col16 {\n            background-color:  #b3cdfb;\n            color:  #000000;\n        }    #T_863cfc9a_0c0e_11eb_8730_f0ad8b56ca4crow6_col0 {\n            background-color:  #f6a385;\n            color:  #000000;\n        }    #T_863cfc9a_0c0e_11eb_8730_f0ad8b56ca4crow6_col1 {\n            background-color:  #96b7ff;\n            color:  #000000;\n        }    #T_863cfc9a_0c0e_11eb_8730_f0ad8b56ca4crow6_col2 {\n            background-color:  #dedcdb;\n            color:  #000000;\n        }    #T_863cfc9a_0c0e_11eb_8730_f0ad8b56ca4crow6_col3 {\n            background-color:  #f18d6f;\n            color:  #000000;\n        }    #T_863cfc9a_0c0e_11eb_8730_f0ad8b56ca4crow6_col4 {\n            background-color:  #3b4cc0;\n            color:  #f1f1f1;\n        }    #T_863cfc9a_0c0e_11eb_8730_f0ad8b56ca4crow6_col5 {\n            background-color:  #bed2f6;\n            color:  #000000;\n        }    #T_863cfc9a_0c0e_11eb_8730_f0ad8b56ca4crow6_col6 {\n            background-color:  #b40426;\n            color:  #f1f1f1;\n        }    #T_863cfc9a_0c0e_11eb_8730_f0ad8b56ca4crow6_col7 {\n            background-color:  #4c66d6;\n            color:  #000000;\n        }    #T_863cfc9a_0c0e_11eb_8730_f0ad8b56ca4crow6_col8 {\n            background-color:  #f7af91;\n            color:  #000000;\n        }    #T_863cfc9a_0c0e_11eb_8730_f0ad8b56ca4crow6_col9 {\n            background-color:  #b7cff9;\n            color:  #000000;\n        }    #T_863cfc9a_0c0e_11eb_8730_f0ad8b56ca4crow6_col10 {\n            background-color:  #f0cdbb;\n            color:  #000000;\n        }    #T_863cfc9a_0c0e_11eb_8730_f0ad8b56ca4crow6_col11 {\n            background-color:  #3b4cc0;\n            color:  #f1f1f1;\n        }    #T_863cfc9a_0c0e_11eb_8730_f0ad8b56ca4crow6_col12 {\n            background-color:  #779af7;\n            color:  #000000;\n        }    #T_863cfc9a_0c0e_11eb_8730_f0ad8b56ca4crow6_col13 {\n            background-color:  #97b8ff;\n            color:  #000000;\n        }    #T_863cfc9a_0c0e_11eb_8730_f0ad8b56ca4crow6_col14 {\n            background-color:  #84a7fc;\n            color:  #000000;\n        }    #T_863cfc9a_0c0e_11eb_8730_f0ad8b56ca4crow6_col15 {\n            background-color:  #d3dbe7;\n            color:  #000000;\n        }    #T_863cfc9a_0c0e_11eb_8730_f0ad8b56ca4crow6_col16 {\n            background-color:  #92b4fe;\n            color:  #000000;\n        }    #T_863cfc9a_0c0e_11eb_8730_f0ad8b56ca4crow7_col0 {\n            background-color:  #d6dce4;\n            color:  #000000;\n        }    #T_863cfc9a_0c0e_11eb_8730_f0ad8b56ca4crow7_col1 {\n            background-color:  #6485ec;\n            color:  #000000;\n        }    #T_863cfc9a_0c0e_11eb_8730_f0ad8b56ca4crow7_col2 {\n            background-color:  #90b2fe;\n            color:  #000000;\n        }    #T_863cfc9a_0c0e_11eb_8730_f0ad8b56ca4crow7_col3 {\n            background-color:  #d9dce1;\n            color:  #000000;\n        }    #T_863cfc9a_0c0e_11eb_8730_f0ad8b56ca4crow7_col4 {\n            background-color:  #6485ec;\n            color:  #000000;\n        }    #T_863cfc9a_0c0e_11eb_8730_f0ad8b56ca4crow7_col5 {\n            background-color:  #dbdcde;\n            color:  #000000;\n        }    #T_863cfc9a_0c0e_11eb_8730_f0ad8b56ca4crow7_col6 {\n            background-color:  #7699f6;\n            color:  #000000;\n        }    #T_863cfc9a_0c0e_11eb_8730_f0ad8b56ca4crow7_col7 {\n            background-color:  #b40426;\n            color:  #f1f1f1;\n        }    #T_863cfc9a_0c0e_11eb_8730_f0ad8b56ca4crow7_col8 {\n            background-color:  #b6cefa;\n            color:  #000000;\n        }    #T_863cfc9a_0c0e_11eb_8730_f0ad8b56ca4crow7_col9 {\n            background-color:  #eed0c0;\n            color:  #000000;\n        }    #T_863cfc9a_0c0e_11eb_8730_f0ad8b56ca4crow7_col10 {\n            background-color:  #eed0c0;\n            color:  #000000;\n        }    #T_863cfc9a_0c0e_11eb_8730_f0ad8b56ca4crow7_col11 {\n            background-color:  #9fbfff;\n            color:  #000000;\n        }    #T_863cfc9a_0c0e_11eb_8730_f0ad8b56ca4crow7_col12 {\n            background-color:  #9dbdff;\n            color:  #000000;\n        }    #T_863cfc9a_0c0e_11eb_8730_f0ad8b56ca4crow7_col13 {\n            background-color:  #93b5fe;\n            color:  #000000;\n        }    #T_863cfc9a_0c0e_11eb_8730_f0ad8b56ca4crow7_col14 {\n            background-color:  #9ebeff;\n            color:  #000000;\n        }    #T_863cfc9a_0c0e_11eb_8730_f0ad8b56ca4crow7_col15 {\n            background-color:  #f1cdba;\n            color:  #000000;\n        }    #T_863cfc9a_0c0e_11eb_8730_f0ad8b56ca4crow7_col16 {\n            background-color:  #b2ccfb;\n            color:  #000000;\n        }    #T_863cfc9a_0c0e_11eb_8730_f0ad8b56ca4crow8_col0 {\n            background-color:  #5d7ce6;\n            color:  #000000;\n        }    #T_863cfc9a_0c0e_11eb_8730_f0ad8b56ca4crow8_col1 {\n            background-color:  #4961d2;\n            color:  #f1f1f1;\n        }    #T_863cfc9a_0c0e_11eb_8730_f0ad8b56ca4crow8_col2 {\n            background-color:  #6f92f3;\n            color:  #000000;\n        }    #T_863cfc9a_0c0e_11eb_8730_f0ad8b56ca4crow8_col3 {\n            background-color:  #5a78e4;\n            color:  #000000;\n        }    #T_863cfc9a_0c0e_11eb_8730_f0ad8b56ca4crow8_col4 {\n            background-color:  #d6dce4;\n            color:  #000000;\n        }    #T_863cfc9a_0c0e_11eb_8730_f0ad8b56ca4crow8_col5 {\n            background-color:  #f1cdba;\n            color:  #000000;\n        }    #T_863cfc9a_0c0e_11eb_8730_f0ad8b56ca4crow8_col6 {\n            background-color:  #f7b79b;\n            color:  #000000;\n        }    #T_863cfc9a_0c0e_11eb_8730_f0ad8b56ca4crow8_col7 {\n            background-color:  #7ea1fa;\n            color:  #000000;\n        }    #T_863cfc9a_0c0e_11eb_8730_f0ad8b56ca4crow8_col8 {\n            background-color:  #b40426;\n            color:  #f1f1f1;\n        }    #T_863cfc9a_0c0e_11eb_8730_f0ad8b56ca4crow8_col9 {\n            background-color:  #adc9fd;\n            color:  #000000;\n        }    #T_863cfc9a_0c0e_11eb_8730_f0ad8b56ca4crow8_col10 {\n            background-color:  #cad8ef;\n            color:  #000000;\n        }    #T_863cfc9a_0c0e_11eb_8730_f0ad8b56ca4crow8_col11 {\n            background-color:  #eb7d62;\n            color:  #000000;\n        }    #T_863cfc9a_0c0e_11eb_8730_f0ad8b56ca4crow8_col12 {\n            background-color:  #9abbff;\n            color:  #000000;\n        }    #T_863cfc9a_0c0e_11eb_8730_f0ad8b56ca4crow8_col13 {\n            background-color:  #e7d7ce;\n            color:  #000000;\n        }    #T_863cfc9a_0c0e_11eb_8730_f0ad8b56ca4crow8_col14 {\n            background-color:  #ead4c8;\n            color:  #000000;\n        }    #T_863cfc9a_0c0e_11eb_8730_f0ad8b56ca4crow8_col15 {\n            background-color:  #e3d9d3;\n            color:  #000000;\n        }    #T_863cfc9a_0c0e_11eb_8730_f0ad8b56ca4crow8_col16 {\n            background-color:  #455cce;\n            color:  #f1f1f1;\n        }    #T_863cfc9a_0c0e_11eb_8730_f0ad8b56ca4crow9_col0 {\n            background-color:  #b3cdfb;\n            color:  #000000;\n        }    #T_863cfc9a_0c0e_11eb_8730_f0ad8b56ca4crow9_col1 {\n            background-color:  #7da0f9;\n            color:  #000000;\n        }    #T_863cfc9a_0c0e_11eb_8730_f0ad8b56ca4crow9_col2 {\n            background-color:  #82a6fb;\n            color:  #000000;\n        }    #T_863cfc9a_0c0e_11eb_8730_f0ad8b56ca4crow9_col3 {\n            background-color:  #86a9fc;\n            color:  #000000;\n        }    #T_863cfc9a_0c0e_11eb_8730_f0ad8b56ca4crow9_col4 {\n            background-color:  #a7c5fe;\n            color:  #000000;\n        }    #T_863cfc9a_0c0e_11eb_8730_f0ad8b56ca4crow9_col5 {\n            background-color:  #f0cdbb;\n            color:  #000000;\n        }    #T_863cfc9a_0c0e_11eb_8730_f0ad8b56ca4crow9_col6 {\n            background-color:  #c1d4f4;\n            color:  #000000;\n        }    #T_863cfc9a_0c0e_11eb_8730_f0ad8b56ca4crow9_col7 {\n            background-color:  #e5d8d1;\n            color:  #000000;\n        }    #T_863cfc9a_0c0e_11eb_8730_f0ad8b56ca4crow9_col8 {\n            background-color:  #c7d7f0;\n            color:  #000000;\n        }    #T_863cfc9a_0c0e_11eb_8730_f0ad8b56ca4crow9_col9 {\n            background-color:  #b40426;\n            color:  #f1f1f1;\n        }    #T_863cfc9a_0c0e_11eb_8730_f0ad8b56ca4crow9_col10 {\n            background-color:  #e6d7cf;\n            color:  #000000;\n        }    #T_863cfc9a_0c0e_11eb_8730_f0ad8b56ca4crow9_col11 {\n            background-color:  #dddcdc;\n            color:  #000000;\n        }    #T_863cfc9a_0c0e_11eb_8730_f0ad8b56ca4crow9_col12 {\n            background-color:  #688aef;\n            color:  #000000;\n        }    #T_863cfc9a_0c0e_11eb_8730_f0ad8b56ca4crow9_col13 {\n            background-color:  #f7aa8c;\n            color:  #000000;\n        }    #T_863cfc9a_0c0e_11eb_8730_f0ad8b56ca4crow9_col14 {\n            background-color:  #f7b99e;\n            color:  #000000;\n        }    #T_863cfc9a_0c0e_11eb_8730_f0ad8b56ca4crow9_col15 {\n            background-color:  #3b4cc0;\n            color:  #f1f1f1;\n        }    #T_863cfc9a_0c0e_11eb_8730_f0ad8b56ca4crow9_col16 {\n            background-color:  #a3c2fe;\n            color:  #000000;\n        }    #T_863cfc9a_0c0e_11eb_8730_f0ad8b56ca4crow10_col0 {\n            background-color:  #efcfbf;\n            color:  #000000;\n        }    #T_863cfc9a_0c0e_11eb_8730_f0ad8b56ca4crow10_col1 {\n            background-color:  #ebd3c6;\n            color:  #000000;\n        }    #T_863cfc9a_0c0e_11eb_8730_f0ad8b56ca4crow10_col2 {\n            background-color:  #f3c8b2;\n            color:  #000000;\n        }    #T_863cfc9a_0c0e_11eb_8730_f0ad8b56ca4crow10_col3 {\n            background-color:  #e9d5cb;\n            color:  #000000;\n        }    #T_863cfc9a_0c0e_11eb_8730_f0ad8b56ca4crow10_col4 {\n            background-color:  #e57058;\n            color:  #000000;\n        }    #T_863cfc9a_0c0e_11eb_8730_f0ad8b56ca4crow10_col5 {\n            background-color:  #3b4cc0;\n            color:  #f1f1f1;\n        }    #T_863cfc9a_0c0e_11eb_8730_f0ad8b56ca4crow10_col6 {\n            background-color:  #edd1c2;\n            color:  #000000;\n        }    #T_863cfc9a_0c0e_11eb_8730_f0ad8b56ca4crow10_col7 {\n            background-color:  #dbdcde;\n            color:  #000000;\n        }    #T_863cfc9a_0c0e_11eb_8730_f0ad8b56ca4crow10_col8 {\n            background-color:  #d1dae9;\n            color:  #000000;\n        }    #T_863cfc9a_0c0e_11eb_8730_f0ad8b56ca4crow10_col9 {\n            background-color:  #dbdcde;\n            color:  #000000;\n        }    #T_863cfc9a_0c0e_11eb_8730_f0ad8b56ca4crow10_col10 {\n            background-color:  #b40426;\n            color:  #f1f1f1;\n        }    #T_863cfc9a_0c0e_11eb_8730_f0ad8b56ca4crow10_col11 {\n            background-color:  #92b4fe;\n            color:  #000000;\n        }    #T_863cfc9a_0c0e_11eb_8730_f0ad8b56ca4crow10_col12 {\n            background-color:  #ec7f63;\n            color:  #000000;\n        }    #T_863cfc9a_0c0e_11eb_8730_f0ad8b56ca4crow10_col13 {\n            background-color:  #dfdbd9;\n            color:  #000000;\n        }    #T_863cfc9a_0c0e_11eb_8730_f0ad8b56ca4crow10_col14 {\n            background-color:  #f7b89c;\n            color:  #000000;\n        }    #T_863cfc9a_0c0e_11eb_8730_f0ad8b56ca4crow10_col15 {\n            background-color:  #5b7ae5;\n            color:  #000000;\n        }    #T_863cfc9a_0c0e_11eb_8730_f0ad8b56ca4crow10_col16 {\n            background-color:  #94b6ff;\n            color:  #000000;\n        }    #T_863cfc9a_0c0e_11eb_8730_f0ad8b56ca4crow11_col0 {\n            background-color:  #d0473d;\n            color:  #f1f1f1;\n        }    #T_863cfc9a_0c0e_11eb_8730_f0ad8b56ca4crow11_col1 {\n            background-color:  #f7b093;\n            color:  #000000;\n        }    #T_863cfc9a_0c0e_11eb_8730_f0ad8b56ca4crow11_col2 {\n            background-color:  #f7aa8c;\n            color:  #000000;\n        }    #T_863cfc9a_0c0e_11eb_8730_f0ad8b56ca4crow11_col3 {\n            background-color:  #d65244;\n            color:  #000000;\n        }    #T_863cfc9a_0c0e_11eb_8730_f0ad8b56ca4crow11_col4 {\n            background-color:  #aac7fd;\n            color:  #000000;\n        }    #T_863cfc9a_0c0e_11eb_8730_f0ad8b56ca4crow11_col5 {\n            background-color:  #5d7ce6;\n            color:  #000000;\n        }    #T_863cfc9a_0c0e_11eb_8730_f0ad8b56ca4crow11_col6 {\n            background-color:  #3c4ec2;\n            color:  #f1f1f1;\n        }    #T_863cfc9a_0c0e_11eb_8730_f0ad8b56ca4crow11_col7 {\n            background-color:  #7b9ff9;\n            color:  #000000;\n        }    #T_863cfc9a_0c0e_11eb_8730_f0ad8b56ca4crow11_col8 {\n            background-color:  #e8765c;\n            color:  #000000;\n        }    #T_863cfc9a_0c0e_11eb_8730_f0ad8b56ca4crow11_col9 {\n            background-color:  #d7dce3;\n            color:  #000000;\n        }    #T_863cfc9a_0c0e_11eb_8730_f0ad8b56ca4crow11_col10 {\n            background-color:  #9ebeff;\n            color:  #000000;\n        }    #T_863cfc9a_0c0e_11eb_8730_f0ad8b56ca4crow11_col11 {\n            background-color:  #b40426;\n            color:  #f1f1f1;\n        }    #T_863cfc9a_0c0e_11eb_8730_f0ad8b56ca4crow11_col12 {\n            background-color:  #9ebeff;\n            color:  #000000;\n        }    #T_863cfc9a_0c0e_11eb_8730_f0ad8b56ca4crow11_col13 {\n            background-color:  #5b7ae5;\n            color:  #000000;\n        }    #T_863cfc9a_0c0e_11eb_8730_f0ad8b56ca4crow11_col14 {\n            background-color:  #6e90f2;\n            color:  #000000;\n        }    #T_863cfc9a_0c0e_11eb_8730_f0ad8b56ca4crow11_col15 {\n            background-color:  #86a9fc;\n            color:  #000000;\n        }    #T_863cfc9a_0c0e_11eb_8730_f0ad8b56ca4crow11_col16 {\n            background-color:  #d5dbe5;\n            color:  #000000;\n        }    #T_863cfc9a_0c0e_11eb_8730_f0ad8b56ca4crow12_col0 {\n            background-color:  #bfd3f6;\n            color:  #000000;\n        }    #T_863cfc9a_0c0e_11eb_8730_f0ad8b56ca4crow12_col1 {\n            background-color:  #a2c1ff;\n            color:  #000000;\n        }    #T_863cfc9a_0c0e_11eb_8730_f0ad8b56ca4crow12_col2 {\n            background-color:  #7b9ff9;\n            color:  #000000;\n        }    #T_863cfc9a_0c0e_11eb_8730_f0ad8b56ca4crow12_col3 {\n            background-color:  #b3cdfb;\n            color:  #000000;\n        }    #T_863cfc9a_0c0e_11eb_8730_f0ad8b56ca4crow12_col4 {\n            background-color:  #3e51c5;\n            color:  #f1f1f1;\n        }    #T_863cfc9a_0c0e_11eb_8730_f0ad8b56ca4crow12_col5 {\n            background-color:  #f08a6c;\n            color:  #000000;\n        }    #T_863cfc9a_0c0e_11eb_8730_f0ad8b56ca4crow12_col6 {\n            background-color:  #7b9ff9;\n            color:  #000000;\n        }    #T_863cfc9a_0c0e_11eb_8730_f0ad8b56ca4crow12_col7 {\n            background-color:  #7a9df8;\n            color:  #000000;\n        }    #T_863cfc9a_0c0e_11eb_8730_f0ad8b56ca4crow12_col8 {\n            background-color:  #afcafc;\n            color:  #000000;\n        }    #T_863cfc9a_0c0e_11eb_8730_f0ad8b56ca4crow12_col9 {\n            background-color:  #5d7ce6;\n            color:  #000000;\n        }    #T_863cfc9a_0c0e_11eb_8730_f0ad8b56ca4crow12_col10 {\n            background-color:  #ea7b60;\n            color:  #000000;\n        }    #T_863cfc9a_0c0e_11eb_8730_f0ad8b56ca4crow12_col11 {\n            background-color:  #9fbfff;\n            color:  #000000;\n        }    #T_863cfc9a_0c0e_11eb_8730_f0ad8b56ca4crow12_col12 {\n            background-color:  #b40426;\n            color:  #f1f1f1;\n        }    #T_863cfc9a_0c0e_11eb_8730_f0ad8b56ca4crow12_col13 {\n            background-color:  #b6cefa;\n            color:  #000000;\n        }    #T_863cfc9a_0c0e_11eb_8730_f0ad8b56ca4crow12_col14 {\n            background-color:  #a1c0ff;\n            color:  #000000;\n        }    #T_863cfc9a_0c0e_11eb_8730_f0ad8b56ca4crow12_col15 {\n            background-color:  #bad0f8;\n            color:  #000000;\n        }    #T_863cfc9a_0c0e_11eb_8730_f0ad8b56ca4crow12_col16 {\n            background-color:  #89acfd;\n            color:  #000000;\n        }    #T_863cfc9a_0c0e_11eb_8730_f0ad8b56ca4crow13_col0 {\n            background-color:  #f6a283;\n            color:  #000000;\n        }    #T_863cfc9a_0c0e_11eb_8730_f0ad8b56ca4crow13_col1 {\n            background-color:  #ead5c9;\n            color:  #000000;\n        }    #T_863cfc9a_0c0e_11eb_8730_f0ad8b56ca4crow13_col2 {\n            background-color:  #edd2c3;\n            color:  #000000;\n        }    #T_863cfc9a_0c0e_11eb_8730_f0ad8b56ca4crow13_col3 {\n            background-color:  #f18d6f;\n            color:  #000000;\n        }    #T_863cfc9a_0c0e_11eb_8730_f0ad8b56ca4crow13_col4 {\n            background-color:  #5b7ae5;\n            color:  #000000;\n        }    #T_863cfc9a_0c0e_11eb_8730_f0ad8b56ca4crow13_col5 {\n            background-color:  #9fbfff;\n            color:  #000000;\n        }    #T_863cfc9a_0c0e_11eb_8730_f0ad8b56ca4crow13_col6 {\n            background-color:  #81a4fb;\n            color:  #000000;\n        }    #T_863cfc9a_0c0e_11eb_8730_f0ad8b56ca4crow13_col7 {\n            background-color:  #536edd;\n            color:  #000000;\n        }    #T_863cfc9a_0c0e_11eb_8730_f0ad8b56ca4crow13_col8 {\n            background-color:  #e6d7cf;\n            color:  #000000;\n        }    #T_863cfc9a_0c0e_11eb_8730_f0ad8b56ca4crow13_col9 {\n            background-color:  #f7b99e;\n            color:  #000000;\n        }    #T_863cfc9a_0c0e_11eb_8730_f0ad8b56ca4crow13_col10 {\n            background-color:  #d9dce1;\n            color:  #000000;\n        }    #T_863cfc9a_0c0e_11eb_8730_f0ad8b56ca4crow13_col11 {\n            background-color:  #4257c9;\n            color:  #f1f1f1;\n        }    #T_863cfc9a_0c0e_11eb_8730_f0ad8b56ca4crow13_col12 {\n            background-color:  #a1c0ff;\n            color:  #000000;\n        }    #T_863cfc9a_0c0e_11eb_8730_f0ad8b56ca4crow13_col13 {\n            background-color:  #b40426;\n            color:  #f1f1f1;\n        }    #T_863cfc9a_0c0e_11eb_8730_f0ad8b56ca4crow13_col14 {\n            background-color:  #3b4cc0;\n            color:  #f1f1f1;\n        }    #T_863cfc9a_0c0e_11eb_8730_f0ad8b56ca4crow13_col15 {\n            background-color:  #f59d7e;\n            color:  #000000;\n        }    #T_863cfc9a_0c0e_11eb_8730_f0ad8b56ca4crow13_col16 {\n            background-color:  #f5c1a9;\n            color:  #000000;\n        }    #T_863cfc9a_0c0e_11eb_8730_f0ad8b56ca4crow14_col0 {\n            background-color:  #f7b194;\n            color:  #000000;\n        }    #T_863cfc9a_0c0e_11eb_8730_f0ad8b56ca4crow14_col1 {\n            background-color:  #b1cbfc;\n            color:  #000000;\n        }    #T_863cfc9a_0c0e_11eb_8730_f0ad8b56ca4crow14_col2 {\n            background-color:  #f7a688;\n            color:  #000000;\n        }    #T_863cfc9a_0c0e_11eb_8730_f0ad8b56ca4crow14_col3 {\n            background-color:  #f18d6f;\n            color:  #000000;\n        }    #T_863cfc9a_0c0e_11eb_8730_f0ad8b56ca4crow14_col4 {\n            background-color:  #6687ed;\n            color:  #000000;\n        }    #T_863cfc9a_0c0e_11eb_8730_f0ad8b56ca4crow14_col5 {\n            background-color:  #7da0f9;\n            color:  #000000;\n        }    #T_863cfc9a_0c0e_11eb_8730_f0ad8b56ca4crow14_col6 {\n            background-color:  #6c8ff1;\n            color:  #000000;\n        }    #T_863cfc9a_0c0e_11eb_8730_f0ad8b56ca4crow14_col7 {\n            background-color:  #5f7fe8;\n            color:  #000000;\n        }    #T_863cfc9a_0c0e_11eb_8730_f0ad8b56ca4crow14_col8 {\n            background-color:  #ead4c8;\n            color:  #000000;\n        }    #T_863cfc9a_0c0e_11eb_8730_f0ad8b56ca4crow14_col9 {\n            background-color:  #f3c8b2;\n            color:  #000000;\n        }    #T_863cfc9a_0c0e_11eb_8730_f0ad8b56ca4crow14_col10 {\n            background-color:  #f6bda2;\n            color:  #000000;\n        }    #T_863cfc9a_0c0e_11eb_8730_f0ad8b56ca4crow14_col11 {\n            background-color:  #5470de;\n            color:  #000000;\n        }    #T_863cfc9a_0c0e_11eb_8730_f0ad8b56ca4crow14_col12 {\n            background-color:  #88abfd;\n            color:  #000000;\n        }    #T_863cfc9a_0c0e_11eb_8730_f0ad8b56ca4crow14_col13 {\n            background-color:  #3b4cc0;\n            color:  #f1f1f1;\n        }    #T_863cfc9a_0c0e_11eb_8730_f0ad8b56ca4crow14_col14 {\n            background-color:  #b40426;\n            color:  #f1f1f1;\n        }    #T_863cfc9a_0c0e_11eb_8730_f0ad8b56ca4crow14_col15 {\n            background-color:  #d8dce2;\n            color:  #000000;\n        }    #T_863cfc9a_0c0e_11eb_8730_f0ad8b56ca4crow14_col16 {\n            background-color:  #ecd3c5;\n            color:  #000000;\n        }    #T_863cfc9a_0c0e_11eb_8730_f0ad8b56ca4crow15_col0 {\n            background-color:  #e7d7ce;\n            color:  #000000;\n        }    #T_863cfc9a_0c0e_11eb_8730_f0ad8b56ca4crow15_col1 {\n            background-color:  #b3cdfb;\n            color:  #000000;\n        }    #T_863cfc9a_0c0e_11eb_8730_f0ad8b56ca4crow15_col2 {\n            background-color:  #f1ccb8;\n            color:  #000000;\n        }    #T_863cfc9a_0c0e_11eb_8730_f0ad8b56ca4crow15_col3 {\n            background-color:  #cfdaea;\n            color:  #000000;\n        }    #T_863cfc9a_0c0e_11eb_8730_f0ad8b56ca4crow15_col4 {\n            background-color:  #f7a688;\n            color:  #000000;\n        }    #T_863cfc9a_0c0e_11eb_8730_f0ad8b56ca4crow15_col5 {\n            background-color:  #6282ea;\n            color:  #000000;\n        }    #T_863cfc9a_0c0e_11eb_8730_f0ad8b56ca4crow15_col6 {\n            background-color:  #d9dce1;\n            color:  #000000;\n        }    #T_863cfc9a_0c0e_11eb_8730_f0ad8b56ca4crow15_col7 {\n            background-color:  #ead5c9;\n            color:  #000000;\n        }    #T_863cfc9a_0c0e_11eb_8730_f0ad8b56ca4crow15_col8 {\n            background-color:  #efcebd;\n            color:  #000000;\n        }    #T_863cfc9a_0c0e_11eb_8730_f0ad8b56ca4crow15_col9 {\n            background-color:  #3b4cc0;\n            color:  #f1f1f1;\n        }    #T_863cfc9a_0c0e_11eb_8730_f0ad8b56ca4crow15_col10 {\n            background-color:  #7597f6;\n            color:  #000000;\n        }    #T_863cfc9a_0c0e_11eb_8730_f0ad8b56ca4crow15_col11 {\n            background-color:  #93b5fe;\n            color:  #000000;\n        }    #T_863cfc9a_0c0e_11eb_8730_f0ad8b56ca4crow15_col12 {\n            background-color:  #c1d4f4;\n            color:  #000000;\n        }    #T_863cfc9a_0c0e_11eb_8730_f0ad8b56ca4crow15_col13 {\n            background-color:  #f29072;\n            color:  #000000;\n        }    #T_863cfc9a_0c0e_11eb_8730_f0ad8b56ca4crow15_col14 {\n            background-color:  #e8d6cc;\n            color:  #000000;\n        }    #T_863cfc9a_0c0e_11eb_8730_f0ad8b56ca4crow15_col15 {\n            background-color:  #b40426;\n            color:  #f1f1f1;\n        }    #T_863cfc9a_0c0e_11eb_8730_f0ad8b56ca4crow15_col16 {\n            background-color:  #8badfd;\n            color:  #000000;\n        }    #T_863cfc9a_0c0e_11eb_8730_f0ad8b56ca4crow16_col0 {\n            background-color:  #aac7fd;\n            color:  #000000;\n        }    #T_863cfc9a_0c0e_11eb_8730_f0ad8b56ca4crow16_col1 {\n            background-color:  #3b4cc0;\n            color:  #f1f1f1;\n        }    #T_863cfc9a_0c0e_11eb_8730_f0ad8b56ca4crow16_col2 {\n            background-color:  #a6c4fe;\n            color:  #000000;\n        }    #T_863cfc9a_0c0e_11eb_8730_f0ad8b56ca4crow16_col3 {\n            background-color:  #a6c4fe;\n            color:  #000000;\n        }    #T_863cfc9a_0c0e_11eb_8730_f0ad8b56ca4crow16_col4 {\n            background-color:  #dfdbd9;\n            color:  #000000;\n        }    #T_863cfc9a_0c0e_11eb_8730_f0ad8b56ca4crow16_col5 {\n            background-color:  #ccd9ed;\n            color:  #000000;\n        }    #T_863cfc9a_0c0e_11eb_8730_f0ad8b56ca4crow16_col6 {\n            background-color:  #a7c5fe;\n            color:  #000000;\n        }    #T_863cfc9a_0c0e_11eb_8730_f0ad8b56ca4crow16_col7 {\n            background-color:  #a6c4fe;\n            color:  #000000;\n        }    #T_863cfc9a_0c0e_11eb_8730_f0ad8b56ca4crow16_col8 {\n            background-color:  #7699f6;\n            color:  #000000;\n        }    #T_863cfc9a_0c0e_11eb_8730_f0ad8b56ca4crow16_col9 {\n            background-color:  #adc9fd;\n            color:  #000000;\n        }    #T_863cfc9a_0c0e_11eb_8730_f0ad8b56ca4crow16_col10 {\n            background-color:  #b2ccfb;\n            color:  #000000;\n        }    #T_863cfc9a_0c0e_11eb_8730_f0ad8b56ca4crow16_col11 {\n            background-color:  #e0dbd8;\n            color:  #000000;\n        }    #T_863cfc9a_0c0e_11eb_8730_f0ad8b56ca4crow16_col12 {\n            background-color:  #9dbdff;\n            color:  #000000;\n        }    #T_863cfc9a_0c0e_11eb_8730_f0ad8b56ca4crow16_col13 {\n            background-color:  #f7af91;\n            color:  #000000;\n        }    #T_863cfc9a_0c0e_11eb_8730_f0ad8b56ca4crow16_col14 {\n            background-color:  #f5c2aa;\n            color:  #000000;\n        }    #T_863cfc9a_0c0e_11eb_8730_f0ad8b56ca4crow16_col15 {\n            background-color:  #94b6ff;\n            color:  #000000;\n        }    #T_863cfc9a_0c0e_11eb_8730_f0ad8b56ca4crow16_col16 {\n            background-color:  #b40426;\n            color:  #f1f1f1;\n        }</style><table id=\"T_863cfc9a_0c0e_11eb_8730_f0ad8b56ca4c\" ><thead>    <tr>        <th class=\"blank level0\" ></th>        <th class=\"col_heading level0 col0\" >0</th>        <th class=\"col_heading level0 col1\" >1</th>        <th class=\"col_heading level0 col2\" >2</th>        <th class=\"col_heading level0 col3\" >3</th>        <th class=\"col_heading level0 col4\" >4</th>        <th class=\"col_heading level0 col5\" >5</th>        <th class=\"col_heading level0 col6\" >6</th>        <th class=\"col_heading level0 col7\" >7</th>        <th class=\"col_heading level0 col8\" >8</th>        <th class=\"col_heading level0 col9\" >9</th>        <th class=\"col_heading level0 col10\" >10</th>        <th class=\"col_heading level0 col11\" >11</th>        <th class=\"col_heading level0 col12\" >12</th>        <th class=\"col_heading level0 col13\" >13</th>        <th class=\"col_heading level0 col14\" >14</th>        <th class=\"col_heading level0 col15\" >15</th>        <th class=\"col_heading level0 col16\" >16</th>    </tr></thead><tbody>\n                <tr>\n                        <th id=\"T_863cfc9a_0c0e_11eb_8730_f0ad8b56ca4clevel0_row0\" class=\"row_heading level0 row0\" >0</th>\n                        <td id=\"T_863cfc9a_0c0e_11eb_8730_f0ad8b56ca4crow0_col0\" class=\"data row0 col0\" >1.00</td>\n                        <td id=\"T_863cfc9a_0c0e_11eb_8730_f0ad8b56ca4crow0_col1\" class=\"data row0 col1\" >-0.41</td>\n                        <td id=\"T_863cfc9a_0c0e_11eb_8730_f0ad8b56ca4crow0_col2\" class=\"data row0 col2\" >-0.64</td>\n                        <td id=\"T_863cfc9a_0c0e_11eb_8730_f0ad8b56ca4crow0_col3\" class=\"data row0 col3\" >-0.87</td>\n                        <td id=\"T_863cfc9a_0c0e_11eb_8730_f0ad8b56ca4crow0_col4\" class=\"data row0 col4\" >-0.06</td>\n                        <td id=\"T_863cfc9a_0c0e_11eb_8730_f0ad8b56ca4crow0_col5\" class=\"data row0 col5\" >0.60</td>\n                        <td id=\"T_863cfc9a_0c0e_11eb_8730_f0ad8b56ca4crow0_col6\" class=\"data row0 col6\" >0.49</td>\n                        <td id=\"T_863cfc9a_0c0e_11eb_8730_f0ad8b56ca4crow0_col7\" class=\"data row0 col7\" >0.02</td>\n                        <td id=\"T_863cfc9a_0c0e_11eb_8730_f0ad8b56ca4crow0_col8\" class=\"data row0 col8\" >-0.66</td>\n                        <td id=\"T_863cfc9a_0c0e_11eb_8730_f0ad8b56ca4crow0_col9\" class=\"data row0 col9\" >-0.20</td>\n                        <td id=\"T_863cfc9a_0c0e_11eb_8730_f0ad8b56ca4crow0_col10\" class=\"data row0 col10\" >0.21</td>\n                        <td id=\"T_863cfc9a_0c0e_11eb_8730_f0ad8b56ca4crow0_col11\" class=\"data row0 col11\" >0.85</td>\n                        <td id=\"T_863cfc9a_0c0e_11eb_8730_f0ad8b56ca4crow0_col12\" class=\"data row0 col12\" >-0.13</td>\n                        <td id=\"T_863cfc9a_0c0e_11eb_8730_f0ad8b56ca4crow0_col13\" class=\"data row0 col13\" >0.49</td>\n                        <td id=\"T_863cfc9a_0c0e_11eb_8730_f0ad8b56ca4crow0_col14\" class=\"data row0 col14\" >0.41</td>\n                        <td id=\"T_863cfc9a_0c0e_11eb_8730_f0ad8b56ca4crow0_col15\" class=\"data row0 col15\" >0.14</td>\n                        <td id=\"T_863cfc9a_0c0e_11eb_8730_f0ad8b56ca4crow0_col16\" class=\"data row0 col16\" >-0.24</td>\n            </tr>\n            <tr>\n                        <th id=\"T_863cfc9a_0c0e_11eb_8730_f0ad8b56ca4clevel0_row1\" class=\"row_heading level0 row1\" >1</th>\n                        <td id=\"T_863cfc9a_0c0e_11eb_8730_f0ad8b56ca4crow1_col0\" class=\"data row1 col0\" >-0.41</td>\n                        <td id=\"T_863cfc9a_0c0e_11eb_8730_f0ad8b56ca4crow1_col1\" class=\"data row1 col1\" >1.00</td>\n                        <td id=\"T_863cfc9a_0c0e_11eb_8730_f0ad8b56ca4crow1_col2\" class=\"data row1 col2\" >-0.20</td>\n                        <td id=\"T_863cfc9a_0c0e_11eb_8730_f0ad8b56ca4crow1_col3\" class=\"data row1 col3\" >-0.37</td>\n                        <td id=\"T_863cfc9a_0c0e_11eb_8730_f0ad8b56ca4crow1_col4\" class=\"data row1 col4\" >-0.16</td>\n                        <td id=\"T_863cfc9a_0c0e_11eb_8730_f0ad8b56ca4crow1_col5\" class=\"data row1 col5\" >0.23</td>\n                        <td id=\"T_863cfc9a_0c0e_11eb_8730_f0ad8b56ca4crow1_col6\" class=\"data row1 col6\" >-0.02</td>\n                        <td id=\"T_863cfc9a_0c0e_11eb_8730_f0ad8b56ca4crow1_col7\" class=\"data row1 col7\" >-0.22</td>\n                        <td id=\"T_863cfc9a_0c0e_11eb_8730_f0ad8b56ca4crow1_col8\" class=\"data row1 col8\" >-0.34</td>\n                        <td id=\"T_863cfc9a_0c0e_11eb_8730_f0ad8b56ca4crow1_col9\" class=\"data row1 col9\" >-0.12</td>\n                        <td id=\"T_863cfc9a_0c0e_11eb_8730_f0ad8b56ca4crow1_col10\" class=\"data row1 col10\" >0.38</td>\n                        <td id=\"T_863cfc9a_0c0e_11eb_8730_f0ad8b56ca4crow1_col11\" class=\"data row1 col11\" >0.56</td>\n                        <td id=\"T_863cfc9a_0c0e_11eb_8730_f0ad8b56ca4crow1_col12\" class=\"data row1 col12\" >0.02</td>\n                        <td id=\"T_863cfc9a_0c0e_11eb_8730_f0ad8b56ca4crow1_col13\" class=\"data row1 col13\" >0.37</td>\n                        <td id=\"T_863cfc9a_0c0e_11eb_8730_f0ad8b56ca4crow1_col14\" class=\"data row1 col14\" >0.08</td>\n                        <td id=\"T_863cfc9a_0c0e_11eb_8730_f0ad8b56ca4crow1_col15\" class=\"data row1 col15\" >0.10</td>\n                        <td id=\"T_863cfc9a_0c0e_11eb_8730_f0ad8b56ca4crow1_col16\" class=\"data row1 col16\" >-0.42</td>\n            </tr>\n            <tr>\n                        <th id=\"T_863cfc9a_0c0e_11eb_8730_f0ad8b56ca4clevel0_row2\" class=\"row_heading level0 row2\" >2</th>\n                        <td id=\"T_863cfc9a_0c0e_11eb_8730_f0ad8b56ca4crow2_col0\" class=\"data row2 col0\" >-0.64</td>\n                        <td id=\"T_863cfc9a_0c0e_11eb_8730_f0ad8b56ca4crow2_col1\" class=\"data row2 col1\" >-0.20</td>\n                        <td id=\"T_863cfc9a_0c0e_11eb_8730_f0ad8b56ca4crow2_col2\" class=\"data row2 col2\" >1.00</td>\n                        <td id=\"T_863cfc9a_0c0e_11eb_8730_f0ad8b56ca4crow2_col3\" class=\"data row2 col3\" >-0.70</td>\n                        <td id=\"T_863cfc9a_0c0e_11eb_8730_f0ad8b56ca4crow2_col4\" class=\"data row2 col4\" >-0.38</td>\n                        <td id=\"T_863cfc9a_0c0e_11eb_8730_f0ad8b56ca4crow2_col5\" class=\"data row2 col5\" >0.86</td>\n                        <td id=\"T_863cfc9a_0c0e_11eb_8730_f0ad8b56ca4crow2_col6\" class=\"data row2 col6\" >0.16</td>\n                        <td id=\"T_863cfc9a_0c0e_11eb_8730_f0ad8b56ca4crow2_col7\" class=\"data row2 col7\" >-0.26</td>\n                        <td id=\"T_863cfc9a_0c0e_11eb_8730_f0ad8b56ca4crow2_col8\" class=\"data row2 col8\" >-0.42</td>\n                        <td id=\"T_863cfc9a_0c0e_11eb_8730_f0ad8b56ca4crow2_col9\" class=\"data row2 col9\" >-0.33</td>\n                        <td id=\"T_863cfc9a_0c0e_11eb_8730_f0ad8b56ca4crow2_col10\" class=\"data row2 col10\" >0.34</td>\n                        <td id=\"T_863cfc9a_0c0e_11eb_8730_f0ad8b56ca4crow2_col11\" class=\"data row2 col11\" >0.50</td>\n                        <td id=\"T_863cfc9a_0c0e_11eb_8730_f0ad8b56ca4crow2_col12\" class=\"data row2 col12\" >-0.36</td>\n                        <td id=\"T_863cfc9a_0c0e_11eb_8730_f0ad8b56ca4crow2_col13\" class=\"data row2 col13\" >0.27</td>\n                        <td id=\"T_863cfc9a_0c0e_11eb_8730_f0ad8b56ca4crow2_col14\" class=\"data row2 col14\" >0.52</td>\n                        <td id=\"T_863cfc9a_0c0e_11eb_8730_f0ad8b56ca4crow2_col15\" class=\"data row2 col15\" >0.31</td>\n                        <td id=\"T_863cfc9a_0c0e_11eb_8730_f0ad8b56ca4crow2_col16\" class=\"data row2 col16\" >-0.15</td>\n            </tr>\n            <tr>\n                        <th id=\"T_863cfc9a_0c0e_11eb_8730_f0ad8b56ca4clevel0_row3\" class=\"row_heading level0 row3\" >3</th>\n                        <td id=\"T_863cfc9a_0c0e_11eb_8730_f0ad8b56ca4crow3_col0\" class=\"data row3 col0\" >-0.87</td>\n                        <td id=\"T_863cfc9a_0c0e_11eb_8730_f0ad8b56ca4crow3_col1\" class=\"data row3 col1\" >-0.37</td>\n                        <td id=\"T_863cfc9a_0c0e_11eb_8730_f0ad8b56ca4crow3_col2\" class=\"data row3 col2\" >-0.70</td>\n                        <td id=\"T_863cfc9a_0c0e_11eb_8730_f0ad8b56ca4crow3_col3\" class=\"data row3 col3\" >1.00</td>\n                        <td id=\"T_863cfc9a_0c0e_11eb_8730_f0ad8b56ca4crow3_col4\" class=\"data row3 col4\" >0.12</td>\n                        <td id=\"T_863cfc9a_0c0e_11eb_8730_f0ad8b56ca4crow3_col5\" class=\"data row3 col5\" >0.59</td>\n                        <td id=\"T_863cfc9a_0c0e_11eb_8730_f0ad8b56ca4crow3_col6\" class=\"data row3 col6\" >0.59</td>\n                        <td id=\"T_863cfc9a_0c0e_11eb_8730_f0ad8b56ca4crow3_col7\" class=\"data row3 col7\" >0.03</td>\n                        <td id=\"T_863cfc9a_0c0e_11eb_8730_f0ad8b56ca4crow3_col8\" class=\"data row3 col8\" >-0.68</td>\n                        <td id=\"T_863cfc9a_0c0e_11eb_8730_f0ad8b56ca4crow3_col9\" class=\"data row3 col9\" >-0.44</td>\n                        <td id=\"T_863cfc9a_0c0e_11eb_8730_f0ad8b56ca4crow3_col10\" class=\"data row3 col10\" >0.16</td>\n                        <td id=\"T_863cfc9a_0c0e_11eb_8730_f0ad8b56ca4crow3_col11\" class=\"data row3 col11\" >0.81</td>\n                        <td id=\"T_863cfc9a_0c0e_11eb_8730_f0ad8b56ca4crow3_col12\" class=\"data row3 col12\" >-0.20</td>\n                        <td id=\"T_863cfc9a_0c0e_11eb_8730_f0ad8b56ca4crow3_col13\" class=\"data row3 col13\" >0.58</td>\n                        <td id=\"T_863cfc9a_0c0e_11eb_8730_f0ad8b56ca4crow3_col14\" class=\"data row3 col14\" >0.59</td>\n                        <td id=\"T_863cfc9a_0c0e_11eb_8730_f0ad8b56ca4crow3_col15\" class=\"data row3 col15\" >-0.03</td>\n                        <td id=\"T_863cfc9a_0c0e_11eb_8730_f0ad8b56ca4crow3_col16\" class=\"data row3 col16\" >-0.27</td>\n            </tr>\n            <tr>\n                        <th id=\"T_863cfc9a_0c0e_11eb_8730_f0ad8b56ca4clevel0_row4\" class=\"row_heading level0 row4\" >4</th>\n                        <td id=\"T_863cfc9a_0c0e_11eb_8730_f0ad8b56ca4crow4_col0\" class=\"data row4 col0\" >-0.06</td>\n                        <td id=\"T_863cfc9a_0c0e_11eb_8730_f0ad8b56ca4crow4_col1\" class=\"data row4 col1\" >-0.16</td>\n                        <td id=\"T_863cfc9a_0c0e_11eb_8730_f0ad8b56ca4crow4_col2\" class=\"data row4 col2\" >-0.38</td>\n                        <td id=\"T_863cfc9a_0c0e_11eb_8730_f0ad8b56ca4crow4_col3\" class=\"data row4 col3\" >0.12</td>\n                        <td id=\"T_863cfc9a_0c0e_11eb_8730_f0ad8b56ca4crow4_col4\" class=\"data row4 col4\" >1.00</td>\n                        <td id=\"T_863cfc9a_0c0e_11eb_8730_f0ad8b56ca4crow4_col5\" class=\"data row4 col5\" >0.65</td>\n                        <td id=\"T_863cfc9a_0c0e_11eb_8730_f0ad8b56ca4crow4_col6\" class=\"data row4 col6\" >-0.55</td>\n                        <td id=\"T_863cfc9a_0c0e_11eb_8730_f0ad8b56ca4crow4_col7\" class=\"data row4 col7\" >-0.34</td>\n                        <td id=\"T_863cfc9a_0c0e_11eb_8730_f0ad8b56ca4crow4_col8\" class=\"data row4 col8\" >0.19</td>\n                        <td id=\"T_863cfc9a_0c0e_11eb_8730_f0ad8b56ca4crow4_col9\" class=\"data row4 col9\" >-0.04</td>\n                        <td id=\"T_863cfc9a_0c0e_11eb_8730_f0ad8b56ca4crow4_col10\" class=\"data row4 col10\" >0.76</td>\n                        <td id=\"T_863cfc9a_0c0e_11eb_8730_f0ad8b56ca4crow4_col11\" class=\"data row4 col11\" >-0.03</td>\n                        <td id=\"T_863cfc9a_0c0e_11eb_8730_f0ad8b56ca4crow4_col12\" class=\"data row4 col12\" >-0.53</td>\n                        <td id=\"T_863cfc9a_0c0e_11eb_8730_f0ad8b56ca4crow4_col13\" class=\"data row4 col13\" >-0.38</td>\n                        <td id=\"T_863cfc9a_0c0e_11eb_8730_f0ad8b56ca4crow4_col14\" class=\"data row4 col14\" >-0.33</td>\n                        <td id=\"T_863cfc9a_0c0e_11eb_8730_f0ad8b56ca4crow4_col15\" class=\"data row4 col15\" >0.56</td>\n                        <td id=\"T_863cfc9a_0c0e_11eb_8730_f0ad8b56ca4crow4_col16\" class=\"data row4 col16\" >0.24</td>\n            </tr>\n            <tr>\n                        <th id=\"T_863cfc9a_0c0e_11eb_8730_f0ad8b56ca4clevel0_row5\" class=\"row_heading level0 row5\" >5</th>\n                        <td id=\"T_863cfc9a_0c0e_11eb_8730_f0ad8b56ca4crow5_col0\" class=\"data row5 col0\" >0.60</td>\n                        <td id=\"T_863cfc9a_0c0e_11eb_8730_f0ad8b56ca4crow5_col1\" class=\"data row5 col1\" >0.23</td>\n                        <td id=\"T_863cfc9a_0c0e_11eb_8730_f0ad8b56ca4crow5_col2\" class=\"data row5 col2\" >0.86</td>\n                        <td id=\"T_863cfc9a_0c0e_11eb_8730_f0ad8b56ca4crow5_col3\" class=\"data row5 col3\" >0.59</td>\n                        <td id=\"T_863cfc9a_0c0e_11eb_8730_f0ad8b56ca4crow5_col4\" class=\"data row5 col4\" >0.65</td>\n                        <td id=\"T_863cfc9a_0c0e_11eb_8730_f0ad8b56ca4crow5_col5\" class=\"data row5 col5\" >1.00</td>\n                        <td id=\"T_863cfc9a_0c0e_11eb_8730_f0ad8b56ca4crow5_col6\" class=\"data row5 col6\" >0.03</td>\n                        <td id=\"T_863cfc9a_0c0e_11eb_8730_f0ad8b56ca4crow5_col7\" class=\"data row5 col7\" >0.19</td>\n                        <td id=\"T_863cfc9a_0c0e_11eb_8730_f0ad8b56ca4crow5_col8\" class=\"data row5 col8\" >0.34</td>\n                        <td id=\"T_863cfc9a_0c0e_11eb_8730_f0ad8b56ca4crow5_col9\" class=\"data row5 col9\" >0.34</td>\n                        <td id=\"T_863cfc9a_0c0e_11eb_8730_f0ad8b56ca4crow5_col10\" class=\"data row5 col10\" >-0.61</td>\n                        <td id=\"T_863cfc9a_0c0e_11eb_8730_f0ad8b56ca4crow5_col11\" class=\"data row5 col11\" >-0.43</td>\n                        <td id=\"T_863cfc9a_0c0e_11eb_8730_f0ad8b56ca4crow5_col12\" class=\"data row5 col12\" >0.66</td>\n                        <td id=\"T_863cfc9a_0c0e_11eb_8730_f0ad8b56ca4crow5_col13\" class=\"data row5 col13\" >-0.12</td>\n                        <td id=\"T_863cfc9a_0c0e_11eb_8730_f0ad8b56ca4crow5_col14\" class=\"data row5 col14\" >-0.28</td>\n                        <td id=\"T_863cfc9a_0c0e_11eb_8730_f0ad8b56ca4crow5_col15\" class=\"data row5 col15\" >-0.40</td>\n                        <td id=\"T_863cfc9a_0c0e_11eb_8730_f0ad8b56ca4crow5_col16\" class=\"data row5 col16\" >0.10</td>\n            </tr>\n            <tr>\n                        <th id=\"T_863cfc9a_0c0e_11eb_8730_f0ad8b56ca4clevel0_row6\" class=\"row_heading level0 row6\" >6</th>\n                        <td id=\"T_863cfc9a_0c0e_11eb_8730_f0ad8b56ca4crow6_col0\" class=\"data row6 col0\" >0.49</td>\n                        <td id=\"T_863cfc9a_0c0e_11eb_8730_f0ad8b56ca4crow6_col1\" class=\"data row6 col1\" >-0.02</td>\n                        <td id=\"T_863cfc9a_0c0e_11eb_8730_f0ad8b56ca4crow6_col2\" class=\"data row6 col2\" >0.16</td>\n                        <td id=\"T_863cfc9a_0c0e_11eb_8730_f0ad8b56ca4crow6_col3\" class=\"data row6 col3\" >0.59</td>\n                        <td id=\"T_863cfc9a_0c0e_11eb_8730_f0ad8b56ca4crow6_col4\" class=\"data row6 col4\" >-0.55</td>\n                        <td id=\"T_863cfc9a_0c0e_11eb_8730_f0ad8b56ca4crow6_col5\" class=\"data row6 col5\" >0.03</td>\n                        <td id=\"T_863cfc9a_0c0e_11eb_8730_f0ad8b56ca4crow6_col6\" class=\"data row6 col6\" >1.00</td>\n                        <td id=\"T_863cfc9a_0c0e_11eb_8730_f0ad8b56ca4crow6_col7\" class=\"data row6 col7\" >-0.26</td>\n                        <td id=\"T_863cfc9a_0c0e_11eb_8730_f0ad8b56ca4crow6_col8\" class=\"data row6 col8\" >0.49</td>\n                        <td id=\"T_863cfc9a_0c0e_11eb_8730_f0ad8b56ca4crow6_col9\" class=\"data row6 col9\" >0.08</td>\n                        <td id=\"T_863cfc9a_0c0e_11eb_8730_f0ad8b56ca4crow6_col10\" class=\"data row6 col10\" >0.34</td>\n                        <td id=\"T_863cfc9a_0c0e_11eb_8730_f0ad8b56ca4crow6_col11\" class=\"data row6 col11\" >-0.54</td>\n                        <td id=\"T_863cfc9a_0c0e_11eb_8730_f0ad8b56ca4crow6_col12\" class=\"data row6 col12\" >-0.24</td>\n                        <td id=\"T_863cfc9a_0c0e_11eb_8730_f0ad8b56ca4crow6_col13\" class=\"data row6 col13\" >-0.21</td>\n                        <td id=\"T_863cfc9a_0c0e_11eb_8730_f0ad8b56ca4crow6_col14\" class=\"data row6 col14\" >-0.30</td>\n                        <td id=\"T_863cfc9a_0c0e_11eb_8730_f0ad8b56ca4crow6_col15\" class=\"data row6 col15\" >0.21</td>\n                        <td id=\"T_863cfc9a_0c0e_11eb_8730_f0ad8b56ca4crow6_col16\" class=\"data row6 col16\" >-0.04</td>\n            </tr>\n            <tr>\n                        <th id=\"T_863cfc9a_0c0e_11eb_8730_f0ad8b56ca4clevel0_row7\" class=\"row_heading level0 row7\" >7</th>\n                        <td id=\"T_863cfc9a_0c0e_11eb_8730_f0ad8b56ca4crow7_col0\" class=\"data row7 col0\" >0.02</td>\n                        <td id=\"T_863cfc9a_0c0e_11eb_8730_f0ad8b56ca4crow7_col1\" class=\"data row7 col1\" >-0.22</td>\n                        <td id=\"T_863cfc9a_0c0e_11eb_8730_f0ad8b56ca4crow7_col2\" class=\"data row7 col2\" >-0.26</td>\n                        <td id=\"T_863cfc9a_0c0e_11eb_8730_f0ad8b56ca4crow7_col3\" class=\"data row7 col3\" >0.03</td>\n                        <td id=\"T_863cfc9a_0c0e_11eb_8730_f0ad8b56ca4crow7_col4\" class=\"data row7 col4\" >-0.34</td>\n                        <td id=\"T_863cfc9a_0c0e_11eb_8730_f0ad8b56ca4crow7_col5\" class=\"data row7 col5\" >0.19</td>\n                        <td id=\"T_863cfc9a_0c0e_11eb_8730_f0ad8b56ca4crow7_col6\" class=\"data row7 col6\" >-0.26</td>\n                        <td id=\"T_863cfc9a_0c0e_11eb_8730_f0ad8b56ca4crow7_col7\" class=\"data row7 col7\" >1.00</td>\n                        <td id=\"T_863cfc9a_0c0e_11eb_8730_f0ad8b56ca4crow7_col8\" class=\"data row7 col8\" >-0.06</td>\n                        <td id=\"T_863cfc9a_0c0e_11eb_8730_f0ad8b56ca4crow7_col9\" class=\"data row7 col9\" >0.37</td>\n                        <td id=\"T_863cfc9a_0c0e_11eb_8730_f0ad8b56ca4crow7_col10\" class=\"data row7 col10\" >0.32</td>\n                        <td id=\"T_863cfc9a_0c0e_11eb_8730_f0ad8b56ca4crow7_col11\" class=\"data row7 col11\" >-0.07</td>\n                        <td id=\"T_863cfc9a_0c0e_11eb_8730_f0ad8b56ca4crow7_col12\" class=\"data row7 col12\" >-0.07</td>\n                        <td id=\"T_863cfc9a_0c0e_11eb_8730_f0ad8b56ca4crow7_col13\" class=\"data row7 col13\" >-0.23</td>\n                        <td id=\"T_863cfc9a_0c0e_11eb_8730_f0ad8b56ca4crow7_col14\" class=\"data row7 col14\" >-0.18</td>\n                        <td id=\"T_863cfc9a_0c0e_11eb_8730_f0ad8b56ca4crow7_col15\" class=\"data row7 col15\" >0.40</td>\n                        <td id=\"T_863cfc9a_0c0e_11eb_8730_f0ad8b56ca4crow7_col16\" class=\"data row7 col16\" >0.09</td>\n            </tr>\n            <tr>\n                        <th id=\"T_863cfc9a_0c0e_11eb_8730_f0ad8b56ca4clevel0_row8\" class=\"row_heading level0 row8\" >8</th>\n                        <td id=\"T_863cfc9a_0c0e_11eb_8730_f0ad8b56ca4crow8_col0\" class=\"data row8 col0\" >-0.66</td>\n                        <td id=\"T_863cfc9a_0c0e_11eb_8730_f0ad8b56ca4crow8_col1\" class=\"data row8 col1\" >-0.34</td>\n                        <td id=\"T_863cfc9a_0c0e_11eb_8730_f0ad8b56ca4crow8_col2\" class=\"data row8 col2\" >-0.42</td>\n                        <td id=\"T_863cfc9a_0c0e_11eb_8730_f0ad8b56ca4crow8_col3\" class=\"data row8 col3\" >-0.68</td>\n                        <td id=\"T_863cfc9a_0c0e_11eb_8730_f0ad8b56ca4crow8_col4\" class=\"data row8 col4\" >0.19</td>\n                        <td id=\"T_863cfc9a_0c0e_11eb_8730_f0ad8b56ca4crow8_col5\" class=\"data row8 col5\" >0.34</td>\n                        <td id=\"T_863cfc9a_0c0e_11eb_8730_f0ad8b56ca4crow8_col6\" class=\"data row8 col6\" >0.49</td>\n                        <td id=\"T_863cfc9a_0c0e_11eb_8730_f0ad8b56ca4crow8_col7\" class=\"data row8 col7\" >-0.06</td>\n                        <td id=\"T_863cfc9a_0c0e_11eb_8730_f0ad8b56ca4crow8_col8\" class=\"data row8 col8\" >1.00</td>\n                        <td id=\"T_863cfc9a_0c0e_11eb_8730_f0ad8b56ca4crow8_col9\" class=\"data row8 col9\" >0.03</td>\n                        <td id=\"T_863cfc9a_0c0e_11eb_8730_f0ad8b56ca4crow8_col10\" class=\"data row8 col10\" >0.09</td>\n                        <td id=\"T_863cfc9a_0c0e_11eb_8730_f0ad8b56ca4crow8_col11\" class=\"data row8 col11\" >0.71</td>\n                        <td id=\"T_863cfc9a_0c0e_11eb_8730_f0ad8b56ca4crow8_col12\" class=\"data row8 col12\" >-0.09</td>\n                        <td id=\"T_863cfc9a_0c0e_11eb_8730_f0ad8b56ca4crow8_col13\" class=\"data row8 col13\" >0.23</td>\n                        <td id=\"T_863cfc9a_0c0e_11eb_8730_f0ad8b56ca4crow8_col14\" class=\"data row8 col14\" >0.26</td>\n                        <td id=\"T_863cfc9a_0c0e_11eb_8730_f0ad8b56ca4crow8_col15\" class=\"data row8 col15\" >0.30</td>\n                        <td id=\"T_863cfc9a_0c0e_11eb_8730_f0ad8b56ca4crow8_col16\" class=\"data row8 col16\" >-0.36</td>\n            </tr>\n            <tr>\n                        <th id=\"T_863cfc9a_0c0e_11eb_8730_f0ad8b56ca4clevel0_row9\" class=\"row_heading level0 row9\" >9</th>\n                        <td id=\"T_863cfc9a_0c0e_11eb_8730_f0ad8b56ca4crow9_col0\" class=\"data row9 col0\" >-0.20</td>\n                        <td id=\"T_863cfc9a_0c0e_11eb_8730_f0ad8b56ca4crow9_col1\" class=\"data row9 col1\" >-0.12</td>\n                        <td id=\"T_863cfc9a_0c0e_11eb_8730_f0ad8b56ca4crow9_col2\" class=\"data row9 col2\" >-0.33</td>\n                        <td id=\"T_863cfc9a_0c0e_11eb_8730_f0ad8b56ca4crow9_col3\" class=\"data row9 col3\" >-0.44</td>\n                        <td id=\"T_863cfc9a_0c0e_11eb_8730_f0ad8b56ca4crow9_col4\" class=\"data row9 col4\" >-0.04</td>\n                        <td id=\"T_863cfc9a_0c0e_11eb_8730_f0ad8b56ca4crow9_col5\" class=\"data row9 col5\" >0.34</td>\n                        <td id=\"T_863cfc9a_0c0e_11eb_8730_f0ad8b56ca4crow9_col6\" class=\"data row9 col6\" >0.08</td>\n                        <td id=\"T_863cfc9a_0c0e_11eb_8730_f0ad8b56ca4crow9_col7\" class=\"data row9 col7\" >0.37</td>\n                        <td id=\"T_863cfc9a_0c0e_11eb_8730_f0ad8b56ca4crow9_col8\" class=\"data row9 col8\" >0.03</td>\n                        <td id=\"T_863cfc9a_0c0e_11eb_8730_f0ad8b56ca4crow9_col9\" class=\"data row9 col9\" >1.00</td>\n                        <td id=\"T_863cfc9a_0c0e_11eb_8730_f0ad8b56ca4crow9_col10\" class=\"data row9 col10\" >0.26</td>\n                        <td id=\"T_863cfc9a_0c0e_11eb_8730_f0ad8b56ca4crow9_col11\" class=\"data row9 col11\" >0.23</td>\n                        <td id=\"T_863cfc9a_0c0e_11eb_8730_f0ad8b56ca4crow9_col12\" class=\"data row9 col12\" >-0.30</td>\n                        <td id=\"T_863cfc9a_0c0e_11eb_8730_f0ad8b56ca4crow9_col13\" class=\"data row9 col13\" >0.50</td>\n                        <td id=\"T_863cfc9a_0c0e_11eb_8730_f0ad8b56ca4crow9_col14\" class=\"data row9 col14\" >0.43</td>\n                        <td id=\"T_863cfc9a_0c0e_11eb_8730_f0ad8b56ca4crow9_col15\" class=\"data row9 col15\" >-0.47</td>\n                        <td id=\"T_863cfc9a_0c0e_11eb_8730_f0ad8b56ca4crow9_col16\" class=\"data row9 col16\" >0.03</td>\n            </tr>\n            <tr>\n                        <th id=\"T_863cfc9a_0c0e_11eb_8730_f0ad8b56ca4clevel0_row10\" class=\"row_heading level0 row10\" >10</th>\n                        <td id=\"T_863cfc9a_0c0e_11eb_8730_f0ad8b56ca4crow10_col0\" class=\"data row10 col0\" >0.21</td>\n                        <td id=\"T_863cfc9a_0c0e_11eb_8730_f0ad8b56ca4crow10_col1\" class=\"data row10 col1\" >0.38</td>\n                        <td id=\"T_863cfc9a_0c0e_11eb_8730_f0ad8b56ca4crow10_col2\" class=\"data row10 col2\" >0.34</td>\n                        <td id=\"T_863cfc9a_0c0e_11eb_8730_f0ad8b56ca4crow10_col3\" class=\"data row10 col3\" >0.16</td>\n                        <td id=\"T_863cfc9a_0c0e_11eb_8730_f0ad8b56ca4crow10_col4\" class=\"data row10 col4\" >0.76</td>\n                        <td id=\"T_863cfc9a_0c0e_11eb_8730_f0ad8b56ca4crow10_col5\" class=\"data row10 col5\" >-0.61</td>\n                        <td id=\"T_863cfc9a_0c0e_11eb_8730_f0ad8b56ca4crow10_col6\" class=\"data row10 col6\" >0.34</td>\n                        <td id=\"T_863cfc9a_0c0e_11eb_8730_f0ad8b56ca4crow10_col7\" class=\"data row10 col7\" >0.32</td>\n                        <td id=\"T_863cfc9a_0c0e_11eb_8730_f0ad8b56ca4crow10_col8\" class=\"data row10 col8\" >0.09</td>\n                        <td id=\"T_863cfc9a_0c0e_11eb_8730_f0ad8b56ca4crow10_col9\" class=\"data row10 col9\" >0.26</td>\n                        <td id=\"T_863cfc9a_0c0e_11eb_8730_f0ad8b56ca4crow10_col10\" class=\"data row10 col10\" >1.00</td>\n                        <td id=\"T_863cfc9a_0c0e_11eb_8730_f0ad8b56ca4crow10_col11\" class=\"data row10 col11\" >-0.13</td>\n                        <td id=\"T_863cfc9a_0c0e_11eb_8730_f0ad8b56ca4crow10_col12\" class=\"data row10 col12\" >0.71</td>\n                        <td id=\"T_863cfc9a_0c0e_11eb_8730_f0ad8b56ca4crow10_col13\" class=\"data row10 col13\" >0.17</td>\n                        <td id=\"T_863cfc9a_0c0e_11eb_8730_f0ad8b56ca4crow10_col14\" class=\"data row10 col14\" >0.44</td>\n                        <td id=\"T_863cfc9a_0c0e_11eb_8730_f0ad8b56ca4crow10_col15\" class=\"data row10 col15\" >-0.31</td>\n                        <td id=\"T_863cfc9a_0c0e_11eb_8730_f0ad8b56ca4crow10_col16\" class=\"data row10 col16\" >-0.03</td>\n            </tr>\n            <tr>\n                        <th id=\"T_863cfc9a_0c0e_11eb_8730_f0ad8b56ca4clevel0_row11\" class=\"row_heading level0 row11\" >11</th>\n                        <td id=\"T_863cfc9a_0c0e_11eb_8730_f0ad8b56ca4crow11_col0\" class=\"data row11 col0\" >0.85</td>\n                        <td id=\"T_863cfc9a_0c0e_11eb_8730_f0ad8b56ca4crow11_col1\" class=\"data row11 col1\" >0.56</td>\n                        <td id=\"T_863cfc9a_0c0e_11eb_8730_f0ad8b56ca4crow11_col2\" class=\"data row11 col2\" >0.50</td>\n                        <td id=\"T_863cfc9a_0c0e_11eb_8730_f0ad8b56ca4crow11_col3\" class=\"data row11 col3\" >0.81</td>\n                        <td id=\"T_863cfc9a_0c0e_11eb_8730_f0ad8b56ca4crow11_col4\" class=\"data row11 col4\" >-0.03</td>\n                        <td id=\"T_863cfc9a_0c0e_11eb_8730_f0ad8b56ca4crow11_col5\" class=\"data row11 col5\" >-0.43</td>\n                        <td id=\"T_863cfc9a_0c0e_11eb_8730_f0ad8b56ca4crow11_col6\" class=\"data row11 col6\" >-0.54</td>\n                        <td id=\"T_863cfc9a_0c0e_11eb_8730_f0ad8b56ca4crow11_col7\" class=\"data row11 col7\" >-0.07</td>\n                        <td id=\"T_863cfc9a_0c0e_11eb_8730_f0ad8b56ca4crow11_col8\" class=\"data row11 col8\" >0.71</td>\n                        <td id=\"T_863cfc9a_0c0e_11eb_8730_f0ad8b56ca4crow11_col9\" class=\"data row11 col9\" >0.23</td>\n                        <td id=\"T_863cfc9a_0c0e_11eb_8730_f0ad8b56ca4crow11_col10\" class=\"data row11 col10\" >-0.13</td>\n                        <td id=\"T_863cfc9a_0c0e_11eb_8730_f0ad8b56ca4crow11_col11\" class=\"data row11 col11\" >1.00</td>\n                        <td id=\"T_863cfc9a_0c0e_11eb_8730_f0ad8b56ca4crow11_col12\" class=\"data row11 col12\" >-0.07</td>\n                        <td id=\"T_863cfc9a_0c0e_11eb_8730_f0ad8b56ca4crow11_col13\" class=\"data row11 col13\" >-0.50</td>\n                        <td id=\"T_863cfc9a_0c0e_11eb_8730_f0ad8b56ca4crow11_col14\" class=\"data row11 col14\" >-0.41</td>\n                        <td id=\"T_863cfc9a_0c0e_11eb_8730_f0ad8b56ca4crow11_col15\" class=\"data row11 col15\" >-0.13</td>\n                        <td id=\"T_863cfc9a_0c0e_11eb_8730_f0ad8b56ca4crow11_col16\" class=\"data row11 col16\" >0.25</td>\n            </tr>\n            <tr>\n                        <th id=\"T_863cfc9a_0c0e_11eb_8730_f0ad8b56ca4clevel0_row12\" class=\"row_heading level0 row12\" >12</th>\n                        <td id=\"T_863cfc9a_0c0e_11eb_8730_f0ad8b56ca4crow12_col0\" class=\"data row12 col0\" >-0.13</td>\n                        <td id=\"T_863cfc9a_0c0e_11eb_8730_f0ad8b56ca4crow12_col1\" class=\"data row12 col1\" >0.02</td>\n                        <td id=\"T_863cfc9a_0c0e_11eb_8730_f0ad8b56ca4crow12_col2\" class=\"data row12 col2\" >-0.36</td>\n                        <td id=\"T_863cfc9a_0c0e_11eb_8730_f0ad8b56ca4crow12_col3\" class=\"data row12 col3\" >-0.20</td>\n                        <td id=\"T_863cfc9a_0c0e_11eb_8730_f0ad8b56ca4crow12_col4\" class=\"data row12 col4\" >-0.53</td>\n                        <td id=\"T_863cfc9a_0c0e_11eb_8730_f0ad8b56ca4crow12_col5\" class=\"data row12 col5\" >0.66</td>\n                        <td id=\"T_863cfc9a_0c0e_11eb_8730_f0ad8b56ca4crow12_col6\" class=\"data row12 col6\" >-0.24</td>\n                        <td id=\"T_863cfc9a_0c0e_11eb_8730_f0ad8b56ca4crow12_col7\" class=\"data row12 col7\" >-0.07</td>\n                        <td id=\"T_863cfc9a_0c0e_11eb_8730_f0ad8b56ca4crow12_col8\" class=\"data row12 col8\" >-0.09</td>\n                        <td id=\"T_863cfc9a_0c0e_11eb_8730_f0ad8b56ca4crow12_col9\" class=\"data row12 col9\" >-0.30</td>\n                        <td id=\"T_863cfc9a_0c0e_11eb_8730_f0ad8b56ca4crow12_col10\" class=\"data row12 col10\" >0.71</td>\n                        <td id=\"T_863cfc9a_0c0e_11eb_8730_f0ad8b56ca4crow12_col11\" class=\"data row12 col11\" >-0.07</td>\n                        <td id=\"T_863cfc9a_0c0e_11eb_8730_f0ad8b56ca4crow12_col12\" class=\"data row12 col12\" >1.00</td>\n                        <td id=\"T_863cfc9a_0c0e_11eb_8730_f0ad8b56ca4crow12_col13\" class=\"data row12 col13\" >-0.06</td>\n                        <td id=\"T_863cfc9a_0c0e_11eb_8730_f0ad8b56ca4crow12_col14\" class=\"data row12 col14\" >-0.17</td>\n                        <td id=\"T_863cfc9a_0c0e_11eb_8730_f0ad8b56ca4crow12_col15\" class=\"data row12 col15\" >0.09</td>\n                        <td id=\"T_863cfc9a_0c0e_11eb_8730_f0ad8b56ca4crow12_col16\" class=\"data row12 col16\" >-0.07</td>\n            </tr>\n            <tr>\n                        <th id=\"T_863cfc9a_0c0e_11eb_8730_f0ad8b56ca4clevel0_row13\" class=\"row_heading level0 row13\" >13</th>\n                        <td id=\"T_863cfc9a_0c0e_11eb_8730_f0ad8b56ca4crow13_col0\" class=\"data row13 col0\" >0.49</td>\n                        <td id=\"T_863cfc9a_0c0e_11eb_8730_f0ad8b56ca4crow13_col1\" class=\"data row13 col1\" >0.37</td>\n                        <td id=\"T_863cfc9a_0c0e_11eb_8730_f0ad8b56ca4crow13_col2\" class=\"data row13 col2\" >0.27</td>\n                        <td id=\"T_863cfc9a_0c0e_11eb_8730_f0ad8b56ca4crow13_col3\" class=\"data row13 col3\" >0.58</td>\n                        <td id=\"T_863cfc9a_0c0e_11eb_8730_f0ad8b56ca4crow13_col4\" class=\"data row13 col4\" >-0.38</td>\n                        <td id=\"T_863cfc9a_0c0e_11eb_8730_f0ad8b56ca4crow13_col5\" class=\"data row13 col5\" >-0.12</td>\n                        <td id=\"T_863cfc9a_0c0e_11eb_8730_f0ad8b56ca4crow13_col6\" class=\"data row13 col6\" >-0.21</td>\n                        <td id=\"T_863cfc9a_0c0e_11eb_8730_f0ad8b56ca4crow13_col7\" class=\"data row13 col7\" >-0.23</td>\n                        <td id=\"T_863cfc9a_0c0e_11eb_8730_f0ad8b56ca4crow13_col8\" class=\"data row13 col8\" >0.23</td>\n                        <td id=\"T_863cfc9a_0c0e_11eb_8730_f0ad8b56ca4crow13_col9\" class=\"data row13 col9\" >0.50</td>\n                        <td id=\"T_863cfc9a_0c0e_11eb_8730_f0ad8b56ca4crow13_col10\" class=\"data row13 col10\" >0.17</td>\n                        <td id=\"T_863cfc9a_0c0e_11eb_8730_f0ad8b56ca4crow13_col11\" class=\"data row13 col11\" >-0.50</td>\n                        <td id=\"T_863cfc9a_0c0e_11eb_8730_f0ad8b56ca4crow13_col12\" class=\"data row13 col12\" >-0.06</td>\n                        <td id=\"T_863cfc9a_0c0e_11eb_8730_f0ad8b56ca4crow13_col13\" class=\"data row13 col13\" >1.00</td>\n                        <td id=\"T_863cfc9a_0c0e_11eb_8730_f0ad8b56ca4crow13_col14\" class=\"data row13 col14\" >-0.68</td>\n                        <td id=\"T_863cfc9a_0c0e_11eb_8730_f0ad8b56ca4crow13_col15\" class=\"data row13 col15\" >0.62</td>\n                        <td id=\"T_863cfc9a_0c0e_11eb_8730_f0ad8b56ca4crow13_col16\" class=\"data row13 col16\" >0.49</td>\n            </tr>\n            <tr>\n                        <th id=\"T_863cfc9a_0c0e_11eb_8730_f0ad8b56ca4clevel0_row14\" class=\"row_heading level0 row14\" >14</th>\n                        <td id=\"T_863cfc9a_0c0e_11eb_8730_f0ad8b56ca4crow14_col0\" class=\"data row14 col0\" >0.41</td>\n                        <td id=\"T_863cfc9a_0c0e_11eb_8730_f0ad8b56ca4crow14_col1\" class=\"data row14 col1\" >0.08</td>\n                        <td id=\"T_863cfc9a_0c0e_11eb_8730_f0ad8b56ca4crow14_col2\" class=\"data row14 col2\" >0.52</td>\n                        <td id=\"T_863cfc9a_0c0e_11eb_8730_f0ad8b56ca4crow14_col3\" class=\"data row14 col3\" >0.59</td>\n                        <td id=\"T_863cfc9a_0c0e_11eb_8730_f0ad8b56ca4crow14_col4\" class=\"data row14 col4\" >-0.33</td>\n                        <td id=\"T_863cfc9a_0c0e_11eb_8730_f0ad8b56ca4crow14_col5\" class=\"data row14 col5\" >-0.28</td>\n                        <td id=\"T_863cfc9a_0c0e_11eb_8730_f0ad8b56ca4crow14_col6\" class=\"data row14 col6\" >-0.30</td>\n                        <td id=\"T_863cfc9a_0c0e_11eb_8730_f0ad8b56ca4crow14_col7\" class=\"data row14 col7\" >-0.18</td>\n                        <td id=\"T_863cfc9a_0c0e_11eb_8730_f0ad8b56ca4crow14_col8\" class=\"data row14 col8\" >0.26</td>\n                        <td id=\"T_863cfc9a_0c0e_11eb_8730_f0ad8b56ca4crow14_col9\" class=\"data row14 col9\" >0.43</td>\n                        <td id=\"T_863cfc9a_0c0e_11eb_8730_f0ad8b56ca4crow14_col10\" class=\"data row14 col10\" >0.44</td>\n                        <td id=\"T_863cfc9a_0c0e_11eb_8730_f0ad8b56ca4crow14_col11\" class=\"data row14 col11\" >-0.41</td>\n                        <td id=\"T_863cfc9a_0c0e_11eb_8730_f0ad8b56ca4crow14_col12\" class=\"data row14 col12\" >-0.17</td>\n                        <td id=\"T_863cfc9a_0c0e_11eb_8730_f0ad8b56ca4crow14_col13\" class=\"data row14 col13\" >-0.68</td>\n                        <td id=\"T_863cfc9a_0c0e_11eb_8730_f0ad8b56ca4crow14_col14\" class=\"data row14 col14\" >1.00</td>\n                        <td id=\"T_863cfc9a_0c0e_11eb_8730_f0ad8b56ca4crow14_col15\" class=\"data row14 col15\" >0.24</td>\n                        <td id=\"T_863cfc9a_0c0e_11eb_8730_f0ad8b56ca4crow14_col16\" class=\"data row14 col16\" >0.38</td>\n            </tr>\n            <tr>\n                        <th id=\"T_863cfc9a_0c0e_11eb_8730_f0ad8b56ca4clevel0_row15\" class=\"row_heading level0 row15\" >15</th>\n                        <td id=\"T_863cfc9a_0c0e_11eb_8730_f0ad8b56ca4crow15_col0\" class=\"data row15 col0\" >0.14</td>\n                        <td id=\"T_863cfc9a_0c0e_11eb_8730_f0ad8b56ca4crow15_col1\" class=\"data row15 col1\" >0.10</td>\n                        <td id=\"T_863cfc9a_0c0e_11eb_8730_f0ad8b56ca4crow15_col2\" class=\"data row15 col2\" >0.31</td>\n                        <td id=\"T_863cfc9a_0c0e_11eb_8730_f0ad8b56ca4crow15_col3\" class=\"data row15 col3\" >-0.03</td>\n                        <td id=\"T_863cfc9a_0c0e_11eb_8730_f0ad8b56ca4crow15_col4\" class=\"data row15 col4\" >0.56</td>\n                        <td id=\"T_863cfc9a_0c0e_11eb_8730_f0ad8b56ca4crow15_col5\" class=\"data row15 col5\" >-0.40</td>\n                        <td id=\"T_863cfc9a_0c0e_11eb_8730_f0ad8b56ca4crow15_col6\" class=\"data row15 col6\" >0.21</td>\n                        <td id=\"T_863cfc9a_0c0e_11eb_8730_f0ad8b56ca4crow15_col7\" class=\"data row15 col7\" >0.40</td>\n                        <td id=\"T_863cfc9a_0c0e_11eb_8730_f0ad8b56ca4crow15_col8\" class=\"data row15 col8\" >0.30</td>\n                        <td id=\"T_863cfc9a_0c0e_11eb_8730_f0ad8b56ca4crow15_col9\" class=\"data row15 col9\" >-0.47</td>\n                        <td id=\"T_863cfc9a_0c0e_11eb_8730_f0ad8b56ca4crow15_col10\" class=\"data row15 col10\" >-0.31</td>\n                        <td id=\"T_863cfc9a_0c0e_11eb_8730_f0ad8b56ca4crow15_col11\" class=\"data row15 col11\" >-0.13</td>\n                        <td id=\"T_863cfc9a_0c0e_11eb_8730_f0ad8b56ca4crow15_col12\" class=\"data row15 col12\" >0.09</td>\n                        <td id=\"T_863cfc9a_0c0e_11eb_8730_f0ad8b56ca4crow15_col13\" class=\"data row15 col13\" >0.62</td>\n                        <td id=\"T_863cfc9a_0c0e_11eb_8730_f0ad8b56ca4crow15_col14\" class=\"data row15 col14\" >0.24</td>\n                        <td id=\"T_863cfc9a_0c0e_11eb_8730_f0ad8b56ca4crow15_col15\" class=\"data row15 col15\" >1.00</td>\n                        <td id=\"T_863cfc9a_0c0e_11eb_8730_f0ad8b56ca4crow15_col16\" class=\"data row15 col16\" >-0.07</td>\n            </tr>\n            <tr>\n                        <th id=\"T_863cfc9a_0c0e_11eb_8730_f0ad8b56ca4clevel0_row16\" class=\"row_heading level0 row16\" >16</th>\n                        <td id=\"T_863cfc9a_0c0e_11eb_8730_f0ad8b56ca4crow16_col0\" class=\"data row16 col0\" >-0.24</td>\n                        <td id=\"T_863cfc9a_0c0e_11eb_8730_f0ad8b56ca4crow16_col1\" class=\"data row16 col1\" >-0.42</td>\n                        <td id=\"T_863cfc9a_0c0e_11eb_8730_f0ad8b56ca4crow16_col2\" class=\"data row16 col2\" >-0.15</td>\n                        <td id=\"T_863cfc9a_0c0e_11eb_8730_f0ad8b56ca4crow16_col3\" class=\"data row16 col3\" >-0.27</td>\n                        <td id=\"T_863cfc9a_0c0e_11eb_8730_f0ad8b56ca4crow16_col4\" class=\"data row16 col4\" >0.24</td>\n                        <td id=\"T_863cfc9a_0c0e_11eb_8730_f0ad8b56ca4crow16_col5\" class=\"data row16 col5\" >0.10</td>\n                        <td id=\"T_863cfc9a_0c0e_11eb_8730_f0ad8b56ca4crow16_col6\" class=\"data row16 col6\" >-0.04</td>\n                        <td id=\"T_863cfc9a_0c0e_11eb_8730_f0ad8b56ca4crow16_col7\" class=\"data row16 col7\" >0.09</td>\n                        <td id=\"T_863cfc9a_0c0e_11eb_8730_f0ad8b56ca4crow16_col8\" class=\"data row16 col8\" >-0.36</td>\n                        <td id=\"T_863cfc9a_0c0e_11eb_8730_f0ad8b56ca4crow16_col9\" class=\"data row16 col9\" >0.03</td>\n                        <td id=\"T_863cfc9a_0c0e_11eb_8730_f0ad8b56ca4crow16_col10\" class=\"data row16 col10\" >-0.03</td>\n                        <td id=\"T_863cfc9a_0c0e_11eb_8730_f0ad8b56ca4crow16_col11\" class=\"data row16 col11\" >0.25</td>\n                        <td id=\"T_863cfc9a_0c0e_11eb_8730_f0ad8b56ca4crow16_col12\" class=\"data row16 col12\" >-0.07</td>\n                        <td id=\"T_863cfc9a_0c0e_11eb_8730_f0ad8b56ca4crow16_col13\" class=\"data row16 col13\" >0.49</td>\n                        <td id=\"T_863cfc9a_0c0e_11eb_8730_f0ad8b56ca4crow16_col14\" class=\"data row16 col14\" >0.38</td>\n                        <td id=\"T_863cfc9a_0c0e_11eb_8730_f0ad8b56ca4crow16_col15\" class=\"data row16 col15\" >-0.07</td>\n                        <td id=\"T_863cfc9a_0c0e_11eb_8730_f0ad8b56ca4crow16_col16\" class=\"data row16 col16\" >1.00</td>\n            </tr>\n    </tbody></table>"
     },
     "metadata": {},
     "execution_count": 21
    }
   ],
   "source": [
    "partial_corr1 = df.pcorr().round(2)\n",
    "partial_corr = calculate_partial_correlation(df).style.background_gradient(cmap='coolwarm').set_precision(2)\n",
    "partial_corr"
   ]
  },
  {
   "source": [
    "## 4. Analizar el conjunto completo de todas las variables."
   ],
   "cell_type": "markdown",
   "metadata": {}
  },
  {
   "source": [
    "### Matriz de precisión: contiene la información sobre la relación multivariante entrecada una de las variables y el resto"
   ],
   "cell_type": "markdown",
   "metadata": {}
  },
  {
   "cell_type": "code",
   "execution_count": 20,
   "metadata": {},
   "outputs": [
    {
     "output_type": "execute_result",
     "data": {
      "text/plain": [
       "<pandas.io.formats.style.Styler at 0x1e781c4b908>"
      ],
      "text/html": "<style  type=\"text/css\" >\n</style><table id=\"T_81af40dc_0c0e_11eb_9e18_f0ad8b56ca4c\" ><thead>    <tr>        <th class=\"blank level0\" ></th>        <th class=\"col_heading level0 col0\" >0</th>        <th class=\"col_heading level0 col1\" >1</th>        <th class=\"col_heading level0 col2\" >2</th>        <th class=\"col_heading level0 col3\" >3</th>        <th class=\"col_heading level0 col4\" >4</th>        <th class=\"col_heading level0 col5\" >5</th>        <th class=\"col_heading level0 col6\" >6</th>        <th class=\"col_heading level0 col7\" >7</th>        <th class=\"col_heading level0 col8\" >8</th>        <th class=\"col_heading level0 col9\" >9</th>        <th class=\"col_heading level0 col10\" >10</th>        <th class=\"col_heading level0 col11\" >11</th>        <th class=\"col_heading level0 col12\" >12</th>        <th class=\"col_heading level0 col13\" >13</th>        <th class=\"col_heading level0 col14\" >14</th>        <th class=\"col_heading level0 col15\" >15</th>        <th class=\"col_heading level0 col16\" >16</th>    </tr></thead><tbody>\n                <tr>\n                        <th id=\"T_81af40dc_0c0e_11eb_9e18_f0ad8b56ca4clevel0_row0\" class=\"row_heading level0 row0\" >0</th>\n                        <td id=\"T_81af40dc_0c0e_11eb_9e18_f0ad8b56ca4crow0_col0\" class=\"data row0 col0\" >0.44</td>\n                        <td id=\"T_81af40dc_0c0e_11eb_9e18_f0ad8b56ca4crow0_col1\" class=\"data row0 col1\" >0.02</td>\n                        <td id=\"T_81af40dc_0c0e_11eb_9e18_f0ad8b56ca4crow0_col2\" class=\"data row0 col2\" >0.05</td>\n                        <td id=\"T_81af40dc_0c0e_11eb_9e18_f0ad8b56ca4crow0_col3\" class=\"data row0 col3\" >0.01</td>\n                        <td id=\"T_81af40dc_0c0e_11eb_9e18_f0ad8b56ca4crow0_col4\" class=\"data row0 col4\" >0.00</td>\n                        <td id=\"T_81af40dc_0c0e_11eb_9e18_f0ad8b56ca4crow0_col5\" class=\"data row0 col5\" >-0.00</td>\n                        <td id=\"T_81af40dc_0c0e_11eb_9e18_f0ad8b56ca4crow0_col6\" class=\"data row0 col6\" >-0.12</td>\n                        <td id=\"T_81af40dc_0c0e_11eb_9e18_f0ad8b56ca4crow0_col7\" class=\"data row0 col7\" >-0.00</td>\n                        <td id=\"T_81af40dc_0c0e_11eb_9e18_f0ad8b56ca4crow0_col8\" class=\"data row0 col8\" >0.01</td>\n                        <td id=\"T_81af40dc_0c0e_11eb_9e18_f0ad8b56ca4crow0_col9\" class=\"data row0 col9\" >0.00</td>\n                        <td id=\"T_81af40dc_0c0e_11eb_9e18_f0ad8b56ca4crow0_col10\" class=\"data row0 col10\" >-0.00</td>\n                        <td id=\"T_81af40dc_0c0e_11eb_9e18_f0ad8b56ca4crow0_col11\" class=\"data row0 col11\" >-0.03</td>\n                        <td id=\"T_81af40dc_0c0e_11eb_9e18_f0ad8b56ca4crow0_col12\" class=\"data row0 col12\" >0.01</td>\n                        <td id=\"T_81af40dc_0c0e_11eb_9e18_f0ad8b56ca4crow0_col13\" class=\"data row0 col13\" >-0.00</td>\n                        <td id=\"T_81af40dc_0c0e_11eb_9e18_f0ad8b56ca4crow0_col14\" class=\"data row0 col14\" >-0.00</td>\n                        <td id=\"T_81af40dc_0c0e_11eb_9e18_f0ad8b56ca4crow0_col15\" class=\"data row0 col15\" >-0.00</td>\n                        <td id=\"T_81af40dc_0c0e_11eb_9e18_f0ad8b56ca4crow0_col16\" class=\"data row0 col16\" >0.00</td>\n            </tr>\n            <tr>\n                        <th id=\"T_81af40dc_0c0e_11eb_9e18_f0ad8b56ca4clevel0_row1\" class=\"row_heading level0 row1\" >1</th>\n                        <td id=\"T_81af40dc_0c0e_11eb_9e18_f0ad8b56ca4crow1_col0\" class=\"data row1 col0\" >0.02</td>\n                        <td id=\"T_81af40dc_0c0e_11eb_9e18_f0ad8b56ca4crow1_col1\" class=\"data row1 col1\" >0.00</td>\n                        <td id=\"T_81af40dc_0c0e_11eb_9e18_f0ad8b56ca4crow1_col2\" class=\"data row1 col2\" >0.00</td>\n                        <td id=\"T_81af40dc_0c0e_11eb_9e18_f0ad8b56ca4crow1_col3\" class=\"data row1 col3\" >0.00</td>\n                        <td id=\"T_81af40dc_0c0e_11eb_9e18_f0ad8b56ca4crow1_col4\" class=\"data row1 col4\" >0.00</td>\n                        <td id=\"T_81af40dc_0c0e_11eb_9e18_f0ad8b56ca4crow1_col5\" class=\"data row1 col5\" >-0.00</td>\n                        <td id=\"T_81af40dc_0c0e_11eb_9e18_f0ad8b56ca4crow1_col6\" class=\"data row1 col6\" >0.00</td>\n                        <td id=\"T_81af40dc_0c0e_11eb_9e18_f0ad8b56ca4crow1_col7\" class=\"data row1 col7\" >0.00</td>\n                        <td id=\"T_81af40dc_0c0e_11eb_9e18_f0ad8b56ca4crow1_col8\" class=\"data row1 col8\" >0.00</td>\n                        <td id=\"T_81af40dc_0c0e_11eb_9e18_f0ad8b56ca4crow1_col9\" class=\"data row1 col9\" >0.00</td>\n                        <td id=\"T_81af40dc_0c0e_11eb_9e18_f0ad8b56ca4crow1_col10\" class=\"data row1 col10\" >-0.00</td>\n                        <td id=\"T_81af40dc_0c0e_11eb_9e18_f0ad8b56ca4crow1_col11\" class=\"data row1 col11\" >-0.00</td>\n                        <td id=\"T_81af40dc_0c0e_11eb_9e18_f0ad8b56ca4crow1_col12\" class=\"data row1 col12\" >-0.00</td>\n                        <td id=\"T_81af40dc_0c0e_11eb_9e18_f0ad8b56ca4crow1_col13\" class=\"data row1 col13\" >-0.00</td>\n                        <td id=\"T_81af40dc_0c0e_11eb_9e18_f0ad8b56ca4crow1_col14\" class=\"data row1 col14\" >-0.00</td>\n                        <td id=\"T_81af40dc_0c0e_11eb_9e18_f0ad8b56ca4crow1_col15\" class=\"data row1 col15\" >-0.00</td>\n                        <td id=\"T_81af40dc_0c0e_11eb_9e18_f0ad8b56ca4crow1_col16\" class=\"data row1 col16\" >0.00</td>\n            </tr>\n            <tr>\n                        <th id=\"T_81af40dc_0c0e_11eb_9e18_f0ad8b56ca4clevel0_row2\" class=\"row_heading level0 row2\" >2</th>\n                        <td id=\"T_81af40dc_0c0e_11eb_9e18_f0ad8b56ca4crow2_col0\" class=\"data row2 col0\" >0.05</td>\n                        <td id=\"T_81af40dc_0c0e_11eb_9e18_f0ad8b56ca4crow2_col1\" class=\"data row2 col1\" >0.00</td>\n                        <td id=\"T_81af40dc_0c0e_11eb_9e18_f0ad8b56ca4crow2_col2\" class=\"data row2 col2\" >0.02</td>\n                        <td id=\"T_81af40dc_0c0e_11eb_9e18_f0ad8b56ca4crow2_col3\" class=\"data row2 col3\" >0.00</td>\n                        <td id=\"T_81af40dc_0c0e_11eb_9e18_f0ad8b56ca4crow2_col4\" class=\"data row2 col4\" >0.00</td>\n                        <td id=\"T_81af40dc_0c0e_11eb_9e18_f0ad8b56ca4crow2_col5\" class=\"data row2 col5\" >-0.00</td>\n                        <td id=\"T_81af40dc_0c0e_11eb_9e18_f0ad8b56ca4crow2_col6\" class=\"data row2 col6\" >-0.01</td>\n                        <td id=\"T_81af40dc_0c0e_11eb_9e18_f0ad8b56ca4crow2_col7\" class=\"data row2 col7\" >0.00</td>\n                        <td id=\"T_81af40dc_0c0e_11eb_9e18_f0ad8b56ca4crow2_col8\" class=\"data row2 col8\" >0.00</td>\n                        <td id=\"T_81af40dc_0c0e_11eb_9e18_f0ad8b56ca4crow2_col9\" class=\"data row2 col9\" >0.00</td>\n                        <td id=\"T_81af40dc_0c0e_11eb_9e18_f0ad8b56ca4crow2_col10\" class=\"data row2 col10\" >-0.00</td>\n                        <td id=\"T_81af40dc_0c0e_11eb_9e18_f0ad8b56ca4crow2_col11\" class=\"data row2 col11\" >-0.00</td>\n                        <td id=\"T_81af40dc_0c0e_11eb_9e18_f0ad8b56ca4crow2_col12\" class=\"data row2 col12\" >0.00</td>\n                        <td id=\"T_81af40dc_0c0e_11eb_9e18_f0ad8b56ca4crow2_col13\" class=\"data row2 col13\" >-0.00</td>\n                        <td id=\"T_81af40dc_0c0e_11eb_9e18_f0ad8b56ca4crow2_col14\" class=\"data row2 col14\" >-0.00</td>\n                        <td id=\"T_81af40dc_0c0e_11eb_9e18_f0ad8b56ca4crow2_col15\" class=\"data row2 col15\" >-0.00</td>\n                        <td id=\"T_81af40dc_0c0e_11eb_9e18_f0ad8b56ca4crow2_col16\" class=\"data row2 col16\" >0.00</td>\n            </tr>\n            <tr>\n                        <th id=\"T_81af40dc_0c0e_11eb_9e18_f0ad8b56ca4clevel0_row3\" class=\"row_heading level0 row3\" >3</th>\n                        <td id=\"T_81af40dc_0c0e_11eb_9e18_f0ad8b56ca4crow3_col0\" class=\"data row3 col0\" >0.01</td>\n                        <td id=\"T_81af40dc_0c0e_11eb_9e18_f0ad8b56ca4crow3_col1\" class=\"data row3 col1\" >0.00</td>\n                        <td id=\"T_81af40dc_0c0e_11eb_9e18_f0ad8b56ca4crow3_col2\" class=\"data row3 col2\" >0.00</td>\n                        <td id=\"T_81af40dc_0c0e_11eb_9e18_f0ad8b56ca4crow3_col3\" class=\"data row3 col3\" >0.00</td>\n                        <td id=\"T_81af40dc_0c0e_11eb_9e18_f0ad8b56ca4crow3_col4\" class=\"data row3 col4\" >-0.00</td>\n                        <td id=\"T_81af40dc_0c0e_11eb_9e18_f0ad8b56ca4crow3_col5\" class=\"data row3 col5\" >-0.00</td>\n                        <td id=\"T_81af40dc_0c0e_11eb_9e18_f0ad8b56ca4crow3_col6\" class=\"data row3 col6\" >-0.00</td>\n                        <td id=\"T_81af40dc_0c0e_11eb_9e18_f0ad8b56ca4crow3_col7\" class=\"data row3 col7\" >-0.00</td>\n                        <td id=\"T_81af40dc_0c0e_11eb_9e18_f0ad8b56ca4crow3_col8\" class=\"data row3 col8\" >0.00</td>\n                        <td id=\"T_81af40dc_0c0e_11eb_9e18_f0ad8b56ca4crow3_col9\" class=\"data row3 col9\" >0.00</td>\n                        <td id=\"T_81af40dc_0c0e_11eb_9e18_f0ad8b56ca4crow3_col10\" class=\"data row3 col10\" >-0.00</td>\n                        <td id=\"T_81af40dc_0c0e_11eb_9e18_f0ad8b56ca4crow3_col11\" class=\"data row3 col11\" >-0.00</td>\n                        <td id=\"T_81af40dc_0c0e_11eb_9e18_f0ad8b56ca4crow3_col12\" class=\"data row3 col12\" >0.00</td>\n                        <td id=\"T_81af40dc_0c0e_11eb_9e18_f0ad8b56ca4crow3_col13\" class=\"data row3 col13\" >-0.00</td>\n                        <td id=\"T_81af40dc_0c0e_11eb_9e18_f0ad8b56ca4crow3_col14\" class=\"data row3 col14\" >-0.00</td>\n                        <td id=\"T_81af40dc_0c0e_11eb_9e18_f0ad8b56ca4crow3_col15\" class=\"data row3 col15\" >0.00</td>\n                        <td id=\"T_81af40dc_0c0e_11eb_9e18_f0ad8b56ca4crow3_col16\" class=\"data row3 col16\" >0.00</td>\n            </tr>\n            <tr>\n                        <th id=\"T_81af40dc_0c0e_11eb_9e18_f0ad8b56ca4clevel0_row4\" class=\"row_heading level0 row4\" >4</th>\n                        <td id=\"T_81af40dc_0c0e_11eb_9e18_f0ad8b56ca4crow4_col0\" class=\"data row4 col0\" >0.00</td>\n                        <td id=\"T_81af40dc_0c0e_11eb_9e18_f0ad8b56ca4crow4_col1\" class=\"data row4 col1\" >0.00</td>\n                        <td id=\"T_81af40dc_0c0e_11eb_9e18_f0ad8b56ca4crow4_col2\" class=\"data row4 col2\" >0.00</td>\n                        <td id=\"T_81af40dc_0c0e_11eb_9e18_f0ad8b56ca4crow4_col3\" class=\"data row4 col3\" >-0.00</td>\n                        <td id=\"T_81af40dc_0c0e_11eb_9e18_f0ad8b56ca4crow4_col4\" class=\"data row4 col4\" >0.01</td>\n                        <td id=\"T_81af40dc_0c0e_11eb_9e18_f0ad8b56ca4crow4_col5\" class=\"data row4 col5\" >-0.00</td>\n                        <td id=\"T_81af40dc_0c0e_11eb_9e18_f0ad8b56ca4crow4_col6\" class=\"data row4 col6\" >0.02</td>\n                        <td id=\"T_81af40dc_0c0e_11eb_9e18_f0ad8b56ca4crow4_col7\" class=\"data row4 col7\" >0.00</td>\n                        <td id=\"T_81af40dc_0c0e_11eb_9e18_f0ad8b56ca4crow4_col8\" class=\"data row4 col8\" >-0.00</td>\n                        <td id=\"T_81af40dc_0c0e_11eb_9e18_f0ad8b56ca4crow4_col9\" class=\"data row4 col9\" >0.00</td>\n                        <td id=\"T_81af40dc_0c0e_11eb_9e18_f0ad8b56ca4crow4_col10\" class=\"data row4 col10\" >-0.00</td>\n                        <td id=\"T_81af40dc_0c0e_11eb_9e18_f0ad8b56ca4crow4_col11\" class=\"data row4 col11\" >0.00</td>\n                        <td id=\"T_81af40dc_0c0e_11eb_9e18_f0ad8b56ca4crow4_col12\" class=\"data row4 col12\" >0.00</td>\n                        <td id=\"T_81af40dc_0c0e_11eb_9e18_f0ad8b56ca4crow4_col13\" class=\"data row4 col13\" >0.00</td>\n                        <td id=\"T_81af40dc_0c0e_11eb_9e18_f0ad8b56ca4crow4_col14\" class=\"data row4 col14\" >0.00</td>\n                        <td id=\"T_81af40dc_0c0e_11eb_9e18_f0ad8b56ca4crow4_col15\" class=\"data row4 col15\" >-0.00</td>\n                        <td id=\"T_81af40dc_0c0e_11eb_9e18_f0ad8b56ca4crow4_col16\" class=\"data row4 col16\" >-0.00</td>\n            </tr>\n            <tr>\n                        <th id=\"T_81af40dc_0c0e_11eb_9e18_f0ad8b56ca4clevel0_row5\" class=\"row_heading level0 row5\" >5</th>\n                        <td id=\"T_81af40dc_0c0e_11eb_9e18_f0ad8b56ca4crow5_col0\" class=\"data row5 col0\" >-0.00</td>\n                        <td id=\"T_81af40dc_0c0e_11eb_9e18_f0ad8b56ca4crow5_col1\" class=\"data row5 col1\" >-0.00</td>\n                        <td id=\"T_81af40dc_0c0e_11eb_9e18_f0ad8b56ca4crow5_col2\" class=\"data row5 col2\" >-0.00</td>\n                        <td id=\"T_81af40dc_0c0e_11eb_9e18_f0ad8b56ca4crow5_col3\" class=\"data row5 col3\" >-0.00</td>\n                        <td id=\"T_81af40dc_0c0e_11eb_9e18_f0ad8b56ca4crow5_col4\" class=\"data row5 col4\" >-0.00</td>\n                        <td id=\"T_81af40dc_0c0e_11eb_9e18_f0ad8b56ca4crow5_col5\" class=\"data row5 col5\" >0.00</td>\n                        <td id=\"T_81af40dc_0c0e_11eb_9e18_f0ad8b56ca4crow5_col6\" class=\"data row5 col6\" >-0.00</td>\n                        <td id=\"T_81af40dc_0c0e_11eb_9e18_f0ad8b56ca4crow5_col7\" class=\"data row5 col7\" >-0.00</td>\n                        <td id=\"T_81af40dc_0c0e_11eb_9e18_f0ad8b56ca4crow5_col8\" class=\"data row5 col8\" >-0.00</td>\n                        <td id=\"T_81af40dc_0c0e_11eb_9e18_f0ad8b56ca4crow5_col9\" class=\"data row5 col9\" >-0.00</td>\n                        <td id=\"T_81af40dc_0c0e_11eb_9e18_f0ad8b56ca4crow5_col10\" class=\"data row5 col10\" >0.00</td>\n                        <td id=\"T_81af40dc_0c0e_11eb_9e18_f0ad8b56ca4crow5_col11\" class=\"data row5 col11\" >0.00</td>\n                        <td id=\"T_81af40dc_0c0e_11eb_9e18_f0ad8b56ca4crow5_col12\" class=\"data row5 col12\" >-0.00</td>\n                        <td id=\"T_81af40dc_0c0e_11eb_9e18_f0ad8b56ca4crow5_col13\" class=\"data row5 col13\" >0.00</td>\n                        <td id=\"T_81af40dc_0c0e_11eb_9e18_f0ad8b56ca4crow5_col14\" class=\"data row5 col14\" >0.00</td>\n                        <td id=\"T_81af40dc_0c0e_11eb_9e18_f0ad8b56ca4crow5_col15\" class=\"data row5 col15\" >0.00</td>\n                        <td id=\"T_81af40dc_0c0e_11eb_9e18_f0ad8b56ca4crow5_col16\" class=\"data row5 col16\" >-0.00</td>\n            </tr>\n            <tr>\n                        <th id=\"T_81af40dc_0c0e_11eb_9e18_f0ad8b56ca4clevel0_row6\" class=\"row_heading level0 row6\" >6</th>\n                        <td id=\"T_81af40dc_0c0e_11eb_9e18_f0ad8b56ca4crow6_col0\" class=\"data row6 col0\" >-0.12</td>\n                        <td id=\"T_81af40dc_0c0e_11eb_9e18_f0ad8b56ca4crow6_col1\" class=\"data row6 col1\" >0.00</td>\n                        <td id=\"T_81af40dc_0c0e_11eb_9e18_f0ad8b56ca4crow6_col2\" class=\"data row6 col2\" >-0.01</td>\n                        <td id=\"T_81af40dc_0c0e_11eb_9e18_f0ad8b56ca4crow6_col3\" class=\"data row6 col3\" >-0.00</td>\n                        <td id=\"T_81af40dc_0c0e_11eb_9e18_f0ad8b56ca4crow6_col4\" class=\"data row6 col4\" >0.02</td>\n                        <td id=\"T_81af40dc_0c0e_11eb_9e18_f0ad8b56ca4crow6_col5\" class=\"data row6 col5\" >-0.00</td>\n                        <td id=\"T_81af40dc_0c0e_11eb_9e18_f0ad8b56ca4crow6_col6\" class=\"data row6 col6\" >0.13</td>\n                        <td id=\"T_81af40dc_0c0e_11eb_9e18_f0ad8b56ca4crow6_col7\" class=\"data row6 col7\" >0.00</td>\n                        <td id=\"T_81af40dc_0c0e_11eb_9e18_f0ad8b56ca4crow6_col8\" class=\"data row6 col8\" >-0.01</td>\n                        <td id=\"T_81af40dc_0c0e_11eb_9e18_f0ad8b56ca4crow6_col9\" class=\"data row6 col9\" >-0.00</td>\n                        <td id=\"T_81af40dc_0c0e_11eb_9e18_f0ad8b56ca4crow6_col10\" class=\"data row6 col10\" >-0.00</td>\n                        <td id=\"T_81af40dc_0c0e_11eb_9e18_f0ad8b56ca4crow6_col11\" class=\"data row6 col11\" >0.01</td>\n                        <td id=\"T_81af40dc_0c0e_11eb_9e18_f0ad8b56ca4crow6_col12\" class=\"data row6 col12\" >0.01</td>\n                        <td id=\"T_81af40dc_0c0e_11eb_9e18_f0ad8b56ca4crow6_col13\" class=\"data row6 col13\" >0.00</td>\n                        <td id=\"T_81af40dc_0c0e_11eb_9e18_f0ad8b56ca4crow6_col14\" class=\"data row6 col14\" >0.00</td>\n                        <td id=\"T_81af40dc_0c0e_11eb_9e18_f0ad8b56ca4crow6_col15\" class=\"data row6 col15\" >-0.00</td>\n                        <td id=\"T_81af40dc_0c0e_11eb_9e18_f0ad8b56ca4crow6_col16\" class=\"data row6 col16\" >0.00</td>\n            </tr>\n            <tr>\n                        <th id=\"T_81af40dc_0c0e_11eb_9e18_f0ad8b56ca4clevel0_row7\" class=\"row_heading level0 row7\" >7</th>\n                        <td id=\"T_81af40dc_0c0e_11eb_9e18_f0ad8b56ca4crow7_col0\" class=\"data row7 col0\" >-0.00</td>\n                        <td id=\"T_81af40dc_0c0e_11eb_9e18_f0ad8b56ca4crow7_col1\" class=\"data row7 col1\" >0.00</td>\n                        <td id=\"T_81af40dc_0c0e_11eb_9e18_f0ad8b56ca4crow7_col2\" class=\"data row7 col2\" >0.00</td>\n                        <td id=\"T_81af40dc_0c0e_11eb_9e18_f0ad8b56ca4crow7_col3\" class=\"data row7 col3\" >-0.00</td>\n                        <td id=\"T_81af40dc_0c0e_11eb_9e18_f0ad8b56ca4crow7_col4\" class=\"data row7 col4\" >0.00</td>\n                        <td id=\"T_81af40dc_0c0e_11eb_9e18_f0ad8b56ca4crow7_col5\" class=\"data row7 col5\" >-0.00</td>\n                        <td id=\"T_81af40dc_0c0e_11eb_9e18_f0ad8b56ca4crow7_col6\" class=\"data row7 col6\" >0.00</td>\n                        <td id=\"T_81af40dc_0c0e_11eb_9e18_f0ad8b56ca4crow7_col7\" class=\"data row7 col7\" >0.00</td>\n                        <td id=\"T_81af40dc_0c0e_11eb_9e18_f0ad8b56ca4crow7_col8\" class=\"data row7 col8\" >0.00</td>\n                        <td id=\"T_81af40dc_0c0e_11eb_9e18_f0ad8b56ca4crow7_col9\" class=\"data row7 col9\" >-0.00</td>\n                        <td id=\"T_81af40dc_0c0e_11eb_9e18_f0ad8b56ca4crow7_col10\" class=\"data row7 col10\" >-0.00</td>\n                        <td id=\"T_81af40dc_0c0e_11eb_9e18_f0ad8b56ca4crow7_col11\" class=\"data row7 col11\" >0.00</td>\n                        <td id=\"T_81af40dc_0c0e_11eb_9e18_f0ad8b56ca4crow7_col12\" class=\"data row7 col12\" >0.00</td>\n                        <td id=\"T_81af40dc_0c0e_11eb_9e18_f0ad8b56ca4crow7_col13\" class=\"data row7 col13\" >0.00</td>\n                        <td id=\"T_81af40dc_0c0e_11eb_9e18_f0ad8b56ca4crow7_col14\" class=\"data row7 col14\" >0.00</td>\n                        <td id=\"T_81af40dc_0c0e_11eb_9e18_f0ad8b56ca4crow7_col15\" class=\"data row7 col15\" >-0.00</td>\n                        <td id=\"T_81af40dc_0c0e_11eb_9e18_f0ad8b56ca4crow7_col16\" class=\"data row7 col16\" >-0.00</td>\n            </tr>\n            <tr>\n                        <th id=\"T_81af40dc_0c0e_11eb_9e18_f0ad8b56ca4clevel0_row8\" class=\"row_heading level0 row8\" >8</th>\n                        <td id=\"T_81af40dc_0c0e_11eb_9e18_f0ad8b56ca4crow8_col0\" class=\"data row8 col0\" >0.01</td>\n                        <td id=\"T_81af40dc_0c0e_11eb_9e18_f0ad8b56ca4crow8_col1\" class=\"data row8 col1\" >0.00</td>\n                        <td id=\"T_81af40dc_0c0e_11eb_9e18_f0ad8b56ca4crow8_col2\" class=\"data row8 col2\" >0.00</td>\n                        <td id=\"T_81af40dc_0c0e_11eb_9e18_f0ad8b56ca4crow8_col3\" class=\"data row8 col3\" >0.00</td>\n                        <td id=\"T_81af40dc_0c0e_11eb_9e18_f0ad8b56ca4crow8_col4\" class=\"data row8 col4\" >-0.00</td>\n                        <td id=\"T_81af40dc_0c0e_11eb_9e18_f0ad8b56ca4crow8_col5\" class=\"data row8 col5\" >-0.00</td>\n                        <td id=\"T_81af40dc_0c0e_11eb_9e18_f0ad8b56ca4crow8_col6\" class=\"data row8 col6\" >-0.01</td>\n                        <td id=\"T_81af40dc_0c0e_11eb_9e18_f0ad8b56ca4crow8_col7\" class=\"data row8 col7\" >0.00</td>\n                        <td id=\"T_81af40dc_0c0e_11eb_9e18_f0ad8b56ca4crow8_col8\" class=\"data row8 col8\" >0.00</td>\n                        <td id=\"T_81af40dc_0c0e_11eb_9e18_f0ad8b56ca4crow8_col9\" class=\"data row8 col9\" >-0.00</td>\n                        <td id=\"T_81af40dc_0c0e_11eb_9e18_f0ad8b56ca4crow8_col10\" class=\"data row8 col10\" >-0.00</td>\n                        <td id=\"T_81af40dc_0c0e_11eb_9e18_f0ad8b56ca4crow8_col11\" class=\"data row8 col11\" >-0.00</td>\n                        <td id=\"T_81af40dc_0c0e_11eb_9e18_f0ad8b56ca4crow8_col12\" class=\"data row8 col12\" >0.00</td>\n                        <td id=\"T_81af40dc_0c0e_11eb_9e18_f0ad8b56ca4crow8_col13\" class=\"data row8 col13\" >-0.00</td>\n                        <td id=\"T_81af40dc_0c0e_11eb_9e18_f0ad8b56ca4crow8_col14\" class=\"data row8 col14\" >-0.00</td>\n                        <td id=\"T_81af40dc_0c0e_11eb_9e18_f0ad8b56ca4crow8_col15\" class=\"data row8 col15\" >-0.00</td>\n                        <td id=\"T_81af40dc_0c0e_11eb_9e18_f0ad8b56ca4crow8_col16\" class=\"data row8 col16\" >0.00</td>\n            </tr>\n            <tr>\n                        <th id=\"T_81af40dc_0c0e_11eb_9e18_f0ad8b56ca4clevel0_row9\" class=\"row_heading level0 row9\" >9</th>\n                        <td id=\"T_81af40dc_0c0e_11eb_9e18_f0ad8b56ca4crow9_col0\" class=\"data row9 col0\" >0.00</td>\n                        <td id=\"T_81af40dc_0c0e_11eb_9e18_f0ad8b56ca4crow9_col1\" class=\"data row9 col1\" >0.00</td>\n                        <td id=\"T_81af40dc_0c0e_11eb_9e18_f0ad8b56ca4crow9_col2\" class=\"data row9 col2\" >0.00</td>\n                        <td id=\"T_81af40dc_0c0e_11eb_9e18_f0ad8b56ca4crow9_col3\" class=\"data row9 col3\" >0.00</td>\n                        <td id=\"T_81af40dc_0c0e_11eb_9e18_f0ad8b56ca4crow9_col4\" class=\"data row9 col4\" >0.00</td>\n                        <td id=\"T_81af40dc_0c0e_11eb_9e18_f0ad8b56ca4crow9_col5\" class=\"data row9 col5\" >-0.00</td>\n                        <td id=\"T_81af40dc_0c0e_11eb_9e18_f0ad8b56ca4crow9_col6\" class=\"data row9 col6\" >-0.00</td>\n                        <td id=\"T_81af40dc_0c0e_11eb_9e18_f0ad8b56ca4crow9_col7\" class=\"data row9 col7\" >-0.00</td>\n                        <td id=\"T_81af40dc_0c0e_11eb_9e18_f0ad8b56ca4crow9_col8\" class=\"data row9 col8\" >-0.00</td>\n                        <td id=\"T_81af40dc_0c0e_11eb_9e18_f0ad8b56ca4crow9_col9\" class=\"data row9 col9\" >0.00</td>\n                        <td id=\"T_81af40dc_0c0e_11eb_9e18_f0ad8b56ca4crow9_col10\" class=\"data row9 col10\" >-0.00</td>\n                        <td id=\"T_81af40dc_0c0e_11eb_9e18_f0ad8b56ca4crow9_col11\" class=\"data row9 col11\" >-0.00</td>\n                        <td id=\"T_81af40dc_0c0e_11eb_9e18_f0ad8b56ca4crow9_col12\" class=\"data row9 col12\" >0.00</td>\n                        <td id=\"T_81af40dc_0c0e_11eb_9e18_f0ad8b56ca4crow9_col13\" class=\"data row9 col13\" >-0.00</td>\n                        <td id=\"T_81af40dc_0c0e_11eb_9e18_f0ad8b56ca4crow9_col14\" class=\"data row9 col14\" >-0.00</td>\n                        <td id=\"T_81af40dc_0c0e_11eb_9e18_f0ad8b56ca4crow9_col15\" class=\"data row9 col15\" >0.00</td>\n                        <td id=\"T_81af40dc_0c0e_11eb_9e18_f0ad8b56ca4crow9_col16\" class=\"data row9 col16\" >-0.00</td>\n            </tr>\n            <tr>\n                        <th id=\"T_81af40dc_0c0e_11eb_9e18_f0ad8b56ca4clevel0_row10\" class=\"row_heading level0 row10\" >10</th>\n                        <td id=\"T_81af40dc_0c0e_11eb_9e18_f0ad8b56ca4crow10_col0\" class=\"data row10 col0\" >-0.00</td>\n                        <td id=\"T_81af40dc_0c0e_11eb_9e18_f0ad8b56ca4crow10_col1\" class=\"data row10 col1\" >-0.00</td>\n                        <td id=\"T_81af40dc_0c0e_11eb_9e18_f0ad8b56ca4crow10_col2\" class=\"data row10 col2\" >-0.00</td>\n                        <td id=\"T_81af40dc_0c0e_11eb_9e18_f0ad8b56ca4crow10_col3\" class=\"data row10 col3\" >-0.00</td>\n                        <td id=\"T_81af40dc_0c0e_11eb_9e18_f0ad8b56ca4crow10_col4\" class=\"data row10 col4\" >-0.00</td>\n                        <td id=\"T_81af40dc_0c0e_11eb_9e18_f0ad8b56ca4crow10_col5\" class=\"data row10 col5\" >0.00</td>\n                        <td id=\"T_81af40dc_0c0e_11eb_9e18_f0ad8b56ca4crow10_col6\" class=\"data row10 col6\" >-0.00</td>\n                        <td id=\"T_81af40dc_0c0e_11eb_9e18_f0ad8b56ca4crow10_col7\" class=\"data row10 col7\" >-0.00</td>\n                        <td id=\"T_81af40dc_0c0e_11eb_9e18_f0ad8b56ca4crow10_col8\" class=\"data row10 col8\" >-0.00</td>\n                        <td id=\"T_81af40dc_0c0e_11eb_9e18_f0ad8b56ca4crow10_col9\" class=\"data row10 col9\" >-0.00</td>\n                        <td id=\"T_81af40dc_0c0e_11eb_9e18_f0ad8b56ca4crow10_col10\" class=\"data row10 col10\" >0.00</td>\n                        <td id=\"T_81af40dc_0c0e_11eb_9e18_f0ad8b56ca4crow10_col11\" class=\"data row10 col11\" >0.00</td>\n                        <td id=\"T_81af40dc_0c0e_11eb_9e18_f0ad8b56ca4crow10_col12\" class=\"data row10 col12\" >-0.00</td>\n                        <td id=\"T_81af40dc_0c0e_11eb_9e18_f0ad8b56ca4crow10_col13\" class=\"data row10 col13\" >-0.00</td>\n                        <td id=\"T_81af40dc_0c0e_11eb_9e18_f0ad8b56ca4crow10_col14\" class=\"data row10 col14\" >-0.00</td>\n                        <td id=\"T_81af40dc_0c0e_11eb_9e18_f0ad8b56ca4crow10_col15\" class=\"data row10 col15\" >0.00</td>\n                        <td id=\"T_81af40dc_0c0e_11eb_9e18_f0ad8b56ca4crow10_col16\" class=\"data row10 col16\" >0.00</td>\n            </tr>\n            <tr>\n                        <th id=\"T_81af40dc_0c0e_11eb_9e18_f0ad8b56ca4clevel0_row11\" class=\"row_heading level0 row11\" >11</th>\n                        <td id=\"T_81af40dc_0c0e_11eb_9e18_f0ad8b56ca4crow11_col0\" class=\"data row11 col0\" >-0.03</td>\n                        <td id=\"T_81af40dc_0c0e_11eb_9e18_f0ad8b56ca4crow11_col1\" class=\"data row11 col1\" >-0.00</td>\n                        <td id=\"T_81af40dc_0c0e_11eb_9e18_f0ad8b56ca4crow11_col2\" class=\"data row11 col2\" >-0.00</td>\n                        <td id=\"T_81af40dc_0c0e_11eb_9e18_f0ad8b56ca4crow11_col3\" class=\"data row11 col3\" >-0.00</td>\n                        <td id=\"T_81af40dc_0c0e_11eb_9e18_f0ad8b56ca4crow11_col4\" class=\"data row11 col4\" >0.00</td>\n                        <td id=\"T_81af40dc_0c0e_11eb_9e18_f0ad8b56ca4crow11_col5\" class=\"data row11 col5\" >0.00</td>\n                        <td id=\"T_81af40dc_0c0e_11eb_9e18_f0ad8b56ca4crow11_col6\" class=\"data row11 col6\" >0.01</td>\n                        <td id=\"T_81af40dc_0c0e_11eb_9e18_f0ad8b56ca4crow11_col7\" class=\"data row11 col7\" >0.00</td>\n                        <td id=\"T_81af40dc_0c0e_11eb_9e18_f0ad8b56ca4crow11_col8\" class=\"data row11 col8\" >-0.00</td>\n                        <td id=\"T_81af40dc_0c0e_11eb_9e18_f0ad8b56ca4crow11_col9\" class=\"data row11 col9\" >-0.00</td>\n                        <td id=\"T_81af40dc_0c0e_11eb_9e18_f0ad8b56ca4crow11_col10\" class=\"data row11 col10\" >0.00</td>\n                        <td id=\"T_81af40dc_0c0e_11eb_9e18_f0ad8b56ca4crow11_col11\" class=\"data row11 col11\" >0.00</td>\n                        <td id=\"T_81af40dc_0c0e_11eb_9e18_f0ad8b56ca4crow11_col12\" class=\"data row11 col12\" >0.00</td>\n                        <td id=\"T_81af40dc_0c0e_11eb_9e18_f0ad8b56ca4crow11_col13\" class=\"data row11 col13\" >0.00</td>\n                        <td id=\"T_81af40dc_0c0e_11eb_9e18_f0ad8b56ca4crow11_col14\" class=\"data row11 col14\" >0.00</td>\n                        <td id=\"T_81af40dc_0c0e_11eb_9e18_f0ad8b56ca4crow11_col15\" class=\"data row11 col15\" >0.00</td>\n                        <td id=\"T_81af40dc_0c0e_11eb_9e18_f0ad8b56ca4crow11_col16\" class=\"data row11 col16\" >-0.00</td>\n            </tr>\n            <tr>\n                        <th id=\"T_81af40dc_0c0e_11eb_9e18_f0ad8b56ca4clevel0_row12\" class=\"row_heading level0 row12\" >12</th>\n                        <td id=\"T_81af40dc_0c0e_11eb_9e18_f0ad8b56ca4crow12_col0\" class=\"data row12 col0\" >0.01</td>\n                        <td id=\"T_81af40dc_0c0e_11eb_9e18_f0ad8b56ca4crow12_col1\" class=\"data row12 col1\" >-0.00</td>\n                        <td id=\"T_81af40dc_0c0e_11eb_9e18_f0ad8b56ca4crow12_col2\" class=\"data row12 col2\" >0.00</td>\n                        <td id=\"T_81af40dc_0c0e_11eb_9e18_f0ad8b56ca4crow12_col3\" class=\"data row12 col3\" >0.00</td>\n                        <td id=\"T_81af40dc_0c0e_11eb_9e18_f0ad8b56ca4crow12_col4\" class=\"data row12 col4\" >0.00</td>\n                        <td id=\"T_81af40dc_0c0e_11eb_9e18_f0ad8b56ca4crow12_col5\" class=\"data row12 col5\" >-0.00</td>\n                        <td id=\"T_81af40dc_0c0e_11eb_9e18_f0ad8b56ca4crow12_col6\" class=\"data row12 col6\" >0.01</td>\n                        <td id=\"T_81af40dc_0c0e_11eb_9e18_f0ad8b56ca4crow12_col7\" class=\"data row12 col7\" >0.00</td>\n                        <td id=\"T_81af40dc_0c0e_11eb_9e18_f0ad8b56ca4crow12_col8\" class=\"data row12 col8\" >0.00</td>\n                        <td id=\"T_81af40dc_0c0e_11eb_9e18_f0ad8b56ca4crow12_col9\" class=\"data row12 col9\" >0.00</td>\n                        <td id=\"T_81af40dc_0c0e_11eb_9e18_f0ad8b56ca4crow12_col10\" class=\"data row12 col10\" >-0.00</td>\n                        <td id=\"T_81af40dc_0c0e_11eb_9e18_f0ad8b56ca4crow12_col11\" class=\"data row12 col11\" >0.00</td>\n                        <td id=\"T_81af40dc_0c0e_11eb_9e18_f0ad8b56ca4crow12_col12\" class=\"data row12 col12\" >0.01</td>\n                        <td id=\"T_81af40dc_0c0e_11eb_9e18_f0ad8b56ca4crow12_col13\" class=\"data row12 col13\" >0.00</td>\n                        <td id=\"T_81af40dc_0c0e_11eb_9e18_f0ad8b56ca4crow12_col14\" class=\"data row12 col14\" >0.00</td>\n                        <td id=\"T_81af40dc_0c0e_11eb_9e18_f0ad8b56ca4crow12_col15\" class=\"data row12 col15\" >-0.00</td>\n                        <td id=\"T_81af40dc_0c0e_11eb_9e18_f0ad8b56ca4crow12_col16\" class=\"data row12 col16\" >0.00</td>\n            </tr>\n            <tr>\n                        <th id=\"T_81af40dc_0c0e_11eb_9e18_f0ad8b56ca4clevel0_row13\" class=\"row_heading level0 row13\" >13</th>\n                        <td id=\"T_81af40dc_0c0e_11eb_9e18_f0ad8b56ca4crow13_col0\" class=\"data row13 col0\" >-0.00</td>\n                        <td id=\"T_81af40dc_0c0e_11eb_9e18_f0ad8b56ca4crow13_col1\" class=\"data row13 col1\" >-0.00</td>\n                        <td id=\"T_81af40dc_0c0e_11eb_9e18_f0ad8b56ca4crow13_col2\" class=\"data row13 col2\" >-0.00</td>\n                        <td id=\"T_81af40dc_0c0e_11eb_9e18_f0ad8b56ca4crow13_col3\" class=\"data row13 col3\" >-0.00</td>\n                        <td id=\"T_81af40dc_0c0e_11eb_9e18_f0ad8b56ca4crow13_col4\" class=\"data row13 col4\" >0.00</td>\n                        <td id=\"T_81af40dc_0c0e_11eb_9e18_f0ad8b56ca4crow13_col5\" class=\"data row13 col5\" >0.00</td>\n                        <td id=\"T_81af40dc_0c0e_11eb_9e18_f0ad8b56ca4crow13_col6\" class=\"data row13 col6\" >0.00</td>\n                        <td id=\"T_81af40dc_0c0e_11eb_9e18_f0ad8b56ca4crow13_col7\" class=\"data row13 col7\" >0.00</td>\n                        <td id=\"T_81af40dc_0c0e_11eb_9e18_f0ad8b56ca4crow13_col8\" class=\"data row13 col8\" >-0.00</td>\n                        <td id=\"T_81af40dc_0c0e_11eb_9e18_f0ad8b56ca4crow13_col9\" class=\"data row13 col9\" >-0.00</td>\n                        <td id=\"T_81af40dc_0c0e_11eb_9e18_f0ad8b56ca4crow13_col10\" class=\"data row13 col10\" >-0.00</td>\n                        <td id=\"T_81af40dc_0c0e_11eb_9e18_f0ad8b56ca4crow13_col11\" class=\"data row13 col11\" >0.00</td>\n                        <td id=\"T_81af40dc_0c0e_11eb_9e18_f0ad8b56ca4crow13_col12\" class=\"data row13 col12\" >0.00</td>\n                        <td id=\"T_81af40dc_0c0e_11eb_9e18_f0ad8b56ca4crow13_col13\" class=\"data row13 col13\" >0.00</td>\n                        <td id=\"T_81af40dc_0c0e_11eb_9e18_f0ad8b56ca4crow13_col14\" class=\"data row13 col14\" >0.00</td>\n                        <td id=\"T_81af40dc_0c0e_11eb_9e18_f0ad8b56ca4crow13_col15\" class=\"data row13 col15\" >-0.00</td>\n                        <td id=\"T_81af40dc_0c0e_11eb_9e18_f0ad8b56ca4crow13_col16\" class=\"data row13 col16\" >-0.00</td>\n            </tr>\n            <tr>\n                        <th id=\"T_81af40dc_0c0e_11eb_9e18_f0ad8b56ca4clevel0_row14\" class=\"row_heading level0 row14\" >14</th>\n                        <td id=\"T_81af40dc_0c0e_11eb_9e18_f0ad8b56ca4crow14_col0\" class=\"data row14 col0\" >-0.00</td>\n                        <td id=\"T_81af40dc_0c0e_11eb_9e18_f0ad8b56ca4crow14_col1\" class=\"data row14 col1\" >-0.00</td>\n                        <td id=\"T_81af40dc_0c0e_11eb_9e18_f0ad8b56ca4crow14_col2\" class=\"data row14 col2\" >-0.00</td>\n                        <td id=\"T_81af40dc_0c0e_11eb_9e18_f0ad8b56ca4crow14_col3\" class=\"data row14 col3\" >-0.00</td>\n                        <td id=\"T_81af40dc_0c0e_11eb_9e18_f0ad8b56ca4crow14_col4\" class=\"data row14 col4\" >0.00</td>\n                        <td id=\"T_81af40dc_0c0e_11eb_9e18_f0ad8b56ca4crow14_col5\" class=\"data row14 col5\" >0.00</td>\n                        <td id=\"T_81af40dc_0c0e_11eb_9e18_f0ad8b56ca4crow14_col6\" class=\"data row14 col6\" >0.00</td>\n                        <td id=\"T_81af40dc_0c0e_11eb_9e18_f0ad8b56ca4crow14_col7\" class=\"data row14 col7\" >0.00</td>\n                        <td id=\"T_81af40dc_0c0e_11eb_9e18_f0ad8b56ca4crow14_col8\" class=\"data row14 col8\" >-0.00</td>\n                        <td id=\"T_81af40dc_0c0e_11eb_9e18_f0ad8b56ca4crow14_col9\" class=\"data row14 col9\" >-0.00</td>\n                        <td id=\"T_81af40dc_0c0e_11eb_9e18_f0ad8b56ca4crow14_col10\" class=\"data row14 col10\" >-0.00</td>\n                        <td id=\"T_81af40dc_0c0e_11eb_9e18_f0ad8b56ca4crow14_col11\" class=\"data row14 col11\" >0.00</td>\n                        <td id=\"T_81af40dc_0c0e_11eb_9e18_f0ad8b56ca4crow14_col12\" class=\"data row14 col12\" >0.00</td>\n                        <td id=\"T_81af40dc_0c0e_11eb_9e18_f0ad8b56ca4crow14_col13\" class=\"data row14 col13\" >0.00</td>\n                        <td id=\"T_81af40dc_0c0e_11eb_9e18_f0ad8b56ca4crow14_col14\" class=\"data row14 col14\" >0.00</td>\n                        <td id=\"T_81af40dc_0c0e_11eb_9e18_f0ad8b56ca4crow14_col15\" class=\"data row14 col15\" >-0.00</td>\n                        <td id=\"T_81af40dc_0c0e_11eb_9e18_f0ad8b56ca4crow14_col16\" class=\"data row14 col16\" >-0.00</td>\n            </tr>\n            <tr>\n                        <th id=\"T_81af40dc_0c0e_11eb_9e18_f0ad8b56ca4clevel0_row15\" class=\"row_heading level0 row15\" >15</th>\n                        <td id=\"T_81af40dc_0c0e_11eb_9e18_f0ad8b56ca4crow15_col0\" class=\"data row15 col0\" >-0.00</td>\n                        <td id=\"T_81af40dc_0c0e_11eb_9e18_f0ad8b56ca4crow15_col1\" class=\"data row15 col1\" >-0.00</td>\n                        <td id=\"T_81af40dc_0c0e_11eb_9e18_f0ad8b56ca4crow15_col2\" class=\"data row15 col2\" >-0.00</td>\n                        <td id=\"T_81af40dc_0c0e_11eb_9e18_f0ad8b56ca4crow15_col3\" class=\"data row15 col3\" >0.00</td>\n                        <td id=\"T_81af40dc_0c0e_11eb_9e18_f0ad8b56ca4crow15_col4\" class=\"data row15 col4\" >-0.00</td>\n                        <td id=\"T_81af40dc_0c0e_11eb_9e18_f0ad8b56ca4crow15_col5\" class=\"data row15 col5\" >0.00</td>\n                        <td id=\"T_81af40dc_0c0e_11eb_9e18_f0ad8b56ca4crow15_col6\" class=\"data row15 col6\" >-0.00</td>\n                        <td id=\"T_81af40dc_0c0e_11eb_9e18_f0ad8b56ca4crow15_col7\" class=\"data row15 col7\" >-0.00</td>\n                        <td id=\"T_81af40dc_0c0e_11eb_9e18_f0ad8b56ca4crow15_col8\" class=\"data row15 col8\" >-0.00</td>\n                        <td id=\"T_81af40dc_0c0e_11eb_9e18_f0ad8b56ca4crow15_col9\" class=\"data row15 col9\" >0.00</td>\n                        <td id=\"T_81af40dc_0c0e_11eb_9e18_f0ad8b56ca4crow15_col10\" class=\"data row15 col10\" >0.00</td>\n                        <td id=\"T_81af40dc_0c0e_11eb_9e18_f0ad8b56ca4crow15_col11\" class=\"data row15 col11\" >0.00</td>\n                        <td id=\"T_81af40dc_0c0e_11eb_9e18_f0ad8b56ca4crow15_col12\" class=\"data row15 col12\" >-0.00</td>\n                        <td id=\"T_81af40dc_0c0e_11eb_9e18_f0ad8b56ca4crow15_col13\" class=\"data row15 col13\" >-0.00</td>\n                        <td id=\"T_81af40dc_0c0e_11eb_9e18_f0ad8b56ca4crow15_col14\" class=\"data row15 col14\" >-0.00</td>\n                        <td id=\"T_81af40dc_0c0e_11eb_9e18_f0ad8b56ca4crow15_col15\" class=\"data row15 col15\" >0.00</td>\n                        <td id=\"T_81af40dc_0c0e_11eb_9e18_f0ad8b56ca4crow15_col16\" class=\"data row15 col16\" >0.00</td>\n            </tr>\n            <tr>\n                        <th id=\"T_81af40dc_0c0e_11eb_9e18_f0ad8b56ca4clevel0_row16\" class=\"row_heading level0 row16\" >16</th>\n                        <td id=\"T_81af40dc_0c0e_11eb_9e18_f0ad8b56ca4crow16_col0\" class=\"data row16 col0\" >0.00</td>\n                        <td id=\"T_81af40dc_0c0e_11eb_9e18_f0ad8b56ca4crow16_col1\" class=\"data row16 col1\" >0.00</td>\n                        <td id=\"T_81af40dc_0c0e_11eb_9e18_f0ad8b56ca4crow16_col2\" class=\"data row16 col2\" >0.00</td>\n                        <td id=\"T_81af40dc_0c0e_11eb_9e18_f0ad8b56ca4crow16_col3\" class=\"data row16 col3\" >0.00</td>\n                        <td id=\"T_81af40dc_0c0e_11eb_9e18_f0ad8b56ca4crow16_col4\" class=\"data row16 col4\" >-0.00</td>\n                        <td id=\"T_81af40dc_0c0e_11eb_9e18_f0ad8b56ca4crow16_col5\" class=\"data row16 col5\" >-0.00</td>\n                        <td id=\"T_81af40dc_0c0e_11eb_9e18_f0ad8b56ca4crow16_col6\" class=\"data row16 col6\" >0.00</td>\n                        <td id=\"T_81af40dc_0c0e_11eb_9e18_f0ad8b56ca4crow16_col7\" class=\"data row16 col7\" >-0.00</td>\n                        <td id=\"T_81af40dc_0c0e_11eb_9e18_f0ad8b56ca4crow16_col8\" class=\"data row16 col8\" >0.00</td>\n                        <td id=\"T_81af40dc_0c0e_11eb_9e18_f0ad8b56ca4crow16_col9\" class=\"data row16 col9\" >-0.00</td>\n                        <td id=\"T_81af40dc_0c0e_11eb_9e18_f0ad8b56ca4crow16_col10\" class=\"data row16 col10\" >0.00</td>\n                        <td id=\"T_81af40dc_0c0e_11eb_9e18_f0ad8b56ca4crow16_col11\" class=\"data row16 col11\" >-0.00</td>\n                        <td id=\"T_81af40dc_0c0e_11eb_9e18_f0ad8b56ca4crow16_col12\" class=\"data row16 col12\" >0.00</td>\n                        <td id=\"T_81af40dc_0c0e_11eb_9e18_f0ad8b56ca4crow16_col13\" class=\"data row16 col13\" >-0.00</td>\n                        <td id=\"T_81af40dc_0c0e_11eb_9e18_f0ad8b56ca4crow16_col14\" class=\"data row16 col14\" >-0.00</td>\n                        <td id=\"T_81af40dc_0c0e_11eb_9e18_f0ad8b56ca4crow16_col15\" class=\"data row16 col15\" >0.00</td>\n                        <td id=\"T_81af40dc_0c0e_11eb_9e18_f0ad8b56ca4crow16_col16\" class=\"data row16 col16\" >0.00</td>\n            </tr>\n    </tbody></table>"
     },
     "metadata": {},
     "execution_count": 20
    }
   ],
   "source": [
    "cov = np.cov(df, rowvar=False)\n",
    "cov_inv = np.linalg.inv(cov)\n",
    "df_cov_inv = pd.DataFrame(cov_inv).style.set_precision(2)\n",
    "df_cov_inv "
   ]
  },
  {
   "source": [
    "## Variables que se pueden eliminar con una correlacion >= |0.7|: "
   ],
   "cell_type": "markdown",
   "metadata": {}
  },
  {
   "source": [
    "Alto coeficiente en corr y partial_corr 11-8  13-15"
   ],
   "cell_type": "markdown",
   "metadata": {}
  }
 ]
}